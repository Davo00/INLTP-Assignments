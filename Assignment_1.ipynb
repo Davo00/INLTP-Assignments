{
 "cells": [
  {
   "cell_type": "markdown",
   "id": "f3f96371",
   "metadata": {
    "colab_type": "text",
    "id": "view-in-github"
   },
   "source": [
    "<a href=\"https://colab.research.google.com/github/Davo00/INLTP-Assignments/blob/main/Assignment_1.ipynb\" target=\"_parent\"><img src=\"https://colab.research.google.com/assets/colab-badge.svg\" alt=\"Open In Colab\"/></a>"
   ]
  },
  {
   "cell_type": "markdown",
   "id": "be9f7653",
   "metadata": {
    "id": "be9f7653"
   },
   "source": [
    "**Heidelberg University**\n",
    "\n",
    "**Data Science  Group**\n",
    "    \n",
    "Prof. Dr. Michael Gertz  \n",
    "\n",
    "Ashish Chouhan, Satya Almasian, John Ziegler, Jayson Salazar, Nicolas Reuter\n",
    "    \n",
    "October 30, 2023\n",
    "    \n",
    "Natural Language Processing with Transformers\n",
    "\n",
    "Winter Semster 2023/2024     \n",
    "***"
   ]
  },
  {
   "cell_type": "markdown",
   "id": "258e9648",
   "metadata": {
    "id": "258e9648"
   },
   "source": [
    "# **Assignment 1: “Word Embeddings and Probabilistic Language Models”**\n",
    "**Due**: Monday, November 13, 2pm, via [Moodle](https://moodle.uni-heidelberg.de/course/view.php?id=19251)\n",
    "\n"
   ]
  },
  {
   "cell_type": "markdown",
   "id": "fc27ad9e",
   "metadata": {
    "id": "fc27ad9e"
   },
   "source": [
    "### **Submission Guidelines**\n",
    "\n",
    "- Solutions need to be uploaded as a **single** Jupyter notebook. You will find several pre-filled code segments in the notebook, your task is to fill in the missing cells.\n",
    "- For the written solution, use LaTeX in markdown inside the same notebook. Do **not** hand in a separate file for it.\n",
    "- Download the .zip file containing the dataset but do **not** upload it with your solution.\n",
    "- It is sufficient if one person per group uploads the solution to Moodle, but make sure that the complete names of all team members are given in the notebook.\n",
    "\n",
    "***"
   ]
  },
  {
   "cell_type": "markdown",
   "id": "e322e8b0",
   "metadata": {
    "id": "e322e8b0"
   },
   "source": [
    "## **Task 1: F.R.I.E.N.D.S and  Word2Vec (Grade (2 + 2 + 4) = 8)**"
   ]
  },
  {
   "cell_type": "markdown",
   "id": "b4ca26ac",
   "metadata": {
    "id": "b4ca26ac"
   },
   "source": [
    "[Friends](https://en.wikipedia.org/wiki/Friends) is an American television sitcom, created by David Crane and Marta Kauffman. In this assignment we will use the transcripts from the show to train a Word2Vec model using the [Gensim](https://radimrehurek.com/gensim/) library."
   ]
  },
  {
   "cell_type": "markdown",
   "id": "fc29cb37",
   "metadata": {
    "id": "fc29cb37"
   },
   "source": [
    "### Subtask 1: Pre-processing\n",
    "We start by loading and cleaning the data. Download the dataset for this assignment and load the `friends_quotes.csv` using pandas. The dataset is from Kaggle (https://www.kaggle.com/ryanstonebraker/friends-transcript) and is created for building a classifier that  determines which friend from the Friend's TV Show would be most likely to say a quote. The column `quote` contains a line from the movie and the `author` is the one who said it. Since these are the only two columns we need, we remove the rest and only keep these two columns."
   ]
  },
  {
   "cell_type": "code",
   "execution_count": null,
   "id": "787e2059",
   "metadata": {
    "id": "787e2059"
   },
   "outputs": [],
   "source": [
    "import re\n",
    "import pandas as pd\n",
    "from collections import defaultdict\n",
    "import spacy\n",
    "import logging  # Setting up the loggings to monitor gensim\n",
    "logging.basicConfig(format=\"%(levelname)s - %(asctime)s: %(message)s\", datefmt= '%H:%M:%S', level=logging.INFO)"
   ]
  },
  {
   "cell_type": "code",
   "execution_count": null,
   "id": "7e7e8c7d",
   "metadata": {
    "id": "7e7e8c7d",
    "scrolled": true
   },
   "outputs": [],
   "source": [
    "df = ### Load the data ####\n",
    "### filter out columns ###\n",
    "df.head(10)"
   ]
  },
  {
   "cell_type": "markdown",
   "id": "be5fc72f",
   "metadata": {
    "id": "be5fc72f"
   },
   "source": [
    "Fortunately, there is no missing data, so we do not need to worry about that."
   ]
  },
  {
   "cell_type": "code",
   "execution_count": null,
   "id": "dc3aea10",
   "metadata": {
    "id": "dc3aea10"
   },
   "outputs": [],
   "source": [
    "df.isnull().sum() # check for missing data"
   ]
  },
  {
   "cell_type": "markdown",
   "id": "26a249b1",
   "metadata": {
    "id": "26a249b1"
   },
   "source": [
    "Use SpaCy to preprocess the text. For this, perform the following steps:\n",
    "- lowercase the words\n",
    "- remove the stopwords and single characters\n",
    "- use regex to remove non-alphabetic characters (anything that is not a number or alphabet including punctuations), in other words only keep \"a\" to \"z\" and digits.\n",
    "- remove lines that have less than 4 words, since they cannot contribute much to the training process.\n",
    "\n",
    "Please do not add any additional steps on your own or additional cleaning as we want to achieve comparable results."
   ]
  },
  {
   "cell_type": "code",
   "execution_count": 17,
   "id": "5491d9f0",
   "metadata": {
    "id": "5491d9f0"
   },
   "outputs": [
    {
     "ename": "OSError",
     "evalue": "[E050] Can't find model 'en_core_web_sm'. It doesn't seem to be a Python package or a valid path to a data directory.",
     "output_type": "error",
     "traceback": [
      "\u001b[0;31m---------------------------------------------------------------------------\u001b[0m",
      "\u001b[0;31mOSError\u001b[0m                                   Traceback (most recent call last)",
      "\u001b[1;32m/Users/leonremke/Library/Mobile Documents/com~apple~CloudDocs/UNI/Master_Heidelberg/WS23_24/Transformer/Assignments/INLTP-Assignments/Assignment_1.ipynb Cell 13\u001b[0m line \u001b[0;36m1\n\u001b[0;32m----> <a href='vscode-notebook-cell:/Users/leonremke/Library/Mobile%20Documents/com~apple~CloudDocs/UNI/Master_Heidelberg/WS23_24/Transformer/Assignments/INLTP-Assignments/Assignment_1.ipynb#X15sZmlsZQ%3D%3D?line=0'>1</a>\u001b[0m nlp \u001b[39m=\u001b[39m spacy\u001b[39m.\u001b[39;49mload(\u001b[39m\"\u001b[39;49m\u001b[39men_core_web_sm\u001b[39;49m\u001b[39m\"\u001b[39;49m, disable\u001b[39m=\u001b[39;49m[\u001b[39m\"\u001b[39;49m\u001b[39mtagger\u001b[39;49m\u001b[39m\"\u001b[39;49m, \u001b[39m\"\u001b[39;49m\u001b[39mparser\u001b[39;49m\u001b[39m\"\u001b[39;49m,\u001b[39m\"\u001b[39;49m\u001b[39mner\u001b[39;49m\u001b[39m\"\u001b[39;49m])\n\u001b[1;32m      <a href='vscode-notebook-cell:/Users/leonremke/Library/Mobile%20Documents/com~apple~CloudDocs/UNI/Master_Heidelberg/WS23_24/Transformer/Assignments/INLTP-Assignments/Assignment_1.ipynb#X15sZmlsZQ%3D%3D?line=1'>2</a>\u001b[0m stopwords \u001b[39m=\u001b[39m spacy\u001b[39m.\u001b[39mlang\u001b[39m.\u001b[39men\u001b[39m.\u001b[39mstop_words\u001b[39m.\u001b[39mSTOP_WORDS\n\u001b[1;32m      <a href='vscode-notebook-cell:/Users/leonremke/Library/Mobile%20Documents/com~apple~CloudDocs/UNI/Master_Heidelberg/WS23_24/Transformer/Assignments/INLTP-Assignments/Assignment_1.ipynb#X15sZmlsZQ%3D%3D?line=2'>3</a>\u001b[0m df[\u001b[39m\"\u001b[39m\u001b[39mquote\u001b[39m\u001b[39m\"\u001b[39m]\u001b[39m# lowercase and remove non-alphabetic characters\u001b[39;00m\n",
      "File \u001b[0;32m~/miniconda3/envs/bomberman/lib/python3.11/site-packages/spacy/__init__.py:51\u001b[0m, in \u001b[0;36mload\u001b[0;34m(name, vocab, disable, enable, exclude, config)\u001b[0m\n\u001b[1;32m     27\u001b[0m \u001b[39mdef\u001b[39;00m \u001b[39mload\u001b[39m(\n\u001b[1;32m     28\u001b[0m     name: Union[\u001b[39mstr\u001b[39m, Path],\n\u001b[1;32m     29\u001b[0m     \u001b[39m*\u001b[39m,\n\u001b[0;32m   (...)\u001b[0m\n\u001b[1;32m     34\u001b[0m     config: Union[Dict[\u001b[39mstr\u001b[39m, Any], Config] \u001b[39m=\u001b[39m util\u001b[39m.\u001b[39mSimpleFrozenDict(),\n\u001b[1;32m     35\u001b[0m ) \u001b[39m-\u001b[39m\u001b[39m>\u001b[39m Language:\n\u001b[1;32m     36\u001b[0m \u001b[39m    \u001b[39m\u001b[39m\"\"\"Load a spaCy model from an installed package or a local path.\u001b[39;00m\n\u001b[1;32m     37\u001b[0m \n\u001b[1;32m     38\u001b[0m \u001b[39m    name (str): Package name or model path.\u001b[39;00m\n\u001b[0;32m   (...)\u001b[0m\n\u001b[1;32m     49\u001b[0m \u001b[39m    RETURNS (Language): The loaded nlp object.\u001b[39;00m\n\u001b[1;32m     50\u001b[0m \u001b[39m    \"\"\"\u001b[39;00m\n\u001b[0;32m---> 51\u001b[0m     \u001b[39mreturn\u001b[39;00m util\u001b[39m.\u001b[39;49mload_model(\n\u001b[1;32m     52\u001b[0m         name,\n\u001b[1;32m     53\u001b[0m         vocab\u001b[39m=\u001b[39;49mvocab,\n\u001b[1;32m     54\u001b[0m         disable\u001b[39m=\u001b[39;49mdisable,\n\u001b[1;32m     55\u001b[0m         enable\u001b[39m=\u001b[39;49menable,\n\u001b[1;32m     56\u001b[0m         exclude\u001b[39m=\u001b[39;49mexclude,\n\u001b[1;32m     57\u001b[0m         config\u001b[39m=\u001b[39;49mconfig,\n\u001b[1;32m     58\u001b[0m     )\n",
      "File \u001b[0;32m~/miniconda3/envs/bomberman/lib/python3.11/site-packages/spacy/util.py:472\u001b[0m, in \u001b[0;36mload_model\u001b[0;34m(name, vocab, disable, enable, exclude, config)\u001b[0m\n\u001b[1;32m    470\u001b[0m \u001b[39mif\u001b[39;00m name \u001b[39min\u001b[39;00m OLD_MODEL_SHORTCUTS:\n\u001b[1;32m    471\u001b[0m     \u001b[39mraise\u001b[39;00m \u001b[39mIOError\u001b[39;00m(Errors\u001b[39m.\u001b[39mE941\u001b[39m.\u001b[39mformat(name\u001b[39m=\u001b[39mname, full\u001b[39m=\u001b[39mOLD_MODEL_SHORTCUTS[name]))  \u001b[39m# type: ignore[index]\u001b[39;00m\n\u001b[0;32m--> 472\u001b[0m \u001b[39mraise\u001b[39;00m \u001b[39mIOError\u001b[39;00m(Errors\u001b[39m.\u001b[39mE050\u001b[39m.\u001b[39mformat(name\u001b[39m=\u001b[39mname))\n",
      "\u001b[0;31mOSError\u001b[0m: [E050] Can't find model 'en_core_web_sm'. It doesn't seem to be a Python package or a valid path to a data directory."
     ]
    }
   ],
   "source": [
    "nlp = spacy.load(\"en_core_web_sm\", disable=[\"tagger\", \"parser\",\"ner\"])\n",
    "stopwords = spacy.lang.en.stop_words.STOP_WORDS\n",
    "df[\"quote\"]# lowercase and remove non-alphabetic characters\n",
    "quotes =[] # to save all the lines\n",
    "\n",
    "### Your Code ###"
   ]
  },
  {
   "cell_type": "markdown",
   "id": "6aaa2190",
   "metadata": {
    "id": "6aaa2190"
   },
   "source": [
    "The next step is to build the vocabulary of the words and word combinations we want to learn representations from. We choose a subset of the most frequent words and bigrams to represent our corpus.\n",
    "- Use the Gensim Phrases package to automatically detect common phrases (bigrams) from a list of lines from the previous step (`min_count=10`). Now words like New_York will be considered as one entity and character names like joey_tribbiani will be recognized.\n",
    "- Create a list of words/bigrams with their frequencies and choose the top 15.000 words for the vocabulary, in order to keep the computation time-limited and to choose the most important words."
   ]
  },
  {
   "cell_type": "code",
   "execution_count": null,
   "id": "a3059fd0",
   "metadata": {
    "id": "a3059fd0"
   },
   "outputs": [],
   "source": [
    "from gensim.models.phrases import Phrases\n",
    "words = #list of all words#\n",
    "phrases = #define the phraser for bi-gram creation#\n",
    "new_lines = #transform the lines#\n"
   ]
  },
  {
   "cell_type": "code",
   "execution_count": null,
   "id": "a9ca7541",
   "metadata": {
    "id": "a9ca7541"
   },
   "outputs": [],
   "source": [
    "### find the top words for the vocabulary###\n",
    "vocab=###top words ###"
   ]
  },
  {
   "cell_type": "code",
   "execution_count": null,
   "id": "9d08031d",
   "metadata": {
    "id": "9d08031d"
   },
   "outputs": [],
   "source": [
    "word_freq['central_perk']"
   ]
  },
  {
   "cell_type": "code",
   "execution_count": null,
   "id": "0882dc8c",
   "metadata": {
    "id": "0882dc8c"
   },
   "outputs": [],
   "source": [
    "word_freq['joey']"
   ]
  },
  {
   "cell_type": "markdown",
   "id": "15dfce56",
   "metadata": {
    "id": "15dfce56"
   },
   "source": [
    "### Subtask 2: Training the Model\n"
   ]
  },
  {
   "cell_type": "markdown",
   "id": "b59c94e0",
   "metadata": {
    "id": "b59c94e0"
   },
   "source": [
    "Use the Gensim implementation of Word2Vec to train a model on the scripts. The training can be divided into 3 stages:\n",
    "\n",
    "\n",
    "1) Set up your model with parameters; define your parameters in such a way that the following conditions are satisfied:\n",
    " - ignore all words that have a total frequency of less than 2.\n",
    " - dimensions of the embeddings: 100\n",
    " - initial learning rate (step size) of 0.03\n",
    " - 20 negative samples\n",
    " - window size 3\n",
    " - the learning rate in the training will decrease as you apply more and more updates. Most of the time when starting with gradient descent the initial steps can be larger, and as we get close to the local minima it is best to use smaller steps to avoid jumping over the local minima. This adjustment is done internally using a learning rate scheduler. Make sure that the smallest learning rate does not go below 0.0001.\n",
    " - set the threshold for configuring which higher-frequency words are randomly down-sampled to 6e-5. This parameter forces the sampling to choose the very frequent words less often in the sampling.\n",
    " - set the hashfunction of the word2vec to the given function.\n",
    " - train on a single worker to make sure you get the same result as ours."
   ]
  },
  {
   "cell_type": "code",
   "execution_count": null,
   "id": "dfbce0a2",
   "metadata": {
    "id": "dfbce0a2"
   },
   "outputs": [],
   "source": [
    "from gensim.models import Word2Vec\n",
    "def hash(astring):\n",
    "    return ord(astring[0])"
   ]
  },
  {
   "cell_type": "code",
   "execution_count": null,
   "id": "7c12a7a6",
   "metadata": {
    "id": "7c12a7a6"
   },
   "outputs": [],
   "source": [
    "w2v = ### your code ###"
   ]
  },
  {
   "cell_type": "markdown",
   "id": "03eba781",
   "metadata": {
    "id": "03eba781"
   },
   "source": [
    "2) Before training, Word2Vec requires us to build the vocabulary table by filtering out the unique words and doing some basic counts on them.\n",
    "Use the `build_vocab` function to process the data. If you look at the logs you can see the effect of `min_count` and `sample` on the word corpus."
   ]
  },
  {
   "cell_type": "code",
   "execution_count": null,
   "id": "d9795441",
   "metadata": {
    "id": "d9795441",
    "scrolled": true
   },
   "outputs": [],
   "source": [
    "w2v = ### your code ###"
   ]
  },
  {
   "cell_type": "markdown",
   "id": "aefdc06f",
   "metadata": {
    "id": "aefdc06f"
   },
   "source": [
    "3) Finally, we  train the model. Train the model for 100 epochs. This will take a while. As we do not plan to train the model any further, we call `init_sims()`, which will make the model much more memory-efficient by precomputing L2-norms of word weight vectors for further analysis."
   ]
  },
  {
   "cell_type": "code",
   "execution_count": null,
   "id": "0febaedc",
   "metadata": {
    "id": "0febaedc"
   },
   "outputs": [],
   "source": [
    "w2v = ### your code ###"
   ]
  },
  {
   "cell_type": "markdown",
   "id": "a0c86f82",
   "metadata": {
    "id": "a0c86f82"
   },
   "source": [
    "### Subtask 3: Exploring the Model\n"
   ]
  },
  {
   "cell_type": "markdown",
   "id": "377e1f70",
   "metadata": {
    "id": "377e1f70"
   },
   "source": [
    "As mentioned in the lecture, word embeddings are suited for similarity and analogy tasks. Let's explore some of that with our dataset:\n",
    "\n",
    "We look for the most similar words to the name of the famous coffee shop where most of the episodes took place, namely `central_perk` and also one of the characters `joey`. If you have followed the exercise correctly until now, you should see that words like `laying` are similar to `central_perk` and the other main characters are also considered similar to `joey`.\n",
    "\n"
   ]
  },
  {
   "cell_type": "code",
   "execution_count": null,
   "id": "b7074ffa",
   "metadata": {
    "id": "b7074ffa",
    "scrolled": true
   },
   "outputs": [],
   "source": [
    "###your code###"
   ]
  },
  {
   "cell_type": "code",
   "execution_count": null,
   "id": "2e66e435",
   "metadata": {
    "id": "2e66e435",
    "scrolled": true
   },
   "outputs": [],
   "source": [
    "###your code###"
   ]
  },
  {
   "cell_type": "markdown",
   "id": "e3591274",
   "metadata": {
    "id": "e3591274"
   },
   "source": [
    "Look at the similarity of `green` to `rachel` (her lastname) and `ross`  and `spaceship` (urelated). The first one should have a high and the second a low score. Finally, look at the similarity of `smelly_cat` ( a song from pheobe) and `song` the similarity should be high."
   ]
  },
  {
   "cell_type": "code",
   "execution_count": null,
   "id": "c5de6309",
   "metadata": {
    "id": "c5de6309"
   },
   "outputs": [],
   "source": [
    "###your code###"
   ]
  },
  {
   "cell_type": "code",
   "execution_count": null,
   "id": "322d0605",
   "metadata": {
    "id": "322d0605"
   },
   "outputs": [],
   "source": [
    "###your code###"
   ]
  },
  {
   "cell_type": "code",
   "execution_count": null,
   "id": "f7a0a1f5",
   "metadata": {
    "id": "f7a0a1f5",
    "scrolled": true
   },
   "outputs": [],
   "source": [
    "###your code###"
   ]
  },
  {
   "cell_type": "markdown",
   "id": "7343365d",
   "metadata": {
    "id": "7343365d"
   },
   "source": [
    "We can also ask our model to give us the word that does not belong to a list of words. Let's see from the list of all 5 characters which one is the most dissimilar?\n"
   ]
  },
  {
   "cell_type": "code",
   "execution_count": null,
   "id": "37bff805",
   "metadata": {
    "id": "37bff805"
   },
   "outputs": [],
   "source": [
    "character_names= ['joey', 'rachel', 'phoebe','monica','chandler']"
   ]
  },
  {
   "cell_type": "code",
   "execution_count": null,
   "id": "9020cd09",
   "metadata": {
    "id": "9020cd09",
    "scrolled": true
   },
   "outputs": [],
   "source": [
    "w2v.### your code###"
   ]
  },
  {
   "cell_type": "markdown",
   "id": "28abdaec",
   "metadata": {
    "id": "28abdaec"
   },
   "source": [
    "Based on the analogies, which word is to `monica` as `man` is to `women`? (print the top 3 words); you should get `chandler`among the answers."
   ]
  },
  {
   "cell_type": "code",
   "execution_count": null,
   "id": "4a270c9b",
   "metadata": {
    "id": "4a270c9b"
   },
   "outputs": [],
   "source": [
    "w2v.### your code###"
   ]
  },
  {
   "cell_type": "markdown",
   "id": "1c97ae83",
   "metadata": {
    "id": "1c97ae83"
   },
   "source": [
    "Finally, lets use [t-SNE](https://www.jmlr.org/papers/volume9/vandermaaten08a/vandermaaten08a.pdf) to look at the distribution of our embeddings in the vector space for the character `joey`. Follow the instructions and fill in the blank in the `tsneplot` function."
   ]
  },
  {
   "cell_type": "code",
   "execution_count": null,
   "id": "d0b8930e",
   "metadata": {
    "id": "d0b8930e"
   },
   "outputs": [],
   "source": [
    "import numpy as np\n",
    "import matplotlib.pyplot as plt\n",
    "%matplotlib inline\n",
    "import seaborn as sns\n",
    "import sys\n",
    "from sklearn.manifold import TSNE"
   ]
  },
  {
   "cell_type": "code",
   "execution_count": null,
   "id": "faa51d9e",
   "metadata": {
    "id": "faa51d9e"
   },
   "outputs": [],
   "source": [
    "def tsneplot(model, word):\n",
    "    \"\"\" Plot in seaborn the results from the t-SNE dimensionality reduction for the top 10 most similar and dissimilar words\n",
    "    \"\"\"\n",
    "    embs = np.empty((0, 100), dtype='f')# to save all the embeddings\n",
    "    word_labels = [word]\n",
    "    color_list  = ['green']\n",
    "\n",
    "    # adds the vector of the query word\n",
    "    embs = np.append(embs, model.wv.__getitem__([word]), axis=0)\n",
    "\n",
    "    # gets list of most similar words\n",
    "    close_words = model.wv.most_similar([word])\n",
    "    all_sims = model.wv.most_similar([word], topn=sys.maxsize)\n",
    "    far_words = list(reversed(all_sims[-10:]))\n",
    "\n",
    "    # adds the vector for each of the closest words to the array\n",
    "    for wrd_score in close_words:\n",
    "        wrd_vector = model.wv.__getitem__([wrd_score[0]])\n",
    "        word_labels.append(wrd_score[0])\n",
    "        color_list.append('blue')\n",
    "        embs = np.append(embs, wrd_vector, axis=0)\n",
    "\n",
    "    # adds the vector for each of the furthest words to the array\n",
    "    for wrd_score in far_words:\n",
    "        wrd_vector = model.wv.__getitem__([wrd_score[0]])\n",
    "        word_labels.append(wrd_score[0])\n",
    "        color_list.append('red')\n",
    "        embs = np.append(embs, wrd_vector, axis=0)\n",
    "\n",
    "    np.set_printoptions(suppress=True)\n",
    "    Y = TSNE(n_components=2, random_state=110, perplexity=15).fit_transform(embs)\n",
    "\n",
    "    # sets everything up to plot\n",
    "    df = pd.DataFrame({'x': [x for x in Y[:, 0]],\n",
    "                       'y': [y for y in Y[:, 1]],\n",
    "                       'words': word_labels,\n",
    "                       'color': color_list})\n",
    "\n",
    "    fig, _ = plt.subplots()\n",
    "    fig.set_size_inches(10, 10)\n",
    "\n",
    "    # basic plot\n",
    "    p1 = sns.regplot(data=df,\n",
    "                     x=\"x\",\n",
    "                     y=\"y\",\n",
    "                     fit_reg=False,\n",
    "                     marker=\"o\",\n",
    "                     scatter_kws={'s': 40,\n",
    "                                  'facecolors': df['color']\n",
    "                                 }\n",
    "                    )\n",
    "\n",
    "    # adds annotations one by one with a loop\n",
    "    for line in range(0, df.shape[0]):\n",
    "         p1.text(df[\"x\"][line],\n",
    "                 df['y'][line],\n",
    "                 '  ' + df[\"words\"][line].title(),\n",
    "                 horizontalalignment='left',\n",
    "                 verticalalignment='bottom', size='medium',\n",
    "                 color=df['color'][line],\n",
    "                 weight='normal'\n",
    "                ).set_size(15)\n",
    "\n",
    "\n",
    "    plt.xlim(Y[:, 0].min()-1, Y[:, 0].max()+1)\n",
    "    plt.ylim(Y[:, 1].min()-1, Y[:, 1].max()+1)\n",
    "\n",
    "    plt.title('t-SNE visualization for {}'.format(word.title()))\n"
   ]
  },
  {
   "cell_type": "code",
   "execution_count": null,
   "id": "3880bad8",
   "metadata": {
    "id": "3880bad8",
    "scrolled": false
   },
   "outputs": [],
   "source": [
    "tsneplot(w2v, 'joey')"
   ]
  },
  {
   "cell_type": "markdown",
   "id": "1ce2c270",
   "metadata": {
    "id": "1ce2c270"
   },
   "source": [
    "## **Task 2: Questions on the Conceptual Level (non-programming) (Grade (2 + 1 + 1 + 4) = 8)**"
   ]
  },
  {
   "cell_type": "markdown",
   "id": "c3fa409f",
   "metadata": {
    "id": "c3fa409f"
   },
   "source": [
    "Please answer the following questions in the notebook cells using markdown. Be precise and short."
   ]
  },
  {
   "cell_type": "markdown",
   "id": "1ec614b0",
   "metadata": {
    "id": "1ec614b0"
   },
   "source": [
    "### Subtask 1: For gradient descent, what advantage has a decaying learning rate?"
   ]
  },
  {
   "cell_type": "markdown",
   "id": "bec059fb",
   "metadata": {
    "id": "bec059fb"
   },
   "source": [
    "<<< your answer >>>"
   ]
  },
  {
   "cell_type": "markdown",
   "id": "0af2b619",
   "metadata": {
    "id": "0af2b619"
   },
   "source": [
    "### Subtask 2: Why is it easier to maximize the log likelihood instead of the \"normal\" likelihood?"
   ]
  },
  {
   "cell_type": "markdown",
   "id": "deb75406",
   "metadata": {
    "id": "deb75406"
   },
   "source": [
    "<<< your answer >>>"
   ]
  },
  {
   "cell_type": "markdown",
   "id": "a9828a2f",
   "metadata": {
    "id": "a9828a2f"
   },
   "source": [
    "### Subtask 3: Name one advantage that fastText has over Word2Vec?"
   ]
  },
  {
   "cell_type": "markdown",
   "id": "6c7aeb3b",
   "metadata": {
    "id": "6c7aeb3b"
   },
   "source": [
    "<<< your answer >>>"
   ]
  },
  {
   "cell_type": "markdown",
   "id": "07634ed8",
   "metadata": {
    "id": "07634ed8"
   },
   "source": [
    "### Subtask 4: Compute the partial derivate of softmax loss for word2vec with\n",
    "\n",
    "---\n",
    "\n",
    "respect to the center word vector.\n",
    "$$ \\frac{\\partial J}{\\partial v_c} =\\frac{\\partial}{\\partial v_c}\\left[ -log \\left( \\frac{exp(u^T_o v_c)}{\\Sigma_{w \\in Vocab} exp(u^T_o v_c)} \\right)\\right] $$\n",
    "use $U$ to denote the matrix of all embeddings and $y$ for a one-hot vector with a 1 for the true outside word $o$, and $\\hat{y}$ for the predicted distribution $P(w|c)$."
   ]
  },
  {
   "cell_type": "markdown",
   "id": "baba8a44",
   "metadata": {
    "id": "baba8a44"
   },
   "source": [
    "<<< your answer >>>"
   ]
  },
  {
   "cell_type": "markdown",
   "id": "8364e05b",
   "metadata": {
    "id": "8364e05b"
   },
   "source": [
    "## **Task 3: Auto-Complete Feature (Grade (2 + 6 + 4) = 12)**\n",
    "\n",
    "Let's get even more practical! In this problem set, you will build your own auto-completion system that you see every day while using search engines.\n",
    "\n",
    "[google]: https://www.thedad.com/wp-content/uploads/2018/05/screen-shot-2018-05-12-at-2-01-56-pm.png \"google auto complete\"\n",
    "\n",
    "![google]\n",
    "By the end of this assignment, you will develop a simple prototype of such a system using n-gram language model. At the heart of the system is a language model that assigns the probability to a sequence of words. We take advantage of this probability calculation to predict the next word.\n",
    "\n",
    "The problem set contains 3 main parts:\n",
    "\n",
    "1. Load and preprocess data (tokenize and split into train and test)\n",
    "2. Develop n-gram based language model by estimating the conditional probability of the next word.\n",
    "3. Evaluate the model by computing the perplexity score.\n"
   ]
  },
  {
   "cell_type": "markdown",
   "id": "c9d5f84e",
   "metadata": {
    "id": "c9d5f84e"
   },
   "source": [
    "### Subtask 1: Load and Preprocess Data\n",
    "We use a subset of English tweets to train our model. Run the cell below to load the data and observe a few lines of it. Notice that tweets are saved in a text file, where the individual tweets are separated by `\\n`"
   ]
  },
  {
   "cell_type": "code",
   "execution_count": 7,
   "id": "48fc8e51",
   "metadata": {
    "id": "48fc8e51"
   },
   "outputs": [
    {
     "name": "stdout",
     "output_type": "stream",
     "text": [
      "First 500 characters of the data:\n"
     ]
    },
    {
     "data": {
      "text/plain": [
       "\"How are you? Btw thanks for the RT. You gonna be in DC anytime soon? Love to see you. Been way, way too long.\\nWhen you meet someone special... you'll know. Your heart will beat more rapidly and you'll smile for no reason.\\nthey've decided its more fun if I don't.\\nSo Tired D; Played Lazer Tag & Ran A LOT D; Ughh Going To Sleep Like In 5 Minutes ;)\\nWords from a complete stranger! Made my birthday even better :)\\nFirst Cubs game ever! Wrigley field is gorgeous. This is perfect. Go Cubs Go!\\ni no! i ge\""
      ]
     },
     "metadata": {},
     "output_type": "display_data"
    },
    {
     "name": "stdout",
     "output_type": "stream",
     "text": [
      "-------\n"
     ]
    }
   ],
   "source": [
    "import spacy\n",
    "nlp = spacy.load(\"en_core_web_sm\", disable=[\"tagger\", \"parser\",\"ner\"])\n",
    "\n",
    "\n",
    "with open(\"./twitter.txt\", \"r\") as f:\n",
    "    data = f.read()\n",
    "print(\"First 500 characters of the data:\")\n",
    "display(data[0:500])\n",
    "print(\"-------\")"
   ]
  },
  {
   "cell_type": "markdown",
   "id": "aa007e1d",
   "metadata": {
    "id": "aa007e1d"
   },
   "source": [
    "Now we need to separate the tweets and split them into train and test set. Apply the following pre-processing steps:\n",
    "\n",
    "1. Split data into sentences using \"\\n\" as the delimiter and remove the leading and trailing spaces (drop empty sentences)\n",
    "2. Tokenize the sentences into words using SpaCy and lowercase them. (notice that we do not remove stop words or punctuations.)\n",
    "3. Divide the sentences into 80 percent training and 20 percent test set. No validation set is required. Although in a real-world application it is best to set aside part of the data for hyperparameter tuning.\n",
    "4. To limit the vocabulary and remove potential spelling mistakes, make a vocabulary of the words that appear at least 2 times. The rest of the words will be replaced by the `<unk>` symbol. This is a crucial step since if your model encounters a word that it never saw during training, it won't have an input word that helps determining the next word for suggestion. We use the `<unk>` word for **out of Vocabulary (OOV)** words. Keep in mind that we built the vocabulary on the training data only."
   ]
  },
  {
   "cell_type": "code",
   "execution_count": 8,
   "id": "16d5b640",
   "metadata": {
    "id": "16d5b640"
   },
   "outputs": [],
   "source": [
    "sentences = data.split(\"\\n\")\n",
    "sentences = list(map(lambda s: s.strip(), sentences))\n",
    "# remove empty string as well\n",
    "sentences.remove(\"\")"
   ]
  },
  {
   "cell_type": "code",
   "execution_count": 9,
   "id": "2faabb7a",
   "metadata": {
    "id": "2faabb7a"
   },
   "outputs": [
    {
     "name": "stderr",
     "output_type": "stream",
     "text": [
      "/home/max/.local/lib/python3.10/site-packages/spacy/pipeline/lemmatizer.py:211: UserWarning: [W108] The rule-based lemmatizer did not find POS annotation for one or more tokens. Check that your pipeline includes components that assign token.pos, typically 'tagger'+'attribute_ruler' or 'morphologizer'.\n",
      "  warnings.warn(Warnings.W108)\n"
     ]
    }
   ],
   "source": [
    "tokenized_corpus = []# list of list of the tokens in a sentence\n",
    "for s in sentences:\n",
    "    doc = nlp(s)\n",
    "    tokens = [token.text.lower() for token in doc]\n",
    "    tokenized_corpus.append(tokens)"
   ]
  },
  {
   "cell_type": "code",
   "execution_count": 10,
   "id": "235d1b53",
   "metadata": {
    "id": "235d1b53"
   },
   "outputs": [
    {
     "name": "stdout",
     "output_type": "stream",
     "text": [
      "overall length: 47961, train: 38369, test: 9592\n"
     ]
    }
   ],
   "source": [
    "from random import Random\n",
    "Random(4).shuffle(tokenized_corpus)\n",
    "split = round(len(tokenized_corpus)*0.8)\n",
    "\n",
    "train = tokenized_corpus[:split]\n",
    "test = tokenized_corpus[split:]\n",
    "\n",
    "print(f\"overall length: {len(tokenized_corpus)}, train: {len(train)}, test: {len(test)}\")"
   ]
  },
  {
   "cell_type": "code",
   "execution_count": 71,
   "id": "2526e4b1",
   "metadata": {
    "id": "2526e4b1"
   },
   "outputs": [
    {
     "name": "stdout",
     "output_type": "stream",
     "text": [
      "14861\n"
     ]
    }
   ],
   "source": [
    "from collections import Counter\n",
    "flatten_corpus = [item for sublist in train for item in sublist]\n",
    "word_counts = Counter(flatten_corpus)\n",
    "vocab = [k for k,v in word_counts.items() if v >= 2]\n",
    "\n",
    "### keep only the ones with frequency bigger than 2 ###\n",
    "print(len(vocab)) ### should be 14861 ###\n",
    "train_replaced = []\n",
    "test_replaced = []\n",
    "for sentence in train:\n",
    "    train_replaced.append([word if word in vocab else \"<unk>\" for word in sentence])\n",
    "for sentence in test:\n",
    "    test_replaced.append([word if word in vocab else \"<unk>\" for word in sentence])"
   ]
  },
  {
   "cell_type": "markdown",
   "id": "f447294a",
   "metadata": {
    "id": "f447294a"
   },
   "source": [
    "### Subtask 2: N-gram Based Language Model:\n",
    "In this section, you will develop an n-grams language model [**1. Large Language Models (LLMs), slide 1-24**]. We assume that the probability of the next word depends only on the previous n-gram or previous n words. We compute this probability by counting the occurrences in the corpus.\n",
    "The conditional probability for the word at position 't' in the sentence, given that the words preceding it are $w_{t-1}, w_{t-2} \\cdots w_{t-n}$ can be estimated as follows:\n",
    "\n",
    "$$ \\hat{P}(w_t | w_{t-1}\\dots w_{t-n}) = \\frac{C(w_{t-1}\\dots w_{t-n}, w_t)}{C(w_{t-1}\\dots w_{t-n})}  $$\n",
    "\n",
    "The numerator is the number of times word '$w_t$' appears after the n-gram, and the denominator is the number of times the n-gram occurs in the corpus, where $C(\\cdots)$ is a count function. Later, we add k-smoothing to avoid errors when any counts are zero."
   ]
  },
  {
   "cell_type": "markdown",
   "id": "7a590b34",
   "metadata": {
    "id": "7a590b34"
   },
   "source": [
    "To tackle the problem of probability estimation we divide the problem into 3 parts. In the following you will:\n",
    "1. Implement a function that computes the counts of n-grams for an arbitrary number n.\n",
    "2. Estimate the probability of a word given the prior n-words using the n-gram counts.\n",
    "3. Calculate probabilities for all possible words.\n",
    "The steps are detailed below."
   ]
  },
  {
   "cell_type": "markdown",
   "id": "8da09885",
   "metadata": {
    "id": "8da09885"
   },
   "source": [
    "Let's start by implementing a function that computes the counts of n-grams for an arbitrary number n.\n",
    "- Prepend necessary starting markers `<s>` to indicate the beginning of the sentence. In the case of a bi-gram model, you need to prepend two start tokens `<s><s>` to be able to predict the first word. \"hello world\"-> \"`<s><s>`hello world\".\n",
    "- Append an end token `<e>` so that the model can predict when to finish a sentence.\n",
    "- Create a dictionary to store all the n_gram counts."
   ]
  },
  {
   "cell_type": "code",
   "execution_count": 24,
   "id": "e8a98cee",
   "metadata": {
    "id": "e8a98cee"
   },
   "outputs": [],
   "source": [
    "from collections import defaultdict\n",
    "def n_grams_counts(corpus, n):\n",
    "    \"\"\"\n",
    "    Count all n-grams in the corpus given the parameter n\n",
    "\n",
    "    data: List of lists of words (your tokenized corpus)\n",
    "    n: n in the n-gram\n",
    "\n",
    "    Returns: A dictionary that maps a tuple of n words to its frequency\n",
    "    \"\"\"\n",
    "    start_token='<s>'\n",
    "    end_token = '<e>'\n",
    "    n_grams = defaultdict(int)\n",
    "    for sentence in corpus:\n",
    "        sentence = [start_token] * n + sentence + [end_token] * n \n",
    "        # convert list to tuple so it can be used as the key in the dictionary\n",
    "        sentence = tuple(sentence)\n",
    "\n",
    "        ###iterate over the n-grams in the sentence, you can use the range() function, and increament the counts in the\n",
    "        ## n_grams dictionary, where the key is the n_gram and the value is count\n",
    "        \n",
    "        for idx in range(0, len(sentence)-(n-1)):\n",
    "            n_gram = sentence[idx:idx+n]\n",
    "            n_grams[n_gram] +=1\n",
    "    return n_grams"
   ]
  },
  {
   "cell_type": "markdown",
   "id": "ba75f530",
   "metadata": {
    "id": "ba75f530"
   },
   "source": [
    "The next step is to estimate the probability of a word given the prior n words using the n-gram counts, based on the formula given at the beginning of this task. To deal with the problem of zero division we add k-smoothing. K-smoothing adds a positive constant $k$ to each numerator and $k \\times |vocabulary size|$ in the denominator. Below we will define a function that takes in a dictionary `n_gram_cnt`, where the key is the n-gram, and the value is the count of that n-gram, plus a dictionary for `plus_current_gram_cnt`, which you'll use to find the count for the previous n-gram plus the current word. Notice that these dictionaries are computed using the previous function `n_grams_counts`.\n"
   ]
  },
  {
   "cell_type": "code",
   "execution_count": 66,
   "id": "a2c6898d",
   "metadata": {
    "id": "a2c6898d"
   },
   "outputs": [],
   "source": [
    "def probability(word, prev_n_gram, n_gram_cnts, plus_current_gram_cnts, vocab_size):\n",
    "    \"\"\"\n",
    "    Estimate the probabilities of the next word using the n-gram counts with k-smoothing\n",
    "    word: next word\n",
    "    prev_n_gram: previous n gram\n",
    "    n_gram_cnts: dictionary of counts of n-grams\n",
    "    plus_current_gram_cnts: dictionary of counts of (n+1)-grams -> current word+ n-gram = (n+1)-gram\n",
    "    vocab_size: number of words in the vocabulary\n",
    "\n",
    "    Returns: A probability\n",
    "    \"\"\"\n",
    "    k=1.0\n",
    "    prev_n_gram = tuple(prev_n_gram)\n",
    "\n",
    "    prev_n_gram_cnt =  n_gram_cnts[prev_n_gram]\n",
    "    denominator = (k * vocab_size) + prev_n_gram_cnt\n",
    "    plus_current_gram =  prev_n_gram + (word,)\n",
    "    plus_current_gram_cnt = plus_current_gram_cnts[plus_current_gram]\n",
    "    numerator = k + plus_current_gram_cnt\n",
    "    prob = numerator / denominator\n",
    "\n",
    "    return prob"
   ]
  },
  {
   "cell_type": "markdown",
   "id": "7803eb7c",
   "metadata": {
    "id": "7803eb7c"
   },
   "source": [
    "Let's use the functions we have defined to calculate probabilities for all possible words.\n"
   ]
  },
  {
   "cell_type": "code",
   "execution_count": 67,
   "id": "7157c4cb",
   "metadata": {
    "id": "7157c4cb"
   },
   "outputs": [],
   "source": [
    "def probabilities(prev_n_gram, n_gram_cnts, plus_current_gram_cnts, vocab):\n",
    "    \"\"\"\n",
    "    Estimate the probabilities for all the words in the vocabulary given the previous n-gram\n",
    "    prev_n_gram: previous n-gram\n",
    "    n_gram_cnts: dictionary of counts of n-grams\n",
    "    plus_current_gram_cntsplus_current_gram_cnt: dictionary of counts of (n+1)-grams -> current word+ n-gram = (n+1)-gram\n",
    "    vocab: List of words\n",
    "\n",
    "    Returns: A dictionary mapping from next words to the probability.\n",
    "    \"\"\"\n",
    "    prev_n_gram = tuple(prev_n_gram)\n",
    "\n",
    "    vocab =  vocab + [\"<e>\", \"<unk>\"]\n",
    "    vocabulary_size = len(vocab)\n",
    "\n",
    "    probabilities = {}\n",
    "    for word in vocab:\n",
    "        prob = probability(word, prev_n_gram, n_gram_cnts, plus_current_gram_cnts, vocabulary_size)\n",
    "        probabilities[word] = prob\n",
    "    return probabilities"
   ]
  },
  {
   "cell_type": "code",
   "execution_count": 68,
   "id": "88fea049",
   "metadata": {
    "id": "88fea049"
   },
   "outputs": [
    {
     "name": "stdout",
     "output_type": "stream",
     "text": [
      "The word 'moon' should have the highest probability, if it is not the case, re-visit your previous functions.\n"
     ]
    },
    {
     "data": {
      "text/plain": [
       "{'are': 0.05263157894736842,\n",
       " 'stars': 0.05263157894736842,\n",
       " 'shining': 0.05263157894736842,\n",
       " 'shinnig': 0.05263157894736842,\n",
       " 'tonight': 0.05263157894736842,\n",
       " 'bright': 0.05263157894736842,\n",
       " 'the': 0.05263157894736842,\n",
       " 'a': 0.05263157894736842,\n",
       " 'is': 0.05263157894736842,\n",
       " 'mars': 0.05263157894736842,\n",
       " 'plants': 0.05263157894736842,\n",
       " 'plant': 0.05263157894736842,\n",
       " 'and': 0.05263157894736842,\n",
       " 'moon': 0.21052631578947367,\n",
       " '<e>': 0.05263157894736842,\n",
       " '<unk>': 0.05263157894736842}"
      ]
     },
     "execution_count": 68,
     "metadata": {},
     "output_type": "execute_result"
    }
   ],
   "source": [
    "# Predict the probability of all possible words after the unigram \"the\"\n",
    "sentences = [['the', 'moon', 'and', 'stars', 'are','shining','bright'],\n",
    "             ['the', 'moon', 'is', 'shinnig','tonight'],\n",
    "             ['mars','and' ,'moon', 'are', 'plants'],\n",
    "             ['the' ,'moon', 'is','a', 'plant']]\n",
    "unique_words = list(set(sentences[0] + sentences[1] + sentences[2]+ sentences[3]))\n",
    "unigram_counts = n_grams_counts(sentences, 1)\n",
    "bigram_counts = n_grams_counts(sentences, 2)\n",
    "print(\"The word 'moon' should have the highest probability, if it is not the case, re-visit your previous functions.\")\n",
    "probabilities([\"the\"], unigram_counts, bigram_counts, unique_words)"
   ]
  },
  {
   "cell_type": "markdown",
   "id": "014a385f",
   "metadata": {
    "id": "014a385f"
   },
   "source": [
    "### Subtask 3: Evaluation"
   ]
  },
  {
   "cell_type": "markdown",
   "id": "90a4345f",
   "metadata": {
    "id": "90a4345f"
   },
   "source": [
    "In this part, we use the perplexity score to evaluate your model on the test set. The perplexity score of the test set on an n-gram model is defined as follows:\n",
    "\n",
    "$$ PP(W) =\\sqrt[N]{ \\prod_{t=n}^{N-1} \\frac{1}{P(w_t | w_{t-n} \\cdots w_{t-1})} } $$\n",
    "- where $N$ is the length of the sentence. ($N-1$ is used because in the code we start from the index 0).\n",
    "- $n$ is the number of words in the n-gram.\n",
    "- $W$ is the n-gram\n",
    "\n",
    "Notice that we have already computed this probability.\n",
    "\n",
    "The higher the probabilities are, the lower the perplexity will be."
   ]
  },
  {
   "cell_type": "code",
   "execution_count": 69,
   "id": "9644c33f",
   "metadata": {
    "id": "9644c33f"
   },
   "outputs": [],
   "source": [
    "def perplexity(sentence, n_gram_cnts, plus_current_gram_cnts, vocab_size, k=1.0):\n",
    "    \"\"\"\n",
    "    Calculate perplexity for a list of sentences\n",
    "    sentence: List of strings\n",
    "    n_gram_cnts: dictionary of counts of n-grams\n",
    "    plus_current_gram_cnts: dictionary of counts of (n+1)-grams -> current word+ n-gram = (n+1)-gram\n",
    "    vocab_size: number of unique words in the vocabulary\n",
    "    k: positive smoothing constant\n",
    "\n",
    "    Returns: Perplexity score for a single sentence\n",
    "    \"\"\"\n",
    "\n",
    "    n =  len(list(n_gram_cnts.keys())[0])\n",
    "    original_sentence = sentence\n",
    "    sentence =  [\"<s>\"] * n + sentence + [\"<e>\"] * n\n",
    "    sentence = tuple(sentence)\n",
    "    N = len(sentence)\n",
    "\n",
    "\n",
    "    product_pi = 1.0\n",
    "\n",
    "    ### Compute the product of probabilities ###\n",
    "\n",
    "    for t in range(n, N):\n",
    "        n_gram = sentence[t-n:t]# get the n-gram before the predicted word (n-gram before t )\n",
    "        word =  sentence[t]\n",
    "        prob = probability(word, n_gram, n_gram_cnts,  plus_current_gram_cnts, vocab_size)\n",
    "        product_pi *= 1/prob\n",
    "\n",
    "    perplexity = product_pi**(1/float(N)) \n",
    "    return perplexity"
   ]
  },
  {
   "cell_type": "markdown",
   "id": "8745e1bc",
   "metadata": {
    "id": "8745e1bc"
   },
   "source": [
    "Use `perplexity` function to find the perplexity of a bi-gram model on the first training sample and on the first test sample (first element of the set)."
   ]
  },
  {
   "cell_type": "code",
   "execution_count": 72,
   "id": "d857043a",
   "metadata": {
    "id": "d857043a"
   },
   "outputs": [
    {
     "name": "stdout",
     "output_type": "stream",
     "text": [
      "Perplexity for first train sample: 85.7743\n",
      "Perplexity for test sample: 1032.9659\n"
     ]
    }
   ],
   "source": [
    "bigram_counts = n_grams_counts(train_replaced, 2)\n",
    "trigram_counts = n_grams_counts(train_replaced, 3)\n",
    "\n",
    "perplexity_train = perplexity(train_replaced[0],bigram_counts, trigram_counts,len(vocab))\n",
    "print(f\"Perplexity for first train sample: {perplexity_train:.4f}\")\n",
    "\n",
    "perplexity_test = perplexity(test_replaced[0],bigram_counts, trigram_counts,len(vocab))\n",
    "print(f\"Perplexity for test sample: {perplexity_test:.4f}\")# the perplexity for the train sample should be much lower"
   ]
  },
  {
   "cell_type": "markdown",
   "id": "7c697faa",
   "metadata": {
    "id": "7c697faa"
   },
   "source": [
    "Finally, let's use the model we created to generate an auto-complete system that makes suggestions."
   ]
  },
  {
   "cell_type": "code",
   "execution_count": 93,
   "id": "b6d6163b",
   "metadata": {
    "id": "b6d6163b"
   },
   "outputs": [],
   "source": [
    "def suggest_a_word(up_to_here, n_gram_cnts, plus_current_gram_cnts, vocab , start_with=None):\n",
    "    \"\"\"\n",
    "    Get suggestion for the next word\n",
    "    up_to_here: the sentence so far, must have length > n\n",
    "    n_gram_cnts: dictionary of counts of n-grams\n",
    "    plus_current_gram_cnts: dictionary of counts of (n+1)-grams -> current word+ n-gram = (n+1)-gram\n",
    "    vocab: List of words\n",
    "    start_with: If not None, specifies the first few letters of the next word\n",
    "\n",
    "    Returns: (most likely next word,  probability)\n",
    "    \"\"\"\n",
    "    n = len(list(n_gram_cnts.keys())[0]) # get the number 'n' in  n-gram  from n_gram_cnts\n",
    "    previous_n_gram = previous_tokens[-n:] # get the last 'n' words as the previous n-gram from the input sentence\n",
    "\n",
    "\n",
    "    probabs = probabilities(previous_n_gram, n_gram_cnts, plus_current_gram_cnts, vocab)\n",
    "\n",
    "    ### sort the probability for higher to lower and return the highest probability word,probability tuple\n",
    "    #if start_with is specified then return the highest probability word that starts with that specific character\n",
    "\n",
    "    sorted_dict_as_list = sorted(probabs.items(), key=lambda x:x[1],reverse=True)\n",
    "    if start_with == None:\n",
    "        # do not return the <unk> symbol if it is the most common one, as it is not helpful at all\n",
    "        return sorted_dict_as_list[0] if sorted_dict_as_list[0][0] != \"<unk>\" else sorted_dict_as_list[1]\n",
    "    else:\n",
    "        for item in sorted_dict_as_list:\n",
    "            if item[0].startswith(start_with):\n",
    "                return item"
   ]
  },
  {
   "cell_type": "markdown",
   "id": "f88f9abc",
   "metadata": {
    "id": "f88f9abc"
   },
   "source": [
    "Test your model based on the bi-gram model created on the training corpus."
   ]
  },
  {
   "cell_type": "code",
   "execution_count": 94,
   "id": "460dff09",
   "metadata": {
    "id": "460dff09"
   },
   "outputs": [
    {
     "data": {
      "text/plain": [
       "('better', 0.00013324450366422385)"
      ]
     },
     "execution_count": 94,
     "metadata": {},
     "output_type": "execute_result"
    }
   ],
   "source": [
    "previous_tokens=['i','like']\n",
    "start_with='b'\n",
    "suggestion = suggest_a_word(previous_tokens, bigram_counts,trigram_counts, list(vocab),start_with=start_with)\n",
    "suggestion"
   ]
  },
  {
   "cell_type": "code",
   "execution_count": 95,
   "id": "e68f730c",
   "metadata": {
    "id": "e68f730c"
   },
   "outputs": [
    {
     "data": {
      "text/plain": [
       "('see', 0.0006017249448418801)"
      ]
     },
     "execution_count": 95,
     "metadata": {},
     "output_type": "execute_result"
    }
   ],
   "source": [
    "previous_tokens=['i','like','to']\n",
    "start_with=None\n",
    "suggestion = suggest_a_word(previous_tokens, bigram_counts,trigram_counts, list(vocab),start_with=start_with)\n",
    "suggestion"
   ]
  },
  {
   "cell_type": "code",
   "execution_count": 96,
   "id": "001a7ff4",
   "metadata": {
    "id": "001a7ff4"
   },
   "outputs": [
    {
     "data": {
      "text/plain": [
       "('riley', 0.00020153164046755341)"
      ]
     },
     "execution_count": 96,
     "metadata": {},
     "output_type": "execute_result"
    }
   ],
   "source": [
    "previous_tokens=[\"hello\", \"my\", \"name\", \"is\"]\n",
    "start_with=None\n",
    "suggestion = suggest_a_word(previous_tokens, bigram_counts,trigram_counts, list(vocab),start_with=start_with)\n",
    "suggestion"
   ]
  },
  {
   "cell_type": "code",
   "execution_count": 97,
   "id": "c556e16f",
   "metadata": {
    "id": "c556e16f"
   },
   "outputs": [
    {
     "data": {
      "text/plain": [
       "('allison', 0.00013435442697836894)"
      ]
     },
     "execution_count": 97,
     "metadata": {},
     "output_type": "execute_result"
    }
   ],
   "source": [
    "previous_tokens=[\"hello\", \"my\", \"name\", \"is\"]\n",
    "start_with='a'\n",
    "suggestion = suggest_a_word(previous_tokens, bigram_counts,trigram_counts, list(vocab),start_with=start_with)\n",
    "suggestion"
   ]
  },
  {
   "cell_type": "markdown",
   "id": "b4a15ac8",
   "metadata": {
    "id": "b4a15ac8"
   },
   "source": [
    "## **Task 4: Understanding GloVe (Grade (2 + 4.25 + 4 + 1.75) = 12)**"
   ]
  },
  {
   "cell_type": "markdown",
   "id": "15e586ca",
   "metadata": {
    "id": "15e586ca"
   },
   "source": [
    "In this part, you will implement the [GloVe](https://nlp.stanford.edu/projects/glove/) model and train your own word vectors with gradient\n",
    "descent and numpy. GloVe stands for Global Vectors for word representation, which was developed by researchers at Stanford University to generate word embeddings from corpus statistics.\n",
    "The statistics of the corpus are represented by a co-occurrence matrix, indicating how often a particular word pair occurs together.\n",
    "GloVe is based on ratios of probabilities from this co-occurrence matrix, combining the intuitions of count-based models while also being similar to neural models like word2vec.\n",
    "From this matrix, one can compute the co-occurrence probabilities. We motivate this with an example:\n",
    "\n",
    "$P_{ik} = P(i,j)$ -> co-occurrence probability or joint probability of words $i$ and $k$\n",
    "\n",
    "$P_{jk}$ ->co-occurrence probability of words $j$ and $k$\n",
    "\n",
    "$\\frac{P_{ik}}{P_{jk}}$-> corelation between $i$ and $j$ with the prob word $k$\n",
    "\n",
    "This ratio gives us some insight into the co-relation of the probe word $k$ with the words $i$ and $j$.\n",
    "An example is shown below for different prob words $k$, where $i$ and $j$ are `ice` and `steam`, respectively."
   ]
  },
  {
   "cell_type": "markdown",
   "id": "076234c5",
   "metadata": {
    "id": "076234c5"
   },
   "source": [
    "\n",
    "![glove](https://nlp.stanford.edu/projects/glove/images/table.png)\n"
   ]
  },
  {
   "cell_type": "markdown",
   "id": "3b933587",
   "metadata": {
    "id": "3b933587"
   },
   "source": [
    "Image taken from Stanford NLP."
   ]
  },
  {
   "cell_type": "markdown",
   "id": "76e8f6f0",
   "metadata": {
    "id": "76e8f6f0"
   },
   "source": [
    "Compared to the raw probabilities, the ratio of probabilities is better able to distinguish relevant words from irrelevant words. Consider the raw probabilities (the first two rows), the values are close to one another and not indicative of the relationships. However, the ratios have more distinct values.\n",
    "\n",
    "This ratio can be small, large, or equal to 1 depending on the prob word and their co-relation. In the example above, the ratio between ice and steam for `k=solid` is large and for `k=gas` is small, indicating that `solid` is related to ice but `gas` is irrelevant. On the other hand, `water` is not a discriminating element between them, and therefore the ratio is close to one. The same applies to an irrelevant word like `fashion`.\n",
    "\n",
    "The GloVe model is built on the idea that the \"ratio of conditional probabilities represents the word meanings\" and a neural model is trained to estimate this conditional probability.\n",
    "\n",
    "$F(w_i,w_j,\\tilde{w_k})=\\frac{P_ik}{P_jk}$ -> the right-hand side is computed from the corpus statistics, $w$ is the word vector and $\\tilde{w_k}$ is the context vector\n",
    "\n",
    "The GloVe model embeds the words in a vector space and claims that the difference between them (distinguishing factor) is hidden in the ratio of probabilities. In vector space, the best way to encode this is by vector differences.\n",
    "\n",
    "$F((w_i-w_j),\\tilde{w_k})=\\frac{P_ik}{P_jk}$\n",
    "\n",
    "At this point, the left-hand side is a vector and the right-hand side is a scalar showing the similarity of i and j with the context word k.\n",
    "For both sides to match and to encode the similarity in the vector space, the left-hand side becomes a dot product.\n",
    "\n",
    "$F((w_i-w_j)^{T}.\\tilde{w_k})=\\frac{P_ik}{P_jk}=\\frac{F(w_i.\\tilde{w_k})}{F(w_j.\\tilde{w_k})} $\n",
    "\n",
    "$F(w_i.\\tilde{w_k})=\\frac{X_{ik}}{X_{i}}$ -> where $X$ is drived from the co-occurrences matrix\n",
    "\n",
    "To satisfy a symmetrical relationship (a.k.a. relation(a, b) = relation(b, a)), $F$ is chosen to be an exponential function, $F(x)=exp(x)$. As a result:\n",
    "\n",
    "$w_i.\\tilde{w_k} = log(P_{ik} ) = log(X_{ik} ) − log(X_{i})$\n",
    "\n",
    "$log(X_{i})$ is independent of $k$ and can be absored into a bias term.\n",
    "\n",
    "$w_i.\\tilde{w_k} = log(P_{ik} ) + b_i +\\tilde{b_k} = log(X_{ik} )$\n",
    "\n",
    "After some weighting and alterations the final cost function, based on the weighted least squares regression model is as follows:\n",
    "\n",
    "$J= \\Sigma^{V}_{i,j=1} f(X_{ij})(w_i.w_j+ b_i +b_j)-log(X_{ik})$\n",
    "\n",
    "For a detailed overview refer to the original paper: https://nlp.stanford.edu/pubs/glove.pdf\n",
    "You need to read and understand the GloVe model to solve this exercise.\n"
   ]
  },
  {
   "cell_type": "markdown",
   "id": "0d71fbc8",
   "metadata": {
    "id": "0d71fbc8"
   },
   "source": [
    "### Subtask 1: Cost function"
   ]
  },
  {
   "cell_type": "markdown",
   "id": "174acc1f",
   "metadata": {
    "id": "174acc1f"
   },
   "source": [
    "Read the paper and describe the following, in your own words:\n",
    "\n",
    " 1. The intuition behind the weighting schema in the cost function.\n",
    "\n",
    "\n",
    "\n",
    " 2. How does the objective function of GloVe relate to the objective function of the (word2vec) skip-gram model?"
   ]
  },
  {
   "cell_type": "markdown",
   "id": "9dac9d93",
   "metadata": {
    "id": "9dac9d93"
   },
   "source": [
    "**Answer**\n",
    "1. The weighting schema can be intuitively described as reducing the influence of extremely frequent words while maintaining the influence of rare words in a given context. Therefore the weighting scheme is based on the context words co-occurences. This is relevant, since extremely frequent words are not neccessarily important to the sentences meaning. The weighting function is a generic alternative to word filtering, which can improve performance for instance word2vec."
   ]
  },
  {
   "cell_type": "markdown",
   "id": "d1e3887c",
   "metadata": {
    "id": "d1e3887c"
   },
   "source": [
    "**Answer**\n",
    "\n",
    "2. Both objective functions aim to predict co-occurence probabilities, whereas the GloVe is based on the global co-occurences and word2vec fixed to a local and limited context window."
   ]
  },
  {
   "cell_type": "markdown",
   "id": "988ae19d",
   "metadata": {
    "id": "988ae19d"
   },
   "source": [
    "### Subtask 2: Build Co-occurence matrix\n"
   ]
  },
  {
   "cell_type": "markdown",
   "id": "edca833e",
   "metadata": {
    "id": "edca833e"
   },
   "source": [
    "We use the same dataset as the first task and use the `quotes` as the corpus to build the co-occurrences matrix. Similar to the first task we use the `phrases` to transform our input and extract the vocabulary."
   ]
  },
  {
   "cell_type": "code",
   "execution_count": 1,
   "id": "bca0b788",
   "metadata": {
    "id": "bca0b788"
   },
   "outputs": [],
   "source": [
    "import numpy as np\n",
    "from scipy import sparse\n",
    "from math import log\n",
    "from itertools import chain\n",
    "from collections import Counter\n",
    "from tqdm import tqdm\n",
    "import spacy\n",
    "import re\n",
    "import pandas as pd"
   ]
  },
  {
   "cell_type": "markdown",
   "id": "dacc60e8",
   "metadata": {
    "id": "dacc60e8"
   },
   "source": [
    "Complete the function to create dictionaries used for mapping ids to words and words to ids, and a dictionary that counts the number of occurrences of each word. The first two dictionaries are used to map indices in vector space to words and back, and the third dictionary contains the counts of the corpus statistics."
   ]
  },
  {
   "cell_type": "code",
   "execution_count": 56,
   "metadata": {},
   "outputs": [
    {
     "name": "stdout",
     "output_type": "stream",
     "text": [
      "Shape of data before filtering: (60291, 6)\n",
      "Shape of data after filtering: (60291, 6)\n"
     ]
    },
    {
     "data": {
      "text/html": [
       "<div>\n",
       "<style scoped>\n",
       "    .dataframe tbody tr th:only-of-type {\n",
       "        vertical-align: middle;\n",
       "    }\n",
       "\n",
       "    .dataframe tbody tr th {\n",
       "        vertical-align: top;\n",
       "    }\n",
       "\n",
       "    .dataframe thead th {\n",
       "        text-align: right;\n",
       "    }\n",
       "</style>\n",
       "<table border=\"1\" class=\"dataframe\">\n",
       "  <thead>\n",
       "    <tr style=\"text-align: right;\">\n",
       "      <th></th>\n",
       "      <th>author</th>\n",
       "      <th>episode_number</th>\n",
       "      <th>episode_title</th>\n",
       "      <th>quote</th>\n",
       "      <th>quote_order</th>\n",
       "      <th>season</th>\n",
       "    </tr>\n",
       "  </thead>\n",
       "  <tbody>\n",
       "    <tr>\n",
       "      <th>0</th>\n",
       "      <td>Monica</td>\n",
       "      <td>1.0</td>\n",
       "      <td>Monica Gets A Roommate</td>\n",
       "      <td>There's nothing to tell! He's just some guy I ...</td>\n",
       "      <td>0.0</td>\n",
       "      <td>1.0</td>\n",
       "    </tr>\n",
       "    <tr>\n",
       "      <th>1</th>\n",
       "      <td>Joey</td>\n",
       "      <td>1.0</td>\n",
       "      <td>Monica Gets A Roommate</td>\n",
       "      <td>C'mon, you're going out with the guy! There's ...</td>\n",
       "      <td>1.0</td>\n",
       "      <td>1.0</td>\n",
       "    </tr>\n",
       "    <tr>\n",
       "      <th>2</th>\n",
       "      <td>Chandler</td>\n",
       "      <td>1.0</td>\n",
       "      <td>Monica Gets A Roommate</td>\n",
       "      <td>All right Joey, be nice. So does he have a hum...</td>\n",
       "      <td>2.0</td>\n",
       "      <td>1.0</td>\n",
       "    </tr>\n",
       "    <tr>\n",
       "      <th>3</th>\n",
       "      <td>Phoebe</td>\n",
       "      <td>1.0</td>\n",
       "      <td>Monica Gets A Roommate</td>\n",
       "      <td>Wait, does he eat chalk?</td>\n",
       "      <td>3.0</td>\n",
       "      <td>1.0</td>\n",
       "    </tr>\n",
       "    <tr>\n",
       "      <th>4</th>\n",
       "      <td>Phoebe</td>\n",
       "      <td>1.0</td>\n",
       "      <td>Monica Gets A Roommate</td>\n",
       "      <td>Just, 'cause, I don't want her to go through w...</td>\n",
       "      <td>4.0</td>\n",
       "      <td>1.0</td>\n",
       "    </tr>\n",
       "    <tr>\n",
       "      <th>5</th>\n",
       "      <td>Monica</td>\n",
       "      <td>1.0</td>\n",
       "      <td>Monica Gets A Roommate</td>\n",
       "      <td>Okay, everybody relax. This is not even a date...</td>\n",
       "      <td>5.0</td>\n",
       "      <td>1.0</td>\n",
       "    </tr>\n",
       "    <tr>\n",
       "      <th>6</th>\n",
       "      <td>Chandler</td>\n",
       "      <td>1.0</td>\n",
       "      <td>Monica Gets A Roommate</td>\n",
       "      <td>Sounds like a date to me.</td>\n",
       "      <td>6.0</td>\n",
       "      <td>1.0</td>\n",
       "    </tr>\n",
       "    <tr>\n",
       "      <th>7</th>\n",
       "      <td>Chandler</td>\n",
       "      <td>1.0</td>\n",
       "      <td>Monica Gets A Roommate</td>\n",
       "      <td>Alright, so I'm back in high school, I'm stand...</td>\n",
       "      <td>7.0</td>\n",
       "      <td>1.0</td>\n",
       "    </tr>\n",
       "    <tr>\n",
       "      <th>8</th>\n",
       "      <td>All</td>\n",
       "      <td>1.0</td>\n",
       "      <td>Monica Gets A Roommate</td>\n",
       "      <td>Oh, yeah. Had that dream.</td>\n",
       "      <td>8.0</td>\n",
       "      <td>1.0</td>\n",
       "    </tr>\n",
       "    <tr>\n",
       "      <th>9</th>\n",
       "      <td>Chandler</td>\n",
       "      <td>1.0</td>\n",
       "      <td>Monica Gets A Roommate</td>\n",
       "      <td>Then I look down, and I realize there's a phon...</td>\n",
       "      <td>9.0</td>\n",
       "      <td>1.0</td>\n",
       "    </tr>\n",
       "  </tbody>\n",
       "</table>\n",
       "</div>"
      ],
      "text/plain": [
       "     author  episode_number           episode_title  \\\n",
       "0    Monica             1.0  Monica Gets A Roommate   \n",
       "1      Joey             1.0  Monica Gets A Roommate   \n",
       "2  Chandler             1.0  Monica Gets A Roommate   \n",
       "3    Phoebe             1.0  Monica Gets A Roommate   \n",
       "4    Phoebe             1.0  Monica Gets A Roommate   \n",
       "5    Monica             1.0  Monica Gets A Roommate   \n",
       "6  Chandler             1.0  Monica Gets A Roommate   \n",
       "7  Chandler             1.0  Monica Gets A Roommate   \n",
       "8       All             1.0  Monica Gets A Roommate   \n",
       "9  Chandler             1.0  Monica Gets A Roommate   \n",
       "\n",
       "                                               quote  quote_order  season  \n",
       "0  There's nothing to tell! He's just some guy I ...          0.0     1.0  \n",
       "1  C'mon, you're going out with the guy! There's ...          1.0     1.0  \n",
       "2  All right Joey, be nice. So does he have a hum...          2.0     1.0  \n",
       "3                           Wait, does he eat chalk?          3.0     1.0  \n",
       "4  Just, 'cause, I don't want her to go through w...          4.0     1.0  \n",
       "5  Okay, everybody relax. This is not even a date...          5.0     1.0  \n",
       "6                          Sounds like a date to me.          6.0     1.0  \n",
       "7  Alright, so I'm back in high school, I'm stand...          7.0     1.0  \n",
       "8                          Oh, yeah. Had that dream.          8.0     1.0  \n",
       "9  Then I look down, and I realize there's a phon...          9.0     1.0  "
      ]
     },
     "execution_count": 56,
     "metadata": {},
     "output_type": "execute_result"
    }
   ],
   "source": [
    "FRIENDS_PATH = \"friends_quotes.csv\"\n",
    "\n",
    "df = pd.read_csv(FRIENDS_PATH)\n",
    "print(f\"Shape of data before filtering: {df.shape}\")\n",
    "\n",
    "# Drop rows with any null values\n",
    "df = df.dropna()\n",
    "\n",
    "# Replace empty strings with NaN and then drop those rows\n",
    "df = df.replace('', float('nan')).dropna()\n",
    "\n",
    "# Reset the index after dropping rows\n",
    "df = df.reset_index(drop=True)\n",
    "print(f\"Shape of data after filtering: {df.shape}\")\n",
    "\n",
    "df.head(10)"
   ]
  },
  {
   "cell_type": "code",
   "execution_count": 57,
   "metadata": {},
   "outputs": [
    {
     "data": {
      "text/plain": [
       "author            0\n",
       "episode_number    0\n",
       "episode_title     0\n",
       "quote             0\n",
       "quote_order       0\n",
       "season            0\n",
       "dtype: int64"
      ]
     },
     "execution_count": 57,
     "metadata": {},
     "output_type": "execute_result"
    }
   ],
   "source": [
    "df.isnull().sum() # check for missing data"
   ]
  },
  {
   "cell_type": "code",
   "execution_count": 58,
   "metadata": {},
   "outputs": [
    {
     "name": "stderr",
     "output_type": "stream",
     "text": [
      "/Users/leonremke/miniconda3/envs/bomberman/lib/python3.11/site-packages/spacy/pipeline/lemmatizer.py:211: UserWarning: [W108] The rule-based lemmatizer did not find POS annotation for one or more tokens. Check that your pipeline includes components that assign token.pos, typically 'tagger'+'attribute_ruler' or 'morphologizer'.\n",
      "  warnings.warn(Warnings.W108)\n"
     ]
    },
    {
     "name": "stdout",
     "output_type": "stream",
     "text": [
      "Number of quotes after filtering None: 57196\n"
     ]
    }
   ],
   "source": [
    "nlp = spacy.load(\"en_core_web_sm\", disable=[\"tagger\", \"parser\",\"ner\"])\n",
    "stopwords = spacy.lang.en.stop_words.STOP_WORDS\n",
    "\n",
    "def preprocess(doc):\n",
    "    # Remove stopwords and single characters\n",
    "    tokens = [token.text for token in doc if token.text not in stopwords and len(token.text) > 1]\n",
    "\n",
    "    # Use regex to remove non-alphabetic characters\n",
    "    tokens = [re.sub(r'[^a-zA-Z0-9]', '', token) for token in tokens]\n",
    "\n",
    "    # Filter None Types \n",
    "    tokens = [token for token in tokens if token]\n",
    "\n",
    "    # if len(tokens) > 3:\n",
    "    return ' '.join(tokens)\n",
    "\n",
    "# lower qoutes \n",
    "lowercased_qoutes = df[\"quote\"].str.lower().tolist()\n",
    "\n",
    "quotes = [preprocess(doc) for doc in nlp.pipe(lowercased_qoutes)]\n",
    "\n",
    "# none_count = 0\n",
    "# for quote in quotes:\n",
    "#     if quote is None:\n",
    "#         none_count += 1\n",
    "# print(f\"Number of quotes that are None due to less than three tokens: {none_count}\")\n",
    "\n",
    "# Filter None Types\n",
    "quotes = [quote for quote in quotes if quote]\n",
    "print(f\"Number of quotes after filtering None: {len(quotes)}\")"
   ]
  },
  {
   "cell_type": "code",
   "execution_count": 59,
   "metadata": {},
   "outputs": [
    {
     "name": "stdout",
     "output_type": "stream",
     "text": [
      "Number of quotes that contain 'central perk': 36\n"
     ]
    }
   ],
   "source": [
    "#Check if central or perk is included in preprocessed quotes:\n",
    "central_perk = [line for line in quotes if 'central' in line and 'perk' in line]\n",
    "print(f\"Number of quotes that contain 'central perk': {len(central_perk)}\")"
   ]
  },
  {
   "cell_type": "code",
   "execution_count": 60,
   "metadata": {},
   "outputs": [
    {
     "name": "stdout",
     "output_type": "stream",
     "text": [
      "First 10 quotes:'\n",
      "\n",
      "['tell guy work', 'cm going guy got ta wrong', 'right joey nice hump hump hairpiece', 'wait eat chalk', 'cause want went carl oh', 'okay everybody relax date people going dinner and having sex', 'sounds like date', 'alright high school standing middle cafeteria realize totally naked', 'oh yeah dream', 'look realize phone']\n"
     ]
    }
   ],
   "source": [
    "print(\"First 10 quotes:'\\n\")\n",
    "print(quotes[:10])"
   ]
  },
  {
   "cell_type": "code",
   "execution_count": 61,
   "id": "09dc3179",
   "metadata": {
    "id": "09dc3179"
   },
   "outputs": [],
   "source": [
    "from gensim.models.phrases import Phrases\n",
    "\n",
    "def tokenize(sentence):\n",
    "    # Basic whitespace tokenizer\n",
    "    return sentence.split(\" \")\n",
    "\n",
    "def create_vocab(corpus):\n",
    "    \"\"\"\n",
    "    Build a vocabulary containing the frequencies\n",
    "    corpus: the list of tokenized lines form the corpus\n",
    "\n",
    "    Returns dictionaries `word` -> (index or unique identified), frequency)`\n",
    "    and `word` -> (index or unique identified)\n",
    "    and index or unique identified -> `word`\n",
    "    and length of the vocab\n",
    "    \"\"\"\n",
    "  \n",
    "    word_count_dict = {}  # word id to the number of time it appears\n",
    "    id_to_word = {}  # mapping ids to words\n",
    "    word_to_id = {}  # mapping words to ids\n",
    "    \n",
    "    # Tokenize the input corpus into list of words\n",
    "\n",
    "    # Tokenize the input corpus into list of words\n",
    "    tokenized_corpus = [tokenize(line) for line in corpus]\n",
    "    \n",
    "    # bigram model\n",
    "    # Prepare quotes for Phrases\n",
    "    phrases = Phrases(tokenized_corpus, min_count=10)\n",
    "    # Check if bigrams worked\n",
    "    print(f\"Number of phrases: {len(phrases.vocab)}\")\n",
    "    # Get a list of all the lines\n",
    "    lines = list(phrases[tokenized_corpus])\n",
    "\n",
    "    # flatten the list of lists into a single list of words\n",
    "    words = [word for sentence in lines for word in sentence]\n",
    "\n",
    "    # frequency of each word\n",
    "    word_freq = {}\n",
    "    for word in words:\n",
    "        if word in word_freq:\n",
    "            word_freq[word] += 1\n",
    "        else:\n",
    "            word_freq[word] = 1\n",
    "\n",
    "    # Iterate over word_count dict and add words to vocab\n",
    "    for idx, (word, freq) in enumerate(word_freq.items()):\n",
    "        # Add word to vocab dictionary\n",
    "        word_to_id[word] = idx\n",
    "        # Add word to id_to_word dictionary\n",
    "        id_to_word[idx] = word\n",
    "        # Add frequency\n",
    "        word_count_dict[idx] = freq\n",
    "    return word_count_dict, id_to_word, word_to_id, len(word_count_dict), lines\n"
   ]
  },
  {
   "cell_type": "code",
   "execution_count": 62,
   "id": "9fb4ca54",
   "metadata": {
    "id": "9fb4ca54"
   },
   "outputs": [
    {
     "name": "stdout",
     "output_type": "stream",
     "text": [
      "Number of phrases: 171526\n"
     ]
    }
   ],
   "source": [
    "word_count_dict, id_to_word,word_to_id, vocab_size, tokenized_lines =create_vocab(quotes)"
   ]
  },
  {
   "cell_type": "markdown",
   "id": "GlX4ugx88_v7",
   "metadata": {
    "id": "GlX4ugx88_v7"
   },
   "source": [
    "If you have done the exercise correctly, you have `15333` tokens in the vocabulary, and the number of occurrences for `joey` is `1951` and for `central_perk` is `36`"
   ]
  },
  {
   "cell_type": "code",
   "execution_count": 63,
   "id": "c8b31695",
   "metadata": {
    "id": "c8b31695"
   },
   "outputs": [
    {
     "name": "stdout",
     "output_type": "stream",
     "text": [
      "number of occurrences for joey: 2308\n",
      "number of occurrences for central perk: 37\n",
      "vocab size is: 17646\n"
     ]
    }
   ],
   "source": [
    "print(\"number of occurrences for joey:\",word_count_dict[word_to_id['joey']])\n",
    "print(\"number of occurrences for central perk:\",word_count_dict[word_to_id['central_perk']])\n",
    "print(\"vocab size is:\",vocab_size)"
   ]
  },
  {
   "cell_type": "code",
   "execution_count": 64,
   "id": "b027280a",
   "metadata": {
    "id": "b027280a"
   },
   "outputs": [],
   "source": [
    "def calculate_weight(cooccurrences, context_word_ids, center_word_id, side):\n",
    "    \"\"\"\n",
    "    Calculate the weight in the co-occurrence matrix based on the distance of a word\n",
    "    to the center word\n",
    "    sentence = [I, went, to , the, bank]\n",
    "    Let center word be \"to\" and window size =2\n",
    "    left_context =[I,went]\n",
    "    right_context = [the,bank]\n",
    "\n",
    "    Weights:\n",
    "    1/distance-> `went` and `the` have weight of 1 and `I` and `bank` have weight of 1/2\n",
    "    \"\"\"\n",
    "\n",
    "    if side == \"left_context\":\n",
    "        context_word_ids.reverse()\n",
    "\n",
    "      ## adjust the weight of the matrix to 1/distance between the center word and context word, where center word will act as the row and the context word is the column##\n",
    "\n",
    "    for idx, context_word_id in enumerate(context_word_ids):\n",
    "        distance = abs(idx + 1)\n",
    "        if distance == 0:\n",
    "            weight = 1\n",
    "        weight = 1 / distance\n",
    "        cooccurrences[center_word_id, context_word_id] += weight\n",
    "\n",
    "    return cooccurrences\n",
    "\n"
   ]
  },
  {
   "cell_type": "markdown",
   "id": "MUF8zXO59P3b",
   "metadata": {
    "id": "MUF8zXO59P3b"
   },
   "source": [
    "The weight of first to second element on the example matrix should be `1.0`."
   ]
  },
  {
   "cell_type": "code",
   "execution_count": 65,
   "id": "d7c32c0e",
   "metadata": {
    "id": "d7c32c0e"
   },
   "outputs": [
    {
     "name": "stdout",
     "output_type": "stream",
     "text": [
      "weight of id=0 to id=1 : 1.0\n"
     ]
    }
   ],
   "source": [
    "cooccurrences = sparse.lil_matrix((10, 10),dtype=np.float64)\n",
    "calculate_weight(cooccurrences, [1,3,5], 0, side=\"right_context\")\n",
    "print(\"weight of id=0 to id=1 :\",cooccurrences[0,1])"
   ]
  },
  {
   "cell_type": "markdown",
   "id": "0ede37e8",
   "metadata": {
    "id": "0ede37e8"
   },
   "source": [
    "We build co-occurrence as a sparse matrix to speed up the computation. The original matrix is a square matrix in the size of the vocabulary. However, many words do not co-occur with one another and we do not need to store those elements."
   ]
  },
  {
   "cell_type": "code",
   "execution_count": 66,
   "id": "d63f39e7",
   "metadata": {
    "id": "d63f39e7"
   },
   "outputs": [],
   "source": [
    "def build_cooccur(corpus, window_size=3, min_count=5):\n",
    "    \"\"\"\n",
    "    Create a coocurrance matrix given a corpus\n",
    "    corpus: the list of tokenized lines form the corpus\n",
    "    window_size: how many words to right and left to consider\n",
    "\n",
    "    Returns the co-oocurrance sparse matrix\n",
    "    \"\"\"\n",
    "    vocab, id_to_word,word_to_id, vocab_size, tokenized_lines = create_vocab(corpus)\n",
    "\n",
    "    #sparse lil_matrix is optimized to operate on matrix which mostly has zeros.\n",
    "    cooccurrences = sparse.lil_matrix((vocab_size, vocab_size),dtype=np.float64)\n",
    "\n",
    "    for line in tokenized_lines:\n",
    "        word_ids = [word_to_id[word] for word in line]\n",
    "\n",
    "        for i, central_word_id in enumerate(word_ids):\n",
    "\n",
    "            # left_context_word_ids = [word_ids[j] for j in range(max(i - window_size, 0), i)]\n",
    "            left_context_word_ids = [word_ids[j] for j in range(max(i - window_size, 0), i)]\n",
    "\n",
    "            #right side context\n",
    "            # right_context_word_ids = [word_ids[j] for j in range(i, min(i + window_size, len(word_ids)))]\n",
    "            # right_context_word_ids = [j for j in range(i + 1, min(i + window_size, len(word_ids)))]\n",
    "            right_context_word_ids = [word_ids[j] for j in range(i + 1, min(i + window_size + 1, len(word_ids)))]\n",
    "\n",
    "\n",
    "            ###update the matrix based on the distance weights on both sides###\n",
    "            # Todo: pass over center_word_id or index? IF newly makes no sence with distances...\n",
    "            if i > 0:\n",
    "                cooccurrences = calculate_weight(cooccurrences, left_context_word_ids, central_word_id, side=\"left_context\")\n",
    "            if i < len(word_ids) - 1:\n",
    "                cooccurrences = calculate_weight(cooccurrences, right_context_word_ids, central_word_id, side=\"right_context\")\n",
    "\n",
    "    # go into the LiL-matrix to quickly iterate through all nonzero cells and filter out the ones with minimum count\n",
    "    cooccurrences_tuples = []\n",
    "    for i, (row, data) in enumerate(zip(cooccurrences.rows,cooccurrences.data)):\n",
    "        for j, d in zip(row, data):\n",
    "            if d >= min_count:\n",
    "                cooccurrences_tuples.append((i, j, d))\n",
    "\n",
    "      ## check if the min_count condition is statisfied and then add the elements as the tuple of (i,j,weight)###\n",
    "    return cooccurrences_tuples\n"
   ]
  },
  {
   "cell_type": "markdown",
   "id": "f3aba5bd",
   "metadata": {
    "id": "f3aba5bd"
   },
   "source": [
    "Build a matrix with a window_size of 3 words, and the minimum number of times a word has to occur to be part of the matrix is 10."
   ]
  },
  {
   "cell_type": "code",
   "execution_count": 67,
   "id": "69c198e0",
   "metadata": {
    "id": "69c198e0",
    "scrolled": true
   },
   "outputs": [
    {
     "name": "stdout",
     "output_type": "stream",
     "text": [
      "Number of phrases: 171526\n"
     ]
    },
    {
     "data": {
      "text/plain": [
       "(2, 20, 16.16666666666667)"
      ]
     },
     "execution_count": 67,
     "metadata": {},
     "output_type": "execute_result"
    }
   ],
   "source": [
    "matrix=build_cooccur(quotes, window_size=3, min_count=10)\n",
    "matrix[103]"
   ]
  },
  {
   "cell_type": "markdown",
   "id": "82cc1256",
   "metadata": {
    "id": "82cc1256"
   },
   "source": [
    "### Subtask 3: Modelling and Training\n"
   ]
  },
  {
   "cell_type": "markdown",
   "id": "91764831",
   "metadata": {
    "id": "91764831"
   },
   "source": [
    "We initialize the weights for the context and center words and learn the vectors through backprop, using the GloVe cost function.\n",
    "Make sure you use the correct weighting schema."
   ]
  },
  {
   "cell_type": "code",
   "execution_count": 68,
   "id": "05251525",
   "metadata": {
    "id": "05251525"
   },
   "outputs": [],
   "source": [
    "# Random normal weights intialization\n",
    "np.random.seed(77)# we set a seed to have similar results\n",
    "def init_weights(vocab_size, hidden):\n",
    "     #Each word has a center word vector and a context vector.\n",
    "     # initilize the correct size vector\n",
    "    W_center = np.random.randn(vocab_size, hidden)\n",
    "    # initilize the correct size vector\n",
    "    b_center = np.random.randn(vocab_size)\n",
    "    # initilize the correct size vector\n",
    "    W_context = np.random.randn(vocab_size, hidden)\n",
    "    # initilize the correct size vector\n",
    "    b_context = np.random.randn(vocab_size)\n",
    "    return W_center, b_center, W_context, b_context"
   ]
  },
  {
   "cell_type": "markdown",
   "id": "y-mcYRis9wet",
   "metadata": {
    "id": "y-mcYRis9wet"
   },
   "source": [
    "keep track of `W_center[0,1]` as it should change based on backprop in the next cells."
   ]
  },
  {
   "cell_type": "code",
   "execution_count": 69,
   "id": "b2f31560",
   "metadata": {
    "id": "b2f31560"
   },
   "outputs": [
    {
     "name": "stdout",
     "output_type": "stream",
     "text": [
      "check the shapes to make sure the matrices have correct sizes:\n",
      "(100, 32)\n",
      "(100,)\n",
      "(100, 32)\n",
      "(100,)\n",
      "Look at the value of this element and how it changes with back prob:\n",
      "0.6615314728168009\n"
     ]
    }
   ],
   "source": [
    "W_center, b_center, W_context, b_context=init_weights(100, 32)\n",
    "print(\"check the shapes to make sure the matrices have correct sizes:\")\n",
    "print(W_center.shape)\n",
    "print(b_center.shape)\n",
    "print(W_context.shape)\n",
    "print(b_context.shape)\n",
    "print(\"Look at the value of this element and how it changes with back prob:\")\n",
    "print(W_center[0,1])"
   ]
  },
  {
   "cell_type": "markdown",
   "id": "gae189dl-ZZo",
   "metadata": {
    "id": "gae189dl-ZZo"
   },
   "source": [
    "Write a training script for the GloVe model that goes over the entire co-occurrence matrix given a number of epochs."
   ]
  },
  {
   "cell_type": "code",
   "execution_count": 70,
   "metadata": {},
   "outputs": [],
   "source": [
    "import math\n",
    "import sys\n",
    "\n",
    "def check_nan(update):\n",
    "    if math.isnan(update) or math.isinf(update):\n",
    "        sys.stderr.write(\"\\ncaught NaN in update\")\n",
    "        return 0.0\n",
    "    else:\n",
    "        return update\n"
   ]
  },
  {
   "cell_type": "code",
   "execution_count": 71,
   "id": "8669b4fb",
   "metadata": {
    "id": "8669b4fb"
   },
   "outputs": [],
   "source": [
    "# Back Propagation\n",
    "def back_prop(W_center, b_center, W_context, b_context, matrix, x_max,  vocab_size, learning_rate, alpha=2):\n",
    "    \"\"\"\n",
    "    W_center, b_center: weight and bias of the center word\n",
    "    W_context, b_context: weight and bias of the context word\n",
    "    vocab_size: vocabulary size\n",
    "    x_max: define our weighting function when computing the cost for two word pairs; see the GloVe paper for more\n",
    "    details.\n",
    "    matrix: coocurrance matrix\n",
    "    alpha: the power of x_max function\n",
    "    learning_rate: learning rate for gradient descent\n",
    "    \"\"\"\n",
    "\n",
    "    global_cost = 0\n",
    "    grad_squared_center = np.zeros_like(W_center)  # Initialize squared gradients for center words\n",
    "    grad_squared_context = np.zeros_like(W_context)  # Initialize squared gradients for context words\n",
    "    grad_squared_bias_center = np.zeros_like(b_center)  # Initialize squared gradients for center word biases\n",
    "    grad_squared_bias_context = np.zeros_like(b_context)  # Initialize squared gradients for context word biases\n",
    "\n",
    "    for i, j, cooccurrence in matrix:\n",
    "        weight = ((cooccurrence/x_max)**alpha if(cooccurrence < x_max) else 1)\n",
    "        # Compute inner component of cost function  J' = w_i^Tw_j + b_i + b_j - log(X_{ij})\n",
    "        # print(\"weight i transposed:\",W_context[j].T, \"\\n\", W_context[j])\n",
    "        diff_j_prime = np.dot(W_center[i], W_context[j]) + b_center[i] + b_context[j] - np.log(cooccurrence)\n",
    "\n",
    "        ##Compute cost J = f(X_{ij}) (J')^2##\n",
    "        cost_j = weight * (diff_j_prime**2)\n",
    "\n",
    "        # Check for NaN and Infinity values in the diffs\n",
    "        if np.isnan(diff_j_prime) or np.isinf(diff_j_prime):\n",
    "            print(f\"Encountered NaN/Infinity value in diff_j_prime, setting to 0.\")\n",
    "            continue\n",
    "        \n",
    "        global_cost += cost_j\n",
    "        ##Compute gradients for word vectors##\n",
    "        grad_center = diff_j_prime * W_context[j]\n",
    "        grad_context = diff_j_prime * W_center[i]\n",
    "\n",
    "        ##Compute gradients for bias terms##\n",
    "        grad_bias_center = diff_j_prime\n",
    "        grad_bias_context = diff_j_prime\n",
    "\n",
    "        # Accumulate squared gradients\n",
    "        grad_squared_center[i] += grad_center ** 2\n",
    "        grad_squared_context[j] += grad_context ** 2\n",
    "        grad_squared_bias_center[i] += grad_bias_center ** 2\n",
    "        grad_squared_bias_context[j] += grad_bias_context ** 2\n",
    "        \n",
    "        # Update weights with adaptive learning rates\n",
    "        W_center[i] -= learning_rate * grad_center / np.sqrt(grad_squared_center[i] + 1e-8)\n",
    "        W_context[j] -= learning_rate * grad_context / np.sqrt(grad_squared_context[j] + 1e-8)\n",
    "        b_center[i] -= learning_rate * grad_bias_center / np.sqrt(grad_squared_bias_center[i] + 1e-8)\n",
    "        b_context[j] -= learning_rate * grad_bias_context / np.sqrt(grad_squared_bias_context[j] + 1e-8)\n",
    "    return W_center, b_center, W_context, b_context, global_cost    "
   ]
  },
  {
   "cell_type": "markdown",
   "id": "sV9uZIgX95tZ",
   "metadata": {
    "id": "sV9uZIgX95tZ"
   },
   "source": [
    "Based on the random seed, the value of `W_center[0,1]` should have changed due to backpropagation.\n"
   ]
  },
  {
   "cell_type": "code",
   "execution_count": 72,
   "id": "84a467a0",
   "metadata": {
    "id": "84a467a0"
   },
   "outputs": [
    {
     "name": "stdout",
     "output_type": "stream",
     "text": [
      "cost: 0.20163369439311515\n",
      "changed value:\n",
      "0.674624772684653\n"
     ]
    }
   ],
   "source": [
    "test_matrix=[(0,1,1),(0,2,0.4),(0,3,0.9),(0,4,0.4)]\n",
    "W_center, b_center, W_context, b_context, global_cost = back_prop(W_center, b_center, W_context, b_context, test_matrix, x_max=10,  vocab_size=100, learning_rate=0.01)\n",
    "print(\"cost:\",global_cost)\n",
    "print(\"changed value:\")\n",
    "print(W_center[0,1])"
   ]
  },
  {
   "cell_type": "markdown",
   "id": "ULLmdXvC-QpX",
   "metadata": {
    "id": "ULLmdXvC-QpX"
   },
   "source": [
    "\n",
    "Write a training script for the GloVe model that goes over the entire co-occurrence matrix given a number of epochs."
   ]
  },
  {
   "cell_type": "code",
   "execution_count": 73,
   "id": "12dd535b",
   "metadata": {
    "id": "12dd535b"
   },
   "outputs": [],
   "source": [
    "def train_GloVe(matrix, vocab_size, epochs = 10, learning_rate = 0.0001, x_max = 10, hidden_dim=100):\n",
    "    \"\"\"\n",
    "    Train the glove model based the co-ocurrance matrix for a number of epochs\n",
    "    matrix: co-occcurance matrix\n",
    "    vocab_size: number of words in vocab\n",
    "    epochs: number of passes through the data\n",
    "    learning_rate: learning rate for back prop\n",
    "    x_max: parameter of the weighting function\n",
    "    hidden_dim: dimension of the vectors\n",
    "    \"\"\"\n",
    "    W_center, b_center, W_context, b_context = init_weights(vocab_size, hidden_dim)\n",
    "    for i in tqdm(range(epochs)):\n",
    "        ### perform backprop###\n",
    "        W_center, b_center, W_context, b_context, global_cost = back_prop(W_center, b_center, W_context, b_context, matrix, x_max,  vocab_size, learning_rate, alpha=0.75)\n",
    "        print(global_cost)\n",
    "    return W_center, W_context"
   ]
  },
  {
   "cell_type": "markdown",
   "id": "e0116c62",
   "metadata": {
    "id": "e0116c62"
   },
   "source": [
    "Train the model with hidden dimension of `100` and learning rate of `0.001` for a `100` epochs."
   ]
  },
  {
   "cell_type": "code",
   "execution_count": 74,
   "id": "b2355c76",
   "metadata": {
    "id": "b2355c76"
   },
   "outputs": [
    {
     "name": "stderr",
     "output_type": "stream",
     "text": [
      "  0%|          | 0/100 [00:00<?, ?it/s]"
     ]
    },
    {
     "name": "stdout",
     "output_type": "stream",
     "text": [
      "695391.2052786889\n"
     ]
    },
    {
     "name": "stderr",
     "output_type": "stream",
     "text": [
      "  2%|▏         | 2/100 [00:00<00:06, 14.75it/s]"
     ]
    },
    {
     "name": "stdout",
     "output_type": "stream",
     "text": [
      "684992.7537767655\n",
      "674733.9577590675\n"
     ]
    },
    {
     "name": "stderr",
     "output_type": "stream",
     "text": [
      "  4%|▍         | 4/100 [00:00<00:06, 14.71it/s]"
     ]
    },
    {
     "name": "stdout",
     "output_type": "stream",
     "text": [
      "664597.3653146222\n"
     ]
    },
    {
     "name": "stderr",
     "output_type": "stream",
     "text": [
      "  6%|▌         | 6/100 [00:00<00:06, 13.80it/s]"
     ]
    },
    {
     "name": "stdout",
     "output_type": "stream",
     "text": [
      "654594.4602677099\n",
      "644713.2477874254\n",
      "634954.6228464773\n"
     ]
    },
    {
     "name": "stderr",
     "output_type": "stream",
     "text": [
      " 10%|█         | 10/100 [00:00<00:06, 14.69it/s]"
     ]
    },
    {
     "name": "stdout",
     "output_type": "stream",
     "text": [
      "625321.2992252586\n",
      "615828.5351777349\n",
      "606434.1477521994\n",
      "597163.4979821568\n"
     ]
    },
    {
     "name": "stderr",
     "output_type": "stream",
     "text": [
      " 14%|█▍        | 14/100 [00:00<00:05, 14.85it/s]"
     ]
    },
    {
     "name": "stdout",
     "output_type": "stream",
     "text": [
      "588014.9247765286\n",
      "578976.7172235975\n",
      "570062.2269141058\n",
      "561260.5739807851\n"
     ]
    },
    {
     "name": "stderr",
     "output_type": "stream",
     "text": [
      " 18%|█▊        | 18/100 [00:01<00:05, 15.01it/s]"
     ]
    },
    {
     "name": "stdout",
     "output_type": "stream",
     "text": [
      "552559.7179360389\n",
      "543984.1961195192\n",
      "535512.60719379\n",
      "527131.9134109158\n"
     ]
    },
    {
     "name": "stderr",
     "output_type": "stream",
     "text": [
      " 22%|██▏       | 22/100 [00:01<00:05, 15.15it/s]"
     ]
    },
    {
     "name": "stdout",
     "output_type": "stream",
     "text": [
      "518892.72447807644\n",
      "510748.7642707005\n",
      "502702.67004000075\n",
      "494775.3996178506\n"
     ]
    },
    {
     "name": "stderr",
     "output_type": "stream",
     "text": [
      " 26%|██▌       | 26/100 [00:01<00:04, 15.19it/s]"
     ]
    },
    {
     "name": "stdout",
     "output_type": "stream",
     "text": [
      "486955.17169885425\n",
      "479212.0677417723\n",
      "471584.79303952877\n",
      "464049.2861284379\n"
     ]
    },
    {
     "name": "stderr",
     "output_type": "stream",
     "text": [
      " 30%|███       | 30/100 [00:02<00:04, 15.13it/s]"
     ]
    },
    {
     "name": "stdout",
     "output_type": "stream",
     "text": [
      "456634.22249332047\n",
      "449285.34033387544\n",
      "442054.8502836274\n",
      "434914.20985491364\n"
     ]
    },
    {
     "name": "stderr",
     "output_type": "stream",
     "text": [
      " 34%|███▍      | 34/100 [00:02<00:04, 15.18it/s]"
     ]
    },
    {
     "name": "stdout",
     "output_type": "stream",
     "text": [
      "427864.67738798907\n",
      "420911.20883322577\n",
      "414051.8204455353\n",
      "407277.3018898857\n"
     ]
    },
    {
     "name": "stderr",
     "output_type": "stream",
     "text": [
      " 38%|███▊      | 38/100 [00:02<00:04, 15.23it/s]"
     ]
    },
    {
     "name": "stdout",
     "output_type": "stream",
     "text": [
      "400603.99442245776\n",
      "394009.04012812016\n",
      "387520.35268648854\n",
      "381106.2645080377\n"
     ]
    },
    {
     "name": "stderr",
     "output_type": "stream",
     "text": [
      " 40%|████      | 40/100 [00:02<00:03, 15.06it/s]"
     ]
    },
    {
     "name": "stdout",
     "output_type": "stream",
     "text": [
      "374792.65874949115\n",
      "368560.89619892323\n",
      "362417.34578515234\n"
     ]
    },
    {
     "name": "stderr",
     "output_type": "stream",
     "text": [
      " 42%|████▏     | 42/100 [00:02<00:03, 15.03it/s]"
     ]
    },
    {
     "name": "stdout",
     "output_type": "stream",
     "text": [
      "356354.43995288236\n"
     ]
    },
    {
     "name": "stderr",
     "output_type": "stream",
     "text": [
      " 46%|████▌     | 46/100 [00:03<00:03, 15.11it/s]"
     ]
    },
    {
     "name": "stdout",
     "output_type": "stream",
     "text": [
      "350380.1964251968\n",
      "344494.18588228856\n",
      "338672.5431952512\n",
      "332947.1453251629\n"
     ]
    },
    {
     "name": "stderr",
     "output_type": "stream",
     "text": [
      " 50%|█████     | 50/100 [00:03<00:03, 15.18it/s]"
     ]
    },
    {
     "name": "stdout",
     "output_type": "stream",
     "text": [
      "327304.8713940591\n",
      "321726.437233444\n",
      "316254.1728214573\n",
      "310839.6217880669\n"
     ]
    },
    {
     "name": "stderr",
     "output_type": "stream",
     "text": [
      " 54%|█████▍    | 54/100 [00:03<00:03, 15.19it/s]"
     ]
    },
    {
     "name": "stdout",
     "output_type": "stream",
     "text": [
      "305523.28926754766\n",
      "300258.5106281622\n",
      "295086.36665040086\n",
      "289979.9242760956\n"
     ]
    },
    {
     "name": "stderr",
     "output_type": "stream",
     "text": [
      " 58%|█████▊    | 58/100 [00:03<00:02, 15.13it/s]"
     ]
    },
    {
     "name": "stdout",
     "output_type": "stream",
     "text": [
      "284941.4080667635\n",
      "279988.2364366063\n",
      "275089.70664991654\n",
      "270261.8900562369"
     ]
    },
    {
     "name": "stderr",
     "output_type": "stream",
     "text": [
      " 62%|██████▏   | 62/100 [00:04<00:02, 15.16it/s]"
     ]
    },
    {
     "name": "stdout",
     "output_type": "stream",
     "text": [
      "\n",
      "265521.29881672363\n",
      "260846.1466895673\n",
      "256236.095929909\n"
     ]
    },
    {
     "name": "stderr",
     "output_type": "stream",
     "text": [
      " 66%|██████▌   | 66/100 [00:04<00:02, 15.25it/s]"
     ]
    },
    {
     "name": "stdout",
     "output_type": "stream",
     "text": [
      "251695.6272926168\n",
      "247225.24104283462\n",
      "242805.97492645853\n",
      "238472.3019289845\n"
     ]
    },
    {
     "name": "stderr",
     "output_type": "stream",
     "text": [
      " 70%|███████   | 70/100 [00:04<00:01, 15.14it/s]"
     ]
    },
    {
     "name": "stdout",
     "output_type": "stream",
     "text": [
      "234180.66652521794\n",
      "229971.5696943434\n",
      "225808.01986992804\n",
      "221719.54625260847\n"
     ]
    },
    {
     "name": "stderr",
     "output_type": "stream",
     "text": [
      " 74%|███████▍  | 74/100 [00:04<00:01, 15.10it/s]"
     ]
    },
    {
     "name": "stdout",
     "output_type": "stream",
     "text": [
      "217694.75252083325\n",
      "213732.3997872285\n",
      "209818.14847991237\n",
      "205966.58333975816\n"
     ]
    },
    {
     "name": "stderr",
     "output_type": "stream",
     "text": [
      " 78%|███████▊  | 78/100 [00:05<00:01, 15.04it/s]"
     ]
    },
    {
     "name": "stdout",
     "output_type": "stream",
     "text": [
      "202185.4737216321\n",
      "198458.10778947335\n",
      "194776.17385811434\n",
      "191166.7262109617\n"
     ]
    },
    {
     "name": "stderr",
     "output_type": "stream",
     "text": [
      " 82%|████████▏ | 82/100 [00:05<00:01, 15.02it/s]"
     ]
    },
    {
     "name": "stdout",
     "output_type": "stream",
     "text": [
      "187590.3009418233\n",
      "184097.12119379535\n",
      "180638.38970916916\n",
      "177263.4864369638\n"
     ]
    },
    {
     "name": "stderr",
     "output_type": "stream",
     "text": [
      " 86%|████████▌ | 86/100 [00:05<00:00, 15.15it/s]"
     ]
    },
    {
     "name": "stdout",
     "output_type": "stream",
     "text": [
      "173924.7968949926\n",
      "170634.1438174592\n",
      "167407.85532640078\n",
      "164216.65662184288\n"
     ]
    },
    {
     "name": "stderr",
     "output_type": "stream",
     "text": [
      " 90%|█████████ | 90/100 [00:05<00:00, 15.24it/s]"
     ]
    },
    {
     "name": "stdout",
     "output_type": "stream",
     "text": [
      "161087.42300284415\n",
      "158007.7679174811\n",
      "154954.13111260865\n",
      "151985.1151092053\n"
     ]
    },
    {
     "name": "stderr",
     "output_type": "stream",
     "text": [
      " 94%|█████████▍| 94/100 [00:06<00:00, 15.25it/s]"
     ]
    },
    {
     "name": "stdout",
     "output_type": "stream",
     "text": [
      "149048.2955693023\n",
      "146155.8150476256\n",
      "143316.63109788622\n",
      "140488.40148462914\n"
     ]
    },
    {
     "name": "stderr",
     "output_type": "stream",
     "text": [
      " 98%|█████████▊| 98/100 [00:06<00:00, 15.14it/s]"
     ]
    },
    {
     "name": "stdout",
     "output_type": "stream",
     "text": [
      "137769.81542708204\n",
      "135051.47021843924\n",
      "132402.24414495454\n",
      "129768.70291453031\n"
     ]
    },
    {
     "name": "stderr",
     "output_type": "stream",
     "text": [
      "100%|██████████| 100/100 [00:06<00:00, 15.05it/s]"
     ]
    },
    {
     "name": "stdout",
     "output_type": "stream",
     "text": [
      "127205.58707190656\n",
      "124658.86655508664\n"
     ]
    },
    {
     "name": "stderr",
     "output_type": "stream",
     "text": [
      "\n"
     ]
    }
   ],
   "source": [
    "## your code ##\n",
    "W_center, W_context = train_GloVe(matrix, vocab_size, epochs = 100, learning_rate = 0.001, x_max = 10, hidden_dim=100)"
   ]
  },
  {
   "cell_type": "markdown",
   "id": "770701f4",
   "metadata": {
    "id": "770701f4"
   },
   "source": [
    "As you can see by looking at the loss, the model still needs more time to converge to a minimum.\n",
    "However, we keep the training short and keeping in mind that the vectors can improve we look at some examples.\n",
    "Take the average, transpose, and normalize the matrix."
   ]
  },
  {
   "cell_type": "code",
   "execution_count": 76,
   "id": "b272ab8a",
   "metadata": {
    "id": "b272ab8a"
   },
   "outputs": [],
   "source": [
    "from numpy.linalg import norm\n",
    "# take the average of the learned vector as the final vector\n",
    "W = np.add(W_center, W_context)/2\n",
    "W = W.T\n",
    "W = W/norm(W)"
   ]
  },
  {
   "cell_type": "code",
   "execution_count": 77,
   "id": "334aff38",
   "metadata": {
    "id": "334aff38"
   },
   "outputs": [
    {
     "data": {
      "text/plain": [
       "(100, 17646)"
      ]
     },
     "execution_count": 77,
     "metadata": {},
     "output_type": "execute_result"
    }
   ],
   "source": [
    "W.shape"
   ]
  },
  {
   "cell_type": "markdown",
   "id": "d106c990",
   "metadata": {
    "id": "d106c990"
   },
   "source": [
    "Lets create a dictionary that points from a word to its vector."
   ]
  },
  {
   "cell_type": "code",
   "execution_count": 78,
   "id": "db81b66e",
   "metadata": {
    "id": "db81b66e"
   },
   "outputs": [],
   "source": [
    "# Generates word to word embedding dictionary\n",
    "word_to_vector = {}\n",
    "for word in word_to_id.keys():\n",
    "    word_to_vector[word] = W[:, word_to_id[word]]"
   ]
  },
  {
   "cell_type": "markdown",
   "id": "11c86eeb",
   "metadata": {
    "id": "11c86eeb"
   },
   "source": [
    "### Subtask 4: Compare to Skip-gram\n"
   ]
  },
  {
   "cell_type": "markdown",
   "id": "e8fd8763",
   "metadata": {
    "id": "e8fd8763"
   },
   "source": [
    "Let's compute the similarities for the same words in Task 1 to compare the results with word2vec. This time you need to implement the similarity function, based on the dot product. To get to the topk you need to sort the elements based on their similarity.\n",
    "\n"
   ]
  },
  {
   "cell_type": "code",
   "execution_count": 79,
   "id": "a2f3f722",
   "metadata": {
    "id": "a2f3f722"
   },
   "outputs": [],
   "source": [
    "from numpy import dot\n",
    "\n",
    "def most_similar(word_vector,all_vectors,id_to_word, topk):\n",
    "    \"\"\"\n",
    "    function to find the topk most similar words to a word vector\n",
    "    word_vector: vector of the search word\n",
    "    all_vectors: all word vectors\n",
    "    id_to_word: dictionary from id to words\n",
    "    topk: number of elements to return\n",
    "    \"\"\"\n",
    "    ### find the topk most similar words to a given word vector ##\n",
    "    # Use cosine similarity to find the most similar words\n",
    "    cosine_sim = dot(word_vector, all_vectors)\n",
    "    most_similar_ids = np.argsort(cosine_sim)[-topk:]\n",
    "    most_similar_words = [id_to_word[idx] for idx in most_similar_ids]\n",
    "    word = most_similar_words[::-1]\n",
    "    return word"
   ]
  },
  {
   "cell_type": "code",
   "execution_count": 80,
   "id": "53c1a84a",
   "metadata": {
    "id": "53c1a84a"
   },
   "outputs": [
    {
     "data": {
      "text/plain": [
       "['central_perk', 'stability', 'hideous', 'loser', 'journal']"
      ]
     },
     "execution_count": 80,
     "metadata": {},
     "output_type": "execute_result"
    }
   ],
   "source": [
    "most_similar(word_to_vector[\"central_perk\"],W,id_to_word,5)"
   ]
  },
  {
   "cell_type": "code",
   "execution_count": 81,
   "id": "2c8e8519",
   "metadata": {
    "id": "2c8e8519"
   },
   "outputs": [
    {
     "data": {
      "text/plain": [
       "['joey', 'tingle', 'pees', 'godeh', 'crossing']"
      ]
     },
     "execution_count": 81,
     "metadata": {},
     "output_type": "execute_result"
    }
   ],
   "source": [
    "most_similar(word_to_vector[\"joey\"],W,id_to_word,5)"
   ]
  },
  {
   "cell_type": "markdown",
   "id": "6bdcd5f5",
   "metadata": {
    "id": "6bdcd5f5"
   },
   "source": [
    "Compute the similarity between the `('rachel', 'mrs_green')`, `('smelly_cat', 'song')` and `('ross', 'spaceship')`."
   ]
  },
  {
   "cell_type": "code",
   "execution_count": 82,
   "metadata": {},
   "outputs": [],
   "source": [
    "def pairwise_sim(word1, word2, word_to_vector):\n",
    "    \"\"\"\n",
    "    function to find the similarity between two words\n",
    "    word1, word2: the two words\n",
    "    word_to_vector: dictionary from word to vector\n",
    "    \"\"\"\n",
    "    ### find the similarity between two words ##\n",
    "    # Use cosine similarity to find the most similar words\n",
    "    cosine_sim = dot(word_to_vector[word1], word_to_vector[word2])\n",
    "    return cosine_sim"
   ]
  },
  {
   "cell_type": "code",
   "execution_count": 83,
   "id": "e77f01a5",
   "metadata": {
    "id": "e77f01a5"
   },
   "outputs": [
    {
     "data": {
      "text/plain": [
       "1.172752475994363e-05"
      ]
     },
     "execution_count": 83,
     "metadata": {},
     "output_type": "execute_result"
    }
   ],
   "source": [
    "## your code ##\n",
    "pairwise_sim(\"rachel\", \"mrs_green\", word_to_vector)"
   ]
  },
  {
   "cell_type": "code",
   "execution_count": 84,
   "id": "d1def847",
   "metadata": {
    "id": "d1def847"
   },
   "outputs": [
    {
     "data": {
      "text/plain": [
       "-3.777437328050534e-06"
      ]
     },
     "execution_count": 84,
     "metadata": {},
     "output_type": "execute_result"
    }
   ],
   "source": [
    "## your code ##\n",
    "pairwise_sim('smelly_cat', 'song', word_to_vector)"
   ]
  },
  {
   "cell_type": "code",
   "execution_count": 85,
   "id": "933ca3ac",
   "metadata": {
    "id": "933ca3ac"
   },
   "outputs": [
    {
     "data": {
      "text/plain": [
       "4.106331097953352e-06"
      ]
     },
     "execution_count": 85,
     "metadata": {},
     "output_type": "execute_result"
    }
   ],
   "source": [
    "## your code ##\n",
    "pairwise_sim('ross', 'spaceship', word_to_vector)"
   ]
  },
  {
   "cell_type": "markdown",
   "id": "ecace919",
   "metadata": {
    "id": "ecace919"
   },
   "source": [
    "If you see your results are not as meaningful as the gensim model, do not be discouraged. With better optimization and longer training the results should improve. If you have time play around a bit more with your model and see if you can generate more meaningful vectors."
   ]
  }
 ],
 "metadata": {
  "colab": {
   "include_colab_link": true,
   "provenance": []
  },
  "kernelspec": {
   "display_name": "Python 3 (ipykernel)",
   "language": "python",
   "name": "python3"
  },
  "language_info": {
   "codemirror_mode": {
    "name": "ipython",
    "version": 3
   },
   "file_extension": ".py",
   "mimetype": "text/x-python",
   "name": "python",
   "nbconvert_exporter": "python",
   "pygments_lexer": "ipython3",
   "version": "3.11.5"
  }
 },
 "nbformat": 4,
 "nbformat_minor": 5
}
