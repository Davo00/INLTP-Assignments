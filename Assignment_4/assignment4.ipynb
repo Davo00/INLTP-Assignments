{
  "cells": [
    {
      "cell_type": "markdown",
      "id": "be9f7653",
      "metadata": {
        "id": "be9f7653"
      },
      "source": [
        "**Heidelberg University**\n",
        "\n",
        "**Data Science  Group**\n",
        "    \n",
        "Prof. Dr. Michael Gertz  \n",
        "\n",
        "Ashish Chouhan, Satya Almasian, John Ziegler, Jayson Salazar, Nicolas Reuter\n",
        "    \n",
        "January 16, 2024\n",
        "    \n",
        "Natural Language Processing with Transformers\n",
        "\n",
        "Winter Semster 2023/2024     \n",
        "***"
      ]
    },
    {
      "cell_type": "markdown",
      "id": "258e9648",
      "metadata": {
        "id": "258e9648"
      },
      "source": [
        "# **Assignment 4: Question Answering**\n",
        "**Due**: Monday, January 29, 2024, 2pm, via [Moodle](https://moodle.uni-heidelberg.de/course/view.php?id=19251)\n",
        "\n"
      ]
    },
    {
      "cell_type": "markdown",
      "id": "fc27ad9e",
      "metadata": {
        "id": "fc27ad9e"
      },
      "source": [
        "### **Submission Guidelines**\n",
        "\n",
        "- Solutions need to be uploaded as a **single** Jupyter notebook. You will find several pre-filled code segments in the notebook, your task is to fill in the missing cells.\n",
        "- For the written solution, use LaTeX in markdown inside the same notebook. Do **not** hand in a separate file for it.\n",
        "- Download the .zip file containing the dataset but do **not** upload it with your solution.\n",
        "- It is sufficient if one person per group uploads the solution to Moodle, but make sure that the full names of all team members are given in the notebook.\n",
        "\n",
        "***"
      ]
    },
    {
      "cell_type": "markdown",
      "id": "HETm7VsBkmLq",
      "metadata": {
        "id": "HETm7VsBkmLq"
      },
      "source": [
        "## **Task 1: Retrieval Augmented Generation (RAG)** ( 4.5 + 3 + 4 + 3 + 1.5 = 16 points)"
      ]
    },
    {
      "cell_type": "markdown",
      "id": "0ODkKBIRkrfe",
      "metadata": {
        "id": "0ODkKBIRkrfe"
      },
      "source": [
        "In this task, we look at using the open source `Llama-13b-chat` model for creating a RAG system. You must first apply for access to Llama 2 models via [this](https://ai.meta.com/resources/models-and-libraries/llama-downloads/) form (access is typically granted within a few hours). etrieval augmented generation you also need to request to use the model on Hugging Face by going to the [model](https://huggingface.co/meta-llama/Llama-2-13b-chat-hf) card. ***Note that the emails you provide for your Hugging Face account must match the email you used to request Llama 2.***\n",
        "\n",
        "The final piece that you need is a Hugging Face authentication token. You can find such a token by going to the `setting` in your Hugging Face profile, under the `Access Token` menu you can generate a new token.\n",
        "\n",
        "To store the document you will need a free Pinecone [API key](https://app.pinecone.io/).\n",
        "Make sure you have these pieces ready before starting to work on this task.\n",
        "\n",
        "----\n",
        "When ready, let's start by downloading the necessary packages.\n",
        "\n",
        "It is advised to proceed with this notebook with a GPU (if you are on Colab make sure that a GPU environment is activated.)\n"
      ]
    },
    {
      "cell_type": "markdown",
      "id": "yO1OwuHTMo75",
      "metadata": {
        "id": "yO1OwuHTMo75"
      },
      "source": [
        "Place all the access tokens in the `.env` file and upload it to the working directory (if you are running this notebook locally, you can change the path to fit your working directory). Please use the following format:\n",
        "\n",
        "\n",
        "```\n",
        "HF_AUTH= \"Hugging Face Authentication Key\"\n",
        "PINECONE_API_KEY=\"Pincone API Key\"\n",
        "PINECONE_ENVIRONMENT=\"Pinecone Environment\"\n",
        "```\n",
        "\n",
        "Run the cell below to load the access tokens into the environment variables."
      ]
    },
    {
      "cell_type": "code",
      "execution_count": 1,
      "id": "1Dxt-e1bg73b",
      "metadata": {
        "id": "1Dxt-e1bg73b",
        "colab": {
          "base_uri": "https://localhost:8080/"
        },
        "outputId": "2747c47b-d3ff-49a6-eea7-6642e0627518"
      },
      "outputs": [
        {
          "output_type": "stream",
          "name": "stdout",
          "text": [
            "Requirement already satisfied: python-dotenv in /usr/local/lib/python3.10/dist-packages (1.0.0)\n"
          ]
        }
      ],
      "source": [
        "%pip install python-dotenv"
      ]
    },
    {
      "cell_type": "code",
      "execution_count": 2,
      "id": "EqmnxgpALbVV",
      "metadata": {
        "id": "EqmnxgpALbVV"
      },
      "outputs": [],
      "source": [
        "import os\n",
        "from dotenv import load_dotenv\n",
        "\n",
        "# load environment variables from .env file\n",
        "from dotenv import load_dotenv, find_dotenv\n",
        "_ = load_dotenv(find_dotenv())"
      ]
    },
    {
      "cell_type": "code",
      "execution_count": 3,
      "id": "yE3EOlhTrKo6",
      "metadata": {
        "id": "yE3EOlhTrKo6",
        "colab": {
          "base_uri": "https://localhost:8080/",
          "height": 1000
        },
        "outputId": "315c228f-0eee-46d3-8d1b-a56803981fd1"
      },
      "outputs": [
        {
          "output_type": "stream",
          "name": "stdout",
          "text": [
            "Requirement already satisfied: litellm in /usr/local/lib/python3.10/dist-packages (1.18.0)\n",
            "Requirement already satisfied: aiohttp in /usr/local/lib/python3.10/dist-packages (from litellm) (3.9.1)\n",
            "Requirement already satisfied: click in /usr/local/lib/python3.10/dist-packages (from litellm) (8.1.7)\n",
            "Requirement already satisfied: importlib-metadata>=6.8.0 in /usr/local/lib/python3.10/dist-packages (from litellm) (6.11.0)\n",
            "Requirement already satisfied: jinja2<4.0.0,>=3.1.2 in /usr/local/lib/python3.10/dist-packages (from litellm) (3.1.3)\n",
            "Requirement already satisfied: openai>=1.0.0 in /usr/local/lib/python3.10/dist-packages (from litellm) (1.8.0)\n",
            "Requirement already satisfied: python-dotenv>=0.2.0 in /usr/local/lib/python3.10/dist-packages (from litellm) (1.0.0)\n",
            "Requirement already satisfied: requests<3.0.0,>=2.31.0 in /usr/local/lib/python3.10/dist-packages (from litellm) (2.31.0)\n",
            "Requirement already satisfied: tiktoken>=0.4.0 in /usr/local/lib/python3.10/dist-packages (from litellm) (0.5.2)\n",
            "Requirement already satisfied: tokenizers in /usr/local/lib/python3.10/dist-packages (from litellm) (0.15.0)\n",
            "Requirement already satisfied: zipp>=0.5 in /usr/local/lib/python3.10/dist-packages (from importlib-metadata>=6.8.0->litellm) (3.17.0)\n",
            "Requirement already satisfied: MarkupSafe>=2.0 in /usr/local/lib/python3.10/dist-packages (from jinja2<4.0.0,>=3.1.2->litellm) (2.1.3)\n",
            "Requirement already satisfied: anyio<5,>=3.5.0 in /usr/local/lib/python3.10/dist-packages (from openai>=1.0.0->litellm) (3.7.1)\n",
            "Requirement already satisfied: distro<2,>=1.7.0 in /usr/lib/python3/dist-packages (from openai>=1.0.0->litellm) (1.7.0)\n",
            "Requirement already satisfied: httpx<1,>=0.23.0 in /usr/local/lib/python3.10/dist-packages (from openai>=1.0.0->litellm) (0.26.0)\n",
            "Requirement already satisfied: pydantic<3,>=1.9.0 in /usr/local/lib/python3.10/dist-packages (from openai>=1.0.0->litellm) (2.5.3)\n",
            "Requirement already satisfied: sniffio in /usr/local/lib/python3.10/dist-packages (from openai>=1.0.0->litellm) (1.3.0)\n",
            "Requirement already satisfied: tqdm>4 in /usr/local/lib/python3.10/dist-packages (from openai>=1.0.0->litellm) (4.66.1)\n",
            "Requirement already satisfied: typing-extensions<5,>=4.7 in /usr/local/lib/python3.10/dist-packages (from openai>=1.0.0->litellm) (4.9.0)\n",
            "Requirement already satisfied: charset-normalizer<4,>=2 in /usr/local/lib/python3.10/dist-packages (from requests<3.0.0,>=2.31.0->litellm) (3.3.2)\n",
            "Requirement already satisfied: idna<4,>=2.5 in /usr/local/lib/python3.10/dist-packages (from requests<3.0.0,>=2.31.0->litellm) (3.6)\n",
            "Requirement already satisfied: urllib3<3,>=1.21.1 in /usr/local/lib/python3.10/dist-packages (from requests<3.0.0,>=2.31.0->litellm) (2.0.7)\n",
            "Requirement already satisfied: certifi>=2017.4.17 in /usr/local/lib/python3.10/dist-packages (from requests<3.0.0,>=2.31.0->litellm) (2023.11.17)\n",
            "Requirement already satisfied: regex>=2022.1.18 in /usr/local/lib/python3.10/dist-packages (from tiktoken>=0.4.0->litellm) (2023.6.3)\n",
            "Requirement already satisfied: attrs>=17.3.0 in /usr/local/lib/python3.10/dist-packages (from aiohttp->litellm) (23.2.0)\n",
            "Requirement already satisfied: multidict<7.0,>=4.5 in /usr/local/lib/python3.10/dist-packages (from aiohttp->litellm) (6.0.4)\n",
            "Requirement already satisfied: yarl<2.0,>=1.0 in /usr/local/lib/python3.10/dist-packages (from aiohttp->litellm) (1.9.4)\n",
            "Requirement already satisfied: frozenlist>=1.1.1 in /usr/local/lib/python3.10/dist-packages (from aiohttp->litellm) (1.4.1)\n",
            "Requirement already satisfied: aiosignal>=1.1.2 in /usr/local/lib/python3.10/dist-packages (from aiohttp->litellm) (1.3.1)\n",
            "Requirement already satisfied: async-timeout<5.0,>=4.0 in /usr/local/lib/python3.10/dist-packages (from aiohttp->litellm) (4.0.3)\n",
            "Requirement already satisfied: huggingface_hub<1.0,>=0.16.4 in /usr/local/lib/python3.10/dist-packages (from tokenizers->litellm) (0.20.2)\n",
            "Requirement already satisfied: exceptiongroup in /usr/local/lib/python3.10/dist-packages (from anyio<5,>=3.5.0->openai>=1.0.0->litellm) (1.2.0)\n",
            "Requirement already satisfied: httpcore==1.* in /usr/local/lib/python3.10/dist-packages (from httpx<1,>=0.23.0->openai>=1.0.0->litellm) (1.0.2)\n",
            "Requirement already satisfied: h11<0.15,>=0.13 in /usr/local/lib/python3.10/dist-packages (from httpcore==1.*->httpx<1,>=0.23.0->openai>=1.0.0->litellm) (0.14.0)\n",
            "Requirement already satisfied: filelock in /usr/local/lib/python3.10/dist-packages (from huggingface_hub<1.0,>=0.16.4->tokenizers->litellm) (3.13.1)\n",
            "Requirement already satisfied: fsspec>=2023.5.0 in /usr/local/lib/python3.10/dist-packages (from huggingface_hub<1.0,>=0.16.4->tokenizers->litellm) (2023.6.0)\n",
            "Requirement already satisfied: pyyaml>=5.1 in /usr/local/lib/python3.10/dist-packages (from huggingface_hub<1.0,>=0.16.4->tokenizers->litellm) (6.0.1)\n",
            "Requirement already satisfied: packaging>=20.9 in /usr/local/lib/python3.10/dist-packages (from huggingface_hub<1.0,>=0.16.4->tokenizers->litellm) (23.2)\n",
            "Requirement already satisfied: annotated-types>=0.4.0 in /usr/local/lib/python3.10/dist-packages (from pydantic<3,>=1.9.0->openai>=1.0.0->litellm) (0.6.0)\n",
            "Requirement already satisfied: pydantic-core==2.14.6 in /usr/local/lib/python3.10/dist-packages (from pydantic<3,>=1.9.0->openai>=1.0.0->litellm) (2.14.6)\n",
            "Requirement already satisfied: transformers in /usr/local/lib/python3.10/dist-packages (4.35.2)\n",
            "Requirement already satisfied: filelock in /usr/local/lib/python3.10/dist-packages (from transformers) (3.13.1)\n",
            "Requirement already satisfied: huggingface-hub<1.0,>=0.16.4 in /usr/local/lib/python3.10/dist-packages (from transformers) (0.20.2)\n",
            "Requirement already satisfied: numpy>=1.17 in /usr/local/lib/python3.10/dist-packages (from transformers) (1.23.5)\n",
            "Requirement already satisfied: packaging>=20.0 in /usr/local/lib/python3.10/dist-packages (from transformers) (23.2)\n",
            "Requirement already satisfied: pyyaml>=5.1 in /usr/local/lib/python3.10/dist-packages (from transformers) (6.0.1)\n",
            "Requirement already satisfied: regex!=2019.12.17 in /usr/local/lib/python3.10/dist-packages (from transformers) (2023.6.3)\n",
            "Requirement already satisfied: requests in /usr/local/lib/python3.10/dist-packages (from transformers) (2.31.0)\n",
            "Requirement already satisfied: tokenizers<0.19,>=0.14 in /usr/local/lib/python3.10/dist-packages (from transformers) (0.15.0)\n",
            "Requirement already satisfied: safetensors>=0.3.1 in /usr/local/lib/python3.10/dist-packages (from transformers) (0.4.1)\n",
            "Requirement already satisfied: tqdm>=4.27 in /usr/local/lib/python3.10/dist-packages (from transformers) (4.66.1)\n",
            "Requirement already satisfied: fsspec>=2023.5.0 in /usr/local/lib/python3.10/dist-packages (from huggingface-hub<1.0,>=0.16.4->transformers) (2023.6.0)\n",
            "Requirement already satisfied: typing-extensions>=3.7.4.3 in /usr/local/lib/python3.10/dist-packages (from huggingface-hub<1.0,>=0.16.4->transformers) (4.9.0)\n",
            "Requirement already satisfied: charset-normalizer<4,>=2 in /usr/local/lib/python3.10/dist-packages (from requests->transformers) (3.3.2)\n",
            "Requirement already satisfied: idna<4,>=2.5 in /usr/local/lib/python3.10/dist-packages (from requests->transformers) (3.6)\n",
            "Requirement already satisfied: urllib3<3,>=1.21.1 in /usr/local/lib/python3.10/dist-packages (from requests->transformers) (2.0.7)\n",
            "Requirement already satisfied: certifi>=2017.4.17 in /usr/local/lib/python3.10/dist-packages (from requests->transformers) (2023.11.17)\n",
            "Requirement already satisfied: sentence-transformers in /usr/local/lib/python3.10/dist-packages (2.2.2)\n",
            "Requirement already satisfied: transformers<5.0.0,>=4.6.0 in /usr/local/lib/python3.10/dist-packages (from sentence-transformers) (4.35.2)\n",
            "Requirement already satisfied: tqdm in /usr/local/lib/python3.10/dist-packages (from sentence-transformers) (4.66.1)\n",
            "Requirement already satisfied: torch>=1.6.0 in /usr/local/lib/python3.10/dist-packages (from sentence-transformers) (2.1.2)\n",
            "Requirement already satisfied: torchvision in /usr/local/lib/python3.10/dist-packages (from sentence-transformers) (0.16.0+cu121)\n",
            "Requirement already satisfied: numpy in /usr/local/lib/python3.10/dist-packages (from sentence-transformers) (1.23.5)\n",
            "Requirement already satisfied: scikit-learn in /usr/local/lib/python3.10/dist-packages (from sentence-transformers) (1.2.2)\n",
            "Requirement already satisfied: scipy in /usr/local/lib/python3.10/dist-packages (from sentence-transformers) (1.11.4)\n",
            "Requirement already satisfied: nltk in /usr/local/lib/python3.10/dist-packages (from sentence-transformers) (3.8.1)\n",
            "Requirement already satisfied: sentencepiece in /usr/local/lib/python3.10/dist-packages (from sentence-transformers) (0.1.99)\n",
            "Requirement already satisfied: huggingface-hub>=0.4.0 in /usr/local/lib/python3.10/dist-packages (from sentence-transformers) (0.20.2)\n",
            "Requirement already satisfied: filelock in /usr/local/lib/python3.10/dist-packages (from huggingface-hub>=0.4.0->sentence-transformers) (3.13.1)\n",
            "Requirement already satisfied: fsspec>=2023.5.0 in /usr/local/lib/python3.10/dist-packages (from huggingface-hub>=0.4.0->sentence-transformers) (2023.6.0)\n",
            "Requirement already satisfied: requests in /usr/local/lib/python3.10/dist-packages (from huggingface-hub>=0.4.0->sentence-transformers) (2.31.0)\n",
            "Requirement already satisfied: pyyaml>=5.1 in /usr/local/lib/python3.10/dist-packages (from huggingface-hub>=0.4.0->sentence-transformers) (6.0.1)\n",
            "Requirement already satisfied: typing-extensions>=3.7.4.3 in /usr/local/lib/python3.10/dist-packages (from huggingface-hub>=0.4.0->sentence-transformers) (4.9.0)\n",
            "Requirement already satisfied: packaging>=20.9 in /usr/local/lib/python3.10/dist-packages (from huggingface-hub>=0.4.0->sentence-transformers) (23.2)\n",
            "Requirement already satisfied: sympy in /usr/local/lib/python3.10/dist-packages (from torch>=1.6.0->sentence-transformers) (1.12)\n",
            "Requirement already satisfied: networkx in /usr/local/lib/python3.10/dist-packages (from torch>=1.6.0->sentence-transformers) (3.2.1)\n",
            "Requirement already satisfied: jinja2 in /usr/local/lib/python3.10/dist-packages (from torch>=1.6.0->sentence-transformers) (3.1.3)\n",
            "Requirement already satisfied: nvidia-cuda-nvrtc-cu12==12.1.105 in /usr/local/lib/python3.10/dist-packages (from torch>=1.6.0->sentence-transformers) (12.1.105)\n",
            "Requirement already satisfied: nvidia-cuda-runtime-cu12==12.1.105 in /usr/local/lib/python3.10/dist-packages (from torch>=1.6.0->sentence-transformers) (12.1.105)\n",
            "Requirement already satisfied: nvidia-cuda-cupti-cu12==12.1.105 in /usr/local/lib/python3.10/dist-packages (from torch>=1.6.0->sentence-transformers) (12.1.105)\n",
            "Requirement already satisfied: nvidia-cudnn-cu12==8.9.2.26 in /usr/local/lib/python3.10/dist-packages (from torch>=1.6.0->sentence-transformers) (8.9.2.26)\n",
            "Requirement already satisfied: nvidia-cublas-cu12==12.1.3.1 in /usr/local/lib/python3.10/dist-packages (from torch>=1.6.0->sentence-transformers) (12.1.3.1)\n",
            "Requirement already satisfied: nvidia-cufft-cu12==11.0.2.54 in /usr/local/lib/python3.10/dist-packages (from torch>=1.6.0->sentence-transformers) (11.0.2.54)\n",
            "Requirement already satisfied: nvidia-curand-cu12==10.3.2.106 in /usr/local/lib/python3.10/dist-packages (from torch>=1.6.0->sentence-transformers) (10.3.2.106)\n",
            "Requirement already satisfied: nvidia-cusolver-cu12==11.4.5.107 in /usr/local/lib/python3.10/dist-packages (from torch>=1.6.0->sentence-transformers) (11.4.5.107)\n",
            "Requirement already satisfied: nvidia-cusparse-cu12==12.1.0.106 in /usr/local/lib/python3.10/dist-packages (from torch>=1.6.0->sentence-transformers) (12.1.0.106)\n",
            "Requirement already satisfied: nvidia-nccl-cu12==2.18.1 in /usr/local/lib/python3.10/dist-packages (from torch>=1.6.0->sentence-transformers) (2.18.1)\n",
            "Requirement already satisfied: nvidia-nvtx-cu12==12.1.105 in /usr/local/lib/python3.10/dist-packages (from torch>=1.6.0->sentence-transformers) (12.1.105)\n",
            "Requirement already satisfied: triton==2.1.0 in /usr/local/lib/python3.10/dist-packages (from torch>=1.6.0->sentence-transformers) (2.1.0)\n",
            "Requirement already satisfied: nvidia-nvjitlink-cu12 in /usr/local/lib/python3.10/dist-packages (from nvidia-cusolver-cu12==11.4.5.107->torch>=1.6.0->sentence-transformers) (12.3.101)\n",
            "Requirement already satisfied: regex!=2019.12.17 in /usr/local/lib/python3.10/dist-packages (from transformers<5.0.0,>=4.6.0->sentence-transformers) (2023.6.3)\n",
            "Requirement already satisfied: tokenizers<0.19,>=0.14 in /usr/local/lib/python3.10/dist-packages (from transformers<5.0.0,>=4.6.0->sentence-transformers) (0.15.0)\n",
            "Requirement already satisfied: safetensors>=0.3.1 in /usr/local/lib/python3.10/dist-packages (from transformers<5.0.0,>=4.6.0->sentence-transformers) (0.4.1)\n",
            "Requirement already satisfied: click in /usr/local/lib/python3.10/dist-packages (from nltk->sentence-transformers) (8.1.7)\n",
            "Requirement already satisfied: joblib in /usr/local/lib/python3.10/dist-packages (from nltk->sentence-transformers) (1.3.2)\n",
            "Requirement already satisfied: threadpoolctl>=2.0.0 in /usr/local/lib/python3.10/dist-packages (from scikit-learn->sentence-transformers) (3.2.0)\n",
            "Collecting torch>=1.6.0 (from sentence-transformers)\n",
            "  Using cached torch-2.1.0-cp310-cp310-manylinux1_x86_64.whl (670.2 MB)\n",
            "Requirement already satisfied: pillow!=8.3.*,>=5.3.0 in /usr/local/lib/python3.10/dist-packages (from torchvision->sentence-transformers) (9.4.0)\n",
            "Requirement already satisfied: MarkupSafe>=2.0 in /usr/local/lib/python3.10/dist-packages (from jinja2->torch>=1.6.0->sentence-transformers) (2.1.3)\n",
            "Requirement already satisfied: charset-normalizer<4,>=2 in /usr/local/lib/python3.10/dist-packages (from requests->huggingface-hub>=0.4.0->sentence-transformers) (3.3.2)\n",
            "Requirement already satisfied: idna<4,>=2.5 in /usr/local/lib/python3.10/dist-packages (from requests->huggingface-hub>=0.4.0->sentence-transformers) (3.6)\n",
            "Requirement already satisfied: urllib3<3,>=1.21.1 in /usr/local/lib/python3.10/dist-packages (from requests->huggingface-hub>=0.4.0->sentence-transformers) (2.0.7)\n",
            "Requirement already satisfied: certifi>=2017.4.17 in /usr/local/lib/python3.10/dist-packages (from requests->huggingface-hub>=0.4.0->sentence-transformers) (2023.11.17)\n",
            "Requirement already satisfied: mpmath>=0.19 in /usr/local/lib/python3.10/dist-packages (from sympy->torch>=1.6.0->sentence-transformers) (1.3.0)\n",
            "Installing collected packages: torch\n",
            "  Attempting uninstall: torch\n",
            "    Found existing installation: torch 2.1.2\n",
            "    Uninstalling torch-2.1.2:\n",
            "      Successfully uninstalled torch-2.1.2\n",
            "\u001b[31mERROR: pip's dependency resolver does not currently take into account all the packages that are installed. This behaviour is the source of the following dependency conflicts.\n",
            "xformers 0.0.23.post1 requires torch==2.1.2, but you have torch 2.1.0 which is incompatible.\u001b[0m\u001b[31m\n",
            "\u001b[0mSuccessfully installed torch-2.1.0\n"
          ]
        },
        {
          "output_type": "display_data",
          "data": {
            "application/vnd.colab-display-data+json": {
              "pip_warning": {
                "packages": [
                  "torch",
                  "torchgen"
                ]
              }
            }
          },
          "metadata": {}
        },
        {
          "output_type": "stream",
          "name": "stdout",
          "text": [
            "Requirement already satisfied: pinecone-client in /usr/local/lib/python3.10/dist-packages (3.0.0)\n",
            "Requirement already satisfied: certifi>=2019.11.17 in /usr/local/lib/python3.10/dist-packages (from pinecone-client) (2023.11.17)\n",
            "Requirement already satisfied: tqdm>=4.64.1 in /usr/local/lib/python3.10/dist-packages (from pinecone-client) (4.66.1)\n",
            "Requirement already satisfied: typing-extensions>=3.7.4 in /usr/local/lib/python3.10/dist-packages (from pinecone-client) (4.9.0)\n",
            "Requirement already satisfied: urllib3>=1.26.0 in /usr/local/lib/python3.10/dist-packages (from pinecone-client) (2.0.7)\n",
            "Requirement already satisfied: datasets in /usr/local/lib/python3.10/dist-packages (2.16.1)\n",
            "Requirement already satisfied: filelock in /usr/local/lib/python3.10/dist-packages (from datasets) (3.13.1)\n",
            "Requirement already satisfied: numpy>=1.17 in /usr/local/lib/python3.10/dist-packages (from datasets) (1.23.5)\n",
            "Requirement already satisfied: pyarrow>=8.0.0 in /usr/local/lib/python3.10/dist-packages (from datasets) (10.0.1)\n",
            "Requirement already satisfied: pyarrow-hotfix in /usr/local/lib/python3.10/dist-packages (from datasets) (0.6)\n",
            "Requirement already satisfied: dill<0.3.8,>=0.3.0 in /usr/local/lib/python3.10/dist-packages (from datasets) (0.3.7)\n",
            "Requirement already satisfied: pandas in /usr/local/lib/python3.10/dist-packages (from datasets) (1.5.3)\n",
            "Requirement already satisfied: requests>=2.19.0 in /usr/local/lib/python3.10/dist-packages (from datasets) (2.31.0)\n",
            "Requirement already satisfied: tqdm>=4.62.1 in /usr/local/lib/python3.10/dist-packages (from datasets) (4.66.1)\n",
            "Requirement already satisfied: xxhash in /usr/local/lib/python3.10/dist-packages (from datasets) (3.4.1)\n",
            "Requirement already satisfied: multiprocess in /usr/local/lib/python3.10/dist-packages (from datasets) (0.70.15)\n",
            "Requirement already satisfied: fsspec[http]<=2023.10.0,>=2023.1.0 in /usr/local/lib/python3.10/dist-packages (from datasets) (2023.6.0)\n",
            "Requirement already satisfied: aiohttp in /usr/local/lib/python3.10/dist-packages (from datasets) (3.9.1)\n",
            "Requirement already satisfied: huggingface-hub>=0.19.4 in /usr/local/lib/python3.10/dist-packages (from datasets) (0.20.2)\n",
            "Requirement already satisfied: packaging in /usr/local/lib/python3.10/dist-packages (from datasets) (23.2)\n",
            "Requirement already satisfied: pyyaml>=5.1 in /usr/local/lib/python3.10/dist-packages (from datasets) (6.0.1)\n",
            "Requirement already satisfied: attrs>=17.3.0 in /usr/local/lib/python3.10/dist-packages (from aiohttp->datasets) (23.2.0)\n",
            "Requirement already satisfied: multidict<7.0,>=4.5 in /usr/local/lib/python3.10/dist-packages (from aiohttp->datasets) (6.0.4)\n",
            "Requirement already satisfied: yarl<2.0,>=1.0 in /usr/local/lib/python3.10/dist-packages (from aiohttp->datasets) (1.9.4)\n",
            "Requirement already satisfied: frozenlist>=1.1.1 in /usr/local/lib/python3.10/dist-packages (from aiohttp->datasets) (1.4.1)\n",
            "Requirement already satisfied: aiosignal>=1.1.2 in /usr/local/lib/python3.10/dist-packages (from aiohttp->datasets) (1.3.1)\n",
            "Requirement already satisfied: async-timeout<5.0,>=4.0 in /usr/local/lib/python3.10/dist-packages (from aiohttp->datasets) (4.0.3)\n",
            "Requirement already satisfied: typing-extensions>=3.7.4.3 in /usr/local/lib/python3.10/dist-packages (from huggingface-hub>=0.19.4->datasets) (4.9.0)\n",
            "Requirement already satisfied: charset-normalizer<4,>=2 in /usr/local/lib/python3.10/dist-packages (from requests>=2.19.0->datasets) (3.3.2)\n",
            "Requirement already satisfied: idna<4,>=2.5 in /usr/local/lib/python3.10/dist-packages (from requests>=2.19.0->datasets) (3.6)\n",
            "Requirement already satisfied: urllib3<3,>=1.21.1 in /usr/local/lib/python3.10/dist-packages (from requests>=2.19.0->datasets) (2.0.7)\n",
            "Requirement already satisfied: certifi>=2017.4.17 in /usr/local/lib/python3.10/dist-packages (from requests>=2.19.0->datasets) (2023.11.17)\n",
            "Requirement already satisfied: python-dateutil>=2.8.1 in /usr/local/lib/python3.10/dist-packages (from pandas->datasets) (2.8.2)\n",
            "Requirement already satisfied: pytz>=2020.1 in /usr/local/lib/python3.10/dist-packages (from pandas->datasets) (2023.3.post1)\n",
            "Requirement already satisfied: six>=1.5 in /usr/local/lib/python3.10/dist-packages (from python-dateutil>=2.8.1->pandas->datasets) (1.16.0)\n",
            "Requirement already satisfied: accelerate in /usr/local/lib/python3.10/dist-packages (0.26.1)\n",
            "Requirement already satisfied: numpy>=1.17 in /usr/local/lib/python3.10/dist-packages (from accelerate) (1.23.5)\n",
            "Requirement already satisfied: packaging>=20.0 in /usr/local/lib/python3.10/dist-packages (from accelerate) (23.2)\n",
            "Requirement already satisfied: psutil in /usr/local/lib/python3.10/dist-packages (from accelerate) (5.9.5)\n",
            "Requirement already satisfied: pyyaml in /usr/local/lib/python3.10/dist-packages (from accelerate) (6.0.1)\n",
            "Requirement already satisfied: torch>=1.10.0 in /usr/local/lib/python3.10/dist-packages (from accelerate) (2.1.0)\n",
            "Requirement already satisfied: huggingface-hub in /usr/local/lib/python3.10/dist-packages (from accelerate) (0.20.2)\n",
            "Requirement already satisfied: safetensors>=0.3.1 in /usr/local/lib/python3.10/dist-packages (from accelerate) (0.4.1)\n",
            "Requirement already satisfied: filelock in /usr/local/lib/python3.10/dist-packages (from torch>=1.10.0->accelerate) (3.13.1)\n",
            "Requirement already satisfied: typing-extensions in /usr/local/lib/python3.10/dist-packages (from torch>=1.10.0->accelerate) (4.9.0)\n",
            "Requirement already satisfied: sympy in /usr/local/lib/python3.10/dist-packages (from torch>=1.10.0->accelerate) (1.12)\n",
            "Requirement already satisfied: networkx in /usr/local/lib/python3.10/dist-packages (from torch>=1.10.0->accelerate) (3.2.1)\n",
            "Requirement already satisfied: jinja2 in /usr/local/lib/python3.10/dist-packages (from torch>=1.10.0->accelerate) (3.1.3)\n",
            "Requirement already satisfied: fsspec in /usr/local/lib/python3.10/dist-packages (from torch>=1.10.0->accelerate) (2023.6.0)\n",
            "Requirement already satisfied: nvidia-cuda-nvrtc-cu12==12.1.105 in /usr/local/lib/python3.10/dist-packages (from torch>=1.10.0->accelerate) (12.1.105)\n",
            "Requirement already satisfied: nvidia-cuda-runtime-cu12==12.1.105 in /usr/local/lib/python3.10/dist-packages (from torch>=1.10.0->accelerate) (12.1.105)\n",
            "Requirement already satisfied: nvidia-cuda-cupti-cu12==12.1.105 in /usr/local/lib/python3.10/dist-packages (from torch>=1.10.0->accelerate) (12.1.105)\n",
            "Requirement already satisfied: nvidia-cudnn-cu12==8.9.2.26 in /usr/local/lib/python3.10/dist-packages (from torch>=1.10.0->accelerate) (8.9.2.26)\n",
            "Requirement already satisfied: nvidia-cublas-cu12==12.1.3.1 in /usr/local/lib/python3.10/dist-packages (from torch>=1.10.0->accelerate) (12.1.3.1)\n",
            "Requirement already satisfied: nvidia-cufft-cu12==11.0.2.54 in /usr/local/lib/python3.10/dist-packages (from torch>=1.10.0->accelerate) (11.0.2.54)\n",
            "Requirement already satisfied: nvidia-curand-cu12==10.3.2.106 in /usr/local/lib/python3.10/dist-packages (from torch>=1.10.0->accelerate) (10.3.2.106)\n",
            "Requirement already satisfied: nvidia-cusolver-cu12==11.4.5.107 in /usr/local/lib/python3.10/dist-packages (from torch>=1.10.0->accelerate) (11.4.5.107)\n",
            "Requirement already satisfied: nvidia-cusparse-cu12==12.1.0.106 in /usr/local/lib/python3.10/dist-packages (from torch>=1.10.0->accelerate) (12.1.0.106)\n",
            "Requirement already satisfied: nvidia-nccl-cu12==2.18.1 in /usr/local/lib/python3.10/dist-packages (from torch>=1.10.0->accelerate) (2.18.1)\n",
            "Requirement already satisfied: nvidia-nvtx-cu12==12.1.105 in /usr/local/lib/python3.10/dist-packages (from torch>=1.10.0->accelerate) (12.1.105)\n",
            "Requirement already satisfied: triton==2.1.0 in /usr/local/lib/python3.10/dist-packages (from torch>=1.10.0->accelerate) (2.1.0)\n",
            "Requirement already satisfied: nvidia-nvjitlink-cu12 in /usr/local/lib/python3.10/dist-packages (from nvidia-cusolver-cu12==11.4.5.107->torch>=1.10.0->accelerate) (12.3.101)\n",
            "Requirement already satisfied: requests in /usr/local/lib/python3.10/dist-packages (from huggingface-hub->accelerate) (2.31.0)\n",
            "Requirement already satisfied: tqdm>=4.42.1 in /usr/local/lib/python3.10/dist-packages (from huggingface-hub->accelerate) (4.66.1)\n",
            "Requirement already satisfied: MarkupSafe>=2.0 in /usr/local/lib/python3.10/dist-packages (from jinja2->torch>=1.10.0->accelerate) (2.1.3)\n",
            "Requirement already satisfied: charset-normalizer<4,>=2 in /usr/local/lib/python3.10/dist-packages (from requests->huggingface-hub->accelerate) (3.3.2)\n",
            "Requirement already satisfied: idna<4,>=2.5 in /usr/local/lib/python3.10/dist-packages (from requests->huggingface-hub->accelerate) (3.6)\n",
            "Requirement already satisfied: urllib3<3,>=1.21.1 in /usr/local/lib/python3.10/dist-packages (from requests->huggingface-hub->accelerate) (2.0.7)\n",
            "Requirement already satisfied: certifi>=2017.4.17 in /usr/local/lib/python3.10/dist-packages (from requests->huggingface-hub->accelerate) (2023.11.17)\n",
            "Requirement already satisfied: mpmath>=0.19 in /usr/local/lib/python3.10/dist-packages (from sympy->torch>=1.10.0->accelerate) (1.3.0)\n",
            "Requirement already satisfied: einops in /usr/local/lib/python3.10/dist-packages (0.7.0)\n",
            "Requirement already satisfied: langchain in /usr/local/lib/python3.10/dist-packages (0.1.1)\n",
            "Requirement already satisfied: PyYAML>=5.3 in /usr/local/lib/python3.10/dist-packages (from langchain) (6.0.1)\n",
            "Requirement already satisfied: SQLAlchemy<3,>=1.4 in /usr/local/lib/python3.10/dist-packages (from langchain) (2.0.24)\n",
            "Requirement already satisfied: aiohttp<4.0.0,>=3.8.3 in /usr/local/lib/python3.10/dist-packages (from langchain) (3.9.1)\n",
            "Requirement already satisfied: async-timeout<5.0.0,>=4.0.0 in /usr/local/lib/python3.10/dist-packages (from langchain) (4.0.3)\n",
            "Requirement already satisfied: dataclasses-json<0.7,>=0.5.7 in /usr/local/lib/python3.10/dist-packages (from langchain) (0.6.3)\n",
            "Requirement already satisfied: jsonpatch<2.0,>=1.33 in /usr/local/lib/python3.10/dist-packages (from langchain) (1.33)\n",
            "Requirement already satisfied: langchain-community<0.1,>=0.0.13 in /usr/local/lib/python3.10/dist-packages (from langchain) (0.0.13)\n",
            "Requirement already satisfied: langchain-core<0.2,>=0.1.9 in /usr/local/lib/python3.10/dist-packages (from langchain) (0.1.12)\n",
            "Requirement already satisfied: langsmith<0.1.0,>=0.0.77 in /usr/local/lib/python3.10/dist-packages (from langchain) (0.0.82)\n",
            "Requirement already satisfied: numpy<2,>=1 in /usr/local/lib/python3.10/dist-packages (from langchain) (1.23.5)\n",
            "Requirement already satisfied: pydantic<3,>=1 in /usr/local/lib/python3.10/dist-packages (from langchain) (2.5.3)\n",
            "Requirement already satisfied: requests<3,>=2 in /usr/local/lib/python3.10/dist-packages (from langchain) (2.31.0)\n",
            "Requirement already satisfied: tenacity<9.0.0,>=8.1.0 in /usr/local/lib/python3.10/dist-packages (from langchain) (8.2.3)\n",
            "Requirement already satisfied: attrs>=17.3.0 in /usr/local/lib/python3.10/dist-packages (from aiohttp<4.0.0,>=3.8.3->langchain) (23.2.0)\n",
            "Requirement already satisfied: multidict<7.0,>=4.5 in /usr/local/lib/python3.10/dist-packages (from aiohttp<4.0.0,>=3.8.3->langchain) (6.0.4)\n",
            "Requirement already satisfied: yarl<2.0,>=1.0 in /usr/local/lib/python3.10/dist-packages (from aiohttp<4.0.0,>=3.8.3->langchain) (1.9.4)\n",
            "Requirement already satisfied: frozenlist>=1.1.1 in /usr/local/lib/python3.10/dist-packages (from aiohttp<4.0.0,>=3.8.3->langchain) (1.4.1)\n",
            "Requirement already satisfied: aiosignal>=1.1.2 in /usr/local/lib/python3.10/dist-packages (from aiohttp<4.0.0,>=3.8.3->langchain) (1.3.1)\n",
            "Requirement already satisfied: marshmallow<4.0.0,>=3.18.0 in /usr/local/lib/python3.10/dist-packages (from dataclasses-json<0.7,>=0.5.7->langchain) (3.20.2)\n",
            "Requirement already satisfied: typing-inspect<1,>=0.4.0 in /usr/local/lib/python3.10/dist-packages (from dataclasses-json<0.7,>=0.5.7->langchain) (0.9.0)\n",
            "Requirement already satisfied: jsonpointer>=1.9 in /usr/local/lib/python3.10/dist-packages (from jsonpatch<2.0,>=1.33->langchain) (2.4)\n",
            "Requirement already satisfied: anyio<5,>=3 in /usr/local/lib/python3.10/dist-packages (from langchain-core<0.2,>=0.1.9->langchain) (3.7.1)\n",
            "Requirement already satisfied: packaging<24.0,>=23.2 in /usr/local/lib/python3.10/dist-packages (from langchain-core<0.2,>=0.1.9->langchain) (23.2)\n",
            "Requirement already satisfied: annotated-types>=0.4.0 in /usr/local/lib/python3.10/dist-packages (from pydantic<3,>=1->langchain) (0.6.0)\n",
            "Requirement already satisfied: pydantic-core==2.14.6 in /usr/local/lib/python3.10/dist-packages (from pydantic<3,>=1->langchain) (2.14.6)\n",
            "Requirement already satisfied: typing-extensions>=4.6.1 in /usr/local/lib/python3.10/dist-packages (from pydantic<3,>=1->langchain) (4.9.0)\n",
            "Requirement already satisfied: charset-normalizer<4,>=2 in /usr/local/lib/python3.10/dist-packages (from requests<3,>=2->langchain) (3.3.2)\n",
            "Requirement already satisfied: idna<4,>=2.5 in /usr/local/lib/python3.10/dist-packages (from requests<3,>=2->langchain) (3.6)\n",
            "Requirement already satisfied: urllib3<3,>=1.21.1 in /usr/local/lib/python3.10/dist-packages (from requests<3,>=2->langchain) (2.0.7)\n",
            "Requirement already satisfied: certifi>=2017.4.17 in /usr/local/lib/python3.10/dist-packages (from requests<3,>=2->langchain) (2023.11.17)\n",
            "Requirement already satisfied: greenlet!=0.4.17 in /usr/local/lib/python3.10/dist-packages (from SQLAlchemy<3,>=1.4->langchain) (3.0.3)\n",
            "Requirement already satisfied: sniffio>=1.1 in /usr/local/lib/python3.10/dist-packages (from anyio<5,>=3->langchain-core<0.2,>=0.1.9->langchain) (1.3.0)\n",
            "Requirement already satisfied: exceptiongroup in /usr/local/lib/python3.10/dist-packages (from anyio<5,>=3->langchain-core<0.2,>=0.1.9->langchain) (1.2.0)\n",
            "Requirement already satisfied: mypy-extensions>=0.3.0 in /usr/local/lib/python3.10/dist-packages (from typing-inspect<1,>=0.4.0->dataclasses-json<0.7,>=0.5.7->langchain) (1.0.0)\n",
            "Requirement already satisfied: xformers in /usr/local/lib/python3.10/dist-packages (0.0.23.post1)\n",
            "Requirement already satisfied: numpy in /usr/local/lib/python3.10/dist-packages (from xformers) (1.23.5)\n",
            "Collecting torch==2.1.2 (from xformers)\n",
            "  Using cached torch-2.1.2-cp310-cp310-manylinux1_x86_64.whl (670.2 MB)\n",
            "Requirement already satisfied: filelock in /usr/local/lib/python3.10/dist-packages (from torch==2.1.2->xformers) (3.13.1)\n",
            "Requirement already satisfied: typing-extensions in /usr/local/lib/python3.10/dist-packages (from torch==2.1.2->xformers) (4.9.0)\n",
            "Requirement already satisfied: sympy in /usr/local/lib/python3.10/dist-packages (from torch==2.1.2->xformers) (1.12)\n",
            "Requirement already satisfied: networkx in /usr/local/lib/python3.10/dist-packages (from torch==2.1.2->xformers) (3.2.1)\n",
            "Requirement already satisfied: jinja2 in /usr/local/lib/python3.10/dist-packages (from torch==2.1.2->xformers) (3.1.3)\n",
            "Requirement already satisfied: fsspec in /usr/local/lib/python3.10/dist-packages (from torch==2.1.2->xformers) (2023.6.0)\n",
            "Requirement already satisfied: nvidia-cuda-nvrtc-cu12==12.1.105 in /usr/local/lib/python3.10/dist-packages (from torch==2.1.2->xformers) (12.1.105)\n",
            "Requirement already satisfied: nvidia-cuda-runtime-cu12==12.1.105 in /usr/local/lib/python3.10/dist-packages (from torch==2.1.2->xformers) (12.1.105)\n",
            "Requirement already satisfied: nvidia-cuda-cupti-cu12==12.1.105 in /usr/local/lib/python3.10/dist-packages (from torch==2.1.2->xformers) (12.1.105)\n",
            "Requirement already satisfied: nvidia-cudnn-cu12==8.9.2.26 in /usr/local/lib/python3.10/dist-packages (from torch==2.1.2->xformers) (8.9.2.26)\n",
            "Requirement already satisfied: nvidia-cublas-cu12==12.1.3.1 in /usr/local/lib/python3.10/dist-packages (from torch==2.1.2->xformers) (12.1.3.1)\n",
            "Requirement already satisfied: nvidia-cufft-cu12==11.0.2.54 in /usr/local/lib/python3.10/dist-packages (from torch==2.1.2->xformers) (11.0.2.54)\n",
            "Requirement already satisfied: nvidia-curand-cu12==10.3.2.106 in /usr/local/lib/python3.10/dist-packages (from torch==2.1.2->xformers) (10.3.2.106)\n",
            "Requirement already satisfied: nvidia-cusolver-cu12==11.4.5.107 in /usr/local/lib/python3.10/dist-packages (from torch==2.1.2->xformers) (11.4.5.107)\n",
            "Requirement already satisfied: nvidia-cusparse-cu12==12.1.0.106 in /usr/local/lib/python3.10/dist-packages (from torch==2.1.2->xformers) (12.1.0.106)\n",
            "Requirement already satisfied: nvidia-nccl-cu12==2.18.1 in /usr/local/lib/python3.10/dist-packages (from torch==2.1.2->xformers) (2.18.1)\n",
            "Requirement already satisfied: nvidia-nvtx-cu12==12.1.105 in /usr/local/lib/python3.10/dist-packages (from torch==2.1.2->xformers) (12.1.105)\n",
            "Requirement already satisfied: triton==2.1.0 in /usr/local/lib/python3.10/dist-packages (from torch==2.1.2->xformers) (2.1.0)\n",
            "Requirement already satisfied: nvidia-nvjitlink-cu12 in /usr/local/lib/python3.10/dist-packages (from nvidia-cusolver-cu12==11.4.5.107->torch==2.1.2->xformers) (12.3.101)\n",
            "Requirement already satisfied: MarkupSafe>=2.0 in /usr/local/lib/python3.10/dist-packages (from jinja2->torch==2.1.2->xformers) (2.1.3)\n",
            "Requirement already satisfied: mpmath>=0.19 in /usr/local/lib/python3.10/dist-packages (from sympy->torch==2.1.2->xformers) (1.3.0)\n",
            "Installing collected packages: torch\n",
            "  Attempting uninstall: torch\n",
            "    Found existing installation: torch 2.1.0\n",
            "    Uninstalling torch-2.1.0:\n",
            "      Successfully uninstalled torch-2.1.0\n",
            "\u001b[31mERROR: pip's dependency resolver does not currently take into account all the packages that are installed. This behaviour is the source of the following dependency conflicts.\n",
            "torchaudio 2.1.0+cu121 requires torch==2.1.0, but you have torch 2.1.2 which is incompatible.\n",
            "torchdata 0.7.0 requires torch==2.1.0, but you have torch 2.1.2 which is incompatible.\n",
            "torchtext 0.16.0 requires torch==2.1.0, but you have torch 2.1.2 which is incompatible.\n",
            "torchvision 0.16.0+cu121 requires torch==2.1.0, but you have torch 2.1.2 which is incompatible.\u001b[0m\u001b[31m\n",
            "\u001b[0mSuccessfully installed torch-2.1.2\n"
          ]
        },
        {
          "output_type": "display_data",
          "data": {
            "application/vnd.colab-display-data+json": {
              "pip_warning": {
                "packages": [
                  "torch",
                  "torchgen"
                ]
              }
            }
          },
          "metadata": {}
        },
        {
          "output_type": "stream",
          "name": "stdout",
          "text": [
            "Requirement already satisfied: bitsandbytes in /usr/local/lib/python3.10/dist-packages (0.42.0)\n",
            "Requirement already satisfied: scipy in /usr/local/lib/python3.10/dist-packages (from bitsandbytes) (1.11.4)\n",
            "Requirement already satisfied: numpy<1.28.0,>=1.21.6 in /usr/local/lib/python3.10/dist-packages (from scipy->bitsandbytes) (1.23.5)\n",
            "Requirement already satisfied: matplotlib in /usr/local/lib/python3.10/dist-packages (3.7.1)\n",
            "Requirement already satisfied: seaborn in /usr/local/lib/python3.10/dist-packages (0.13.1)\n",
            "Requirement already satisfied: tqdm in /usr/local/lib/python3.10/dist-packages (4.66.1)\n",
            "Requirement already satisfied: contourpy>=1.0.1 in /usr/local/lib/python3.10/dist-packages (from matplotlib) (1.2.0)\n",
            "Requirement already satisfied: cycler>=0.10 in /usr/local/lib/python3.10/dist-packages (from matplotlib) (0.12.1)\n",
            "Requirement already satisfied: fonttools>=4.22.0 in /usr/local/lib/python3.10/dist-packages (from matplotlib) (4.47.2)\n",
            "Requirement already satisfied: kiwisolver>=1.0.1 in /usr/local/lib/python3.10/dist-packages (from matplotlib) (1.4.5)\n",
            "Requirement already satisfied: numpy>=1.20 in /usr/local/lib/python3.10/dist-packages (from matplotlib) (1.23.5)\n",
            "Requirement already satisfied: packaging>=20.0 in /usr/local/lib/python3.10/dist-packages (from matplotlib) (23.2)\n",
            "Requirement already satisfied: pillow>=6.2.0 in /usr/local/lib/python3.10/dist-packages (from matplotlib) (9.4.0)\n",
            "Requirement already satisfied: pyparsing>=2.3.1 in /usr/local/lib/python3.10/dist-packages (from matplotlib) (3.1.1)\n",
            "Requirement already satisfied: python-dateutil>=2.7 in /usr/local/lib/python3.10/dist-packages (from matplotlib) (2.8.2)\n",
            "Requirement already satisfied: pandas>=1.2 in /usr/local/lib/python3.10/dist-packages (from seaborn) (1.5.3)\n",
            "Requirement already satisfied: pytz>=2020.1 in /usr/local/lib/python3.10/dist-packages (from pandas>=1.2->seaborn) (2023.3.post1)\n",
            "Requirement already satisfied: six>=1.5 in /usr/local/lib/python3.10/dist-packages (from python-dateutil>=2.7->matplotlib) (1.16.0)\n",
            "Requirement already satisfied: chromadb in /usr/local/lib/python3.10/dist-packages (0.4.22)\n",
            "Requirement already satisfied: build>=1.0.3 in /usr/local/lib/python3.10/dist-packages (from chromadb) (1.0.3)\n",
            "Requirement already satisfied: requests>=2.28 in /usr/local/lib/python3.10/dist-packages (from chromadb) (2.31.0)\n",
            "Requirement already satisfied: pydantic>=1.9 in /usr/local/lib/python3.10/dist-packages (from chromadb) (2.5.3)\n",
            "Requirement already satisfied: chroma-hnswlib==0.7.3 in /usr/local/lib/python3.10/dist-packages (from chromadb) (0.7.3)\n",
            "Requirement already satisfied: fastapi>=0.95.2 in /usr/local/lib/python3.10/dist-packages (from chromadb) (0.109.0)\n",
            "Requirement already satisfied: uvicorn[standard]>=0.18.3 in /usr/local/lib/python3.10/dist-packages (from chromadb) (0.26.0)\n",
            "Requirement already satisfied: numpy>=1.22.5 in /usr/local/lib/python3.10/dist-packages (from chromadb) (1.23.5)\n",
            "Requirement already satisfied: posthog>=2.4.0 in /usr/local/lib/python3.10/dist-packages (from chromadb) (3.3.1)\n",
            "Requirement already satisfied: typing-extensions>=4.5.0 in /usr/local/lib/python3.10/dist-packages (from chromadb) (4.9.0)\n",
            "Requirement already satisfied: pulsar-client>=3.1.0 in /usr/local/lib/python3.10/dist-packages (from chromadb) (3.4.0)\n",
            "Requirement already satisfied: onnxruntime>=1.14.1 in /usr/local/lib/python3.10/dist-packages (from chromadb) (1.16.3)\n",
            "Requirement already satisfied: opentelemetry-api>=1.2.0 in /usr/local/lib/python3.10/dist-packages (from chromadb) (1.22.0)\n",
            "Requirement already satisfied: opentelemetry-exporter-otlp-proto-grpc>=1.2.0 in /usr/local/lib/python3.10/dist-packages (from chromadb) (1.22.0)\n",
            "Requirement already satisfied: opentelemetry-instrumentation-fastapi>=0.41b0 in /usr/local/lib/python3.10/dist-packages (from chromadb) (0.43b0)\n",
            "Requirement already satisfied: opentelemetry-sdk>=1.2.0 in /usr/local/lib/python3.10/dist-packages (from chromadb) (1.22.0)\n",
            "Requirement already satisfied: tokenizers>=0.13.2 in /usr/local/lib/python3.10/dist-packages (from chromadb) (0.15.0)\n",
            "Requirement already satisfied: pypika>=0.48.9 in /usr/local/lib/python3.10/dist-packages (from chromadb) (0.48.9)\n",
            "Requirement already satisfied: tqdm>=4.65.0 in /usr/local/lib/python3.10/dist-packages (from chromadb) (4.66.1)\n",
            "Requirement already satisfied: overrides>=7.3.1 in /usr/local/lib/python3.10/dist-packages (from chromadb) (7.4.0)\n",
            "Requirement already satisfied: importlib-resources in /usr/local/lib/python3.10/dist-packages (from chromadb) (6.1.1)\n",
            "Requirement already satisfied: grpcio>=1.58.0 in /usr/local/lib/python3.10/dist-packages (from chromadb) (1.60.0)\n",
            "Requirement already satisfied: bcrypt>=4.0.1 in /usr/local/lib/python3.10/dist-packages (from chromadb) (4.1.2)\n",
            "Requirement already satisfied: typer>=0.9.0 in /usr/local/lib/python3.10/dist-packages (from chromadb) (0.9.0)\n",
            "Requirement already satisfied: kubernetes>=28.1.0 in /usr/local/lib/python3.10/dist-packages (from chromadb) (29.0.0)\n",
            "Requirement already satisfied: tenacity>=8.2.3 in /usr/local/lib/python3.10/dist-packages (from chromadb) (8.2.3)\n",
            "Requirement already satisfied: PyYAML>=6.0.0 in /usr/local/lib/python3.10/dist-packages (from chromadb) (6.0.1)\n",
            "Requirement already satisfied: mmh3>=4.0.1 in /usr/local/lib/python3.10/dist-packages (from chromadb) (4.1.0)\n",
            "Requirement already satisfied: packaging>=19.0 in /usr/local/lib/python3.10/dist-packages (from build>=1.0.3->chromadb) (23.2)\n",
            "Requirement already satisfied: pyproject_hooks in /usr/local/lib/python3.10/dist-packages (from build>=1.0.3->chromadb) (1.0.0)\n",
            "Requirement already satisfied: tomli>=1.1.0 in /usr/local/lib/python3.10/dist-packages (from build>=1.0.3->chromadb) (2.0.1)\n",
            "Requirement already satisfied: starlette<0.36.0,>=0.35.0 in /usr/local/lib/python3.10/dist-packages (from fastapi>=0.95.2->chromadb) (0.35.1)\n",
            "Requirement already satisfied: certifi>=14.05.14 in /usr/local/lib/python3.10/dist-packages (from kubernetes>=28.1.0->chromadb) (2023.11.17)\n",
            "Requirement already satisfied: six>=1.9.0 in /usr/local/lib/python3.10/dist-packages (from kubernetes>=28.1.0->chromadb) (1.16.0)\n",
            "Requirement already satisfied: python-dateutil>=2.5.3 in /usr/local/lib/python3.10/dist-packages (from kubernetes>=28.1.0->chromadb) (2.8.2)\n",
            "Requirement already satisfied: google-auth>=1.0.1 in /usr/local/lib/python3.10/dist-packages (from kubernetes>=28.1.0->chromadb) (2.17.3)\n",
            "Requirement already satisfied: websocket-client!=0.40.0,!=0.41.*,!=0.42.*,>=0.32.0 in /usr/local/lib/python3.10/dist-packages (from kubernetes>=28.1.0->chromadb) (1.7.0)\n",
            "Requirement already satisfied: requests-oauthlib in /usr/local/lib/python3.10/dist-packages (from kubernetes>=28.1.0->chromadb) (1.3.1)\n",
            "Requirement already satisfied: oauthlib>=3.2.2 in /usr/local/lib/python3.10/dist-packages (from kubernetes>=28.1.0->chromadb) (3.2.2)\n",
            "Requirement already satisfied: urllib3>=1.24.2 in /usr/local/lib/python3.10/dist-packages (from kubernetes>=28.1.0->chromadb) (2.0.7)\n",
            "Requirement already satisfied: coloredlogs in /usr/local/lib/python3.10/dist-packages (from onnxruntime>=1.14.1->chromadb) (15.0.1)\n",
            "Requirement already satisfied: flatbuffers in /usr/local/lib/python3.10/dist-packages (from onnxruntime>=1.14.1->chromadb) (23.5.26)\n",
            "Requirement already satisfied: protobuf in /usr/local/lib/python3.10/dist-packages (from onnxruntime>=1.14.1->chromadb) (3.20.3)\n",
            "Requirement already satisfied: sympy in /usr/local/lib/python3.10/dist-packages (from onnxruntime>=1.14.1->chromadb) (1.12)\n",
            "Requirement already satisfied: deprecated>=1.2.6 in /usr/local/lib/python3.10/dist-packages (from opentelemetry-api>=1.2.0->chromadb) (1.2.14)\n",
            "Requirement already satisfied: importlib-metadata<7.0,>=6.0 in /usr/local/lib/python3.10/dist-packages (from opentelemetry-api>=1.2.0->chromadb) (6.11.0)\n",
            "Requirement already satisfied: backoff<3.0.0,>=1.10.0 in /usr/local/lib/python3.10/dist-packages (from opentelemetry-exporter-otlp-proto-grpc>=1.2.0->chromadb) (2.2.1)\n",
            "Requirement already satisfied: googleapis-common-protos~=1.52 in /usr/local/lib/python3.10/dist-packages (from opentelemetry-exporter-otlp-proto-grpc>=1.2.0->chromadb) (1.62.0)\n",
            "Requirement already satisfied: opentelemetry-exporter-otlp-proto-common==1.22.0 in /usr/local/lib/python3.10/dist-packages (from opentelemetry-exporter-otlp-proto-grpc>=1.2.0->chromadb) (1.22.0)\n",
            "Requirement already satisfied: opentelemetry-proto==1.22.0 in /usr/local/lib/python3.10/dist-packages (from opentelemetry-exporter-otlp-proto-grpc>=1.2.0->chromadb) (1.22.0)\n",
            "Requirement already satisfied: opentelemetry-instrumentation-asgi==0.43b0 in /usr/local/lib/python3.10/dist-packages (from opentelemetry-instrumentation-fastapi>=0.41b0->chromadb) (0.43b0)\n",
            "Requirement already satisfied: opentelemetry-instrumentation==0.43b0 in /usr/local/lib/python3.10/dist-packages (from opentelemetry-instrumentation-fastapi>=0.41b0->chromadb) (0.43b0)\n",
            "Requirement already satisfied: opentelemetry-semantic-conventions==0.43b0 in /usr/local/lib/python3.10/dist-packages (from opentelemetry-instrumentation-fastapi>=0.41b0->chromadb) (0.43b0)\n",
            "Requirement already satisfied: opentelemetry-util-http==0.43b0 in /usr/local/lib/python3.10/dist-packages (from opentelemetry-instrumentation-fastapi>=0.41b0->chromadb) (0.43b0)\n",
            "Requirement already satisfied: setuptools>=16.0 in /usr/local/lib/python3.10/dist-packages (from opentelemetry-instrumentation==0.43b0->opentelemetry-instrumentation-fastapi>=0.41b0->chromadb) (67.7.2)\n",
            "Requirement already satisfied: wrapt<2.0.0,>=1.0.0 in /usr/local/lib/python3.10/dist-packages (from opentelemetry-instrumentation==0.43b0->opentelemetry-instrumentation-fastapi>=0.41b0->chromadb) (1.14.1)\n",
            "Requirement already satisfied: asgiref~=3.0 in /usr/local/lib/python3.10/dist-packages (from opentelemetry-instrumentation-asgi==0.43b0->opentelemetry-instrumentation-fastapi>=0.41b0->chromadb) (3.7.2)\n",
            "Requirement already satisfied: monotonic>=1.5 in /usr/local/lib/python3.10/dist-packages (from posthog>=2.4.0->chromadb) (1.6)\n",
            "Requirement already satisfied: annotated-types>=0.4.0 in /usr/local/lib/python3.10/dist-packages (from pydantic>=1.9->chromadb) (0.6.0)\n",
            "Requirement already satisfied: pydantic-core==2.14.6 in /usr/local/lib/python3.10/dist-packages (from pydantic>=1.9->chromadb) (2.14.6)\n",
            "Requirement already satisfied: charset-normalizer<4,>=2 in /usr/local/lib/python3.10/dist-packages (from requests>=2.28->chromadb) (3.3.2)\n",
            "Requirement already satisfied: idna<4,>=2.5 in /usr/local/lib/python3.10/dist-packages (from requests>=2.28->chromadb) (3.6)\n",
            "Requirement already satisfied: huggingface_hub<1.0,>=0.16.4 in /usr/local/lib/python3.10/dist-packages (from tokenizers>=0.13.2->chromadb) (0.20.2)\n",
            "Requirement already satisfied: click<9.0.0,>=7.1.1 in /usr/local/lib/python3.10/dist-packages (from typer>=0.9.0->chromadb) (8.1.7)\n",
            "Requirement already satisfied: h11>=0.8 in /usr/local/lib/python3.10/dist-packages (from uvicorn[standard]>=0.18.3->chromadb) (0.14.0)\n",
            "Requirement already satisfied: httptools>=0.5.0 in /usr/local/lib/python3.10/dist-packages (from uvicorn[standard]>=0.18.3->chromadb) (0.6.1)\n",
            "Requirement already satisfied: python-dotenv>=0.13 in /usr/local/lib/python3.10/dist-packages (from uvicorn[standard]>=0.18.3->chromadb) (1.0.0)\n",
            "Requirement already satisfied: uvloop!=0.15.0,!=0.15.1,>=0.14.0 in /usr/local/lib/python3.10/dist-packages (from uvicorn[standard]>=0.18.3->chromadb) (0.19.0)\n",
            "Requirement already satisfied: watchfiles>=0.13 in /usr/local/lib/python3.10/dist-packages (from uvicorn[standard]>=0.18.3->chromadb) (0.21.0)\n",
            "Requirement already satisfied: websockets>=10.4 in /usr/local/lib/python3.10/dist-packages (from uvicorn[standard]>=0.18.3->chromadb) (12.0)\n",
            "Requirement already satisfied: cachetools<6.0,>=2.0.0 in /usr/local/lib/python3.10/dist-packages (from google-auth>=1.0.1->kubernetes>=28.1.0->chromadb) (5.3.2)\n",
            "Requirement already satisfied: pyasn1-modules>=0.2.1 in /usr/local/lib/python3.10/dist-packages (from google-auth>=1.0.1->kubernetes>=28.1.0->chromadb) (0.3.0)\n",
            "Requirement already satisfied: rsa<5,>=3.1.4 in /usr/local/lib/python3.10/dist-packages (from google-auth>=1.0.1->kubernetes>=28.1.0->chromadb) (4.9)\n",
            "Requirement already satisfied: filelock in /usr/local/lib/python3.10/dist-packages (from huggingface_hub<1.0,>=0.16.4->tokenizers>=0.13.2->chromadb) (3.13.1)\n",
            "Requirement already satisfied: fsspec>=2023.5.0 in /usr/local/lib/python3.10/dist-packages (from huggingface_hub<1.0,>=0.16.4->tokenizers>=0.13.2->chromadb) (2023.6.0)\n",
            "Requirement already satisfied: zipp>=0.5 in /usr/local/lib/python3.10/dist-packages (from importlib-metadata<7.0,>=6.0->opentelemetry-api>=1.2.0->chromadb) (3.17.0)\n",
            "Requirement already satisfied: anyio<5,>=3.4.0 in /usr/local/lib/python3.10/dist-packages (from starlette<0.36.0,>=0.35.0->fastapi>=0.95.2->chromadb) (3.7.1)\n",
            "Requirement already satisfied: humanfriendly>=9.1 in /usr/local/lib/python3.10/dist-packages (from coloredlogs->onnxruntime>=1.14.1->chromadb) (10.0)\n",
            "Requirement already satisfied: mpmath>=0.19 in /usr/local/lib/python3.10/dist-packages (from sympy->onnxruntime>=1.14.1->chromadb) (1.3.0)\n",
            "Requirement already satisfied: sniffio>=1.1 in /usr/local/lib/python3.10/dist-packages (from anyio<5,>=3.4.0->starlette<0.36.0,>=0.35.0->fastapi>=0.95.2->chromadb) (1.3.0)\n",
            "Requirement already satisfied: exceptiongroup in /usr/local/lib/python3.10/dist-packages (from anyio<5,>=3.4.0->starlette<0.36.0,>=0.35.0->fastapi>=0.95.2->chromadb) (1.2.0)\n",
            "Requirement already satisfied: pyasn1<0.6.0,>=0.4.6 in /usr/local/lib/python3.10/dist-packages (from pyasn1-modules>=0.2.1->google-auth>=1.0.1->kubernetes>=28.1.0->chromadb) (0.5.1)\n",
            "Requirement already satisfied: evaluate in /usr/local/lib/python3.10/dist-packages (0.4.1)\n",
            "Requirement already satisfied: datasets>=2.0.0 in /usr/local/lib/python3.10/dist-packages (from evaluate) (2.16.1)\n",
            "Requirement already satisfied: numpy>=1.17 in /usr/local/lib/python3.10/dist-packages (from evaluate) (1.23.5)\n",
            "Requirement already satisfied: dill in /usr/local/lib/python3.10/dist-packages (from evaluate) (0.3.7)\n",
            "Requirement already satisfied: pandas in /usr/local/lib/python3.10/dist-packages (from evaluate) (1.5.3)\n",
            "Requirement already satisfied: requests>=2.19.0 in /usr/local/lib/python3.10/dist-packages (from evaluate) (2.31.0)\n",
            "Requirement already satisfied: tqdm>=4.62.1 in /usr/local/lib/python3.10/dist-packages (from evaluate) (4.66.1)\n",
            "Requirement already satisfied: xxhash in /usr/local/lib/python3.10/dist-packages (from evaluate) (3.4.1)\n",
            "Requirement already satisfied: multiprocess in /usr/local/lib/python3.10/dist-packages (from evaluate) (0.70.15)\n",
            "Requirement already satisfied: fsspec[http]>=2021.05.0 in /usr/local/lib/python3.10/dist-packages (from evaluate) (2023.6.0)\n",
            "Requirement already satisfied: huggingface-hub>=0.7.0 in /usr/local/lib/python3.10/dist-packages (from evaluate) (0.20.2)\n",
            "Requirement already satisfied: packaging in /usr/local/lib/python3.10/dist-packages (from evaluate) (23.2)\n",
            "Requirement already satisfied: responses<0.19 in /usr/local/lib/python3.10/dist-packages (from evaluate) (0.18.0)\n",
            "Requirement already satisfied: filelock in /usr/local/lib/python3.10/dist-packages (from datasets>=2.0.0->evaluate) (3.13.1)\n",
            "Requirement already satisfied: pyarrow>=8.0.0 in /usr/local/lib/python3.10/dist-packages (from datasets>=2.0.0->evaluate) (10.0.1)\n",
            "Requirement already satisfied: pyarrow-hotfix in /usr/local/lib/python3.10/dist-packages (from datasets>=2.0.0->evaluate) (0.6)\n",
            "Requirement already satisfied: aiohttp in /usr/local/lib/python3.10/dist-packages (from datasets>=2.0.0->evaluate) (3.9.1)\n",
            "Requirement already satisfied: pyyaml>=5.1 in /usr/local/lib/python3.10/dist-packages (from datasets>=2.0.0->evaluate) (6.0.1)\n",
            "Requirement already satisfied: typing-extensions>=3.7.4.3 in /usr/local/lib/python3.10/dist-packages (from huggingface-hub>=0.7.0->evaluate) (4.9.0)\n",
            "Requirement already satisfied: charset-normalizer<4,>=2 in /usr/local/lib/python3.10/dist-packages (from requests>=2.19.0->evaluate) (3.3.2)\n",
            "Requirement already satisfied: idna<4,>=2.5 in /usr/local/lib/python3.10/dist-packages (from requests>=2.19.0->evaluate) (3.6)\n",
            "Requirement already satisfied: urllib3<3,>=1.21.1 in /usr/local/lib/python3.10/dist-packages (from requests>=2.19.0->evaluate) (2.0.7)\n",
            "Requirement already satisfied: certifi>=2017.4.17 in /usr/local/lib/python3.10/dist-packages (from requests>=2.19.0->evaluate) (2023.11.17)\n",
            "Requirement already satisfied: python-dateutil>=2.8.1 in /usr/local/lib/python3.10/dist-packages (from pandas->evaluate) (2.8.2)\n",
            "Requirement already satisfied: pytz>=2020.1 in /usr/local/lib/python3.10/dist-packages (from pandas->evaluate) (2023.3.post1)\n",
            "Requirement already satisfied: attrs>=17.3.0 in /usr/local/lib/python3.10/dist-packages (from aiohttp->datasets>=2.0.0->evaluate) (23.2.0)\n",
            "Requirement already satisfied: multidict<7.0,>=4.5 in /usr/local/lib/python3.10/dist-packages (from aiohttp->datasets>=2.0.0->evaluate) (6.0.4)\n",
            "Requirement already satisfied: yarl<2.0,>=1.0 in /usr/local/lib/python3.10/dist-packages (from aiohttp->datasets>=2.0.0->evaluate) (1.9.4)\n",
            "Requirement already satisfied: frozenlist>=1.1.1 in /usr/local/lib/python3.10/dist-packages (from aiohttp->datasets>=2.0.0->evaluate) (1.4.1)\n",
            "Requirement already satisfied: aiosignal>=1.1.2 in /usr/local/lib/python3.10/dist-packages (from aiohttp->datasets>=2.0.0->evaluate) (1.3.1)\n",
            "Requirement already satisfied: async-timeout<5.0,>=4.0 in /usr/local/lib/python3.10/dist-packages (from aiohttp->datasets>=2.0.0->evaluate) (4.0.3)\n",
            "Requirement already satisfied: six>=1.5 in /usr/local/lib/python3.10/dist-packages (from python-dateutil>=2.8.1->pandas->evaluate) (1.16.0)\n",
            "Requirement already satisfied: rouge_score in /usr/local/lib/python3.10/dist-packages (0.1.2)\n",
            "Requirement already satisfied: absl-py in /usr/local/lib/python3.10/dist-packages (from rouge_score) (1.4.0)\n",
            "Requirement already satisfied: nltk in /usr/local/lib/python3.10/dist-packages (from rouge_score) (3.8.1)\n",
            "Requirement already satisfied: numpy in /usr/local/lib/python3.10/dist-packages (from rouge_score) (1.23.5)\n",
            "Requirement already satisfied: six>=1.14.0 in /usr/local/lib/python3.10/dist-packages (from rouge_score) (1.16.0)\n",
            "Requirement already satisfied: click in /usr/local/lib/python3.10/dist-packages (from nltk->rouge_score) (8.1.7)\n",
            "Requirement already satisfied: joblib in /usr/local/lib/python3.10/dist-packages (from nltk->rouge_score) (1.3.2)\n",
            "Requirement already satisfied: regex>=2021.8.3 in /usr/local/lib/python3.10/dist-packages (from nltk->rouge_score) (2023.6.3)\n",
            "Requirement already satisfied: tqdm in /usr/local/lib/python3.10/dist-packages (from nltk->rouge_score) (4.66.1)\n",
            "Requirement already satisfied: bert_score in /usr/local/lib/python3.10/dist-packages (0.3.13)\n",
            "Requirement already satisfied: torch>=1.0.0 in /usr/local/lib/python3.10/dist-packages (from bert_score) (2.1.2)\n",
            "Requirement already satisfied: pandas>=1.0.1 in /usr/local/lib/python3.10/dist-packages (from bert_score) (1.5.3)\n",
            "Requirement already satisfied: transformers>=3.0.0 in /usr/local/lib/python3.10/dist-packages (from bert_score) (4.35.2)\n",
            "Requirement already satisfied: numpy in /usr/local/lib/python3.10/dist-packages (from bert_score) (1.23.5)\n",
            "Requirement already satisfied: requests in /usr/local/lib/python3.10/dist-packages (from bert_score) (2.31.0)\n",
            "Requirement already satisfied: tqdm>=4.31.1 in /usr/local/lib/python3.10/dist-packages (from bert_score) (4.66.1)\n",
            "Requirement already satisfied: matplotlib in /usr/local/lib/python3.10/dist-packages (from bert_score) (3.7.1)\n",
            "Requirement already satisfied: packaging>=20.9 in /usr/local/lib/python3.10/dist-packages (from bert_score) (23.2)\n",
            "Requirement already satisfied: python-dateutil>=2.8.1 in /usr/local/lib/python3.10/dist-packages (from pandas>=1.0.1->bert_score) (2.8.2)\n",
            "Requirement already satisfied: pytz>=2020.1 in /usr/local/lib/python3.10/dist-packages (from pandas>=1.0.1->bert_score) (2023.3.post1)\n",
            "Requirement already satisfied: filelock in /usr/local/lib/python3.10/dist-packages (from torch>=1.0.0->bert_score) (3.13.1)\n",
            "Requirement already satisfied: typing-extensions in /usr/local/lib/python3.10/dist-packages (from torch>=1.0.0->bert_score) (4.9.0)\n",
            "Requirement already satisfied: sympy in /usr/local/lib/python3.10/dist-packages (from torch>=1.0.0->bert_score) (1.12)\n",
            "Requirement already satisfied: networkx in /usr/local/lib/python3.10/dist-packages (from torch>=1.0.0->bert_score) (3.2.1)\n",
            "Requirement already satisfied: jinja2 in /usr/local/lib/python3.10/dist-packages (from torch>=1.0.0->bert_score) (3.1.3)\n",
            "Requirement already satisfied: fsspec in /usr/local/lib/python3.10/dist-packages (from torch>=1.0.0->bert_score) (2023.6.0)\n",
            "Requirement already satisfied: nvidia-cuda-nvrtc-cu12==12.1.105 in /usr/local/lib/python3.10/dist-packages (from torch>=1.0.0->bert_score) (12.1.105)\n",
            "Requirement already satisfied: nvidia-cuda-runtime-cu12==12.1.105 in /usr/local/lib/python3.10/dist-packages (from torch>=1.0.0->bert_score) (12.1.105)\n",
            "Requirement already satisfied: nvidia-cuda-cupti-cu12==12.1.105 in /usr/local/lib/python3.10/dist-packages (from torch>=1.0.0->bert_score) (12.1.105)\n",
            "Requirement already satisfied: nvidia-cudnn-cu12==8.9.2.26 in /usr/local/lib/python3.10/dist-packages (from torch>=1.0.0->bert_score) (8.9.2.26)\n",
            "Requirement already satisfied: nvidia-cublas-cu12==12.1.3.1 in /usr/local/lib/python3.10/dist-packages (from torch>=1.0.0->bert_score) (12.1.3.1)\n",
            "Requirement already satisfied: nvidia-cufft-cu12==11.0.2.54 in /usr/local/lib/python3.10/dist-packages (from torch>=1.0.0->bert_score) (11.0.2.54)\n",
            "Requirement already satisfied: nvidia-curand-cu12==10.3.2.106 in /usr/local/lib/python3.10/dist-packages (from torch>=1.0.0->bert_score) (10.3.2.106)\n",
            "Requirement already satisfied: nvidia-cusolver-cu12==11.4.5.107 in /usr/local/lib/python3.10/dist-packages (from torch>=1.0.0->bert_score) (11.4.5.107)\n",
            "Requirement already satisfied: nvidia-cusparse-cu12==12.1.0.106 in /usr/local/lib/python3.10/dist-packages (from torch>=1.0.0->bert_score) (12.1.0.106)\n",
            "Requirement already satisfied: nvidia-nccl-cu12==2.18.1 in /usr/local/lib/python3.10/dist-packages (from torch>=1.0.0->bert_score) (2.18.1)\n",
            "Requirement already satisfied: nvidia-nvtx-cu12==12.1.105 in /usr/local/lib/python3.10/dist-packages (from torch>=1.0.0->bert_score) (12.1.105)\n",
            "Requirement already satisfied: triton==2.1.0 in /usr/local/lib/python3.10/dist-packages (from torch>=1.0.0->bert_score) (2.1.0)\n",
            "Requirement already satisfied: nvidia-nvjitlink-cu12 in /usr/local/lib/python3.10/dist-packages (from nvidia-cusolver-cu12==11.4.5.107->torch>=1.0.0->bert_score) (12.3.101)\n",
            "Requirement already satisfied: huggingface-hub<1.0,>=0.16.4 in /usr/local/lib/python3.10/dist-packages (from transformers>=3.0.0->bert_score) (0.20.2)\n",
            "Requirement already satisfied: pyyaml>=5.1 in /usr/local/lib/python3.10/dist-packages (from transformers>=3.0.0->bert_score) (6.0.1)\n",
            "Requirement already satisfied: regex!=2019.12.17 in /usr/local/lib/python3.10/dist-packages (from transformers>=3.0.0->bert_score) (2023.6.3)\n",
            "Requirement already satisfied: tokenizers<0.19,>=0.14 in /usr/local/lib/python3.10/dist-packages (from transformers>=3.0.0->bert_score) (0.15.0)\n",
            "Requirement already satisfied: safetensors>=0.3.1 in /usr/local/lib/python3.10/dist-packages (from transformers>=3.0.0->bert_score) (0.4.1)\n",
            "Requirement already satisfied: contourpy>=1.0.1 in /usr/local/lib/python3.10/dist-packages (from matplotlib->bert_score) (1.2.0)\n",
            "Requirement already satisfied: cycler>=0.10 in /usr/local/lib/python3.10/dist-packages (from matplotlib->bert_score) (0.12.1)\n",
            "Requirement already satisfied: fonttools>=4.22.0 in /usr/local/lib/python3.10/dist-packages (from matplotlib->bert_score) (4.47.2)\n",
            "Requirement already satisfied: kiwisolver>=1.0.1 in /usr/local/lib/python3.10/dist-packages (from matplotlib->bert_score) (1.4.5)\n",
            "Requirement already satisfied: pillow>=6.2.0 in /usr/local/lib/python3.10/dist-packages (from matplotlib->bert_score) (9.4.0)\n",
            "Requirement already satisfied: pyparsing>=2.3.1 in /usr/local/lib/python3.10/dist-packages (from matplotlib->bert_score) (3.1.1)\n",
            "Requirement already satisfied: charset-normalizer<4,>=2 in /usr/local/lib/python3.10/dist-packages (from requests->bert_score) (3.3.2)\n",
            "Requirement already satisfied: idna<4,>=2.5 in /usr/local/lib/python3.10/dist-packages (from requests->bert_score) (3.6)\n",
            "Requirement already satisfied: urllib3<3,>=1.21.1 in /usr/local/lib/python3.10/dist-packages (from requests->bert_score) (2.0.7)\n",
            "Requirement already satisfied: certifi>=2017.4.17 in /usr/local/lib/python3.10/dist-packages (from requests->bert_score) (2023.11.17)\n",
            "Requirement already satisfied: six>=1.5 in /usr/local/lib/python3.10/dist-packages (from python-dateutil>=2.8.1->pandas>=1.0.1->bert_score) (1.16.0)\n",
            "Requirement already satisfied: MarkupSafe>=2.0 in /usr/local/lib/python3.10/dist-packages (from jinja2->torch>=1.0.0->bert_score) (2.1.3)\n",
            "Requirement already satisfied: mpmath>=0.19 in /usr/local/lib/python3.10/dist-packages (from sympy->torch>=1.0.0->bert_score) (1.3.0)\n"
          ]
        }
      ],
      "source": [
        "%pip install litellm\n",
        "%pip install -qU trulens_eval pydantic fastapi kaleido python-multipart uvicorn cohere openai tiktoken \"llama-index\"\n",
        "%pip install transformers\n",
        "%pip install sentence-transformers\n",
        "%pip install pinecone-client\n",
        "%pip install datasets\n",
        "%pip install accelerate\n",
        "%pip install einops\n",
        "%pip install langchain\n",
        "%pip install xformers\n",
        "%pip install bitsandbytes\n",
        "%pip install matplotlib seaborn tqdm\n",
        "%pip install chromadb\n",
        "%pip install evaluate\n",
        "%pip install rouge_score\n",
        "%pip install bert_score"
      ]
    },
    {
      "cell_type": "markdown",
      "id": "dLDAPMVST2Ds",
      "metadata": {
        "id": "dLDAPMVST2Ds"
      },
      "source": [
        "\n",
        "\n",
        "## Subtask 1.1: Data Preparation\n",
        "\n"
      ]
    },
    {
      "cell_type": "markdown",
      "id": "9b9odZyFLDin",
      "metadata": {
        "id": "9b9odZyFLDin"
      },
      "source": [
        "We need a collection of documents to perform our retrieval on. To make it closer to your final project, you will be downloading and using a subset of the LangChain documentation. We get some of the `.html` files located on the site. The code below will download all HTML files from the links on the webpage into a `docs` directory. `-l1` limits the download to only the first level of depth.\n"
      ]
    },
    {
      "cell_type": "code",
      "execution_count": 4,
      "id": "JXe86ZKVFfrm",
      "metadata": {
        "id": "JXe86ZKVFfrm"
      },
      "outputs": [],
      "source": [
        "import locale\n",
        "locale.getpreferredencoding = lambda: \"UTF-8\""
      ]
    },
    {
      "cell_type": "code",
      "execution_count": 5,
      "id": "qiodFLkaLUsF",
      "metadata": {
        "id": "qiodFLkaLUsF",
        "colab": {
          "base_uri": "https://localhost:8080/"
        },
        "outputId": "2dc4a9da-68c0-47dc-edae-3e408ea49b49"
      },
      "outputs": [
        {
          "output_type": "stream",
          "name": "stdout",
          "text": [
            "--2024-01-18 11:41:11--  https://api.python.langchain.com/en/stable/langchain_api_reference.html\n",
            "Resolving api.python.langchain.com (api.python.langchain.com)... 104.17.33.82, 104.17.32.82, 2606:4700::6811:2052, ...\n",
            "Connecting to api.python.langchain.com (api.python.langchain.com)|104.17.33.82|:443... connected.\n",
            "HTTP request sent, awaiting response... 200 OK\n",
            "Length: unspecified [text/html]\n",
            "Saving to: ‘docs/api.python.langchain.com/en/stable/langchain_api_reference.html’\n",
            "\n",
            "\r          api.pytho     [<=>                 ]       0  --.-KB/s               \rapi.python.langchai     [ <=>                ] 256.55K  --.-KB/s    in 0.03s   \n",
            "\n",
            "2024-01-18 11:41:11 (7.21 MB/s) - ‘docs/api.python.langchain.com/en/stable/langchain_api_reference.html’ saved [262709]\n",
            "\n",
            "Loading robots.txt; please ignore errors.\n",
            "--2024-01-18 11:41:11--  https://api.python.langchain.com/robots.txt\n",
            "Reusing existing connection to api.python.langchain.com:443.\n",
            "HTTP request sent, awaiting response... 200 OK\n",
            "Length: 130 [text/plain]\n",
            "Saving to: ‘docs/api.python.langchain.com/robots.txt.tmp’\n",
            "\n",
            "api.python.langchai 100%[===================>]     130  --.-KB/s    in 0s      \n",
            "\n",
            "2024-01-18 11:41:11 (93.1 MB/s) - ‘docs/api.python.langchain.com/robots.txt.tmp’ saved [130/130]\n",
            "\n",
            "Removing docs/api.python.langchain.com/robots.txt.tmp.\n",
            "--2024-01-18 11:41:11--  https://api.python.langchain.com/en/latest/langchain_api_reference.html\n",
            "Reusing existing connection to api.python.langchain.com:443.\n",
            "HTTP request sent, awaiting response... 200 OK\n",
            "Length: unspecified [text/html]\n",
            "Saving to: ‘docs/api.python.langchain.com/en/latest/langchain_api_reference.html’\n",
            "\n",
            "api.python.langchai     [ <=>                ] 252.94K  --.-KB/s    in 0.007s  \n",
            "\n",
            "2024-01-18 11:41:11 (35.2 MB/s) - ‘docs/api.python.langchain.com/en/latest/langchain_api_reference.html’ saved [259012]\n",
            "\n",
            "--2024-01-18 11:41:11--  https://api.python.langchain.com/en/stable/core_api_reference.html\n",
            "Reusing existing connection to api.python.langchain.com:443.\n",
            "HTTP request sent, awaiting response... 200 OK\n",
            "Length: unspecified [text/html]\n",
            "Saving to: ‘docs/api.python.langchain.com/en/stable/core_api_reference.html’\n",
            "\n",
            "api.python.langchai     [ <=>                ] 171.08K  --.-KB/s    in 0.005s  \n",
            "\n",
            "2024-01-18 11:41:11 (34.6 MB/s) - ‘docs/api.python.langchain.com/en/stable/core_api_reference.html’ saved [175186]\n",
            "\n",
            "--2024-01-18 11:41:11--  https://api.python.langchain.com/en/stable/community_api_reference.html\n",
            "Reusing existing connection to api.python.langchain.com:443.\n",
            "HTTP request sent, awaiting response... 200 OK\n",
            "Length: unspecified [text/html]\n",
            "Saving to: ‘docs/api.python.langchain.com/en/stable/community_api_reference.html’\n",
            "\n",
            "api.python.langchai     [ <=>                ] 664.56K  --.-KB/s    in 0.02s   \n",
            "\n",
            "2024-01-18 11:41:11 (35.0 MB/s) - ‘docs/api.python.langchain.com/en/stable/community_api_reference.html’ saved [680512]\n",
            "\n",
            "--2024-01-18 11:41:11--  https://api.python.langchain.com/en/stable/experimental_api_reference.html\n",
            "Reusing existing connection to api.python.langchain.com:443.\n",
            "HTTP request sent, awaiting response... 200 OK\n",
            "Length: unspecified [text/html]\n",
            "Saving to: ‘docs/api.python.langchain.com/en/stable/experimental_api_reference.html’\n",
            "\n",
            "api.python.langchai     [ <=>                ] 129.77K  --.-KB/s    in 0.003s  \n",
            "\n",
            "2024-01-18 11:41:11 (39.4 MB/s) - ‘docs/api.python.langchain.com/en/stable/experimental_api_reference.html’ saved [132886]\n",
            "\n",
            "--2024-01-18 11:41:11--  https://api.python.langchain.com/en/stable/google_genai_api_reference.html\n",
            "Reusing existing connection to api.python.langchain.com:443.\n",
            "HTTP request sent, awaiting response... 200 OK\n",
            "Length: unspecified [text/html]\n",
            "Saving to: ‘docs/api.python.langchain.com/en/stable/google_genai_api_reference.html’\n",
            "\n",
            "api.python.langchai     [ <=>                ]  15.17K  --.-KB/s    in 0s      \n",
            "\n",
            "2024-01-18 11:41:11 (48.2 MB/s) - ‘docs/api.python.langchain.com/en/stable/google_genai_api_reference.html’ saved [15539]\n",
            "\n",
            "--2024-01-18 11:41:11--  https://api.python.langchain.com/en/stable/anthropic_api_reference.html\n",
            "Reusing existing connection to api.python.langchain.com:443.\n",
            "HTTP request sent, awaiting response... 200 OK\n",
            "Length: unspecified [text/html]\n",
            "Saving to: ‘docs/api.python.langchain.com/en/stable/anthropic_api_reference.html’\n",
            "\n",
            "api.python.langchai     [ <=>                ]  11.35K  --.-KB/s    in 0s      \n",
            "\n",
            "2024-01-18 11:41:11 (179 MB/s) - ‘docs/api.python.langchain.com/en/stable/anthropic_api_reference.html’ saved [11623]\n",
            "\n",
            "--2024-01-18 11:41:11--  https://api.python.langchain.com/en/stable/nvidia_trt_api_reference.html\n",
            "Reusing existing connection to api.python.langchain.com:443.\n",
            "HTTP request sent, awaiting response... 200 OK\n",
            "Length: unspecified [text/html]\n",
            "Saving to: ‘docs/api.python.langchain.com/en/stable/nvidia_trt_api_reference.html’\n",
            "\n",
            "api.python.langchai     [ <=>                ]  12.16K  --.-KB/s    in 0s      \n",
            "\n",
            "2024-01-18 11:41:11 (277 MB/s) - ‘docs/api.python.langchain.com/en/stable/nvidia_trt_api_reference.html’ saved [12456]\n",
            "\n",
            "--2024-01-18 11:41:11--  https://api.python.langchain.com/en/stable/mistralai_api_reference.html\n",
            "Reusing existing connection to api.python.langchain.com:443.\n",
            "HTTP request sent, awaiting response... 200 OK\n",
            "Length: unspecified [text/html]\n",
            "Saving to: ‘docs/api.python.langchain.com/en/stable/mistralai_api_reference.html’\n",
            "\n",
            "api.python.langchai     [ <=>                ]  11.79K  --.-KB/s    in 0s      \n",
            "\n",
            "2024-01-18 11:41:11 (43.4 MB/s) - ‘docs/api.python.langchain.com/en/stable/mistralai_api_reference.html’ saved [12070]\n",
            "\n",
            "--2024-01-18 11:41:11--  https://api.python.langchain.com/en/stable/together_api_reference.html\n",
            "Reusing existing connection to api.python.langchain.com:443.\n",
            "HTTP request sent, awaiting response... 200 OK\n",
            "Length: unspecified [text/html]\n",
            "Saving to: ‘docs/api.python.langchain.com/en/stable/together_api_reference.html’\n",
            "\n",
            "api.python.langchai     [ <=>                ]  10.95K  --.-KB/s    in 0s      \n",
            "\n",
            "2024-01-18 11:41:11 (239 MB/s) - ‘docs/api.python.langchain.com/en/stable/together_api_reference.html’ saved [11208]\n",
            "\n",
            "--2024-01-18 11:41:11--  https://api.python.langchain.com/en/stable/nvidia_ai_endpoints_api_reference.html\n",
            "Reusing existing connection to api.python.langchain.com:443.\n",
            "HTTP request sent, awaiting response... 200 OK\n",
            "Length: unspecified [text/html]\n",
            "Saving to: ‘docs/api.python.langchain.com/en/stable/nvidia_ai_endpoints_api_reference.html’\n",
            "\n",
            "api.python.langchai     [ <=>                ]  13.13K  --.-KB/s    in 0s      \n",
            "\n",
            "2024-01-18 11:41:11 (108 MB/s) - ‘docs/api.python.langchain.com/en/stable/nvidia_ai_endpoints_api_reference.html’ saved [13446]\n",
            "\n",
            "--2024-01-18 11:41:11--  https://api.python.langchain.com/en/stable/agents/langchain.agents.agent.Agent.html\n",
            "Reusing existing connection to api.python.langchain.com:443.\n",
            "HTTP request sent, awaiting response... 200 OK\n",
            "Length: unspecified [text/html]\n",
            "Saving to: ‘docs/api.python.langchain.com/en/stable/agents/langchain.agents.agent.Agent.html’\n",
            "\n",
            "api.python.langchai     [ <=>                ]  58.94K  --.-KB/s    in 0.002s  \n",
            "\n",
            "2024-01-18 11:41:11 (35.5 MB/s) - ‘docs/api.python.langchain.com/en/stable/agents/langchain.agents.agent.Agent.html’ saved [60351]\n",
            "\n",
            "--2024-01-18 11:41:11--  https://api.python.langchain.com/en/stable/agents/langchain.agents.agent.AgentExecutor.html\n",
            "Reusing existing connection to api.python.langchain.com:443.\n",
            "HTTP request sent, awaiting response... 200 OK\n",
            "Length: unspecified [text/html]\n",
            "Saving to: ‘docs/api.python.langchain.com/en/stable/agents/langchain.agents.agent.AgentExecutor.html’\n",
            "\n",
            "api.python.langchai     [ <=>                ] 179.57K  --.-KB/s    in 0.003s  \n",
            "\n",
            "2024-01-18 11:41:12 (51.7 MB/s) - ‘docs/api.python.langchain.com/en/stable/agents/langchain.agents.agent.AgentExecutor.html’ saved [183881]\n",
            "\n",
            "--2024-01-18 11:41:12--  https://api.python.langchain.com/en/stable/agents/langchain.agents.agent.AgentOutputParser.html\n",
            "Reusing existing connection to api.python.langchain.com:443.\n",
            "HTTP request sent, awaiting response... 200 OK\n",
            "Length: unspecified [text/html]\n",
            "Saving to: ‘docs/api.python.langchain.com/en/stable/agents/langchain.agents.agent.AgentOutputParser.html’\n",
            "\n",
            "api.python.langchai     [ <=>                ] 123.14K  --.-KB/s    in 0.003s  \n",
            "\n",
            "2024-01-18 11:41:12 (43.2 MB/s) - ‘docs/api.python.langchain.com/en/stable/agents/langchain.agents.agent.AgentOutputParser.html’ saved [126099]\n",
            "\n",
            "--2024-01-18 11:41:12--  https://api.python.langchain.com/en/stable/agents/langchain.agents.agent.BaseMultiActionAgent.html\n",
            "Reusing existing connection to api.python.langchain.com:443.\n",
            "HTTP request sent, awaiting response... 200 OK\n",
            "Length: unspecified [text/html]\n",
            "Saving to: ‘docs/api.python.langchain.com/en/stable/agents/langchain.agents.agent.BaseMultiActionAgent.html’\n",
            "\n",
            "api.python.langchai     [ <=>                ]  49.49K  --.-KB/s    in 0s      \n",
            "\n",
            "2024-01-18 11:41:12 (293 MB/s) - ‘docs/api.python.langchain.com/en/stable/agents/langchain.agents.agent.BaseMultiActionAgent.html’ saved [50677]\n",
            "\n",
            "--2024-01-18 11:41:12--  https://api.python.langchain.com/en/stable/agents/langchain.agents.agent.BaseSingleActionAgent.html\n",
            "Reusing existing connection to api.python.langchain.com:443.\n",
            "HTTP request sent, awaiting response... 200 OK\n",
            "Length: unspecified [text/html]\n",
            "Saving to: ‘docs/api.python.langchain.com/en/stable/agents/langchain.agents.agent.BaseSingleActionAgent.html’\n",
            "\n",
            "api.python.langchai     [ <=>                ]  52.27K  --.-KB/s    in 0s      \n",
            "\n",
            "2024-01-18 11:41:12 (200 MB/s) - ‘docs/api.python.langchain.com/en/stable/agents/langchain.agents.agent.BaseSingleActionAgent.html’ saved [53526]\n",
            "\n",
            "--2024-01-18 11:41:12--  https://api.python.langchain.com/en/stable/agents/langchain.agents.agent.ExceptionTool.html\n",
            "Reusing existing connection to api.python.langchain.com:443.\n",
            "HTTP request sent, awaiting response... 200 OK\n",
            "Length: unspecified [text/html]\n",
            "Saving to: ‘docs/api.python.langchain.com/en/stable/agents/langchain.agents.agent.ExceptionTool.html’\n",
            "\n",
            "api.python.langchai     [ <=>                ] 138.25K  --.-KB/s    in 0.002s  \n",
            "\n",
            "2024-01-18 11:41:12 (69.3 MB/s) - ‘docs/api.python.langchain.com/en/stable/agents/langchain.agents.agent.ExceptionTool.html’ saved [141565]\n",
            "\n",
            "--2024-01-18 11:41:12--  https://api.python.langchain.com/en/stable/agents/langchain.agents.agent.LLMSingleActionAgent.html\n",
            "Reusing existing connection to api.python.langchain.com:443.\n",
            "HTTP request sent, awaiting response... 200 OK\n",
            "Length: unspecified [text/html]\n",
            "Saving to: ‘docs/api.python.langchain.com/en/stable/agents/langchain.agents.agent.LLMSingleActionAgent.html’\n",
            "\n",
            "api.python.langchai     [ <=>                ]  55.49K  --.-KB/s    in 0.002s  \n",
            "\n",
            "2024-01-18 11:41:12 (33.5 MB/s) - ‘docs/api.python.langchain.com/en/stable/agents/langchain.agents.agent.LLMSingleActionAgent.html’ saved [56817]\n",
            "\n",
            "--2024-01-18 11:41:12--  https://api.python.langchain.com/en/stable/agents/langchain.agents.agent.MultiActionAgentOutputParser.html\n",
            "Reusing existing connection to api.python.langchain.com:443.\n",
            "HTTP request sent, awaiting response... 200 OK\n",
            "Length: unspecified [text/html]\n",
            "Saving to: ‘docs/api.python.langchain.com/en/stable/agents/langchain.agents.agent.MultiActionAgentOutputParser.html’\n",
            "\n",
            "api.python.langchai     [ <=>                ] 123.67K  --.-KB/s    in 0.005s  \n",
            "\n",
            "2024-01-18 11:41:12 (23.9 MB/s) - ‘docs/api.python.langchain.com/en/stable/agents/langchain.agents.agent.MultiActionAgentOutputParser.html’ saved [126640]\n",
            "\n",
            "--2024-01-18 11:41:12--  https://api.python.langchain.com/en/stable/agents/langchain.agents.agent.RunnableAgent.html\n",
            "Reusing existing connection to api.python.langchain.com:443.\n",
            "HTTP request sent, awaiting response... 200 OK\n",
            "Length: unspecified [text/html]\n",
            "Saving to: ‘docs/api.python.langchain.com/en/stable/agents/langchain.agents.agent.RunnableAgent.html’\n",
            "\n",
            "api.python.langchai     [ <=>                ]  52.91K  --.-KB/s    in 0.001s  \n",
            "\n",
            "2024-01-18 11:41:12 (40.2 MB/s) - ‘docs/api.python.langchain.com/en/stable/agents/langchain.agents.agent.RunnableAgent.html’ saved [54182]\n",
            "\n",
            "--2024-01-18 11:41:12--  https://api.python.langchain.com/en/stable/agents/langchain.agents.agent.RunnableMultiActionAgent.html\n",
            "Reusing existing connection to api.python.langchain.com:443.\n",
            "HTTP request sent, awaiting response... 200 OK\n",
            "Length: unspecified [text/html]\n",
            "Saving to: ‘docs/api.python.langchain.com/en/stable/agents/langchain.agents.agent.RunnableMultiActionAgent.html’\n",
            "\n",
            "api.python.langchai     [ <=>                ]  51.14K  --.-KB/s    in 0.002s  \n",
            "\n",
            "2024-01-18 11:41:12 (32.0 MB/s) - ‘docs/api.python.langchain.com/en/stable/agents/langchain.agents.agent.RunnableMultiActionAgent.html’ saved [52367]\n",
            "\n",
            "--2024-01-18 11:41:12--  https://api.python.langchain.com/en/stable/agents/langchain.agents.agent_iterator.AgentExecutorIterator.html\n",
            "Reusing existing connection to api.python.langchain.com:443.\n",
            "HTTP request sent, awaiting response... 200 OK\n",
            "Length: unspecified [text/html]\n",
            "Saving to: ‘docs/api.python.langchain.com/en/stable/agents/langchain.agents.agent_iterator.AgentExecutorIterator.html’\n",
            "\n",
            "api.python.langchai     [ <=>                ]  26.32K  --.-KB/s    in 0s      \n",
            "\n",
            "2024-01-18 11:41:12 (286 MB/s) - ‘docs/api.python.langchain.com/en/stable/agents/langchain.agents.agent_iterator.AgentExecutorIterator.html’ saved [26948]\n",
            "\n",
            "--2024-01-18 11:41:12--  https://api.python.langchain.com/en/stable/agents/langchain.agents.agent_toolkits.vectorstore.toolkit.VectorStoreInfo.html\n",
            "Reusing existing connection to api.python.langchain.com:443.\n",
            "HTTP request sent, awaiting response... 200 OK\n",
            "Length: unspecified [text/html]\n",
            "Saving to: ‘docs/api.python.langchain.com/en/stable/agents/langchain.agents.agent_toolkits.vectorstore.toolkit.VectorStoreInfo.html’\n",
            "\n",
            "api.python.langchai     [ <=>                ]  41.05K  --.-KB/s    in 0.001s  \n",
            "\n",
            "2024-01-18 11:41:12 (41.7 MB/s) - ‘docs/api.python.langchain.com/en/stable/agents/langchain.agents.agent_toolkits.vectorstore.toolkit.VectorStoreInfo.html’ saved [42032]\n",
            "\n",
            "--2024-01-18 11:41:12--  https://api.python.langchain.com/en/stable/agents/langchain.agents.agent_toolkits.vectorstore.toolkit.VectorStoreRouterToolkit.html\n",
            "Reusing existing connection to api.python.langchain.com:443.\n",
            "HTTP request sent, awaiting response... 200 OK\n",
            "Length: unspecified [text/html]\n",
            "Saving to: ‘docs/api.python.langchain.com/en/stable/agents/langchain.agents.agent_toolkits.vectorstore.toolkit.VectorStoreRouterToolkit.html’\n",
            "\n",
            "api.python.langchai     [ <=>                ]  42.60K  --.-KB/s    in 0.001s  \n",
            "\n",
            "2024-01-18 11:41:12 (50.1 MB/s) - ‘docs/api.python.langchain.com/en/stable/agents/langchain.agents.agent_toolkits.vectorstore.toolkit.VectorStoreRouterToolkit.html’ saved [43621]\n",
            "\n",
            "--2024-01-18 11:41:12--  https://api.python.langchain.com/en/stable/agents/langchain.agents.agent_toolkits.vectorstore.toolkit.VectorStoreToolkit.html\n",
            "Reusing existing connection to api.python.langchain.com:443.\n",
            "HTTP request sent, awaiting response... 200 OK\n",
            "Length: unspecified [text/html]\n",
            "Saving to: ‘docs/api.python.langchain.com/en/stable/agents/langchain.agents.agent_toolkits.vectorstore.toolkit.VectorStoreToolkit.html’\n",
            "\n",
            "api.python.langchai     [ <=>                ]  42.23K  --.-KB/s    in 0.001s  \n",
            "\n",
            "2024-01-18 11:41:12 (49.7 MB/s) - ‘docs/api.python.langchain.com/en/stable/agents/langchain.agents.agent_toolkits.vectorstore.toolkit.VectorStoreToolkit.html’ saved [43244]\n",
            "\n",
            "--2024-01-18 11:41:12--  https://api.python.langchain.com/en/stable/agents/langchain.agents.agent_types.AgentType.html\n",
            "Reusing existing connection to api.python.langchain.com:443.\n",
            "HTTP request sent, awaiting response... 200 OK\n",
            "Length: unspecified [text/html]\n",
            "Saving to: ‘docs/api.python.langchain.com/en/stable/agents/langchain.agents.agent_types.AgentType.html’\n",
            "\n",
            "api.python.langchai     [ <=>                ]  29.59K  --.-KB/s    in 0s      \n",
            "\n",
            "2024-01-18 11:41:12 (128 MB/s) - ‘docs/api.python.langchain.com/en/stable/agents/langchain.agents.agent_types.AgentType.html’ saved [30303]\n",
            "\n",
            "--2024-01-18 11:41:12--  https://api.python.langchain.com/en/stable/agents/langchain.agents.chat.base.ChatAgent.html\n",
            "Reusing existing connection to api.python.langchain.com:443.\n",
            "HTTP request sent, awaiting response... 200 OK\n",
            "Length: unspecified [text/html]\n",
            "Saving to: ‘docs/api.python.langchain.com/en/stable/agents/langchain.agents.chat.base.ChatAgent.html’\n",
            "\n",
            "api.python.langchai     [ <=>                ]  71.35K  --.-KB/s    in 0.008s  \n",
            "\n",
            "2024-01-18 11:41:12 (9.13 MB/s) - ‘docs/api.python.langchain.com/en/stable/agents/langchain.agents.chat.base.ChatAgent.html’ saved [73067]\n",
            "\n",
            "--2024-01-18 11:41:12--  https://api.python.langchain.com/en/stable/agents/langchain.agents.chat.output_parser.ChatOutputParser.html\n",
            "Reusing existing connection to api.python.langchain.com:443.\n",
            "HTTP request sent, awaiting response... 200 OK\n",
            "Length: unspecified [text/html]\n",
            "Saving to: ‘docs/api.python.langchain.com/en/stable/agents/langchain.agents.chat.output_parser.ChatOutputParser.html’\n",
            "\n",
            "api.python.langchai     [ <=>                ] 123.71K  --.-KB/s    in 0.003s  \n",
            "\n",
            "2024-01-18 11:41:12 (40.8 MB/s) - ‘docs/api.python.langchain.com/en/stable/agents/langchain.agents.chat.output_parser.ChatOutputParser.html’ saved [126680]\n",
            "\n",
            "--2024-01-18 11:41:12--  https://api.python.langchain.com/en/stable/agents/langchain.agents.conversational.base.ConversationalAgent.html\n",
            "Reusing existing connection to api.python.langchain.com:443.\n",
            "HTTP request sent, awaiting response... 200 OK\n",
            "Length: unspecified [text/html]\n",
            "Saving to: ‘docs/api.python.langchain.com/en/stable/agents/langchain.agents.conversational.base.ConversationalAgent.html’\n",
            "\n",
            "api.python.langchai     [ <=>                ]  82.75K  --.-KB/s    in 0.002s  \n",
            "\n",
            "2024-01-18 11:41:12 (38.9 MB/s) - ‘docs/api.python.langchain.com/en/stable/agents/langchain.agents.conversational.base.ConversationalAgent.html’ saved [84735]\n",
            "\n",
            "--2024-01-18 11:41:12--  https://api.python.langchain.com/en/stable/agents/langchain.agents.conversational.output_parser.ConvoOutputParser.html\n",
            "Reusing existing connection to api.python.langchain.com:443.\n",
            "HTTP request sent, awaiting response... 200 OK\n",
            "Length: unspecified [text/html]\n",
            "Saving to: ‘docs/api.python.langchain.com/en/stable/agents/langchain.agents.conversational.output_parser.ConvoOutputParser.html’\n",
            "\n",
            "api.python.langchai     [ <=>                ] 125.16K  --.-KB/s    in 0.003s  \n",
            "\n",
            "2024-01-18 11:41:12 (40.6 MB/s) - ‘docs/api.python.langchain.com/en/stable/agents/langchain.agents.conversational.output_parser.ConvoOutputParser.html’ saved [128160]\n",
            "\n",
            "--2024-01-18 11:41:12--  https://api.python.langchain.com/en/stable/agents/langchain.agents.conversational_chat.base.ConversationalChatAgent.html\n",
            "Reusing existing connection to api.python.langchain.com:443.\n",
            "HTTP request sent, awaiting response... 200 OK\n",
            "Length: unspecified [text/html]\n",
            "Saving to: ‘docs/api.python.langchain.com/en/stable/agents/langchain.agents.conversational_chat.base.ConversationalChatAgent.html’\n",
            "\n",
            "api.python.langchai     [ <=>                ]  81.03K  --.-KB/s    in 0.002s  \n",
            "\n",
            "2024-01-18 11:41:12 (50.7 MB/s) - ‘docs/api.python.langchain.com/en/stable/agents/langchain.agents.conversational_chat.base.ConversationalChatAgent.html’ saved [82973]\n",
            "\n",
            "--2024-01-18 11:41:12--  https://api.python.langchain.com/en/stable/agents/langchain.agents.conversational_chat.output_parser.ConvoOutputParser.html\n",
            "Reusing existing connection to api.python.langchain.com:443.\n",
            "HTTP request sent, awaiting response... 200 OK\n",
            "Length: unspecified [text/html]\n",
            "Saving to: ‘docs/api.python.langchain.com/en/stable/agents/langchain.agents.conversational_chat.output_parser.ConvoOutputParser.html’\n",
            "\n",
            "api.python.langchai     [ <=>                ] 125.20K  --.-KB/s    in 0.002s  \n",
            "\n",
            "2024-01-18 11:41:12 (68.0 MB/s) - ‘docs/api.python.langchain.com/en/stable/agents/langchain.agents.conversational_chat.output_parser.ConvoOutputParser.html’ saved [128209]\n",
            "\n",
            "--2024-01-18 11:41:12--  https://api.python.langchain.com/en/stable/agents/langchain.agents.mrkl.base.ChainConfig.html\n",
            "Reusing existing connection to api.python.langchain.com:443.\n",
            "HTTP request sent, awaiting response... 200 OK\n",
            "Length: unspecified [text/html]\n",
            "Saving to: ‘docs/api.python.langchain.com/en/stable/agents/langchain.agents.mrkl.base.ChainConfig.html’\n",
            "\n",
            "api.python.langchai     [ <=>                ]  15.46K  --.-KB/s    in 0s      \n",
            "\n",
            "2024-01-18 11:41:12 (53.2 MB/s) - ‘docs/api.python.langchain.com/en/stable/agents/langchain.agents.mrkl.base.ChainConfig.html’ saved [15826]\n",
            "\n",
            "--2024-01-18 11:41:12--  https://api.python.langchain.com/en/stable/agents/langchain.agents.mrkl.base.MRKLChain.html\n",
            "Reusing existing connection to api.python.langchain.com:443.\n",
            "HTTP request sent, awaiting response... 200 OK\n",
            "Length: unspecified [text/html]\n",
            "Saving to: ‘docs/api.python.langchain.com/en/stable/agents/langchain.agents.mrkl.base.MRKLChain.html’\n",
            "\n",
            "api.python.langchai     [ <=>                ] 177.32K  --.-KB/s    in 0.004s  \n",
            "\n",
            "2024-01-18 11:41:12 (46.3 MB/s) - ‘docs/api.python.langchain.com/en/stable/agents/langchain.agents.mrkl.base.MRKLChain.html’ saved [181573]\n",
            "\n",
            "--2024-01-18 11:41:12--  https://api.python.langchain.com/en/stable/agents/langchain.agents.mrkl.base.ZeroShotAgent.html\n",
            "Reusing existing connection to api.python.langchain.com:443.\n",
            "HTTP request sent, awaiting response... 200 OK\n",
            "Length: unspecified [text/html]\n",
            "Saving to: ‘docs/api.python.langchain.com/en/stable/agents/langchain.agents.mrkl.base.ZeroShotAgent.html’\n",
            "\n",
            "api.python.langchai     [ <=>                ]  68.16K  --.-KB/s    in 0.002s  \n",
            "\n",
            "2024-01-18 11:41:12 (41.8 MB/s) - ‘docs/api.python.langchain.com/en/stable/agents/langchain.agents.mrkl.base.ZeroShotAgent.html’ saved [69792]\n",
            "\n",
            "--2024-01-18 11:41:12--  https://api.python.langchain.com/en/stable/agents/langchain.agents.mrkl.output_parser.MRKLOutputParser.html\n",
            "Reusing existing connection to api.python.langchain.com:443.\n",
            "HTTP request sent, awaiting response... 200 OK\n",
            "Length: unspecified [text/html]\n",
            "Saving to: ‘docs/api.python.langchain.com/en/stable/agents/langchain.agents.mrkl.output_parser.MRKLOutputParser.html’\n",
            "\n",
            "api.python.langchai     [ <=>                ] 123.01K  --.-KB/s    in 0.004s  \n",
            "\n",
            "2024-01-18 11:41:12 (33.1 MB/s) - ‘docs/api.python.langchain.com/en/stable/agents/langchain.agents.mrkl.output_parser.MRKLOutputParser.html’ saved [125967]\n",
            "\n",
            "--2024-01-18 11:41:12--  https://api.python.langchain.com/en/stable/agents/langchain.agents.openai_assistant.base.OpenAIAssistantAction.html\n",
            "Reusing existing connection to api.python.langchain.com:443.\n",
            "HTTP request sent, awaiting response... 200 OK\n",
            "Length: unspecified [text/html]\n",
            "Saving to: ‘docs/api.python.langchain.com/en/stable/agents/langchain.agents.openai_assistant.base.OpenAIAssistantAction.html’\n",
            "\n",
            "api.python.langchai     [ <=>                ]  51.32K  --.-KB/s    in 0s      \n",
            "\n",
            "2024-01-18 11:41:12 (174 MB/s) - ‘docs/api.python.langchain.com/en/stable/agents/langchain.agents.openai_assistant.base.OpenAIAssistantAction.html’ saved [52552]\n",
            "\n",
            "--2024-01-18 11:41:12--  https://api.python.langchain.com/en/stable/agents/langchain.agents.openai_assistant.base.OpenAIAssistantFinish.html\n",
            "Reusing existing connection to api.python.langchain.com:443.\n",
            "HTTP request sent, awaiting response... 200 OK\n",
            "Length: unspecified [text/html]\n",
            "Saving to: ‘docs/api.python.langchain.com/en/stable/agents/langchain.agents.openai_assistant.base.OpenAIAssistantFinish.html’\n",
            "\n",
            "api.python.langchai     [ <=>                ]  49.71K  --.-KB/s    in 0s      \n",
            "\n",
            "2024-01-18 11:41:12 (262 MB/s) - ‘docs/api.python.langchain.com/en/stable/agents/langchain.agents.openai_assistant.base.OpenAIAssistantFinish.html’ saved [50903]\n",
            "\n",
            "--2024-01-18 11:41:12--  https://api.python.langchain.com/en/stable/agents/langchain.agents.openai_assistant.base.OpenAIAssistantRunnable.html\n",
            "Reusing existing connection to api.python.langchain.com:443.\n",
            "HTTP request sent, awaiting response... 200 OK\n",
            "Length: unspecified [text/html]\n",
            "Saving to: ‘docs/api.python.langchain.com/en/stable/agents/langchain.agents.openai_assistant.base.OpenAIAssistantRunnable.html’\n",
            "\n",
            "api.python.langchai     [ <=>                ] 136.40K  --.-KB/s    in 0.003s  \n",
            "\n",
            "2024-01-18 11:41:12 (39.2 MB/s) - ‘docs/api.python.langchain.com/en/stable/agents/langchain.agents.openai_assistant.base.OpenAIAssistantRunnable.html’ saved [139670]\n",
            "\n",
            "--2024-01-18 11:41:12--  https://api.python.langchain.com/en/stable/agents/langchain.agents.openai_functions_agent.agent_token_buffer_memory.AgentTokenBufferMemory.html\n",
            "Reusing existing connection to api.python.langchain.com:443.\n",
            "HTTP request sent, awaiting response... 200 OK\n",
            "Length: unspecified [text/html]\n",
            "Saving to: ‘docs/api.python.langchain.com/en/stable/agents/langchain.agents.openai_functions_agent.agent_token_buffer_memory.AgentTokenBufferMemory.html’\n",
            "\n",
            "api.python.langchai     [ <=>                ]  60.18K  --.-KB/s    in 0.001s  \n",
            "\n",
            "2024-01-18 11:41:12 (44.3 MB/s) - ‘docs/api.python.langchain.com/en/stable/agents/langchain.agents.openai_functions_agent.agent_token_buffer_memory.AgentTokenBufferMemory.html’ saved [61629]\n",
            "\n",
            "--2024-01-18 11:41:12--  https://api.python.langchain.com/en/stable/agents/langchain.agents.openai_functions_agent.base.OpenAIFunctionsAgent.html\n",
            "Reusing existing connection to api.python.langchain.com:443.\n",
            "HTTP request sent, awaiting response... 200 OK\n",
            "Length: unspecified [text/html]\n",
            "Saving to: ‘docs/api.python.langchain.com/en/stable/agents/langchain.agents.openai_functions_agent.base.OpenAIFunctionsAgent.html’\n",
            "\n",
            "api.python.langchai     [ <=>                ]  63.42K  --.-KB/s    in 0.002s  \n",
            "\n",
            "2024-01-18 11:41:12 (39.7 MB/s) - ‘docs/api.python.langchain.com/en/stable/agents/langchain.agents.openai_functions_agent.base.OpenAIFunctionsAgent.html’ saved [64941]\n",
            "\n",
            "--2024-01-18 11:41:12--  https://api.python.langchain.com/en/stable/agents/langchain.agents.openai_functions_multi_agent.base.OpenAIMultiFunctionsAgent.html\n",
            "Reusing existing connection to api.python.langchain.com:443.\n",
            "HTTP request sent, awaiting response... 200 OK\n",
            "Length: unspecified [text/html]\n",
            "Saving to: ‘docs/api.python.langchain.com/en/stable/agents/langchain.agents.openai_functions_multi_agent.base.OpenAIMultiFunctionsAgent.html’\n",
            "\n",
            "api.python.langchai     [ <=>                ]  63.06K  --.-KB/s    in 0.002s  \n",
            "\n",
            "2024-01-18 11:41:12 (35.0 MB/s) - ‘docs/api.python.langchain.com/en/stable/agents/langchain.agents.openai_functions_multi_agent.base.OpenAIMultiFunctionsAgent.html’ saved [64572]\n",
            "\n",
            "--2024-01-18 11:41:12--  https://api.python.langchain.com/en/stable/agents/langchain.agents.output_parsers.json.JSONAgentOutputParser.html\n",
            "Reusing existing connection to api.python.langchain.com:443.\n",
            "HTTP request sent, awaiting response... 200 OK\n",
            "Length: unspecified [text/html]\n",
            "Saving to: ‘docs/api.python.langchain.com/en/stable/agents/langchain.agents.output_parsers.json.JSONAgentOutputParser.html’\n",
            "\n",
            "api.python.langchai     [ <=>                ] 124.26K  --.-KB/s    in 0.003s  \n",
            "\n",
            "2024-01-18 11:41:12 (42.2 MB/s) - ‘docs/api.python.langchain.com/en/stable/agents/langchain.agents.output_parsers.json.JSONAgentOutputParser.html’ saved [127239]\n",
            "\n",
            "--2024-01-18 11:41:12--  https://api.python.langchain.com/en/stable/agents/langchain.agents.output_parsers.openai_functions.OpenAIFunctionsAgentOutputParser.html\n",
            "Reusing existing connection to api.python.langchain.com:443.\n",
            "HTTP request sent, awaiting response... 200 OK\n",
            "Length: unspecified [text/html]\n",
            "Saving to: ‘docs/api.python.langchain.com/en/stable/agents/langchain.agents.output_parsers.openai_functions.OpenAIFunctionsAgentOutputParser.html’\n",
            "\n",
            "api.python.langchai     [ <=>                ] 128.23K  --.-KB/s    in 0.003s  \n",
            "\n",
            "2024-01-18 11:41:12 (38.6 MB/s) - ‘docs/api.python.langchain.com/en/stable/agents/langchain.agents.output_parsers.openai_functions.OpenAIFunctionsAgentOutputParser.html’ saved [131304]\n",
            "\n",
            "--2024-01-18 11:41:12--  https://api.python.langchain.com/en/stable/agents/langchain.agents.output_parsers.openai_tools.OpenAIToolAgentAction.html\n",
            "Reusing existing connection to api.python.langchain.com:443.\n",
            "HTTP request sent, awaiting response... 200 OK\n",
            "Length: unspecified [text/html]\n",
            "Saving to: ‘docs/api.python.langchain.com/en/stable/agents/langchain.agents.output_parsers.openai_tools.OpenAIToolAgentAction.html’\n",
            "\n",
            "api.python.langchai     [ <=>                ]  51.67K  --.-KB/s    in 0.001s  \n",
            "\n",
            "2024-01-18 11:41:12 (46.0 MB/s) - ‘docs/api.python.langchain.com/en/stable/agents/langchain.agents.output_parsers.openai_tools.OpenAIToolAgentAction.html’ saved [52907]\n",
            "\n",
            "--2024-01-18 11:41:12--  https://api.python.langchain.com/en/stable/agents/langchain.agents.output_parsers.openai_tools.OpenAIToolsAgentOutputParser.html\n",
            "Reusing existing connection to api.python.langchain.com:443.\n",
            "HTTP request sent, awaiting response... 200 OK\n",
            "Length: unspecified [text/html]\n",
            "Saving to: ‘docs/api.python.langchain.com/en/stable/agents/langchain.agents.output_parsers.openai_tools.OpenAIToolsAgentOutputParser.html’\n",
            "\n",
            "api.python.langchai     [ <=>                ] 127.64K  --.-KB/s    in 0.005s  \n",
            "\n",
            "2024-01-18 11:41:12 (23.3 MB/s) - ‘docs/api.python.langchain.com/en/stable/agents/langchain.agents.output_parsers.openai_tools.OpenAIToolsAgentOutputParser.html’ saved [130708]\n",
            "\n",
            "--2024-01-18 11:41:12--  https://api.python.langchain.com/en/stable/agents/langchain.agents.output_parsers.react_json_single_input.ReActJsonSingleInputOutputParser.html\n",
            "Reusing existing connection to api.python.langchain.com:443.\n",
            "HTTP request sent, awaiting response... 200 OK\n",
            "Length: unspecified [text/html]\n",
            "Saving to: ‘docs/api.python.langchain.com/en/stable/agents/langchain.agents.output_parsers.react_json_single_input.ReActJsonSingleInputOutputParser.html’\n",
            "\n",
            "api.python.langchai     [ <=>                ] 129.59K  --.-KB/s    in 0.003s  \n",
            "\n",
            "2024-01-18 11:41:12 (37.4 MB/s) - ‘docs/api.python.langchain.com/en/stable/agents/langchain.agents.output_parsers.react_json_single_input.ReActJsonSingleInputOutputParser.html’ saved [132702]\n",
            "\n",
            "--2024-01-18 11:41:12--  https://api.python.langchain.com/en/stable/agents/langchain.agents.output_parsers.react_single_input.ReActSingleInputOutputParser.html\n",
            "Reusing existing connection to api.python.langchain.com:443.\n",
            "HTTP request sent, awaiting response... 200 OK\n",
            "Length: unspecified [text/html]\n",
            "Saving to: ‘docs/api.python.langchain.com/en/stable/agents/langchain.agents.output_parsers.react_single_input.ReActSingleInputOutputParser.html’\n",
            "\n",
            "api.python.langchai     [ <=>                ] 127.70K  --.-KB/s    in 0.003s  \n",
            "\n",
            "2024-01-18 11:41:13 (38.6 MB/s) - ‘docs/api.python.langchain.com/en/stable/agents/langchain.agents.output_parsers.react_single_input.ReActSingleInputOutputParser.html’ saved [130767]\n",
            "\n",
            "--2024-01-18 11:41:13--  https://api.python.langchain.com/en/stable/agents/langchain.agents.output_parsers.self_ask.SelfAskOutputParser.html\n",
            "Reusing existing connection to api.python.langchain.com:443.\n",
            "HTTP request sent, awaiting response... 200 OK\n",
            "Length: unspecified [text/html]\n",
            "Saving to: ‘docs/api.python.langchain.com/en/stable/agents/langchain.agents.output_parsers.self_ask.SelfAskOutputParser.html’\n",
            "\n",
            "api.python.langchai     [ <=>                ] 126.88K  --.-KB/s    in 0.003s  \n",
            "\n",
            "2024-01-18 11:41:13 (39.8 MB/s) - ‘docs/api.python.langchain.com/en/stable/agents/langchain.agents.output_parsers.self_ask.SelfAskOutputParser.html’ saved [129922]\n",
            "\n",
            "--2024-01-18 11:41:13--  https://api.python.langchain.com/en/stable/agents/langchain.agents.output_parsers.xml.XMLAgentOutputParser.html\n",
            "Reusing existing connection to api.python.langchain.com:443.\n",
            "HTTP request sent, awaiting response... 200 OK\n",
            "Length: unspecified [text/html]\n",
            "Saving to: ‘docs/api.python.langchain.com/en/stable/agents/langchain.agents.output_parsers.xml.XMLAgentOutputParser.html’\n",
            "\n",
            "api.python.langchai     [ <=>                ] 124.38K  --.-KB/s    in 0.003s  \n",
            "\n",
            "2024-01-18 11:41:13 (39.3 MB/s) - ‘docs/api.python.langchain.com/en/stable/agents/langchain.agents.output_parsers.xml.XMLAgentOutputParser.html’ saved [127360]\n",
            "\n",
            "--2024-01-18 11:41:13--  https://api.python.langchain.com/en/stable/agents/langchain.agents.react.base.DocstoreExplorer.html\n",
            "Reusing existing connection to api.python.langchain.com:443.\n",
            "HTTP request sent, awaiting response... 200 OK\n",
            "Length: unspecified [text/html]\n",
            "Saving to: ‘docs/api.python.langchain.com/en/stable/agents/langchain.agents.react.base.DocstoreExplorer.html’\n",
            "\n",
            "api.python.langchai     [ <=>                ]  15.60K  --.-KB/s    in 0.002s  \n",
            "\n",
            "2024-01-18 11:41:13 (9.00 MB/s) - ‘docs/api.python.langchain.com/en/stable/agents/langchain.agents.react.base.DocstoreExplorer.html’ saved [15978]\n",
            "\n",
            "--2024-01-18 11:41:13--  https://api.python.langchain.com/en/stable/agents/langchain.agents.react.base.ReActChain.html\n",
            "Reusing existing connection to api.python.langchain.com:443.\n",
            "HTTP request sent, awaiting response... 200 OK\n",
            "Length: unspecified [text/html]\n",
            "Saving to: ‘docs/api.python.langchain.com/en/stable/agents/langchain.agents.react.base.ReActChain.html’\n",
            "\n",
            "api.python.langchai     [ <=>                ] 174.77K  --.-KB/s    in 0.005s  \n",
            "\n",
            "2024-01-18 11:41:13 (37.8 MB/s) - ‘docs/api.python.langchain.com/en/stable/agents/langchain.agents.react.base.ReActChain.html’ saved [178962]\n",
            "\n",
            "--2024-01-18 11:41:13--  https://api.python.langchain.com/en/stable/agents/langchain.agents.react.base.ReActDocstoreAgent.html\n",
            "Reusing existing connection to api.python.langchain.com:443.\n",
            "HTTP request sent, awaiting response... 200 OK\n",
            "Length: unspecified [text/html]\n",
            "Saving to: ‘docs/api.python.langchain.com/en/stable/agents/langchain.agents.react.base.ReActDocstoreAgent.html’\n",
            "\n",
            "api.python.langchai     [ <=>                ]  58.35K  --.-KB/s    in 0.001s  \n",
            "\n",
            "2024-01-18 11:41:13 (63.0 MB/s) - ‘docs/api.python.langchain.com/en/stable/agents/langchain.agents.react.base.ReActDocstoreAgent.html’ saved [59750]\n",
            "\n",
            "--2024-01-18 11:41:13--  https://api.python.langchain.com/en/stable/agents/langchain.agents.react.base.ReActTextWorldAgent.html\n",
            "Reusing existing connection to api.python.langchain.com:443.\n",
            "HTTP request sent, awaiting response... 200 OK\n",
            "Length: unspecified [text/html]\n",
            "Saving to: ‘docs/api.python.langchain.com/en/stable/agents/langchain.agents.react.base.ReActTextWorldAgent.html’\n",
            "\n",
            "api.python.langchai     [ <=>                ]  58.47K  --.-KB/s    in 0.001s  \n",
            "\n",
            "2024-01-18 11:41:13 (42.2 MB/s) - ‘docs/api.python.langchain.com/en/stable/agents/langchain.agents.react.base.ReActTextWorldAgent.html’ saved [59870]\n",
            "\n",
            "--2024-01-18 11:41:13--  https://api.python.langchain.com/en/stable/agents/langchain.agents.react.output_parser.ReActOutputParser.html\n",
            "Reusing existing connection to api.python.langchain.com:443.\n",
            "HTTP request sent, awaiting response... 200 OK\n",
            "Length: unspecified [text/html]\n",
            "Saving to: ‘docs/api.python.langchain.com/en/stable/agents/langchain.agents.react.output_parser.ReActOutputParser.html’\n",
            "\n",
            "api.python.langchai     [ <=>                ] 123.06K  --.-KB/s    in 0.003s  \n",
            "\n",
            "2024-01-18 11:41:13 (40.6 MB/s) - ‘docs/api.python.langchain.com/en/stable/agents/langchain.agents.react.output_parser.ReActOutputParser.html’ saved [126012]\n",
            "\n",
            "--2024-01-18 11:41:13--  https://api.python.langchain.com/en/stable/agents/langchain.agents.schema.AgentScratchPadChatPromptTemplate.html\n",
            "Reusing existing connection to api.python.langchain.com:443.\n",
            "HTTP request sent, awaiting response... 200 OK\n",
            "Length: unspecified [text/html]\n",
            "Saving to: ‘docs/api.python.langchain.com/en/stable/agents/langchain.agents.schema.AgentScratchPadChatPromptTemplate.html’\n",
            "\n",
            "api.python.langchai     [ <=>                ] 146.16K  --.-KB/s    in 0.004s  \n",
            "\n",
            "2024-01-18 11:41:13 (37.3 MB/s) - ‘docs/api.python.langchain.com/en/stable/agents/langchain.agents.schema.AgentScratchPadChatPromptTemplate.html’ saved [149668]\n",
            "\n",
            "--2024-01-18 11:41:13--  https://api.python.langchain.com/en/stable/agents/langchain.agents.self_ask_with_search.base.SelfAskWithSearchAgent.html\n",
            "Reusing existing connection to api.python.langchain.com:443.\n",
            "HTTP request sent, awaiting response... 200 OK\n",
            "Length: unspecified [text/html]\n",
            "Saving to: ‘docs/api.python.langchain.com/en/stable/agents/langchain.agents.self_ask_with_search.base.SelfAskWithSearchAgent.html’\n",
            "\n",
            "api.python.langchai     [ <=>                ]  59.60K  --.-KB/s    in 0.001s  \n",
            "\n",
            "2024-01-18 11:41:13 (40.8 MB/s) - ‘docs/api.python.langchain.com/en/stable/agents/langchain.agents.self_ask_with_search.base.SelfAskWithSearchAgent.html’ saved [61029]\n",
            "\n",
            "--2024-01-18 11:41:13--  https://api.python.langchain.com/en/stable/agents/langchain.agents.self_ask_with_search.base.SelfAskWithSearchChain.html\n",
            "Reusing existing connection to api.python.langchain.com:443.\n",
            "HTTP request sent, awaiting response... 200 OK\n",
            "Length: unspecified [text/html]\n",
            "Saving to: ‘docs/api.python.langchain.com/en/stable/agents/langchain.agents.self_ask_with_search.base.SelfAskWithSearchChain.html’\n",
            "\n",
            "api.python.langchai     [ <=>                ] 179.12K  --.-KB/s    in 0.005s  \n",
            "\n",
            "2024-01-18 11:41:13 (37.2 MB/s) - ‘docs/api.python.langchain.com/en/stable/agents/langchain.agents.self_ask_with_search.base.SelfAskWithSearchChain.html’ saved [183424]\n",
            "\n",
            "--2024-01-18 11:41:13--  https://api.python.langchain.com/en/stable/agents/langchain.agents.structured_chat.base.StructuredChatAgent.html\n",
            "Reusing existing connection to api.python.langchain.com:443.\n",
            "HTTP request sent, awaiting response... 200 OK\n",
            "Length: unspecified [text/html]\n",
            "Saving to: ‘docs/api.python.langchain.com/en/stable/agents/langchain.agents.structured_chat.base.StructuredChatAgent.html’\n",
            "\n",
            "api.python.langchai     [ <=>                ]  72.52K  --.-KB/s    in 0.002s  \n",
            "\n",
            "2024-01-18 11:41:13 (35.5 MB/s) - ‘docs/api.python.langchain.com/en/stable/agents/langchain.agents.structured_chat.base.StructuredChatAgent.html’ saved [74259]\n",
            "\n",
            "--2024-01-18 11:41:13--  https://api.python.langchain.com/en/stable/agents/langchain.agents.structured_chat.output_parser.StructuredChatOutputParser.html\n",
            "Reusing existing connection to api.python.langchain.com:443.\n",
            "HTTP request sent, awaiting response... 200 OK\n",
            "Length: unspecified [text/html]\n",
            "Saving to: ‘docs/api.python.langchain.com/en/stable/agents/langchain.agents.structured_chat.output_parser.StructuredChatOutputParser.html’\n",
            "\n",
            "api.python.langchai     [ <=>                ] 125.62K  --.-KB/s    in 0.003s  \n",
            "\n",
            "2024-01-18 11:41:13 (41.9 MB/s) - ‘docs/api.python.langchain.com/en/stable/agents/langchain.agents.structured_chat.output_parser.StructuredChatOutputParser.html’ saved [128640]\n",
            "\n",
            "--2024-01-18 11:41:13--  https://api.python.langchain.com/en/stable/agents/langchain.agents.structured_chat.output_parser.StructuredChatOutputParserWithRetries.html\n",
            "Reusing existing connection to api.python.langchain.com:443.\n",
            "HTTP request sent, awaiting response... 200 OK\n",
            "Length: unspecified [text/html]\n",
            "Saving to: ‘docs/api.python.langchain.com/en/stable/agents/langchain.agents.structured_chat.output_parser.StructuredChatOutputParserWithRetries.html’\n",
            "\n",
            "api.python.langchai     [ <=>                ] 131.83K  --.-KB/s    in 0.003s  \n",
            "\n",
            "2024-01-18 11:41:13 (38.3 MB/s) - ‘docs/api.python.langchain.com/en/stable/agents/langchain.agents.structured_chat.output_parser.StructuredChatOutputParserWithRetries.html’ saved [134995]\n",
            "\n",
            "--2024-01-18 11:41:13--  https://api.python.langchain.com/en/stable/agents/langchain.agents.tools.InvalidTool.html\n",
            "Reusing existing connection to api.python.langchain.com:443.\n",
            "HTTP request sent, awaiting response... 200 OK\n",
            "Length: unspecified [text/html]\n",
            "Saving to: ‘docs/api.python.langchain.com/en/stable/agents/langchain.agents.tools.InvalidTool.html’\n",
            "\n",
            "api.python.langchai     [ <=>                ] 138.99K  --.-KB/s    in 0.004s  \n",
            "\n",
            "2024-01-18 11:41:13 (30.5 MB/s) - ‘docs/api.python.langchain.com/en/stable/agents/langchain.agents.tools.InvalidTool.html’ saved [142321]\n",
            "\n",
            "--2024-01-18 11:41:13--  https://api.python.langchain.com/en/stable/agents/langchain.agents.xml.base.XMLAgent.html\n",
            "Reusing existing connection to api.python.langchain.com:443.\n",
            "HTTP request sent, awaiting response... 200 OK\n",
            "Length: unspecified [text/html]\n",
            "Saving to: ‘docs/api.python.langchain.com/en/stable/agents/langchain.agents.xml.base.XMLAgent.html’\n",
            "\n",
            "api.python.langchai     [ <=>                ]  55.30K  --.-KB/s    in 0.002s  \n",
            "\n",
            "2024-01-18 11:41:13 (26.3 MB/s) - ‘docs/api.python.langchain.com/en/stable/agents/langchain.agents.xml.base.XMLAgent.html’ saved [56627]\n",
            "\n",
            "--2024-01-18 11:41:13--  https://api.python.langchain.com/en/stable/agents/langchain.agents.agent_toolkits.conversational_retrieval.openai_functions.create_conversational_retrieval_agent.html\n",
            "Reusing existing connection to api.python.langchain.com:443.\n",
            "HTTP request sent, awaiting response... 200 OK\n",
            "Length: unspecified [text/html]\n",
            "Saving to: ‘docs/api.python.langchain.com/en/stable/agents/langchain.agents.agent_toolkits.conversational_retrieval.openai_functions.create_conversational_retrieval_agent.html’\n",
            "\n",
            "api.python.langchai     [ <=>                ]  16.62K  --.-KB/s    in 0s      \n",
            "\n",
            "2024-01-18 11:41:13 (190 MB/s) - ‘docs/api.python.langchain.com/en/stable/agents/langchain.agents.agent_toolkits.conversational_retrieval.openai_functions.create_conversational_retrieval_agent.html’ saved [17015]\n",
            "\n",
            "--2024-01-18 11:41:13--  https://api.python.langchain.com/en/stable/agents/langchain.agents.agent_toolkits.vectorstore.base.create_vectorstore_agent.html\n",
            "Reusing existing connection to api.python.langchain.com:443.\n",
            "HTTP request sent, awaiting response... 200 OK\n",
            "Length: unspecified [text/html]\n",
            "Saving to: ‘docs/api.python.langchain.com/en/stable/agents/langchain.agents.agent_toolkits.vectorstore.base.create_vectorstore_agent.html’\n",
            "\n",
            "api.python.langchai     [ <=>                ]  19.31K  --.-KB/s    in 0.001s  \n",
            "\n",
            "2024-01-18 11:41:13 (35.7 MB/s) - ‘docs/api.python.langchain.com/en/stable/agents/langchain.agents.agent_toolkits.vectorstore.base.create_vectorstore_agent.html’ saved [19778]\n",
            "\n",
            "--2024-01-18 11:41:13--  https://api.python.langchain.com/en/stable/agents/langchain.agents.agent_toolkits.vectorstore.base.create_vectorstore_router_agent.html\n",
            "Reusing existing connection to api.python.langchain.com:443.\n",
            "HTTP request sent, awaiting response... 200 OK\n",
            "Length: unspecified [text/html]\n",
            "Saving to: ‘docs/api.python.langchain.com/en/stable/agents/langchain.agents.agent_toolkits.vectorstore.base.create_vectorstore_router_agent.html’\n",
            "\n",
            "api.python.langchai     [ <=>                ]  19.20K  --.-KB/s    in 0.001s  \n",
            "\n",
            "2024-01-18 11:41:13 (25.9 MB/s) - ‘docs/api.python.langchain.com/en/stable/agents/langchain.agents.agent_toolkits.vectorstore.base.create_vectorstore_router_agent.html’ saved [19661]\n",
            "\n",
            "--2024-01-18 11:41:13--  https://api.python.langchain.com/en/stable/agents/langchain.agents.format_scratchpad.log.format_log_to_str.html\n",
            "Reusing existing connection to api.python.langchain.com:443.\n",
            "HTTP request sent, awaiting response... 200 OK\n",
            "Length: unspecified [text/html]\n",
            "Saving to: ‘docs/api.python.langchain.com/en/stable/agents/langchain.agents.format_scratchpad.log.format_log_to_str.html’\n",
            "\n",
            "api.python.langchai     [ <=>                ]  12.37K  --.-KB/s    in 0s      \n",
            "\n",
            "2024-01-18 11:41:13 (179 MB/s) - ‘docs/api.python.langchain.com/en/stable/agents/langchain.agents.format_scratchpad.log.format_log_to_str.html’ saved [12666]\n",
            "\n",
            "--2024-01-18 11:41:13--  https://api.python.langchain.com/en/stable/agents/langchain.agents.format_scratchpad.log_to_messages.format_log_to_messages.html\n",
            "Reusing existing connection to api.python.langchain.com:443.\n",
            "HTTP request sent, awaiting response... 200 OK\n",
            "Length: unspecified [text/html]\n",
            "Saving to: ‘docs/api.python.langchain.com/en/stable/agents/langchain.agents.format_scratchpad.log_to_messages.format_log_to_messages.html’\n",
            "\n",
            "api.python.langchai     [ <=>                ]  12.45K  --.-KB/s    in 0s      \n",
            "\n",
            "2024-01-18 11:41:13 (46.6 MB/s) - ‘docs/api.python.langchain.com/en/stable/agents/langchain.agents.format_scratchpad.log_to_messages.format_log_to_messages.html’ saved [12752]\n",
            "\n",
            "--2024-01-18 11:41:13--  https://api.python.langchain.com/en/stable/agents/langchain.agents.format_scratchpad.openai_functions.format_to_openai_function_messages.html\n",
            "Reusing existing connection to api.python.langchain.com:443.\n",
            "HTTP request sent, awaiting response... 200 OK\n",
            "Length: unspecified [text/html]\n",
            "Saving to: ‘docs/api.python.langchain.com/en/stable/agents/langchain.agents.format_scratchpad.openai_functions.format_to_openai_function_messages.html’\n",
            "\n",
            "api.python.langchai     [ <=>                ]  12.53K  --.-KB/s    in 0s      \n",
            "\n",
            "2024-01-18 11:41:13 (90.4 MB/s) - ‘docs/api.python.langchain.com/en/stable/agents/langchain.agents.format_scratchpad.openai_functions.format_to_openai_function_messages.html’ saved [12833]\n",
            "\n",
            "--2024-01-18 11:41:13--  https://api.python.langchain.com/en/stable/agents/langchain.agents.format_scratchpad.openai_functions.format_to_openai_functions.html\n",
            "Reusing existing connection to api.python.langchain.com:443.\n",
            "HTTP request sent, awaiting response... 200 OK\n",
            "Length: unspecified [text/html]\n",
            "Saving to: ‘docs/api.python.langchain.com/en/stable/agents/langchain.agents.format_scratchpad.openai_functions.format_to_openai_functions.html’\n",
            "\n",
            "api.python.langchai     [ <=>                ]  12.25K  --.-KB/s    in 0s      \n",
            "\n",
            "2024-01-18 11:41:13 (170 MB/s) - ‘docs/api.python.langchain.com/en/stable/agents/langchain.agents.format_scratchpad.openai_functions.format_to_openai_functions.html’ saved [12540]\n",
            "\n",
            "--2024-01-18 11:41:13--  https://api.python.langchain.com/en/stable/agents/langchain.agents.format_scratchpad.openai_tools.format_to_openai_tool_messages.html\n",
            "Reusing existing connection to api.python.langchain.com:443.\n",
            "HTTP request sent, awaiting response... 200 OK\n",
            "Length: unspecified [text/html]\n",
            "Saving to: ‘docs/api.python.langchain.com/en/stable/agents/langchain.agents.format_scratchpad.openai_tools.format_to_openai_tool_messages.html’\n",
            "\n",
            "api.python.langchai     [ <=>                ]  12.45K  --.-KB/s    in 0s      \n",
            "\n",
            "2024-01-18 11:41:13 (66.5 MB/s) - ‘docs/api.python.langchain.com/en/stable/agents/langchain.agents.format_scratchpad.openai_tools.format_to_openai_tool_messages.html’ saved [12745]\n",
            "\n",
            "--2024-01-18 11:41:13--  https://api.python.langchain.com/en/stable/agents/langchain.agents.format_scratchpad.xml.format_xml.html\n",
            "Reusing existing connection to api.python.langchain.com:443.\n",
            "HTTP request sent, awaiting response... 200 OK\n",
            "Length: unspecified [text/html]\n",
            "Saving to: ‘docs/api.python.langchain.com/en/stable/agents/langchain.agents.format_scratchpad.xml.format_xml.html’\n",
            "\n",
            "api.python.langchai     [ <=>                ]  11.73K  --.-KB/s    in 0s      \n",
            "\n",
            "2024-01-18 11:41:13 (186 MB/s) - ‘docs/api.python.langchain.com/en/stable/agents/langchain.agents.format_scratchpad.xml.format_xml.html’ saved [12009]\n",
            "\n",
            "--2024-01-18 11:41:13--  https://api.python.langchain.com/en/stable/agents/langchain.agents.initialize.initialize_agent.html\n",
            "Reusing existing connection to api.python.langchain.com:443.\n",
            "HTTP request sent, awaiting response... 200 OK\n",
            "Length: unspecified [text/html]\n",
            "Saving to: ‘docs/api.python.langchain.com/en/stable/agents/langchain.agents.initialize.initialize_agent.html’\n",
            "\n",
            "api.python.langchai     [ <=>                ]  27.76K  --.-KB/s    in 0.001s  \n",
            "\n",
            "2024-01-18 11:41:13 (34.9 MB/s) - ‘docs/api.python.langchain.com/en/stable/agents/langchain.agents.initialize.initialize_agent.html’ saved [28428]\n",
            "\n",
            "--2024-01-18 11:41:13--  https://api.python.langchain.com/en/stable/agents/langchain.agents.json_chat.base.create_json_chat_agent.html\n",
            "Reusing existing connection to api.python.langchain.com:443.\n",
            "HTTP request sent, awaiting response... 200 OK\n",
            "Length: unspecified [text/html]\n",
            "Saving to: ‘docs/api.python.langchain.com/en/stable/agents/langchain.agents.json_chat.base.create_json_chat_agent.html’\n",
            "\n",
            "api.python.langchai     [ <=>                ]  16.03K  --.-KB/s    in 0.001s  \n",
            "\n",
            "2024-01-18 11:41:13 (29.6 MB/s) - ‘docs/api.python.langchain.com/en/stable/agents/langchain.agents.json_chat.base.create_json_chat_agent.html’ saved [16412]\n",
            "\n",
            "--2024-01-18 11:41:13--  https://api.python.langchain.com/en/stable/agents/langchain.agents.load_tools.get_all_tool_names.html\n",
            "Reusing existing connection to api.python.langchain.com:443.\n",
            "HTTP request sent, awaiting response... 200 OK\n",
            "Length: unspecified [text/html]\n",
            "Saving to: ‘docs/api.python.langchain.com/en/stable/agents/langchain.agents.load_tools.get_all_tool_names.html’\n",
            "\n",
            "api.python.langchai     [ <=>                ]  10.83K  --.-KB/s    in 0s      \n",
            "\n",
            "2024-01-18 11:41:13 (58.7 MB/s) - ‘docs/api.python.langchain.com/en/stable/agents/langchain.agents.load_tools.get_all_tool_names.html’ saved [11090]\n",
            "\n",
            "--2024-01-18 11:41:13--  https://api.python.langchain.com/en/stable/agents/langchain.agents.load_tools.load_huggingface_tool.html\n",
            "Reusing existing connection to api.python.langchain.com:443.\n",
            "HTTP request sent, awaiting response... 200 OK\n",
            "Length: unspecified [text/html]\n",
            "Saving to: ‘docs/api.python.langchain.com/en/stable/agents/langchain.agents.load_tools.load_huggingface_tool.html’\n",
            "\n",
            "api.python.langchai     [ <=>                ]  13.54K  --.-KB/s    in 0s      \n",
            "\n",
            "2024-01-18 11:41:13 (215 MB/s) - ‘docs/api.python.langchain.com/en/stable/agents/langchain.agents.load_tools.load_huggingface_tool.html’ saved [13862]\n",
            "\n",
            "--2024-01-18 11:41:13--  https://api.python.langchain.com/en/stable/agents/langchain.agents.load_tools.load_tools.html\n",
            "Reusing existing connection to api.python.langchain.com:443.\n",
            "HTTP request sent, awaiting response... 200 OK\n",
            "Length: unspecified [text/html]\n",
            "Saving to: ‘docs/api.python.langchain.com/en/stable/agents/langchain.agents.load_tools.load_tools.html’\n",
            "\n",
            "api.python.langchai     [ <=>                ]  22.03K  --.-KB/s    in 0.001s  \n",
            "\n",
            "2024-01-18 11:41:13 (20.6 MB/s) - ‘docs/api.python.langchain.com/en/stable/agents/langchain.agents.load_tools.load_tools.html’ saved [22562]\n",
            "\n",
            "--2024-01-18 11:41:13--  https://api.python.langchain.com/en/stable/agents/langchain.agents.loading.load_agent.html\n",
            "Reusing existing connection to api.python.langchain.com:443.\n",
            "HTTP request sent, awaiting response... 200 OK\n",
            "Length: unspecified [text/html]\n",
            "Saving to: ‘docs/api.python.langchain.com/en/stable/agents/langchain.agents.loading.load_agent.html’\n",
            "\n",
            "api.python.langchai     [ <=>                ]  12.29K  --.-KB/s    in 0s      \n",
            "\n",
            "2024-01-18 11:41:13 (270 MB/s) - ‘docs/api.python.langchain.com/en/stable/agents/langchain.agents.loading.load_agent.html’ saved [12590]\n",
            "\n",
            "--2024-01-18 11:41:13--  https://api.python.langchain.com/en/stable/agents/langchain.agents.loading.load_agent_from_config.html\n",
            "Reusing existing connection to api.python.langchain.com:443.\n",
            "HTTP request sent, awaiting response... 200 OK\n",
            "Length: unspecified [text/html]\n",
            "Saving to: ‘docs/api.python.langchain.com/en/stable/agents/langchain.agents.loading.load_agent_from_config.html’\n",
            "\n",
            "api.python.langchai     [ <=>                ]  13.81K  --.-KB/s    in 0s      \n",
            "\n",
            "2024-01-18 11:41:13 (62.6 MB/s) - ‘docs/api.python.langchain.com/en/stable/agents/langchain.agents.loading.load_agent_from_config.html’ saved [14139]\n",
            "\n",
            "--2024-01-18 11:41:13--  https://api.python.langchain.com/en/stable/agents/langchain.agents.openai_functions_agent.base.create_openai_functions_agent.html\n",
            "Reusing existing connection to api.python.langchain.com:443.\n",
            "HTTP request sent, awaiting response... 200 OK\n",
            "Length: unspecified [text/html]\n",
            "Saving to: ‘docs/api.python.langchain.com/en/stable/agents/langchain.agents.openai_functions_agent.base.create_openai_functions_agent.html’\n",
            "\n",
            "api.python.langchai     [ <=>                ]  16.39K  --.-KB/s    in 0s      \n",
            "\n",
            "2024-01-18 11:41:13 (76.7 MB/s) - ‘docs/api.python.langchain.com/en/stable/agents/langchain.agents.openai_functions_agent.base.create_openai_functions_agent.html’ saved [16779]\n",
            "\n",
            "--2024-01-18 11:41:13--  https://api.python.langchain.com/en/stable/agents/langchain.agents.openai_tools.base.create_openai_tools_agent.html\n",
            "Reusing existing connection to api.python.langchain.com:443.\n",
            "HTTP request sent, awaiting response... 200 OK\n",
            "Length: unspecified [text/html]\n",
            "Saving to: ‘docs/api.python.langchain.com/en/stable/agents/langchain.agents.openai_tools.base.create_openai_tools_agent.html’\n",
            "\n",
            "api.python.langchai     [ <=>                ]  16.02K  --.-KB/s    in 0s      \n",
            "\n",
            "2024-01-18 11:41:13 (47.8 MB/s) - ‘docs/api.python.langchain.com/en/stable/agents/langchain.agents.openai_tools.base.create_openai_tools_agent.html’ saved [16403]\n",
            "\n",
            "--2024-01-18 11:41:13--  https://api.python.langchain.com/en/stable/agents/langchain.agents.output_parsers.openai_tools.parse_ai_message_to_openai_tool_action.html\n",
            "Reusing existing connection to api.python.langchain.com:443.\n",
            "HTTP request sent, awaiting response... 200 OK\n",
            "Length: unspecified [text/html]\n",
            "Saving to: ‘docs/api.python.langchain.com/en/stable/agents/langchain.agents.output_parsers.openai_tools.parse_ai_message_to_openai_tool_action.html’\n",
            "\n",
            "api.python.langchai     [ <=>                ]  12.18K  --.-KB/s    in 0s      \n",
            "\n",
            "2024-01-18 11:41:13 (203 MB/s) - ‘docs/api.python.langchain.com/en/stable/agents/langchain.agents.output_parsers.openai_tools.parse_ai_message_to_openai_tool_action.html’ saved [12473]\n",
            "\n",
            "--2024-01-18 11:41:13--  https://api.python.langchain.com/en/stable/agents/langchain.agents.react.agent.create_react_agent.html\n",
            "Reusing existing connection to api.python.langchain.com:443.\n",
            "HTTP request sent, awaiting response... 200 OK\n",
            "Length: unspecified [text/html]\n",
            "Saving to: ‘docs/api.python.langchain.com/en/stable/agents/langchain.agents.react.agent.create_react_agent.html’\n",
            "\n",
            "api.python.langchai     [ <=>                ]  15.58K  --.-KB/s    in 0s      \n",
            "\n",
            "2024-01-18 11:41:13 (36.0 MB/s) - ‘docs/api.python.langchain.com/en/stable/agents/langchain.agents.react.agent.create_react_agent.html’ saved [15953]\n",
            "\n",
            "--2024-01-18 11:41:13--  https://api.python.langchain.com/en/stable/agents/langchain.agents.self_ask_with_search.base.create_self_ask_with_search_agent.html\n",
            "Reusing existing connection to api.python.langchain.com:443.\n",
            "HTTP request sent, awaiting response... 200 OK\n",
            "Length: unspecified [text/html]\n",
            "Saving to: ‘docs/api.python.langchain.com/en/stable/agents/langchain.agents.self_ask_with_search.base.create_self_ask_with_search_agent.html’\n",
            "\n",
            "api.python.langchai     [ <=>                ]  15.34K  --.-KB/s    in 0.001s  \n",
            "\n",
            "2024-01-18 11:41:14 (25.2 MB/s) - ‘docs/api.python.langchain.com/en/stable/agents/langchain.agents.self_ask_with_search.base.create_self_ask_with_search_agent.html’ saved [15706]\n",
            "\n",
            "--2024-01-18 11:41:14--  https://api.python.langchain.com/en/stable/agents/langchain.agents.structured_chat.base.create_structured_chat_agent.html\n",
            "Reusing existing connection to api.python.langchain.com:443.\n",
            "HTTP request sent, awaiting response... 200 OK\n",
            "Length: unspecified [text/html]\n",
            "Saving to: ‘docs/api.python.langchain.com/en/stable/agents/langchain.agents.structured_chat.base.create_structured_chat_agent.html’\n",
            "\n",
            "api.python.langchai     [ <=>                ]  16.16K  --.-KB/s    in 0s      \n",
            "\n",
            "2024-01-18 11:41:14 (91.7 MB/s) - ‘docs/api.python.langchain.com/en/stable/agents/langchain.agents.structured_chat.base.create_structured_chat_agent.html’ saved [16551]\n",
            "\n",
            "--2024-01-18 11:41:14--  https://api.python.langchain.com/en/stable/agents/langchain.agents.utils.validate_tools_single_input.html\n",
            "Reusing existing connection to api.python.langchain.com:443.\n",
            "HTTP request sent, awaiting response... 200 OK\n",
            "Length: unspecified [text/html]\n",
            "Saving to: ‘docs/api.python.langchain.com/en/stable/agents/langchain.agents.utils.validate_tools_single_input.html’\n",
            "\n",
            "api.python.langchai     [ <=>                ]  11.43K  --.-KB/s    in 0s      \n",
            "\n",
            "2024-01-18 11:41:14 (48.7 MB/s) - ‘docs/api.python.langchain.com/en/stable/agents/langchain.agents.utils.validate_tools_single_input.html’ saved [11706]\n",
            "\n",
            "--2024-01-18 11:41:14--  https://api.python.langchain.com/en/stable/agents/langchain.agents.xml.base.create_xml_agent.html\n",
            "Reusing existing connection to api.python.langchain.com:443.\n",
            "HTTP request sent, awaiting response... 200 OK\n",
            "Length: unspecified [text/html]\n",
            "Saving to: ‘docs/api.python.langchain.com/en/stable/agents/langchain.agents.xml.base.create_xml_agent.html’\n",
            "\n",
            "api.python.langchai     [ <=>                ]  15.53K  --.-KB/s    in 0.001s  \n",
            "\n",
            "2024-01-18 11:41:14 (21.9 MB/s) - ‘docs/api.python.langchain.com/en/stable/agents/langchain.agents.xml.base.create_xml_agent.html’ saved [15907]\n",
            "\n",
            "--2024-01-18 11:41:14--  https://api.python.langchain.com/en/stable/callbacks/langchain.callbacks.file.FileCallbackHandler.html\n",
            "Reusing existing connection to api.python.langchain.com:443.\n",
            "HTTP request sent, awaiting response... 200 OK\n",
            "Length: unspecified [text/html]\n",
            "Saving to: ‘docs/api.python.langchain.com/en/stable/callbacks/langchain.callbacks.file.FileCallbackHandler.html’\n",
            "\n",
            "api.python.langchai     [ <=>                ]  67.21K  --.-KB/s    in 0.002s  \n",
            "\n",
            "2024-01-18 11:41:14 (37.5 MB/s) - ‘docs/api.python.langchain.com/en/stable/callbacks/langchain.callbacks.file.FileCallbackHandler.html’ saved [68820]\n",
            "\n",
            "--2024-01-18 11:41:14--  https://api.python.langchain.com/en/stable/callbacks/langchain.callbacks.streaming_aiter.AsyncIteratorCallbackHandler.html\n",
            "Reusing existing connection to api.python.langchain.com:443.\n",
            "HTTP request sent, awaiting response... 200 OK\n",
            "Length: unspecified [text/html]\n",
            "Saving to: ‘docs/api.python.langchain.com/en/stable/callbacks/langchain.callbacks.streaming_aiter.AsyncIteratorCallbackHandler.html’\n",
            "\n",
            "api.python.langchai     [ <=>                ]  70.84K  --.-KB/s    in 0.002s  \n",
            "\n",
            "2024-01-18 11:41:14 (42.1 MB/s) - ‘docs/api.python.langchain.com/en/stable/callbacks/langchain.callbacks.streaming_aiter.AsyncIteratorCallbackHandler.html’ saved [72540]\n",
            "\n",
            "--2024-01-18 11:41:14--  https://api.python.langchain.com/en/stable/callbacks/langchain.callbacks.streaming_aiter_final_only.AsyncFinalIteratorCallbackHandler.html\n",
            "Reusing existing connection to api.python.langchain.com:443.\n",
            "HTTP request sent, awaiting response... 200 OK\n",
            "Length: unspecified [text/html]\n",
            "Saving to: ‘docs/api.python.langchain.com/en/stable/callbacks/langchain.callbacks.streaming_aiter_final_only.AsyncFinalIteratorCallbackHandler.html’\n",
            "\n",
            "api.python.langchai     [ <=>                ]  78.66K  --.-KB/s    in 0.002s  \n",
            "\n",
            "2024-01-18 11:41:14 (42.5 MB/s) - ‘docs/api.python.langchain.com/en/stable/callbacks/langchain.callbacks.streaming_aiter_final_only.AsyncFinalIteratorCallbackHandler.html’ saved [80546]\n",
            "\n",
            "--2024-01-18 11:41:14--  https://api.python.langchain.com/en/stable/callbacks/langchain.callbacks.streaming_stdout_final_only.FinalStreamingStdOutCallbackHandler.html\n",
            "Reusing existing connection to api.python.langchain.com:443.\n",
            "HTTP request sent, awaiting response... 200 OK\n",
            "Length: unspecified [text/html]\n",
            "Saving to: ‘docs/api.python.langchain.com/en/stable/callbacks/langchain.callbacks.streaming_stdout_final_only.FinalStreamingStdOutCallbackHandler.html’\n",
            "\n",
            "api.python.langchai     [ <=>                ]  58.60K  --.-KB/s    in 0.001s  \n",
            "\n",
            "2024-01-18 11:41:14 (45.9 MB/s) - ‘docs/api.python.langchain.com/en/stable/callbacks/langchain.callbacks.streaming_stdout_final_only.FinalStreamingStdOutCallbackHandler.html’ saved [60007]\n",
            "\n",
            "--2024-01-18 11:41:14--  https://api.python.langchain.com/en/stable/callbacks/langchain.callbacks.tracers.logging.LoggingCallbackHandler.html\n",
            "Reusing existing connection to api.python.langchain.com:443.\n",
            "HTTP request sent, awaiting response... 200 OK\n",
            "Length: unspecified [text/html]\n",
            "Saving to: ‘docs/api.python.langchain.com/en/stable/callbacks/langchain.callbacks.tracers.logging.LoggingCallbackHandler.html’\n",
            "\n",
            "api.python.langchai     [ <=>                ]  73.64K  --.-KB/s    in 0.001s  \n",
            "\n",
            "2024-01-18 11:41:14 (49.2 MB/s) - ‘docs/api.python.langchain.com/en/stable/callbacks/langchain.callbacks.tracers.logging.LoggingCallbackHandler.html’ saved [75409]\n",
            "\n",
            "--2024-01-18 11:41:14--  https://api.python.langchain.com/en/stable/chains/langchain.chains.api.base.APIChain.html\n",
            "Reusing existing connection to api.python.langchain.com:443.\n",
            "HTTP request sent, awaiting response... 200 OK\n",
            "Length: unspecified [text/html]\n",
            "Saving to: ‘docs/api.python.langchain.com/en/stable/chains/langchain.chains.api.base.APIChain.html’\n",
            "\n",
            "api.python.langchai     [ <=>                ] 169.28K  --.-KB/s    in 0.005s  \n",
            "\n",
            "2024-01-18 11:41:14 (32.4 MB/s) - ‘docs/api.python.langchain.com/en/stable/chains/langchain.chains.api.base.APIChain.html’ saved [173338]\n",
            "\n",
            "--2024-01-18 11:41:14--  https://api.python.langchain.com/en/stable/chains/langchain.chains.api.openapi.chain.OpenAPIEndpointChain.html\n",
            "Reusing existing connection to api.python.langchain.com:443.\n",
            "HTTP request sent, awaiting response... 200 OK\n",
            "Length: unspecified [text/html]\n",
            "Saving to: ‘docs/api.python.langchain.com/en/stable/chains/langchain.chains.api.openapi.chain.OpenAPIEndpointChain.html’\n",
            "\n",
            "api.python.langchai     [ <=>                ] 172.80K  --.-KB/s    in 0.005s  \n",
            "\n",
            "2024-01-18 11:41:14 (36.7 MB/s) - ‘docs/api.python.langchain.com/en/stable/chains/langchain.chains.api.openapi.chain.OpenAPIEndpointChain.html’ saved [176944]\n",
            "\n",
            "--2024-01-18 11:41:14--  https://api.python.langchain.com/en/stable/chains/langchain.chains.api.openapi.requests_chain.APIRequesterChain.html\n",
            "Reusing existing connection to api.python.langchain.com:443.\n",
            "HTTP request sent, awaiting response... 200 OK\n",
            "Length: unspecified [text/html]\n",
            "Saving to: ‘docs/api.python.langchain.com/en/stable/chains/langchain.chains.api.openapi.requests_chain.APIRequesterChain.html’\n",
            "\n",
            "api.python.langchai     [ <=>                ] 200.40K  --.-KB/s    in 0.005s  \n",
            "\n",
            "2024-01-18 11:41:14 (38.9 MB/s) - ‘docs/api.python.langchain.com/en/stable/chains/langchain.chains.api.openapi.requests_chain.APIRequesterChain.html’ saved [205206]\n",
            "\n",
            "--2024-01-18 11:41:14--  https://api.python.langchain.com/en/stable/chains/langchain.chains.api.openapi.requests_chain.APIRequesterOutputParser.html\n",
            "Reusing existing connection to api.python.langchain.com:443.\n",
            "HTTP request sent, awaiting response... 200 OK\n",
            "Length: unspecified [text/html]\n",
            "Saving to: ‘docs/api.python.langchain.com/en/stable/chains/langchain.chains.api.openapi.requests_chain.APIRequesterOutputParser.html’\n",
            "\n",
            "api.python.langchai     [ <=>                ] 124.29K  --.-KB/s    in 0.003s  \n",
            "\n",
            "2024-01-18 11:41:14 (38.4 MB/s) - ‘docs/api.python.langchain.com/en/stable/chains/langchain.chains.api.openapi.requests_chain.APIRequesterOutputParser.html’ saved [127271]\n",
            "\n",
            "--2024-01-18 11:41:14--  https://api.python.langchain.com/en/stable/chains/langchain.chains.api.openapi.response_chain.APIResponderChain.html\n",
            "Reusing existing connection to api.python.langchain.com:443.\n",
            "HTTP request sent, awaiting response... 200 OK\n",
            "Length: unspecified [text/html]\n",
            "Saving to: ‘docs/api.python.langchain.com/en/stable/chains/langchain.chains.api.openapi.response_chain.APIResponderChain.html’\n",
            "\n",
            "api.python.langchai     [ <=>                ] 200.12K  --.-KB/s    in 0.006s  \n",
            "\n",
            "2024-01-18 11:41:14 (30.7 MB/s) - ‘docs/api.python.langchain.com/en/stable/chains/langchain.chains.api.openapi.response_chain.APIResponderChain.html’ saved [204926]\n",
            "\n",
            "--2024-01-18 11:41:14--  https://api.python.langchain.com/en/stable/chains/langchain.chains.api.openapi.response_chain.APIResponderOutputParser.html\n",
            "Reusing existing connection to api.python.langchain.com:443.\n",
            "HTTP request sent, awaiting response... 200 OK\n",
            "Length: unspecified [text/html]\n",
            "Saving to: ‘docs/api.python.langchain.com/en/stable/chains/langchain.chains.api.openapi.response_chain.APIResponderOutputParser.html’\n",
            "\n",
            "api.python.langchai     [ <=>                ] 124.29K  --.-KB/s    in 0.003s  \n",
            "\n",
            "2024-01-18 11:41:14 (40.6 MB/s) - ‘docs/api.python.langchain.com/en/stable/chains/langchain.chains.api.openapi.response_chain.APIResponderOutputParser.html’ saved [127273]\n",
            "\n",
            "--2024-01-18 11:41:14--  https://api.python.langchain.com/en/stable/chains/langchain.chains.base.Chain.html\n",
            "Reusing existing connection to api.python.langchain.com:443.\n",
            "HTTP request sent, awaiting response... 200 OK\n",
            "Length: unspecified [text/html]\n",
            "Saving to: ‘docs/api.python.langchain.com/en/stable/chains/langchain.chains.base.Chain.html’\n",
            "\n",
            "api.python.langchai     [ <=>                ] 161.37K  --.-KB/s    in 0.004s  \n",
            "\n",
            "2024-01-18 11:41:14 (42.7 MB/s) - ‘docs/api.python.langchain.com/en/stable/chains/langchain.chains.base.Chain.html’ saved [165241]\n",
            "\n",
            "--2024-01-18 11:41:14--  https://api.python.langchain.com/en/stable/chains/langchain.chains.combine_documents.base.AnalyzeDocumentChain.html\n",
            "Reusing existing connection to api.python.langchain.com:443.\n",
            "HTTP request sent, awaiting response... 200 OK\n",
            "Length: unspecified [text/html]\n",
            "Saving to: ‘docs/api.python.langchain.com/en/stable/chains/langchain.chains.combine_documents.base.AnalyzeDocumentChain.html’\n",
            "\n",
            "api.python.langchai     [ <=>                ] 160.87K  --.-KB/s    in 0.004s  \n",
            "\n",
            "2024-01-18 11:41:14 (40.4 MB/s) - ‘docs/api.python.langchain.com/en/stable/chains/langchain.chains.combine_documents.base.AnalyzeDocumentChain.html’ saved [164735]\n",
            "\n",
            "--2024-01-18 11:41:14--  https://api.python.langchain.com/en/stable/chains/langchain.chains.combine_documents.base.BaseCombineDocumentsChain.html\n",
            "Reusing existing connection to api.python.langchain.com:443.\n",
            "HTTP request sent, awaiting response... 200 OK\n",
            "Length: unspecified [text/html]\n",
            "Saving to: ‘docs/api.python.langchain.com/en/stable/chains/langchain.chains.combine_documents.base.BaseCombineDocumentsChain.html’\n",
            "\n",
            "api.python.langchai     [ <=>                ] 167.72K  --.-KB/s    in 0.004s  \n",
            "\n",
            "2024-01-18 11:41:14 (39.3 MB/s) - ‘docs/api.python.langchain.com/en/stable/chains/langchain.chains.combine_documents.base.BaseCombineDocumentsChain.html’ saved [171741]\n",
            "\n",
            "--2024-01-18 11:41:14--  https://api.python.langchain.com/en/stable/chains/langchain.chains.combine_documents.map_reduce.MapReduceDocumentsChain.html\n",
            "Reusing existing connection to api.python.langchain.com:443.\n",
            "HTTP request sent, awaiting response... 200 OK\n",
            "Length: unspecified [text/html]\n",
            "Saving to: ‘docs/api.python.langchain.com/en/stable/chains/langchain.chains.combine_documents.map_reduce.MapReduceDocumentsChain.html’\n",
            "\n",
            "api.python.langchai     [ <=>                ] 182.66K  --.-KB/s    in 0.005s  \n",
            "\n",
            "2024-01-18 11:41:14 (36.5 MB/s) - ‘docs/api.python.langchain.com/en/stable/chains/langchain.chains.combine_documents.map_reduce.MapReduceDocumentsChain.html’ saved [187048]\n",
            "\n",
            "--2024-01-18 11:41:14--  https://api.python.langchain.com/en/stable/chains/langchain.chains.combine_documents.map_rerank.MapRerankDocumentsChain.html\n",
            "Reusing existing connection to api.python.langchain.com:443.\n",
            "HTTP request sent, awaiting response... 200 OK\n",
            "Length: unspecified [text/html]\n",
            "Saving to: ‘docs/api.python.langchain.com/en/stable/chains/langchain.chains.combine_documents.map_rerank.MapRerankDocumentsChain.html’\n",
            "\n",
            "api.python.langchai     [ <=>                ] 177.67K  --.-KB/s    in 0.004s  \n",
            "\n",
            "2024-01-18 11:41:14 (38.9 MB/s) - ‘docs/api.python.langchain.com/en/stable/chains/langchain.chains.combine_documents.map_rerank.MapRerankDocumentsChain.html’ saved [181932]\n",
            "\n",
            "--2024-01-18 11:41:14--  https://api.python.langchain.com/en/stable/chains/langchain.chains.combine_documents.reduce.AsyncCombineDocsProtocol.html\n",
            "Reusing existing connection to api.python.langchain.com:443.\n",
            "HTTP request sent, awaiting response... 200 OK\n",
            "Length: unspecified [text/html]\n",
            "Saving to: ‘docs/api.python.langchain.com/en/stable/chains/langchain.chains.combine_documents.reduce.AsyncCombineDocsProtocol.html’\n",
            "\n",
            "api.python.langchai     [ <=>                ]  12.35K  --.-KB/s    in 0s      \n",
            "\n",
            "2024-01-18 11:41:14 (194 MB/s) - ‘docs/api.python.langchain.com/en/stable/chains/langchain.chains.combine_documents.reduce.AsyncCombineDocsProtocol.html’ saved [12648]\n",
            "\n",
            "--2024-01-18 11:41:14--  https://api.python.langchain.com/en/stable/chains/langchain.chains.combine_documents.reduce.CombineDocsProtocol.html\n",
            "Reusing existing connection to api.python.langchain.com:443.\n",
            "HTTP request sent, awaiting response... 200 OK\n",
            "Length: unspecified [text/html]\n",
            "Saving to: ‘docs/api.python.langchain.com/en/stable/chains/langchain.chains.combine_documents.reduce.CombineDocsProtocol.html’\n",
            "\n",
            "api.python.langchai     [ <=>                ]  12.28K  --.-KB/s    in 0s      \n",
            "\n",
            "2024-01-18 11:41:14 (69.5 MB/s) - ‘docs/api.python.langchain.com/en/stable/chains/langchain.chains.combine_documents.reduce.CombineDocsProtocol.html’ saved [12573]\n",
            "\n",
            "--2024-01-18 11:41:14--  https://api.python.langchain.com/en/stable/chains/langchain.chains.combine_documents.reduce.ReduceDocumentsChain.html\n",
            "Reusing existing connection to api.python.langchain.com:443.\n",
            "HTTP request sent, awaiting response... 200 OK\n",
            "Length: unspecified [text/html]\n",
            "Saving to: ‘docs/api.python.langchain.com/en/stable/chains/langchain.chains.combine_documents.reduce.ReduceDocumentsChain.html’\n",
            "\n",
            "api.python.langchai     [ <=>                ] 179.00K  --.-KB/s    in 0.004s  \n",
            "\n",
            "2024-01-18 11:41:14 (42.0 MB/s) - ‘docs/api.python.langchain.com/en/stable/chains/langchain.chains.combine_documents.reduce.ReduceDocumentsChain.html’ saved [183294]\n",
            "\n",
            "--2024-01-18 11:41:14--  https://api.python.langchain.com/en/stable/chains/langchain.chains.combine_documents.refine.RefineDocumentsChain.html\n",
            "Reusing existing connection to api.python.langchain.com:443.\n",
            "HTTP request sent, awaiting response... 200 OK\n",
            "Length: unspecified [text/html]\n",
            "Saving to: ‘docs/api.python.langchain.com/en/stable/chains/langchain.chains.combine_documents.refine.RefineDocumentsChain.html’\n",
            "\n",
            "api.python.langchai     [ <=>                ] 178.39K  --.-KB/s    in 0.004s  \n",
            "\n",
            "2024-01-18 11:41:14 (42.4 MB/s) - ‘docs/api.python.langchain.com/en/stable/chains/langchain.chains.combine_documents.refine.RefineDocumentsChain.html’ saved [182675]\n",
            "\n",
            "--2024-01-18 11:41:14--  https://api.python.langchain.com/en/stable/chains/langchain.chains.combine_documents.stuff.StuffDocumentsChain.html\n",
            "Reusing existing connection to api.python.langchain.com:443.\n",
            "HTTP request sent, awaiting response... 200 OK\n",
            "Length: unspecified [text/html]\n",
            "Saving to: ‘docs/api.python.langchain.com/en/stable/chains/langchain.chains.combine_documents.stuff.StuffDocumentsChain.html’\n",
            "\n",
            "api.python.langchai     [ <=>                ] 175.79K  --.-KB/s    in 0.004s  \n",
            "\n",
            "2024-01-18 11:41:14 (38.6 MB/s) - ‘docs/api.python.langchain.com/en/stable/chains/langchain.chains.combine_documents.stuff.StuffDocumentsChain.html’ saved [180007]\n",
            "\n",
            "--2024-01-18 11:41:14--  https://api.python.langchain.com/en/stable/chains/langchain.chains.constitutional_ai.base.ConstitutionalChain.html\n",
            "Reusing existing connection to api.python.langchain.com:443.\n",
            "HTTP request sent, awaiting response... 200 OK\n",
            "Length: unspecified [text/html]\n",
            "Saving to: ‘docs/api.python.langchain.com/en/stable/chains/langchain.chains.constitutional_ai.base.ConstitutionalChain.html’\n",
            "\n",
            "api.python.langchai     [ <=>                ] 233.25K  --.-KB/s    in 0.006s  \n",
            "\n",
            "2024-01-18 11:41:14 (35.2 MB/s) - ‘docs/api.python.langchain.com/en/stable/chains/langchain.chains.constitutional_ai.base.ConstitutionalChain.html’ saved [238851]\n",
            "\n",
            "--2024-01-18 11:41:14--  https://api.python.langchain.com/en/stable/chains/langchain.chains.constitutional_ai.models.ConstitutionalPrinciple.html\n",
            "Reusing existing connection to api.python.langchain.com:443.\n",
            "HTTP request sent, awaiting response... 200 OK\n",
            "Length: unspecified [text/html]\n",
            "Saving to: ‘docs/api.python.langchain.com/en/stable/chains/langchain.chains.constitutional_ai.models.ConstitutionalPrinciple.html’\n",
            "\n",
            "api.python.langchai     [ <=>                ]  40.61K  --.-KB/s    in 0.001s  \n",
            "\n",
            "2024-01-18 11:41:14 (38.9 MB/s) - ‘docs/api.python.langchain.com/en/stable/chains/langchain.chains.constitutional_ai.models.ConstitutionalPrinciple.html’ saved [41580]\n",
            "\n",
            "--2024-01-18 11:41:14--  https://api.python.langchain.com/en/stable/chains/langchain.chains.conversation.base.ConversationChain.html\n",
            "Reusing existing connection to api.python.langchain.com:443.\n",
            "HTTP request sent, awaiting response... 200 OK\n",
            "Length: unspecified [text/html]\n",
            "Saving to: ‘docs/api.python.langchain.com/en/stable/chains/langchain.chains.conversation.base.ConversationChain.html’\n",
            "\n",
            "api.python.langchai     [ <=>                ] 200.77K  --.-KB/s    in 0.005s  \n",
            "\n",
            "2024-01-18 11:41:14 (41.4 MB/s) - ‘docs/api.python.langchain.com/en/stable/chains/langchain.chains.conversation.base.ConversationChain.html’ saved [205589]\n",
            "\n",
            "--2024-01-18 11:41:14--  https://api.python.langchain.com/en/stable/chains/langchain.chains.conversational_retrieval.base.BaseConversationalRetrievalChain.html\n",
            "Reusing existing connection to api.python.langchain.com:443.\n",
            "HTTP request sent, awaiting response... 200 OK\n",
            "Length: unspecified [text/html]\n",
            "Saving to: ‘docs/api.python.langchain.com/en/stable/chains/langchain.chains.conversational_retrieval.base.BaseConversationalRetrievalChain.html’\n",
            "\n",
            "api.python.langchai     [ <=>                ] 170.51K  --.-KB/s    in 0.004s  \n",
            "\n",
            "2024-01-18 11:41:14 (42.4 MB/s) - ‘docs/api.python.langchain.com/en/stable/chains/langchain.chains.conversational_retrieval.base.BaseConversationalRetrievalChain.html’ saved [174600]\n",
            "\n",
            "--2024-01-18 11:41:14--  https://api.python.langchain.com/en/stable/chains/langchain.chains.conversational_retrieval.base.ChatVectorDBChain.html\n",
            "Reusing existing connection to api.python.langchain.com:443.\n",
            "HTTP request sent, awaiting response... 200 OK\n",
            "Length: unspecified [text/html]\n",
            "Saving to: ‘docs/api.python.langchain.com/en/stable/chains/langchain.chains.conversational_retrieval.base.ChatVectorDBChain.html’\n",
            "\n",
            "api.python.langchai     [ <=>                ] 176.27K  --.-KB/s    in 0.005s  \n",
            "\n",
            "2024-01-18 11:41:14 (36.8 MB/s) - ‘docs/api.python.langchain.com/en/stable/chains/langchain.chains.conversational_retrieval.base.ChatVectorDBChain.html’ saved [180497]\n",
            "\n",
            "--2024-01-18 11:41:14--  https://api.python.langchain.com/en/stable/chains/langchain.chains.conversational_retrieval.base.ConversationalRetrievalChain.html\n",
            "Reusing existing connection to api.python.langchain.com:443.\n",
            "HTTP request sent, awaiting response... 200 OK\n",
            "Length: unspecified [text/html]\n",
            "Saving to: ‘docs/api.python.langchain.com/en/stable/chains/langchain.chains.conversational_retrieval.base.ConversationalRetrievalChain.html’\n",
            "\n",
            "api.python.langchai     [ <=>                ] 186.08K  --.-KB/s    in 0.005s  \n",
            "\n",
            "2024-01-18 11:41:14 (36.8 MB/s) - ‘docs/api.python.langchain.com/en/stable/chains/langchain.chains.conversational_retrieval.base.ConversationalRetrievalChain.html’ saved [190547]\n",
            "\n",
            "--2024-01-18 11:41:14--  https://api.python.langchain.com/en/stable/chains/langchain.chains.conversational_retrieval.base.InputType.html\n",
            "Reusing existing connection to api.python.langchain.com:443.\n",
            "HTTP request sent, awaiting response... 200 OK\n",
            "Length: unspecified [text/html]\n",
            "Saving to: ‘docs/api.python.langchain.com/en/stable/chains/langchain.chains.conversational_retrieval.base.InputType.html’\n",
            "\n",
            "api.python.langchai     [ <=>                ]  40.33K  --.-KB/s    in 0.001s  \n",
            "\n",
            "2024-01-18 11:41:14 (43.9 MB/s) - ‘docs/api.python.langchain.com/en/stable/chains/langchain.chains.conversational_retrieval.base.InputType.html’ saved [41300]\n",
            "\n",
            "--2024-01-18 11:41:14--  https://api.python.langchain.com/en/stable/chains/langchain.chains.elasticsearch_database.base.ElasticsearchDatabaseChain.html\n",
            "Reusing existing connection to api.python.langchain.com:443.\n",
            "HTTP request sent, awaiting response... 200 OK\n",
            "Length: unspecified [text/html]\n",
            "Saving to: ‘docs/api.python.langchain.com/en/stable/chains/langchain.chains.elasticsearch_database.base.ElasticsearchDatabaseChain.html’\n",
            "\n",
            "api.python.langchai     [ <=>                ] 173.63K  --.-KB/s    in 0.004s  \n",
            "\n",
            "2024-01-18 11:41:14 (40.1 MB/s) - ‘docs/api.python.langchain.com/en/stable/chains/langchain.chains.elasticsearch_database.base.ElasticsearchDatabaseChain.html’ saved [177799]\n",
            "\n",
            "--2024-01-18 11:41:14--  https://api.python.langchain.com/en/stable/chains/langchain.chains.flare.base.FlareChain.html\n",
            "Reusing existing connection to api.python.langchain.com:443.\n",
            "HTTP request sent, awaiting response... 200 OK\n",
            "Length: unspecified [text/html]\n",
            "Saving to: ‘docs/api.python.langchain.com/en/stable/chains/langchain.chains.flare.base.FlareChain.html’\n",
            "\n",
            "api.python.langchai     [ <=>                ] 166.71K  --.-KB/s    in 0.004s  \n",
            "\n",
            "2024-01-18 11:41:15 (39.1 MB/s) - ‘docs/api.python.langchain.com/en/stable/chains/langchain.chains.flare.base.FlareChain.html’ saved [170712]\n",
            "\n",
            "--2024-01-18 11:41:15--  https://api.python.langchain.com/en/stable/chains/langchain.chains.flare.base.QuestionGeneratorChain.html\n",
            "Reusing existing connection to api.python.langchain.com:443.\n",
            "HTTP request sent, awaiting response... 200 OK\n",
            "Length: unspecified [text/html]\n",
            "Saving to: ‘docs/api.python.langchain.com/en/stable/chains/langchain.chains.flare.base.QuestionGeneratorChain.html’\n",
            "\n",
            "api.python.langchai     [ <=>                ] 198.38K  --.-KB/s    in 0.005s  \n",
            "\n",
            "2024-01-18 11:41:15 (40.7 MB/s) - ‘docs/api.python.langchain.com/en/stable/chains/langchain.chains.flare.base.QuestionGeneratorChain.html’ saved [203142]\n",
            "\n",
            "--2024-01-18 11:41:15--  https://api.python.langchain.com/en/stable/chains/langchain.chains.flare.prompts.FinishedOutputParser.html\n",
            "Reusing existing connection to api.python.langchain.com:443.\n",
            "HTTP request sent, awaiting response... 200 OK\n",
            "Length: unspecified [text/html]\n",
            "Saving to: ‘docs/api.python.langchain.com/en/stable/chains/langchain.chains.flare.prompts.FinishedOutputParser.html’\n",
            "\n",
            "api.python.langchai     [ <=>                ] 123.78K  --.-KB/s    in 0.003s  \n",
            "\n",
            "2024-01-18 11:41:15 (39.6 MB/s) - ‘docs/api.python.langchain.com/en/stable/chains/langchain.chains.flare.prompts.FinishedOutputParser.html’ saved [126751]\n",
            "\n",
            "--2024-01-18 11:41:15--  https://api.python.langchain.com/en/stable/chains/langchain.chains.graph_qa.arangodb.ArangoGraphQAChain.html\n",
            "Reusing existing connection to api.python.langchain.com:443.\n",
            "HTTP request sent, awaiting response... 200 OK\n",
            "Length: unspecified [text/html]\n",
            "Saving to: ‘docs/api.python.langchain.com/en/stable/chains/langchain.chains.graph_qa.arangodb.ArangoGraphQAChain.html’\n",
            "\n",
            "api.python.langchai     [ <=>                ] 190.19K  --.-KB/s    in 0.004s  \n",
            "\n",
            "2024-01-18 11:41:15 (42.7 MB/s) - ‘docs/api.python.langchain.com/en/stable/chains/langchain.chains.graph_qa.arangodb.ArangoGraphQAChain.html’ saved [194757]\n",
            "\n",
            "--2024-01-18 11:41:15--  https://api.python.langchain.com/en/stable/chains/langchain.chains.graph_qa.base.GraphQAChain.html\n",
            "Reusing existing connection to api.python.langchain.com:443.\n",
            "HTTP request sent, awaiting response... 200 OK\n",
            "Length: unspecified [text/html]\n",
            "Saving to: ‘docs/api.python.langchain.com/en/stable/chains/langchain.chains.graph_qa.base.GraphQAChain.html’\n",
            "\n",
            "api.python.langchai     [ <=>                ] 166.39K  --.-KB/s    in 0.005s  \n",
            "\n",
            "2024-01-18 11:41:15 (34.6 MB/s) - ‘docs/api.python.langchain.com/en/stable/chains/langchain.chains.graph_qa.base.GraphQAChain.html’ saved [170387]\n",
            "\n",
            "--2024-01-18 11:41:15--  https://api.python.langchain.com/en/stable/chains/langchain.chains.graph_qa.cypher.GraphCypherQAChain.html\n",
            "Reusing existing connection to api.python.langchain.com:443.\n",
            "HTTP request sent, awaiting response... 200 OK\n",
            "Length: unspecified [text/html]\n",
            "Saving to: ‘docs/api.python.langchain.com/en/stable/chains/langchain.chains.graph_qa.cypher.GraphCypherQAChain.html’\n",
            "\n",
            "api.python.langchai     [ <=>                ] 172.95K  --.-KB/s    in 0.004s  \n",
            "\n",
            "2024-01-18 11:41:15 (39.5 MB/s) - ‘docs/api.python.langchain.com/en/stable/chains/langchain.chains.graph_qa.cypher.GraphCypherQAChain.html’ saved [177101]\n",
            "\n",
            "--2024-01-18 11:41:15--  https://api.python.langchain.com/en/stable/chains/langchain.chains.graph_qa.cypher_utils.CypherQueryCorrector.html\n",
            "Reusing existing connection to api.python.langchain.com:443.\n",
            "HTTP request sent, awaiting response... 200 OK\n",
            "Length: unspecified [text/html]\n",
            "Saving to: ‘docs/api.python.langchain.com/en/stable/chains/langchain.chains.graph_qa.cypher_utils.CypherQueryCorrector.html’\n",
            "\n",
            "api.python.langchai     [ <=>                ]  32.04K  --.-KB/s    in 0s      \n",
            "\n",
            "2024-01-18 11:41:15 (218 MB/s) - ‘docs/api.python.langchain.com/en/stable/chains/langchain.chains.graph_qa.cypher_utils.CypherQueryCorrector.html’ saved [32811]\n",
            "\n",
            "--2024-01-18 11:41:15--  https://api.python.langchain.com/en/stable/chains/langchain.chains.graph_qa.cypher_utils.Schema.html\n",
            "Reusing existing connection to api.python.langchain.com:443.\n",
            "HTTP request sent, awaiting response... 200 OK\n",
            "Length: unspecified [text/html]\n",
            "Saving to: ‘docs/api.python.langchain.com/en/stable/chains/langchain.chains.graph_qa.cypher_utils.Schema.html’\n",
            "\n",
            "api.python.langchai     [ <=>                ]  14.65K  --.-KB/s    in 0s      \n",
            "\n",
            "2024-01-18 11:41:15 (60.9 MB/s) - ‘docs/api.python.langchain.com/en/stable/chains/langchain.chains.graph_qa.cypher_utils.Schema.html’ saved [15005]\n",
            "\n",
            "--2024-01-18 11:41:15--  https://api.python.langchain.com/en/stable/chains/langchain.chains.graph_qa.falkordb.FalkorDBQAChain.html\n",
            "Reusing existing connection to api.python.langchain.com:443.\n",
            "HTTP request sent, awaiting response... 200 OK\n",
            "Length: unspecified [text/html]\n",
            "Saving to: ‘docs/api.python.langchain.com/en/stable/chains/langchain.chains.graph_qa.falkordb.FalkorDBQAChain.html’\n",
            "\n",
            "api.python.langchai     [ <=>                ] 170.70K  --.-KB/s    in 0.004s  \n",
            "\n",
            "2024-01-18 11:41:15 (37.2 MB/s) - ‘docs/api.python.langchain.com/en/stable/chains/langchain.chains.graph_qa.falkordb.FalkorDBQAChain.html’ saved [174792]\n",
            "\n",
            "--2024-01-18 11:41:15--  https://api.python.langchain.com/en/stable/chains/langchain.chains.graph_qa.hugegraph.HugeGraphQAChain.html\n",
            "Reusing existing connection to api.python.langchain.com:443.\n",
            "HTTP request sent, awaiting response... 200 OK\n",
            "Length: unspecified [text/html]\n",
            "Saving to: ‘docs/api.python.langchain.com/en/stable/chains/langchain.chains.graph_qa.hugegraph.HugeGraphQAChain.html’\n",
            "\n",
            "api.python.langchai     [ <=>                ] 168.60K  --.-KB/s    in 0.004s  \n",
            "\n",
            "2024-01-18 11:41:15 (41.3 MB/s) - ‘docs/api.python.langchain.com/en/stable/chains/langchain.chains.graph_qa.hugegraph.HugeGraphQAChain.html’ saved [172644]\n",
            "\n",
            "--2024-01-18 11:41:15--  https://api.python.langchain.com/en/stable/chains/langchain.chains.graph_qa.kuzu.KuzuQAChain.html\n",
            "Reusing existing connection to api.python.langchain.com:443.\n",
            "HTTP request sent, awaiting response... 200 OK\n",
            "Length: unspecified [text/html]\n",
            "Saving to: ‘docs/api.python.langchain.com/en/stable/chains/langchain.chains.graph_qa.kuzu.KuzuQAChain.html’\n",
            "\n",
            "api.python.langchai     [ <=>                ] 168.85K  --.-KB/s    in 0.004s  \n",
            "\n",
            "2024-01-18 11:41:15 (38.5 MB/s) - ‘docs/api.python.langchain.com/en/stable/chains/langchain.chains.graph_qa.kuzu.KuzuQAChain.html’ saved [172905]\n",
            "\n",
            "--2024-01-18 11:41:15--  https://api.python.langchain.com/en/stable/chains/langchain.chains.graph_qa.nebulagraph.NebulaGraphQAChain.html\n",
            "Reusing existing connection to api.python.langchain.com:443.\n",
            "HTTP request sent, awaiting response... 200 OK\n",
            "Length: unspecified [text/html]\n",
            "Saving to: ‘docs/api.python.langchain.com/en/stable/chains/langchain.chains.graph_qa.nebulagraph.NebulaGraphQAChain.html’\n",
            "\n",
            "api.python.langchai     [ <=>                ] 171.75K  --.-KB/s    in 0.01s   \n",
            "\n",
            "2024-01-18 11:41:15 (12.2 MB/s) - ‘docs/api.python.langchain.com/en/stable/chains/langchain.chains.graph_qa.nebulagraph.NebulaGraphQAChain.html’ saved [175867]\n",
            "\n",
            "--2024-01-18 11:41:15--  https://api.python.langchain.com/en/stable/chains/langchain.chains.graph_qa.neptune_cypher.NeptuneOpenCypherQAChain.html\n",
            "Reusing existing connection to api.python.langchain.com:443.\n",
            "HTTP request sent, awaiting response... 200 OK\n",
            "Length: unspecified [text/html]\n",
            "Saving to: ‘docs/api.python.langchain.com/en/stable/chains/langchain.chains.graph_qa.neptune_cypher.NeptuneOpenCypherQAChain.html’\n",
            "\n",
            "api.python.langchai     [ <=>                ] 172.61K  --.-KB/s    in 0.004s  \n",
            "\n",
            "2024-01-18 11:41:15 (40.0 MB/s) - ‘docs/api.python.langchain.com/en/stable/chains/langchain.chains.graph_qa.neptune_cypher.NeptuneOpenCypherQAChain.html’ saved [176750]\n",
            "\n",
            "--2024-01-18 11:41:15--  https://api.python.langchain.com/en/stable/chains/langchain.chains.graph_qa.sparql.GraphSparqlQAChain.html\n",
            "Reusing existing connection to api.python.langchain.com:443.\n",
            "HTTP request sent, awaiting response... 200 OK\n",
            "Length: unspecified [text/html]\n",
            "Saving to: ‘docs/api.python.langchain.com/en/stable/chains/langchain.chains.graph_qa.sparql.GraphSparqlQAChain.html’\n",
            "\n",
            "api.python.langchai     [ <=>                ] 181.49K  --.-KB/s    in 0.007s  \n",
            "\n",
            "2024-01-18 11:41:15 (24.5 MB/s) - ‘docs/api.python.langchain.com/en/stable/chains/langchain.chains.graph_qa.sparql.GraphSparqlQAChain.html’ saved [185846]\n",
            "\n",
            "--2024-01-18 11:41:15--  https://api.python.langchain.com/en/stable/chains/langchain.chains.hyde.base.HypotheticalDocumentEmbedder.html\n",
            "Reusing existing connection to api.python.langchain.com:443.\n",
            "HTTP request sent, awaiting response... 200 OK\n",
            "Length: unspecified [text/html]\n",
            "Saving to: ‘docs/api.python.langchain.com/en/stable/chains/langchain.chains.hyde.base.HypotheticalDocumentEmbedder.html’\n",
            "\n",
            "api.python.langchai     [ <=>                ] 171.10K  --.-KB/s    in 0.004s  \n",
            "\n",
            "2024-01-18 11:41:15 (41.6 MB/s) - ‘docs/api.python.langchain.com/en/stable/chains/langchain.chains.hyde.base.HypotheticalDocumentEmbedder.html’ saved [175206]\n",
            "\n",
            "--2024-01-18 11:41:15--  https://api.python.langchain.com/en/stable/chains/langchain.chains.llm.LLMChain.html\n",
            "Reusing existing connection to api.python.langchain.com:443.\n",
            "HTTP request sent, awaiting response... 200 OK\n",
            "Length: unspecified [text/html]\n",
            "Saving to: ‘docs/api.python.langchain.com/en/stable/chains/langchain.chains.llm.LLMChain.html’\n",
            "\n",
            "api.python.langchai     [ <=>                ] 202.29K  --.-KB/s    in 0.005s  \n",
            "\n",
            "2024-01-18 11:41:15 (40.1 MB/s) - ‘docs/api.python.langchain.com/en/stable/chains/langchain.chains.llm.LLMChain.html’ saved [207150]\n",
            "\n",
            "--2024-01-18 11:41:15--  https://api.python.langchain.com/en/stable/chains/langchain.chains.llm_checker.base.LLMCheckerChain.html\n",
            "Reusing existing connection to api.python.langchain.com:443.\n",
            "HTTP request sent, awaiting response... 200 OK\n",
            "Length: unspecified [text/html]\n",
            "Saving to: ‘docs/api.python.langchain.com/en/stable/chains/langchain.chains.llm_checker.base.LLMCheckerChain.html’\n",
            "\n",
            "api.python.langchai     [ <=>                ] 172.15K  --.-KB/s    in 0.004s  \n",
            "\n",
            "2024-01-18 11:41:15 (38.4 MB/s) - ‘docs/api.python.langchain.com/en/stable/chains/langchain.chains.llm_checker.base.LLMCheckerChain.html’ saved [176280]\n",
            "\n",
            "--2024-01-18 11:41:15--  https://api.python.langchain.com/en/stable/chains/langchain.chains.llm_math.base.LLMMathChain.html\n",
            "Reusing existing connection to api.python.langchain.com:443.\n",
            "HTTP request sent, awaiting response... 200 OK\n",
            "Length: unspecified [text/html]\n",
            "Saving to: ‘docs/api.python.langchain.com/en/stable/chains/langchain.chains.llm_math.base.LLMMathChain.html’\n",
            "\n",
            "api.python.langchai     [ <=>                ] 165.94K  --.-KB/s    in 0.006s  \n",
            "\n",
            "2024-01-18 11:41:15 (26.3 MB/s) - ‘docs/api.python.langchain.com/en/stable/chains/langchain.chains.llm_math.base.LLMMathChain.html’ saved [169919]\n",
            "\n",
            "--2024-01-18 11:41:15--  https://api.python.langchain.com/en/stable/chains/langchain.chains.llm_requests.LLMRequestsChain.html\n",
            "Reusing existing connection to api.python.langchain.com:443.\n",
            "HTTP request sent, awaiting response... 200 OK\n",
            "Length: unspecified [text/html]\n",
            "Saving to: ‘docs/api.python.langchain.com/en/stable/chains/langchain.chains.llm_requests.LLMRequestsChain.html’\n",
            "\n",
            "api.python.langchai     [ <=>                ] 159.55K  --.-KB/s    in 0.002s  \n",
            "\n",
            "2024-01-18 11:41:15 (76.1 MB/s) - ‘docs/api.python.langchain.com/en/stable/chains/langchain.chains.llm_requests.LLMRequestsChain.html’ saved [163381]\n",
            "\n",
            "--2024-01-18 11:41:15--  https://api.python.langchain.com/en/stable/chains/langchain.chains.llm_summarization_checker.base.LLMSummarizationCheckerChain.html\n",
            "Reusing existing connection to api.python.langchain.com:443.\n",
            "HTTP request sent, awaiting response... 200 OK\n",
            "Length: unspecified [text/html]\n",
            "Saving to: ‘docs/api.python.langchain.com/en/stable/chains/langchain.chains.llm_summarization_checker.base.LLMSummarizationCheckerChain.html’\n",
            "\n",
            "api.python.langchai     [ <=>                ] 188.75K  --.-KB/s    in 0.004s  \n",
            "\n",
            "2024-01-18 11:41:15 (43.9 MB/s) - ‘docs/api.python.langchain.com/en/stable/chains/langchain.chains.llm_summarization_checker.base.LLMSummarizationCheckerChain.html’ saved [193282]\n",
            "\n",
            "--2024-01-18 11:41:15--  https://api.python.langchain.com/en/stable/chains/langchain.chains.mapreduce.MapReduceChain.html\n",
            "Reusing existing connection to api.python.langchain.com:443.\n",
            "HTTP request sent, awaiting response... 200 OK\n",
            "Length: unspecified [text/html]\n",
            "Saving to: ‘docs/api.python.langchain.com/en/stable/chains/langchain.chains.mapreduce.MapReduceChain.html’\n",
            "\n",
            "api.python.langchai     [ <=>                ] 163.39K  --.-KB/s    in 0.004s  \n",
            "\n",
            "2024-01-18 11:41:15 (43.2 MB/s) - ‘docs/api.python.langchain.com/en/stable/chains/langchain.chains.mapreduce.MapReduceChain.html’ saved [167314]\n",
            "\n",
            "--2024-01-18 11:41:15--  https://api.python.langchain.com/en/stable/chains/langchain.chains.moderation.OpenAIModerationChain.html\n",
            "Reusing existing connection to api.python.langchain.com:443.\n",
            "HTTP request sent, awaiting response... 200 OK\n",
            "Length: unspecified [text/html]\n",
            "Saving to: ‘docs/api.python.langchain.com/en/stable/chains/langchain.chains.moderation.OpenAIModerationChain.html’\n",
            "\n",
            "api.python.langchai     [ <=>                ] 161.48K  --.-KB/s    in 0.005s  \n",
            "\n",
            "2024-01-18 11:41:15 (30.7 MB/s) - ‘docs/api.python.langchain.com/en/stable/chains/langchain.chains.moderation.OpenAIModerationChain.html’ saved [165356]\n",
            "\n",
            "--2024-01-18 11:41:15--  https://api.python.langchain.com/en/stable/chains/langchain.chains.natbot.base.NatBotChain.html\n",
            "Reusing existing connection to api.python.langchain.com:443.\n",
            "HTTP request sent, awaiting response... 200 OK\n",
            "Length: unspecified [text/html]\n",
            "Saving to: ‘docs/api.python.langchain.com/en/stable/chains/langchain.chains.natbot.base.NatBotChain.html’\n",
            "\n",
            "api.python.langchai     [ <=>                ] 164.60K  --.-KB/s    in 0.009s  \n",
            "\n",
            "2024-01-18 11:41:15 (17.5 MB/s) - ‘docs/api.python.langchain.com/en/stable/chains/langchain.chains.natbot.base.NatBotChain.html’ saved [168546]\n",
            "\n",
            "--2024-01-18 11:41:15--  https://api.python.langchain.com/en/stable/chains/langchain.chains.natbot.crawler.Crawler.html\n",
            "Reusing existing connection to api.python.langchain.com:443.\n",
            "HTTP request sent, awaiting response... 200 OK\n",
            "Length: unspecified [text/html]\n",
            "Saving to: ‘docs/api.python.langchain.com/en/stable/chains/langchain.chains.natbot.crawler.Crawler.html’\n",
            "\n",
            "api.python.langchai     [ <=>                ]  19.74K  --.-KB/s    in 0s      \n",
            "\n",
            "2024-01-18 11:41:15 (47.6 MB/s) - ‘docs/api.python.langchain.com/en/stable/chains/langchain.chains.natbot.crawler.Crawler.html’ saved [20210]\n",
            "\n",
            "--2024-01-18 11:41:15--  https://api.python.langchain.com/en/stable/chains/langchain.chains.natbot.crawler.ElementInViewPort.html\n",
            "Reusing existing connection to api.python.langchain.com:443.\n",
            "HTTP request sent, awaiting response... 200 OK\n",
            "Length: unspecified [text/html]\n",
            "Saving to: ‘docs/api.python.langchain.com/en/stable/chains/langchain.chains.natbot.crawler.ElementInViewPort.html’\n",
            "\n",
            "api.python.langchai     [ <=>                ]  15.70K  --.-KB/s    in 0s      \n",
            "\n",
            "2024-01-18 11:41:15 (37.8 MB/s) - ‘docs/api.python.langchain.com/en/stable/chains/langchain.chains.natbot.crawler.ElementInViewPort.html’ saved [16077]\n",
            "\n",
            "--2024-01-18 11:41:15--  https://api.python.langchain.com/en/stable/chains/langchain.chains.openai_functions.citation_fuzzy_match.FactWithEvidence.html\n",
            "Reusing existing connection to api.python.langchain.com:443.\n",
            "HTTP request sent, awaiting response... 200 OK\n",
            "Length: unspecified [text/html]\n",
            "Saving to: ‘docs/api.python.langchain.com/en/stable/chains/langchain.chains.openai_functions.citation_fuzzy_match.FactWithEvidence.html’\n",
            "\n",
            "api.python.langchai     [ <=>                ]  41.60K  --.-KB/s    in 0.001s  \n",
            "\n",
            "2024-01-18 11:41:15 (36.0 MB/s) - ‘docs/api.python.langchain.com/en/stable/chains/langchain.chains.openai_functions.citation_fuzzy_match.FactWithEvidence.html’ saved [42595]\n",
            "\n",
            "--2024-01-18 11:41:15--  https://api.python.langchain.com/en/stable/chains/langchain.chains.openai_functions.citation_fuzzy_match.QuestionAnswer.html\n",
            "Reusing existing connection to api.python.langchain.com:443.\n",
            "HTTP request sent, awaiting response... 200 OK\n",
            "Length: unspecified [text/html]\n",
            "Saving to: ‘docs/api.python.langchain.com/en/stable/chains/langchain.chains.openai_functions.citation_fuzzy_match.QuestionAnswer.html’\n",
            "\n",
            "api.python.langchai     [ <=>                ]  40.61K  --.-KB/s    in 0.001s  \n",
            "\n",
            "2024-01-18 11:41:15 (39.4 MB/s) - ‘docs/api.python.langchain.com/en/stable/chains/langchain.chains.openai_functions.citation_fuzzy_match.QuestionAnswer.html’ saved [41582]\n",
            "\n",
            "--2024-01-18 11:41:15--  https://api.python.langchain.com/en/stable/chains/langchain.chains.openai_functions.openapi.SimpleRequestChain.html\n",
            "Reusing existing connection to api.python.langchain.com:443.\n",
            "HTTP request sent, awaiting response... 200 OK\n",
            "Length: unspecified [text/html]\n",
            "Saving to: ‘docs/api.python.langchain.com/en/stable/chains/langchain.chains.openai_functions.openapi.SimpleRequestChain.html’\n",
            "\n",
            "api.python.langchai     [ <=>                ] 162.18K  --.-KB/s    in 0.003s  \n",
            "\n",
            "2024-01-18 11:41:15 (49.3 MB/s) - ‘docs/api.python.langchain.com/en/stable/chains/langchain.chains.openai_functions.openapi.SimpleRequestChain.html’ saved [166068]\n",
            "\n",
            "--2024-01-18 11:41:15--  https://api.python.langchain.com/en/stable/chains/langchain.chains.openai_functions.qa_with_structure.AnswerWithSources.html\n",
            "Reusing existing connection to api.python.langchain.com:443.\n",
            "HTTP request sent, awaiting response... 200 OK\n",
            "Length: unspecified [text/html]\n",
            "Saving to: ‘docs/api.python.langchain.com/en/stable/chains/langchain.chains.openai_functions.qa_with_structure.AnswerWithSources.html’\n",
            "\n",
            "api.python.langchai     [ <=>                ]  40.15K  --.-KB/s    in 0.001s  \n",
            "\n",
            "2024-01-18 11:41:15 (57.1 MB/s) - ‘docs/api.python.langchain.com/en/stable/chains/langchain.chains.openai_functions.qa_with_structure.AnswerWithSources.html’ saved [41117]\n",
            "\n",
            "--2024-01-18 11:41:15--  https://api.python.langchain.com/en/stable/chains/langchain.chains.prompt_selector.BasePromptSelector.html\n",
            "Reusing existing connection to api.python.langchain.com:443.\n",
            "HTTP request sent, awaiting response... 200 OK\n",
            "Length: unspecified [text/html]\n",
            "Saving to: ‘docs/api.python.langchain.com/en/stable/chains/langchain.chains.prompt_selector.BasePromptSelector.html’\n",
            "\n",
            "api.python.langchai     [ <=>                ]  39.63K  --.-KB/s    in 0s      \n",
            "\n",
            "2024-01-18 11:41:15 (270 MB/s) - ‘docs/api.python.langchain.com/en/stable/chains/langchain.chains.prompt_selector.BasePromptSelector.html’ saved [40578]\n",
            "\n",
            "--2024-01-18 11:41:15--  https://api.python.langchain.com/en/stable/chains/langchain.chains.prompt_selector.ConditionalPromptSelector.html\n",
            "Reusing existing connection to api.python.langchain.com:443.\n",
            "HTTP request sent, awaiting response... 200 OK\n",
            "Length: unspecified [text/html]\n",
            "Saving to: ‘docs/api.python.langchain.com/en/stable/chains/langchain.chains.prompt_selector.ConditionalPromptSelector.html’\n",
            "\n",
            "api.python.langchai     [ <=>                ]  43.37K  --.-KB/s    in 0.001s  \n",
            "\n",
            "2024-01-18 11:41:15 (51.8 MB/s) - ‘docs/api.python.langchain.com/en/stable/chains/langchain.chains.prompt_selector.ConditionalPromptSelector.html’ saved [44412]\n",
            "\n",
            "--2024-01-18 11:41:15--  https://api.python.langchain.com/en/stable/chains/langchain.chains.qa_generation.base.QAGenerationChain.html\n",
            "Reusing existing connection to api.python.langchain.com:443.\n",
            "HTTP request sent, awaiting response... 200 OK\n",
            "Length: unspecified [text/html]\n",
            "Saving to: ‘docs/api.python.langchain.com/en/stable/chains/langchain.chains.qa_generation.base.QAGenerationChain.html’\n",
            "\n",
            "api.python.langchai     [ <=>                ] 166.02K  --.-KB/s    in 0.001s  \n",
            "\n",
            "2024-01-18 11:41:15 (118 MB/s) - ‘docs/api.python.langchain.com/en/stable/chains/langchain.chains.qa_generation.base.QAGenerationChain.html’ saved [170009]\n",
            "\n",
            "--2024-01-18 11:41:15--  https://api.python.langchain.com/en/stable/chains/langchain.chains.qa_with_sources.base.BaseQAWithSourcesChain.html\n",
            "Reusing existing connection to api.python.langchain.com:443.\n",
            "HTTP request sent, awaiting response... 200 OK\n",
            "Length: unspecified [text/html]\n",
            "Saving to: ‘docs/api.python.langchain.com/en/stable/chains/langchain.chains.qa_with_sources.base.BaseQAWithSourcesChain.html’\n",
            "\n",
            "api.python.langchai     [ <=>                ] 197.51K  --.-KB/s    in 0.01s   \n",
            "\n",
            "2024-01-18 11:41:15 (17.9 MB/s) - ‘docs/api.python.langchain.com/en/stable/chains/langchain.chains.qa_with_sources.base.BaseQAWithSourcesChain.html’ saved [202250]\n",
            "\n",
            "--2024-01-18 11:41:15--  https://api.python.langchain.com/en/stable/chains/langchain.chains.qa_with_sources.base.QAWithSourcesChain.html\n",
            "Reusing existing connection to api.python.langchain.com:443.\n",
            "HTTP request sent, awaiting response... 200 OK\n",
            "Length: unspecified [text/html]\n",
            "Saving to: ‘docs/api.python.langchain.com/en/stable/chains/langchain.chains.qa_with_sources.base.QAWithSourcesChain.html’\n",
            "\n",
            "api.python.langchai     [ <=>                ] 196.68K  --.-KB/s    in 0.004s  \n",
            "\n",
            "2024-01-18 11:41:16 (42.8 MB/s) - ‘docs/api.python.langchain.com/en/stable/chains/langchain.chains.qa_with_sources.base.QAWithSourcesChain.html’ saved [201398]\n",
            "\n",
            "--2024-01-18 11:41:16--  https://api.python.langchain.com/en/stable/chains/langchain.chains.qa_with_sources.loading.LoadingCallable.html\n",
            "Reusing existing connection to api.python.langchain.com:443.\n",
            "HTTP request sent, awaiting response... 200 OK\n",
            "Length: unspecified [text/html]\n",
            "Saving to: ‘docs/api.python.langchain.com/en/stable/chains/langchain.chains.qa_with_sources.loading.LoadingCallable.html’\n",
            "\n",
            "api.python.langchai     [ <=>                ]  12.22K  --.-KB/s    in 0s      \n",
            "\n",
            "2024-01-18 11:41:16 (67.9 MB/s) - ‘docs/api.python.langchain.com/en/stable/chains/langchain.chains.qa_with_sources.loading.LoadingCallable.html’ saved [12510]\n",
            "\n",
            "--2024-01-18 11:41:16--  https://api.python.langchain.com/en/stable/chains/langchain.chains.qa_with_sources.retrieval.RetrievalQAWithSourcesChain.html\n",
            "Reusing existing connection to api.python.langchain.com:443.\n",
            "HTTP request sent, awaiting response... 200 OK\n",
            "Length: unspecified [text/html]\n",
            "Saving to: ‘docs/api.python.langchain.com/en/stable/chains/langchain.chains.qa_with_sources.retrieval.RetrievalQAWithSourcesChain.html’\n",
            "\n",
            "api.python.langchai     [ <=>                ] 202.78K  --.-KB/s    in 0.005s  \n",
            "\n",
            "2024-01-18 11:41:16 (38.9 MB/s) - ‘docs/api.python.langchain.com/en/stable/chains/langchain.chains.qa_with_sources.retrieval.RetrievalQAWithSourcesChain.html’ saved [207646]\n",
            "\n",
            "--2024-01-18 11:41:16--  https://api.python.langchain.com/en/stable/chains/langchain.chains.qa_with_sources.vector_db.VectorDBQAWithSourcesChain.html\n",
            "Reusing existing connection to api.python.langchain.com:443.\n",
            "HTTP request sent, awaiting response... 200 OK\n",
            "Length: unspecified [text/html]\n",
            "Saving to: ‘docs/api.python.langchain.com/en/stable/chains/langchain.chains.qa_with_sources.vector_db.VectorDBQAWithSourcesChain.html’\n",
            "\n",
            "api.python.langchai     [ <=>                ] 202.96K  --.-KB/s    in 0.005s  \n",
            "\n",
            "2024-01-18 11:41:16 (38.1 MB/s) - ‘docs/api.python.langchain.com/en/stable/chains/langchain.chains.qa_with_sources.vector_db.VectorDBQAWithSourcesChain.html’ saved [207832]\n",
            "\n",
            "--2024-01-18 11:41:16--  https://api.python.langchain.com/en/stable/chains/langchain.chains.query_constructor.base.StructuredQueryOutputParser.html\n",
            "Reusing existing connection to api.python.langchain.com:443.\n",
            "HTTP request sent, awaiting response... 200 OK\n",
            "Length: unspecified [text/html]\n",
            "Saving to: ‘docs/api.python.langchain.com/en/stable/chains/langchain.chains.query_constructor.base.StructuredQueryOutputParser.html’\n",
            "\n",
            "api.python.langchai     [ <=>                ] 129.90K  --.-KB/s    in 0.003s  \n",
            "\n",
            "2024-01-18 11:41:16 (38.3 MB/s) - ‘docs/api.python.langchain.com/en/stable/chains/langchain.chains.query_constructor.base.StructuredQueryOutputParser.html’ saved [133018]\n",
            "\n",
            "--2024-01-18 11:41:16--  https://api.python.langchain.com/en/stable/chains/langchain.chains.query_constructor.ir.Comparator.html\n",
            "Reusing existing connection to api.python.langchain.com:443.\n",
            "HTTP request sent, awaiting response... 200 OK\n",
            "Length: unspecified [text/html]\n",
            "Saving to: ‘docs/api.python.langchain.com/en/stable/chains/langchain.chains.query_constructor.ir.Comparator.html’\n",
            "\n",
            "api.python.langchai     [ <=>                ]  16.68K  --.-KB/s    in 0s      \n",
            "\n",
            "2024-01-18 11:41:16 (194 MB/s) - ‘docs/api.python.langchain.com/en/stable/chains/langchain.chains.query_constructor.ir.Comparator.html’ saved [17076]\n",
            "\n",
            "--2024-01-18 11:41:16--  https://api.python.langchain.com/en/stable/chains/langchain.chains.query_constructor.ir.Comparison.html\n",
            "Reusing existing connection to api.python.langchain.com:443.\n",
            "HTTP request sent, awaiting response... 200 OK\n",
            "Length: unspecified [text/html]\n",
            "Saving to: ‘docs/api.python.langchain.com/en/stable/chains/langchain.chains.query_constructor.ir.Comparison.html’\n",
            "\n",
            "api.python.langchai     [ <=>                ]  41.48K  --.-KB/s    in 0s      \n",
            "\n",
            "2024-01-18 11:41:16 (318 MB/s) - ‘docs/api.python.langchain.com/en/stable/chains/langchain.chains.query_constructor.ir.Comparison.html’ saved [42478]\n",
            "\n",
            "--2024-01-18 11:41:16--  https://api.python.langchain.com/en/stable/chains/langchain.chains.query_constructor.ir.Expr.html\n",
            "Reusing existing connection to api.python.langchain.com:443.\n",
            "HTTP request sent, awaiting response... 200 OK\n",
            "Length: unspecified [text/html]\n",
            "Saving to: ‘docs/api.python.langchain.com/en/stable/chains/langchain.chains.query_constructor.ir.Expr.html’\n",
            "\n",
            "api.python.langchai     [ <=>                ]  39.06K  --.-KB/s    in 0.001s  \n",
            "\n",
            "2024-01-18 11:41:16 (43.2 MB/s) - ‘docs/api.python.langchain.com/en/stable/chains/langchain.chains.query_constructor.ir.Expr.html’ saved [39994]\n",
            "\n",
            "--2024-01-18 11:41:16--  https://api.python.langchain.com/en/stable/chains/langchain.chains.query_constructor.ir.FilterDirective.html\n",
            "Reusing existing connection to api.python.langchain.com:443.\n",
            "HTTP request sent, awaiting response... 200 OK\n",
            "Length: unspecified [text/html]\n",
            "Saving to: ‘docs/api.python.langchain.com/en/stable/chains/langchain.chains.query_constructor.ir.FilterDirective.html’\n",
            "\n",
            "api.python.langchai     [ <=>                ]  39.54K  --.-KB/s    in 0s      \n",
            "\n",
            "2024-01-18 11:41:16 (320 MB/s) - ‘docs/api.python.langchain.com/en/stable/chains/langchain.chains.query_constructor.ir.FilterDirective.html’ saved [40492]\n",
            "\n",
            "--2024-01-18 11:41:16--  https://api.python.langchain.com/en/stable/chains/langchain.chains.query_constructor.ir.Operation.html\n",
            "Reusing existing connection to api.python.langchain.com:443.\n",
            "HTTP request sent, awaiting response... 200 OK\n",
            "Length: unspecified [text/html]\n",
            "Saving to: ‘docs/api.python.langchain.com/en/stable/chains/langchain.chains.query_constructor.ir.Operation.html’\n",
            "\n",
            "api.python.langchai     [ <=>                ]  41.14K  --.-KB/s    in 0.003s  \n",
            "\n",
            "2024-01-18 11:41:16 (15.7 MB/s) - ‘docs/api.python.langchain.com/en/stable/chains/langchain.chains.query_constructor.ir.Operation.html’ saved [42124]\n",
            "\n",
            "--2024-01-18 11:41:16--  https://api.python.langchain.com/en/stable/chains/langchain.chains.query_constructor.ir.Operator.html\n",
            "Reusing existing connection to api.python.langchain.com:443.\n",
            "HTTP request sent, awaiting response... 200 OK\n",
            "Length: unspecified [text/html]\n",
            "Saving to: ‘docs/api.python.langchain.com/en/stable/chains/langchain.chains.query_constructor.ir.Operator.html’\n",
            "\n",
            "api.python.langchai     [ <=>                ]  13.33K  --.-KB/s    in 0s      \n",
            "\n",
            "2024-01-18 11:41:16 (39.1 MB/s) - ‘docs/api.python.langchain.com/en/stable/chains/langchain.chains.query_constructor.ir.Operator.html’ saved [13647]\n",
            "\n",
            "--2024-01-18 11:41:16--  https://api.python.langchain.com/en/stable/chains/langchain.chains.query_constructor.ir.StructuredQuery.html\n",
            "Reusing existing connection to api.python.langchain.com:443.\n",
            "HTTP request sent, awaiting response... 200 OK\n",
            "Length: unspecified [text/html]\n",
            "Saving to: ‘docs/api.python.langchain.com/en/stable/chains/langchain.chains.query_constructor.ir.StructuredQuery.html’\n",
            "\n",
            "api.python.langchai     [ <=>                ]  42.07K  --.-KB/s    in 0.001s  \n",
            "\n",
            "2024-01-18 11:41:16 (48.0 MB/s) - ‘docs/api.python.langchain.com/en/stable/chains/langchain.chains.query_constructor.ir.StructuredQuery.html’ saved [43081]\n",
            "\n",
            "--2024-01-18 11:41:16--  https://api.python.langchain.com/en/stable/chains/langchain.chains.query_constructor.ir.Visitor.html\n",
            "Reusing existing connection to api.python.langchain.com:443.\n",
            "HTTP request sent, awaiting response... 200 OK\n",
            "Length: unspecified [text/html]\n",
            "Saving to: ‘docs/api.python.langchain.com/en/stable/chains/langchain.chains.query_constructor.ir.Visitor.html’\n",
            "\n",
            "api.python.langchai     [ <=>                ]  16.96K  --.-KB/s    in 0s      \n",
            "\n",
            "2024-01-18 11:41:16 (252 MB/s) - ‘docs/api.python.langchain.com/en/stable/chains/langchain.chains.query_constructor.ir.Visitor.html’ saved [17366]\n",
            "\n",
            "--2024-01-18 11:41:16--  https://api.python.langchain.com/en/stable/chains/langchain.chains.query_constructor.parser.ISO8601Date.html\n",
            "Reusing existing connection to api.python.langchain.com:443.\n",
            "HTTP request sent, awaiting response... 200 OK\n",
            "Length: unspecified [text/html]\n",
            "Saving to: ‘docs/api.python.langchain.com/en/stable/chains/langchain.chains.query_constructor.parser.ISO8601Date.html’\n",
            "\n",
            "api.python.langchai     [ <=>                ]  25.43K  --.-KB/s    in 0.001s  \n",
            "\n",
            "2024-01-18 11:41:16 (33.2 MB/s) - ‘docs/api.python.langchain.com/en/stable/chains/langchain.chains.query_constructor.parser.ISO8601Date.html’ saved [26037]\n",
            "\n",
            "--2024-01-18 11:41:16--  https://api.python.langchain.com/en/stable/chains/langchain.chains.query_constructor.schema.AttributeInfo.html\n",
            "Reusing existing connection to api.python.langchain.com:443.\n",
            "HTTP request sent, awaiting response... 200 OK\n",
            "Length: unspecified [text/html]\n",
            "Saving to: ‘docs/api.python.langchain.com/en/stable/chains/langchain.chains.query_constructor.schema.AttributeInfo.html’\n",
            "\n",
            "api.python.langchai     [ <=>                ]  42.44K  --.-KB/s    in 0s      \n",
            "\n",
            "2024-01-18 11:41:16 (324 MB/s) - ‘docs/api.python.langchain.com/en/stable/chains/langchain.chains.query_constructor.schema.AttributeInfo.html’ saved [43455]\n",
            "\n",
            "--2024-01-18 11:41:16--  https://api.python.langchain.com/en/stable/chains/langchain.chains.retrieval_qa.base.BaseRetrievalQA.html\n",
            "Reusing existing connection to api.python.langchain.com:443.\n",
            "HTTP request sent, awaiting response... 200 OK\n",
            "Length: unspecified [text/html]\n",
            "Saving to: ‘docs/api.python.langchain.com/en/stable/chains/langchain.chains.retrieval_qa.base.BaseRetrievalQA.html’\n",
            "\n",
            "api.python.langchai     [ <=>                ] 165.56K  --.-KB/s    in 0.004s  \n",
            "\n",
            "2024-01-18 11:41:16 (38.6 MB/s) - ‘docs/api.python.langchain.com/en/stable/chains/langchain.chains.retrieval_qa.base.BaseRetrievalQA.html’ saved [169537]\n",
            "\n",
            "--2024-01-18 11:41:16--  https://api.python.langchain.com/en/stable/chains/langchain.chains.retrieval_qa.base.RetrievalQA.html\n",
            "Reusing existing connection to api.python.langchain.com:443.\n",
            "HTTP request sent, awaiting response... 200 OK\n",
            "Length: unspecified [text/html]\n",
            "Saving to: ‘docs/api.python.langchain.com/en/stable/chains/langchain.chains.retrieval_qa.base.RetrievalQA.html’\n",
            "\n",
            "api.python.langchai     [ <=>                ] 169.76K  --.-KB/s    in 0.005s  \n",
            "\n",
            "2024-01-18 11:41:16 (34.3 MB/s) - ‘docs/api.python.langchain.com/en/stable/chains/langchain.chains.retrieval_qa.base.RetrievalQA.html’ saved [173833]\n",
            "\n",
            "--2024-01-18 11:41:16--  https://api.python.langchain.com/en/stable/chains/langchain.chains.retrieval_qa.base.VectorDBQA.html\n",
            "Reusing existing connection to api.python.langchain.com:443.\n",
            "HTTP request sent, awaiting response... 200 OK\n",
            "Length: unspecified [text/html]\n",
            "Saving to: ‘docs/api.python.langchain.com/en/stable/chains/langchain.chains.retrieval_qa.base.VectorDBQA.html’\n",
            "\n",
            "api.python.langchai     [ <=>                ] 167.90K  --.-KB/s    in 0.004s  \n",
            "\n",
            "2024-01-18 11:41:16 (39.1 MB/s) - ‘docs/api.python.langchain.com/en/stable/chains/langchain.chains.retrieval_qa.base.VectorDBQA.html’ saved [171925]\n",
            "\n",
            "--2024-01-18 11:41:16--  https://api.python.langchain.com/en/stable/chains/langchain.chains.router.base.MultiRouteChain.html\n",
            "Reusing existing connection to api.python.langchain.com:443.\n",
            "HTTP request sent, awaiting response... 200 OK\n",
            "Length: unspecified [text/html]\n",
            "Saving to: ‘docs/api.python.langchain.com/en/stable/chains/langchain.chains.router.base.MultiRouteChain.html’\n",
            "\n",
            "api.python.langchai     [ <=>                ] 159.78K  --.-KB/s    in 0.004s  \n",
            "\n",
            "2024-01-18 11:41:16 (39.3 MB/s) - ‘docs/api.python.langchain.com/en/stable/chains/langchain.chains.router.base.MultiRouteChain.html’ saved [163613]\n",
            "\n",
            "--2024-01-18 11:41:16--  https://api.python.langchain.com/en/stable/chains/langchain.chains.router.base.Route.html\n",
            "Reusing existing connection to api.python.langchain.com:443.\n",
            "HTTP request sent, awaiting response... 200 OK\n",
            "Length: unspecified [text/html]\n",
            "Saving to: ‘docs/api.python.langchain.com/en/stable/chains/langchain.chains.router.base.Route.html’\n",
            "\n",
            "api.python.langchai     [ <=>                ]  14.31K  --.-KB/s    in 0.001s  \n",
            "\n",
            "2024-01-18 11:41:16 (17.9 MB/s) - ‘docs/api.python.langchain.com/en/stable/chains/langchain.chains.router.base.Route.html’ saved [14655]\n",
            "\n",
            "--2024-01-18 11:41:16--  https://api.python.langchain.com/en/stable/chains/langchain.chains.router.base.RouterChain.html\n",
            "Reusing existing connection to api.python.langchain.com:443.\n",
            "HTTP request sent, awaiting response... 200 OK\n",
            "Length: unspecified [text/html]\n",
            "Saving to: ‘docs/api.python.langchain.com/en/stable/chains/langchain.chains.router.base.RouterChain.html’\n",
            "\n",
            "api.python.langchai     [ <=>                ] 162.83K  --.-KB/s    in 0.004s  \n",
            "\n",
            "2024-01-18 11:41:16 (38.5 MB/s) - ‘docs/api.python.langchain.com/en/stable/chains/langchain.chains.router.base.RouterChain.html’ saved [166742]\n",
            "\n",
            "--2024-01-18 11:41:16--  https://api.python.langchain.com/en/stable/chains/langchain.chains.router.embedding_router.EmbeddingRouterChain.html\n",
            "Reusing existing connection to api.python.langchain.com:443.\n",
            "HTTP request sent, awaiting response... 200 OK\n",
            "Length: unspecified [text/html]\n",
            "Saving to: ‘docs/api.python.langchain.com/en/stable/chains/langchain.chains.router.embedding_router.EmbeddingRouterChain.html’\n",
            "\n",
            "api.python.langchai     [ <=>                ] 169.69K  --.-KB/s    in 0.004s  \n",
            "\n",
            "2024-01-18 11:41:16 (38.0 MB/s) - ‘docs/api.python.langchain.com/en/stable/chains/langchain.chains.router.embedding_router.EmbeddingRouterChain.html’ saved [173766]\n",
            "\n",
            "--2024-01-18 11:41:16--  https://api.python.langchain.com/en/stable/chains/langchain.chains.router.llm_router.LLMRouterChain.html\n",
            "Reusing existing connection to api.python.langchain.com:443.\n",
            "HTTP request sent, awaiting response... 200 OK\n",
            "Length: unspecified [text/html]\n",
            "Saving to: ‘docs/api.python.langchain.com/en/stable/chains/langchain.chains.router.llm_router.LLMRouterChain.html’\n",
            "\n",
            "api.python.langchai     [ <=>                ] 166.16K  --.-KB/s    in 0.004s  \n",
            "\n",
            "2024-01-18 11:41:16 (43.0 MB/s) - ‘docs/api.python.langchain.com/en/stable/chains/langchain.chains.router.llm_router.LLMRouterChain.html’ saved [170149]\n",
            "\n",
            "--2024-01-18 11:41:16--  https://api.python.langchain.com/en/stable/chains/langchain.chains.router.llm_router.RouterOutputParser.html\n",
            "Reusing existing connection to api.python.langchain.com:443.\n",
            "HTTP request sent, awaiting response... 200 OK\n",
            "Length: unspecified [text/html]\n",
            "Saving to: ‘docs/api.python.langchain.com/en/stable/chains/langchain.chains.router.llm_router.RouterOutputParser.html’\n",
            "\n",
            "api.python.langchai     [ <=>                ] 125.82K  --.-KB/s    in 0.007s  \n",
            "\n",
            "2024-01-18 11:41:16 (18.5 MB/s) - ‘docs/api.python.langchain.com/en/stable/chains/langchain.chains.router.llm_router.RouterOutputParser.html’ saved [128839]\n",
            "\n",
            "--2024-01-18 11:41:16--  https://api.python.langchain.com/en/stable/chains/langchain.chains.router.multi_prompt.MultiPromptChain.html\n",
            "Reusing existing connection to api.python.langchain.com:443.\n",
            "HTTP request sent, awaiting response... 200 OK\n",
            "Length: unspecified [text/html]\n",
            "Saving to: ‘docs/api.python.langchain.com/en/stable/chains/langchain.chains.router.multi_prompt.MultiPromptChain.html’\n",
            "\n",
            "api.python.langchai     [ <=>                ] 164.39K  --.-KB/s    in 0.007s  \n",
            "\n",
            "2024-01-18 11:41:16 (23.2 MB/s) - ‘docs/api.python.langchain.com/en/stable/chains/langchain.chains.router.multi_prompt.MultiPromptChain.html’ saved [168340]\n",
            "\n",
            "--2024-01-18 11:41:16--  https://api.python.langchain.com/en/stable/chains/langchain.chains.router.multi_retrieval_qa.MultiRetrievalQAChain.html\n",
            "Reusing existing connection to api.python.langchain.com:443.\n",
            "HTTP request sent, awaiting response... 200 OK\n",
            "Length: unspecified [text/html]\n",
            "Saving to: ‘docs/api.python.langchain.com/en/stable/chains/langchain.chains.router.multi_retrieval_qa.MultiRetrievalQAChain.html’\n",
            "\n",
            "api.python.langchai     [ <=>                ] 167.25K  --.-KB/s    in 0.004s  \n",
            "\n",
            "2024-01-18 11:41:16 (37.1 MB/s) - ‘docs/api.python.langchain.com/en/stable/chains/langchain.chains.router.multi_retrieval_qa.MultiRetrievalQAChain.html’ saved [171268]\n",
            "\n",
            "--2024-01-18 11:41:16--  https://api.python.langchain.com/en/stable/chains/langchain.chains.sequential.SequentialChain.html\n",
            "Reusing existing connection to api.python.langchain.com:443.\n",
            "HTTP request sent, awaiting response... 200 OK\n",
            "Length: unspecified [text/html]\n",
            "Saving to: ‘docs/api.python.langchain.com/en/stable/chains/langchain.chains.sequential.SequentialChain.html’\n",
            "\n",
            "api.python.langchai     [ <=>                ] 158.42K  --.-KB/s    in 0.008s  \n",
            "\n",
            "2024-01-18 11:41:16 (19.4 MB/s) - ‘docs/api.python.langchain.com/en/stable/chains/langchain.chains.sequential.SequentialChain.html’ saved [162220]\n",
            "\n",
            "--2024-01-18 11:41:16--  https://api.python.langchain.com/en/stable/chains/langchain.chains.sequential.SimpleSequentialChain.html\n",
            "Reusing existing connection to api.python.langchain.com:443.\n",
            "HTTP request sent, awaiting response... 200 OK\n",
            "Length: unspecified [text/html]\n",
            "Saving to: ‘docs/api.python.langchain.com/en/stable/chains/langchain.chains.sequential.SimpleSequentialChain.html’\n",
            "\n",
            "api.python.langchai     [ <=>                ] 159.76K  --.-KB/s    in 0.003s  \n",
            "\n",
            "2024-01-18 11:41:16 (46.7 MB/s) - ‘docs/api.python.langchain.com/en/stable/chains/langchain.chains.sequential.SimpleSequentialChain.html’ saved [163590]\n",
            "\n",
            "--2024-01-18 11:41:16--  https://api.python.langchain.com/en/stable/chains/langchain.chains.sql_database.query.SQLInput.html\n",
            "Reusing existing connection to api.python.langchain.com:443.\n",
            "HTTP request sent, awaiting response... 200 OK\n",
            "Length: unspecified [text/html]\n",
            "Saving to: ‘docs/api.python.langchain.com/en/stable/chains/langchain.chains.sql_database.query.SQLInput.html’\n",
            "\n",
            "api.python.langchai     [ <=>                ]  10.99K  --.-KB/s    in 0s      \n",
            "\n",
            "2024-01-18 11:41:16 (55.7 MB/s) - ‘docs/api.python.langchain.com/en/stable/chains/langchain.chains.sql_database.query.SQLInput.html’ saved [11254]\n",
            "\n",
            "--2024-01-18 11:41:16--  https://api.python.langchain.com/en/stable/chains/langchain.chains.sql_database.query.SQLInputWithTables.html\n",
            "Reusing existing connection to api.python.langchain.com:443.\n",
            "HTTP request sent, awaiting response... 200 OK\n",
            "Length: unspecified [text/html]\n",
            "Saving to: ‘docs/api.python.langchain.com/en/stable/chains/langchain.chains.sql_database.query.SQLInputWithTables.html’\n",
            "\n",
            "api.python.langchai     [ <=>                ]  11.74K  --.-KB/s    in 0s      \n",
            "\n",
            "2024-01-18 11:41:16 (70.9 MB/s) - ‘docs/api.python.langchain.com/en/stable/chains/langchain.chains.sql_database.query.SQLInputWithTables.html’ saved [12025]\n",
            "\n",
            "--2024-01-18 11:41:16--  https://api.python.langchain.com/en/stable/chains/langchain.chains.transform.TransformChain.html\n",
            "Reusing existing connection to api.python.langchain.com:443.\n",
            "HTTP request sent, awaiting response... 200 OK\n",
            "Length: unspecified [text/html]\n",
            "Saving to: ‘docs/api.python.langchain.com/en/stable/chains/langchain.chains.transform.TransformChain.html’\n",
            "\n",
            "api.python.langchai     [ <=>                ] 162.12K  --.-KB/s    in 0.004s  \n",
            "\n",
            "2024-01-18 11:41:16 (39.3 MB/s) - ‘docs/api.python.langchain.com/en/stable/chains/langchain.chains.transform.TransformChain.html’ saved [166012]\n",
            "\n",
            "--2024-01-18 11:41:16--  https://api.python.langchain.com/en/stable/chains/langchain.chains.combine_documents.reduce.acollapse_docs.html\n",
            "Reusing existing connection to api.python.langchain.com:443.\n",
            "HTTP request sent, awaiting response... 200 OK\n",
            "Length: unspecified [text/html]\n",
            "Saving to: ‘docs/api.python.langchain.com/en/stable/chains/langchain.chains.combine_documents.reduce.acollapse_docs.html’\n",
            "\n",
            "api.python.langchai     [ <=>                ]  13.25K  --.-KB/s    in 0.002s  \n",
            "\n",
            "2024-01-18 11:41:16 (7.47 MB/s) - ‘docs/api.python.langchain.com/en/stable/chains/langchain.chains.combine_documents.reduce.acollapse_docs.html’ saved [13571]\n",
            "\n",
            "--2024-01-18 11:41:16--  https://api.python.langchain.com/en/stable/chains/langchain.chains.combine_documents.reduce.collapse_docs.html\n",
            "Reusing existing connection to api.python.langchain.com:443.\n",
            "HTTP request sent, awaiting response... 200 OK\n",
            "Length: unspecified [text/html]\n",
            "Saving to: ‘docs/api.python.langchain.com/en/stable/chains/langchain.chains.combine_documents.reduce.collapse_docs.html’\n",
            "\n",
            "api.python.langchai     [ <=>                ]  13.12K  --.-KB/s    in 0.001s  \n",
            "\n",
            "2024-01-18 11:41:16 (21.3 MB/s) - ‘docs/api.python.langchain.com/en/stable/chains/langchain.chains.combine_documents.reduce.collapse_docs.html’ saved [13437]\n",
            "\n",
            "--2024-01-18 11:41:16--  https://api.python.langchain.com/en/stable/chains/langchain.chains.combine_documents.reduce.split_list_of_docs.html\n",
            "Reusing existing connection to api.python.langchain.com:443.\n",
            "HTTP request sent, awaiting response... 200 OK\n",
            "Length: unspecified [text/html]\n",
            "Saving to: ‘docs/api.python.langchain.com/en/stable/chains/langchain.chains.combine_documents.reduce.split_list_of_docs.html’\n",
            "\n",
            "api.python.langchai     [ <=>                ]  13.12K  --.-KB/s    in 0s      \n",
            "\n",
            "2024-01-18 11:41:17 (276 MB/s) - ‘docs/api.python.langchain.com/en/stable/chains/langchain.chains.combine_documents.reduce.split_list_of_docs.html’ saved [13440]\n",
            "\n",
            "--2024-01-18 11:41:17--  https://api.python.langchain.com/en/stable/chains/langchain.chains.combine_documents.stuff.create_stuff_documents_chain.html\n",
            "Reusing existing connection to api.python.langchain.com:443.\n",
            "HTTP request sent, awaiting response... 200 OK\n",
            "Length: unspecified [text/html]\n",
            "Saving to: ‘docs/api.python.langchain.com/en/stable/chains/langchain.chains.combine_documents.stuff.create_stuff_documents_chain.html’\n",
            "\n",
            "api.python.langchai     [ <=>                ]  18.44K  --.-KB/s    in 0s      \n",
            "\n",
            "2024-01-18 11:41:17 (40.4 MB/s) - ‘docs/api.python.langchain.com/en/stable/chains/langchain.chains.combine_documents.stuff.create_stuff_documents_chain.html’ saved [18880]\n",
            "\n",
            "--2024-01-18 11:41:17--  https://api.python.langchain.com/en/stable/chains/langchain.chains.ernie_functions.base.convert_python_function_to_ernie_function.html\n",
            "Reusing existing connection to api.python.langchain.com:443.\n",
            "HTTP request sent, awaiting response... 200 OK\n",
            "Length: unspecified [text/html]\n",
            "Saving to: ‘docs/api.python.langchain.com/en/stable/chains/langchain.chains.ernie_functions.base.convert_python_function_to_ernie_function.html’\n",
            "\n",
            "api.python.langchai     [ <=>                ]  11.75K  --.-KB/s    in 0s      \n",
            "\n",
            "2024-01-18 11:41:17 (42.1 MB/s) - ‘docs/api.python.langchain.com/en/stable/chains/langchain.chains.ernie_functions.base.convert_python_function_to_ernie_function.html’ saved [12029]\n",
            "\n",
            "--2024-01-18 11:41:17--  https://api.python.langchain.com/en/stable/chains/langchain.chains.ernie_functions.base.convert_to_ernie_function.html\n",
            "Reusing existing connection to api.python.langchain.com:443.\n",
            "HTTP request sent, awaiting response... 200 OK\n",
            "Length: unspecified [text/html]\n",
            "Saving to: ‘docs/api.python.langchain.com/en/stable/chains/langchain.chains.ernie_functions.base.convert_to_ernie_function.html’\n",
            "\n",
            "api.python.langchai     [ <=>                ]  12.51K  --.-KB/s    in 0s      \n",
            "\n",
            "2024-01-18 11:41:17 (50.6 MB/s) - ‘docs/api.python.langchain.com/en/stable/chains/langchain.chains.ernie_functions.base.convert_to_ernie_function.html’ saved [12808]\n",
            "\n",
            "--2024-01-18 11:41:17--  https://api.python.langchain.com/en/stable/chains/langchain.chains.ernie_functions.base.create_ernie_fn_chain.html\n",
            "Reusing existing connection to api.python.langchain.com:443.\n",
            "HTTP request sent, awaiting response... 200 OK\n",
            "Length: unspecified [text/html]\n",
            "Saving to: ‘docs/api.python.langchain.com/en/stable/chains/langchain.chains.ernie_functions.base.create_ernie_fn_chain.html’\n",
            "\n",
            "api.python.langchai     [ <=>                ]  21.56K  --.-KB/s    in 0s      \n",
            "\n",
            "2024-01-18 11:41:17 (304 MB/s) - ‘docs/api.python.langchain.com/en/stable/chains/langchain.chains.ernie_functions.base.create_ernie_fn_chain.html’ saved [22079]\n",
            "\n",
            "--2024-01-18 11:41:17--  https://api.python.langchain.com/en/stable/chains/langchain.chains.ernie_functions.base.create_ernie_fn_runnable.html\n",
            "Reusing existing connection to api.python.langchain.com:443.\n",
            "HTTP request sent, awaiting response... 200 OK\n",
            "Length: unspecified [text/html]\n",
            "Saving to: ‘docs/api.python.langchain.com/en/stable/chains/langchain.chains.ernie_functions.base.create_ernie_fn_runnable.html’\n",
            "\n",
            "api.python.langchai     [ <=>                ]  21.66K  --.-KB/s    in 0.001s  \n",
            "\n",
            "2024-01-18 11:41:17 (32.3 MB/s) - ‘docs/api.python.langchain.com/en/stable/chains/langchain.chains.ernie_functions.base.create_ernie_fn_runnable.html’ saved [22180]\n",
            "\n",
            "--2024-01-18 11:41:17--  https://api.python.langchain.com/en/stable/chains/langchain.chains.ernie_functions.base.create_structured_output_chain.html\n",
            "Reusing existing connection to api.python.langchain.com:443.\n",
            "HTTP request sent, awaiting response... 200 OK\n",
            "Length: unspecified [text/html]\n",
            "Saving to: ‘docs/api.python.langchain.com/en/stable/chains/langchain.chains.ernie_functions.base.create_structured_output_chain.html’\n",
            "\n",
            "api.python.langchai     [ <=>                ]  19.72K  --.-KB/s    in 0.001s  \n",
            "\n",
            "2024-01-18 11:41:17 (36.2 MB/s) - ‘docs/api.python.langchain.com/en/stable/chains/langchain.chains.ernie_functions.base.create_structured_output_chain.html’ saved [20190]\n",
            "\n",
            "--2024-01-18 11:41:17--  https://api.python.langchain.com/en/stable/chains/langchain.chains.ernie_functions.base.create_structured_output_runnable.html\n",
            "Reusing existing connection to api.python.langchain.com:443.\n",
            "HTTP request sent, awaiting response... 200 OK\n",
            "Length: unspecified [text/html]\n",
            "Saving to: ‘docs/api.python.langchain.com/en/stable/chains/langchain.chains.ernie_functions.base.create_structured_output_runnable.html’\n",
            "\n",
            "api.python.langchai     [ <=>                ]  19.47K  --.-KB/s    in 0.001s  \n",
            "\n",
            "2024-01-18 11:41:17 (15.6 MB/s) - ‘docs/api.python.langchain.com/en/stable/chains/langchain.chains.ernie_functions.base.create_structured_output_runnable.html’ saved [19941]\n",
            "\n",
            "--2024-01-18 11:41:17--  https://api.python.langchain.com/en/stable/chains/langchain.chains.ernie_functions.base.get_ernie_output_parser.html\n",
            "Reusing existing connection to api.python.langchain.com:443.\n",
            "HTTP request sent, awaiting response... 200 OK\n",
            "Length: unspecified [text/html]\n",
            "Saving to: ‘docs/api.python.langchain.com/en/stable/chains/langchain.chains.ernie_functions.base.get_ernie_output_parser.html’\n",
            "\n",
            "api.python.langchai     [ <=>                ]  13.33K  --.-KB/s    in 0s      \n",
            "\n",
            "2024-01-18 11:41:17 (29.1 MB/s) - ‘docs/api.python.langchain.com/en/stable/chains/langchain.chains.ernie_functions.base.get_ernie_output_parser.html’ saved [13655]\n",
            "\n",
            "--2024-01-18 11:41:17--  https://api.python.langchain.com/en/stable/chains/langchain.chains.example_generator.generate_example.html\n",
            "Reusing existing connection to api.python.langchain.com:443.\n",
            "HTTP request sent, awaiting response... 200 OK\n",
            "Length: unspecified [text/html]\n",
            "Saving to: ‘docs/api.python.langchain.com/en/stable/chains/langchain.chains.example_generator.generate_example.html’\n",
            "\n",
            "api.python.langchai     [ <=>                ]  11.97K  --.-KB/s    in 0s      \n",
            "\n",
            "2024-01-18 11:41:17 (48.8 MB/s) - ‘docs/api.python.langchain.com/en/stable/chains/langchain.chains.example_generator.generate_example.html’ saved [12256]\n",
            "\n",
            "--2024-01-18 11:41:17--  https://api.python.langchain.com/en/stable/chains/langchain.chains.graph_qa.cypher.construct_schema.html\n",
            "Reusing existing connection to api.python.langchain.com:443.\n",
            "HTTP request sent, awaiting response... 200 OK\n",
            "Length: unspecified [text/html]\n",
            "Saving to: ‘docs/api.python.langchain.com/en/stable/chains/langchain.chains.graph_qa.cypher.construct_schema.html’\n",
            "\n",
            "api.python.langchai     [ <=>                ]  11.85K  --.-KB/s    in 0s      \n",
            "\n",
            "2024-01-18 11:41:17 (62.1 MB/s) - ‘docs/api.python.langchain.com/en/stable/chains/langchain.chains.graph_qa.cypher.construct_schema.html’ saved [12137]\n",
            "\n",
            "--2024-01-18 11:41:17--  https://api.python.langchain.com/en/stable/chains/langchain.chains.graph_qa.cypher.extract_cypher.html\n",
            "Reusing existing connection to api.python.langchain.com:443.\n",
            "HTTP request sent, awaiting response... 200 OK\n",
            "Length: unspecified [text/html]\n",
            "Saving to: ‘docs/api.python.langchain.com/en/stable/chains/langchain.chains.graph_qa.cypher.extract_cypher.html’\n",
            "\n",
            "api.python.langchai     [ <=>                ]  11.18K  --.-KB/s    in 0s      \n",
            "\n",
            "2024-01-18 11:41:17 (238 MB/s) - ‘docs/api.python.langchain.com/en/stable/chains/langchain.chains.graph_qa.cypher.extract_cypher.html’ saved [11450]\n",
            "\n",
            "--2024-01-18 11:41:17--  https://api.python.langchain.com/en/stable/chains/langchain.chains.graph_qa.falkordb.extract_cypher.html\n",
            "Reusing existing connection to api.python.langchain.com:443.\n",
            "HTTP request sent, awaiting response... 200 OK\n",
            "Length: unspecified [text/html]\n",
            "Saving to: ‘docs/api.python.langchain.com/en/stable/chains/langchain.chains.graph_qa.falkordb.extract_cypher.html’\n",
            "\n",
            "api.python.langchai     [ <=>                ]  11.12K  --.-KB/s    in 0s      \n",
            "\n",
            "2024-01-18 11:41:17 (167 MB/s) - ‘docs/api.python.langchain.com/en/stable/chains/langchain.chains.graph_qa.falkordb.extract_cypher.html’ saved [11384]\n",
            "\n",
            "--2024-01-18 11:41:17--  https://api.python.langchain.com/en/stable/chains/langchain.chains.graph_qa.neptune_cypher.extract_cypher.html\n",
            "Reusing existing connection to api.python.langchain.com:443.\n",
            "HTTP request sent, awaiting response... 200 OK\n",
            "Length: unspecified [text/html]\n",
            "Saving to: ‘docs/api.python.langchain.com/en/stable/chains/langchain.chains.graph_qa.neptune_cypher.extract_cypher.html’\n",
            "\n",
            "api.python.langchai     [ <=>                ]  11.00K  --.-KB/s    in 0s      \n",
            "\n",
            "2024-01-18 11:41:17 (161 MB/s) - ‘docs/api.python.langchain.com/en/stable/chains/langchain.chains.graph_qa.neptune_cypher.extract_cypher.html’ saved [11269]\n",
            "\n",
            "--2024-01-18 11:41:17--  https://api.python.langchain.com/en/stable/chains/langchain.chains.graph_qa.neptune_cypher.trim_query.html\n",
            "Reusing existing connection to api.python.langchain.com:443.\n",
            "HTTP request sent, awaiting response... 200 OK\n",
            "Length: unspecified [text/html]\n",
            "Saving to: ‘docs/api.python.langchain.com/en/stable/chains/langchain.chains.graph_qa.neptune_cypher.trim_query.html’\n",
            "\n",
            "api.python.langchai     [ <=>                ]  10.97K  --.-KB/s    in 0s      \n",
            "\n",
            "2024-01-18 11:41:17 (75.4 MB/s) - ‘docs/api.python.langchain.com/en/stable/chains/langchain.chains.graph_qa.neptune_cypher.trim_query.html’ saved [11231]\n",
            "\n",
            "--2024-01-18 11:41:17--  https://api.python.langchain.com/en/stable/chains/langchain.chains.graph_qa.neptune_cypher.use_simple_prompt.html\n",
            "Reusing existing connection to api.python.langchain.com:443.\n",
            "HTTP request sent, awaiting response... 200 OK\n",
            "Length: unspecified [text/html]\n",
            "Saving to: ‘docs/api.python.langchain.com/en/stable/chains/langchain.chains.graph_qa.neptune_cypher.use_simple_prompt.html’\n",
            "\n",
            "api.python.langchai     [ <=>                ]  11.28K  --.-KB/s    in 0s      \n",
            "\n",
            "2024-01-18 11:41:17 (81.5 MB/s) - ‘docs/api.python.langchain.com/en/stable/chains/langchain.chains.graph_qa.neptune_cypher.use_simple_prompt.html’ saved [11549]\n",
            "\n",
            "--2024-01-18 11:41:17--  https://api.python.langchain.com/en/stable/chains/langchain.chains.history_aware_retriever.create_history_aware_retriever.html\n",
            "Reusing existing connection to api.python.langchain.com:443.\n",
            "HTTP request sent, awaiting response... 200 OK\n",
            "Length: unspecified [text/html]\n",
            "Saving to: ‘docs/api.python.langchain.com/en/stable/chains/langchain.chains.history_aware_retriever.create_history_aware_retriever.html’\n",
            "\n",
            "api.python.langchai     [ <=>                ]  17.62K  --.-KB/s    in 0s      \n",
            "\n",
            "2024-01-18 11:41:17 (161 MB/s) - ‘docs/api.python.langchain.com/en/stable/chains/langchain.chains.history_aware_retriever.create_history_aware_retriever.html’ saved [18043]\n",
            "\n",
            "--2024-01-18 11:41:17--  https://api.python.langchain.com/en/stable/chains/langchain.chains.loading.load_chain.html\n",
            "Reusing existing connection to api.python.langchain.com:443.\n",
            "HTTP request sent, awaiting response... 200 OK\n",
            "Length: unspecified [text/html]\n",
            "Saving to: ‘docs/api.python.langchain.com/en/stable/chains/langchain.chains.loading.load_chain.html’\n",
            "\n",
            "api.python.langchai     [ <=>                ]  12.02K  --.-KB/s    in 0s      \n",
            "\n",
            "2024-01-18 11:41:17 (167 MB/s) - ‘docs/api.python.langchain.com/en/stable/chains/langchain.chains.loading.load_chain.html’ saved [12310]\n",
            "\n",
            "--2024-01-18 11:41:17--  https://api.python.langchain.com/en/stable/chains/langchain.chains.loading.load_chain_from_config.html\n",
            "Reusing existing connection to api.python.langchain.com:443.\n",
            "HTTP request sent, awaiting response... 200 OK\n",
            "Length: unspecified [text/html]\n",
            "Saving to: ‘docs/api.python.langchain.com/en/stable/chains/langchain.chains.loading.load_chain_from_config.html’\n",
            "\n",
            "api.python.langchai     [ <=>                ]  11.30K  --.-KB/s    in 0s      \n",
            "\n",
            "2024-01-18 11:41:17 (159 MB/s) - ‘docs/api.python.langchain.com/en/stable/chains/langchain.chains.loading.load_chain_from_config.html’ saved [11567]\n",
            "\n",
            "--2024-01-18 11:41:17--  https://api.python.langchain.com/en/stable/chains/langchain.chains.openai_functions.base.convert_python_function_to_openai_function.html\n",
            "Reusing existing connection to api.python.langchain.com:443.\n",
            "HTTP request sent, awaiting response... 200 OK\n",
            "Length: unspecified [text/html]\n",
            "Saving to: ‘docs/api.python.langchain.com/en/stable/chains/langchain.chains.openai_functions.base.convert_python_function_to_openai_function.html’\n",
            "\n",
            "api.python.langchai     [ <=>                ]  11.77K  --.-KB/s    in 0s      \n",
            "\n",
            "2024-01-18 11:41:17 (191 MB/s) - ‘docs/api.python.langchain.com/en/stable/chains/langchain.chains.openai_functions.base.convert_python_function_to_openai_function.html’ saved [12052]\n",
            "\n",
            "--2024-01-18 11:41:17--  https://api.python.langchain.com/en/stable/chains/langchain.chains.openai_functions.base.convert_to_openai_function.html\n",
            "Reusing existing connection to api.python.langchain.com:443.\n",
            "HTTP request sent, awaiting response... 200 OK\n",
            "Length: unspecified [text/html]\n",
            "Saving to: ‘docs/api.python.langchain.com/en/stable/chains/langchain.chains.openai_functions.base.convert_to_openai_function.html’\n",
            "\n",
            "api.python.langchai     [ <=>                ]  12.53K  --.-KB/s    in 0s      \n",
            "\n",
            "2024-01-18 11:41:17 (90.2 MB/s) - ‘docs/api.python.langchain.com/en/stable/chains/langchain.chains.openai_functions.base.convert_to_openai_function.html’ saved [12833]\n",
            "\n",
            "--2024-01-18 11:41:17--  https://api.python.langchain.com/en/stable/chains/langchain.chains.openai_functions.base.create_openai_fn_chain.html\n",
            "Reusing existing connection to api.python.langchain.com:443.\n",
            "HTTP request sent, awaiting response... 200 OK\n",
            "Length: unspecified [text/html]\n",
            "Saving to: ‘docs/api.python.langchain.com/en/stable/chains/langchain.chains.openai_functions.base.create_openai_fn_chain.html’\n",
            "\n",
            "api.python.langchai     [ <=>                ]  22.70K  --.-KB/s    in 0.001s  \n",
            "\n",
            "2024-01-18 11:41:17 (40.0 MB/s) - ‘docs/api.python.langchain.com/en/stable/chains/langchain.chains.openai_functions.base.create_openai_fn_chain.html’ saved [23248]\n",
            "\n",
            "--2024-01-18 11:41:17--  https://api.python.langchain.com/en/stable/chains/langchain.chains.openai_functions.base.create_openai_fn_runnable.html\n",
            "Reusing existing connection to api.python.langchain.com:443.\n",
            "HTTP request sent, awaiting response... 200 OK\n",
            "Length: unspecified [text/html]\n",
            "Saving to: ‘docs/api.python.langchain.com/en/stable/chains/langchain.chains.openai_functions.base.create_openai_fn_runnable.html’\n",
            "\n",
            "api.python.langchai     [ <=>                ]  22.48K  --.-KB/s    in 0.001s  \n",
            "\n",
            "2024-01-18 11:41:17 (31.9 MB/s) - ‘docs/api.python.langchain.com/en/stable/chains/langchain.chains.openai_functions.base.create_openai_fn_runnable.html’ saved [23016]\n",
            "\n",
            "--2024-01-18 11:41:17--  https://api.python.langchain.com/en/stable/chains/langchain.chains.openai_functions.base.create_structured_output_chain.html\n",
            "Reusing existing connection to api.python.langchain.com:443.\n",
            "HTTP request sent, awaiting response... 200 OK\n",
            "Length: unspecified [text/html]\n",
            "Saving to: ‘docs/api.python.langchain.com/en/stable/chains/langchain.chains.openai_functions.base.create_structured_output_chain.html’\n",
            "\n",
            "api.python.langchai     [ <=>                ]  19.92K  --.-KB/s    in 0.001s  \n",
            "\n",
            "2024-01-18 11:41:17 (28.1 MB/s) - ‘docs/api.python.langchain.com/en/stable/chains/langchain.chains.openai_functions.base.create_structured_output_chain.html’ saved [20398]\n",
            "\n",
            "--2024-01-18 11:41:17--  https://api.python.langchain.com/en/stable/chains/langchain.chains.openai_functions.base.create_structured_output_runnable.html\n",
            "Reusing existing connection to api.python.langchain.com:443.\n",
            "HTTP request sent, awaiting response... 200 OK\n",
            "Length: unspecified [text/html]\n",
            "Saving to: ‘docs/api.python.langchain.com/en/stable/chains/langchain.chains.openai_functions.base.create_structured_output_runnable.html’\n",
            "\n",
            "api.python.langchai     [ <=>                ]  19.68K  --.-KB/s    in 0.001s  \n",
            "\n",
            "2024-01-18 11:41:17 (29.4 MB/s) - ‘docs/api.python.langchain.com/en/stable/chains/langchain.chains.openai_functions.base.create_structured_output_runnable.html’ saved [20148]\n",
            "\n",
            "--2024-01-18 11:41:17--  https://api.python.langchain.com/en/stable/chains/langchain.chains.openai_functions.base.get_openai_output_parser.html\n",
            "Reusing existing connection to api.python.langchain.com:443.\n",
            "HTTP request sent, awaiting response... 200 OK\n",
            "Length: unspecified [text/html]\n",
            "Saving to: ‘docs/api.python.langchain.com/en/stable/chains/langchain.chains.openai_functions.base.get_openai_output_parser.html’\n",
            "\n",
            "api.python.langchai     [ <=>                ]  13.36K  --.-KB/s    in 0s      \n",
            "\n",
            "2024-01-18 11:41:17 (156 MB/s) - ‘docs/api.python.langchain.com/en/stable/chains/langchain.chains.openai_functions.base.get_openai_output_parser.html’ saved [13678]\n",
            "\n",
            "--2024-01-18 11:41:17--  https://api.python.langchain.com/en/stable/chains/langchain.chains.openai_functions.citation_fuzzy_match.create_citation_fuzzy_match_chain.html\n",
            "Reusing existing connection to api.python.langchain.com:443.\n",
            "HTTP request sent, awaiting response... 200 OK\n",
            "Length: unspecified [text/html]\n",
            "Saving to: ‘docs/api.python.langchain.com/en/stable/chains/langchain.chains.openai_functions.citation_fuzzy_match.create_citation_fuzzy_match_chain.html’\n",
            "\n",
            "api.python.langchai     [ <=>                ]  12.41K  --.-KB/s    in 0s      \n",
            "\n",
            "2024-01-18 11:41:17 (158 MB/s) - ‘docs/api.python.langchain.com/en/stable/chains/langchain.chains.openai_functions.citation_fuzzy_match.create_citation_fuzzy_match_chain.html’ saved [12708]\n",
            "\n",
            "--2024-01-18 11:41:17--  https://api.python.langchain.com/en/stable/chains/langchain.chains.openai_functions.extraction.create_extraction_chain.html\n",
            "Reusing existing connection to api.python.langchain.com:443.\n",
            "HTTP request sent, awaiting response... 200 OK\n",
            "Length: unspecified [text/html]\n",
            "Saving to: ‘docs/api.python.langchain.com/en/stable/chains/langchain.chains.openai_functions.extraction.create_extraction_chain.html’\n",
            "\n",
            "api.python.langchai     [ <=>                ]  14.64K  --.-KB/s    in 0s      \n",
            "\n",
            "2024-01-18 11:41:17 (30.3 MB/s) - ‘docs/api.python.langchain.com/en/stable/chains/langchain.chains.openai_functions.extraction.create_extraction_chain.html’ saved [14993]\n",
            "\n",
            "--2024-01-18 11:41:17--  https://api.python.langchain.com/en/stable/chains/langchain.chains.openai_functions.extraction.create_extraction_chain_pydantic.html\n",
            "Reusing existing connection to api.python.langchain.com:443.\n",
            "HTTP request sent, awaiting response... 200 OK\n",
            "Length: unspecified [text/html]\n",
            "Saving to: ‘docs/api.python.langchain.com/en/stable/chains/langchain.chains.openai_functions.extraction.create_extraction_chain_pydantic.html’\n",
            "\n",
            "api.python.langchai     [ <=>                ]  14.05K  --.-KB/s    in 0s      \n",
            "\n",
            "2024-01-18 11:41:17 (42.3 MB/s) - ‘docs/api.python.langchain.com/en/stable/chains/langchain.chains.openai_functions.extraction.create_extraction_chain_pydantic.html’ saved [14384]\n",
            "\n",
            "--2024-01-18 11:41:17--  https://api.python.langchain.com/en/stable/chains/langchain.chains.openai_functions.openapi.get_openapi_chain.html\n",
            "Reusing existing connection to api.python.langchain.com:443.\n",
            "HTTP request sent, awaiting response... 200 OK\n",
            "Length: unspecified [text/html]\n",
            "Saving to: ‘docs/api.python.langchain.com/en/stable/chains/langchain.chains.openai_functions.openapi.get_openapi_chain.html’\n",
            "\n",
            "api.python.langchai     [ <=>                ]  16.74K  --.-KB/s    in 0s      \n",
            "\n",
            "2024-01-18 11:41:17 (38.9 MB/s) - ‘docs/api.python.langchain.com/en/stable/chains/langchain.chains.openai_functions.openapi.get_openapi_chain.html’ saved [17141]\n",
            "\n",
            "--2024-01-18 11:41:17--  https://api.python.langchain.com/en/stable/chains/langchain.chains.openai_functions.openapi.openapi_spec_to_openai_fn.html\n",
            "Reusing existing connection to api.python.langchain.com:443.\n",
            "HTTP request sent, awaiting response... 200 OK\n",
            "Length: unspecified [text/html]\n",
            "Saving to: ‘docs/api.python.langchain.com/en/stable/chains/langchain.chains.openai_functions.openapi.openapi_spec_to_openai_fn.html’\n",
            "\n",
            "api.python.langchai     [ <=>                ]  12.42K  --.-KB/s    in 0s      \n",
            "\n",
            "2024-01-18 11:41:17 (260 MB/s) - ‘docs/api.python.langchain.com/en/stable/chains/langchain.chains.openai_functions.openapi.openapi_spec_to_openai_fn.html’ saved [12713]\n",
            "\n",
            "--2024-01-18 11:41:17--  https://api.python.langchain.com/en/stable/chains/langchain.chains.openai_functions.qa_with_structure.create_qa_with_sources_chain.html\n",
            "Reusing existing connection to api.python.langchain.com:443.\n",
            "HTTP request sent, awaiting response... 200 OK\n",
            "Length: unspecified [text/html]\n",
            "Saving to: ‘docs/api.python.langchain.com/en/stable/chains/langchain.chains.openai_functions.qa_with_structure.create_qa_with_sources_chain.html’\n",
            "\n",
            "api.python.langchai     [ <=>                ]  13.24K  --.-KB/s    in 0s      \n",
            "\n",
            "2024-01-18 11:41:17 (53.3 MB/s) - ‘docs/api.python.langchain.com/en/stable/chains/langchain.chains.openai_functions.qa_with_structure.create_qa_with_sources_chain.html’ saved [13561]\n",
            "\n",
            "--2024-01-18 11:41:17--  https://api.python.langchain.com/en/stable/chains/langchain.chains.openai_functions.qa_with_structure.create_qa_with_structure_chain.html\n",
            "Reusing existing connection to api.python.langchain.com:443.\n",
            "HTTP request sent, awaiting response... 200 OK\n",
            "Length: unspecified [text/html]\n",
            "Saving to: ‘docs/api.python.langchain.com/en/stable/chains/langchain.chains.openai_functions.qa_with_structure.create_qa_with_structure_chain.html’\n",
            "\n",
            "api.python.langchai     [ <=>                ]  15.13K  --.-KB/s    in 0s      \n",
            "\n",
            "2024-01-18 11:41:17 (204 MB/s) - ‘docs/api.python.langchain.com/en/stable/chains/langchain.chains.openai_functions.qa_with_structure.create_qa_with_structure_chain.html’ saved [15493]\n",
            "\n",
            "--2024-01-18 11:41:17--  https://api.python.langchain.com/en/stable/chains/langchain.chains.openai_functions.tagging.create_tagging_chain.html\n",
            "Reusing existing connection to api.python.langchain.com:443.\n",
            "HTTP request sent, awaiting response... 200 OK\n",
            "Length: unspecified [text/html]\n",
            "Saving to: ‘docs/api.python.langchain.com/en/stable/chains/langchain.chains.openai_functions.tagging.create_tagging_chain.html’\n",
            "\n",
            "api.python.langchai     [ <=>                ]  13.71K  --.-KB/s    in 0s      \n",
            "\n",
            "2024-01-18 11:41:17 (51.9 MB/s) - ‘docs/api.python.langchain.com/en/stable/chains/langchain.chains.openai_functions.tagging.create_tagging_chain.html’ saved [14040]\n",
            "\n",
            "--2024-01-18 11:41:17--  https://api.python.langchain.com/en/stable/chains/langchain.chains.openai_functions.tagging.create_tagging_chain_pydantic.html\n",
            "Reusing existing connection to api.python.langchain.com:443.\n",
            "HTTP request sent, awaiting response... 200 OK\n",
            "Length: unspecified [text/html]\n",
            "Saving to: ‘docs/api.python.langchain.com/en/stable/chains/langchain.chains.openai_functions.tagging.create_tagging_chain_pydantic.html’\n",
            "\n",
            "api.python.langchai     [ <=>                ]  13.59K  --.-KB/s    in 0s      \n",
            "\n",
            "2024-01-18 11:41:17 (163 MB/s) - ‘docs/api.python.langchain.com/en/stable/chains/langchain.chains.openai_functions.tagging.create_tagging_chain_pydantic.html’ saved [13914]\n",
            "\n",
            "--2024-01-18 11:41:17--  https://api.python.langchain.com/en/stable/chains/langchain.chains.openai_functions.utils.get_llm_kwargs.html\n",
            "Reusing existing connection to api.python.langchain.com:443.\n",
            "HTTP request sent, awaiting response... 200 OK\n",
            "Length: unspecified [text/html]\n",
            "Saving to: ‘docs/api.python.langchain.com/en/stable/chains/langchain.chains.openai_functions.utils.get_llm_kwargs.html’\n",
            "\n",
            "api.python.langchai     [ <=>                ]  11.27K  --.-KB/s    in 0s      \n",
            "\n",
            "2024-01-18 11:41:17 (177 MB/s) - ‘docs/api.python.langchain.com/en/stable/chains/langchain.chains.openai_functions.utils.get_llm_kwargs.html’ saved [11544]\n",
            "\n",
            "--2024-01-18 11:41:17--  https://api.python.langchain.com/en/stable/chains/langchain.chains.openai_tools.extraction.create_extraction_chain_pydantic.html\n",
            "Reusing existing connection to api.python.langchain.com:443.\n",
            "HTTP request sent, awaiting response... 200 OK\n",
            "Length: unspecified [text/html]\n",
            "Saving to: ‘docs/api.python.langchain.com/en/stable/chains/langchain.chains.openai_tools.extraction.create_extraction_chain_pydantic.html’\n",
            "\n",
            "api.python.langchai     [ <=>                ]  14.72K  --.-KB/s    in 0.005s  \n",
            "\n",
            "2024-01-18 11:41:17 (3.03 MB/s) - ‘docs/api.python.langchain.com/en/stable/chains/langchain.chains.openai_tools.extraction.create_extraction_chain_pydantic.html’ saved [15076]\n",
            "\n",
            "--2024-01-18 11:41:17--  https://api.python.langchain.com/en/stable/chains/langchain.chains.prompt_selector.is_chat_model.html\n",
            "Reusing existing connection to api.python.langchain.com:443.\n",
            "HTTP request sent, awaiting response... 200 OK\n",
            "Length: unspecified [text/html]\n",
            "Saving to: ‘docs/api.python.langchain.com/en/stable/chains/langchain.chains.prompt_selector.is_chat_model.html’\n",
            "\n",
            "api.python.langchai     [ <=>                ]  11.45K  --.-KB/s    in 0s      \n",
            "\n",
            "2024-01-18 11:41:17 (118 MB/s) - ‘docs/api.python.langchain.com/en/stable/chains/langchain.chains.prompt_selector.is_chat_model.html’ saved [11723]\n",
            "\n",
            "--2024-01-18 11:41:17--  https://api.python.langchain.com/en/stable/chains/langchain.chains.prompt_selector.is_llm.html\n",
            "Reusing existing connection to api.python.langchain.com:443.\n",
            "HTTP request sent, awaiting response... 200 OK\n",
            "Length: unspecified [text/html]\n",
            "Saving to: ‘docs/api.python.langchain.com/en/stable/chains/langchain.chains.prompt_selector.is_llm.html’\n",
            "\n",
            "api.python.langchai     [ <=>                ]  11.36K  --.-KB/s    in 0s      \n",
            "\n",
            "2024-01-18 11:41:17 (59.1 MB/s) - ‘docs/api.python.langchain.com/en/stable/chains/langchain.chains.prompt_selector.is_llm.html’ saved [11633]\n",
            "\n",
            "--2024-01-18 11:41:17--  https://api.python.langchain.com/en/stable/chains/langchain.chains.qa_with_sources.loading.load_qa_with_sources_chain.html\n",
            "Reusing existing connection to api.python.langchain.com:443.\n",
            "HTTP request sent, awaiting response... 200 OK\n",
            "Length: unspecified [text/html]\n",
            "Saving to: ‘docs/api.python.langchain.com/en/stable/chains/langchain.chains.qa_with_sources.loading.load_qa_with_sources_chain.html’\n",
            "\n",
            "api.python.langchai     [ <=>                ]  13.91K  --.-KB/s    in 0s      \n",
            "\n",
            "2024-01-18 11:41:18 (42.6 MB/s) - ‘docs/api.python.langchain.com/en/stable/chains/langchain.chains.qa_with_sources.loading.load_qa_with_sources_chain.html’ saved [14247]\n",
            "\n",
            "--2024-01-18 11:41:18--  https://api.python.langchain.com/en/stable/chains/langchain.chains.query_constructor.base.construct_examples.html\n",
            "Reusing existing connection to api.python.langchain.com:443.\n",
            "HTTP request sent, awaiting response... 200 OK\n",
            "Length: unspecified [text/html]\n",
            "Saving to: ‘docs/api.python.langchain.com/en/stable/chains/langchain.chains.query_constructor.base.construct_examples.html’\n",
            "\n",
            "api.python.langchai     [ <=>                ]  11.79K  --.-KB/s    in 0s      \n",
            "\n",
            "2024-01-18 11:41:18 (175 MB/s) - ‘docs/api.python.langchain.com/en/stable/chains/langchain.chains.query_constructor.base.construct_examples.html’ saved [12078]\n",
            "\n",
            "--2024-01-18 11:41:18--  https://api.python.langchain.com/en/stable/chains/langchain.chains.query_constructor.base.fix_filter_directive.html\n",
            "Reusing existing connection to api.python.langchain.com:443.\n",
            "HTTP request sent, awaiting response... 200 OK\n",
            "Length: unspecified [text/html]\n",
            "Saving to: ‘docs/api.python.langchain.com/en/stable/chains/langchain.chains.query_constructor.base.fix_filter_directive.html’\n",
            "\n",
            "api.python.langchai     [ <=>                ]  14.70K  --.-KB/s    in 0s      \n",
            "\n",
            "2024-01-18 11:41:18 (211 MB/s) - ‘docs/api.python.langchain.com/en/stable/chains/langchain.chains.query_constructor.base.fix_filter_directive.html’ saved [15049]\n",
            "\n",
            "--2024-01-18 11:41:18--  https://api.python.langchain.com/en/stable/chains/langchain.chains.query_constructor.base.get_query_constructor_prompt.html\n",
            "Reusing existing connection to api.python.langchain.com:443.\n",
            "HTTP request sent, awaiting response... 200 OK\n",
            "Length: unspecified [text/html]\n",
            "Saving to: ‘docs/api.python.langchain.com/en/stable/chains/langchain.chains.query_constructor.base.get_query_constructor_prompt.html’\n",
            "\n",
            "api.python.langchai     [ <=>                ]  14.44K  --.-KB/s    in 0s      \n",
            "\n",
            "2024-01-18 11:41:18 (48.5 MB/s) - ‘docs/api.python.langchain.com/en/stable/chains/langchain.chains.query_constructor.base.get_query_constructor_prompt.html’ saved [14791]\n",
            "\n",
            "--2024-01-18 11:41:18--  https://api.python.langchain.com/en/stable/chains/langchain.chains.query_constructor.base.load_query_constructor_chain.html\n",
            "Reusing existing connection to api.python.langchain.com:443.\n",
            "HTTP request sent, awaiting response... 200 OK\n",
            "Length: unspecified [text/html]\n",
            "Saving to: ‘docs/api.python.langchain.com/en/stable/chains/langchain.chains.query_constructor.base.load_query_constructor_chain.html’\n",
            "\n",
            "api.python.langchai     [ <=>                ]  14.52K  --.-KB/s    in 0s      \n",
            "\n",
            "2024-01-18 11:41:18 (96.5 MB/s) - ‘docs/api.python.langchain.com/en/stable/chains/langchain.chains.query_constructor.base.load_query_constructor_chain.html’ saved [14872]\n",
            "\n",
            "--2024-01-18 11:41:18--  https://api.python.langchain.com/en/stable/chains/langchain.chains.query_constructor.base.load_query_constructor_runnable.html\n",
            "Reusing existing connection to api.python.langchain.com:443.\n",
            "HTTP request sent, awaiting response... 200 OK\n",
            "Length: unspecified [text/html]\n",
            "Saving to: ‘docs/api.python.langchain.com/en/stable/chains/langchain.chains.query_constructor.base.load_query_constructor_runnable.html’\n",
            "\n",
            "api.python.langchai     [ <=>                ]  14.92K  --.-KB/s    in 0s      \n",
            "\n",
            "2024-01-18 11:41:18 (66.3 MB/s) - ‘docs/api.python.langchain.com/en/stable/chains/langchain.chains.query_constructor.base.load_query_constructor_runnable.html’ saved [15281]\n",
            "\n",
            "--2024-01-18 11:41:18--  https://api.python.langchain.com/en/stable/chains/langchain.chains.query_constructor.parser.get_parser.html\n",
            "Reusing existing connection to api.python.langchain.com:443.\n",
            "HTTP request sent, awaiting response... 200 OK\n",
            "Length: unspecified [text/html]\n",
            "Saving to: ‘docs/api.python.langchain.com/en/stable/chains/langchain.chains.query_constructor.parser.get_parser.html’\n",
            "\n",
            "api.python.langchai     [ <=>                ]  13.45K  --.-KB/s    in 0s      \n",
            "\n",
            "2024-01-18 11:41:18 (61.6 MB/s) - ‘docs/api.python.langchain.com/en/stable/chains/langchain.chains.query_constructor.parser.get_parser.html’ saved [13775]\n",
            "\n",
            "--2024-01-18 11:41:18--  https://api.python.langchain.com/en/stable/chains/langchain.chains.query_constructor.parser.v_args.html\n",
            "Reusing existing connection to api.python.langchain.com:443.\n",
            "HTTP request sent, awaiting response... 200 OK\n",
            "Length: unspecified [text/html]\n",
            "Saving to: ‘docs/api.python.langchain.com/en/stable/chains/langchain.chains.query_constructor.parser.v_args.html’\n",
            "\n",
            "api.python.langchai     [ <=>                ]  11.23K  --.-KB/s    in 0s      \n",
            "\n",
            "2024-01-18 11:41:18 (68.4 MB/s) - ‘docs/api.python.langchain.com/en/stable/chains/langchain.chains.query_constructor.parser.v_args.html’ saved [11503]\n",
            "\n",
            "--2024-01-18 11:41:18--  https://api.python.langchain.com/en/stable/chains/langchain.chains.retrieval.create_retrieval_chain.html\n",
            "Reusing existing connection to api.python.langchain.com:443.\n",
            "HTTP request sent, awaiting response... 200 OK\n",
            "Length: unspecified [text/html]\n",
            "Saving to: ‘docs/api.python.langchain.com/en/stable/chains/langchain.chains.retrieval.create_retrieval_chain.html’\n",
            "\n",
            "api.python.langchai     [ <=>                ]  16.27K  --.-KB/s    in 0s      \n",
            "\n",
            "2024-01-18 11:41:18 (36.2 MB/s) - ‘docs/api.python.langchain.com/en/stable/chains/langchain.chains.retrieval.create_retrieval_chain.html’ saved [16659]\n",
            "\n",
            "--2024-01-18 11:41:18--  https://api.python.langchain.com/en/stable/chains/langchain.chains.sql_database.query.create_sql_query_chain.html\n",
            "Reusing existing connection to api.python.langchain.com:443.\n",
            "HTTP request sent, awaiting response... 200 OK\n",
            "Length: unspecified [text/html]\n",
            "Saving to: ‘docs/api.python.langchain.com/en/stable/chains/langchain.chains.sql_database.query.create_sql_query_chain.html’\n",
            "\n",
            "api.python.langchai     [ <=>                ]  15.80K  --.-KB/s    in 0s      \n",
            "\n",
            "2024-01-18 11:41:18 (50.2 MB/s) - ‘docs/api.python.langchain.com/en/stable/chains/langchain.chains.sql_database.query.create_sql_query_chain.html’ saved [16182]\n",
            "\n",
            "--2024-01-18 11:41:18--  https://api.python.langchain.com/en/stable/embeddings/langchain.embeddings.cache.CacheBackedEmbeddings.html\n",
            "Reusing existing connection to api.python.langchain.com:443.\n",
            "HTTP request sent, awaiting response... 200 OK\n",
            "Length: unspecified [text/html]\n",
            "Saving to: ‘docs/api.python.langchain.com/en/stable/embeddings/langchain.embeddings.cache.CacheBackedEmbeddings.html’\n",
            "\n",
            "api.python.langchai     [ <=>                ]  26.34K  --.-KB/s    in 0.001s  \n",
            "\n",
            "2024-01-18 11:41:18 (33.9 MB/s) - ‘docs/api.python.langchain.com/en/stable/embeddings/langchain.embeddings.cache.CacheBackedEmbeddings.html’ saved [26977]\n",
            "\n",
            "--2024-01-18 11:41:18--  https://api.python.langchain.com/en/stable/evaluation/langchain.evaluation.loading.load_evaluators.html\n",
            "Reusing existing connection to api.python.langchain.com:443.\n",
            "HTTP request sent, awaiting response... 200 OK\n",
            "Length: unspecified [text/html]\n",
            "Saving to: ‘docs/api.python.langchain.com/en/stable/evaluation/langchain.evaluation.loading.load_evaluators.html’\n",
            "\n",
            "api.python.langchai     [ <=>                ]  16.00K  --.-KB/s    in 0s      \n",
            "\n",
            "2024-01-18 11:41:18 (45.4 MB/s) - ‘docs/api.python.langchain.com/en/stable/evaluation/langchain.evaluation.loading.load_evaluators.html’ saved [16380]\n",
            "\n",
            "--2024-01-18 11:41:18--  https://api.python.langchain.com/en/stable/evaluation/langchain.evaluation.loading.load_evaluator.html\n",
            "Reusing existing connection to api.python.langchain.com:443.\n",
            "HTTP request sent, awaiting response... 200 OK\n",
            "Length: unspecified [text/html]\n",
            "Saving to: ‘docs/api.python.langchain.com/en/stable/evaluation/langchain.evaluation.loading.load_evaluator.html’\n",
            "\n",
            "api.python.langchai     [ <=>                ]  15.79K  --.-KB/s    in 0s      \n",
            "\n",
            "2024-01-18 11:41:18 (300 MB/s) - ‘docs/api.python.langchain.com/en/stable/evaluation/langchain.evaluation.loading.load_evaluator.html’ saved [16170]\n",
            "\n",
            "--2024-01-18 11:41:18--  https://api.python.langchain.com/en/stable/evaluation/langchain.evaluation.schema.EvaluatorType.html\n",
            "Reusing existing connection to api.python.langchain.com:443.\n",
            "HTTP request sent, awaiting response... 200 OK\n",
            "Length: unspecified [text/html]\n",
            "Saving to: ‘docs/api.python.langchain.com/en/stable/evaluation/langchain.evaluation.schema.EvaluatorType.html’\n",
            "\n",
            "api.python.langchai     [ <=>                ]  24.16K  --.-KB/s    in 0s      \n",
            "\n",
            "2024-01-18 11:41:18 (50.0 MB/s) - ‘docs/api.python.langchain.com/en/stable/evaluation/langchain.evaluation.schema.EvaluatorType.html’ saved [24737]\n",
            "\n",
            "--2024-01-18 11:41:18--  https://api.python.langchain.com/en/stable/evaluation/langchain.evaluation.loading.load_dataset.html\n",
            "Reusing existing connection to api.python.langchain.com:443.\n",
            "HTTP request sent, awaiting response... 200 OK\n",
            "Length: unspecified [text/html]\n",
            "Saving to: ‘docs/api.python.langchain.com/en/stable/evaluation/langchain.evaluation.loading.load_dataset.html’\n",
            "\n",
            "api.python.langchai     [ <=>                ]  12.32K  --.-KB/s    in 0.002s  \n",
            "\n",
            "2024-01-18 11:41:18 (6.89 MB/s) - ‘docs/api.python.langchain.com/en/stable/evaluation/langchain.evaluation.loading.load_dataset.html’ saved [12615]\n",
            "\n",
            "--2024-01-18 11:41:18--  https://api.python.langchain.com/en/stable/evaluation/langchain.evaluation.qa.eval_chain.QAEvalChain.html\n",
            "Reusing existing connection to api.python.langchain.com:443.\n",
            "HTTP request sent, awaiting response... 200 OK\n",
            "Length: unspecified [text/html]\n",
            "Saving to: ‘docs/api.python.langchain.com/en/stable/evaluation/langchain.evaluation.qa.eval_chain.QAEvalChain.html’\n",
            "\n",
            "api.python.langchai     [ <=>                ] 211.43K  --.-KB/s    in 0.006s  \n",
            "\n",
            "2024-01-18 11:41:18 (37.3 MB/s) - ‘docs/api.python.langchain.com/en/stable/evaluation/langchain.evaluation.qa.eval_chain.QAEvalChain.html’ saved [216501]\n",
            "\n",
            "--2024-01-18 11:41:18--  https://api.python.langchain.com/en/stable/evaluation/langchain.evaluation.comparison.eval_chain.PairwiseStringEvalChain.html\n",
            "Reusing existing connection to api.python.langchain.com:443.\n",
            "HTTP request sent, awaiting response... 200 OK\n",
            "Length: unspecified [text/html]\n",
            "Saving to: ‘docs/api.python.langchain.com/en/stable/evaluation/langchain.evaluation.comparison.eval_chain.PairwiseStringEvalChain.html’\n",
            "\n",
            "api.python.langchai     [ <=>                ] 217.40K  --.-KB/s    in 0.006s  \n",
            "\n",
            "2024-01-18 11:41:18 (37.2 MB/s) - ‘docs/api.python.langchain.com/en/stable/evaluation/langchain.evaluation.comparison.eval_chain.PairwiseStringEvalChain.html’ saved [222620]\n",
            "\n",
            "--2024-01-18 11:41:18--  https://api.python.langchain.com/en/stable/evaluation/langchain.evaluation.comparison.eval_chain.LabeledPairwiseStringEvalChain.html\n",
            "Reusing existing connection to api.python.langchain.com:443.\n",
            "HTTP request sent, awaiting response... 200 OK\n",
            "Length: unspecified [text/html]\n",
            "Saving to: ‘docs/api.python.langchain.com/en/stable/evaluation/langchain.evaluation.comparison.eval_chain.LabeledPairwiseStringEvalChain.html’\n",
            "\n",
            "api.python.langchai     [ <=>                ] 215.14K  --.-KB/s    in 0.006s  \n",
            "\n",
            "2024-01-18 11:41:18 (36.4 MB/s) - ‘docs/api.python.langchain.com/en/stable/evaluation/langchain.evaluation.comparison.eval_chain.LabeledPairwiseStringEvalChain.html’ saved [220302]\n",
            "\n",
            "--2024-01-18 11:41:18--  https://api.python.langchain.com/en/stable/evaluation/langchain.evaluation.agents.trajectory_eval_chain.TrajectoryEvalChain.html\n",
            "Reusing existing connection to api.python.langchain.com:443.\n",
            "HTTP request sent, awaiting response... 200 OK\n",
            "Length: unspecified [text/html]\n",
            "Saving to: ‘docs/api.python.langchain.com/en/stable/evaluation/langchain.evaluation.agents.trajectory_eval_chain.TrajectoryEvalChain.html’\n",
            "\n",
            "api.python.langchai     [ <=>                ] 186.15K  --.-KB/s    in 0.005s  \n",
            "\n",
            "2024-01-18 11:41:18 (39.2 MB/s) - ‘docs/api.python.langchain.com/en/stable/evaluation/langchain.evaluation.agents.trajectory_eval_chain.TrajectoryEvalChain.html’ saved [190619]\n",
            "\n",
            "--2024-01-18 11:41:18--  https://api.python.langchain.com/en/stable/evaluation/langchain.evaluation.criteria.eval_chain.CriteriaEvalChain.html\n",
            "Reusing existing connection to api.python.langchain.com:443.\n",
            "HTTP request sent, awaiting response... 200 OK\n",
            "Length: unspecified [text/html]\n",
            "Saving to: ‘docs/api.python.langchain.com/en/stable/evaluation/langchain.evaluation.criteria.eval_chain.CriteriaEvalChain.html’\n",
            "\n",
            "api.python.langchai     [ <=>                ] 225.49K  --.-KB/s    in 0.006s  \n",
            "\n",
            "2024-01-18 11:41:18 (38.7 MB/s) - ‘docs/api.python.langchain.com/en/stable/evaluation/langchain.evaluation.criteria.eval_chain.CriteriaEvalChain.html’ saved [230905]\n",
            "\n",
            "--2024-01-18 11:41:18--  https://api.python.langchain.com/en/stable/evaluation/langchain.evaluation.criteria.eval_chain.LabeledCriteriaEvalChain.html\n",
            "Reusing existing connection to api.python.langchain.com:443.\n",
            "HTTP request sent, awaiting response... 200 OK\n",
            "Length: unspecified [text/html]\n",
            "Saving to: ‘docs/api.python.langchain.com/en/stable/evaluation/langchain.evaluation.criteria.eval_chain.LabeledCriteriaEvalChain.html’\n",
            "\n",
            "api.python.langchai     [ <=>                ] 218.82K  --.-KB/s    in 0.005s  \n",
            "\n",
            "2024-01-18 11:41:18 (40.5 MB/s) - ‘docs/api.python.langchain.com/en/stable/evaluation/langchain.evaluation.criteria.eval_chain.LabeledCriteriaEvalChain.html’ saved [224069]\n",
            "\n",
            "--2024-01-18 11:41:18--  https://api.python.langchain.com/en/stable/evaluation/langchain.evaluation.embedding_distance.base.EmbeddingDistanceEvalChain.html\n",
            "Reusing existing connection to api.python.langchain.com:443.\n",
            "HTTP request sent, awaiting response... 200 OK\n",
            "Length: unspecified [text/html]\n",
            "Saving to: ‘docs/api.python.langchain.com/en/stable/evaluation/langchain.evaluation.embedding_distance.base.EmbeddingDistanceEvalChain.html’\n",
            "\n",
            "api.python.langchai     [ <=>                ] 173.28K  --.-KB/s    in 0.004s  \n",
            "\n",
            "2024-01-18 11:41:18 (39.9 MB/s) - ‘docs/api.python.langchain.com/en/stable/evaluation/langchain.evaluation.embedding_distance.base.EmbeddingDistanceEvalChain.html’ saved [177441]\n",
            "\n",
            "--2024-01-18 11:41:18--  https://api.python.langchain.com/en/stable/evaluation/langchain.evaluation.embedding_distance.base.PairwiseEmbeddingDistanceEvalChain.html\n",
            "Reusing existing connection to api.python.langchain.com:443.\n",
            "HTTP request sent, awaiting response... 200 OK\n",
            "Length: unspecified [text/html]\n",
            "Saving to: ‘docs/api.python.langchain.com/en/stable/evaluation/langchain.evaluation.embedding_distance.base.PairwiseEmbeddingDistanceEvalChain.html’\n",
            "\n",
            "api.python.langchai     [ <=>                ] 174.19K  --.-KB/s    in 0.001s  \n",
            "\n",
            "2024-01-18 11:41:18 (256 MB/s) - ‘docs/api.python.langchain.com/en/stable/evaluation/langchain.evaluation.embedding_distance.base.PairwiseEmbeddingDistanceEvalChain.html’ saved [178366]\n",
            "\n",
            "--2024-01-18 11:41:18--  https://api.python.langchain.com/en/stable/evaluation/langchain.evaluation.string_distance.base.StringDistanceEvalChain.html\n",
            "Reusing existing connection to api.python.langchain.com:443.\n",
            "HTTP request sent, awaiting response... 200 OK\n",
            "Length: unspecified [text/html]\n",
            "Saving to: ‘docs/api.python.langchain.com/en/stable/evaluation/langchain.evaluation.string_distance.base.StringDistanceEvalChain.html’\n",
            "\n",
            "api.python.langchai     [ <=>                ] 175.17K  --.-KB/s    in 0s      \n",
            "\n",
            "2024-01-18 11:41:18 (350 MB/s) - ‘docs/api.python.langchain.com/en/stable/evaluation/langchain.evaluation.string_distance.base.StringDistanceEvalChain.html’ saved [179377]\n",
            "\n",
            "--2024-01-18 11:41:18--  https://api.python.langchain.com/en/stable/evaluation/langchain.evaluation.string_distance.base.PairwiseStringDistanceEvalChain.html\n",
            "Reusing existing connection to api.python.langchain.com:443.\n",
            "HTTP request sent, awaiting response... 200 OK\n",
            "Length: unspecified [text/html]\n",
            "Saving to: ‘docs/api.python.langchain.com/en/stable/evaluation/langchain.evaluation.string_distance.base.PairwiseStringDistanceEvalChain.html’\n",
            "\n",
            "api.python.langchai     [ <=>                ] 175.41K  --.-KB/s    in 0.004s  \n",
            "\n",
            "2024-01-18 11:41:18 (40.8 MB/s) - ‘docs/api.python.langchain.com/en/stable/evaluation/langchain.evaluation.string_distance.base.PairwiseStringDistanceEvalChain.html’ saved [179615]\n",
            "\n",
            "--2024-01-18 11:41:18--  https://api.python.langchain.com/en/stable/evaluation/langchain.evaluation.schema.StringEvaluator.html\n",
            "Reusing existing connection to api.python.langchain.com:443.\n",
            "HTTP request sent, awaiting response... 200 OK\n",
            "Length: unspecified [text/html]\n",
            "Saving to: ‘docs/api.python.langchain.com/en/stable/evaluation/langchain.evaluation.schema.StringEvaluator.html’\n",
            "\n",
            "api.python.langchai     [ <=>                ]  19.89K  --.-KB/s    in 0.001s  \n",
            "\n",
            "2024-01-18 11:41:18 (32.8 MB/s) - ‘docs/api.python.langchain.com/en/stable/evaluation/langchain.evaluation.schema.StringEvaluator.html’ saved [20370]\n",
            "\n",
            "--2024-01-18 11:41:18--  https://api.python.langchain.com/en/stable/evaluation/langchain.evaluation.schema.PairwiseStringEvaluator.html\n",
            "Reusing existing connection to api.python.langchain.com:443.\n",
            "HTTP request sent, awaiting response... 200 OK\n",
            "Length: unspecified [text/html]\n",
            "Saving to: ‘docs/api.python.langchain.com/en/stable/evaluation/langchain.evaluation.schema.PairwiseStringEvaluator.html’\n",
            "\n",
            "api.python.langchai     [ <=>                ]  20.49K  --.-KB/s    in 0s      \n",
            "\n",
            "2024-01-18 11:41:18 (103 MB/s) - ‘docs/api.python.langchain.com/en/stable/evaluation/langchain.evaluation.schema.PairwiseStringEvaluator.html’ saved [20983]\n",
            "\n",
            "--2024-01-18 11:41:18--  https://api.python.langchain.com/en/stable/evaluation/langchain.evaluation.schema.AgentTrajectoryEvaluator.html\n",
            "Reusing existing connection to api.python.langchain.com:443.\n",
            "HTTP request sent, awaiting response... 200 OK\n",
            "Length: unspecified [text/html]\n",
            "Saving to: ‘docs/api.python.langchain.com/en/stable/evaluation/langchain.evaluation.schema.AgentTrajectoryEvaluator.html’\n",
            "\n",
            "api.python.langchai     [ <=>                ]  20.95K  --.-KB/s    in 0s      \n",
            "\n",
            "2024-01-18 11:41:18 (47.5 MB/s) - ‘docs/api.python.langchain.com/en/stable/evaluation/langchain.evaluation.schema.AgentTrajectoryEvaluator.html’ saved [21452]\n",
            "\n",
            "--2024-01-18 11:41:18--  https://api.python.langchain.com/en/stable/evaluation/langchain.evaluation.agents.trajectory_eval_chain.TrajectoryEval.html\n",
            "Reusing existing connection to api.python.langchain.com:443.\n",
            "HTTP request sent, awaiting response... 200 OK\n",
            "Length: unspecified [text/html]\n",
            "Saving to: ‘docs/api.python.langchain.com/en/stable/evaluation/langchain.evaluation.agents.trajectory_eval_chain.TrajectoryEval.html’\n",
            "\n",
            "api.python.langchai     [ <=>                ]  11.88K  --.-KB/s    in 0s      \n",
            "\n",
            "2024-01-18 11:41:18 (38.7 MB/s) - ‘docs/api.python.langchain.com/en/stable/evaluation/langchain.evaluation.agents.trajectory_eval_chain.TrajectoryEval.html’ saved [12163]\n",
            "\n",
            "--2024-01-18 11:41:18--  https://api.python.langchain.com/en/stable/evaluation/langchain.evaluation.agents.trajectory_eval_chain.TrajectoryOutputParser.html\n",
            "Reusing existing connection to api.python.langchain.com:443.\n",
            "HTTP request sent, awaiting response... 200 OK\n",
            "Length: unspecified [text/html]\n",
            "Saving to: ‘docs/api.python.langchain.com/en/stable/evaluation/langchain.evaluation.agents.trajectory_eval_chain.TrajectoryOutputParser.html’\n",
            "\n",
            "api.python.langchai     [ <=>                ] 126.11K  --.-KB/s    in 0.004s  \n",
            "\n",
            "2024-01-18 11:41:18 (29.5 MB/s) - ‘docs/api.python.langchain.com/en/stable/evaluation/langchain.evaluation.agents.trajectory_eval_chain.TrajectoryOutputParser.html’ saved [129134]\n",
            "\n",
            "--2024-01-18 11:41:18--  https://api.python.langchain.com/en/stable/evaluation/langchain.evaluation.comparison.eval_chain.PairwiseStringResultOutputParser.html\n",
            "Reusing existing connection to api.python.langchain.com:443.\n",
            "HTTP request sent, awaiting response... 200 OK\n",
            "Length: unspecified [text/html]\n",
            "Saving to: ‘docs/api.python.langchain.com/en/stable/evaluation/langchain.evaluation.comparison.eval_chain.PairwiseStringResultOutputParser.html’\n",
            "\n",
            "api.python.langchai     [ <=>                ] 126.68K  --.-KB/s    in 0.004s  \n",
            "\n",
            "2024-01-18 11:41:18 (29.1 MB/s) - ‘docs/api.python.langchain.com/en/stable/evaluation/langchain.evaluation.comparison.eval_chain.PairwiseStringResultOutputParser.html’ saved [129717]\n",
            "\n",
            "--2024-01-18 11:41:18--  https://api.python.langchain.com/en/stable/evaluation/langchain.evaluation.criteria.eval_chain.Criteria.html\n",
            "Reusing existing connection to api.python.langchain.com:443.\n",
            "HTTP request sent, awaiting response... 200 OK\n",
            "Length: unspecified [text/html]\n",
            "Saving to: ‘docs/api.python.langchain.com/en/stable/evaluation/langchain.evaluation.criteria.eval_chain.Criteria.html’\n",
            "\n",
            "api.python.langchai     [ <=>                ]  19.29K  --.-KB/s    in 0s      \n",
            "\n",
            "2024-01-18 11:41:18 (133 MB/s) - ‘docs/api.python.langchain.com/en/stable/evaluation/langchain.evaluation.criteria.eval_chain.Criteria.html’ saved [19757]\n",
            "\n",
            "--2024-01-18 11:41:18--  https://api.python.langchain.com/en/stable/evaluation/langchain.evaluation.criteria.eval_chain.CriteriaResultOutputParser.html\n",
            "Reusing existing connection to api.python.langchain.com:443.\n",
            "HTTP request sent, awaiting response... 200 OK\n",
            "Length: unspecified [text/html]\n",
            "Saving to: ‘docs/api.python.langchain.com/en/stable/evaluation/langchain.evaluation.criteria.eval_chain.CriteriaResultOutputParser.html’\n",
            "\n",
            "api.python.langchai     [ <=>                ] 125.02K  --.-KB/s    in 0.003s  \n",
            "\n",
            "2024-01-18 11:41:18 (39.6 MB/s) - ‘docs/api.python.langchain.com/en/stable/evaluation/langchain.evaluation.criteria.eval_chain.CriteriaResultOutputParser.html’ saved [128021]\n",
            "\n",
            "--2024-01-18 11:41:18--  https://api.python.langchain.com/en/stable/evaluation/langchain.evaluation.embedding_distance.base.EmbeddingDistance.html\n",
            "Reusing existing connection to api.python.langchain.com:443.\n",
            "HTTP request sent, awaiting response... 200 OK\n",
            "Length: unspecified [text/html]\n",
            "Saving to: ‘docs/api.python.langchain.com/en/stable/evaluation/langchain.evaluation.embedding_distance.base.EmbeddingDistance.html’\n",
            "\n",
            "api.python.langchai     [ <=>                ]  16.51K  --.-KB/s    in 0s      \n",
            "\n",
            "2024-01-18 11:41:18 (254 MB/s) - ‘docs/api.python.langchain.com/en/stable/evaluation/langchain.evaluation.embedding_distance.base.EmbeddingDistance.html’ saved [16907]\n",
            "\n",
            "--2024-01-18 11:41:18--  https://api.python.langchain.com/en/stable/evaluation/langchain.evaluation.exact_match.base.ExactMatchStringEvaluator.html\n",
            "Reusing existing connection to api.python.langchain.com:443.\n",
            "HTTP request sent, awaiting response... 200 OK\n",
            "Length: unspecified [text/html]\n",
            "Saving to: ‘docs/api.python.langchain.com/en/stable/evaluation/langchain.evaluation.exact_match.base.ExactMatchStringEvaluator.html’\n",
            "\n",
            "api.python.langchai     [ <=>                ]  24.08K  --.-KB/s    in 0.001s  \n",
            "\n",
            "2024-01-18 11:41:18 (20.0 MB/s) - ‘docs/api.python.langchain.com/en/stable/evaluation/langchain.evaluation.exact_match.base.ExactMatchStringEvaluator.html’ saved [24661]\n",
            "\n",
            "--2024-01-18 11:41:18--  https://api.python.langchain.com/en/stable/evaluation/langchain.evaluation.parsing.base.JsonEqualityEvaluator.html\n",
            "Reusing existing connection to api.python.langchain.com:443.\n",
            "HTTP request sent, awaiting response... 200 OK\n",
            "Length: unspecified [text/html]\n",
            "Saving to: ‘docs/api.python.langchain.com/en/stable/evaluation/langchain.evaluation.parsing.base.JsonEqualityEvaluator.html’\n",
            "\n",
            "api.python.langchai     [ <=>                ]  26.43K  --.-KB/s    in 0s      \n",
            "\n",
            "2024-01-18 11:41:18 (249 MB/s) - ‘docs/api.python.langchain.com/en/stable/evaluation/langchain.evaluation.parsing.base.JsonEqualityEvaluator.html’ saved [27069]\n",
            "\n",
            "--2024-01-18 11:41:18--  https://api.python.langchain.com/en/stable/evaluation/langchain.evaluation.parsing.base.JsonValidityEvaluator.html\n",
            "Reusing existing connection to api.python.langchain.com:443.\n",
            "HTTP request sent, awaiting response... 200 OK\n",
            "Length: unspecified [text/html]\n",
            "Saving to: ‘docs/api.python.langchain.com/en/stable/evaluation/langchain.evaluation.parsing.base.JsonValidityEvaluator.html’\n",
            "\n",
            "api.python.langchai     [ <=>                ]  24.15K  --.-KB/s    in 0.001s  \n",
            "\n",
            "2024-01-18 11:41:19 (34.6 MB/s) - ‘docs/api.python.langchain.com/en/stable/evaluation/langchain.evaluation.parsing.base.JsonValidityEvaluator.html’ saved [24725]\n",
            "\n",
            "--2024-01-18 11:41:19--  https://api.python.langchain.com/en/stable/evaluation/langchain.evaluation.parsing.json_distance.JsonEditDistanceEvaluator.html\n",
            "Reusing existing connection to api.python.langchain.com:443.\n",
            "HTTP request sent, awaiting response... 200 OK\n",
            "Length: unspecified [text/html]\n",
            "Saving to: ‘docs/api.python.langchain.com/en/stable/evaluation/langchain.evaluation.parsing.json_distance.JsonEditDistanceEvaluator.html’\n",
            "\n",
            "api.python.langchai     [ <=>                ]  27.84K  --.-KB/s    in 0.001s  \n",
            "\n",
            "2024-01-18 11:41:19 (47.8 MB/s) - ‘docs/api.python.langchain.com/en/stable/evaluation/langchain.evaluation.parsing.json_distance.JsonEditDistanceEvaluator.html’ saved [28507]\n",
            "\n",
            "--2024-01-18 11:41:19--  https://api.python.langchain.com/en/stable/evaluation/langchain.evaluation.parsing.json_schema.JsonSchemaEvaluator.html\n",
            "Reusing existing connection to api.python.langchain.com:443.\n",
            "HTTP request sent, awaiting response... 200 OK\n",
            "Length: unspecified [text/html]\n",
            "Saving to: ‘docs/api.python.langchain.com/en/stable/evaluation/langchain.evaluation.parsing.json_schema.JsonSchemaEvaluator.html’\n",
            "\n",
            "api.python.langchai     [ <=>                ]  24.13K  --.-KB/s    in 0s      \n",
            "\n",
            "2024-01-18 11:41:19 (105 MB/s) - ‘docs/api.python.langchain.com/en/stable/evaluation/langchain.evaluation.parsing.json_schema.JsonSchemaEvaluator.html’ saved [24711]\n",
            "\n",
            "--2024-01-18 11:41:19--  https://api.python.langchain.com/en/stable/evaluation/langchain.evaluation.qa.eval_chain.ContextQAEvalChain.html\n",
            "Reusing existing connection to api.python.langchain.com:443.\n",
            "HTTP request sent, awaiting response... 200 OK\n",
            "Length: unspecified [text/html]\n",
            "Saving to: ‘docs/api.python.langchain.com/en/stable/evaluation/langchain.evaluation.qa.eval_chain.ContextQAEvalChain.html’\n",
            "\n",
            "api.python.langchai     [ <=>                ] 212.79K  --.-KB/s    in 0.006s  \n",
            "\n",
            "2024-01-18 11:41:19 (37.6 MB/s) - ‘docs/api.python.langchain.com/en/stable/evaluation/langchain.evaluation.qa.eval_chain.ContextQAEvalChain.html’ saved [217894]\n",
            "\n",
            "--2024-01-18 11:41:19--  https://api.python.langchain.com/en/stable/evaluation/langchain.evaluation.qa.eval_chain.CotQAEvalChain.html\n",
            "Reusing existing connection to api.python.langchain.com:443.\n",
            "HTTP request sent, awaiting response... 200 OK\n",
            "Length: unspecified [text/html]\n",
            "Saving to: ‘docs/api.python.langchain.com/en/stable/evaluation/langchain.evaluation.qa.eval_chain.CotQAEvalChain.html’\n",
            "\n",
            "api.python.langchai     [ <=>                ] 210.86K  --.-KB/s    in 0.005s  \n",
            "\n",
            "2024-01-18 11:41:19 (40.1 MB/s) - ‘docs/api.python.langchain.com/en/stable/evaluation/langchain.evaluation.qa.eval_chain.CotQAEvalChain.html’ saved [215922]\n",
            "\n",
            "--2024-01-18 11:41:19--  https://api.python.langchain.com/en/stable/evaluation/langchain.evaluation.qa.generate_chain.QAGenerateChain.html\n",
            "Reusing existing connection to api.python.langchain.com:443.\n",
            "HTTP request sent, awaiting response... 200 OK\n",
            "Length: unspecified [text/html]\n",
            "Saving to: ‘docs/api.python.langchain.com/en/stable/evaluation/langchain.evaluation.qa.generate_chain.QAGenerateChain.html’\n",
            "\n",
            "api.python.langchai     [ <=>                ] 199.64K  --.-KB/s    in 0.004s  \n",
            "\n",
            "2024-01-18 11:41:19 (48.5 MB/s) - ‘docs/api.python.langchain.com/en/stable/evaluation/langchain.evaluation.qa.generate_chain.QAGenerateChain.html’ saved [204432]\n",
            "\n",
            "--2024-01-18 11:41:19--  https://api.python.langchain.com/en/stable/evaluation/langchain.evaluation.regex_match.base.RegexMatchStringEvaluator.html\n",
            "Reusing existing connection to api.python.langchain.com:443.\n",
            "HTTP request sent, awaiting response... 200 OK\n",
            "Length: unspecified [text/html]\n",
            "Saving to: ‘docs/api.python.langchain.com/en/stable/evaluation/langchain.evaluation.regex_match.base.RegexMatchStringEvaluator.html’\n",
            "\n",
            "api.python.langchai     [ <=>                ]  23.45K  --.-KB/s    in 0.001s  \n",
            "\n",
            "2024-01-18 11:41:19 (43.9 MB/s) - ‘docs/api.python.langchain.com/en/stable/evaluation/langchain.evaluation.regex_match.base.RegexMatchStringEvaluator.html’ saved [24013]\n",
            "\n",
            "--2024-01-18 11:41:19--  https://api.python.langchain.com/en/stable/evaluation/langchain.evaluation.schema.LLMEvalChain.html\n",
            "Reusing existing connection to api.python.langchain.com:443.\n",
            "HTTP request sent, awaiting response... 200 OK\n",
            "Length: unspecified [text/html]\n",
            "Saving to: ‘docs/api.python.langchain.com/en/stable/evaluation/langchain.evaluation.schema.LLMEvalChain.html’\n",
            "\n",
            "api.python.langchai     [ <=>                ] 158.90K  --.-KB/s    in 0s      \n",
            "\n",
            "2024-01-18 11:41:19 (319 MB/s) - ‘docs/api.python.langchain.com/en/stable/evaluation/langchain.evaluation.schema.LLMEvalChain.html’ saved [162715]\n",
            "\n",
            "--2024-01-18 11:41:19--  https://api.python.langchain.com/en/stable/evaluation/langchain.evaluation.scoring.eval_chain.LabeledScoreStringEvalChain.html\n",
            "Reusing existing connection to api.python.langchain.com:443.\n",
            "HTTP request sent, awaiting response... 200 OK\n",
            "Length: unspecified [text/html]\n",
            "Saving to: ‘docs/api.python.langchain.com/en/stable/evaluation/langchain.evaluation.scoring.eval_chain.LabeledScoreStringEvalChain.html’\n",
            "\n",
            "api.python.langchai     [ <=>                ] 216.31K  --.-KB/s    in 0.006s  \n",
            "\n",
            "2024-01-18 11:41:19 (35.4 MB/s) - ‘docs/api.python.langchain.com/en/stable/evaluation/langchain.evaluation.scoring.eval_chain.LabeledScoreStringEvalChain.html’ saved [221501]\n",
            "\n",
            "--2024-01-18 11:41:19--  https://api.python.langchain.com/en/stable/evaluation/langchain.evaluation.scoring.eval_chain.ScoreStringEvalChain.html\n",
            "Reusing existing connection to api.python.langchain.com:443.\n",
            "HTTP request sent, awaiting response... 200 OK\n",
            "Length: unspecified [text/html]\n",
            "Saving to: ‘docs/api.python.langchain.com/en/stable/evaluation/langchain.evaluation.scoring.eval_chain.ScoreStringEvalChain.html’\n",
            "\n",
            "api.python.langchai     [ <=>                ] 217.80K  --.-KB/s    in 0.006s  \n",
            "\n",
            "2024-01-18 11:41:19 (37.8 MB/s) - ‘docs/api.python.langchain.com/en/stable/evaluation/langchain.evaluation.scoring.eval_chain.ScoreStringEvalChain.html’ saved [223030]\n",
            "\n",
            "--2024-01-18 11:41:19--  https://api.python.langchain.com/en/stable/evaluation/langchain.evaluation.scoring.eval_chain.ScoreStringResultOutputParser.html\n",
            "Reusing existing connection to api.python.langchain.com:443.\n",
            "HTTP request sent, awaiting response... 200 OK\n",
            "Length: unspecified [text/html]\n",
            "Saving to: ‘docs/api.python.langchain.com/en/stable/evaluation/langchain.evaluation.scoring.eval_chain.ScoreStringResultOutputParser.html’\n",
            "\n",
            "api.python.langchai     [ <=>                ] 125.91K  --.-KB/s    in 0.003s  \n",
            "\n",
            "2024-01-18 11:41:19 (39.9 MB/s) - ‘docs/api.python.langchain.com/en/stable/evaluation/langchain.evaluation.scoring.eval_chain.ScoreStringResultOutputParser.html’ saved [128934]\n",
            "\n",
            "--2024-01-18 11:41:19--  https://api.python.langchain.com/en/stable/evaluation/langchain.evaluation.string_distance.base.StringDistance.html\n",
            "Reusing existing connection to api.python.langchain.com:443.\n",
            "HTTP request sent, awaiting response... 200 OK\n",
            "Length: unspecified [text/html]\n",
            "Saving to: ‘docs/api.python.langchain.com/en/stable/evaluation/langchain.evaluation.string_distance.base.StringDistance.html’\n",
            "\n",
            "api.python.langchai     [ <=>                ]  17.01K  --.-KB/s    in 0s      \n",
            "\n",
            "2024-01-18 11:41:19 (103 MB/s) - ‘docs/api.python.langchain.com/en/stable/evaluation/langchain.evaluation.string_distance.base.StringDistance.html’ saved [17417]\n",
            "\n",
            "--2024-01-18 11:41:19--  https://api.python.langchain.com/en/stable/evaluation/langchain.evaluation.comparison.eval_chain.resolve_pairwise_criteria.html\n",
            "Reusing existing connection to api.python.langchain.com:443.\n",
            "HTTP request sent, awaiting response... 200 OK\n",
            "Length: unspecified [text/html]\n",
            "Saving to: ‘docs/api.python.langchain.com/en/stable/evaluation/langchain.evaluation.comparison.eval_chain.resolve_pairwise_criteria.html’\n",
            "\n",
            "api.python.langchai     [ <=>                ]  14.25K  --.-KB/s    in 0s      \n",
            "\n",
            "2024-01-18 11:41:19 (283 MB/s) - ‘docs/api.python.langchain.com/en/stable/evaluation/langchain.evaluation.comparison.eval_chain.resolve_pairwise_criteria.html’ saved [14591]\n",
            "\n",
            "--2024-01-18 11:41:19--  https://api.python.langchain.com/en/stable/evaluation/langchain.evaluation.criteria.eval_chain.resolve_criteria.html\n",
            "Reusing existing connection to api.python.langchain.com:443.\n",
            "HTTP request sent, awaiting response... 200 OK\n",
            "Length: unspecified [text/html]\n",
            "Saving to: ‘docs/api.python.langchain.com/en/stable/evaluation/langchain.evaluation.criteria.eval_chain.resolve_criteria.html’\n",
            "\n",
            "api.python.langchai     [ <=>                ]  13.81K  --.-KB/s    in 0s      \n",
            "\n",
            "2024-01-18 11:41:19 (30.1 MB/s) - ‘docs/api.python.langchain.com/en/stable/evaluation/langchain.evaluation.criteria.eval_chain.resolve_criteria.html’ saved [14146]\n",
            "\n",
            "--2024-01-18 11:41:19--  https://api.python.langchain.com/en/stable/evaluation/langchain.evaluation.scoring.eval_chain.resolve_criteria.html\n",
            "Reusing existing connection to api.python.langchain.com:443.\n",
            "HTTP request sent, awaiting response... 200 OK\n",
            "Length: unspecified [text/html]\n",
            "Saving to: ‘docs/api.python.langchain.com/en/stable/evaluation/langchain.evaluation.scoring.eval_chain.resolve_criteria.html’\n",
            "\n",
            "api.python.langchai     [ <=>                ]  13.97K  --.-KB/s    in 0s      \n",
            "\n",
            "2024-01-18 11:41:19 (47.8 MB/s) - ‘docs/api.python.langchain.com/en/stable/evaluation/langchain.evaluation.scoring.eval_chain.resolve_criteria.html’ saved [14308]\n",
            "\n",
            "--2024-01-18 11:41:19--  https://api.python.langchain.com/en/stable/hub/langchain.hub.pull.html\n",
            "Reusing existing connection to api.python.langchain.com:443.\n",
            "HTTP request sent, awaiting response... 200 OK\n",
            "Length: unspecified [text/html]\n",
            "Saving to: ‘docs/api.python.langchain.com/en/stable/hub/langchain.hub.pull.html’\n",
            "\n",
            "api.python.langchai     [ <=>                ]  12.35K  --.-KB/s    in 0s      \n",
            "\n",
            "2024-01-18 11:41:19 (159 MB/s) - ‘docs/api.python.langchain.com/en/stable/hub/langchain.hub.pull.html’ saved [12646]\n",
            "\n",
            "--2024-01-18 11:41:19--  https://api.python.langchain.com/en/stable/hub/langchain.hub.push.html\n",
            "Reusing existing connection to api.python.langchain.com:443.\n",
            "HTTP request sent, awaiting response... 200 OK\n",
            "Length: unspecified [text/html]\n",
            "Saving to: ‘docs/api.python.langchain.com/en/stable/hub/langchain.hub.push.html’\n",
            "\n",
            "api.python.langchai     [ <=>                ]  14.27K  --.-KB/s    in 0.003s  \n",
            "\n",
            "2024-01-18 11:41:19 (5.35 MB/s) - ‘docs/api.python.langchain.com/en/stable/hub/langchain.hub.push.html’ saved [14611]\n",
            "\n",
            "--2024-01-18 11:41:19--  https://api.python.langchain.com/en/stable/indexes/langchain.indexes.base.RecordManager.html\n",
            "Reusing existing connection to api.python.langchain.com:443.\n",
            "HTTP request sent, awaiting response... 200 OK\n",
            "Length: unspecified [text/html]\n",
            "Saving to: ‘docs/api.python.langchain.com/en/stable/indexes/langchain.indexes.base.RecordManager.html’\n",
            "\n",
            "api.python.langchai     [ <=>                ]  40.48K  --.-KB/s    in 0.001s  \n",
            "\n",
            "2024-01-18 11:41:19 (41.7 MB/s) - ‘docs/api.python.langchain.com/en/stable/indexes/langchain.indexes.base.RecordManager.html’ saved [41449]\n",
            "\n",
            "--2024-01-18 11:41:19--  https://api.python.langchain.com/en/stable/indexes/langchain.indexes.graph.GraphIndexCreator.html\n",
            "Reusing existing connection to api.python.langchain.com:443.\n",
            "HTTP request sent, awaiting response... 200 OK\n",
            "Length: unspecified [text/html]\n",
            "Saving to: ‘docs/api.python.langchain.com/en/stable/indexes/langchain.indexes.graph.GraphIndexCreator.html’\n",
            "\n",
            "api.python.langchai     [ <=>                ]  53.41K  --.-KB/s    in 0.001s  \n",
            "\n",
            "2024-01-18 11:41:19 (44.5 MB/s) - ‘docs/api.python.langchain.com/en/stable/indexes/langchain.indexes.graph.GraphIndexCreator.html’ saved [54691]\n",
            "\n",
            "--2024-01-18 11:41:19--  https://api.python.langchain.com/en/stable/indexes/langchain.indexes.vectorstore.VectorStoreIndexWrapper.html\n",
            "Reusing existing connection to api.python.langchain.com:443.\n",
            "HTTP request sent, awaiting response... 200 OK\n",
            "Length: unspecified [text/html]\n",
            "Saving to: ‘docs/api.python.langchain.com/en/stable/indexes/langchain.indexes.vectorstore.VectorStoreIndexWrapper.html’\n",
            "\n",
            "api.python.langchai     [ <=>                ]  44.33K  --.-KB/s    in 0.001s  \n",
            "\n",
            "2024-01-18 11:41:19 (43.1 MB/s) - ‘docs/api.python.langchain.com/en/stable/indexes/langchain.indexes.vectorstore.VectorStoreIndexWrapper.html’ saved [45390]\n",
            "\n",
            "--2024-01-18 11:41:19--  https://api.python.langchain.com/en/stable/indexes/langchain.indexes.vectorstore.VectorstoreIndexCreator.html\n",
            "Reusing existing connection to api.python.langchain.com:443.\n",
            "HTTP request sent, awaiting response... 200 OK\n",
            "Length: unspecified [text/html]\n",
            "Saving to: ‘docs/api.python.langchain.com/en/stable/indexes/langchain.indexes.vectorstore.VectorstoreIndexCreator.html’\n",
            "\n",
            "api.python.langchai     [ <=>                ]  46.45K  --.-KB/s    in 0.001s  \n",
            "\n",
            "2024-01-18 11:41:19 (39.3 MB/s) - ‘docs/api.python.langchain.com/en/stable/indexes/langchain.indexes.vectorstore.VectorstoreIndexCreator.html’ saved [47561]\n",
            "\n",
            "--2024-01-18 11:41:19--  https://api.python.langchain.com/en/stable/memory/langchain.memory.buffer.ConversationBufferMemory.html\n",
            "Reusing existing connection to api.python.langchain.com:443.\n",
            "HTTP request sent, awaiting response... 200 OK\n",
            "Length: unspecified [text/html]\n",
            "Saving to: ‘docs/api.python.langchain.com/en/stable/memory/langchain.memory.buffer.ConversationBufferMemory.html’\n",
            "\n",
            "api.python.langchai     [ <=>                ]  58.23K  --.-KB/s    in 0.002s  \n",
            "\n",
            "2024-01-18 11:41:19 (37.8 MB/s) - ‘docs/api.python.langchain.com/en/stable/memory/langchain.memory.buffer.ConversationBufferMemory.html’ saved [59629]\n",
            "\n",
            "--2024-01-18 11:41:19--  https://api.python.langchain.com/en/stable/memory/langchain.memory.buffer.ConversationStringBufferMemory.html\n",
            "Reusing existing connection to api.python.langchain.com:443.\n",
            "HTTP request sent, awaiting response... 200 OK\n",
            "Length: unspecified [text/html]\n",
            "Saving to: ‘docs/api.python.langchain.com/en/stable/memory/langchain.memory.buffer.ConversationStringBufferMemory.html’\n",
            "\n",
            "api.python.langchai     [ <=>                ]  53.15K  --.-KB/s    in 0s      \n",
            "\n",
            "2024-01-18 11:41:19 (257 MB/s) - ‘docs/api.python.langchain.com/en/stable/memory/langchain.memory.buffer.ConversationStringBufferMemory.html’ saved [54426]\n",
            "\n",
            "--2024-01-18 11:41:19--  https://api.python.langchain.com/en/stable/memory/langchain.memory.buffer_window.ConversationBufferWindowMemory.html\n",
            "Reusing existing connection to api.python.langchain.com:443.\n",
            "HTTP request sent, awaiting response... 200 OK\n",
            "Length: unspecified [text/html]\n",
            "Saving to: ‘docs/api.python.langchain.com/en/stable/memory/langchain.memory.buffer_window.ConversationBufferWindowMemory.html’\n",
            "\n",
            "api.python.langchai     [ <=>                ]  57.88K  --.-KB/s    in 0.001s  \n",
            "\n",
            "2024-01-18 11:41:19 (40.1 MB/s) - ‘docs/api.python.langchain.com/en/stable/memory/langchain.memory.buffer_window.ConversationBufferWindowMemory.html’ saved [59267]\n",
            "\n",
            "--2024-01-18 11:41:19--  https://api.python.langchain.com/en/stable/memory/langchain.memory.chat_memory.BaseChatMemory.html\n",
            "Reusing existing connection to api.python.langchain.com:443.\n",
            "HTTP request sent, awaiting response... 200 OK\n",
            "Length: unspecified [text/html]\n",
            "Saving to: ‘docs/api.python.langchain.com/en/stable/memory/langchain.memory.chat_memory.BaseChatMemory.html’\n",
            "\n",
            "api.python.langchai     [ <=>                ]  51.93K  --.-KB/s    in 0.001s  \n",
            "\n",
            "2024-01-18 11:41:19 (40.3 MB/s) - ‘docs/api.python.langchain.com/en/stable/memory/langchain.memory.chat_memory.BaseChatMemory.html’ saved [53177]\n",
            "\n",
            "--2024-01-18 11:41:19--  https://api.python.langchain.com/en/stable/memory/langchain.memory.combined.CombinedMemory.html\n",
            "Reusing existing connection to api.python.langchain.com:443.\n",
            "HTTP request sent, awaiting response... 200 OK\n",
            "Length: unspecified [text/html]\n",
            "Saving to: ‘docs/api.python.langchain.com/en/stable/memory/langchain.memory.combined.CombinedMemory.html’\n",
            "\n",
            "api.python.langchai     [ <=>                ]  49.86K  --.-KB/s    in 0.001s  \n",
            "\n",
            "2024-01-18 11:41:19 (40.5 MB/s) - ‘docs/api.python.langchain.com/en/stable/memory/langchain.memory.combined.CombinedMemory.html’ saved [51056]\n",
            "\n",
            "--2024-01-18 11:41:19--  https://api.python.langchain.com/en/stable/memory/langchain.memory.entity.BaseEntityStore.html\n",
            "Reusing existing connection to api.python.langchain.com:443.\n",
            "HTTP request sent, awaiting response... 200 OK\n",
            "Length: unspecified [text/html]\n",
            "Saving to: ‘docs/api.python.langchain.com/en/stable/memory/langchain.memory.entity.BaseEntityStore.html’\n",
            "\n",
            "api.python.langchai     [ <=>                ]  43.43K  --.-KB/s    in 0s      \n",
            "\n",
            "2024-01-18 11:41:19 (295 MB/s) - ‘docs/api.python.langchain.com/en/stable/memory/langchain.memory.entity.BaseEntityStore.html’ saved [44475]\n",
            "\n",
            "--2024-01-18 11:41:19--  https://api.python.langchain.com/en/stable/memory/langchain.memory.entity.ConversationEntityMemory.html\n",
            "Reusing existing connection to api.python.langchain.com:443.\n",
            "HTTP request sent, awaiting response... 200 OK\n",
            "Length: unspecified [text/html]\n",
            "Saving to: ‘docs/api.python.langchain.com/en/stable/memory/langchain.memory.entity.ConversationEntityMemory.html’\n",
            "\n",
            "api.python.langchai     [ <=>                ]  73.15K  --.-KB/s    in 0.002s  \n",
            "\n",
            "2024-01-18 11:41:19 (42.0 MB/s) - ‘docs/api.python.langchain.com/en/stable/memory/langchain.memory.entity.ConversationEntityMemory.html’ saved [74903]\n",
            "\n",
            "--2024-01-18 11:41:19--  https://api.python.langchain.com/en/stable/memory/langchain.memory.entity.InMemoryEntityStore.html\n",
            "Reusing existing connection to api.python.langchain.com:443.\n",
            "HTTP request sent, awaiting response... 200 OK\n",
            "Length: unspecified [text/html]\n",
            "Saving to: ‘docs/api.python.langchain.com/en/stable/memory/langchain.memory.entity.InMemoryEntityStore.html’\n",
            "\n",
            "api.python.langchai     [ <=>                ]  44.32K  --.-KB/s    in 0.001s  \n",
            "\n",
            "2024-01-18 11:41:19 (41.8 MB/s) - ‘docs/api.python.langchain.com/en/stable/memory/langchain.memory.entity.InMemoryEntityStore.html’ saved [45386]\n",
            "\n",
            "--2024-01-18 11:41:19--  https://api.python.langchain.com/en/stable/memory/langchain.memory.entity.RedisEntityStore.html\n",
            "Reusing existing connection to api.python.langchain.com:443.\n",
            "HTTP request sent, awaiting response... 200 OK\n",
            "Length: unspecified [text/html]\n",
            "Saving to: ‘docs/api.python.langchain.com/en/stable/memory/langchain.memory.entity.RedisEntityStore.html’\n",
            "\n",
            "api.python.langchai     [ <=>                ]  47.53K  --.-KB/s    in 0.001s  \n",
            "\n",
            "2024-01-18 11:41:19 (35.8 MB/s) - ‘docs/api.python.langchain.com/en/stable/memory/langchain.memory.entity.RedisEntityStore.html’ saved [48669]\n",
            "\n",
            "--2024-01-18 11:41:19--  https://api.python.langchain.com/en/stable/memory/langchain.memory.entity.SQLiteEntityStore.html\n",
            "Reusing existing connection to api.python.langchain.com:443.\n",
            "HTTP request sent, awaiting response... 200 OK\n",
            "Length: unspecified [text/html]\n",
            "Saving to: ‘docs/api.python.langchain.com/en/stable/memory/langchain.memory.entity.SQLiteEntityStore.html’\n",
            "\n",
            "api.python.langchai     [ <=>                ]  45.46K  --.-KB/s    in 0.001s  \n",
            "\n",
            "2024-01-18 11:41:19 (52.1 MB/s) - ‘docs/api.python.langchain.com/en/stable/memory/langchain.memory.entity.SQLiteEntityStore.html’ saved [46556]\n",
            "\n",
            "--2024-01-18 11:41:19--  https://api.python.langchain.com/en/stable/memory/langchain.memory.entity.UpstashRedisEntityStore.html\n",
            "Reusing existing connection to api.python.langchain.com:443.\n",
            "HTTP request sent, awaiting response... 200 OK\n",
            "Length: unspecified [text/html]\n",
            "Saving to: ‘docs/api.python.langchain.com/en/stable/memory/langchain.memory.entity.UpstashRedisEntityStore.html’\n",
            "\n",
            "api.python.langchai     [ <=>                ]  44.17K  --.-KB/s    in 0.001s  \n",
            "\n",
            "2024-01-18 11:41:19 (41.4 MB/s) - ‘docs/api.python.langchain.com/en/stable/memory/langchain.memory.entity.UpstashRedisEntityStore.html’ saved [45231]\n",
            "\n",
            "--2024-01-18 11:41:19--  https://api.python.langchain.com/en/stable/memory/langchain.memory.kg.ConversationKGMemory.html\n",
            "Reusing existing connection to api.python.langchain.com:443.\n",
            "HTTP request sent, awaiting response... 200 OK\n",
            "Length: unspecified [text/html]\n",
            "Saving to: ‘docs/api.python.langchain.com/en/stable/memory/langchain.memory.kg.ConversationKGMemory.html’\n",
            "\n",
            "api.python.langchai     [ <=>                ]  78.20K  --.-KB/s    in 0.002s  \n",
            "\n",
            "2024-01-18 11:41:19 (41.4 MB/s) - ‘docs/api.python.langchain.com/en/stable/memory/langchain.memory.kg.ConversationKGMemory.html’ saved [80077]\n",
            "\n",
            "--2024-01-18 11:41:19--  https://api.python.langchain.com/en/stable/memory/langchain.memory.motorhead_memory.MotorheadMemory.html\n",
            "Reusing existing connection to api.python.langchain.com:443.\n",
            "HTTP request sent, awaiting response... 200 OK\n",
            "Length: unspecified [text/html]\n",
            "Saving to: ‘docs/api.python.langchain.com/en/stable/memory/langchain.memory.motorhead_memory.MotorheadMemory.html’\n",
            "\n",
            "api.python.langchai     [ <=>                ]  59.40K  --.-KB/s    in 0.001s  \n",
            "\n",
            "2024-01-18 11:41:19 (50.7 MB/s) - ‘docs/api.python.langchain.com/en/stable/memory/langchain.memory.motorhead_memory.MotorheadMemory.html’ saved [60826]\n",
            "\n",
            "--2024-01-18 11:41:19--  https://api.python.langchain.com/en/stable/memory/langchain.memory.readonly.ReadOnlySharedMemory.html\n",
            "Reusing existing connection to api.python.langchain.com:443.\n",
            "HTTP request sent, awaiting response... 200 OK\n",
            "Length: unspecified [text/html]\n",
            "Saving to: ‘docs/api.python.langchain.com/en/stable/memory/langchain.memory.readonly.ReadOnlySharedMemory.html’\n",
            "\n",
            "api.python.langchai     [ <=>                ]  49.91K  --.-KB/s    in 0.001s  \n",
            "\n",
            "2024-01-18 11:41:19 (40.9 MB/s) - ‘docs/api.python.langchain.com/en/stable/memory/langchain.memory.readonly.ReadOnlySharedMemory.html’ saved [51104]\n",
            "\n",
            "--2024-01-18 11:41:19--  https://api.python.langchain.com/en/stable/memory/langchain.memory.simple.SimpleMemory.html\n",
            "Reusing existing connection to api.python.langchain.com:443.\n",
            "HTTP request sent, awaiting response... 200 OK\n",
            "Length: unspecified [text/html]\n",
            "Saving to: ‘docs/api.python.langchain.com/en/stable/memory/langchain.memory.simple.SimpleMemory.html’\n",
            "\n",
            "api.python.langchai     [ <=>                ]  49.23K  --.-KB/s    in 0.001s  \n",
            "\n",
            "2024-01-18 11:41:19 (42.0 MB/s) - ‘docs/api.python.langchain.com/en/stable/memory/langchain.memory.simple.SimpleMemory.html’ saved [50416]\n",
            "\n",
            "--2024-01-18 11:41:19--  https://api.python.langchain.com/en/stable/memory/langchain.memory.summary.ConversationSummaryMemory.html\n",
            "Reusing existing connection to api.python.langchain.com:443.\n",
            "HTTP request sent, awaiting response... 200 OK\n",
            "Length: unspecified [text/html]\n",
            "Saving to: ‘docs/api.python.langchain.com/en/stable/memory/langchain.memory.summary.ConversationSummaryMemory.html’\n",
            "\n",
            "api.python.langchai     [ <=>                ]  64.56K  --.-KB/s    in 0.002s  \n",
            "\n",
            "2024-01-18 11:41:20 (38.9 MB/s) - ‘docs/api.python.langchain.com/en/stable/memory/langchain.memory.summary.ConversationSummaryMemory.html’ saved [66108]\n",
            "\n",
            "--2024-01-18 11:41:20--  https://api.python.langchain.com/en/stable/memory/langchain.memory.summary.SummarizerMixin.html\n",
            "Reusing existing connection to api.python.langchain.com:443.\n",
            "HTTP request sent, awaiting response... 200 OK\n",
            "Length: unspecified [text/html]\n",
            "Saving to: ‘docs/api.python.langchain.com/en/stable/memory/langchain.memory.summary.SummarizerMixin.html’\n",
            "\n",
            "api.python.langchai     [ <=>                ]  46.58K  --.-KB/s    in 0.001s  \n",
            "\n",
            "2024-01-18 11:41:20 (42.5 MB/s) - ‘docs/api.python.langchain.com/en/stable/memory/langchain.memory.summary.SummarizerMixin.html’ saved [47695]\n",
            "\n",
            "--2024-01-18 11:41:20--  https://api.python.langchain.com/en/stable/memory/langchain.memory.summary_buffer.ConversationSummaryBufferMemory.html\n",
            "Reusing existing connection to api.python.langchain.com:443.\n",
            "HTTP request sent, awaiting response... 200 OK\n",
            "Length: unspecified [text/html]\n",
            "Saving to: ‘docs/api.python.langchain.com/en/stable/memory/langchain.memory.summary_buffer.ConversationSummaryBufferMemory.html’\n",
            "\n",
            "api.python.langchai     [ <=>                ]  66.12K  --.-KB/s    in 0.002s  \n",
            "\n",
            "2024-01-18 11:41:20 (40.9 MB/s) - ‘docs/api.python.langchain.com/en/stable/memory/langchain.memory.summary_buffer.ConversationSummaryBufferMemory.html’ saved [67711]\n",
            "\n",
            "--2024-01-18 11:41:20--  https://api.python.langchain.com/en/stable/memory/langchain.memory.token_buffer.ConversationTokenBufferMemory.html\n",
            "Reusing existing connection to api.python.langchain.com:443.\n",
            "HTTP request sent, awaiting response... 200 OK\n",
            "Length: unspecified [text/html]\n",
            "Saving to: ‘docs/api.python.langchain.com/en/stable/memory/langchain.memory.token_buffer.ConversationTokenBufferMemory.html’\n",
            "\n",
            "api.python.langchai     [ <=>                ]  58.40K  --.-KB/s    in 0s      \n",
            "\n",
            "2024-01-18 11:41:20 (331 MB/s) - ‘docs/api.python.langchain.com/en/stable/memory/langchain.memory.token_buffer.ConversationTokenBufferMemory.html’ saved [59798]\n",
            "\n",
            "--2024-01-18 11:41:20--  https://api.python.langchain.com/en/stable/memory/langchain.memory.vectorstore.VectorStoreRetrieverMemory.html\n",
            "Reusing existing connection to api.python.langchain.com:443.\n",
            "HTTP request sent, awaiting response... 200 OK\n",
            "Length: unspecified [text/html]\n",
            "Saving to: ‘docs/api.python.langchain.com/en/stable/memory/langchain.memory.vectorstore.VectorStoreRetrieverMemory.html’\n",
            "\n",
            "api.python.langchai     [ <=>                ]  54.47K  --.-KB/s    in 0s      \n",
            "\n",
            "2024-01-18 11:41:20 (244 MB/s) - ‘docs/api.python.langchain.com/en/stable/memory/langchain.memory.vectorstore.VectorStoreRetrieverMemory.html’ saved [55776]\n",
            "\n",
            "--2024-01-18 11:41:20--  https://api.python.langchain.com/en/stable/memory/langchain.memory.zep_memory.ZepMemory.html\n",
            "Reusing existing connection to api.python.langchain.com:443.\n",
            "HTTP request sent, awaiting response... 200 OK\n",
            "Length: unspecified [text/html]\n",
            "Saving to: ‘docs/api.python.langchain.com/en/stable/memory/langchain.memory.zep_memory.ZepMemory.html’\n",
            "\n",
            "api.python.langchai     [ <=>                ]  59.21K  --.-KB/s    in 0.001s  \n",
            "\n",
            "2024-01-18 11:41:20 (90.9 MB/s) - ‘docs/api.python.langchain.com/en/stable/memory/langchain.memory.zep_memory.ZepMemory.html’ saved [60632]\n",
            "\n",
            "--2024-01-18 11:41:20--  https://api.python.langchain.com/en/stable/memory/langchain.memory.utils.get_prompt_input_key.html\n",
            "Reusing existing connection to api.python.langchain.com:443.\n",
            "HTTP request sent, awaiting response... 200 OK\n",
            "Length: unspecified [text/html]\n",
            "Saving to: ‘docs/api.python.langchain.com/en/stable/memory/langchain.memory.utils.get_prompt_input_key.html’\n",
            "\n",
            "api.python.langchai     [ <=>                ]  11.76K  --.-KB/s    in 0s      \n",
            "\n",
            "2024-01-18 11:41:20 (173 MB/s) - ‘docs/api.python.langchain.com/en/stable/memory/langchain.memory.utils.get_prompt_input_key.html’ saved [12038]\n",
            "\n",
            "--2024-01-18 11:41:20--  https://api.python.langchain.com/en/stable/model_laboratory/langchain.model_laboratory.ModelLaboratory.html\n",
            "Reusing existing connection to api.python.langchain.com:443.\n",
            "HTTP request sent, awaiting response... 200 OK\n",
            "Length: unspecified [text/html]\n",
            "Saving to: ‘docs/api.python.langchain.com/en/stable/model_laboratory/langchain.model_laboratory.ModelLaboratory.html’\n",
            "\n",
            "api.python.langchai     [ <=>                ]  19.46K  --.-KB/s    in 0s      \n",
            "\n",
            "2024-01-18 11:41:20 (209 MB/s) - ‘docs/api.python.langchain.com/en/stable/model_laboratory/langchain.model_laboratory.ModelLaboratory.html’ saved [19931]\n",
            "\n",
            "--2024-01-18 11:41:20--  https://api.python.langchain.com/en/stable/output_parsers/langchain.output_parsers.boolean.BooleanOutputParser.html\n",
            "Reusing existing connection to api.python.langchain.com:443.\n",
            "HTTP request sent, awaiting response... 200 OK\n",
            "Length: unspecified [text/html]\n",
            "Saving to: ‘docs/api.python.langchain.com/en/stable/output_parsers/langchain.output_parsers.boolean.BooleanOutputParser.html’\n",
            "\n",
            "api.python.langchai     [ <=>                ] 124.20K  --.-KB/s    in 0.003s  \n",
            "\n",
            "2024-01-18 11:41:20 (36.9 MB/s) - ‘docs/api.python.langchain.com/en/stable/output_parsers/langchain.output_parsers.boolean.BooleanOutputParser.html’ saved [127182]\n",
            "\n",
            "--2024-01-18 11:41:20--  https://api.python.langchain.com/en/stable/output_parsers/langchain.output_parsers.combining.CombiningOutputParser.html\n",
            "Reusing existing connection to api.python.langchain.com:443.\n",
            "HTTP request sent, awaiting response... 200 OK\n",
            "Length: unspecified [text/html]\n",
            "Saving to: ‘docs/api.python.langchain.com/en/stable/output_parsers/langchain.output_parsers.combining.CombiningOutputParser.html’\n",
            "\n",
            "api.python.langchai     [ <=>                ] 124.40K  --.-KB/s    in 0.003s  \n",
            "\n",
            "2024-01-18 11:41:20 (45.9 MB/s) - ‘docs/api.python.langchain.com/en/stable/output_parsers/langchain.output_parsers.combining.CombiningOutputParser.html’ saved [127387]\n",
            "\n",
            "--2024-01-18 11:41:20--  https://api.python.langchain.com/en/stable/output_parsers/langchain.output_parsers.datetime.DatetimeOutputParser.html\n",
            "Reusing existing connection to api.python.langchain.com:443.\n",
            "HTTP request sent, awaiting response... 200 OK\n",
            "Length: unspecified [text/html]\n",
            "Saving to: ‘docs/api.python.langchain.com/en/stable/output_parsers/langchain.output_parsers.datetime.DatetimeOutputParser.html’\n",
            "\n",
            "api.python.langchai     [ <=>                ] 124.37K  --.-KB/s    in 0.003s  \n",
            "\n",
            "2024-01-18 11:41:20 (39.5 MB/s) - ‘docs/api.python.langchain.com/en/stable/output_parsers/langchain.output_parsers.datetime.DatetimeOutputParser.html’ saved [127351]\n",
            "\n",
            "--2024-01-18 11:41:20--  https://api.python.langchain.com/en/stable/output_parsers/langchain.output_parsers.enum.EnumOutputParser.html\n",
            "Reusing existing connection to api.python.langchain.com:443.\n",
            "HTTP request sent, awaiting response... 200 OK\n",
            "Length: unspecified [text/html]\n",
            "Saving to: ‘docs/api.python.langchain.com/en/stable/output_parsers/langchain.output_parsers.enum.EnumOutputParser.html’\n",
            "\n",
            "api.python.langchai     [ <=>                ] 123.13K  --.-KB/s    in 0.001s  \n",
            "\n",
            "2024-01-18 11:41:20 (129 MB/s) - ‘docs/api.python.langchain.com/en/stable/output_parsers/langchain.output_parsers.enum.EnumOutputParser.html’ saved [126089]\n",
            "\n",
            "--2024-01-18 11:41:20--  https://api.python.langchain.com/en/stable/output_parsers/langchain.output_parsers.ernie_functions.JsonKeyOutputFunctionsParser.html\n",
            "Reusing existing connection to api.python.langchain.com:443.\n",
            "HTTP request sent, awaiting response... 200 OK\n",
            "Length: unspecified [text/html]\n",
            "Saving to: ‘docs/api.python.langchain.com/en/stable/output_parsers/langchain.output_parsers.ernie_functions.JsonKeyOutputFunctionsParser.html’\n",
            "\n",
            "api.python.langchai     [ <=>                ] 129.24K  --.-KB/s    in 0.003s  \n",
            "\n",
            "2024-01-18 11:41:20 (43.7 MB/s) - ‘docs/api.python.langchain.com/en/stable/output_parsers/langchain.output_parsers.ernie_functions.JsonKeyOutputFunctionsParser.html’ saved [132342]\n",
            "\n",
            "--2024-01-18 11:41:20--  https://api.python.langchain.com/en/stable/output_parsers/langchain.output_parsers.ernie_functions.JsonOutputFunctionsParser.html\n",
            "Reusing existing connection to api.python.langchain.com:443.\n",
            "HTTP request sent, awaiting response... 200 OK\n",
            "Length: unspecified [text/html]\n",
            "Saving to: ‘docs/api.python.langchain.com/en/stable/output_parsers/langchain.output_parsers.ernie_functions.JsonOutputFunctionsParser.html’\n",
            "\n",
            "api.python.langchai     [ <=>                ] 128.31K  --.-KB/s    in 0s      \n",
            "\n",
            "2024-01-18 11:41:20 (302 MB/s) - ‘docs/api.python.langchain.com/en/stable/output_parsers/langchain.output_parsers.ernie_functions.JsonOutputFunctionsParser.html’ saved [131388]\n",
            "\n",
            "--2024-01-18 11:41:20--  https://api.python.langchain.com/en/stable/output_parsers/langchain.output_parsers.ernie_functions.OutputFunctionsParser.html\n",
            "Reusing existing connection to api.python.langchain.com:443.\n",
            "HTTP request sent, awaiting response... 200 OK\n",
            "Length: unspecified [text/html]\n",
            "Saving to: ‘docs/api.python.langchain.com/en/stable/output_parsers/langchain.output_parsers.ernie_functions.OutputFunctionsParser.html’\n",
            "\n",
            "api.python.langchai     [ <=>                ] 123.06K  --.-KB/s    in 0.008s  \n",
            "\n",
            "2024-01-18 11:41:20 (15.1 MB/s) - ‘docs/api.python.langchain.com/en/stable/output_parsers/langchain.output_parsers.ernie_functions.OutputFunctionsParser.html’ saved [126011]\n",
            "\n",
            "--2024-01-18 11:41:20--  https://api.python.langchain.com/en/stable/output_parsers/langchain.output_parsers.ernie_functions.PydanticAttrOutputFunctionsParser.html\n",
            "Reusing existing connection to api.python.langchain.com:443.\n",
            "HTTP request sent, awaiting response... 200 OK\n",
            "Length: unspecified [text/html]\n",
            "Saving to: ‘docs/api.python.langchain.com/en/stable/output_parsers/langchain.output_parsers.ernie_functions.PydanticAttrOutputFunctionsParser.html’\n",
            "\n",
            "api.python.langchai     [ <=>                ] 126.59K  --.-KB/s    in 0.004s  \n",
            "\n",
            "2024-01-18 11:41:20 (33.1 MB/s) - ‘docs/api.python.langchain.com/en/stable/output_parsers/langchain.output_parsers.ernie_functions.PydanticAttrOutputFunctionsParser.html’ saved [129625]\n",
            "\n",
            "--2024-01-18 11:41:20--  https://api.python.langchain.com/en/stable/output_parsers/langchain.output_parsers.ernie_functions.PydanticOutputFunctionsParser.html\n",
            "Reusing existing connection to api.python.langchain.com:443.\n",
            "HTTP request sent, awaiting response... 200 OK\n",
            "Length: unspecified [text/html]\n",
            "Saving to: ‘docs/api.python.langchain.com/en/stable/output_parsers/langchain.output_parsers.ernie_functions.PydanticOutputFunctionsParser.html’\n",
            "\n",
            "api.python.langchai     [ <=>                ] 125.35K  --.-KB/s    in 0.003s  \n",
            "\n",
            "2024-01-18 11:41:20 (38.0 MB/s) - ‘docs/api.python.langchain.com/en/stable/output_parsers/langchain.output_parsers.ernie_functions.PydanticOutputFunctionsParser.html’ saved [128361]\n",
            "\n",
            "--2024-01-18 11:41:20--  https://api.python.langchain.com/en/stable/output_parsers/langchain.output_parsers.fix.OutputFixingParser.html\n",
            "Reusing existing connection to api.python.langchain.com:443.\n",
            "HTTP request sent, awaiting response... 200 OK\n",
            "Length: unspecified [text/html]\n",
            "Saving to: ‘docs/api.python.langchain.com/en/stable/output_parsers/langchain.output_parsers.fix.OutputFixingParser.html’\n",
            "\n",
            "api.python.langchai     [ <=>                ] 130.21K  --.-KB/s    in 0.003s  \n",
            "\n",
            "2024-01-18 11:41:20 (38.0 MB/s) - ‘docs/api.python.langchain.com/en/stable/output_parsers/langchain.output_parsers.fix.OutputFixingParser.html’ saved [133338]\n",
            "\n",
            "--2024-01-18 11:41:20--  https://api.python.langchain.com/en/stable/output_parsers/langchain.output_parsers.openai_functions.JsonKeyOutputFunctionsParser.html\n",
            "Reusing existing connection to api.python.langchain.com:443.\n",
            "HTTP request sent, awaiting response... 200 OK\n",
            "Length: unspecified [text/html]\n",
            "Saving to: ‘docs/api.python.langchain.com/en/stable/output_parsers/langchain.output_parsers.openai_functions.JsonKeyOutputFunctionsParser.html’\n",
            "\n",
            "api.python.langchai     [ <=>                ] 129.38K  --.-KB/s    in 0.003s  \n",
            "\n",
            "2024-01-18 11:41:20 (37.0 MB/s) - ‘docs/api.python.langchain.com/en/stable/output_parsers/langchain.output_parsers.openai_functions.JsonKeyOutputFunctionsParser.html’ saved [132480]\n",
            "\n",
            "--2024-01-18 11:41:20--  https://api.python.langchain.com/en/stable/output_parsers/langchain.output_parsers.openai_functions.JsonOutputFunctionsParser.html\n",
            "Reusing existing connection to api.python.langchain.com:443.\n",
            "HTTP request sent, awaiting response... 200 OK\n",
            "Length: unspecified [text/html]\n",
            "Saving to: ‘docs/api.python.langchain.com/en/stable/output_parsers/langchain.output_parsers.openai_functions.JsonOutputFunctionsParser.html’\n",
            "\n",
            "api.python.langchai     [ <=>                ] 128.44K  --.-KB/s    in 0.003s  \n",
            "\n",
            "2024-01-18 11:41:20 (40.7 MB/s) - ‘docs/api.python.langchain.com/en/stable/output_parsers/langchain.output_parsers.openai_functions.JsonOutputFunctionsParser.html’ saved [131522]\n",
            "\n",
            "--2024-01-18 11:41:20--  https://api.python.langchain.com/en/stable/output_parsers/langchain.output_parsers.openai_functions.OutputFunctionsParser.html\n",
            "Reusing existing connection to api.python.langchain.com:443.\n",
            "HTTP request sent, awaiting response... 200 OK\n",
            "Length: unspecified [text/html]\n",
            "Saving to: ‘docs/api.python.langchain.com/en/stable/output_parsers/langchain.output_parsers.openai_functions.OutputFunctionsParser.html’\n",
            "\n",
            "api.python.langchai     [ <=>                ] 123.17K  --.-KB/s    in 0.002s  \n",
            "\n",
            "2024-01-18 11:41:20 (53.7 MB/s) - ‘docs/api.python.langchain.com/en/stable/output_parsers/langchain.output_parsers.openai_functions.OutputFunctionsParser.html’ saved [126131]\n",
            "\n",
            "--2024-01-18 11:41:20--  https://api.python.langchain.com/en/stable/output_parsers/langchain.output_parsers.openai_functions.PydanticAttrOutputFunctionsParser.html\n",
            "Reusing existing connection to api.python.langchain.com:443.\n",
            "HTTP request sent, awaiting response... 200 OK\n",
            "Length: unspecified [text/html]\n",
            "Saving to: ‘docs/api.python.langchain.com/en/stable/output_parsers/langchain.output_parsers.openai_functions.PydanticAttrOutputFunctionsParser.html’\n",
            "\n",
            "api.python.langchai     [ <=>                ] 126.71K  --.-KB/s    in 0.004s  \n",
            "\n",
            "2024-01-18 11:41:20 (31.0 MB/s) - ‘docs/api.python.langchain.com/en/stable/output_parsers/langchain.output_parsers.openai_functions.PydanticAttrOutputFunctionsParser.html’ saved [129752]\n",
            "\n",
            "--2024-01-18 11:41:20--  https://api.python.langchain.com/en/stable/output_parsers/langchain.output_parsers.openai_functions.PydanticOutputFunctionsParser.html\n",
            "Reusing existing connection to api.python.langchain.com:443.\n",
            "HTTP request sent, awaiting response... 200 OK\n",
            "Length: unspecified [text/html]\n",
            "Saving to: ‘docs/api.python.langchain.com/en/stable/output_parsers/langchain.output_parsers.openai_functions.PydanticOutputFunctionsParser.html’\n",
            "\n",
            "api.python.langchai     [ <=>                ] 125.47K  --.-KB/s    in 0.002s  \n",
            "\n",
            "2024-01-18 11:41:20 (64.1 MB/s) - ‘docs/api.python.langchain.com/en/stable/output_parsers/langchain.output_parsers.openai_functions.PydanticOutputFunctionsParser.html’ saved [128486]\n",
            "\n",
            "--2024-01-18 11:41:20--  https://api.python.langchain.com/en/stable/output_parsers/langchain.output_parsers.openai_tools.JsonOutputKeyToolsParser.html\n",
            "Reusing existing connection to api.python.langchain.com:443.\n",
            "HTTP request sent, awaiting response... 200 OK\n",
            "Length: unspecified [text/html]\n",
            "Saving to: ‘docs/api.python.langchain.com/en/stable/output_parsers/langchain.output_parsers.openai_tools.JsonOutputKeyToolsParser.html’\n",
            "\n",
            "api.python.langchai     [ <=>                ] 122.82K  --.-KB/s    in 0.002s  \n",
            "\n",
            "2024-01-18 11:41:20 (71.1 MB/s) - ‘docs/api.python.langchain.com/en/stable/output_parsers/langchain.output_parsers.openai_tools.JsonOutputKeyToolsParser.html’ saved [125766]\n",
            "\n",
            "--2024-01-18 11:41:20--  https://api.python.langchain.com/en/stable/output_parsers/langchain.output_parsers.openai_tools.JsonOutputToolsParser.html\n",
            "Reusing existing connection to api.python.langchain.com:443.\n",
            "HTTP request sent, awaiting response... 200 OK\n",
            "Length: unspecified [text/html]\n",
            "Saving to: ‘docs/api.python.langchain.com/en/stable/output_parsers/langchain.output_parsers.openai_tools.JsonOutputToolsParser.html’\n",
            "\n",
            "api.python.langchai     [ <=>                ] 121.90K  --.-KB/s    in 0.003s  \n",
            "\n",
            "2024-01-18 11:41:20 (40.9 MB/s) - ‘docs/api.python.langchain.com/en/stable/output_parsers/langchain.output_parsers.openai_tools.JsonOutputToolsParser.html’ saved [124827]\n",
            "\n",
            "--2024-01-18 11:41:20--  https://api.python.langchain.com/en/stable/output_parsers/langchain.output_parsers.openai_tools.PydanticToolsParser.html\n",
            "Reusing existing connection to api.python.langchain.com:443.\n",
            "HTTP request sent, awaiting response... 200 OK\n",
            "Length: unspecified [text/html]\n",
            "Saving to: ‘docs/api.python.langchain.com/en/stable/output_parsers/langchain.output_parsers.openai_tools.PydanticToolsParser.html’\n",
            "\n",
            "api.python.langchai     [ <=>                ] 122.46K  --.-KB/s    in 0.003s  \n",
            "\n",
            "2024-01-18 11:41:20 (38.0 MB/s) - ‘docs/api.python.langchain.com/en/stable/output_parsers/langchain.output_parsers.openai_tools.PydanticToolsParser.html’ saved [125395]\n",
            "\n",
            "--2024-01-18 11:41:20--  https://api.python.langchain.com/en/stable/output_parsers/langchain.output_parsers.pandas_dataframe.PandasDataFrameOutputParser.html\n",
            "Reusing existing connection to api.python.langchain.com:443.\n",
            "HTTP request sent, awaiting response... 200 OK\n",
            "Length: unspecified [text/html]\n",
            "Saving to: ‘docs/api.python.langchain.com/en/stable/output_parsers/langchain.output_parsers.pandas_dataframe.PandasDataFrameOutputParser.html’\n",
            "\n",
            "api.python.langchai     [ <=>                ] 127.66K  --.-KB/s    in 0.004s  \n",
            "\n",
            "2024-01-18 11:41:20 (35.4 MB/s) - ‘docs/api.python.langchain.com/en/stable/output_parsers/langchain.output_parsers.pandas_dataframe.PandasDataFrameOutputParser.html’ saved [130727]\n",
            "\n",
            "--2024-01-18 11:41:20--  https://api.python.langchain.com/en/stable/output_parsers/langchain.output_parsers.pydantic.PydanticOutputParser.html\n",
            "Reusing existing connection to api.python.langchain.com:443.\n",
            "HTTP request sent, awaiting response... 200 OK\n",
            "Length: unspecified [text/html]\n",
            "Saving to: ‘docs/api.python.langchain.com/en/stable/output_parsers/langchain.output_parsers.pydantic.PydanticOutputParser.html’\n",
            "\n",
            "api.python.langchai     [ <=>                ] 124.90K  --.-KB/s    in 0.003s  \n",
            "\n",
            "2024-01-18 11:41:20 (41.5 MB/s) - ‘docs/api.python.langchain.com/en/stable/output_parsers/langchain.output_parsers.pydantic.PydanticOutputParser.html’ saved [127901]\n",
            "\n",
            "--2024-01-18 11:41:20--  https://api.python.langchain.com/en/stable/output_parsers/langchain.output_parsers.rail_parser.GuardrailsOutputParser.html\n",
            "Reusing existing connection to api.python.langchain.com:443.\n",
            "HTTP request sent, awaiting response... 200 OK\n",
            "Length: unspecified [text/html]\n",
            "Saving to: ‘docs/api.python.langchain.com/en/stable/output_parsers/langchain.output_parsers.rail_parser.GuardrailsOutputParser.html’\n",
            "\n",
            "api.python.langchai     [ <=>                ] 135.36K  --.-KB/s    in 0.004s  \n",
            "\n",
            "2024-01-18 11:41:20 (36.3 MB/s) - ‘docs/api.python.langchain.com/en/stable/output_parsers/langchain.output_parsers.rail_parser.GuardrailsOutputParser.html’ saved [138608]\n",
            "\n",
            "--2024-01-18 11:41:20--  https://api.python.langchain.com/en/stable/output_parsers/langchain.output_parsers.regex.RegexParser.html\n",
            "Reusing existing connection to api.python.langchain.com:443.\n",
            "HTTP request sent, awaiting response... 200 OK\n",
            "Length: unspecified [text/html]\n",
            "Saving to: ‘docs/api.python.langchain.com/en/stable/output_parsers/langchain.output_parsers.regex.RegexParser.html’\n",
            "\n",
            "api.python.langchai     [ <=>                ] 124.69K  --.-KB/s    in 0.003s  \n",
            "\n",
            "2024-01-18 11:41:20 (39.1 MB/s) - ‘docs/api.python.langchain.com/en/stable/output_parsers/langchain.output_parsers.regex.RegexParser.html’ saved [127682]\n",
            "\n",
            "--2024-01-18 11:41:20--  https://api.python.langchain.com/en/stable/output_parsers/langchain.output_parsers.regex_dict.RegexDictParser.html\n",
            "Reusing existing connection to api.python.langchain.com:443.\n",
            "HTTP request sent, awaiting response... 200 OK\n",
            "Length: unspecified [text/html]\n",
            "Saving to: ‘docs/api.python.langchain.com/en/stable/output_parsers/langchain.output_parsers.regex_dict.RegexDictParser.html’\n",
            "\n",
            "api.python.langchai     [ <=>                ] 125.06K  --.-KB/s    in 0.004s  \n",
            "\n",
            "2024-01-18 11:41:20 (28.0 MB/s) - ‘docs/api.python.langchain.com/en/stable/output_parsers/langchain.output_parsers.regex_dict.RegexDictParser.html’ saved [128064]\n",
            "\n",
            "--2024-01-18 11:41:20--  https://api.python.langchain.com/en/stable/output_parsers/langchain.output_parsers.retry.RetryOutputParser.html\n",
            "Reusing existing connection to api.python.langchain.com:443.\n",
            "HTTP request sent, awaiting response... 200 OK\n",
            "Length: unspecified [text/html]\n",
            "Saving to: ‘docs/api.python.langchain.com/en/stable/output_parsers/langchain.output_parsers.retry.RetryOutputParser.html’\n",
            "\n",
            "api.python.langchai     [ <=>                ] 131.44K  --.-KB/s    in 0.005s  \n",
            "\n",
            "2024-01-18 11:41:20 (27.0 MB/s) - ‘docs/api.python.langchain.com/en/stable/output_parsers/langchain.output_parsers.retry.RetryOutputParser.html’ saved [134596]\n",
            "\n",
            "--2024-01-18 11:41:20--  https://api.python.langchain.com/en/stable/output_parsers/langchain.output_parsers.retry.RetryWithErrorOutputParser.html\n",
            "Reusing existing connection to api.python.langchain.com:443.\n",
            "HTTP request sent, awaiting response... 200 OK\n",
            "Length: unspecified [text/html]\n",
            "Saving to: ‘docs/api.python.langchain.com/en/stable/output_parsers/langchain.output_parsers.retry.RetryWithErrorOutputParser.html’\n",
            "\n",
            "api.python.langchai     [ <=>                ] 132.76K  --.-KB/s    in 0.001s  \n",
            "\n",
            "2024-01-18 11:41:20 (207 MB/s) - ‘docs/api.python.langchain.com/en/stable/output_parsers/langchain.output_parsers.retry.RetryWithErrorOutputParser.html’ saved [135946]\n",
            "\n",
            "--2024-01-18 11:41:20--  https://api.python.langchain.com/en/stable/output_parsers/langchain.output_parsers.structured.ResponseSchema.html\n",
            "Reusing existing connection to api.python.langchain.com:443.\n",
            "HTTP request sent, awaiting response... 200 OK\n",
            "Length: unspecified [text/html]\n",
            "Saving to: ‘docs/api.python.langchain.com/en/stable/output_parsers/langchain.output_parsers.structured.ResponseSchema.html’\n",
            "\n",
            "api.python.langchai     [ <=>                ]  40.05K  --.-KB/s    in 0.001s  \n",
            "\n",
            "2024-01-18 11:41:20 (41.2 MB/s) - ‘docs/api.python.langchain.com/en/stable/output_parsers/langchain.output_parsers.structured.ResponseSchema.html’ saved [41008]\n",
            "\n",
            "--2024-01-18 11:41:20--  https://api.python.langchain.com/en/stable/output_parsers/langchain.output_parsers.structured.StructuredOutputParser.html\n",
            "Reusing existing connection to api.python.langchain.com:443.\n",
            "HTTP request sent, awaiting response... 200 OK\n",
            "Length: unspecified [text/html]\n",
            "Saving to: ‘docs/api.python.langchain.com/en/stable/output_parsers/langchain.output_parsers.structured.StructuredOutputParser.html’\n",
            "\n",
            "api.python.langchai     [ <=>                ] 128.56K  --.-KB/s    in 0.003s  \n",
            "\n",
            "2024-01-18 11:41:21 (38.3 MB/s) - ‘docs/api.python.langchain.com/en/stable/output_parsers/langchain.output_parsers.structured.StructuredOutputParser.html’ saved [131646]\n",
            "\n",
            "--2024-01-18 11:41:21--  https://api.python.langchain.com/en/stable/output_parsers/langchain.output_parsers.yaml.YamlOutputParser.html\n",
            "Reusing existing connection to api.python.langchain.com:443.\n",
            "HTTP request sent, awaiting response... 200 OK\n",
            "Length: unspecified [text/html]\n",
            "Saving to: ‘docs/api.python.langchain.com/en/stable/output_parsers/langchain.output_parsers.yaml.YamlOutputParser.html’\n",
            "\n",
            "api.python.langchai     [ <=>                ] 123.85K  --.-KB/s    in 0.003s  \n",
            "\n",
            "2024-01-18 11:41:21 (39.7 MB/s) - ‘docs/api.python.langchain.com/en/stable/output_parsers/langchain.output_parsers.yaml.YamlOutputParser.html’ saved [126826]\n",
            "\n",
            "--2024-01-18 11:41:21--  https://api.python.langchain.com/en/stable/output_parsers/langchain.output_parsers.loading.load_output_parser.html\n",
            "Reusing existing connection to api.python.langchain.com:443.\n",
            "HTTP request sent, awaiting response... 200 OK\n",
            "Length: unspecified [text/html]\n",
            "Saving to: ‘docs/api.python.langchain.com/en/stable/output_parsers/langchain.output_parsers.loading.load_output_parser.html’\n",
            "\n",
            "api.python.langchai     [ <=>                ]  11.22K  --.-KB/s    in 0s      \n",
            "\n",
            "2024-01-18 11:41:21 (69.8 MB/s) - ‘docs/api.python.langchain.com/en/stable/output_parsers/langchain.output_parsers.loading.load_output_parser.html’ saved [11485]\n",
            "\n",
            "--2024-01-18 11:41:21--  https://api.python.langchain.com/en/stable/prompts/langchain.prompts.example_selector.ngram_overlap.NGramOverlapExampleSelector.html\n",
            "Reusing existing connection to api.python.langchain.com:443.\n",
            "HTTP request sent, awaiting response... 200 OK\n",
            "Length: unspecified [text/html]\n",
            "Saving to: ‘docs/api.python.langchain.com/en/stable/prompts/langchain.prompts.example_selector.ngram_overlap.NGramOverlapExampleSelector.html’\n",
            "\n",
            "api.python.langchai     [ <=>                ]  45.72K  --.-KB/s    in 0.001s  \n",
            "\n",
            "2024-01-18 11:41:21 (60.1 MB/s) - ‘docs/api.python.langchain.com/en/stable/prompts/langchain.prompts.example_selector.ngram_overlap.NGramOverlapExampleSelector.html’ saved [46817]\n",
            "\n",
            "--2024-01-18 11:41:21--  https://api.python.langchain.com/en/stable/prompts/langchain.prompts.example_selector.ngram_overlap.ngram_overlap_score.html\n",
            "Reusing existing connection to api.python.langchain.com:443.\n",
            "HTTP request sent, awaiting response... 200 OK\n",
            "Length: unspecified [text/html]\n",
            "Saving to: ‘docs/api.python.langchain.com/en/stable/prompts/langchain.prompts.example_selector.ngram_overlap.ngram_overlap_score.html’\n",
            "\n",
            "api.python.langchai     [ <=>                ]  12.03K  --.-KB/s    in 0s      \n",
            "\n",
            "2024-01-18 11:41:21 (29.3 MB/s) - ‘docs/api.python.langchain.com/en/stable/prompts/langchain.prompts.example_selector.ngram_overlap.ngram_overlap_score.html’ saved [12320]\n",
            "\n",
            "--2024-01-18 11:41:21--  https://api.python.langchain.com/en/stable/retrievers/langchain.retrievers.contextual_compression.ContextualCompressionRetriever.html\n",
            "Reusing existing connection to api.python.langchain.com:443.\n",
            "HTTP request sent, awaiting response... 200 OK\n",
            "Length: unspecified [text/html]\n",
            "Saving to: ‘docs/api.python.langchain.com/en/stable/retrievers/langchain.retrievers.contextual_compression.ContextualCompressionRetriever.html’\n",
            "\n",
            "api.python.langchai     [ <=>                ] 133.61K  --.-KB/s    in 0.001s  \n",
            "\n",
            "2024-01-18 11:41:21 (104 MB/s) - ‘docs/api.python.langchain.com/en/stable/retrievers/langchain.retrievers.contextual_compression.ContextualCompressionRetriever.html’ saved [136814]\n",
            "\n",
            "--2024-01-18 11:41:21--  https://api.python.langchain.com/en/stable/retrievers/langchain.retrievers.document_compressors.base.BaseDocumentCompressor.html\n",
            "Reusing existing connection to api.python.langchain.com:443.\n",
            "HTTP request sent, awaiting response... 200 OK\n",
            "Length: unspecified [text/html]\n",
            "Saving to: ‘docs/api.python.langchain.com/en/stable/retrievers/langchain.retrievers.document_compressors.base.BaseDocumentCompressor.html’\n",
            "\n",
            "api.python.langchai     [ <=>                ]  45.30K  --.-KB/s    in 0.001s  \n",
            "\n",
            "2024-01-18 11:41:21 (59.9 MB/s) - ‘docs/api.python.langchain.com/en/stable/retrievers/langchain.retrievers.document_compressors.base.BaseDocumentCompressor.html’ saved [46389]\n",
            "\n",
            "--2024-01-18 11:41:21--  https://api.python.langchain.com/en/stable/retrievers/langchain.retrievers.document_compressors.base.DocumentCompressorPipeline.html\n",
            "Reusing existing connection to api.python.langchain.com:443.\n",
            "HTTP request sent, awaiting response... 200 OK\n",
            "Length: unspecified [text/html]\n",
            "Saving to: ‘docs/api.python.langchain.com/en/stable/retrievers/langchain.retrievers.document_compressors.base.DocumentCompressorPipeline.html’\n",
            "\n",
            "api.python.langchai     [ <=>                ]  47.62K  --.-KB/s    in 0.001s  \n",
            "\n",
            "2024-01-18 11:41:21 (41.4 MB/s) - ‘docs/api.python.langchain.com/en/stable/retrievers/langchain.retrievers.document_compressors.base.DocumentCompressorPipeline.html’ saved [48767]\n",
            "\n",
            "--2024-01-18 11:41:21--  https://api.python.langchain.com/en/stable/retrievers/langchain.retrievers.document_compressors.chain_extract.LLMChainExtractor.html\n",
            "Reusing existing connection to api.python.langchain.com:443.\n",
            "HTTP request sent, awaiting response... 200 OK\n",
            "Length: unspecified [text/html]\n",
            "Saving to: ‘docs/api.python.langchain.com/en/stable/retrievers/langchain.retrievers.document_compressors.chain_extract.LLMChainExtractor.html’\n",
            "\n",
            "api.python.langchai     [ <=>                ]  51.85K  --.-KB/s    in 0.001s  \n",
            "\n",
            "2024-01-18 11:41:21 (51.6 MB/s) - ‘docs/api.python.langchain.com/en/stable/retrievers/langchain.retrievers.document_compressors.chain_extract.LLMChainExtractor.html’ saved [53092]\n",
            "\n",
            "--2024-01-18 11:41:21--  https://api.python.langchain.com/en/stable/retrievers/langchain.retrievers.document_compressors.chain_extract.NoOutputParser.html\n",
            "Reusing existing connection to api.python.langchain.com:443.\n",
            "HTTP request sent, awaiting response... 200 OK\n",
            "Length: unspecified [text/html]\n",
            "Saving to: ‘docs/api.python.langchain.com/en/stable/retrievers/langchain.retrievers.document_compressors.chain_extract.NoOutputParser.html’\n",
            "\n",
            "api.python.langchai     [ <=>                ] 125.70K  --.-KB/s    in 0.003s  \n",
            "\n",
            "2024-01-18 11:41:21 (40.0 MB/s) - ‘docs/api.python.langchain.com/en/stable/retrievers/langchain.retrievers.document_compressors.chain_extract.NoOutputParser.html’ saved [128717]\n",
            "\n",
            "--2024-01-18 11:41:21--  https://api.python.langchain.com/en/stable/retrievers/langchain.retrievers.document_compressors.chain_filter.LLMChainFilter.html\n",
            "Reusing existing connection to api.python.langchain.com:443.\n",
            "HTTP request sent, awaiting response... 200 OK\n",
            "Length: unspecified [text/html]\n",
            "Saving to: ‘docs/api.python.langchain.com/en/stable/retrievers/langchain.retrievers.document_compressors.chain_filter.LLMChainFilter.html’\n",
            "\n",
            "api.python.langchai     [ <=>                ]  50.68K  --.-KB/s    in 0s      \n",
            "\n",
            "2024-01-18 11:41:21 (249 MB/s) - ‘docs/api.python.langchain.com/en/stable/retrievers/langchain.retrievers.document_compressors.chain_filter.LLMChainFilter.html’ saved [51899]\n",
            "\n",
            "--2024-01-18 11:41:21--  https://api.python.langchain.com/en/stable/retrievers/langchain.retrievers.document_compressors.cohere_rerank.CohereRerank.html\n",
            "Reusing existing connection to api.python.langchain.com:443.\n",
            "HTTP request sent, awaiting response... 200 OK\n",
            "Length: unspecified [text/html]\n",
            "Saving to: ‘docs/api.python.langchain.com/en/stable/retrievers/langchain.retrievers.document_compressors.cohere_rerank.CohereRerank.html’\n",
            "\n",
            "api.python.langchai     [ <=>                ]  50.05K  --.-KB/s    in 0.001s  \n",
            "\n",
            "2024-01-18 11:41:21 (36.7 MB/s) - ‘docs/api.python.langchain.com/en/stable/retrievers/langchain.retrievers.document_compressors.cohere_rerank.CohereRerank.html’ saved [51255]\n",
            "\n",
            "--2024-01-18 11:41:21--  https://api.python.langchain.com/en/stable/retrievers/langchain.retrievers.document_compressors.embeddings_filter.EmbeddingsFilter.html\n",
            "Reusing existing connection to api.python.langchain.com:443.\n",
            "HTTP request sent, awaiting response... 200 OK\n",
            "Length: unspecified [text/html]\n",
            "Saving to: ‘docs/api.python.langchain.com/en/stable/retrievers/langchain.retrievers.document_compressors.embeddings_filter.EmbeddingsFilter.html’\n",
            "\n",
            "api.python.langchai     [ <=>                ]  49.59K  --.-KB/s    in 0.001s  \n",
            "\n",
            "2024-01-18 11:41:21 (33.5 MB/s) - ‘docs/api.python.langchain.com/en/stable/retrievers/langchain.retrievers.document_compressors.embeddings_filter.EmbeddingsFilter.html’ saved [50785]\n",
            "\n",
            "--2024-01-18 11:41:21--  https://api.python.langchain.com/en/stable/retrievers/langchain.retrievers.ensemble.EnsembleRetriever.html\n",
            "Reusing existing connection to api.python.langchain.com:443.\n",
            "HTTP request sent, awaiting response... 200 OK\n",
            "Length: unspecified [text/html]\n",
            "Saving to: ‘docs/api.python.langchain.com/en/stable/retrievers/langchain.retrievers.ensemble.EnsembleRetriever.html’\n",
            "\n",
            "api.python.langchai     [ <=>                ] 137.89K  --.-KB/s    in 0.003s  \n",
            "\n",
            "2024-01-18 11:41:21 (43.1 MB/s) - ‘docs/api.python.langchain.com/en/stable/retrievers/langchain.retrievers.ensemble.EnsembleRetriever.html’ saved [141197]\n",
            "\n",
            "--2024-01-18 11:41:21--  https://api.python.langchain.com/en/stable/retrievers/langchain.retrievers.merger_retriever.MergerRetriever.html\n",
            "Reusing existing connection to api.python.langchain.com:443.\n",
            "HTTP request sent, awaiting response... 200 OK\n",
            "Length: unspecified [text/html]\n",
            "Saving to: ‘docs/api.python.langchain.com/en/stable/retrievers/langchain.retrievers.merger_retriever.MergerRetriever.html’\n",
            "\n",
            "api.python.langchai     [ <=>                ] 134.15K  --.-KB/s    in 0.01s   \n",
            "\n",
            "2024-01-18 11:41:21 (13.4 MB/s) - ‘docs/api.python.langchain.com/en/stable/retrievers/langchain.retrievers.merger_retriever.MergerRetriever.html’ saved [137374]\n",
            "\n",
            "--2024-01-18 11:41:21--  https://api.python.langchain.com/en/stable/retrievers/langchain.retrievers.multi_query.LineList.html\n",
            "Reusing existing connection to api.python.langchain.com:443.\n",
            "HTTP request sent, awaiting response... 200 OK\n",
            "Length: unspecified [text/html]\n",
            "Saving to: ‘docs/api.python.langchain.com/en/stable/retrievers/langchain.retrievers.multi_query.LineList.html’\n",
            "\n",
            "api.python.langchai     [ <=>                ]  38.42K  --.-KB/s    in 0.001s  \n",
            "\n",
            "2024-01-18 11:41:21 (41.0 MB/s) - ‘docs/api.python.langchain.com/en/stable/retrievers/langchain.retrievers.multi_query.LineList.html’ saved [39339]\n",
            "\n",
            "--2024-01-18 11:41:21--  https://api.python.langchain.com/en/stable/retrievers/langchain.retrievers.multi_query.LineListOutputParser.html\n",
            "Reusing existing connection to api.python.langchain.com:443.\n",
            "HTTP request sent, awaiting response... 200 OK\n",
            "Length: unspecified [text/html]\n",
            "Saving to: ‘docs/api.python.langchain.com/en/stable/retrievers/langchain.retrievers.multi_query.LineListOutputParser.html’\n",
            "\n",
            "api.python.langchai     [ <=>                ] 123.72K  --.-KB/s    in 0.003s  \n",
            "\n",
            "2024-01-18 11:41:21 (42.2 MB/s) - ‘docs/api.python.langchain.com/en/stable/retrievers/langchain.retrievers.multi_query.LineListOutputParser.html’ saved [126687]\n",
            "\n",
            "--2024-01-18 11:41:21--  https://api.python.langchain.com/en/stable/retrievers/langchain.retrievers.multi_query.MultiQueryRetriever.html\n",
            "Reusing existing connection to api.python.langchain.com:443.\n",
            "HTTP request sent, awaiting response... 200 OK\n",
            "Length: unspecified [text/html]\n",
            "Saving to: ‘docs/api.python.langchain.com/en/stable/retrievers/langchain.retrievers.multi_query.MultiQueryRetriever.html’\n",
            "\n",
            "api.python.langchai     [ <=>                ] 149.03K  --.-KB/s    in 0.004s  \n",
            "\n",
            "2024-01-18 11:41:21 (37.5 MB/s) - ‘docs/api.python.langchain.com/en/stable/retrievers/langchain.retrievers.multi_query.MultiQueryRetriever.html’ saved [152602]\n",
            "\n",
            "--2024-01-18 11:41:21--  https://api.python.langchain.com/en/stable/retrievers/langchain.retrievers.multi_vector.MultiVectorRetriever.html\n",
            "Reusing existing connection to api.python.langchain.com:443.\n",
            "HTTP request sent, awaiting response... 200 OK\n",
            "Length: unspecified [text/html]\n",
            "Saving to: ‘docs/api.python.langchain.com/en/stable/retrievers/langchain.retrievers.multi_vector.MultiVectorRetriever.html’\n",
            "\n",
            "api.python.langchai     [ <=>                ] 135.06K  --.-KB/s    in 0.003s  \n",
            "\n",
            "2024-01-18 11:41:21 (42.5 MB/s) - ‘docs/api.python.langchain.com/en/stable/retrievers/langchain.retrievers.multi_vector.MultiVectorRetriever.html’ saved [138298]\n",
            "\n",
            "--2024-01-18 11:41:21--  https://api.python.langchain.com/en/stable/retrievers/langchain.retrievers.multi_vector.SearchType.html\n",
            "Reusing existing connection to api.python.langchain.com:443.\n",
            "HTTP request sent, awaiting response... 200 OK\n",
            "Length: unspecified [text/html]\n",
            "Saving to: ‘docs/api.python.langchain.com/en/stable/retrievers/langchain.retrievers.multi_vector.SearchType.html’\n",
            "\n",
            "api.python.langchai     [ <=>                ]  12.97K  --.-KB/s    in 0s      \n",
            "\n",
            "2024-01-18 11:41:21 (273 MB/s) - ‘docs/api.python.langchain.com/en/stable/retrievers/langchain.retrievers.multi_vector.SearchType.html’ saved [13286]\n",
            "\n",
            "--2024-01-18 11:41:21--  https://api.python.langchain.com/en/stable/retrievers/langchain.retrievers.parent_document_retriever.ParentDocumentRetriever.html\n",
            "Reusing existing connection to api.python.langchain.com:443.\n",
            "HTTP request sent, awaiting response... 200 OK\n",
            "Length: unspecified [text/html]\n",
            "Saving to: ‘docs/api.python.langchain.com/en/stable/retrievers/langchain.retrievers.parent_document_retriever.ParentDocumentRetriever.html’\n",
            "\n",
            "api.python.langchai     [ <=>                ] 145.54K  --.-KB/s    in 0.003s  \n",
            "\n",
            "2024-01-18 11:41:21 (43.9 MB/s) - ‘docs/api.python.langchain.com/en/stable/retrievers/langchain.retrievers.parent_document_retriever.ParentDocumentRetriever.html’ saved [149032]\n",
            "\n",
            "--2024-01-18 11:41:21--  https://api.python.langchain.com/en/stable/retrievers/langchain.retrievers.re_phraser.RePhraseQueryRetriever.html\n",
            "Reusing existing connection to api.python.langchain.com:443.\n",
            "HTTP request sent, awaiting response... 200 OK\n",
            "Length: unspecified [text/html]\n",
            "Saving to: ‘docs/api.python.langchain.com/en/stable/retrievers/langchain.retrievers.re_phraser.RePhraseQueryRetriever.html’\n",
            "\n",
            "api.python.langchai     [ <=>                ] 135.03K  --.-KB/s    in 0.003s  \n",
            "\n",
            "2024-01-18 11:41:21 (38.9 MB/s) - ‘docs/api.python.langchain.com/en/stable/retrievers/langchain.retrievers.re_phraser.RePhraseQueryRetriever.html’ saved [138266]\n",
            "\n",
            "--2024-01-18 11:41:21--  https://api.python.langchain.com/en/stable/retrievers/langchain.retrievers.self_query.base.SelfQueryRetriever.html\n",
            "Reusing existing connection to api.python.langchain.com:443.\n",
            "HTTP request sent, awaiting response... 200 OK\n",
            "Length: unspecified [text/html]\n",
            "Saving to: ‘docs/api.python.langchain.com/en/stable/retrievers/langchain.retrievers.self_query.base.SelfQueryRetriever.html’\n",
            "\n",
            "api.python.langchai     [ <=>                ] 143.83K  --.-KB/s    in 0.003s  \n",
            "\n",
            "2024-01-18 11:41:21 (40.9 MB/s) - ‘docs/api.python.langchain.com/en/stable/retrievers/langchain.retrievers.self_query.base.SelfQueryRetriever.html’ saved [147282]\n",
            "\n",
            "--2024-01-18 11:41:21--  https://api.python.langchain.com/en/stable/retrievers/langchain.retrievers.self_query.chroma.ChromaTranslator.html\n",
            "Reusing existing connection to api.python.langchain.com:443.\n",
            "HTTP request sent, awaiting response... 200 OK\n",
            "Length: unspecified [text/html]\n",
            "Saving to: ‘docs/api.python.langchain.com/en/stable/retrievers/langchain.retrievers.self_query.chroma.ChromaTranslator.html’\n",
            "\n",
            "api.python.langchai     [ <=>                ]  17.37K  --.-KB/s    in 0s      \n",
            "\n",
            "2024-01-18 11:41:21 (181 MB/s) - ‘docs/api.python.langchain.com/en/stable/retrievers/langchain.retrievers.self_query.chroma.ChromaTranslator.html’ saved [17782]\n",
            "\n",
            "--2024-01-18 11:41:21--  https://api.python.langchain.com/en/stable/retrievers/langchain.retrievers.self_query.dashvector.DashvectorTranslator.html\n",
            "Reusing existing connection to api.python.langchain.com:443.\n",
            "HTTP request sent, awaiting response... 200 OK\n",
            "Length: unspecified [text/html]\n",
            "Saving to: ‘docs/api.python.langchain.com/en/stable/retrievers/langchain.retrievers.self_query.dashvector.DashvectorTranslator.html’\n",
            "\n",
            "api.python.langchai     [ <=>                ]  17.67K  --.-KB/s    in 0s      \n",
            "\n",
            "2024-01-18 11:41:21 (156 MB/s) - ‘docs/api.python.langchain.com/en/stable/retrievers/langchain.retrievers.self_query.dashvector.DashvectorTranslator.html’ saved [18095]\n",
            "\n",
            "--2024-01-18 11:41:21--  https://api.python.langchain.com/en/stable/retrievers/langchain.retrievers.self_query.deeplake.DeepLakeTranslator.html\n",
            "Reusing existing connection to api.python.langchain.com:443.\n",
            "HTTP request sent, awaiting response... 200 OK\n",
            "Length: unspecified [text/html]\n",
            "Saving to: ‘docs/api.python.langchain.com/en/stable/retrievers/langchain.retrievers.self_query.deeplake.DeepLakeTranslator.html’\n",
            "\n",
            "api.python.langchai     [ <=>                ]  17.48K  --.-KB/s    in 0s      \n",
            "\n",
            "2024-01-18 11:41:21 (320 MB/s) - ‘docs/api.python.langchain.com/en/stable/retrievers/langchain.retrievers.self_query.deeplake.DeepLakeTranslator.html’ saved [17902]\n",
            "\n",
            "--2024-01-18 11:41:21--  https://api.python.langchain.com/en/stable/retrievers/langchain.retrievers.self_query.elasticsearch.ElasticsearchTranslator.html\n",
            "Reusing existing connection to api.python.langchain.com:443.\n",
            "HTTP request sent, awaiting response... 200 OK\n",
            "Length: unspecified [text/html]\n",
            "Saving to: ‘docs/api.python.langchain.com/en/stable/retrievers/langchain.retrievers.self_query.elasticsearch.ElasticsearchTranslator.html’\n",
            "\n",
            "api.python.langchai     [ <=>                ]  17.78K  --.-KB/s    in 0s      \n",
            "\n",
            "2024-01-18 11:41:21 (73.0 MB/s) - ‘docs/api.python.langchain.com/en/stable/retrievers/langchain.retrievers.self_query.elasticsearch.ElasticsearchTranslator.html’ saved [18209]\n",
            "\n",
            "--2024-01-18 11:41:21--  https://api.python.langchain.com/en/stable/retrievers/langchain.retrievers.self_query.milvus.MilvusTranslator.html\n",
            "Reusing existing connection to api.python.langchain.com:443.\n",
            "HTTP request sent, awaiting response... 200 OK\n",
            "Length: unspecified [text/html]\n",
            "Saving to: ‘docs/api.python.langchain.com/en/stable/retrievers/langchain.retrievers.self_query.milvus.MilvusTranslator.html’\n",
            "\n",
            "api.python.langchai     [ <=>                ]  17.32K  --.-KB/s    in 0s      \n",
            "\n",
            "2024-01-18 11:41:21 (35.6 MB/s) - ‘docs/api.python.langchain.com/en/stable/retrievers/langchain.retrievers.self_query.milvus.MilvusTranslator.html’ saved [17731]\n",
            "\n",
            "--2024-01-18 11:41:21--  https://api.python.langchain.com/en/stable/retrievers/langchain.retrievers.self_query.mongodb_atlas.MongoDBAtlasTranslator.html\n",
            "Reusing existing connection to api.python.langchain.com:443.\n",
            "HTTP request sent, awaiting response... 200 OK\n",
            "Length: unspecified [text/html]\n",
            "Saving to: ‘docs/api.python.langchain.com/en/stable/retrievers/langchain.retrievers.self_query.mongodb_atlas.MongoDBAtlasTranslator.html’\n",
            "\n",
            "api.python.langchai     [ <=>                ]  17.70K  --.-KB/s    in 0s      \n",
            "\n",
            "2024-01-18 11:41:21 (43.6 MB/s) - ‘docs/api.python.langchain.com/en/stable/retrievers/langchain.retrievers.self_query.mongodb_atlas.MongoDBAtlasTranslator.html’ saved [18120]\n",
            "\n",
            "--2024-01-18 11:41:21--  https://api.python.langchain.com/en/stable/retrievers/langchain.retrievers.self_query.myscale.MyScaleTranslator.html\n",
            "Reusing existing connection to api.python.langchain.com:443.\n",
            "HTTP request sent, awaiting response... 200 OK\n",
            "Length: unspecified [text/html]\n",
            "Saving to: ‘docs/api.python.langchain.com/en/stable/retrievers/langchain.retrievers.self_query.myscale.MyScaleTranslator.html’\n",
            "\n",
            "api.python.langchai     [ <=>                ]  18.69K  --.-KB/s    in 0s      \n",
            "\n",
            "2024-01-18 11:41:21 (196 MB/s) - ‘docs/api.python.langchain.com/en/stable/retrievers/langchain.retrievers.self_query.myscale.MyScaleTranslator.html’ saved [19139]\n",
            "\n",
            "--2024-01-18 11:41:21--  https://api.python.langchain.com/en/stable/retrievers/langchain.retrievers.self_query.opensearch.OpenSearchTranslator.html\n",
            "Reusing existing connection to api.python.langchain.com:443.\n",
            "HTTP request sent, awaiting response... 200 OK\n",
            "Length: unspecified [text/html]\n",
            "Saving to: ‘docs/api.python.langchain.com/en/stable/retrievers/langchain.retrievers.self_query.opensearch.OpenSearchTranslator.html’\n",
            "\n",
            "api.python.langchai     [ <=>                ]  17.62K  --.-KB/s    in 0s      \n",
            "\n",
            "2024-01-18 11:41:21 (44.3 MB/s) - ‘docs/api.python.langchain.com/en/stable/retrievers/langchain.retrievers.self_query.opensearch.OpenSearchTranslator.html’ saved [18042]\n",
            "\n",
            "--2024-01-18 11:41:21--  https://api.python.langchain.com/en/stable/retrievers/langchain.retrievers.self_query.pinecone.PineconeTranslator.html\n",
            "Reusing existing connection to api.python.langchain.com:443.\n",
            "HTTP request sent, awaiting response... 200 OK\n",
            "Length: unspecified [text/html]\n",
            "Saving to: ‘docs/api.python.langchain.com/en/stable/retrievers/langchain.retrievers.self_query.pinecone.PineconeTranslator.html’\n",
            "\n",
            "api.python.langchai     [ <=>                ]  17.48K  --.-KB/s    in 0s      \n",
            "\n",
            "2024-01-18 11:41:21 (129 MB/s) - ‘docs/api.python.langchain.com/en/stable/retrievers/langchain.retrievers.self_query.pinecone.PineconeTranslator.html’ saved [17904]\n",
            "\n",
            "--2024-01-18 11:41:21--  https://api.python.langchain.com/en/stable/retrievers/langchain.retrievers.self_query.qdrant.QdrantTranslator.html\n",
            "Reusing existing connection to api.python.langchain.com:443.\n",
            "HTTP request sent, awaiting response... 200 OK\n",
            "Length: unspecified [text/html]\n",
            "Saving to: ‘docs/api.python.langchain.com/en/stable/retrievers/langchain.retrievers.self_query.qdrant.QdrantTranslator.html’\n",
            "\n",
            "api.python.langchai     [ <=>                ]  18.06K  --.-KB/s    in 0s      \n",
            "\n",
            "2024-01-18 11:41:21 (62.9 MB/s) - ‘docs/api.python.langchain.com/en/stable/retrievers/langchain.retrievers.self_query.qdrant.QdrantTranslator.html’ saved [18493]\n",
            "\n",
            "--2024-01-18 11:41:21--  https://api.python.langchain.com/en/stable/retrievers/langchain.retrievers.self_query.redis.RedisTranslator.html\n",
            "Reusing existing connection to api.python.langchain.com:443.\n",
            "HTTP request sent, awaiting response... 200 OK\n",
            "Length: unspecified [text/html]\n",
            "Saving to: ‘docs/api.python.langchain.com/en/stable/retrievers/langchain.retrievers.self_query.redis.RedisTranslator.html’\n",
            "\n",
            "api.python.langchai     [ <=>                ]  20.67K  --.-KB/s    in 0s      \n",
            "\n",
            "2024-01-18 11:41:21 (42.3 MB/s) - ‘docs/api.python.langchain.com/en/stable/retrievers/langchain.retrievers.self_query.redis.RedisTranslator.html’ saved [21164]\n",
            "\n",
            "--2024-01-18 11:41:21--  https://api.python.langchain.com/en/stable/retrievers/langchain.retrievers.self_query.supabase.SupabaseVectorTranslator.html\n",
            "Reusing existing connection to api.python.langchain.com:443.\n",
            "HTTP request sent, awaiting response... 200 OK\n",
            "Length: unspecified [text/html]\n",
            "Saving to: ‘docs/api.python.langchain.com/en/stable/retrievers/langchain.retrievers.self_query.supabase.SupabaseVectorTranslator.html’\n",
            "\n",
            "api.python.langchai     [ <=>                ]  18.02K  --.-KB/s    in 0s      \n",
            "\n",
            "2024-01-18 11:41:21 (46.4 MB/s) - ‘docs/api.python.langchain.com/en/stable/retrievers/langchain.retrievers.self_query.supabase.SupabaseVectorTranslator.html’ saved [18450]\n",
            "\n",
            "--2024-01-18 11:41:21--  https://api.python.langchain.com/en/stable/retrievers/langchain.retrievers.self_query.timescalevector.TimescaleVectorTranslator.html\n",
            "Reusing existing connection to api.python.langchain.com:443.\n",
            "HTTP request sent, awaiting response... 200 OK\n",
            "Length: unspecified [text/html]\n",
            "Saving to: ‘docs/api.python.langchain.com/en/stable/retrievers/langchain.retrievers.self_query.timescalevector.TimescaleVectorTranslator.html’\n",
            "\n",
            "api.python.langchai     [ <=>                ]  18.18K  --.-KB/s    in 0s      \n",
            "\n",
            "2024-01-18 11:41:22 (44.0 MB/s) - ‘docs/api.python.langchain.com/en/stable/retrievers/langchain.retrievers.self_query.timescalevector.TimescaleVectorTranslator.html’ saved [18621]\n",
            "\n",
            "--2024-01-18 11:41:22--  https://api.python.langchain.com/en/stable/retrievers/langchain.retrievers.self_query.vectara.VectaraTranslator.html\n",
            "Reusing existing connection to api.python.langchain.com:443.\n",
            "HTTP request sent, awaiting response... 200 OK\n",
            "Length: unspecified [text/html]\n",
            "Saving to: ‘docs/api.python.langchain.com/en/stable/retrievers/langchain.retrievers.self_query.vectara.VectaraTranslator.html’\n",
            "\n",
            "api.python.langchai     [ <=>                ]  17.42K  --.-KB/s    in 0s      \n",
            "\n",
            "2024-01-18 11:41:22 (38.6 MB/s) - ‘docs/api.python.langchain.com/en/stable/retrievers/langchain.retrievers.self_query.vectara.VectaraTranslator.html’ saved [17841]\n",
            "\n",
            "--2024-01-18 11:41:22--  https://api.python.langchain.com/en/stable/retrievers/langchain.retrievers.self_query.weaviate.WeaviateTranslator.html\n",
            "Reusing existing connection to api.python.langchain.com:443.\n",
            "HTTP request sent, awaiting response... 200 OK\n",
            "Length: unspecified [text/html]\n",
            "Saving to: ‘docs/api.python.langchain.com/en/stable/retrievers/langchain.retrievers.self_query.weaviate.WeaviateTranslator.html’\n",
            "\n",
            "api.python.langchai     [ <=>                ]  17.45K  --.-KB/s    in 0.002s  \n",
            "\n",
            "2024-01-18 11:41:22 (6.85 MB/s) - ‘docs/api.python.langchain.com/en/stable/retrievers/langchain.retrievers.self_query.weaviate.WeaviateTranslator.html’ saved [17866]\n",
            "\n",
            "--2024-01-18 11:41:22--  https://api.python.langchain.com/en/stable/retrievers/langchain.retrievers.time_weighted_retriever.TimeWeightedVectorStoreRetriever.html\n",
            "Reusing existing connection to api.python.langchain.com:443.\n",
            "HTTP request sent, awaiting response... 200 OK\n",
            "Length: unspecified [text/html]\n",
            "Saving to: ‘docs/api.python.langchain.com/en/stable/retrievers/langchain.retrievers.time_weighted_retriever.TimeWeightedVectorStoreRetriever.html’\n",
            "\n",
            "api.python.langchai     [ <=>                ] 143.64K  --.-KB/s    in 0.004s  \n",
            "\n",
            "2024-01-18 11:41:22 (35.6 MB/s) - ‘docs/api.python.langchain.com/en/stable/retrievers/langchain.retrievers.time_weighted_retriever.TimeWeightedVectorStoreRetriever.html’ saved [147085]\n",
            "\n",
            "--2024-01-18 11:41:22--  https://api.python.langchain.com/en/stable/retrievers/langchain.retrievers.web_research.LineList.html\n",
            "Reusing existing connection to api.python.langchain.com:443.\n",
            "HTTP request sent, awaiting response... 200 OK\n",
            "Length: unspecified [text/html]\n",
            "Saving to: ‘docs/api.python.langchain.com/en/stable/retrievers/langchain.retrievers.web_research.LineList.html’\n",
            "\n",
            "api.python.langchai     [ <=>                ]  38.43K  --.-KB/s    in 0.001s  \n",
            "\n",
            "2024-01-18 11:41:22 (39.2 MB/s) - ‘docs/api.python.langchain.com/en/stable/retrievers/langchain.retrievers.web_research.LineList.html’ saved [39354]\n",
            "\n",
            "--2024-01-18 11:41:22--  https://api.python.langchain.com/en/stable/retrievers/langchain.retrievers.web_research.QuestionListOutputParser.html\n",
            "Reusing existing connection to api.python.langchain.com:443.\n",
            "HTTP request sent, awaiting response... 200 OK\n",
            "Length: unspecified [text/html]\n",
            "Saving to: ‘docs/api.python.langchain.com/en/stable/retrievers/langchain.retrievers.web_research.QuestionListOutputParser.html’\n",
            "\n",
            "api.python.langchai     [ <=>                ] 124.36K  --.-KB/s    in 0.001s  \n",
            "\n",
            "2024-01-18 11:41:22 (109 MB/s) - ‘docs/api.python.langchain.com/en/stable/retrievers/langchain.retrievers.web_research.QuestionListOutputParser.html’ saved [127343]\n",
            "\n",
            "--2024-01-18 11:41:22--  https://api.python.langchain.com/en/stable/retrievers/langchain.retrievers.web_research.SearchQueries.html\n",
            "Reusing existing connection to api.python.langchain.com:443.\n",
            "HTTP request sent, awaiting response... 200 OK\n",
            "Length: unspecified [text/html]\n",
            "Saving to: ‘docs/api.python.langchain.com/en/stable/retrievers/langchain.retrievers.web_research.SearchQueries.html’\n",
            "\n",
            "api.python.langchai     [ <=>                ]  38.68K  --.-KB/s    in 0.001s  \n",
            "\n",
            "2024-01-18 11:41:22 (38.4 MB/s) - ‘docs/api.python.langchain.com/en/stable/retrievers/langchain.retrievers.web_research.SearchQueries.html’ saved [39610]\n",
            "\n",
            "--2024-01-18 11:41:22--  https://api.python.langchain.com/en/stable/retrievers/langchain.retrievers.web_research.WebResearchRetriever.html\n",
            "Reusing existing connection to api.python.langchain.com:443.\n",
            "HTTP request sent, awaiting response... 200 OK\n",
            "Length: unspecified [text/html]\n",
            "Saving to: ‘docs/api.python.langchain.com/en/stable/retrievers/langchain.retrievers.web_research.WebResearchRetriever.html’\n",
            "\n",
            "api.python.langchai     [ <=>                ] 139.95K  --.-KB/s    in 0.003s  \n",
            "\n",
            "2024-01-18 11:41:22 (39.7 MB/s) - ‘docs/api.python.langchain.com/en/stable/retrievers/langchain.retrievers.web_research.WebResearchRetriever.html’ saved [143304]\n",
            "\n",
            "--2024-01-18 11:41:22--  https://api.python.langchain.com/en/stable/retrievers/langchain.retrievers.document_compressors.chain_extract.default_get_input.html\n",
            "Reusing existing connection to api.python.langchain.com:443.\n",
            "HTTP request sent, awaiting response... 200 OK\n",
            "Length: unspecified [text/html]\n",
            "Saving to: ‘docs/api.python.langchain.com/en/stable/retrievers/langchain.retrievers.document_compressors.chain_extract.default_get_input.html’\n",
            "\n",
            "api.python.langchai     [ <=>                ]  11.81K  --.-KB/s    in 0s      \n",
            "\n",
            "2024-01-18 11:41:22 (177 MB/s) - ‘docs/api.python.langchain.com/en/stable/retrievers/langchain.retrievers.document_compressors.chain_extract.default_get_input.html’ saved [12090]\n",
            "\n",
            "--2024-01-18 11:41:22--  https://api.python.langchain.com/en/stable/retrievers/langchain.retrievers.document_compressors.chain_filter.default_get_input.html\n",
            "Reusing existing connection to api.python.langchain.com:443.\n",
            "HTTP request sent, awaiting response... 200 OK\n",
            "Length: unspecified [text/html]\n",
            "Saving to: ‘docs/api.python.langchain.com/en/stable/retrievers/langchain.retrievers.document_compressors.chain_filter.default_get_input.html’\n",
            "\n",
            "api.python.langchai     [ <=>                ]  11.80K  --.-KB/s    in 0s      \n",
            "\n",
            "2024-01-18 11:41:22 (76.3 MB/s) - ‘docs/api.python.langchain.com/en/stable/retrievers/langchain.retrievers.document_compressors.chain_filter.default_get_input.html’ saved [12079]\n",
            "\n",
            "--2024-01-18 11:41:22--  https://api.python.langchain.com/en/stable/retrievers/langchain.retrievers.self_query.deeplake.can_cast_to_float.html\n",
            "Reusing existing connection to api.python.langchain.com:443.\n",
            "HTTP request sent, awaiting response... 200 OK\n",
            "Length: unspecified [text/html]\n",
            "Saving to: ‘docs/api.python.langchain.com/en/stable/retrievers/langchain.retrievers.self_query.deeplake.can_cast_to_float.html’\n",
            "\n",
            "api.python.langchai     [ <=>                ]  11.05K  --.-KB/s    in 0s      \n",
            "\n",
            "2024-01-18 11:41:22 (41.9 MB/s) - ‘docs/api.python.langchain.com/en/stable/retrievers/langchain.retrievers.self_query.deeplake.can_cast_to_float.html’ saved [11312]\n",
            "\n",
            "--2024-01-18 11:41:22--  https://api.python.langchain.com/en/stable/retrievers/langchain.retrievers.self_query.milvus.process_value.html\n",
            "Reusing existing connection to api.python.langchain.com:443.\n",
            "HTTP request sent, awaiting response... 200 OK\n",
            "Length: unspecified [text/html]\n",
            "Saving to: ‘docs/api.python.langchain.com/en/stable/retrievers/langchain.retrievers.self_query.milvus.process_value.html’\n",
            "\n",
            "api.python.langchai     [ <=>                ]  11.64K  --.-KB/s    in 0s      \n",
            "\n",
            "2024-01-18 11:41:22 (38.0 MB/s) - ‘docs/api.python.langchain.com/en/stable/retrievers/langchain.retrievers.self_query.milvus.process_value.html’ saved [11921]\n",
            "\n",
            "--2024-01-18 11:41:22--  https://api.python.langchain.com/en/stable/retrievers/langchain.retrievers.self_query.vectara.process_value.html\n",
            "Reusing existing connection to api.python.langchain.com:443.\n",
            "HTTP request sent, awaiting response... 200 OK\n",
            "Length: unspecified [text/html]\n",
            "Saving to: ‘docs/api.python.langchain.com/en/stable/retrievers/langchain.retrievers.self_query.vectara.process_value.html’\n",
            "\n",
            "api.python.langchai     [ <=>                ]  11.34K  --.-KB/s    in 0s      \n",
            "\n",
            "2024-01-18 11:41:22 (61.2 MB/s) - ‘docs/api.python.langchain.com/en/stable/retrievers/langchain.retrievers.self_query.vectara.process_value.html’ saved [11614]\n",
            "\n",
            "--2024-01-18 11:41:22--  https://api.python.langchain.com/en/stable/runnables/langchain.runnables.hub.HubRunnable.html\n",
            "Reusing existing connection to api.python.langchain.com:443.\n",
            "HTTP request sent, awaiting response... 200 OK\n",
            "Length: unspecified [text/html]\n",
            "Saving to: ‘docs/api.python.langchain.com/en/stable/runnables/langchain.runnables.hub.HubRunnable.html’\n",
            "\n",
            "api.python.langchai     [ <=>                ] 122.06K  --.-KB/s    in 0.003s  \n",
            "\n",
            "2024-01-18 11:41:22 (39.8 MB/s) - ‘docs/api.python.langchain.com/en/stable/runnables/langchain.runnables.hub.HubRunnable.html’ saved [124991]\n",
            "\n",
            "--2024-01-18 11:41:22--  https://api.python.langchain.com/en/stable/runnables/langchain.runnables.openai_functions.OpenAIFunction.html\n",
            "Reusing existing connection to api.python.langchain.com:443.\n",
            "HTTP request sent, awaiting response... 200 OK\n",
            "Length: unspecified [text/html]\n",
            "Saving to: ‘docs/api.python.langchain.com/en/stable/runnables/langchain.runnables.openai_functions.OpenAIFunction.html’\n",
            "\n",
            "api.python.langchai     [ <=>                ]  25.56K  --.-KB/s    in 0s      \n",
            "\n",
            "2024-01-18 11:41:22 (55.4 MB/s) - ‘docs/api.python.langchain.com/en/stable/runnables/langchain.runnables.openai_functions.OpenAIFunction.html’ saved [26178]\n",
            "\n",
            "--2024-01-18 11:41:22--  https://api.python.langchain.com/en/stable/runnables/langchain.runnables.openai_functions.OpenAIFunctionsRouter.html\n",
            "Reusing existing connection to api.python.langchain.com:443.\n",
            "HTTP request sent, awaiting response... 200 OK\n",
            "Length: unspecified [text/html]\n",
            "Saving to: ‘docs/api.python.langchain.com/en/stable/runnables/langchain.runnables.openai_functions.OpenAIFunctionsRouter.html’\n",
            "\n",
            "api.python.langchai     [ <=>                ] 125.67K  --.-KB/s    in 0.002s  \n",
            "\n",
            "2024-01-18 11:41:22 (49.2 MB/s) - ‘docs/api.python.langchain.com/en/stable/runnables/langchain.runnables.openai_functions.OpenAIFunctionsRouter.html’ saved [128684]\n",
            "\n",
            "--2024-01-18 11:41:22--  https://api.python.langchain.com/en/stable/smith/langchain.smith.evaluation.runner_utils.arun_on_dataset.html\n",
            "Reusing existing connection to api.python.langchain.com:443.\n",
            "HTTP request sent, awaiting response... 200 OK\n",
            "Length: unspecified [text/html]\n",
            "Saving to: ‘docs/api.python.langchain.com/en/stable/smith/langchain.smith.evaluation.runner_utils.arun_on_dataset.html’\n",
            "\n",
            "api.python.langchai     [ <=>                ]  26.90K  --.-KB/s    in 0s      \n",
            "\n",
            "2024-01-18 11:41:22 (276 MB/s) - ‘docs/api.python.langchain.com/en/stable/smith/langchain.smith.evaluation.runner_utils.arun_on_dataset.html’ saved [27548]\n",
            "\n",
            "--2024-01-18 11:41:22--  https://api.python.langchain.com/en/stable/smith/langchain.smith.evaluation.runner_utils.run_on_dataset.html\n",
            "Reusing existing connection to api.python.langchain.com:443.\n",
            "HTTP request sent, awaiting response... 200 OK\n",
            "Length: unspecified [text/html]\n",
            "Saving to: ‘docs/api.python.langchain.com/en/stable/smith/langchain.smith.evaluation.runner_utils.run_on_dataset.html’\n",
            "\n",
            "api.python.langchai     [ <=>                ]  26.79K  --.-KB/s    in 0.001s  \n",
            "\n",
            "2024-01-18 11:41:22 (51.1 MB/s) - ‘docs/api.python.langchain.com/en/stable/smith/langchain.smith.evaluation.runner_utils.run_on_dataset.html’ saved [27432]\n",
            "\n",
            "--2024-01-18 11:41:22--  https://api.python.langchain.com/en/stable/smith/langchain.smith.evaluation.config.RunEvalConfig.html\n",
            "Reusing existing connection to api.python.langchain.com:443.\n",
            "HTTP request sent, awaiting response... 200 OK\n",
            "Length: unspecified [text/html]\n",
            "Saving to: ‘docs/api.python.langchain.com/en/stable/smith/langchain.smith.evaluation.config.RunEvalConfig.html’\n",
            "\n",
            "api.python.langchai     [ <=>                ] 519.12K  --.-KB/s    in 0.01s   \n",
            "\n",
            "2024-01-18 11:41:22 (41.4 MB/s) - ‘docs/api.python.langchain.com/en/stable/smith/langchain.smith.evaluation.config.RunEvalConfig.html’ saved [531582]\n",
            "\n",
            "--2024-01-18 11:41:22--  https://api.python.langchain.com/en/stable/smith/langchain.smith.evaluation.config.EvalConfig.html\n",
            "Reusing existing connection to api.python.langchain.com:443.\n",
            "HTTP request sent, awaiting response... 200 OK\n",
            "Length: unspecified [text/html]\n",
            "Saving to: ‘docs/api.python.langchain.com/en/stable/smith/langchain.smith.evaluation.config.EvalConfig.html’\n",
            "\n",
            "api.python.langchai     [ <=>                ]  40.79K  --.-KB/s    in 0.001s  \n",
            "\n",
            "2024-01-18 11:41:22 (45.1 MB/s) - ‘docs/api.python.langchain.com/en/stable/smith/langchain.smith.evaluation.config.EvalConfig.html’ saved [41771]\n",
            "\n",
            "--2024-01-18 11:41:22--  https://api.python.langchain.com/en/stable/smith/langchain.smith.evaluation.config.SingleKeyEvalConfig.html\n",
            "Reusing existing connection to api.python.langchain.com:443.\n",
            "HTTP request sent, awaiting response... 200 OK\n",
            "Length: unspecified [text/html]\n",
            "Saving to: ‘docs/api.python.langchain.com/en/stable/smith/langchain.smith.evaluation.config.SingleKeyEvalConfig.html’\n",
            "\n",
            "api.python.langchai     [ <=>                ]  43.39K  --.-KB/s    in 0.006s  \n",
            "\n",
            "2024-01-18 11:41:22 (7.07 MB/s) - ‘docs/api.python.langchain.com/en/stable/smith/langchain.smith.evaluation.config.SingleKeyEvalConfig.html’ saved [44429]\n",
            "\n",
            "--2024-01-18 11:41:22--  https://api.python.langchain.com/en/stable/smith/langchain.smith.evaluation.progress.ProgressBarCallback.html\n",
            "Reusing existing connection to api.python.langchain.com:443.\n",
            "HTTP request sent, awaiting response... 200 OK\n",
            "Length: unspecified [text/html]\n",
            "Saving to: ‘docs/api.python.langchain.com/en/stable/smith/langchain.smith.evaluation.progress.ProgressBarCallback.html’\n",
            "\n",
            "api.python.langchai     [ <=>                ]  72.14K  --.-KB/s    in 0.002s  \n",
            "\n",
            "2024-01-18 11:41:22 (42.7 MB/s) - ‘docs/api.python.langchain.com/en/stable/smith/langchain.smith.evaluation.progress.ProgressBarCallback.html’ saved [73868]\n",
            "\n",
            "--2024-01-18 11:41:22--  https://api.python.langchain.com/en/stable/smith/langchain.smith.evaluation.runner_utils.EvalError.html\n",
            "Reusing existing connection to api.python.langchain.com:443.\n",
            "HTTP request sent, awaiting response... 200 OK\n",
            "Length: unspecified [text/html]\n",
            "Saving to: ‘docs/api.python.langchain.com/en/stable/smith/langchain.smith.evaluation.runner_utils.EvalError.html’\n",
            "\n",
            "api.python.langchai     [ <=>                ]  25.75K  --.-KB/s    in 0s      \n",
            "\n",
            "2024-01-18 11:41:22 (60.1 MB/s) - ‘docs/api.python.langchain.com/en/stable/smith/langchain.smith.evaluation.runner_utils.EvalError.html’ saved [26367]\n",
            "\n",
            "--2024-01-18 11:41:22--  https://api.python.langchain.com/en/stable/smith/langchain.smith.evaluation.runner_utils.InputFormatError.html\n",
            "Reusing existing connection to api.python.langchain.com:443.\n",
            "HTTP request sent, awaiting response... 200 OK\n",
            "Length: unspecified [text/html]\n",
            "Saving to: ‘docs/api.python.langchain.com/en/stable/smith/langchain.smith.evaluation.runner_utils.InputFormatError.html’\n",
            "\n",
            "api.python.langchai     [ <=>                ]  10.68K  --.-KB/s    in 0s      \n",
            "\n",
            "2024-01-18 11:41:22 (49.9 MB/s) - ‘docs/api.python.langchain.com/en/stable/smith/langchain.smith.evaluation.runner_utils.InputFormatError.html’ saved [10938]\n",
            "\n",
            "--2024-01-18 11:41:22--  https://api.python.langchain.com/en/stable/smith/langchain.smith.evaluation.runner_utils.TestResult.html\n",
            "Reusing existing connection to api.python.langchain.com:443.\n",
            "HTTP request sent, awaiting response... 200 OK\n",
            "Length: unspecified [text/html]\n",
            "Saving to: ‘docs/api.python.langchain.com/en/stable/smith/langchain.smith.evaluation.runner_utils.TestResult.html’\n",
            "\n",
            "api.python.langchai     [ <=>                ]  27.44K  --.-KB/s    in 0.001s  \n",
            "\n",
            "2024-01-18 11:41:22 (32.4 MB/s) - ‘docs/api.python.langchain.com/en/stable/smith/langchain.smith.evaluation.runner_utils.TestResult.html’ saved [28095]\n",
            "\n",
            "--2024-01-18 11:41:22--  https://api.python.langchain.com/en/stable/smith/langchain.smith.evaluation.string_run_evaluator.ChainStringRunMapper.html\n",
            "Reusing existing connection to api.python.langchain.com:443.\n",
            "HTTP request sent, awaiting response... 200 OK\n",
            "Length: unspecified [text/html]\n",
            "Saving to: ‘docs/api.python.langchain.com/en/stable/smith/langchain.smith.evaluation.string_run_evaluator.ChainStringRunMapper.html’\n",
            "\n",
            "api.python.langchai     [ <=>                ]  50.48K  --.-KB/s    in 0.001s  \n",
            "\n",
            "2024-01-18 11:41:22 (41.9 MB/s) - ‘docs/api.python.langchain.com/en/stable/smith/langchain.smith.evaluation.string_run_evaluator.ChainStringRunMapper.html’ saved [51688]\n",
            "\n",
            "--2024-01-18 11:41:22--  https://api.python.langchain.com/en/stable/smith/langchain.smith.evaluation.string_run_evaluator.LLMStringRunMapper.html\n",
            "Reusing existing connection to api.python.langchain.com:443.\n",
            "HTTP request sent, awaiting response... 200 OK\n",
            "Length: unspecified [text/html]\n",
            "Saving to: ‘docs/api.python.langchain.com/en/stable/smith/langchain.smith.evaluation.string_run_evaluator.LLMStringRunMapper.html’\n",
            "\n",
            "api.python.langchai     [ <=>                ]  51.50K  --.-KB/s    in 0s      \n",
            "\n",
            "2024-01-18 11:41:22 (325 MB/s) - ‘docs/api.python.langchain.com/en/stable/smith/langchain.smith.evaluation.string_run_evaluator.LLMStringRunMapper.html’ saved [52741]\n",
            "\n",
            "--2024-01-18 11:41:22--  https://api.python.langchain.com/en/stable/smith/langchain.smith.evaluation.string_run_evaluator.StringExampleMapper.html\n",
            "Reusing existing connection to api.python.langchain.com:443.\n",
            "HTTP request sent, awaiting response... 200 OK\n",
            "Length: unspecified [text/html]\n",
            "Saving to: ‘docs/api.python.langchain.com/en/stable/smith/langchain.smith.evaluation.string_run_evaluator.StringExampleMapper.html’\n",
            "\n",
            "api.python.langchai     [ <=>                ]  50.65K  --.-KB/s    in 0.001s  \n",
            "\n",
            "2024-01-18 11:41:22 (35.2 MB/s) - ‘docs/api.python.langchain.com/en/stable/smith/langchain.smith.evaluation.string_run_evaluator.StringExampleMapper.html’ saved [51864]\n",
            "\n",
            "--2024-01-18 11:41:22--  https://api.python.langchain.com/en/stable/smith/langchain.smith.evaluation.string_run_evaluator.StringRunEvaluatorChain.html\n",
            "Reusing existing connection to api.python.langchain.com:443.\n",
            "HTTP request sent, awaiting response... 200 OK\n",
            "Length: unspecified [text/html]\n",
            "Saving to: ‘docs/api.python.langchain.com/en/stable/smith/langchain.smith.evaluation.string_run_evaluator.StringRunEvaluatorChain.html’\n",
            "\n",
            "api.python.langchai     [ <=>                ] 174.04K  --.-KB/s    in 0.004s  \n",
            "\n",
            "2024-01-18 11:41:22 (37.8 MB/s) - ‘docs/api.python.langchain.com/en/stable/smith/langchain.smith.evaluation.string_run_evaluator.StringRunEvaluatorChain.html’ saved [178220]\n",
            "\n",
            "--2024-01-18 11:41:22--  https://api.python.langchain.com/en/stable/smith/langchain.smith.evaluation.string_run_evaluator.StringRunMapper.html\n",
            "Reusing existing connection to api.python.langchain.com:443.\n",
            "HTTP request sent, awaiting response... 200 OK\n",
            "Length: unspecified [text/html]\n",
            "Saving to: ‘docs/api.python.langchain.com/en/stable/smith/langchain.smith.evaluation.string_run_evaluator.StringRunMapper.html’\n",
            "\n",
            "api.python.langchai     [ <=>                ]  48.35K  --.-KB/s    in 0.001s  \n",
            "\n",
            "2024-01-18 11:41:22 (39.1 MB/s) - ‘docs/api.python.langchain.com/en/stable/smith/langchain.smith.evaluation.string_run_evaluator.StringRunMapper.html’ saved [49506]\n",
            "\n",
            "--2024-01-18 11:41:22--  https://api.python.langchain.com/en/stable/smith/langchain.smith.evaluation.string_run_evaluator.ToolStringRunMapper.html\n",
            "Reusing existing connection to api.python.langchain.com:443.\n",
            "HTTP request sent, awaiting response... 200 OK\n",
            "Length: unspecified [text/html]\n",
            "Saving to: ‘docs/api.python.langchain.com/en/stable/smith/langchain.smith.evaluation.string_run_evaluator.ToolStringRunMapper.html’\n",
            "\n",
            "api.python.langchai     [ <=>                ]  48.32K  --.-KB/s    in 0.001s  \n",
            "\n",
            "2024-01-18 11:41:22 (42.4 MB/s) - ‘docs/api.python.langchain.com/en/stable/smith/langchain.smith.evaluation.string_run_evaluator.ToolStringRunMapper.html’ saved [49476]\n",
            "\n",
            "--2024-01-18 11:41:22--  https://api.python.langchain.com/en/stable/smith/langchain.smith.evaluation.name_generation.random_name.html\n",
            "Reusing existing connection to api.python.langchain.com:443.\n",
            "HTTP request sent, awaiting response... 200 OK\n",
            "Length: unspecified [text/html]\n",
            "Saving to: ‘docs/api.python.langchain.com/en/stable/smith/langchain.smith.evaluation.name_generation.random_name.html’\n",
            "\n",
            "api.python.langchai     [ <=>                ]  10.78K  --.-KB/s    in 0s      \n",
            "\n",
            "2024-01-18 11:41:22 (31.8 MB/s) - ‘docs/api.python.langchain.com/en/stable/smith/langchain.smith.evaluation.name_generation.random_name.html’ saved [11034]\n",
            "\n",
            "--2024-01-18 11:41:22--  https://api.python.langchain.com/en/stable/storage/langchain.storage.encoder_backed.EncoderBackedStore.html\n",
            "Reusing existing connection to api.python.langchain.com:443.\n",
            "HTTP request sent, awaiting response... 200 OK\n",
            "Length: unspecified [text/html]\n",
            "Saving to: ‘docs/api.python.langchain.com/en/stable/storage/langchain.storage.encoder_backed.EncoderBackedStore.html’\n",
            "\n",
            "api.python.langchai     [ <=>                ]  26.94K  --.-KB/s    in 0.001s  \n",
            "\n",
            "2024-01-18 11:41:22 (37.7 MB/s) - ‘docs/api.python.langchain.com/en/stable/storage/langchain.storage.encoder_backed.EncoderBackedStore.html’ saved [27587]\n",
            "\n",
            "--2024-01-18 11:41:22--  https://api.python.langchain.com/en/stable/storage/langchain.storage.file_system.LocalFileStore.html\n",
            "Reusing existing connection to api.python.langchain.com:443.\n",
            "HTTP request sent, awaiting response... 200 OK\n",
            "Length: unspecified [text/html]\n",
            "Saving to: ‘docs/api.python.langchain.com/en/stable/storage/langchain.storage.file_system.LocalFileStore.html’\n",
            "\n",
            "api.python.langchai     [ <=>                ]  23.67K  --.-KB/s    in 0.001s  \n",
            "\n",
            "2024-01-18 11:41:22 (36.0 MB/s) - ‘docs/api.python.langchain.com/en/stable/storage/langchain.storage.file_system.LocalFileStore.html’ saved [24242]\n",
            "\n",
            "--2024-01-18 11:41:22--  https://api.python.langchain.com/en/stable/storage/langchain.storage.in_memory.InMemoryBaseStore.html\n",
            "Reusing existing connection to api.python.langchain.com:443.\n",
            "HTTP request sent, awaiting response... 200 OK\n",
            "Length: unspecified [text/html]\n",
            "Saving to: ‘docs/api.python.langchain.com/en/stable/storage/langchain.storage.in_memory.InMemoryBaseStore.html’\n",
            "\n",
            "api.python.langchai     [ <=>                ]  22.05K  --.-KB/s    in 0.001s  \n",
            "\n",
            "2024-01-18 11:41:22 (26.5 MB/s) - ‘docs/api.python.langchain.com/en/stable/storage/langchain.storage.in_memory.InMemoryBaseStore.html’ saved [22577]\n",
            "\n",
            "--2024-01-18 11:41:22--  https://api.python.langchain.com/en/stable/text_splitter/langchain.text_splitter.CharacterTextSplitter.html\n",
            "Reusing existing connection to api.python.langchain.com:443.\n",
            "HTTP request sent, awaiting response... 200 OK\n",
            "Length: unspecified [text/html]\n",
            "Saving to: ‘docs/api.python.langchain.com/en/stable/text_splitter/langchain.text_splitter.CharacterTextSplitter.html’\n",
            "\n",
            "api.python.langchai     [ <=>                ]  40.36K  --.-KB/s    in 0.002s  \n",
            "\n",
            "2024-01-18 11:41:23 (18.6 MB/s) - ‘docs/api.python.langchain.com/en/stable/text_splitter/langchain.text_splitter.CharacterTextSplitter.html’ saved [41325]\n",
            "\n",
            "--2024-01-18 11:41:23--  https://api.python.langchain.com/en/stable/text_splitter/langchain.text_splitter.ElementType.html\n",
            "Reusing existing connection to api.python.langchain.com:443.\n",
            "HTTP request sent, awaiting response... 200 OK\n",
            "Length: unspecified [text/html]\n",
            "Saving to: ‘docs/api.python.langchain.com/en/stable/text_splitter/langchain.text_splitter.ElementType.html’\n",
            "\n",
            "api.python.langchai     [ <=>                ]  12.53K  --.-KB/s    in 0s      \n",
            "\n",
            "2024-01-18 11:41:23 (83.1 MB/s) - ‘docs/api.python.langchain.com/en/stable/text_splitter/langchain.text_splitter.ElementType.html’ saved [12831]\n",
            "\n",
            "--2024-01-18 11:41:23--  https://api.python.langchain.com/en/stable/text_splitter/langchain.text_splitter.HTMLHeaderTextSplitter.html\n",
            "Reusing existing connection to api.python.langchain.com:443.\n",
            "HTTP request sent, awaiting response... 200 OK\n",
            "Length: unspecified [text/html]\n",
            "Saving to: ‘docs/api.python.langchain.com/en/stable/text_splitter/langchain.text_splitter.HTMLHeaderTextSplitter.html’\n",
            "\n",
            "api.python.langchai     [ <=>                ]  22.47K  --.-KB/s    in 0.001s  \n",
            "\n",
            "2024-01-18 11:41:23 (38.8 MB/s) - ‘docs/api.python.langchain.com/en/stable/text_splitter/langchain.text_splitter.HTMLHeaderTextSplitter.html’ saved [23012]\n",
            "\n",
            "--2024-01-18 11:41:23--  https://api.python.langchain.com/en/stable/text_splitter/langchain.text_splitter.HeaderType.html\n",
            "Reusing existing connection to api.python.langchain.com:443.\n",
            "HTTP request sent, awaiting response... 200 OK\n",
            "Length: unspecified [text/html]\n",
            "Saving to: ‘docs/api.python.langchain.com/en/stable/text_splitter/langchain.text_splitter.HeaderType.html’\n",
            "\n",
            "api.python.langchai     [ <=>                ]  11.85K  --.-KB/s    in 0s      \n",
            "\n",
            "2024-01-18 11:41:23 (172 MB/s) - ‘docs/api.python.langchain.com/en/stable/text_splitter/langchain.text_splitter.HeaderType.html’ saved [12133]\n",
            "\n",
            "--2024-01-18 11:41:23--  https://api.python.langchain.com/en/stable/text_splitter/langchain.text_splitter.Language.html\n",
            "Reusing existing connection to api.python.langchain.com:443.\n",
            "HTTP request sent, awaiting response... 200 OK\n",
            "Length: unspecified [text/html]\n",
            "Saving to: ‘docs/api.python.langchain.com/en/stable/text_splitter/langchain.text_splitter.Language.html’\n",
            "\n",
            "api.python.langchai     [ <=>                ]  21.28K  --.-KB/s    in 0.001s  \n",
            "\n",
            "2024-01-18 11:41:23 (40.9 MB/s) - ‘docs/api.python.langchain.com/en/stable/text_splitter/langchain.text_splitter.Language.html’ saved [21789]\n",
            "\n",
            "--2024-01-18 11:41:23--  https://api.python.langchain.com/en/stable/text_splitter/langchain.text_splitter.LatexTextSplitter.html\n",
            "Reusing existing connection to api.python.langchain.com:443.\n",
            "HTTP request sent, awaiting response... 200 OK\n",
            "Length: unspecified [text/html]\n",
            "Saving to: ‘docs/api.python.langchain.com/en/stable/text_splitter/langchain.text_splitter.LatexTextSplitter.html’\n",
            "\n",
            "api.python.langchai     [ <=>                ]  31.21K  --.-KB/s    in 0.001s  \n",
            "\n",
            "2024-01-18 11:41:23 (43.6 MB/s) - ‘docs/api.python.langchain.com/en/stable/text_splitter/langchain.text_splitter.LatexTextSplitter.html’ saved [31960]\n",
            "\n",
            "--2024-01-18 11:41:23--  https://api.python.langchain.com/en/stable/text_splitter/langchain.text_splitter.LineType.html\n",
            "Reusing existing connection to api.python.langchain.com:443.\n",
            "HTTP request sent, awaiting response... 200 OK\n",
            "Length: unspecified [text/html]\n",
            "Saving to: ‘docs/api.python.langchain.com/en/stable/text_splitter/langchain.text_splitter.LineType.html’\n",
            "\n",
            "api.python.langchai     [ <=>                ]  11.64K  --.-KB/s    in 0s      \n",
            "\n",
            "2024-01-18 11:41:23 (35.6 MB/s) - ‘docs/api.python.langchain.com/en/stable/text_splitter/langchain.text_splitter.LineType.html’ saved [11915]\n",
            "\n",
            "--2024-01-18 11:41:23--  https://api.python.langchain.com/en/stable/text_splitter/langchain.text_splitter.MarkdownHeaderTextSplitter.html\n",
            "Reusing existing connection to api.python.langchain.com:443.\n",
            "HTTP request sent, awaiting response... 200 OK\n",
            "Length: unspecified [text/html]\n",
            "Saving to: ‘docs/api.python.langchain.com/en/stable/text_splitter/langchain.text_splitter.MarkdownHeaderTextSplitter.html’\n",
            "\n",
            "api.python.langchai     [ <=>                ]  18.95K  --.-KB/s    in 0.001s  \n",
            "\n",
            "2024-01-18 11:41:23 (33.2 MB/s) - ‘docs/api.python.langchain.com/en/stable/text_splitter/langchain.text_splitter.MarkdownHeaderTextSplitter.html’ saved [19406]\n",
            "\n",
            "--2024-01-18 11:41:23--  https://api.python.langchain.com/en/stable/text_splitter/langchain.text_splitter.MarkdownTextSplitter.html\n",
            "Reusing existing connection to api.python.langchain.com:443.\n",
            "HTTP request sent, awaiting response... 200 OK\n",
            "Length: unspecified [text/html]\n",
            "Saving to: ‘docs/api.python.langchain.com/en/stable/text_splitter/langchain.text_splitter.MarkdownTextSplitter.html’\n",
            "\n",
            "api.python.langchai     [ <=>                ]  31.37K  --.-KB/s    in 0.001s  \n",
            "\n",
            "2024-01-18 11:41:23 (48.6 MB/s) - ‘docs/api.python.langchain.com/en/stable/text_splitter/langchain.text_splitter.MarkdownTextSplitter.html’ saved [32121]\n",
            "\n",
            "--2024-01-18 11:41:23--  https://api.python.langchain.com/en/stable/text_splitter/langchain.text_splitter.NLTKTextSplitter.html\n",
            "Reusing existing connection to api.python.langchain.com:443.\n",
            "HTTP request sent, awaiting response... 200 OK\n",
            "Length: unspecified [text/html]\n",
            "Saving to: ‘docs/api.python.langchain.com/en/stable/text_splitter/langchain.text_splitter.NLTKTextSplitter.html’\n",
            "\n",
            "api.python.langchai     [ <=>                ]  29.79K  --.-KB/s    in 0s      \n",
            "\n",
            "2024-01-18 11:41:23 (271 MB/s) - ‘docs/api.python.langchain.com/en/stable/text_splitter/langchain.text_splitter.NLTKTextSplitter.html’ saved [30505]\n",
            "\n",
            "--2024-01-18 11:41:23--  https://api.python.langchain.com/en/stable/text_splitter/langchain.text_splitter.PythonCodeTextSplitter.html\n",
            "Reusing existing connection to api.python.langchain.com:443.\n",
            "HTTP request sent, awaiting response... 200 OK\n",
            "Length: unspecified [text/html]\n",
            "Saving to: ‘docs/api.python.langchain.com/en/stable/text_splitter/langchain.text_splitter.PythonCodeTextSplitter.html’\n",
            "\n",
            "api.python.langchai     [ <=>                ]  31.46K  --.-KB/s    in 0.001s  \n",
            "\n",
            "2024-01-18 11:41:23 (34.3 MB/s) - ‘docs/api.python.langchain.com/en/stable/text_splitter/langchain.text_splitter.PythonCodeTextSplitter.html’ saved [32217]\n",
            "\n",
            "--2024-01-18 11:41:23--  https://api.python.langchain.com/en/stable/text_splitter/langchain.text_splitter.RecursiveCharacterTextSplitter.html\n",
            "Reusing existing connection to api.python.langchain.com:443.\n",
            "HTTP request sent, awaiting response... 200 OK\n",
            "Length: unspecified [text/html]\n",
            "Saving to: ‘docs/api.python.langchain.com/en/stable/text_splitter/langchain.text_splitter.RecursiveCharacterTextSplitter.html’\n",
            "\n",
            "api.python.langchai     [ <=>                ]  38.21K  --.-KB/s    in 0.001s  \n",
            "\n",
            "2024-01-18 11:41:23 (39.5 MB/s) - ‘docs/api.python.langchain.com/en/stable/text_splitter/langchain.text_splitter.RecursiveCharacterTextSplitter.html’ saved [39124]\n",
            "\n",
            "--2024-01-18 11:41:23--  https://api.python.langchain.com/en/stable/text_splitter/langchain.text_splitter.SentenceTransformersTokenTextSplitter.html\n",
            "Reusing existing connection to api.python.langchain.com:443.\n",
            "HTTP request sent, awaiting response... 200 OK\n",
            "Length: unspecified [text/html]\n",
            "Saving to: ‘docs/api.python.langchain.com/en/stable/text_splitter/langchain.text_splitter.SentenceTransformersTokenTextSplitter.html’\n",
            "\n",
            "api.python.langchai     [ <=>                ]  33.25K  --.-KB/s    in 0.001s  \n",
            "\n",
            "2024-01-18 11:41:23 (37.6 MB/s) - ‘docs/api.python.langchain.com/en/stable/text_splitter/langchain.text_splitter.SentenceTransformersTokenTextSplitter.html’ saved [34045]\n",
            "\n",
            "--2024-01-18 11:41:23--  https://api.python.langchain.com/en/stable/text_splitter/langchain.text_splitter.SpacyTextSplitter.html\n",
            "Reusing existing connection to api.python.langchain.com:443.\n",
            "HTTP request sent, awaiting response... 200 OK\n",
            "Length: unspecified [text/html]\n",
            "Saving to: ‘docs/api.python.langchain.com/en/stable/text_splitter/langchain.text_splitter.SpacyTextSplitter.html’\n",
            "\n",
            "api.python.langchai     [ <=>                ]  31.17K  --.-KB/s    in 0.001s  \n",
            "\n",
            "2024-01-18 11:41:23 (28.1 MB/s) - ‘docs/api.python.langchain.com/en/stable/text_splitter/langchain.text_splitter.SpacyTextSplitter.html’ saved [31918]\n",
            "\n",
            "--2024-01-18 11:41:23--  https://api.python.langchain.com/en/stable/text_splitter/langchain.text_splitter.TextSplitter.html\n",
            "Reusing existing connection to api.python.langchain.com:443.\n",
            "HTTP request sent, awaiting response... 200 OK\n",
            "Length: unspecified [text/html]\n",
            "Saving to: ‘docs/api.python.langchain.com/en/stable/text_splitter/langchain.text_splitter.TextSplitter.html’\n",
            "\n",
            "api.python.langchai     [ <=>                ]  31.71K  --.-KB/s    in 0.001s  \n",
            "\n",
            "2024-01-18 11:41:23 (37.9 MB/s) - ‘docs/api.python.langchain.com/en/stable/text_splitter/langchain.text_splitter.TextSplitter.html’ saved [32473]\n",
            "\n",
            "--2024-01-18 11:41:23--  https://api.python.langchain.com/en/stable/text_splitter/langchain.text_splitter.TokenTextSplitter.html\n",
            "Reusing existing connection to api.python.langchain.com:443.\n",
            "HTTP request sent, awaiting response... 200 OK\n",
            "Length: unspecified [text/html]\n",
            "Saving to: ‘docs/api.python.langchain.com/en/stable/text_splitter/langchain.text_splitter.TokenTextSplitter.html’\n",
            "\n",
            "api.python.langchai     [ <=>                ]  33.74K  --.-KB/s    in 0.001s  \n",
            "\n",
            "2024-01-18 11:41:23 (42.4 MB/s) - ‘docs/api.python.langchain.com/en/stable/text_splitter/langchain.text_splitter.TokenTextSplitter.html’ saved [34547]\n",
            "\n",
            "--2024-01-18 11:41:23--  https://api.python.langchain.com/en/stable/text_splitter/langchain.text_splitter.Tokenizer.html\n",
            "Reusing existing connection to api.python.langchain.com:443.\n",
            "HTTP request sent, awaiting response... 200 OK\n",
            "Length: unspecified [text/html]\n",
            "Saving to: ‘docs/api.python.langchain.com/en/stable/text_splitter/langchain.text_splitter.Tokenizer.html’\n",
            "\n",
            "api.python.langchai     [ <=>                ]  16.07K  --.-KB/s    in 0.001s  \n",
            "\n",
            "2024-01-18 11:41:23 (29.9 MB/s) - ‘docs/api.python.langchain.com/en/stable/text_splitter/langchain.text_splitter.Tokenizer.html’ saved [16455]\n",
            "\n",
            "--2024-01-18 11:41:23--  https://api.python.langchain.com/en/stable/text_splitter/langchain.text_splitter.split_text_on_tokens.html\n",
            "Reusing existing connection to api.python.langchain.com:443.\n",
            "HTTP request sent, awaiting response... 200 OK\n",
            "Length: unspecified [text/html]\n",
            "Saving to: ‘docs/api.python.langchain.com/en/stable/text_splitter/langchain.text_splitter.split_text_on_tokens.html’\n",
            "\n",
            "api.python.langchai     [ <=>                ]  11.61K  --.-KB/s    in 0s      \n",
            "\n",
            "2024-01-18 11:41:23 (35.4 MB/s) - ‘docs/api.python.langchain.com/en/stable/text_splitter/langchain.text_splitter.split_text_on_tokens.html’ saved [11887]\n",
            "\n",
            "--2024-01-18 11:41:23--  https://api.python.langchain.com/en/stable/tools/langchain.tools.retriever.RetrieverInput.html\n",
            "Reusing existing connection to api.python.langchain.com:443.\n",
            "HTTP request sent, awaiting response... 200 OK\n",
            "Length: unspecified [text/html]\n",
            "Saving to: ‘docs/api.python.langchain.com/en/stable/tools/langchain.tools.retriever.RetrieverInput.html’\n",
            "\n",
            "api.python.langchai     [ <=>                ]  38.25K  --.-KB/s    in 0s      \n",
            "\n",
            "2024-01-18 11:41:23 (226 MB/s) - ‘docs/api.python.langchain.com/en/stable/tools/langchain.tools.retriever.RetrieverInput.html’ saved [39168]\n",
            "\n",
            "--2024-01-18 11:41:23--  https://api.python.langchain.com/en/stable/tools/langchain.tools.render.render_text_description.html\n",
            "Reusing existing connection to api.python.langchain.com:443.\n",
            "HTTP request sent, awaiting response... 200 OK\n",
            "Length: unspecified [text/html]\n",
            "Saving to: ‘docs/api.python.langchain.com/en/stable/tools/langchain.tools.render.render_text_description.html’\n",
            "\n",
            "api.python.langchai     [ <=>                ]  11.40K  --.-KB/s    in 0s      \n",
            "\n",
            "2024-01-18 11:41:23 (32.3 MB/s) - ‘docs/api.python.langchain.com/en/stable/tools/langchain.tools.render.render_text_description.html’ saved [11675]\n",
            "\n",
            "--2024-01-18 11:41:23--  https://api.python.langchain.com/en/stable/tools/langchain.tools.render.render_text_description_and_args.html\n",
            "Reusing existing connection to api.python.langchain.com:443.\n",
            "HTTP request sent, awaiting response... 200 OK\n",
            "Length: unspecified [text/html]\n",
            "Saving to: ‘docs/api.python.langchain.com/en/stable/tools/langchain.tools.render.render_text_description_and_args.html’\n",
            "\n",
            "api.python.langchai     [ <=>                ]  11.64K  --.-KB/s    in 0s      \n",
            "\n",
            "2024-01-18 11:41:23 (172 MB/s) - ‘docs/api.python.langchain.com/en/stable/tools/langchain.tools.render.render_text_description_and_args.html’ saved [11920]\n",
            "\n",
            "--2024-01-18 11:41:23--  https://api.python.langchain.com/en/stable/tools/langchain.tools.retriever.create_retriever_tool.html\n",
            "Reusing existing connection to api.python.langchain.com:443.\n",
            "HTTP request sent, awaiting response... 200 OK\n",
            "Length: unspecified [text/html]\n",
            "Saving to: ‘docs/api.python.langchain.com/en/stable/tools/langchain.tools.retriever.create_retriever_tool.html’\n",
            "\n",
            "api.python.langchai     [ <=>                ]  13.03K  --.-KB/s    in 0s      \n",
            "\n",
            "2024-01-18 11:41:23 (32.6 MB/s) - ‘docs/api.python.langchain.com/en/stable/tools/langchain.tools.retriever.create_retriever_tool.html’ saved [13346]\n",
            "\n",
            "--2024-01-18 11:41:23--  https://api.python.langchain.com/en/stable/utils/langchain.utils.ernie_functions.FunctionDescription.html\n",
            "Reusing existing connection to api.python.langchain.com:443.\n",
            "HTTP request sent, awaiting response... 200 OK\n",
            "Length: unspecified [text/html]\n",
            "Saving to: ‘docs/api.python.langchain.com/en/stable/utils/langchain.utils.ernie_functions.FunctionDescription.html’\n",
            "\n",
            "api.python.langchai     [ <=>                ]  12.15K  --.-KB/s    in 0s      \n",
            "\n",
            "2024-01-18 11:41:23 (198 MB/s) - ‘docs/api.python.langchain.com/en/stable/utils/langchain.utils.ernie_functions.FunctionDescription.html’ saved [12446]\n",
            "\n",
            "--2024-01-18 11:41:23--  https://api.python.langchain.com/en/stable/utils/langchain.utils.ernie_functions.ToolDescription.html\n",
            "Reusing existing connection to api.python.langchain.com:443.\n",
            "HTTP request sent, awaiting response... 200 OK\n",
            "Length: unspecified [text/html]\n",
            "Saving to: ‘docs/api.python.langchain.com/en/stable/utils/langchain.utils.ernie_functions.ToolDescription.html’\n",
            "\n",
            "api.python.langchai     [ <=>                ]  11.91K  --.-KB/s    in 0s      \n",
            "\n",
            "2024-01-18 11:41:23 (36.5 MB/s) - ‘docs/api.python.langchain.com/en/stable/utils/langchain.utils.ernie_functions.ToolDescription.html’ saved [12200]\n",
            "\n",
            "--2024-01-18 11:41:23--  https://api.python.langchain.com/en/stable/utils/langchain.utils.ernie_functions.convert_pydantic_to_ernie_function.html\n",
            "Reusing existing connection to api.python.langchain.com:443.\n",
            "HTTP request sent, awaiting response... 200 OK\n",
            "Length: unspecified [text/html]\n",
            "Saving to: ‘docs/api.python.langchain.com/en/stable/utils/langchain.utils.ernie_functions.convert_pydantic_to_ernie_function.html’\n",
            "\n",
            "api.python.langchai     [ <=>                ]  12.55K  --.-KB/s    in 0s      \n",
            "\n",
            "2024-01-18 11:41:23 (79.8 MB/s) - ‘docs/api.python.langchain.com/en/stable/utils/langchain.utils.ernie_functions.convert_pydantic_to_ernie_function.html’ saved [12855]\n",
            "\n",
            "--2024-01-18 11:41:23--  https://api.python.langchain.com/en/stable/utils/langchain.utils.ernie_functions.convert_pydantic_to_ernie_tool.html\n",
            "Reusing existing connection to api.python.langchain.com:443.\n",
            "HTTP request sent, awaiting response... 200 OK\n",
            "Length: unspecified [text/html]\n",
            "Saving to: ‘docs/api.python.langchain.com/en/stable/utils/langchain.utils.ernie_functions.convert_pydantic_to_ernie_tool.html’\n",
            "\n",
            "api.python.langchai     [ <=>                ]  12.50K  --.-KB/s    in 0s      \n",
            "\n",
            "2024-01-18 11:41:23 (196 MB/s) - ‘docs/api.python.langchain.com/en/stable/utils/langchain.utils.ernie_functions.convert_pydantic_to_ernie_tool.html’ saved [12795]\n",
            "\n",
            "FINISHED --2024-01-18 11:41:23--\n",
            "Total wall clock time: 13s\n",
            "Downloaded: 424 files, 32M in 0.9s (37.3 MB/s)\n"
          ]
        }
      ],
      "source": [
        "!wget -r -l1 -A.html -P docs https://api.python.langchain.com/en/stable/langchain_api_reference.html"
      ]
    },
    {
      "cell_type": "markdown",
      "id": "5DWa9M6JLb8O",
      "metadata": {
        "id": "5DWa9M6JLb8O"
      },
      "source": [
        " The docs are going to be used as input text for answering questions that a normal language model might not be aware of (LangChain docs is not necessarily part of its training data of Llama2). We can use LangChain itself to process these docs. Use the [ReadTheDocsLoader](https://python.langchain.com/docs/integrations/document_loaders/readthedocs_documentation) to load the docs from the `docs` folder.\n",
        "\n",
        " At the time of creating this notebook, there  `423` documents were downloaded. However, since the documentation is being updated regularly this number might be different for you."
      ]
    },
    {
      "cell_type": "code",
      "execution_count": 6,
      "id": "Nd8ufORKLVy0",
      "metadata": {
        "id": "Nd8ufORKLVy0",
        "colab": {
          "base_uri": "https://localhost:8080/"
        },
        "outputId": "86b4bda2-02d2-456f-8b7b-8d53fb2d902e"
      },
      "outputs": [
        {
          "output_type": "execute_result",
          "data": {
            "text/plain": [
              "423"
            ]
          },
          "metadata": {},
          "execution_count": 6
        }
      ],
      "source": [
        "from langchain.document_loaders import ReadTheDocsLoader\n",
        "#### your code ####\n",
        "loader = ReadTheDocsLoader(\"docs\")\n",
        "docs = loader.load()\n",
        "#### your code ####\n",
        "len(docs)"
      ]
    },
    {
      "cell_type": "markdown",
      "id": "yKs0_OrBMQ7M",
      "metadata": {
        "id": "yKs0_OrBMQ7M"
      },
      "source": [
        "Let's take a look at one of the documents. You see that LangChain has created a `Document` object. Look at the example below and fill in the cells to print out the text content and URL of the page (the URL of the page should starts with `https://`)."
      ]
    },
    {
      "cell_type": "code",
      "execution_count": 7,
      "id": "vcpuudNRLV7k",
      "metadata": {
        "id": "vcpuudNRLV7k",
        "colab": {
          "base_uri": "https://localhost:8080/"
        },
        "outputId": "29bcb935-c647-4b2e-f790-837404720302"
      },
      "outputs": [
        {
          "output_type": "execute_result",
          "data": {
            "text/plain": [
              "Document(page_content='langchain_together 0.0.1¶\\nlangchain_together.embeddings¶\\nClasses¶\\nembeddings.TogetherEmbeddings\\nTogetherEmbeddings embedding model.', metadata={'source': 'docs/api.python.langchain.com/en/stable/together_api_reference.html'})"
            ]
          },
          "metadata": {},
          "execution_count": 7
        }
      ],
      "source": [
        "docs[10]"
      ]
    },
    {
      "cell_type": "code",
      "execution_count": 8,
      "id": "5Q24oWkGM3IP",
      "metadata": {
        "id": "5Q24oWkGM3IP"
      },
      "outputs": [],
      "source": [
        "#### your code ####\n",
        "## For all the documents, the colab complains that the IO rate exceeded, ehcne only one doc will be analyzed!\n",
        "page_content= [doc.page_content for doc in docs]\n",
        "page_url= [\"https://\"+doc.metadata[\"source\"] for doc in docs]\n"
      ]
    },
    {
      "cell_type": "code",
      "source": [
        "doc = docs[10]\n",
        "page_content= doc.page_content\n",
        "page_url= \"https://\"+doc.metadata[\"source\"]\n",
        "#### your code ####\n",
        "print(page_content)\n",
        "print(page_url)"
      ],
      "metadata": {
        "colab": {
          "base_uri": "https://localhost:8080/"
        },
        "id": "xKBen3e2vsvc",
        "outputId": "33226431-2f11-4451-c73c-0b7380f90ac0"
      },
      "id": "xKBen3e2vsvc",
      "execution_count": 9,
      "outputs": [
        {
          "output_type": "stream",
          "name": "stdout",
          "text": [
            "langchain_together 0.0.1¶\n",
            "langchain_together.embeddings¶\n",
            "Classes¶\n",
            "embeddings.TogetherEmbeddings\n",
            "TogetherEmbeddings embedding model.\n",
            "https://docs/api.python.langchain.com/en/stable/together_api_reference.html\n"
          ]
        }
      ]
    },
    {
      "cell_type": "markdown",
      "id": "OfZKdZJsMeyj",
      "metadata": {
        "id": "OfZKdZJsMeyj"
      },
      "source": [
        "As you can imagine the documents can be long and if multiple of them are required as context to answer questions, we need to take the document lengths into account.\n",
        "This is due to the fact that language models do not have unlimited context span. In our case, we plan to use Llama2 for this project, where the maximum token limit is 4096. This limit is not only the input but also takes the generated output into account, moreover, you need to leave room for the query and instructions as well. Therefore, it is important to chunk the longer documents into smaller-sized fragments.\n",
        "\n",
        "Based on your use case and how many contexts you plan to feed into the model the length of these fragments will differ.\n",
        "In this case, we choose to assign 2000 tokens to context and choose to generate the answer from 5 context fragments, which leaves us with 400 tokens per context fragment as the maximum chunk size.\n",
        "\n",
        "To count the number of tokens in a chunk, we need to load the correct tokenizer for Llama2. Fill the code cell below to load the correct tokenizer and use it to complete the function that counts the number of tokens per given chunk.\n",
        "\n",
        "**Hint:** you need to use your Hugging Face authentication token to load the tokenizer."
      ]
    },
    {
      "cell_type": "code",
      "execution_count": 10,
      "id": "WjOHBqXLLWDA",
      "metadata": {
        "id": "WjOHBqXLLWDA",
        "colab": {
          "base_uri": "https://localhost:8080/"
        },
        "outputId": "35abbac0-68f3-4eb8-ef43-cafb2e85608a"
      },
      "outputs": [
        {
          "output_type": "stream",
          "name": "stderr",
          "text": [
            "/usr/local/lib/python3.10/dist-packages/transformers/tokenization_utils_base.py:1895: FutureWarning: The `use_auth_token` argument is deprecated and will be removed in v5 of Transformers. Please use `token` instead.\n",
            "  warnings.warn(\n"
          ]
        }
      ],
      "source": [
        "#If you get an error here during the first import from the `transformers` package, restart the kernel and try again.\n",
        "#### your code ####\n",
        "import os\n",
        "from transformers import LlamaForCausalLM, LlamaTokenizer\n",
        "hf_auth = os.getenv(\"HF_AUTH\")\n",
        "tokenizer = LlamaTokenizer.from_pretrained(\"meta-llama/Llama-2-13b-chat-hf\",use_auth_token=hf_auth)\n",
        "#### your code ####"
      ]
    },
    {
      "cell_type": "code",
      "execution_count": 11,
      "id": "G5GutpFdLWFu",
      "metadata": {
        "id": "G5GutpFdLWFu"
      },
      "outputs": [],
      "source": [
        "def token_len(text):\n",
        "  #### your code ####\n",
        "    tokens = tokenizer(text)['input_ids']\n",
        "    # Count the number of tokens\n",
        "    num_tokens = len(tokens)\n",
        "    return num_tokens\n",
        "    #### your code ####"
      ]
    },
    {
      "cell_type": "markdown",
      "id": "2pdG2JeGPfcS",
      "metadata": {
        "id": "2pdG2JeGPfcS"
      },
      "source": [
        "Count the number of tokens for all documents and use it to compute minimum, maximum, and average token count statistics across all documents. Depending on how the documentation is updated by the time you run the cell below the numbers might slightly differ."
      ]
    },
    {
      "cell_type": "code",
      "execution_count": 12,
      "id": "HdAdFPYyLWIM",
      "metadata": {
        "id": "HdAdFPYyLWIM",
        "colab": {
          "base_uri": "https://localhost:8080/"
        },
        "outputId": "502e5951-b9f2-4a97-d42c-557c5bc838a3"
      },
      "outputs": [
        {
          "output_type": "stream",
          "name": "stdout",
          "text": [
            "Min: 48\n",
            "Avg: 2663.676122931442\n",
            "Max: 36800\n"
          ]
        }
      ],
      "source": [
        "#### your code ####\n",
        "token_counts = [ token_len(doc.page_content) for doc in docs]\n",
        "min_tokens= min(token_counts)\n",
        "avg_tokens= sum(token_counts) / len(token_counts)\n",
        "max_tokens= max(token_counts)\n",
        "#### your code ####\n",
        "print(f\"\"\"Min: {min_tokens}\n",
        "Avg: {avg_tokens}\n",
        "Max: {max_tokens}\"\"\")"
      ]
    },
    {
      "cell_type": "markdown",
      "id": "iz9rYYRtMo2N",
      "metadata": {
        "id": "iz9rYYRtMo2N"
      },
      "source": [
        "Now we will use LangChain's built-in chunking functionality to split the text into smaller chunks. LangChain offers a variety of text splitters that you can check out [here](https://api.python.langchain.com/en/latest/langchain_api_reference.html#module-langchain.text_splitter).\n",
        "Use the general-purpose splitter that splits text by recursively looking at characters. Use this class to split the text into 400 token-sized chunks, where the length of each chunk is computed based on the `token_len` function. The length is not the only criterion for splitting, if any of these separators `'\\n\\n', '\\n', ' ', ''` is encountered, we will have a new chunk.\n",
        "Since splitting only based on maximum length might result in incoherent chunks for every consecutive chunk, let the chunk overlap by 50 tokens. This way,  we preserve some of the previous context while chunking."
      ]
    },
    {
      "cell_type": "code",
      "execution_count": 13,
      "id": "0_RaaGMPPUd9",
      "metadata": {
        "id": "0_RaaGMPPUd9"
      },
      "outputs": [],
      "source": [
        "#### your code ####\n",
        "from langchain.text_splitter import RecursiveCharacterTextSplitter\n",
        "\n",
        "separators = ['\\n\\n', '\\n', ' ', '']\n",
        "chunk_size = 400\n",
        "text_splitter = RecursiveCharacterTextSplitter(chunk_size=chunk_size, length_function=token_len, separators=separators)\n",
        "\n",
        "#### your code ####"
      ]
    },
    {
      "cell_type": "code",
      "execution_count": 14,
      "id": "kS6uNIzpOD-I",
      "metadata": {
        "id": "kS6uNIzpOD-I",
        "colab": {
          "base_uri": "https://localhost:8080/"
        },
        "outputId": "d836f1e2-2666-4d36-803c-3445cd66c334"
      },
      "outputs": [
        {
          "output_type": "execute_result",
          "data": {
            "text/plain": [
              "24"
            ]
          },
          "metadata": {},
          "execution_count": 14
        }
      ],
      "source": [
        "chunks = text_splitter.split_text(docs[100].page_content)\n",
        "len(chunks)"
      ]
    },
    {
      "cell_type": "code",
      "execution_count": 15,
      "id": "-r29RUJ7PUg6",
      "metadata": {
        "id": "-r29RUJ7PUg6",
        "colab": {
          "base_uri": "https://localhost:8080/"
        },
        "outputId": "8cdb52a8-95d8-4c16-c904-cc44db72c8cc"
      },
      "outputs": [
        {
          "output_type": "execute_result",
          "data": {
            "text/plain": [
              "328"
            ]
          },
          "metadata": {},
          "execution_count": 15
        }
      ],
      "source": [
        "token_len(chunks[0])"
      ]
    },
    {
      "cell_type": "markdown",
      "id": "SGaeBXo8ONLj",
      "metadata": {
        "id": "SGaeBXo8ONLj"
      },
      "source": [
        "The next step is to apply the splitting function to all the documents in our corpus and to save our chunks in a logical way. We also want to assign a unique ID to each chunk so we know which part of the documentation they come from. In the end, the corpus should be transformed into a list of dictionaries of the following format:\n",
        "\n",
        "\n",
        "```\n",
        "[\n",
        "    {\n",
        "        \"id\": \"glossary-0\",\n",
        "        \"text\": \"first chunk of the document glossary\",\n",
        "        \"source\": \"https://langchain.readthedocs.io/en/latest/glossary.html\"\n",
        "    },\n",
        "    {\n",
        "        \"id\": \"glossary-1\",\n",
        "        \"text\": \"second chunk of glossary\",\n",
        "        \"source\": \"https://langchain.readthedocs.io/en/latest/glossary.html\"\n",
        "    }\n",
        "    ...\n",
        "]\n",
        "```\n",
        "\n",
        "Construct the IDs by taking the name of the page before the suffix `.html` and appending a chronological number indicating which chunk it is.\n"
      ]
    },
    {
      "cell_type": "markdown",
      "source": [],
      "metadata": {
        "id": "g_-vuPAI4xEl"
      },
      "id": "g_-vuPAI4xEl"
    },
    {
      "cell_type": "code",
      "execution_count": 16,
      "id": "pBsNJBUNPUjC",
      "metadata": {
        "id": "pBsNJBUNPUjC",
        "colab": {
          "base_uri": "https://localhost:8080/",
          "height": 66,
          "referenced_widgets": [
            "0ebddc3728f4463ca040cca11f88ead4",
            "24cf7b0f3a5f45f696828b5475e71b7c",
            "c40d7f644e52485b8865ab353dab57cb",
            "2f184505833c4f1cbfac377f08ec3410",
            "381fadc7a9e64691926d6188541d3462",
            "29d681233719439fb38cfb9313443bed",
            "4bc49bd35b1f4710a099df6fef3a5924",
            "e43ca37fe76443539db6b4a710b49849",
            "a82ba13960dd4cce85967d62f5c9a571",
            "005aaaaeb2ee471baae59b09166debd0",
            "9bba4097db364937b9daebd1d61983b7"
          ]
        },
        "outputId": "4d026135-04d8-4931-eb32-58e931e7dc60"
      },
      "outputs": [
        {
          "output_type": "display_data",
          "data": {
            "text/plain": [
              "  0%|          | 0/423 [00:00<?, ?it/s]"
            ],
            "application/vnd.jupyter.widget-view+json": {
              "version_major": 2,
              "version_minor": 0,
              "model_id": "0ebddc3728f4463ca040cca11f88ead4"
            }
          },
          "metadata": {}
        },
        {
          "output_type": "execute_result",
          "data": {
            "text/plain": [
              "6525"
            ]
          },
          "metadata": {},
          "execution_count": 16
        }
      ],
      "source": [
        "from tqdm.auto import tqdm\n",
        "\n",
        "documents = []\n",
        "\n",
        "for doc in tqdm(docs):\n",
        "  #### your code ####\n",
        "    url = \"https://\"+doc.metadata[\"source\"]\n",
        "    uid = url.split(\"/\")[-1].replace(\".html\", \"\")\n",
        "    chunks = text_splitter.split_text(doc.page_content)\n",
        "\n",
        "    count = 0\n",
        "    for chunk in chunks:\n",
        "      documents.append({\n",
        "          \"id\": uid+\"-\"+str(count),\n",
        "          \"text\": chunk,\n",
        "          \"source\": url\n",
        "      })\n",
        "      count += 1\n",
        "  #### your code ####\n",
        "len(documents) # once again this value might differ based on how the LangChain documentation is updated"
      ]
    },
    {
      "cell_type": "markdown",
      "id": "Hnx_s1bBQFQM",
      "metadata": {
        "id": "Hnx_s1bBQFQM"
      },
      "source": [
        "For the next steps, we require a `DataFrame`."
      ]
    },
    {
      "cell_type": "code",
      "execution_count": 17,
      "id": "V64EmH9bLWNO",
      "metadata": {
        "id": "V64EmH9bLWNO",
        "colab": {
          "base_uri": "https://localhost:8080/",
          "height": 206
        },
        "outputId": "c5b99010-1caf-483a-8d93-0fddba68675a"
      },
      "outputs": [
        {
          "output_type": "execute_result",
          "data": {
            "text/plain": [
              "                          id  \\\n",
              "0  langchain_api_reference-0   \n",
              "1  langchain_api_reference-1   \n",
              "2  langchain_api_reference-2   \n",
              "3  langchain_api_reference-3   \n",
              "4  langchain_api_reference-4   \n",
              "\n",
              "                                                text  \\\n",
              "0  langchain 0.1.1¶\\nlangchain.agents¶\\nAgent is ...   \n",
              "1  AgentType, AgentExecutor, AgentOutputParser, A...   \n",
              "2  agents.agent.MultiActionAgentOutputParser\\nBas...   \n",
              "3  agents.agent_types.AgentType(value[, names, .....   \n",
              "4  [Deprecated]  An agent designed to hold a conv...   \n",
              "\n",
              "                                              source  \n",
              "0  https://docs/api.python.langchain.com/en/lates...  \n",
              "1  https://docs/api.python.langchain.com/en/lates...  \n",
              "2  https://docs/api.python.langchain.com/en/lates...  \n",
              "3  https://docs/api.python.langchain.com/en/lates...  \n",
              "4  https://docs/api.python.langchain.com/en/lates...  "
            ],
            "text/html": [
              "\n",
              "  <div id=\"df-939e5934-2947-4903-8718-9f8c6a666a32\" class=\"colab-df-container\">\n",
              "    <div>\n",
              "<style scoped>\n",
              "    .dataframe tbody tr th:only-of-type {\n",
              "        vertical-align: middle;\n",
              "    }\n",
              "\n",
              "    .dataframe tbody tr th {\n",
              "        vertical-align: top;\n",
              "    }\n",
              "\n",
              "    .dataframe thead th {\n",
              "        text-align: right;\n",
              "    }\n",
              "</style>\n",
              "<table border=\"1\" class=\"dataframe\">\n",
              "  <thead>\n",
              "    <tr style=\"text-align: right;\">\n",
              "      <th></th>\n",
              "      <th>id</th>\n",
              "      <th>text</th>\n",
              "      <th>source</th>\n",
              "    </tr>\n",
              "  </thead>\n",
              "  <tbody>\n",
              "    <tr>\n",
              "      <th>0</th>\n",
              "      <td>langchain_api_reference-0</td>\n",
              "      <td>langchain 0.1.1¶\\nlangchain.agents¶\\nAgent is ...</td>\n",
              "      <td>https://docs/api.python.langchain.com/en/lates...</td>\n",
              "    </tr>\n",
              "    <tr>\n",
              "      <th>1</th>\n",
              "      <td>langchain_api_reference-1</td>\n",
              "      <td>AgentType, AgentExecutor, AgentOutputParser, A...</td>\n",
              "      <td>https://docs/api.python.langchain.com/en/lates...</td>\n",
              "    </tr>\n",
              "    <tr>\n",
              "      <th>2</th>\n",
              "      <td>langchain_api_reference-2</td>\n",
              "      <td>agents.agent.MultiActionAgentOutputParser\\nBas...</td>\n",
              "      <td>https://docs/api.python.langchain.com/en/lates...</td>\n",
              "    </tr>\n",
              "    <tr>\n",
              "      <th>3</th>\n",
              "      <td>langchain_api_reference-3</td>\n",
              "      <td>agents.agent_types.AgentType(value[, names, .....</td>\n",
              "      <td>https://docs/api.python.langchain.com/en/lates...</td>\n",
              "    </tr>\n",
              "    <tr>\n",
              "      <th>4</th>\n",
              "      <td>langchain_api_reference-4</td>\n",
              "      <td>[Deprecated]  An agent designed to hold a conv...</td>\n",
              "      <td>https://docs/api.python.langchain.com/en/lates...</td>\n",
              "    </tr>\n",
              "  </tbody>\n",
              "</table>\n",
              "</div>\n",
              "    <div class=\"colab-df-buttons\">\n",
              "\n",
              "  <div class=\"colab-df-container\">\n",
              "    <button class=\"colab-df-convert\" onclick=\"convertToInteractive('df-939e5934-2947-4903-8718-9f8c6a666a32')\"\n",
              "            title=\"Convert this dataframe to an interactive table.\"\n",
              "            style=\"display:none;\">\n",
              "\n",
              "  <svg xmlns=\"http://www.w3.org/2000/svg\" height=\"24px\" viewBox=\"0 -960 960 960\">\n",
              "    <path d=\"M120-120v-720h720v720H120Zm60-500h600v-160H180v160Zm220 220h160v-160H400v160Zm0 220h160v-160H400v160ZM180-400h160v-160H180v160Zm440 0h160v-160H620v160ZM180-180h160v-160H180v160Zm440 0h160v-160H620v160Z\"/>\n",
              "  </svg>\n",
              "    </button>\n",
              "\n",
              "  <style>\n",
              "    .colab-df-container {\n",
              "      display:flex;\n",
              "      gap: 12px;\n",
              "    }\n",
              "\n",
              "    .colab-df-convert {\n",
              "      background-color: #E8F0FE;\n",
              "      border: none;\n",
              "      border-radius: 50%;\n",
              "      cursor: pointer;\n",
              "      display: none;\n",
              "      fill: #1967D2;\n",
              "      height: 32px;\n",
              "      padding: 0 0 0 0;\n",
              "      width: 32px;\n",
              "    }\n",
              "\n",
              "    .colab-df-convert:hover {\n",
              "      background-color: #E2EBFA;\n",
              "      box-shadow: 0px 1px 2px rgba(60, 64, 67, 0.3), 0px 1px 3px 1px rgba(60, 64, 67, 0.15);\n",
              "      fill: #174EA6;\n",
              "    }\n",
              "\n",
              "    .colab-df-buttons div {\n",
              "      margin-bottom: 4px;\n",
              "    }\n",
              "\n",
              "    [theme=dark] .colab-df-convert {\n",
              "      background-color: #3B4455;\n",
              "      fill: #D2E3FC;\n",
              "    }\n",
              "\n",
              "    [theme=dark] .colab-df-convert:hover {\n",
              "      background-color: #434B5C;\n",
              "      box-shadow: 0px 1px 3px 1px rgba(0, 0, 0, 0.15);\n",
              "      filter: drop-shadow(0px 1px 2px rgba(0, 0, 0, 0.3));\n",
              "      fill: #FFFFFF;\n",
              "    }\n",
              "  </style>\n",
              "\n",
              "    <script>\n",
              "      const buttonEl =\n",
              "        document.querySelector('#df-939e5934-2947-4903-8718-9f8c6a666a32 button.colab-df-convert');\n",
              "      buttonEl.style.display =\n",
              "        google.colab.kernel.accessAllowed ? 'block' : 'none';\n",
              "\n",
              "      async function convertToInteractive(key) {\n",
              "        const element = document.querySelector('#df-939e5934-2947-4903-8718-9f8c6a666a32');\n",
              "        const dataTable =\n",
              "          await google.colab.kernel.invokeFunction('convertToInteractive',\n",
              "                                                    [key], {});\n",
              "        if (!dataTable) return;\n",
              "\n",
              "        const docLinkHtml = 'Like what you see? Visit the ' +\n",
              "          '<a target=\"_blank\" href=https://colab.research.google.com/notebooks/data_table.ipynb>data table notebook</a>'\n",
              "          + ' to learn more about interactive tables.';\n",
              "        element.innerHTML = '';\n",
              "        dataTable['output_type'] = 'display_data';\n",
              "        await google.colab.output.renderOutput(dataTable, element);\n",
              "        const docLink = document.createElement('div');\n",
              "        docLink.innerHTML = docLinkHtml;\n",
              "        element.appendChild(docLink);\n",
              "      }\n",
              "    </script>\n",
              "  </div>\n",
              "\n",
              "\n",
              "<div id=\"df-9e9c3f0b-64b1-4c3a-bb91-aaae8619622b\">\n",
              "  <button class=\"colab-df-quickchart\" onclick=\"quickchart('df-9e9c3f0b-64b1-4c3a-bb91-aaae8619622b')\"\n",
              "            title=\"Suggest charts\"\n",
              "            style=\"display:none;\">\n",
              "\n",
              "<svg xmlns=\"http://www.w3.org/2000/svg\" height=\"24px\"viewBox=\"0 0 24 24\"\n",
              "     width=\"24px\">\n",
              "    <g>\n",
              "        <path d=\"M19 3H5c-1.1 0-2 .9-2 2v14c0 1.1.9 2 2 2h14c1.1 0 2-.9 2-2V5c0-1.1-.9-2-2-2zM9 17H7v-7h2v7zm4 0h-2V7h2v10zm4 0h-2v-4h2v4z\"/>\n",
              "    </g>\n",
              "</svg>\n",
              "  </button>\n",
              "\n",
              "<style>\n",
              "  .colab-df-quickchart {\n",
              "      --bg-color: #E8F0FE;\n",
              "      --fill-color: #1967D2;\n",
              "      --hover-bg-color: #E2EBFA;\n",
              "      --hover-fill-color: #174EA6;\n",
              "      --disabled-fill-color: #AAA;\n",
              "      --disabled-bg-color: #DDD;\n",
              "  }\n",
              "\n",
              "  [theme=dark] .colab-df-quickchart {\n",
              "      --bg-color: #3B4455;\n",
              "      --fill-color: #D2E3FC;\n",
              "      --hover-bg-color: #434B5C;\n",
              "      --hover-fill-color: #FFFFFF;\n",
              "      --disabled-bg-color: #3B4455;\n",
              "      --disabled-fill-color: #666;\n",
              "  }\n",
              "\n",
              "  .colab-df-quickchart {\n",
              "    background-color: var(--bg-color);\n",
              "    border: none;\n",
              "    border-radius: 50%;\n",
              "    cursor: pointer;\n",
              "    display: none;\n",
              "    fill: var(--fill-color);\n",
              "    height: 32px;\n",
              "    padding: 0;\n",
              "    width: 32px;\n",
              "  }\n",
              "\n",
              "  .colab-df-quickchart:hover {\n",
              "    background-color: var(--hover-bg-color);\n",
              "    box-shadow: 0 1px 2px rgba(60, 64, 67, 0.3), 0 1px 3px 1px rgba(60, 64, 67, 0.15);\n",
              "    fill: var(--button-hover-fill-color);\n",
              "  }\n",
              "\n",
              "  .colab-df-quickchart-complete:disabled,\n",
              "  .colab-df-quickchart-complete:disabled:hover {\n",
              "    background-color: var(--disabled-bg-color);\n",
              "    fill: var(--disabled-fill-color);\n",
              "    box-shadow: none;\n",
              "  }\n",
              "\n",
              "  .colab-df-spinner {\n",
              "    border: 2px solid var(--fill-color);\n",
              "    border-color: transparent;\n",
              "    border-bottom-color: var(--fill-color);\n",
              "    animation:\n",
              "      spin 1s steps(1) infinite;\n",
              "  }\n",
              "\n",
              "  @keyframes spin {\n",
              "    0% {\n",
              "      border-color: transparent;\n",
              "      border-bottom-color: var(--fill-color);\n",
              "      border-left-color: var(--fill-color);\n",
              "    }\n",
              "    20% {\n",
              "      border-color: transparent;\n",
              "      border-left-color: var(--fill-color);\n",
              "      border-top-color: var(--fill-color);\n",
              "    }\n",
              "    30% {\n",
              "      border-color: transparent;\n",
              "      border-left-color: var(--fill-color);\n",
              "      border-top-color: var(--fill-color);\n",
              "      border-right-color: var(--fill-color);\n",
              "    }\n",
              "    40% {\n",
              "      border-color: transparent;\n",
              "      border-right-color: var(--fill-color);\n",
              "      border-top-color: var(--fill-color);\n",
              "    }\n",
              "    60% {\n",
              "      border-color: transparent;\n",
              "      border-right-color: var(--fill-color);\n",
              "    }\n",
              "    80% {\n",
              "      border-color: transparent;\n",
              "      border-right-color: var(--fill-color);\n",
              "      border-bottom-color: var(--fill-color);\n",
              "    }\n",
              "    90% {\n",
              "      border-color: transparent;\n",
              "      border-bottom-color: var(--fill-color);\n",
              "    }\n",
              "  }\n",
              "</style>\n",
              "\n",
              "  <script>\n",
              "    async function quickchart(key) {\n",
              "      const quickchartButtonEl =\n",
              "        document.querySelector('#' + key + ' button');\n",
              "      quickchartButtonEl.disabled = true;  // To prevent multiple clicks.\n",
              "      quickchartButtonEl.classList.add('colab-df-spinner');\n",
              "      try {\n",
              "        const charts = await google.colab.kernel.invokeFunction(\n",
              "            'suggestCharts', [key], {});\n",
              "      } catch (error) {\n",
              "        console.error('Error during call to suggestCharts:', error);\n",
              "      }\n",
              "      quickchartButtonEl.classList.remove('colab-df-spinner');\n",
              "      quickchartButtonEl.classList.add('colab-df-quickchart-complete');\n",
              "    }\n",
              "    (() => {\n",
              "      let quickchartButtonEl =\n",
              "        document.querySelector('#df-9e9c3f0b-64b1-4c3a-bb91-aaae8619622b button');\n",
              "      quickchartButtonEl.style.display =\n",
              "        google.colab.kernel.accessAllowed ? 'block' : 'none';\n",
              "    })();\n",
              "  </script>\n",
              "</div>\n",
              "    </div>\n",
              "  </div>\n"
            ]
          },
          "metadata": {},
          "execution_count": 17
        }
      ],
      "source": [
        "import pandas as pd\n",
        "data = pd.DataFrame(documents)\n",
        "data.head()"
      ]
    },
    {
      "cell_type": "markdown",
      "id": "CGbju_bkOQoL",
      "metadata": {
        "id": "CGbju_bkOQoL"
      },
      "source": [
        "#### ${\\color{red}{Comments\\ 1.1}}$\n",
        "\n",
        "${\\color{red}{⚠️Comments\\ begin⚠️}}$\n",
        "\n",
        "\n",
        "```\n",
        "cross-feedback comment section\n",
        "```\n",
        "\n",
        "\n",
        "${\\color{red}{⚠️Comments\\ end⚠️}}$"
      ]
    },
    {
      "cell_type": "markdown",
      "id": "VTrg2hMrO0vF",
      "metadata": {
        "id": "VTrg2hMrO0vF"
      },
      "source": [
        "## Subtask 1.2: Document Embedding Pipeline\n"
      ]
    },
    {
      "cell_type": "markdown",
      "id": "q_DSEsWIT9eI",
      "metadata": {
        "id": "q_DSEsWIT9eI"
      },
      "source": [
        "In this task, we initialize the embedding pipeline to transform the chunks into vector embeddings using Hugging Face and LangChain. These embeddings are used for similarity search between the query and the chunks to retrieve the most relevant chunks.\n",
        "  We will use the `sentence-transformers/all-MiniLM-L6-v2` model for embedding, which is a rather small model that you can easily run on Colab. Initialize the model using `HuggingFaceEmbeddings` to use Hugging Face via Langchain. The encoding batch size should be 32, and make sure that the model is placed on the correct device, otherwise, this can take a long time."
      ]
    },
    {
      "cell_type": "code",
      "execution_count": 18,
      "id": "DYpEw-IKUTqK",
      "metadata": {
        "id": "DYpEw-IKUTqK"
      },
      "outputs": [],
      "source": [
        "from torch import cuda\n",
        "from langchain.embeddings.huggingface import HuggingFaceEmbeddings\n",
        "import os\n",
        "import pinecone\n",
        "from tqdm import tqdm"
      ]
    },
    {
      "cell_type": "code",
      "execution_count": 19,
      "id": "HI3CJ5bbUTsT",
      "metadata": {
        "id": "HI3CJ5bbUTsT"
      },
      "outputs": [],
      "source": [
        "embedding_model = 'sentence-transformers/all-MiniLM-L6-v2'\n",
        "device = 'cuda:0' # make sure you are on gpu\n",
        "docs = [\n",
        "    \"An example document\",\n",
        "    \"A second document as an example\"\n",
        "]\n",
        "### your code ###\n",
        "import requests\n",
        "\n",
        "embeddings_pipeline = HuggingFaceEmbeddings(model_name=embedding_model, model_kwargs={\"device\": device},encode_kwargs={\"batch_size\": 32})\n",
        "### your code ###"
      ]
    },
    {
      "cell_type": "markdown",
      "id": "_U73Hj93V0_-",
      "metadata": {
        "id": "_U73Hj93V0_-"
      },
      "source": [
        "Embed the example documents using the model you created and check the output.\n",
        "The output should be a list of lists, containing the embeddings."
      ]
    },
    {
      "cell_type": "code",
      "execution_count": 20,
      "id": "9Qt3SDKoUvKx",
      "metadata": {
        "id": "9Qt3SDKoUvKx",
        "colab": {
          "base_uri": "https://localhost:8080/"
        },
        "outputId": "a3873bc5-ad15-434a-857c-444b44802eaf"
      },
      "outputs": [
        {
          "output_type": "stream",
          "name": "stdout",
          "text": [
            "number of docs: 2\n",
            "dimension of docs: 384\n"
          ]
        }
      ],
      "source": [
        "### your code ###\n",
        "embeddings = [embeddings_pipeline.embed_query(doc) for doc in docs]\n",
        "### your code ###\n",
        "print(\"number of docs:\",len(embeddings))\n",
        "print(\"dimension of docs:\",len(embeddings[0]))"
      ]
    },
    {
      "cell_type": "markdown",
      "id": "2D8sr-g9W8cw",
      "metadata": {
        "id": "2D8sr-g9W8cw"
      },
      "source": [
        "Now we use the embedding pipeline created above to store the embeddings in a Pinecone vector index. First, lets setup the Pinecone environment, collect your API key and environment name from the environment variables, and initiate Pinecone with them."
      ]
    },
    {
      "cell_type": "code",
      "execution_count": 21,
      "id": "tycv_q6RW8tO",
      "metadata": {
        "id": "tycv_q6RW8tO"
      },
      "outputs": [],
      "source": [
        "### your code ###\n",
        "pinecone_api_key=os.getenv(\"PINECONE_API_KEY\")\n",
        "pinecone_environment=os.getenv(\"PINECONE_ENVIRONMENT\")\n",
        "from pinecone import Pinecone, PodSpec\n",
        "\n",
        "# Initialize Pinecone with API key and environment\n",
        "pc=Pinecone(api_key=pinecone_api_key, environment=pinecone_environment)\n",
        "### your code ###"
      ]
    },
    {
      "cell_type": "markdown",
      "id": "_9tvVVQ7X2pV",
      "metadata": {
        "id": "_9tvVVQ7X2pV"
      },
      "source": [
        "Initialize the index `rag-assignment` inside Pinecone. Use the cosine similarity as similarity metric. Keep in mind that if you run this multiple times on a free tier, where only one index is allowed, you need to remove the index created to make room for a new one (Pinecone index gets archived automatically after 14 days of inactivity)."
      ]
    },
    {
      "cell_type": "code",
      "execution_count": 39,
      "id": "g_ZA_2J5XyTD",
      "metadata": {
        "id": "g_ZA_2J5XyTD"
      },
      "outputs": [],
      "source": [
        "def create_index(index_name, dimension, metric):\n",
        "  pc.create_index(\n",
        "    name=index_name,\n",
        "    dimension=dimension,\n",
        "    metric=metric,\n",
        "    spec=PodSpec(\n",
        "      environment=\"gcp-starter\"\n",
        "    )\n",
        "  )\n",
        "\n",
        "index_name = 'rag-assignment'\n",
        "### your code ###\n",
        "if pc.list_indexes() != []:\n",
        "  pc.delete_index(index_name)\n",
        "\n",
        "create_index(index_name, 384, \"cosine\")\n",
        "### your code ###"
      ]
    },
    {
      "cell_type": "markdown",
      "id": "rxfs9gshYfKx",
      "metadata": {
        "id": "rxfs9gshYfKx"
      },
      "source": [
        "Lets take a look at the index you created. As of now the index should be empty but have the correct embedding dimension."
      ]
    },
    {
      "cell_type": "code",
      "execution_count": 40,
      "id": "gNnN9mEyYWHB",
      "metadata": {
        "id": "gNnN9mEyYWHB",
        "colab": {
          "base_uri": "https://localhost:8080/"
        },
        "outputId": "9d705afc-37aa-4abe-cf61-ee2d27378f02"
      },
      "outputs": [
        {
          "output_type": "execute_result",
          "data": {
            "text/plain": [
              "{'dimension': 384,\n",
              " 'index_fullness': 0.0,\n",
              " 'namespaces': {},\n",
              " 'total_vector_count': 0}"
            ]
          },
          "metadata": {},
          "execution_count": 40
        }
      ],
      "source": [
        "index_name = 'rag-assignment'\n",
        "index = pc.Index(index_name)\n",
        "index.describe_index_stats()"
      ]
    },
    {
      "cell_type": "markdown",
      "id": "woQKBXfobZMg",
      "metadata": {
        "id": "woQKBXfobZMg"
      },
      "source": [
        "Process the dataset in batches of `32` and push the vectors to the Pinecone index. Your index should include the IDs and embeddings for each chunk. As metadata, pass the original text as `text` and the URL as `source` (no need to add the `https`). We use this metadata later to retrieve the original text."
      ]
    },
    {
      "cell_type": "code",
      "execution_count": 41,
      "id": "K8vjCSVKa8Y6",
      "metadata": {
        "id": "K8vjCSVKa8Y6",
        "colab": {
          "base_uri": "https://localhost:8080/"
        },
        "outputId": "4211592a-2af5-4257-b529-c42d102c02a2"
      },
      "outputs": [
        {
          "output_type": "stream",
          "name": "stderr",
          "text": [
            "\r  0%|          | 0/204 [00:00<?, ?it/s]"
          ]
        },
        {
          "output_type": "stream",
          "name": "stdout",
          "text": [
            "<class 'pandas.core.frame.DataFrame'>\n"
          ]
        },
        {
          "output_type": "stream",
          "name": "stderr",
          "text": [
            "\r  0%|          | 1/204 [00:00<01:38,  2.06it/s]"
          ]
        },
        {
          "output_type": "stream",
          "name": "stdout",
          "text": [
            "<class 'pandas.core.frame.DataFrame'>\n"
          ]
        },
        {
          "output_type": "stream",
          "name": "stderr",
          "text": [
            "\r  1%|          | 2/204 [00:00<01:34,  2.14it/s]"
          ]
        },
        {
          "output_type": "stream",
          "name": "stdout",
          "text": [
            "<class 'pandas.core.frame.DataFrame'>\n"
          ]
        },
        {
          "output_type": "stream",
          "name": "stderr",
          "text": [
            "\r  1%|▏         | 3/204 [00:01<01:28,  2.28it/s]"
          ]
        },
        {
          "output_type": "stream",
          "name": "stdout",
          "text": [
            "<class 'pandas.core.frame.DataFrame'>\n"
          ]
        },
        {
          "output_type": "stream",
          "name": "stderr",
          "text": [
            "\r  2%|▏         | 4/204 [00:01<01:25,  2.34it/s]"
          ]
        },
        {
          "output_type": "stream",
          "name": "stdout",
          "text": [
            "<class 'pandas.core.frame.DataFrame'>\n"
          ]
        },
        {
          "output_type": "stream",
          "name": "stderr",
          "text": [
            "\r  2%|▏         | 5/204 [00:02<01:26,  2.31it/s]"
          ]
        },
        {
          "output_type": "stream",
          "name": "stdout",
          "text": [
            "<class 'pandas.core.frame.DataFrame'>\n"
          ]
        },
        {
          "output_type": "stream",
          "name": "stderr",
          "text": [
            "\r  3%|▎         | 6/204 [00:02<01:30,  2.19it/s]"
          ]
        },
        {
          "output_type": "stream",
          "name": "stdout",
          "text": [
            "<class 'pandas.core.frame.DataFrame'>\n"
          ]
        },
        {
          "output_type": "stream",
          "name": "stderr",
          "text": [
            "\r  3%|▎         | 7/204 [00:03<01:26,  2.28it/s]"
          ]
        },
        {
          "output_type": "stream",
          "name": "stdout",
          "text": [
            "<class 'pandas.core.frame.DataFrame'>\n"
          ]
        },
        {
          "output_type": "stream",
          "name": "stderr",
          "text": [
            "\r  4%|▍         | 8/204 [00:03<01:23,  2.34it/s]"
          ]
        },
        {
          "output_type": "stream",
          "name": "stdout",
          "text": [
            "<class 'pandas.core.frame.DataFrame'>\n"
          ]
        },
        {
          "output_type": "stream",
          "name": "stderr",
          "text": [
            "\r  4%|▍         | 9/204 [00:03<01:23,  2.34it/s]"
          ]
        },
        {
          "output_type": "stream",
          "name": "stdout",
          "text": [
            "<class 'pandas.core.frame.DataFrame'>\n"
          ]
        },
        {
          "output_type": "stream",
          "name": "stderr",
          "text": [
            "\r  5%|▍         | 10/204 [00:04<01:21,  2.38it/s]"
          ]
        },
        {
          "output_type": "stream",
          "name": "stdout",
          "text": [
            "<class 'pandas.core.frame.DataFrame'>\n"
          ]
        },
        {
          "output_type": "stream",
          "name": "stderr",
          "text": [
            "\r  5%|▌         | 11/204 [00:04<01:20,  2.41it/s]"
          ]
        },
        {
          "output_type": "stream",
          "name": "stdout",
          "text": [
            "<class 'pandas.core.frame.DataFrame'>\n"
          ]
        },
        {
          "output_type": "stream",
          "name": "stderr",
          "text": [
            "\r  6%|▌         | 12/204 [00:05<01:18,  2.45it/s]"
          ]
        },
        {
          "output_type": "stream",
          "name": "stdout",
          "text": [
            "<class 'pandas.core.frame.DataFrame'>\n"
          ]
        },
        {
          "output_type": "stream",
          "name": "stderr",
          "text": [
            "\r  6%|▋         | 13/204 [00:05<01:18,  2.44it/s]"
          ]
        },
        {
          "output_type": "stream",
          "name": "stdout",
          "text": [
            "<class 'pandas.core.frame.DataFrame'>\n"
          ]
        },
        {
          "output_type": "stream",
          "name": "stderr",
          "text": [
            "\r  7%|▋         | 14/204 [00:05<01:20,  2.37it/s]"
          ]
        },
        {
          "output_type": "stream",
          "name": "stdout",
          "text": [
            "<class 'pandas.core.frame.DataFrame'>\n"
          ]
        },
        {
          "output_type": "stream",
          "name": "stderr",
          "text": [
            "\r  7%|▋         | 15/204 [00:06<01:28,  2.15it/s]"
          ]
        },
        {
          "output_type": "stream",
          "name": "stdout",
          "text": [
            "<class 'pandas.core.frame.DataFrame'>\n"
          ]
        },
        {
          "output_type": "stream",
          "name": "stderr",
          "text": [
            "\r  8%|▊         | 16/204 [00:07<01:32,  2.02it/s]"
          ]
        },
        {
          "output_type": "stream",
          "name": "stdout",
          "text": [
            "<class 'pandas.core.frame.DataFrame'>\n"
          ]
        },
        {
          "output_type": "stream",
          "name": "stderr",
          "text": [
            "\r  8%|▊         | 17/204 [00:07<01:37,  1.91it/s]"
          ]
        },
        {
          "output_type": "stream",
          "name": "stdout",
          "text": [
            "<class 'pandas.core.frame.DataFrame'>\n"
          ]
        },
        {
          "output_type": "stream",
          "name": "stderr",
          "text": [
            "\r  9%|▉         | 18/204 [00:08<01:39,  1.86it/s]"
          ]
        },
        {
          "output_type": "stream",
          "name": "stdout",
          "text": [
            "<class 'pandas.core.frame.DataFrame'>\n"
          ]
        },
        {
          "output_type": "stream",
          "name": "stderr",
          "text": [
            "\r  9%|▉         | 19/204 [00:08<01:35,  1.94it/s]"
          ]
        },
        {
          "output_type": "stream",
          "name": "stdout",
          "text": [
            "<class 'pandas.core.frame.DataFrame'>\n"
          ]
        },
        {
          "output_type": "stream",
          "name": "stderr",
          "text": [
            "\r 10%|▉         | 20/204 [00:09<01:28,  2.09it/s]"
          ]
        },
        {
          "output_type": "stream",
          "name": "stdout",
          "text": [
            "<class 'pandas.core.frame.DataFrame'>\n"
          ]
        },
        {
          "output_type": "stream",
          "name": "stderr",
          "text": [
            "\r 10%|█         | 21/204 [00:09<01:23,  2.20it/s]"
          ]
        },
        {
          "output_type": "stream",
          "name": "stdout",
          "text": [
            "<class 'pandas.core.frame.DataFrame'>\n"
          ]
        },
        {
          "output_type": "stream",
          "name": "stderr",
          "text": [
            "\r 11%|█         | 22/204 [00:09<01:20,  2.27it/s]"
          ]
        },
        {
          "output_type": "stream",
          "name": "stdout",
          "text": [
            "<class 'pandas.core.frame.DataFrame'>\n"
          ]
        },
        {
          "output_type": "stream",
          "name": "stderr",
          "text": [
            "\r 11%|█▏        | 23/204 [00:10<01:17,  2.34it/s]"
          ]
        },
        {
          "output_type": "stream",
          "name": "stdout",
          "text": [
            "<class 'pandas.core.frame.DataFrame'>\n"
          ]
        },
        {
          "output_type": "stream",
          "name": "stderr",
          "text": [
            "\r 12%|█▏        | 24/204 [00:10<01:15,  2.38it/s]"
          ]
        },
        {
          "output_type": "stream",
          "name": "stdout",
          "text": [
            "<class 'pandas.core.frame.DataFrame'>\n"
          ]
        },
        {
          "output_type": "stream",
          "name": "stderr",
          "text": [
            "\r 12%|█▏        | 25/204 [00:11<01:14,  2.40it/s]"
          ]
        },
        {
          "output_type": "stream",
          "name": "stdout",
          "text": [
            "<class 'pandas.core.frame.DataFrame'>\n"
          ]
        },
        {
          "output_type": "stream",
          "name": "stderr",
          "text": [
            "\r 13%|█▎        | 26/204 [00:11<01:13,  2.41it/s]"
          ]
        },
        {
          "output_type": "stream",
          "name": "stdout",
          "text": [
            "<class 'pandas.core.frame.DataFrame'>\n"
          ]
        },
        {
          "output_type": "stream",
          "name": "stderr",
          "text": [
            "\r 13%|█▎        | 27/204 [00:11<01:13,  2.42it/s]"
          ]
        },
        {
          "output_type": "stream",
          "name": "stdout",
          "text": [
            "<class 'pandas.core.frame.DataFrame'>\n"
          ]
        },
        {
          "output_type": "stream",
          "name": "stderr",
          "text": [
            "\r 14%|█▎        | 28/204 [00:12<01:11,  2.45it/s]"
          ]
        },
        {
          "output_type": "stream",
          "name": "stdout",
          "text": [
            "<class 'pandas.core.frame.DataFrame'>\n"
          ]
        },
        {
          "output_type": "stream",
          "name": "stderr",
          "text": [
            "\r 14%|█▍        | 29/204 [00:12<01:11,  2.45it/s]"
          ]
        },
        {
          "output_type": "stream",
          "name": "stdout",
          "text": [
            "<class 'pandas.core.frame.DataFrame'>\n"
          ]
        },
        {
          "output_type": "stream",
          "name": "stderr",
          "text": [
            "\r 15%|█▍        | 30/204 [00:13<01:10,  2.45it/s]"
          ]
        },
        {
          "output_type": "stream",
          "name": "stdout",
          "text": [
            "<class 'pandas.core.frame.DataFrame'>\n"
          ]
        },
        {
          "output_type": "stream",
          "name": "stderr",
          "text": [
            "\r 15%|█▌        | 31/204 [00:13<01:10,  2.45it/s]"
          ]
        },
        {
          "output_type": "stream",
          "name": "stdout",
          "text": [
            "<class 'pandas.core.frame.DataFrame'>\n"
          ]
        },
        {
          "output_type": "stream",
          "name": "stderr",
          "text": [
            "\r 16%|█▌        | 32/204 [00:14<01:10,  2.45it/s]"
          ]
        },
        {
          "output_type": "stream",
          "name": "stdout",
          "text": [
            "<class 'pandas.core.frame.DataFrame'>\n"
          ]
        },
        {
          "output_type": "stream",
          "name": "stderr",
          "text": [
            "\r 16%|█▌        | 33/204 [00:14<01:10,  2.44it/s]"
          ]
        },
        {
          "output_type": "stream",
          "name": "stdout",
          "text": [
            "<class 'pandas.core.frame.DataFrame'>\n"
          ]
        },
        {
          "output_type": "stream",
          "name": "stderr",
          "text": [
            "\r 17%|█▋        | 34/204 [00:14<01:08,  2.47it/s]"
          ]
        },
        {
          "output_type": "stream",
          "name": "stdout",
          "text": [
            "<class 'pandas.core.frame.DataFrame'>\n"
          ]
        },
        {
          "output_type": "stream",
          "name": "stderr",
          "text": [
            "\r 17%|█▋        | 35/204 [00:15<01:08,  2.46it/s]"
          ]
        },
        {
          "output_type": "stream",
          "name": "stdout",
          "text": [
            "<class 'pandas.core.frame.DataFrame'>\n"
          ]
        },
        {
          "output_type": "stream",
          "name": "stderr",
          "text": [
            "\r 18%|█▊        | 36/204 [00:15<01:07,  2.47it/s]"
          ]
        },
        {
          "output_type": "stream",
          "name": "stdout",
          "text": [
            "<class 'pandas.core.frame.DataFrame'>\n"
          ]
        },
        {
          "output_type": "stream",
          "name": "stderr",
          "text": [
            "\r 18%|█▊        | 37/204 [00:16<01:08,  2.43it/s]"
          ]
        },
        {
          "output_type": "stream",
          "name": "stdout",
          "text": [
            "<class 'pandas.core.frame.DataFrame'>\n"
          ]
        },
        {
          "output_type": "stream",
          "name": "stderr",
          "text": [
            "\r 19%|█▊        | 38/204 [00:16<01:09,  2.40it/s]"
          ]
        },
        {
          "output_type": "stream",
          "name": "stdout",
          "text": [
            "<class 'pandas.core.frame.DataFrame'>\n"
          ]
        },
        {
          "output_type": "stream",
          "name": "stderr",
          "text": [
            "\r 19%|█▉        | 39/204 [00:16<01:07,  2.44it/s]"
          ]
        },
        {
          "output_type": "stream",
          "name": "stdout",
          "text": [
            "<class 'pandas.core.frame.DataFrame'>\n"
          ]
        },
        {
          "output_type": "stream",
          "name": "stderr",
          "text": [
            "\r 20%|█▉        | 40/204 [00:17<01:08,  2.39it/s]"
          ]
        },
        {
          "output_type": "stream",
          "name": "stdout",
          "text": [
            "<class 'pandas.core.frame.DataFrame'>\n"
          ]
        },
        {
          "output_type": "stream",
          "name": "stderr",
          "text": [
            "\r 20%|██        | 41/204 [00:17<01:08,  2.38it/s]"
          ]
        },
        {
          "output_type": "stream",
          "name": "stdout",
          "text": [
            "<class 'pandas.core.frame.DataFrame'>\n"
          ]
        },
        {
          "output_type": "stream",
          "name": "stderr",
          "text": [
            "\r 21%|██        | 42/204 [00:18<01:07,  2.40it/s]"
          ]
        },
        {
          "output_type": "stream",
          "name": "stdout",
          "text": [
            "<class 'pandas.core.frame.DataFrame'>\n"
          ]
        },
        {
          "output_type": "stream",
          "name": "stderr",
          "text": [
            "\r 21%|██        | 43/204 [00:18<01:09,  2.32it/s]"
          ]
        },
        {
          "output_type": "stream",
          "name": "stdout",
          "text": [
            "<class 'pandas.core.frame.DataFrame'>\n"
          ]
        },
        {
          "output_type": "stream",
          "name": "stderr",
          "text": [
            "\r 22%|██▏       | 44/204 [00:19<01:15,  2.12it/s]"
          ]
        },
        {
          "output_type": "stream",
          "name": "stdout",
          "text": [
            "<class 'pandas.core.frame.DataFrame'>\n"
          ]
        },
        {
          "output_type": "stream",
          "name": "stderr",
          "text": [
            "\r 22%|██▏       | 45/204 [00:19<01:20,  1.97it/s]"
          ]
        },
        {
          "output_type": "stream",
          "name": "stdout",
          "text": [
            "<class 'pandas.core.frame.DataFrame'>\n"
          ]
        },
        {
          "output_type": "stream",
          "name": "stderr",
          "text": [
            "\r 23%|██▎       | 46/204 [00:20<01:22,  1.91it/s]"
          ]
        },
        {
          "output_type": "stream",
          "name": "stdout",
          "text": [
            "<class 'pandas.core.frame.DataFrame'>\n"
          ]
        },
        {
          "output_type": "stream",
          "name": "stderr",
          "text": [
            "\r 23%|██▎       | 47/204 [00:20<01:25,  1.85it/s]"
          ]
        },
        {
          "output_type": "stream",
          "name": "stdout",
          "text": [
            "<class 'pandas.core.frame.DataFrame'>\n"
          ]
        },
        {
          "output_type": "stream",
          "name": "stderr",
          "text": [
            "\r 24%|██▎       | 48/204 [00:21<01:20,  1.93it/s]"
          ]
        },
        {
          "output_type": "stream",
          "name": "stdout",
          "text": [
            "<class 'pandas.core.frame.DataFrame'>\n"
          ]
        },
        {
          "output_type": "stream",
          "name": "stderr",
          "text": [
            "\r 24%|██▍       | 49/204 [00:21<01:15,  2.06it/s]"
          ]
        },
        {
          "output_type": "stream",
          "name": "stdout",
          "text": [
            "<class 'pandas.core.frame.DataFrame'>\n"
          ]
        },
        {
          "output_type": "stream",
          "name": "stderr",
          "text": [
            "\r 25%|██▍       | 50/204 [00:22<01:11,  2.15it/s]"
          ]
        },
        {
          "output_type": "stream",
          "name": "stdout",
          "text": [
            "<class 'pandas.core.frame.DataFrame'>\n"
          ]
        },
        {
          "output_type": "stream",
          "name": "stderr",
          "text": [
            "\r 25%|██▌       | 51/204 [00:22<01:08,  2.23it/s]"
          ]
        },
        {
          "output_type": "stream",
          "name": "stdout",
          "text": [
            "<class 'pandas.core.frame.DataFrame'>\n"
          ]
        },
        {
          "output_type": "stream",
          "name": "stderr",
          "text": [
            "\r 25%|██▌       | 52/204 [00:23<01:05,  2.32it/s]"
          ]
        },
        {
          "output_type": "stream",
          "name": "stdout",
          "text": [
            "<class 'pandas.core.frame.DataFrame'>\n"
          ]
        },
        {
          "output_type": "stream",
          "name": "stderr",
          "text": [
            "\r 26%|██▌       | 53/204 [00:23<01:04,  2.36it/s]"
          ]
        },
        {
          "output_type": "stream",
          "name": "stdout",
          "text": [
            "<class 'pandas.core.frame.DataFrame'>\n"
          ]
        },
        {
          "output_type": "stream",
          "name": "stderr",
          "text": [
            "\r 26%|██▋       | 54/204 [00:23<01:02,  2.39it/s]"
          ]
        },
        {
          "output_type": "stream",
          "name": "stdout",
          "text": [
            "<class 'pandas.core.frame.DataFrame'>\n"
          ]
        },
        {
          "output_type": "stream",
          "name": "stderr",
          "text": [
            "\r 27%|██▋       | 55/204 [00:24<01:01,  2.41it/s]"
          ]
        },
        {
          "output_type": "stream",
          "name": "stdout",
          "text": [
            "<class 'pandas.core.frame.DataFrame'>\n"
          ]
        },
        {
          "output_type": "stream",
          "name": "stderr",
          "text": [
            "\r 27%|██▋       | 56/204 [00:24<01:01,  2.41it/s]"
          ]
        },
        {
          "output_type": "stream",
          "name": "stdout",
          "text": [
            "<class 'pandas.core.frame.DataFrame'>\n"
          ]
        },
        {
          "output_type": "stream",
          "name": "stderr",
          "text": [
            "\r 28%|██▊       | 57/204 [00:25<01:00,  2.44it/s]"
          ]
        },
        {
          "output_type": "stream",
          "name": "stdout",
          "text": [
            "<class 'pandas.core.frame.DataFrame'>\n"
          ]
        },
        {
          "output_type": "stream",
          "name": "stderr",
          "text": [
            "\r 28%|██▊       | 58/204 [00:25<01:00,  2.43it/s]"
          ]
        },
        {
          "output_type": "stream",
          "name": "stdout",
          "text": [
            "<class 'pandas.core.frame.DataFrame'>\n"
          ]
        },
        {
          "output_type": "stream",
          "name": "stderr",
          "text": [
            "\r 29%|██▉       | 59/204 [00:25<00:59,  2.42it/s]"
          ]
        },
        {
          "output_type": "stream",
          "name": "stdout",
          "text": [
            "<class 'pandas.core.frame.DataFrame'>\n"
          ]
        },
        {
          "output_type": "stream",
          "name": "stderr",
          "text": [
            "\r 29%|██▉       | 60/204 [00:26<00:58,  2.44it/s]"
          ]
        },
        {
          "output_type": "stream",
          "name": "stdout",
          "text": [
            "<class 'pandas.core.frame.DataFrame'>\n"
          ]
        },
        {
          "output_type": "stream",
          "name": "stderr",
          "text": [
            "\r 30%|██▉       | 61/204 [00:26<00:58,  2.43it/s]"
          ]
        },
        {
          "output_type": "stream",
          "name": "stdout",
          "text": [
            "<class 'pandas.core.frame.DataFrame'>\n"
          ]
        },
        {
          "output_type": "stream",
          "name": "stderr",
          "text": [
            "\r 30%|███       | 62/204 [00:27<00:57,  2.47it/s]"
          ]
        },
        {
          "output_type": "stream",
          "name": "stdout",
          "text": [
            "<class 'pandas.core.frame.DataFrame'>\n"
          ]
        },
        {
          "output_type": "stream",
          "name": "stderr",
          "text": [
            "\r 31%|███       | 63/204 [00:27<00:57,  2.46it/s]"
          ]
        },
        {
          "output_type": "stream",
          "name": "stdout",
          "text": [
            "<class 'pandas.core.frame.DataFrame'>\n"
          ]
        },
        {
          "output_type": "stream",
          "name": "stderr",
          "text": [
            "\r 31%|███▏      | 64/204 [00:27<00:57,  2.45it/s]"
          ]
        },
        {
          "output_type": "stream",
          "name": "stdout",
          "text": [
            "<class 'pandas.core.frame.DataFrame'>\n"
          ]
        },
        {
          "output_type": "stream",
          "name": "stderr",
          "text": [
            "\r 32%|███▏      | 65/204 [00:28<00:56,  2.47it/s]"
          ]
        },
        {
          "output_type": "stream",
          "name": "stdout",
          "text": [
            "<class 'pandas.core.frame.DataFrame'>\n"
          ]
        },
        {
          "output_type": "stream",
          "name": "stderr",
          "text": [
            "\r 32%|███▏      | 66/204 [00:28<00:56,  2.46it/s]"
          ]
        },
        {
          "output_type": "stream",
          "name": "stdout",
          "text": [
            "<class 'pandas.core.frame.DataFrame'>\n"
          ]
        },
        {
          "output_type": "stream",
          "name": "stderr",
          "text": [
            "\r 33%|███▎      | 67/204 [00:29<00:56,  2.41it/s]"
          ]
        },
        {
          "output_type": "stream",
          "name": "stdout",
          "text": [
            "<class 'pandas.core.frame.DataFrame'>\n"
          ]
        },
        {
          "output_type": "stream",
          "name": "stderr",
          "text": [
            "\r 33%|███▎      | 68/204 [00:29<00:57,  2.36it/s]"
          ]
        },
        {
          "output_type": "stream",
          "name": "stdout",
          "text": [
            "<class 'pandas.core.frame.DataFrame'>\n"
          ]
        },
        {
          "output_type": "stream",
          "name": "stderr",
          "text": [
            "\r 34%|███▍      | 69/204 [00:29<00:56,  2.38it/s]"
          ]
        },
        {
          "output_type": "stream",
          "name": "stdout",
          "text": [
            "<class 'pandas.core.frame.DataFrame'>\n"
          ]
        },
        {
          "output_type": "stream",
          "name": "stderr",
          "text": [
            "\r 34%|███▍      | 70/204 [00:30<00:56,  2.38it/s]"
          ]
        },
        {
          "output_type": "stream",
          "name": "stdout",
          "text": [
            "<class 'pandas.core.frame.DataFrame'>\n"
          ]
        },
        {
          "output_type": "stream",
          "name": "stderr",
          "text": [
            "\r 35%|███▍      | 71/204 [00:30<00:55,  2.42it/s]"
          ]
        },
        {
          "output_type": "stream",
          "name": "stdout",
          "text": [
            "<class 'pandas.core.frame.DataFrame'>\n"
          ]
        },
        {
          "output_type": "stream",
          "name": "stderr",
          "text": [
            "\r 35%|███▌      | 72/204 [00:31<00:57,  2.29it/s]"
          ]
        },
        {
          "output_type": "stream",
          "name": "stdout",
          "text": [
            "<class 'pandas.core.frame.DataFrame'>\n"
          ]
        },
        {
          "output_type": "stream",
          "name": "stderr",
          "text": [
            "\r 36%|███▌      | 73/204 [00:31<01:02,  2.10it/s]"
          ]
        },
        {
          "output_type": "stream",
          "name": "stdout",
          "text": [
            "<class 'pandas.core.frame.DataFrame'>\n"
          ]
        },
        {
          "output_type": "stream",
          "name": "stderr",
          "text": [
            "\r 36%|███▋      | 74/204 [00:32<01:21,  1.59it/s]"
          ]
        },
        {
          "output_type": "stream",
          "name": "stdout",
          "text": [
            "<class 'pandas.core.frame.DataFrame'>\n"
          ]
        },
        {
          "output_type": "stream",
          "name": "stderr",
          "text": [
            "\r 37%|███▋      | 75/204 [00:33<01:18,  1.65it/s]"
          ]
        },
        {
          "output_type": "stream",
          "name": "stdout",
          "text": [
            "<class 'pandas.core.frame.DataFrame'>\n"
          ]
        },
        {
          "output_type": "stream",
          "name": "stderr",
          "text": [
            "\r 37%|███▋      | 76/204 [00:33<01:14,  1.73it/s]"
          ]
        },
        {
          "output_type": "stream",
          "name": "stdout",
          "text": [
            "<class 'pandas.core.frame.DataFrame'>\n"
          ]
        },
        {
          "output_type": "stream",
          "name": "stderr",
          "text": [
            "\r 38%|███▊      | 77/204 [00:34<01:07,  1.89it/s]"
          ]
        },
        {
          "output_type": "stream",
          "name": "stdout",
          "text": [
            "<class 'pandas.core.frame.DataFrame'>\n"
          ]
        },
        {
          "output_type": "stream",
          "name": "stderr",
          "text": [
            "\r 38%|███▊      | 78/204 [00:34<01:02,  2.01it/s]"
          ]
        },
        {
          "output_type": "stream",
          "name": "stdout",
          "text": [
            "<class 'pandas.core.frame.DataFrame'>\n"
          ]
        },
        {
          "output_type": "stream",
          "name": "stderr",
          "text": [
            "\r 39%|███▊      | 79/204 [00:35<00:59,  2.11it/s]"
          ]
        },
        {
          "output_type": "stream",
          "name": "stdout",
          "text": [
            "<class 'pandas.core.frame.DataFrame'>\n"
          ]
        },
        {
          "output_type": "stream",
          "name": "stderr",
          "text": [
            "\r 39%|███▉      | 80/204 [00:35<00:56,  2.20it/s]"
          ]
        },
        {
          "output_type": "stream",
          "name": "stdout",
          "text": [
            "<class 'pandas.core.frame.DataFrame'>\n"
          ]
        },
        {
          "output_type": "stream",
          "name": "stderr",
          "text": [
            "\r 40%|███▉      | 81/204 [00:35<00:53,  2.29it/s]"
          ]
        },
        {
          "output_type": "stream",
          "name": "stdout",
          "text": [
            "<class 'pandas.core.frame.DataFrame'>\n"
          ]
        },
        {
          "output_type": "stream",
          "name": "stderr",
          "text": [
            "\r 40%|████      | 82/204 [00:36<00:52,  2.33it/s]"
          ]
        },
        {
          "output_type": "stream",
          "name": "stdout",
          "text": [
            "<class 'pandas.core.frame.DataFrame'>\n"
          ]
        },
        {
          "output_type": "stream",
          "name": "stderr",
          "text": [
            "\r 41%|████      | 83/204 [00:36<00:52,  2.31it/s]"
          ]
        },
        {
          "output_type": "stream",
          "name": "stdout",
          "text": [
            "<class 'pandas.core.frame.DataFrame'>\n"
          ]
        },
        {
          "output_type": "stream",
          "name": "stderr",
          "text": [
            "\r 41%|████      | 84/204 [00:37<00:50,  2.39it/s]"
          ]
        },
        {
          "output_type": "stream",
          "name": "stdout",
          "text": [
            "<class 'pandas.core.frame.DataFrame'>\n"
          ]
        },
        {
          "output_type": "stream",
          "name": "stderr",
          "text": [
            "\r 42%|████▏     | 85/204 [00:37<00:49,  2.38it/s]"
          ]
        },
        {
          "output_type": "stream",
          "name": "stdout",
          "text": [
            "<class 'pandas.core.frame.DataFrame'>\n"
          ]
        },
        {
          "output_type": "stream",
          "name": "stderr",
          "text": [
            "\r 42%|████▏     | 86/204 [00:38<00:49,  2.40it/s]"
          ]
        },
        {
          "output_type": "stream",
          "name": "stdout",
          "text": [
            "<class 'pandas.core.frame.DataFrame'>\n"
          ]
        },
        {
          "output_type": "stream",
          "name": "stderr",
          "text": [
            "\r 43%|████▎     | 87/204 [00:38<01:04,  1.82it/s]"
          ]
        },
        {
          "output_type": "stream",
          "name": "stdout",
          "text": [
            "<class 'pandas.core.frame.DataFrame'>\n"
          ]
        },
        {
          "output_type": "stream",
          "name": "stderr",
          "text": [
            "\r 43%|████▎     | 88/204 [00:39<00:58,  1.97it/s]"
          ]
        },
        {
          "output_type": "stream",
          "name": "stdout",
          "text": [
            "<class 'pandas.core.frame.DataFrame'>\n"
          ]
        },
        {
          "output_type": "stream",
          "name": "stderr",
          "text": [
            "\r 44%|████▎     | 89/204 [00:40<01:07,  1.69it/s]"
          ]
        },
        {
          "output_type": "stream",
          "name": "stdout",
          "text": [
            "<class 'pandas.core.frame.DataFrame'>\n"
          ]
        },
        {
          "output_type": "stream",
          "name": "stderr",
          "text": [
            "\r 44%|████▍     | 90/204 [00:40<01:07,  1.70it/s]"
          ]
        },
        {
          "output_type": "stream",
          "name": "stdout",
          "text": [
            "<class 'pandas.core.frame.DataFrame'>\n"
          ]
        },
        {
          "output_type": "stream",
          "name": "stderr",
          "text": [
            "\r 45%|████▍     | 91/204 [00:41<01:05,  1.71it/s]"
          ]
        },
        {
          "output_type": "stream",
          "name": "stdout",
          "text": [
            "<class 'pandas.core.frame.DataFrame'>\n"
          ]
        },
        {
          "output_type": "stream",
          "name": "stderr",
          "text": [
            "\r 45%|████▌     | 92/204 [00:41<00:59,  1.87it/s]"
          ]
        },
        {
          "output_type": "stream",
          "name": "stdout",
          "text": [
            "<class 'pandas.core.frame.DataFrame'>\n"
          ]
        },
        {
          "output_type": "stream",
          "name": "stderr",
          "text": [
            "\r 46%|████▌     | 93/204 [00:42<00:55,  2.01it/s]"
          ]
        },
        {
          "output_type": "stream",
          "name": "stdout",
          "text": [
            "<class 'pandas.core.frame.DataFrame'>\n"
          ]
        },
        {
          "output_type": "stream",
          "name": "stderr",
          "text": [
            "\r 46%|████▌     | 94/204 [00:42<00:51,  2.14it/s]"
          ]
        },
        {
          "output_type": "stream",
          "name": "stdout",
          "text": [
            "<class 'pandas.core.frame.DataFrame'>\n"
          ]
        },
        {
          "output_type": "stream",
          "name": "stderr",
          "text": [
            "\r 47%|████▋     | 95/204 [00:42<00:49,  2.22it/s]"
          ]
        },
        {
          "output_type": "stream",
          "name": "stdout",
          "text": [
            "<class 'pandas.core.frame.DataFrame'>\n"
          ]
        },
        {
          "output_type": "stream",
          "name": "stderr",
          "text": [
            "\r 47%|████▋     | 96/204 [00:43<00:47,  2.26it/s]"
          ]
        },
        {
          "output_type": "stream",
          "name": "stdout",
          "text": [
            "<class 'pandas.core.frame.DataFrame'>\n"
          ]
        },
        {
          "output_type": "stream",
          "name": "stderr",
          "text": [
            "\r 48%|████▊     | 97/204 [00:43<00:47,  2.25it/s]"
          ]
        },
        {
          "output_type": "stream",
          "name": "stdout",
          "text": [
            "<class 'pandas.core.frame.DataFrame'>\n"
          ]
        },
        {
          "output_type": "stream",
          "name": "stderr",
          "text": [
            "\r 48%|████▊     | 98/204 [00:44<00:52,  2.00it/s]"
          ]
        },
        {
          "output_type": "stream",
          "name": "stdout",
          "text": [
            "<class 'pandas.core.frame.DataFrame'>\n"
          ]
        },
        {
          "output_type": "stream",
          "name": "stderr",
          "text": [
            "\r 49%|████▊     | 99/204 [00:45<00:55,  1.88it/s]"
          ]
        },
        {
          "output_type": "stream",
          "name": "stdout",
          "text": [
            "<class 'pandas.core.frame.DataFrame'>\n"
          ]
        },
        {
          "output_type": "stream",
          "name": "stderr",
          "text": [
            "\r 49%|████▉     | 100/204 [00:45<00:57,  1.82it/s]"
          ]
        },
        {
          "output_type": "stream",
          "name": "stdout",
          "text": [
            "<class 'pandas.core.frame.DataFrame'>\n"
          ]
        },
        {
          "output_type": "stream",
          "name": "stderr",
          "text": [
            "\r 50%|████▉     | 101/204 [00:46<00:57,  1.80it/s]"
          ]
        },
        {
          "output_type": "stream",
          "name": "stdout",
          "text": [
            "<class 'pandas.core.frame.DataFrame'>\n"
          ]
        },
        {
          "output_type": "stream",
          "name": "stderr",
          "text": [
            "\r 50%|█████     | 102/204 [00:46<00:56,  1.81it/s]"
          ]
        },
        {
          "output_type": "stream",
          "name": "stdout",
          "text": [
            "<class 'pandas.core.frame.DataFrame'>\n"
          ]
        },
        {
          "output_type": "stream",
          "name": "stderr",
          "text": [
            "\r 50%|█████     | 103/204 [00:47<00:51,  1.98it/s]"
          ]
        },
        {
          "output_type": "stream",
          "name": "stdout",
          "text": [
            "<class 'pandas.core.frame.DataFrame'>\n"
          ]
        },
        {
          "output_type": "stream",
          "name": "stderr",
          "text": [
            "\r 51%|█████     | 104/204 [00:47<00:47,  2.10it/s]"
          ]
        },
        {
          "output_type": "stream",
          "name": "stdout",
          "text": [
            "<class 'pandas.core.frame.DataFrame'>\n"
          ]
        },
        {
          "output_type": "stream",
          "name": "stderr",
          "text": [
            "\r 51%|█████▏    | 105/204 [00:47<00:45,  2.18it/s]"
          ]
        },
        {
          "output_type": "stream",
          "name": "stdout",
          "text": [
            "<class 'pandas.core.frame.DataFrame'>\n"
          ]
        },
        {
          "output_type": "stream",
          "name": "stderr",
          "text": [
            "\r 52%|█████▏    | 106/204 [00:48<00:43,  2.23it/s]"
          ]
        },
        {
          "output_type": "stream",
          "name": "stdout",
          "text": [
            "<class 'pandas.core.frame.DataFrame'>\n"
          ]
        },
        {
          "output_type": "stream",
          "name": "stderr",
          "text": [
            "\r 52%|█████▏    | 107/204 [00:48<00:42,  2.30it/s]"
          ]
        },
        {
          "output_type": "stream",
          "name": "stdout",
          "text": [
            "<class 'pandas.core.frame.DataFrame'>\n"
          ]
        },
        {
          "output_type": "stream",
          "name": "stderr",
          "text": [
            "\r 53%|█████▎    | 108/204 [00:49<00:40,  2.34it/s]"
          ]
        },
        {
          "output_type": "stream",
          "name": "stdout",
          "text": [
            "<class 'pandas.core.frame.DataFrame'>\n"
          ]
        },
        {
          "output_type": "stream",
          "name": "stderr",
          "text": [
            "\r 53%|█████▎    | 109/204 [00:49<00:40,  2.35it/s]"
          ]
        },
        {
          "output_type": "stream",
          "name": "stdout",
          "text": [
            "<class 'pandas.core.frame.DataFrame'>\n"
          ]
        },
        {
          "output_type": "stream",
          "name": "stderr",
          "text": [
            "\r 54%|█████▍    | 110/204 [00:50<00:39,  2.37it/s]"
          ]
        },
        {
          "output_type": "stream",
          "name": "stdout",
          "text": [
            "<class 'pandas.core.frame.DataFrame'>\n"
          ]
        },
        {
          "output_type": "stream",
          "name": "stderr",
          "text": [
            "\r 54%|█████▍    | 111/204 [00:50<00:38,  2.40it/s]"
          ]
        },
        {
          "output_type": "stream",
          "name": "stdout",
          "text": [
            "<class 'pandas.core.frame.DataFrame'>\n"
          ]
        },
        {
          "output_type": "stream",
          "name": "stderr",
          "text": [
            "\r 55%|█████▍    | 112/204 [00:50<00:37,  2.43it/s]"
          ]
        },
        {
          "output_type": "stream",
          "name": "stdout",
          "text": [
            "<class 'pandas.core.frame.DataFrame'>\n"
          ]
        },
        {
          "output_type": "stream",
          "name": "stderr",
          "text": [
            "\r 55%|█████▌    | 113/204 [00:51<00:37,  2.43it/s]"
          ]
        },
        {
          "output_type": "stream",
          "name": "stdout",
          "text": [
            "<class 'pandas.core.frame.DataFrame'>\n"
          ]
        },
        {
          "output_type": "stream",
          "name": "stderr",
          "text": [
            "\r 56%|█████▌    | 114/204 [00:51<00:36,  2.45it/s]"
          ]
        },
        {
          "output_type": "stream",
          "name": "stdout",
          "text": [
            "<class 'pandas.core.frame.DataFrame'>\n"
          ]
        },
        {
          "output_type": "stream",
          "name": "stderr",
          "text": [
            "\r 56%|█████▋    | 115/204 [00:52<00:36,  2.44it/s]"
          ]
        },
        {
          "output_type": "stream",
          "name": "stdout",
          "text": [
            "<class 'pandas.core.frame.DataFrame'>\n"
          ]
        },
        {
          "output_type": "stream",
          "name": "stderr",
          "text": [
            "\r 57%|█████▋    | 116/204 [00:52<00:35,  2.45it/s]"
          ]
        },
        {
          "output_type": "stream",
          "name": "stdout",
          "text": [
            "<class 'pandas.core.frame.DataFrame'>\n"
          ]
        },
        {
          "output_type": "stream",
          "name": "stderr",
          "text": [
            "\r 57%|█████▋    | 117/204 [00:52<00:35,  2.45it/s]"
          ]
        },
        {
          "output_type": "stream",
          "name": "stdout",
          "text": [
            "<class 'pandas.core.frame.DataFrame'>\n"
          ]
        },
        {
          "output_type": "stream",
          "name": "stderr",
          "text": [
            "\r 58%|█████▊    | 118/204 [00:53<00:35,  2.46it/s]"
          ]
        },
        {
          "output_type": "stream",
          "name": "stdout",
          "text": [
            "<class 'pandas.core.frame.DataFrame'>\n"
          ]
        },
        {
          "output_type": "stream",
          "name": "stderr",
          "text": [
            "\r 58%|█████▊    | 119/204 [00:53<00:34,  2.48it/s]"
          ]
        },
        {
          "output_type": "stream",
          "name": "stdout",
          "text": [
            "<class 'pandas.core.frame.DataFrame'>\n"
          ]
        },
        {
          "output_type": "stream",
          "name": "stderr",
          "text": [
            "\r 59%|█████▉    | 120/204 [00:54<00:34,  2.43it/s]"
          ]
        },
        {
          "output_type": "stream",
          "name": "stdout",
          "text": [
            "<class 'pandas.core.frame.DataFrame'>\n"
          ]
        },
        {
          "output_type": "stream",
          "name": "stderr",
          "text": [
            "\r 59%|█████▉    | 121/204 [00:54<00:34,  2.44it/s]"
          ]
        },
        {
          "output_type": "stream",
          "name": "stdout",
          "text": [
            "<class 'pandas.core.frame.DataFrame'>\n"
          ]
        },
        {
          "output_type": "stream",
          "name": "stderr",
          "text": [
            "\r 60%|█████▉    | 122/204 [00:54<00:33,  2.44it/s]"
          ]
        },
        {
          "output_type": "stream",
          "name": "stdout",
          "text": [
            "<class 'pandas.core.frame.DataFrame'>\n"
          ]
        },
        {
          "output_type": "stream",
          "name": "stderr",
          "text": [
            "\r 60%|██████    | 123/204 [00:55<00:33,  2.43it/s]"
          ]
        },
        {
          "output_type": "stream",
          "name": "stdout",
          "text": [
            "<class 'pandas.core.frame.DataFrame'>\n"
          ]
        },
        {
          "output_type": "stream",
          "name": "stderr",
          "text": [
            "\r 61%|██████    | 124/204 [00:55<00:33,  2.41it/s]"
          ]
        },
        {
          "output_type": "stream",
          "name": "stdout",
          "text": [
            "<class 'pandas.core.frame.DataFrame'>\n"
          ]
        },
        {
          "output_type": "stream",
          "name": "stderr",
          "text": [
            "\r 61%|██████▏   | 125/204 [00:56<00:32,  2.41it/s]"
          ]
        },
        {
          "output_type": "stream",
          "name": "stdout",
          "text": [
            "<class 'pandas.core.frame.DataFrame'>\n"
          ]
        },
        {
          "output_type": "stream",
          "name": "stderr",
          "text": [
            "\r 62%|██████▏   | 126/204 [00:56<00:32,  2.41it/s]"
          ]
        },
        {
          "output_type": "stream",
          "name": "stdout",
          "text": [
            "<class 'pandas.core.frame.DataFrame'>\n"
          ]
        },
        {
          "output_type": "stream",
          "name": "stderr",
          "text": [
            "\r 62%|██████▏   | 127/204 [00:57<00:35,  2.16it/s]"
          ]
        },
        {
          "output_type": "stream",
          "name": "stdout",
          "text": [
            "<class 'pandas.core.frame.DataFrame'>\n"
          ]
        },
        {
          "output_type": "stream",
          "name": "stderr",
          "text": [
            "\r 63%|██████▎   | 128/204 [00:57<00:37,  2.04it/s]"
          ]
        },
        {
          "output_type": "stream",
          "name": "stdout",
          "text": [
            "<class 'pandas.core.frame.DataFrame'>\n"
          ]
        },
        {
          "output_type": "stream",
          "name": "stderr",
          "text": [
            "\r 63%|██████▎   | 129/204 [00:58<00:38,  1.94it/s]"
          ]
        },
        {
          "output_type": "stream",
          "name": "stdout",
          "text": [
            "<class 'pandas.core.frame.DataFrame'>\n"
          ]
        },
        {
          "output_type": "stream",
          "name": "stderr",
          "text": [
            "\r 64%|██████▎   | 130/204 [00:58<00:38,  1.90it/s]"
          ]
        },
        {
          "output_type": "stream",
          "name": "stdout",
          "text": [
            "<class 'pandas.core.frame.DataFrame'>\n"
          ]
        },
        {
          "output_type": "stream",
          "name": "stderr",
          "text": [
            "\r 64%|██████▍   | 131/204 [00:59<00:39,  1.83it/s]"
          ]
        },
        {
          "output_type": "stream",
          "name": "stdout",
          "text": [
            "<class 'pandas.core.frame.DataFrame'>\n"
          ]
        },
        {
          "output_type": "stream",
          "name": "stderr",
          "text": [
            "\r 65%|██████▍   | 132/204 [00:59<00:36,  1.96it/s]"
          ]
        },
        {
          "output_type": "stream",
          "name": "stdout",
          "text": [
            "<class 'pandas.core.frame.DataFrame'>\n"
          ]
        },
        {
          "output_type": "stream",
          "name": "stderr",
          "text": [
            "\r 65%|██████▌   | 133/204 [01:00<00:34,  2.05it/s]"
          ]
        },
        {
          "output_type": "stream",
          "name": "stdout",
          "text": [
            "<class 'pandas.core.frame.DataFrame'>\n"
          ]
        },
        {
          "output_type": "stream",
          "name": "stderr",
          "text": [
            "\r 66%|██████▌   | 134/204 [01:00<00:35,  1.95it/s]"
          ]
        },
        {
          "output_type": "stream",
          "name": "stdout",
          "text": [
            "<class 'pandas.core.frame.DataFrame'>\n"
          ]
        },
        {
          "output_type": "stream",
          "name": "stderr",
          "text": [
            "\r 66%|██████▌   | 135/204 [01:01<00:36,  1.91it/s]"
          ]
        },
        {
          "output_type": "stream",
          "name": "stdout",
          "text": [
            "<class 'pandas.core.frame.DataFrame'>\n"
          ]
        },
        {
          "output_type": "stream",
          "name": "stderr",
          "text": [
            "\r 67%|██████▋   | 136/204 [01:01<00:36,  1.87it/s]"
          ]
        },
        {
          "output_type": "stream",
          "name": "stdout",
          "text": [
            "<class 'pandas.core.frame.DataFrame'>\n"
          ]
        },
        {
          "output_type": "stream",
          "name": "stderr",
          "text": [
            "\r 67%|██████▋   | 137/204 [01:02<00:36,  1.83it/s]"
          ]
        },
        {
          "output_type": "stream",
          "name": "stdout",
          "text": [
            "<class 'pandas.core.frame.DataFrame'>\n"
          ]
        },
        {
          "output_type": "stream",
          "name": "stderr",
          "text": [
            "\r 68%|██████▊   | 138/204 [01:03<00:36,  1.83it/s]"
          ]
        },
        {
          "output_type": "stream",
          "name": "stdout",
          "text": [
            "<class 'pandas.core.frame.DataFrame'>\n"
          ]
        },
        {
          "output_type": "stream",
          "name": "stderr",
          "text": [
            "\r 68%|██████▊   | 139/204 [01:03<00:33,  1.95it/s]"
          ]
        },
        {
          "output_type": "stream",
          "name": "stdout",
          "text": [
            "<class 'pandas.core.frame.DataFrame'>\n"
          ]
        },
        {
          "output_type": "stream",
          "name": "stderr",
          "text": [
            "\r 69%|██████▊   | 140/204 [01:03<00:30,  2.08it/s]"
          ]
        },
        {
          "output_type": "stream",
          "name": "stdout",
          "text": [
            "<class 'pandas.core.frame.DataFrame'>\n"
          ]
        },
        {
          "output_type": "stream",
          "name": "stderr",
          "text": [
            "\r 69%|██████▉   | 141/204 [01:04<00:28,  2.19it/s]"
          ]
        },
        {
          "output_type": "stream",
          "name": "stdout",
          "text": [
            "<class 'pandas.core.frame.DataFrame'>\n"
          ]
        },
        {
          "output_type": "stream",
          "name": "stderr",
          "text": [
            "\r 70%|██████▉   | 142/204 [01:04<00:27,  2.28it/s]"
          ]
        },
        {
          "output_type": "stream",
          "name": "stdout",
          "text": [
            "<class 'pandas.core.frame.DataFrame'>\n"
          ]
        },
        {
          "output_type": "stream",
          "name": "stderr",
          "text": [
            "\r 70%|███████   | 143/204 [01:05<00:25,  2.35it/s]"
          ]
        },
        {
          "output_type": "stream",
          "name": "stdout",
          "text": [
            "<class 'pandas.core.frame.DataFrame'>\n"
          ]
        },
        {
          "output_type": "stream",
          "name": "stderr",
          "text": [
            "\r 71%|███████   | 144/204 [01:05<00:25,  2.34it/s]"
          ]
        },
        {
          "output_type": "stream",
          "name": "stdout",
          "text": [
            "<class 'pandas.core.frame.DataFrame'>\n"
          ]
        },
        {
          "output_type": "stream",
          "name": "stderr",
          "text": [
            "\r 71%|███████   | 145/204 [01:05<00:24,  2.36it/s]"
          ]
        },
        {
          "output_type": "stream",
          "name": "stdout",
          "text": [
            "<class 'pandas.core.frame.DataFrame'>\n"
          ]
        },
        {
          "output_type": "stream",
          "name": "stderr",
          "text": [
            "\r 72%|███████▏  | 146/204 [01:06<00:24,  2.37it/s]"
          ]
        },
        {
          "output_type": "stream",
          "name": "stdout",
          "text": [
            "<class 'pandas.core.frame.DataFrame'>\n"
          ]
        },
        {
          "output_type": "stream",
          "name": "stderr",
          "text": [
            "\r 72%|███████▏  | 147/204 [01:06<00:23,  2.41it/s]"
          ]
        },
        {
          "output_type": "stream",
          "name": "stdout",
          "text": [
            "<class 'pandas.core.frame.DataFrame'>\n"
          ]
        },
        {
          "output_type": "stream",
          "name": "stderr",
          "text": [
            "\r 73%|███████▎  | 148/204 [01:07<00:23,  2.43it/s]"
          ]
        },
        {
          "output_type": "stream",
          "name": "stdout",
          "text": [
            "<class 'pandas.core.frame.DataFrame'>\n"
          ]
        },
        {
          "output_type": "stream",
          "name": "stderr",
          "text": [
            "\r 73%|███████▎  | 149/204 [01:07<00:22,  2.42it/s]"
          ]
        },
        {
          "output_type": "stream",
          "name": "stdout",
          "text": [
            "<class 'pandas.core.frame.DataFrame'>\n"
          ]
        },
        {
          "output_type": "stream",
          "name": "stderr",
          "text": [
            "\r 74%|███████▎  | 150/204 [01:08<00:22,  2.41it/s]"
          ]
        },
        {
          "output_type": "stream",
          "name": "stdout",
          "text": [
            "<class 'pandas.core.frame.DataFrame'>\n"
          ]
        },
        {
          "output_type": "stream",
          "name": "stderr",
          "text": [
            "\r 74%|███████▍  | 151/204 [01:08<00:22,  2.41it/s]"
          ]
        },
        {
          "output_type": "stream",
          "name": "stdout",
          "text": [
            "<class 'pandas.core.frame.DataFrame'>\n"
          ]
        },
        {
          "output_type": "stream",
          "name": "stderr",
          "text": [
            "\r 75%|███████▍  | 152/204 [01:08<00:21,  2.41it/s]"
          ]
        },
        {
          "output_type": "stream",
          "name": "stdout",
          "text": [
            "<class 'pandas.core.frame.DataFrame'>\n"
          ]
        },
        {
          "output_type": "stream",
          "name": "stderr",
          "text": [
            "\r 75%|███████▌  | 153/204 [01:09<00:21,  2.42it/s]"
          ]
        },
        {
          "output_type": "stream",
          "name": "stdout",
          "text": [
            "<class 'pandas.core.frame.DataFrame'>\n"
          ]
        },
        {
          "output_type": "stream",
          "name": "stderr",
          "text": [
            "\r 75%|███████▌  | 154/204 [01:09<00:23,  2.17it/s]"
          ]
        },
        {
          "output_type": "stream",
          "name": "stdout",
          "text": [
            "<class 'pandas.core.frame.DataFrame'>\n"
          ]
        },
        {
          "output_type": "stream",
          "name": "stderr",
          "text": [
            "\r 76%|███████▌  | 155/204 [01:10<00:23,  2.05it/s]"
          ]
        },
        {
          "output_type": "stream",
          "name": "stdout",
          "text": [
            "<class 'pandas.core.frame.DataFrame'>\n"
          ]
        },
        {
          "output_type": "stream",
          "name": "stderr",
          "text": [
            "\r 76%|███████▋  | 156/204 [01:10<00:24,  1.95it/s]"
          ]
        },
        {
          "output_type": "stream",
          "name": "stdout",
          "text": [
            "<class 'pandas.core.frame.DataFrame'>\n"
          ]
        },
        {
          "output_type": "stream",
          "name": "stderr",
          "text": [
            "\r 77%|███████▋  | 157/204 [01:11<00:24,  1.91it/s]"
          ]
        },
        {
          "output_type": "stream",
          "name": "stdout",
          "text": [
            "<class 'pandas.core.frame.DataFrame'>\n"
          ]
        },
        {
          "output_type": "stream",
          "name": "stderr",
          "text": [
            "\r 77%|███████▋  | 158/204 [01:12<00:24,  1.88it/s]"
          ]
        },
        {
          "output_type": "stream",
          "name": "stdout",
          "text": [
            "<class 'pandas.core.frame.DataFrame'>\n"
          ]
        },
        {
          "output_type": "stream",
          "name": "stderr",
          "text": [
            "\r 78%|███████▊  | 159/204 [01:12<00:22,  2.02it/s]"
          ]
        },
        {
          "output_type": "stream",
          "name": "stdout",
          "text": [
            "<class 'pandas.core.frame.DataFrame'>\n"
          ]
        },
        {
          "output_type": "stream",
          "name": "stderr",
          "text": [
            "\r 78%|███████▊  | 160/204 [01:12<00:20,  2.12it/s]"
          ]
        },
        {
          "output_type": "stream",
          "name": "stdout",
          "text": [
            "<class 'pandas.core.frame.DataFrame'>\n"
          ]
        },
        {
          "output_type": "stream",
          "name": "stderr",
          "text": [
            "\r 79%|███████▉  | 161/204 [01:13<00:19,  2.22it/s]"
          ]
        },
        {
          "output_type": "stream",
          "name": "stdout",
          "text": [
            "<class 'pandas.core.frame.DataFrame'>\n"
          ]
        },
        {
          "output_type": "stream",
          "name": "stderr",
          "text": [
            "\r 79%|███████▉  | 162/204 [01:13<00:18,  2.28it/s]"
          ]
        },
        {
          "output_type": "stream",
          "name": "stdout",
          "text": [
            "<class 'pandas.core.frame.DataFrame'>\n"
          ]
        },
        {
          "output_type": "stream",
          "name": "stderr",
          "text": [
            "\r 80%|███████▉  | 163/204 [01:14<00:17,  2.33it/s]"
          ]
        },
        {
          "output_type": "stream",
          "name": "stdout",
          "text": [
            "<class 'pandas.core.frame.DataFrame'>\n"
          ]
        },
        {
          "output_type": "stream",
          "name": "stderr",
          "text": [
            "\r 80%|████████  | 164/204 [01:14<00:16,  2.37it/s]"
          ]
        },
        {
          "output_type": "stream",
          "name": "stdout",
          "text": [
            "<class 'pandas.core.frame.DataFrame'>\n"
          ]
        },
        {
          "output_type": "stream",
          "name": "stderr",
          "text": [
            "\r 81%|████████  | 165/204 [01:14<00:16,  2.38it/s]"
          ]
        },
        {
          "output_type": "stream",
          "name": "stdout",
          "text": [
            "<class 'pandas.core.frame.DataFrame'>\n"
          ]
        },
        {
          "output_type": "stream",
          "name": "stderr",
          "text": [
            "\r 81%|████████▏ | 166/204 [01:15<00:15,  2.40it/s]"
          ]
        },
        {
          "output_type": "stream",
          "name": "stdout",
          "text": [
            "<class 'pandas.core.frame.DataFrame'>\n"
          ]
        },
        {
          "output_type": "stream",
          "name": "stderr",
          "text": [
            "\r 82%|████████▏ | 167/204 [01:15<00:15,  2.39it/s]"
          ]
        },
        {
          "output_type": "stream",
          "name": "stdout",
          "text": [
            "<class 'pandas.core.frame.DataFrame'>\n"
          ]
        },
        {
          "output_type": "stream",
          "name": "stderr",
          "text": [
            "\r 82%|████████▏ | 168/204 [01:16<00:14,  2.41it/s]"
          ]
        },
        {
          "output_type": "stream",
          "name": "stdout",
          "text": [
            "<class 'pandas.core.frame.DataFrame'>\n"
          ]
        },
        {
          "output_type": "stream",
          "name": "stderr",
          "text": [
            "\r 83%|████████▎ | 169/204 [01:16<00:14,  2.43it/s]"
          ]
        },
        {
          "output_type": "stream",
          "name": "stdout",
          "text": [
            "<class 'pandas.core.frame.DataFrame'>\n"
          ]
        },
        {
          "output_type": "stream",
          "name": "stderr",
          "text": [
            "\r 83%|████████▎ | 170/204 [01:16<00:14,  2.42it/s]"
          ]
        },
        {
          "output_type": "stream",
          "name": "stdout",
          "text": [
            "<class 'pandas.core.frame.DataFrame'>\n"
          ]
        },
        {
          "output_type": "stream",
          "name": "stderr",
          "text": [
            "\r 84%|████████▍ | 171/204 [01:17<00:13,  2.41it/s]"
          ]
        },
        {
          "output_type": "stream",
          "name": "stdout",
          "text": [
            "<class 'pandas.core.frame.DataFrame'>\n"
          ]
        },
        {
          "output_type": "stream",
          "name": "stderr",
          "text": [
            "\r 84%|████████▍ | 172/204 [01:17<00:13,  2.39it/s]"
          ]
        },
        {
          "output_type": "stream",
          "name": "stdout",
          "text": [
            "<class 'pandas.core.frame.DataFrame'>\n"
          ]
        },
        {
          "output_type": "stream",
          "name": "stderr",
          "text": [
            "\r 85%|████████▍ | 173/204 [01:18<00:12,  2.42it/s]"
          ]
        },
        {
          "output_type": "stream",
          "name": "stdout",
          "text": [
            "<class 'pandas.core.frame.DataFrame'>\n"
          ]
        },
        {
          "output_type": "stream",
          "name": "stderr",
          "text": [
            "\r 85%|████████▌ | 174/204 [01:18<00:12,  2.42it/s]"
          ]
        },
        {
          "output_type": "stream",
          "name": "stdout",
          "text": [
            "<class 'pandas.core.frame.DataFrame'>\n"
          ]
        },
        {
          "output_type": "stream",
          "name": "stderr",
          "text": [
            "\r 86%|████████▌ | 175/204 [01:19<00:11,  2.42it/s]"
          ]
        },
        {
          "output_type": "stream",
          "name": "stdout",
          "text": [
            "<class 'pandas.core.frame.DataFrame'>\n"
          ]
        },
        {
          "output_type": "stream",
          "name": "stderr",
          "text": [
            "\r 86%|████████▋ | 176/204 [01:19<00:11,  2.46it/s]"
          ]
        },
        {
          "output_type": "stream",
          "name": "stdout",
          "text": [
            "<class 'pandas.core.frame.DataFrame'>\n"
          ]
        },
        {
          "output_type": "stream",
          "name": "stderr",
          "text": [
            "\r 87%|████████▋ | 177/204 [01:19<00:11,  2.42it/s]"
          ]
        },
        {
          "output_type": "stream",
          "name": "stdout",
          "text": [
            "<class 'pandas.core.frame.DataFrame'>\n"
          ]
        },
        {
          "output_type": "stream",
          "name": "stderr",
          "text": [
            "\r 87%|████████▋ | 178/204 [01:20<00:10,  2.44it/s]"
          ]
        },
        {
          "output_type": "stream",
          "name": "stdout",
          "text": [
            "<class 'pandas.core.frame.DataFrame'>\n"
          ]
        },
        {
          "output_type": "stream",
          "name": "stderr",
          "text": [
            "\r 88%|████████▊ | 179/204 [01:20<00:10,  2.46it/s]"
          ]
        },
        {
          "output_type": "stream",
          "name": "stdout",
          "text": [
            "<class 'pandas.core.frame.DataFrame'>\n"
          ]
        },
        {
          "output_type": "stream",
          "name": "stderr",
          "text": [
            "\r 88%|████████▊ | 180/204 [01:21<00:09,  2.44it/s]"
          ]
        },
        {
          "output_type": "stream",
          "name": "stdout",
          "text": [
            "<class 'pandas.core.frame.DataFrame'>\n"
          ]
        },
        {
          "output_type": "stream",
          "name": "stderr",
          "text": [
            "\r 89%|████████▊ | 181/204 [01:21<00:09,  2.45it/s]"
          ]
        },
        {
          "output_type": "stream",
          "name": "stdout",
          "text": [
            "<class 'pandas.core.frame.DataFrame'>\n"
          ]
        },
        {
          "output_type": "stream",
          "name": "stderr",
          "text": [
            "\r 89%|████████▉ | 182/204 [01:21<00:09,  2.44it/s]"
          ]
        },
        {
          "output_type": "stream",
          "name": "stdout",
          "text": [
            "<class 'pandas.core.frame.DataFrame'>\n"
          ]
        },
        {
          "output_type": "stream",
          "name": "stderr",
          "text": [
            "\r 90%|████████▉ | 183/204 [01:22<00:09,  2.18it/s]"
          ]
        },
        {
          "output_type": "stream",
          "name": "stdout",
          "text": [
            "<class 'pandas.core.frame.DataFrame'>\n"
          ]
        },
        {
          "output_type": "stream",
          "name": "stderr",
          "text": [
            "\r 90%|█████████ | 184/204 [01:23<00:09,  2.02it/s]"
          ]
        },
        {
          "output_type": "stream",
          "name": "stdout",
          "text": [
            "<class 'pandas.core.frame.DataFrame'>\n"
          ]
        },
        {
          "output_type": "stream",
          "name": "stderr",
          "text": [
            "\r 91%|█████████ | 185/204 [01:23<00:09,  1.94it/s]"
          ]
        },
        {
          "output_type": "stream",
          "name": "stdout",
          "text": [
            "<class 'pandas.core.frame.DataFrame'>\n"
          ]
        },
        {
          "output_type": "stream",
          "name": "stderr",
          "text": [
            "\r 91%|█████████ | 186/204 [01:24<00:09,  1.88it/s]"
          ]
        },
        {
          "output_type": "stream",
          "name": "stdout",
          "text": [
            "<class 'pandas.core.frame.DataFrame'>\n"
          ]
        },
        {
          "output_type": "stream",
          "name": "stderr",
          "text": [
            "\r 92%|█████████▏| 187/204 [01:24<00:09,  1.86it/s]"
          ]
        },
        {
          "output_type": "stream",
          "name": "stdout",
          "text": [
            "<class 'pandas.core.frame.DataFrame'>\n"
          ]
        },
        {
          "output_type": "stream",
          "name": "stderr",
          "text": [
            "\r 92%|█████████▏| 188/204 [01:25<00:08,  1.98it/s]"
          ]
        },
        {
          "output_type": "stream",
          "name": "stdout",
          "text": [
            "<class 'pandas.core.frame.DataFrame'>\n"
          ]
        },
        {
          "output_type": "stream",
          "name": "stderr",
          "text": [
            "\r 93%|█████████▎| 189/204 [01:25<00:07,  2.11it/s]"
          ]
        },
        {
          "output_type": "stream",
          "name": "stdout",
          "text": [
            "<class 'pandas.core.frame.DataFrame'>\n"
          ]
        },
        {
          "output_type": "stream",
          "name": "stderr",
          "text": [
            "\r 93%|█████████▎| 190/204 [01:25<00:06,  2.20it/s]"
          ]
        },
        {
          "output_type": "stream",
          "name": "stdout",
          "text": [
            "<class 'pandas.core.frame.DataFrame'>\n"
          ]
        },
        {
          "output_type": "stream",
          "name": "stderr",
          "text": [
            "\r 94%|█████████▎| 191/204 [01:26<00:05,  2.28it/s]"
          ]
        },
        {
          "output_type": "stream",
          "name": "stdout",
          "text": [
            "<class 'pandas.core.frame.DataFrame'>\n"
          ]
        },
        {
          "output_type": "stream",
          "name": "stderr",
          "text": [
            "\r 94%|█████████▍| 192/204 [01:26<00:05,  2.31it/s]"
          ]
        },
        {
          "output_type": "stream",
          "name": "stdout",
          "text": [
            "<class 'pandas.core.frame.DataFrame'>\n"
          ]
        },
        {
          "output_type": "stream",
          "name": "stderr",
          "text": [
            "\r 95%|█████████▍| 193/204 [01:27<00:04,  2.34it/s]"
          ]
        },
        {
          "output_type": "stream",
          "name": "stdout",
          "text": [
            "<class 'pandas.core.frame.DataFrame'>\n"
          ]
        },
        {
          "output_type": "stream",
          "name": "stderr",
          "text": [
            "\r 95%|█████████▌| 194/204 [01:27<00:04,  2.39it/s]"
          ]
        },
        {
          "output_type": "stream",
          "name": "stdout",
          "text": [
            "<class 'pandas.core.frame.DataFrame'>\n"
          ]
        },
        {
          "output_type": "stream",
          "name": "stderr",
          "text": [
            "\r 96%|█████████▌| 195/204 [01:28<00:03,  2.38it/s]"
          ]
        },
        {
          "output_type": "stream",
          "name": "stdout",
          "text": [
            "<class 'pandas.core.frame.DataFrame'>\n"
          ]
        },
        {
          "output_type": "stream",
          "name": "stderr",
          "text": [
            "\r 96%|█████████▌| 196/204 [01:28<00:03,  2.38it/s]"
          ]
        },
        {
          "output_type": "stream",
          "name": "stdout",
          "text": [
            "<class 'pandas.core.frame.DataFrame'>\n"
          ]
        },
        {
          "output_type": "stream",
          "name": "stderr",
          "text": [
            "\r 97%|█████████▋| 197/204 [01:28<00:02,  2.41it/s]"
          ]
        },
        {
          "output_type": "stream",
          "name": "stdout",
          "text": [
            "<class 'pandas.core.frame.DataFrame'>\n"
          ]
        },
        {
          "output_type": "stream",
          "name": "stderr",
          "text": [
            "\r 97%|█████████▋| 198/204 [01:29<00:02,  2.41it/s]"
          ]
        },
        {
          "output_type": "stream",
          "name": "stdout",
          "text": [
            "<class 'pandas.core.frame.DataFrame'>\n"
          ]
        },
        {
          "output_type": "stream",
          "name": "stderr",
          "text": [
            "\r 98%|█████████▊| 199/204 [01:29<00:02,  2.37it/s]"
          ]
        },
        {
          "output_type": "stream",
          "name": "stdout",
          "text": [
            "<class 'pandas.core.frame.DataFrame'>\n"
          ]
        },
        {
          "output_type": "stream",
          "name": "stderr",
          "text": [
            "\r 98%|█████████▊| 200/204 [01:30<00:01,  2.38it/s]"
          ]
        },
        {
          "output_type": "stream",
          "name": "stdout",
          "text": [
            "<class 'pandas.core.frame.DataFrame'>\n"
          ]
        },
        {
          "output_type": "stream",
          "name": "stderr",
          "text": [
            "\r 99%|█████████▊| 201/204 [01:30<00:01,  2.42it/s]"
          ]
        },
        {
          "output_type": "stream",
          "name": "stdout",
          "text": [
            "<class 'pandas.core.frame.DataFrame'>\n"
          ]
        },
        {
          "output_type": "stream",
          "name": "stderr",
          "text": [
            "\r 99%|█████████▉| 202/204 [01:30<00:00,  2.44it/s]"
          ]
        },
        {
          "output_type": "stream",
          "name": "stdout",
          "text": [
            "<class 'pandas.core.frame.DataFrame'>\n"
          ]
        },
        {
          "output_type": "stream",
          "name": "stderr",
          "text": [
            "\r100%|█████████▉| 203/204 [01:31<00:00,  2.45it/s]"
          ]
        },
        {
          "output_type": "stream",
          "name": "stdout",
          "text": [
            "<class 'pandas.core.frame.DataFrame'>\n"
          ]
        },
        {
          "output_type": "stream",
          "name": "stderr",
          "text": [
            "100%|██████████| 204/204 [01:31<00:00,  2.23it/s]\n"
          ]
        }
      ],
      "source": [
        "batch_size = 32\n",
        "for i in tqdm(range(0, len(data), batch_size)):\n",
        "  ### your code ###\n",
        "    items = []\n",
        "    batch = data.iloc[i:i + batch_size]\n",
        "    print(type(batch))\n",
        "    for x in range(len(batch)):\n",
        "      item = batch.iloc[x]\n",
        "      id = item[\"id\"]\n",
        "      text = item[\"text\"]\n",
        "      embeds = embeddings_pipeline.embed_query(text)\n",
        "      source =  item[\"source\"].replace(\"https://\", \"\")\n",
        "\n",
        "      # TODO: Check if this format is correct ? Or should each chunk be saved on its own and not in a batch ?\n",
        "      items.append({\n",
        "          \"id\": id,\n",
        "          \"values\": embeds,\n",
        "          \"metadata\": {\n",
        "              \"text\": text,\n",
        "              \"source\": source\n",
        "          }\n",
        "      })\n",
        "    index.upsert(vectors=items)\n",
        "    ### your code ###\n"
      ]
    },
    {
      "cell_type": "markdown",
      "id": "kz2UZVj8ff_L",
      "metadata": {
        "id": "kz2UZVj8ff_L"
      },
      "source": [
        "Now if we look at the index statistics we should have vectors of dimension `384`."
      ]
    },
    {
      "cell_type": "code",
      "execution_count": 42,
      "id": "cH9Zq6azfgJm",
      "metadata": {
        "id": "cH9Zq6azfgJm",
        "colab": {
          "base_uri": "https://localhost:8080/"
        },
        "outputId": "b16583dc-c967-4285-d7cb-d0cd6453334e"
      },
      "outputs": [
        {
          "output_type": "execute_result",
          "data": {
            "text/plain": [
              "{'dimension': 384,\n",
              " 'index_fullness': 0.05704,\n",
              " 'namespaces': {'': {'vector_count': 5704}},\n",
              " 'total_vector_count': 5704}"
            ]
          },
          "metadata": {},
          "execution_count": 42
        }
      ],
      "source": [
        "index.describe_index_stats()"
      ]
    },
    {
      "cell_type": "markdown",
      "id": "NK-2Scv8qqYV",
      "metadata": {
        "id": "NK-2Scv8qqYV"
      },
      "source": [
        "#### ${\\color{red}{Comments\\ 1.2}}$\n",
        "\n",
        "${\\color{red}{⚠️Comments\\ begin⚠️}}$\n",
        "\n",
        "\n",
        "```\n",
        "cross-feedback comment section\n",
        "```\n",
        "\n",
        "\n",
        "${\\color{red}{⚠️Comments\\ end⚠️}}$"
      ]
    },
    {
      "cell_type": "markdown",
      "id": "5bVrpkiJhHAF",
      "metadata": {
        "id": "5bVrpkiJhHAF"
      },
      "source": [
        "## Subtask 1.3: Text Generation Pipeline\n"
      ]
    },
    {
      "cell_type": "markdown",
      "id": "ZPykfVaHkIkO",
      "metadata": {
        "id": "ZPykfVaHkIkO"
      },
      "source": [
        "So far we have our index ready and a way to find the most similar chunks to our query. Now, we need a way to generate the answer from the retrieved chunks. For this purpose, we use the `text-generation` pipeline from Hugging Face (refer to the Hugging Face [tutorial](https://moodle.uni-heidelberg.de/pluginfile.php/1286642/mod_resource/content/1/HuggingFace.ipynb)) and load it into LangChain using a wrapper."
      ]
    },
    {
      "cell_type": "code",
      "execution_count": null,
      "id": "CL_PhWM3lEnj",
      "metadata": {
        "id": "CL_PhWM3lEnj"
      },
      "outputs": [],
      "source": [
        "from torch import cuda, bfloat16\n",
        "import os\n",
        "import transformers\n",
        "model_id = 'meta-llama/Llama-2-13b-chat-hf'"
      ]
    },
    {
      "cell_type": "markdown",
      "id": "A3l34T5T3eEN",
      "metadata": {
        "id": "A3l34T5T3eEN"
      },
      "source": [
        "Quantization techniques reduce memory and computational costs by representing weights and activations with lower-precision data types like 8-bit integers (int8). This enables loading larger models you normally wouldn’t be able to fit into memory, and thus speeds up inference.\n",
        "To make the process of model quantization more accessible, Hugging Face has seamlessly integrated with the [Bitsandbytes](https://huggingface.co/docs/accelerate/usage_guides/quantization) library.\n",
        "\n",
        "Define a config from `Bitsandbytes` that enables 4-bit quantization and set the nested quantization to `true`. This changes the datatype from float 32 (default) to normalized float 4 datatype to contain 4 bits of information.\n",
        "Additionally, add a compute type to store weights in 4-bits, but the computation to happen in 16-bit (bfloat16).\n",
        "Moreover, set the `bnb_4bit_use_double_quant` to true, which uses a second quantization after the first one to save an additional 0.4 bits per parameter.\n",
        "Refer to [here](https://huggingface.co/docs/transformers/main_classes/quantization) for more information."
      ]
    },
    {
      "cell_type": "code",
      "execution_count": null,
      "id": "mXNTODoOlFjX",
      "metadata": {
        "id": "mXNTODoOlFjX"
      },
      "outputs": [],
      "source": [
        "  ### your code ###\n",
        "bitsAndBites_config =\n",
        "  ### your code ###"
      ]
    },
    {
      "cell_type": "markdown",
      "id": "Wea-kVMF4Kvf",
      "metadata": {
        "id": "Wea-kVMF4Kvf"
      },
      "source": [
        "Use your Hugging Face token to load the correct model configuration using the `transformers` library."
      ]
    },
    {
      "cell_type": "code",
      "execution_count": null,
      "id": "7U47CyIk4EUz",
      "metadata": {
        "id": "7U47CyIk4EUz"
      },
      "outputs": [],
      "source": [
        "### your code ###\n",
        "\n",
        "model_config =\n",
        "### your code ###\n"
      ]
    },
    {
      "cell_type": "markdown",
      "id": "V8CNl7G1SsUC",
      "metadata": {
        "id": "V8CNl7G1SsUC"
      },
      "source": [
        "Load the model for text generation (pay attention to the model type) using the configuration file you have defined, with the specified quantization, and set the `trust_remote_code` flag to `true`. Another flag that is useful for large mode is  `device_map=\"auto\"`. By setting this flag, Accelerate will determine where to put each layer to maximize the use of GPUs and offload the rest on the CPU, or even the hard drive if you don’t have enough GPU RAM (or CPU RAM).\n",
        "\n",
        "It will take a while for the model to download."
      ]
    },
    {
      "cell_type": "code",
      "execution_count": null,
      "id": "TUzuGsv61cBA",
      "metadata": {
        "id": "TUzuGsv61cBA"
      },
      "outputs": [],
      "source": [
        "#Loading the model will take some time, (roughly 5 min)\n",
        "### your code ###\n",
        "model =\n",
        "### your code ###\n",
        "model.eval()# we only use the model for inference\n",
        "print(f\"Model loaded \")"
      ]
    },
    {
      "cell_type": "markdown",
      "id": "-brElhysTZVZ",
      "metadata": {
        "id": "-brElhysTZVZ"
      },
      "source": [
        "You can even check the memory footprint of your model using the `get_memory_footprint` method.\n"
      ]
    },
    {
      "cell_type": "code",
      "execution_count": null,
      "id": "zWDTgyKhlLLQ",
      "metadata": {
        "id": "zWDTgyKhlLLQ"
      },
      "outputs": [],
      "source": [
        "model.get_memory_footprint()"
      ]
    },
    {
      "cell_type": "markdown",
      "id": "ViFoo0vlSFMp",
      "metadata": {
        "id": "ViFoo0vlSFMp"
      },
      "source": [
        "The next thing we need to do is initialize a `text-generation` pipeline with Hugging Face that uses the Llama2 model to generate some text, given some input. We will then use this pipeline inside LangChain to build our question-answering system.\n",
        "`text-generation` pipeline generates text from a language model conditioned on a given input. The pipeline is similar to other Hugging Face pipelines and requires two things that we must initialize:\n",
        "\n",
        "1.   A language model, in this case, it will be `meta-llama/Llama-2-13b-chat-hf`.\n",
        "2.   A tokenizer for the language model.\n",
        "\n",
        "LangChain expects the full-text outputs, therefore set the `return_full_text` to true. You can also pass additional generation parameters to the model.\n",
        "Since we want the questions to be answered mainly based on the retrieved chunks, let's set the model temperature to a low value of 0.01 to reduce randomness. Additionally, add a repetition penalty of 1.1 to stop the model from repeating itself and the maximum number of generation tokens to 512."
      ]
    },
    {
      "cell_type": "code",
      "execution_count": null,
      "id": "1aFv-9-lPCJO",
      "metadata": {
        "id": "1aFv-9-lPCJO"
      },
      "outputs": [],
      "source": [
        "### your code ###\n",
        "generate_text =\n",
        "### your code ###"
      ]
    },
    {
      "cell_type": "markdown",
      "id": "ZvdSEw9PZ-n9",
      "metadata": {
        "id": "ZvdSEw9PZ-n9"
      },
      "source": [
        "We provide the language model a general question to make sure our pipeline is working correctly."
      ]
    },
    {
      "cell_type": "code",
      "execution_count": null,
      "id": "FpuCkc77RF53",
      "metadata": {
        "id": "FpuCkc77RF53"
      },
      "outputs": [],
      "source": [
        "sample_input=\"Explain to me the difference between alligator and crocodile.\"\n",
        "### your code ###\n",
        "\n",
        "generated_text=\n",
        "### your code ###\n",
        "print(generated_text)"
      ]
    },
    {
      "cell_type": "markdown",
      "id": "2QtViqTBSsPS",
      "metadata": {
        "id": "2QtViqTBSsPS"
      },
      "source": [
        "Use the LangChain Hugging Face wrapper, as subset of [LLM chain](https://python.langchain.com/docs/modules/chains/foundational/llm_chain) to create an interface for the text generation pipeline."
      ]
    },
    {
      "cell_type": "code",
      "execution_count": null,
      "id": "6-spabNmRMM2",
      "metadata": {
        "id": "6-spabNmRMM2"
      },
      "outputs": [],
      "source": [
        "### your code ###\n",
        "\n",
        "llm =\n",
        "### your code ###"
      ]
    },
    {
      "cell_type": "markdown",
      "id": "9EFZBGNgTM20",
      "metadata": {
        "id": "9EFZBGNgTM20"
      },
      "source": [
        "To confirm that it works the same way, use the sample input to generate text using the llm chain. The input should be passed as the `prompt` to the language model."
      ]
    },
    {
      "cell_type": "code",
      "execution_count": null,
      "id": "rDToa1YOTFEX",
      "metadata": {
        "id": "rDToa1YOTFEX"
      },
      "outputs": [],
      "source": [
        "### your code ###\n",
        "\n",
        "### your code ###"
      ]
    },
    {
      "cell_type": "markdown",
      "id": "mn7-zQxeVhWF",
      "metadata": {
        "id": "mn7-zQxeVhWF"
      },
      "source": [
        "#### ${\\color{red}{Comments\\ 1.3}}$\n",
        "\n",
        "${\\color{red}{⚠️Comments\\ begin⚠️}}$\n",
        "\n",
        "\n",
        "```\n",
        "cross-feedback comment section\n",
        "```\n",
        "\n",
        "\n",
        "${\\color{red}{⚠️Comments\\ end⚠️}}$"
      ]
    },
    {
      "cell_type": "markdown",
      "id": "VRwTtnQEWq5h",
      "metadata": {
        "id": "VRwTtnQEWq5h"
      },
      "source": [
        "## Subtask 1.4: Question Answering Chain\n"
      ]
    },
    {
      "cell_type": "markdown",
      "id": "wr9QzQvYXDBS",
      "metadata": {
        "id": "wr9QzQvYXDBS"
      },
      "source": [
        "For Retrieval Augmented Generation (RAG) in LangChain, we need to initialize either a `RetrievalQA` or `RetrievalQAWithSourcesChain` object.\n",
        "\n",
        "`RetrievalQA` is a method for question-answering tasks, utilizing an index to retrieve relevant documents or text chunks, it is suitable for straightforward Q&A applications.\n",
        "\n",
        "`RetrievalQAWithSourcesChain` is an extension of RetrievalQA that chains together multiple sources of information, providing context and the source for answers.\n",
        "\n",
        " For both of these, we need an LLM and a Pinecone index. For LangChain to be able to use the Pinecone index, we need to initialize it through the LangChain vector store.\n",
        "\n",
        " **Hint**: You need to explicitly tell the vector storage where to find the original text."
      ]
    },
    {
      "cell_type": "code",
      "execution_count": null,
      "id": "RQIR_Gb6Wrfs",
      "metadata": {
        "id": "RQIR_Gb6Wrfs"
      },
      "outputs": [],
      "source": [
        "from langchain.vectorstores import Pinecone\n",
        "### your code ###\n",
        "vectorstore =\n",
        "### your code ###"
      ]
    },
    {
      "cell_type": "markdown",
      "id": "mS9d51dyptJd",
      "metadata": {
        "id": "mS9d51dyptJd"
      },
      "source": [
        "Let's try a query that is specific to the LangChain documentation and see which chunks are relevant. Use the vector storage defined above to find the top-3 chunks related to the given query."
      ]
    },
    {
      "cell_type": "code",
      "execution_count": null,
      "id": "sQeWNPDqXdJe",
      "metadata": {
        "id": "sQeWNPDqXdJe"
      },
      "outputs": [],
      "source": [
        "query = 'what is a LangChain Agent?'\n",
        "### your code ###\n",
        "\n",
        "### your code ###"
      ]
    },
    {
      "cell_type": "markdown",
      "id": "gEMooqALXqOt",
      "metadata": {
        "id": "gEMooqALXqOt"
      },
      "source": [
        "Now use the `vectorstore` and `llm` to initialize the `RetrievalQA` object, which showcases question answering over an index. `RetrievalQA` is a document chain, these are useful for summarizing documents, answering questions about documents, extracting information from documents, and more. All such chains operate with 4 different chain types:\n",
        "\n",
        "\n",
        "1.   `stuff`: it takes a list of documents, inserts them all into a prompt, and passes that prompt to an LLM.\n",
        "2.   `refine`: it constructs a response by looping over the input documents and iteratively updating its answer. It is well-suited for tasks that require analyzing more documents than can fit in the model’s context.\n",
        "3. `map_reduce`:  it first applies an LLM chain to each document individually (the Map step), treating the chain output as a new document. It then passes all the new documents to a separate combined documents chain to get a single output (the Reduce step).\n",
        "4. `map_re_rank`: it runs an initial prompt on each document that not only tries to complete a task but also gives a score for how certain it is in its answer. The highest-scoring response is returned.\n",
        "\n",
        "For this assignment, we focus only on the first type. Make sure to set the `verbose` to `true`, so we can see the different stages of processing that happens while answering a question (you might need to set this parameter more than once). As mentioned before, we want our retrieve to input top-5 most similiar chunks to the query to generate an answer."
      ]
    },
    {
      "cell_type": "code",
      "execution_count": null,
      "id": "lYnUrFnaXqU0",
      "metadata": {
        "id": "lYnUrFnaXqU0"
      },
      "outputs": [],
      "source": [
        "from langchain.chains import RetrievalQA\n",
        "### your code ###\n",
        "\n",
        "rag_pipeline =\n",
        "\n",
        "### your code ###\n",
        "query='what is a LangChain Agent?'"
      ]
    },
    {
      "cell_type": "markdown",
      "id": "O4Mo0JNMqSC7",
      "metadata": {
        "id": "O4Mo0JNMqSC7"
      },
      "source": [
        "First, we try to answer the question only using Llama2. As you see the answer is not convincing as it does not have access to the LangChain documentation."
      ]
    },
    {
      "cell_type": "code",
      "execution_count": null,
      "id": "jGk2ZsUVYiJ0",
      "metadata": {
        "id": "jGk2ZsUVYiJ0"
      },
      "outputs": [],
      "source": [
        "llm(query)"
      ]
    },
    {
      "cell_type": "markdown",
      "id": "W8U5Vce0qdch",
      "metadata": {
        "id": "W8U5Vce0qdch"
      },
      "source": [
        "Now use the Pipeline from above and see how the answer changes."
      ]
    },
    {
      "cell_type": "code",
      "execution_count": null,
      "id": "1KaQyXKQYn57",
      "metadata": {
        "id": "1KaQyXKQYn57"
      },
      "outputs": [],
      "source": [
        "### your code ###\n",
        "\n",
        "### your code ###\n"
      ]
    },
    {
      "cell_type": "markdown",
      "id": "pJ2JxOL4aqM2",
      "metadata": {
        "id": "pJ2JxOL4aqM2"
      },
      "source": [
        "#### ${\\color{red}{Comments\\ 1.4}}$\n",
        "\n",
        "${\\color{red}{⚠️Comments\\ begin⚠️}}$\n",
        "\n",
        "\n",
        "```\n",
        "cross-feedback comment section\n",
        "```\n",
        "\n",
        "\n",
        "${\\color{red}{⚠️Comments\\ end⚠️}}$"
      ]
    },
    {
      "cell_type": "markdown",
      "id": "inIFkOziTce3",
      "metadata": {
        "id": "inIFkOziTce3"
      },
      "source": [
        "## Subtask 1.5: Conversational Retrieval Chain\n",
        "\n",
        "\n"
      ]
    },
    {
      "cell_type": "markdown",
      "id": "btxcJlEITiDt",
      "metadata": {
        "id": "btxcJlEITiDt"
      },
      "source": [
        "We can also extend our retrieval chain to be able to remember the previous questions and answer the current question by looking at the previous context.\n",
        "The important part of a conversational model is conversation memory, which transforms the stateless language model to be able to remember previous interactions, e.g., similiar to ChatGPT. In this subtask, we will use LangChain to create a conversational memory.\n"
      ]
    },
    {
      "cell_type": "markdown",
      "id": "DYHPVo-9TiGU",
      "metadata": {
        "id": "DYHPVo-9TiGU"
      },
      "source": [
        "To implement the memory we use `ConversationalRetrievalChain`.\n",
        "This chain takes in chat history (a list of messages) and new questions and then returns an answer to that question. The algorithm for this chain consists of three parts:\n",
        "\n",
        "1. Use the chat history and the new question to create a new question that contains the information from the previous context.\n",
        "\n",
        "2. This new question is passed to the retriever and relevant documents are returned.\n",
        "\n",
        "3. The retrieved documents are passed to an LLM to generate a final response."
      ]
    },
    {
      "cell_type": "code",
      "execution_count": null,
      "id": "GLv_d-RYyNYL",
      "metadata": {
        "id": "GLv_d-RYyNYL"
      },
      "outputs": [],
      "source": [
        "from langchain.chains import ConversationalRetrievalChain\n",
        "chat_history = []\n",
        "\n",
        "### your code ###\n",
        "qa_conversation =\n",
        "result =\n",
        "### your code ###\n"
      ]
    },
    {
      "cell_type": "code",
      "execution_count": null,
      "id": "S6HxivGwyv2x",
      "metadata": {
        "id": "S6HxivGwyv2x"
      },
      "outputs": [],
      "source": [
        "result[\"answer\"]"
      ]
    },
    {
      "cell_type": "markdown",
      "id": "yd6tqKhg24dL",
      "metadata": {
        "id": "yd6tqKhg24dL"
      },
      "source": [
        "Change the chat history to contain the previous question and answer pair and ask a follow-up question.  "
      ]
    },
    {
      "cell_type": "code",
      "execution_count": null,
      "id": "36vj0R9Fyyd1",
      "metadata": {
        "id": "36vj0R9Fyyd1"
      },
      "outputs": [],
      "source": [
        "follow_up=\"What are tools and toolkits?\"\n",
        "\n",
        "### your code ###\n",
        "chat_history =\n",
        "result =\n",
        "### your code ###"
      ]
    },
    {
      "cell_type": "markdown",
      "id": "EvlY2MtH0xo3",
      "metadata": {
        "id": "EvlY2MtH0xo3"
      },
      "source": [
        "This is the previous context that was fed in alongside the new question."
      ]
    },
    {
      "cell_type": "code",
      "execution_count": null,
      "id": "09zxWnojzKEu",
      "metadata": {
        "id": "09zxWnojzKEu"
      },
      "outputs": [],
      "source": [
        "chat_history"
      ]
    },
    {
      "cell_type": "markdown",
      "id": "DSlQYeWG04Gj",
      "metadata": {
        "id": "DSlQYeWG04Gj"
      },
      "source": [
        "The current question is answered by knowing that the tools and toolkits are referring to a LangChain Agent, which was part of the previous question."
      ]
    },
    {
      "cell_type": "code",
      "execution_count": null,
      "id": "5FP4_WAbzMSQ",
      "metadata": {
        "id": "5FP4_WAbzMSQ"
      },
      "outputs": [],
      "source": [
        "result['answer']"
      ]
    },
    {
      "cell_type": "markdown",
      "id": "LQUW_iFs3q3m",
      "metadata": {
        "id": "LQUW_iFs3q3m"
      },
      "source": [
        "#### ${\\color{red}{Comments\\ 1.5}}$\n",
        "\n",
        "${\\color{red}{⚠️Comments\\ begin⚠️}}$\n",
        "\n",
        "\n",
        "```\n",
        "cross-feedback comment section\n",
        "```\n",
        "\n",
        "\n",
        "${\\color{red}{⚠️Comments\\ end⚠️}}$"
      ]
    },
    {
      "cell_type": "markdown",
      "id": "0KDwOSuNPBe-",
      "metadata": {
        "id": "0KDwOSuNPBe-"
      },
      "source": [
        "## **Task 2: Advanced RAG Techniques and Evaluation (4 + 5 = 9 points)**"
      ]
    },
    {
      "cell_type": "markdown",
      "id": "cN6pjlW7PBhQ",
      "metadata": {
        "id": "cN6pjlW7PBhQ"
      },
      "source": [
        "Now that you have successfully implemented your first RAG system, we dive into more advanced techniques and learn how to evaluate your methods using metrics you learned during the lecture. We focus on evaluation with an already annotated dataset. To this end, we load a small subset of [NarrativeQA](https://huggingface.co/datasets/narrativeqa), which is an English-language dataset of stories and corresponding questions designed to test reading comprehension, especially on long documents. We only load 30 samples from the data, as you will see in the upcoming sections, answer generation takes quite some time. In actual setting, it is advised to use a much larger set to obtain statistically significant results."
      ]
    },
    {
      "cell_type": "code",
      "execution_count": null,
      "id": "wM2dodC2PAlr",
      "metadata": {
        "id": "wM2dodC2PAlr",
        "colab": {
          "referenced_widgets": [
            "9cdfb0849cf04e138df34c557ef24c55",
            "5add348cc353409f9374a0abb68b4c7c",
            "36e53b81ffea49bf98c5dd4010e97265"
          ]
        },
        "outputId": "19de44e8-6ffc-48d7-a58d-e755729dc986"
      },
      "outputs": [
        {
          "data": {
            "application/vnd.jupyter.widget-view+json": {
              "model_id": "9cdfb0849cf04e138df34c557ef24c55",
              "version_major": 2,
              "version_minor": 0
            },
            "text/plain": [
              "Downloading readme:   0%|          | 0.00/997 [00:00<?, ?B/s]"
            ]
          },
          "metadata": {},
          "output_type": "display_data"
        },
        {
          "data": {
            "application/vnd.jupyter.widget-view+json": {
              "model_id": "5add348cc353409f9374a0abb68b4c7c",
              "version_major": 2,
              "version_minor": 0
            },
            "text/plain": [
              "Downloading data:   0%|          | 0.00/2.27M [00:00<?, ?B/s]"
            ]
          },
          "metadata": {},
          "output_type": "display_data"
        },
        {
          "data": {
            "application/vnd.jupyter.widget-view+json": {
              "model_id": "36e53b81ffea49bf98c5dd4010e97265",
              "version_major": 2,
              "version_minor": 0
            },
            "text/plain": [
              "Generating train split:   0%|          | 0/317 [00:00<?, ? examples/s]"
            ]
          },
          "metadata": {},
          "output_type": "display_data"
        },
        {
          "data": {
            "text/plain": [
              "30"
            ]
          },
          "execution_count": 2,
          "metadata": {},
          "output_type": "execute_result"
        }
      ],
      "source": [
        "from datasets import load_dataset\n",
        "dataset = load_dataset(\"satyaalmasian/narrativeqa_subset\",split=\"train[:30]\")\n",
        "len(dataset)"
      ]
    },
    {
      "cell_type": "markdown",
      "id": "N0HDF2M1fz4D",
      "metadata": {
        "id": "N0HDF2M1fz4D"
      },
      "source": [
        "Since we already used our free index in Pinecone for the previous task, we use Chroma, an open-source vector database, instead. As opposed to Pinecone, Chroma creates a collection on your machine."
      ]
    },
    {
      "cell_type": "code",
      "execution_count": null,
      "id": "hZ8kqj95hqvo",
      "metadata": {
        "id": "hZ8kqj95hqvo"
      },
      "outputs": [],
      "source": [
        "from langchain.docstore.document import Document\n",
        "documents=[ doc[\"text\"] for doc in dataset[\"document\"]]\n",
        "questions=[quest for quest in dataset[\"question\"]]\n",
        "answers=[ans for ans in dataset[\"answers\"]]\n",
        "documents=list(set(documents))"
      ]
    },
    {
      "cell_type": "code",
      "execution_count": null,
      "id": "fj0X3PqHIFpQ",
      "metadata": {
        "id": "fj0X3PqHIFpQ"
      },
      "outputs": [],
      "source": [
        "docs= [Document(page_content=doc, metadata={\"source\": \"local\"}) for doc in documents]"
      ]
    },
    {
      "cell_type": "markdown",
      "id": "3BDIuYQkJB0U",
      "metadata": {
        "id": "3BDIuYQkJB0U"
      },
      "source": [
        "The number of documents is smaller  than the number of questions and answers and each document is used as a reference for multiple questions:"
      ]
    },
    {
      "cell_type": "code",
      "execution_count": null,
      "id": "FbWqRg12JLJn",
      "metadata": {
        "id": "FbWqRg12JLJn",
        "outputId": "f27a0753-624d-4954-fe01-19c185377a29"
      },
      "outputs": [
        {
          "name": "stdout",
          "output_type": "stream",
          "text": [
            "2\n",
            "30\n"
          ]
        }
      ],
      "source": [
        "print(len(docs))\n",
        "print(len(questions))"
      ]
    },
    {
      "cell_type": "markdown",
      "id": "cD69GYOjjJuk",
      "metadata": {
        "id": "cD69GYOjjJuk"
      },
      "source": [
        "## Subtask 2.1: Build Contextual Compression in LangChain"
      ]
    },
    {
      "cell_type": "markdown",
      "id": "D-OyjUQGhGPq",
      "metadata": {
        "id": "D-OyjUQGhGPq"
      },
      "source": [
        "Let's split our documents using the TextSplitter from Task 1 and embed them inside the Chroma database with the embedding model of the previous task."
      ]
    },
    {
      "cell_type": "code",
      "execution_count": null,
      "id": "M7NGs-RzhQa7",
      "metadata": {
        "id": "M7NGs-RzhQa7"
      },
      "outputs": [],
      "source": [
        "### your code ###\n",
        "all_splits =\n",
        "### your code ###"
      ]
    },
    {
      "cell_type": "code",
      "execution_count": null,
      "id": "hHknAFVBf5ia",
      "metadata": {
        "id": "hHknAFVBf5ia"
      },
      "outputs": [],
      "source": [
        "from langchain.vectorstores import Chroma\n",
        "### your code ###\n",
        "vectordb =\n",
        "retriever =\n",
        "### your code ###"
      ]
    },
    {
      "cell_type": "code",
      "execution_count": null,
      "id": "RbSBLyg364Ie",
      "metadata": {
        "id": "RbSBLyg364Ie"
      },
      "outputs": [],
      "source": [
        "print(\"Fist question in the set:\",questions[2]['text'])\n",
        "r_docs = retriever.get_relevant_documents(questions[2]['text'])\n",
        "r_docs"
      ]
    },
    {
      "cell_type": "markdown",
      "id": "5YIitJ47Km7p",
      "metadata": {
        "id": "5YIitJ47Km7p"
      },
      "source": [
        "First, make a simple RAG pipeline that works on top of the Chroma retriever. This retriever should be similar to the previous task. However, since we want to use it for a large number of questions, remove the `verbose` parameters."
      ]
    },
    {
      "cell_type": "code",
      "execution_count": null,
      "id": "CTp5BOapKami",
      "metadata": {
        "id": "CTp5BOapKami"
      },
      "outputs": [],
      "source": [
        "from langchain.chains import RetrievalQA\n",
        "### your code ###\n",
        "rag_simple=\n",
        "### your code ###"
      ]
    },
    {
      "cell_type": "markdown",
      "id": "I8EzQFiNRja9",
      "metadata": {
        "id": "I8EzQFiNRja9"
      },
      "source": [
        "We look at an example question and compare the answer by RAG to the gold answer from the dataset. Note that the answers can contain multiple lines."
      ]
    },
    {
      "cell_type": "code",
      "execution_count": null,
      "id": "afGjILYMKfCK",
      "metadata": {
        "id": "afGjILYMKfCK"
      },
      "outputs": [],
      "source": [
        "rag_simple(questions[2]['text']) #ignore the warning"
      ]
    },
    {
      "cell_type": "code",
      "execution_count": null,
      "id": "jvjAzg42R2WE",
      "metadata": {
        "id": "jvjAzg42R2WE"
      },
      "outputs": [],
      "source": [
        "answers[2]"
      ]
    },
    {
      "cell_type": "markdown",
      "id": "mNXD6PaUSlLE",
      "metadata": {
        "id": "mNXD6PaUSlLE"
      },
      "source": [
        "Apply the `rag_simple` pipeline to all the question in your corpus and accumulate the answers. **It should take around 10 minutes on a T4 GPU on Colab**."
      ]
    },
    {
      "cell_type": "code",
      "execution_count": null,
      "id": "uyTM0QD2KzwW",
      "metadata": {
        "id": "uyTM0QD2KzwW"
      },
      "outputs": [],
      "source": [
        "simple_answers=[]\n",
        "### your code ###\n",
        "\n",
        "### your code ###"
      ]
    },
    {
      "cell_type": "markdown",
      "id": "0q3EbAw_hV5h",
      "metadata": {
        "id": "0q3EbAw_hV5h"
      },
      "source": [
        "Libraries such as LangChain and [Llamaindex](https://www.llamaindex.ai/) provide a variety of retrieval strategies for building a RAG system. In this subtask, you will use one of these variations called **contextual compression**. This method aims to extract only the relevant information from documents, reducing the need for expensive language model calls and improving response quality. Contextual compression consists of two parts:\n",
        "\n",
        "\n",
        "1.  **Base retriever:** retrieves the initial set of documents based on the query. This is similar to the retriever from the previous task.\n",
        "2.   **Document compressor:** processes these documents to extract the relevant content. We use `LLMChainExtractor`, which will iterate over the initially returned documents and extract from each only the content that is relevant to the query.\n"
      ]
    },
    {
      "cell_type": "code",
      "execution_count": null,
      "id": "RJ0UzPIVPAoc",
      "metadata": {
        "id": "RJ0UzPIVPAoc"
      },
      "outputs": [],
      "source": [
        "from langchain.retrievers import ContextualCompressionRetriever\n",
        "from langchain.retrievers.document_compressors import LLMChainExtractor,LLMChainFilter\n",
        "from langchain.llms import OpenAI\n",
        "\n",
        "### your code ###\n",
        "\n",
        "compression_retriever =\n",
        "### your code ###"
      ]
    },
    {
      "cell_type": "markdown",
      "id": "qMPaRwoeuvDX",
      "metadata": {
        "id": "qMPaRwoeuvDX"
      },
      "source": [
        "Let's take a look at an example of compression retriever works."
      ]
    },
    {
      "cell_type": "code",
      "execution_count": null,
      "id": "AK9xhW8JPAqo",
      "metadata": {
        "id": "AK9xhW8JPAqo"
      },
      "outputs": [],
      "source": [
        "print(\"Fist question in the set:\",questions[2]['text'])\n",
        "compressed_docs = compression_retriever.get_relevant_documents(questions[2]['text'])\n",
        "compressed_docs"
      ]
    },
    {
      "cell_type": "markdown",
      "id": "eWAPRPqCS3WP",
      "metadata": {
        "id": "eWAPRPqCS3WP"
      },
      "source": [
        "Look at the output and try out several different questions by yourself. Does the compressed output make sense?\n",
        "\n",
        "Compare this to the previous **simple** approach. Which one, in your opinion, is better?"
      ]
    },
    {
      "cell_type": "markdown",
      "id": "1GVulJfSu3lt",
      "metadata": {
        "id": "1GVulJfSu3lt"
      },
      "source": [
        "Finally, we use the new retriever with the Llama2 model from the previous task to create the context compressor RAG pipeline. The code below should be similiar to what you did in the previous task. Once again, make sure to turn off the `verbose` argument."
      ]
    },
    {
      "cell_type": "code",
      "execution_count": null,
      "id": "PKu2Dhr1PAtM",
      "metadata": {
        "id": "PKu2Dhr1PAtM"
      },
      "outputs": [],
      "source": [
        "### your code ###\n",
        "from langchain.chains import RetrievalQA\n",
        "\n",
        "rag_compressor =\n",
        "### your code ###\n"
      ]
    },
    {
      "cell_type": "code",
      "execution_count": null,
      "id": "DDtrO4z2pAD9",
      "metadata": {
        "id": "DDtrO4z2pAD9"
      },
      "outputs": [],
      "source": [
        "rag_compressor(questions[2]['text'])"
      ]
    },
    {
      "cell_type": "markdown",
      "id": "8PfY6ya8z-1T",
      "metadata": {
        "id": "8PfY6ya8z-1T"
      },
      "source": [
        "Now we can use the pipeline to generate answers for all the questions in our dataset. **It should take around 20 minutes on a T4 GPU on Colab.**"
      ]
    },
    {
      "cell_type": "code",
      "execution_count": null,
      "id": "eofiL90APAvl",
      "metadata": {
        "id": "eofiL90APAvl"
      },
      "outputs": [],
      "source": [
        "compressor_answers=[]\n",
        "### your code ###\n",
        "\n",
        "### your code ###\n"
      ]
    },
    {
      "cell_type": "markdown",
      "id": "6ck8Ktt6Zns5",
      "metadata": {
        "id": "6ck8Ktt6Zns5"
      },
      "source": [
        "#### ${\\color{red}{Comments\\ 2.1}}$\n",
        "\n",
        "${\\color{red}{⚠️Comments\\ begin⚠️}}$\n",
        "\n",
        "\n",
        "```\n",
        "cross-feedback comment section\n",
        "```\n",
        "\n",
        "\n",
        "${\\color{red}{⚠️Comments\\ end⚠️}}$"
      ]
    },
    {
      "cell_type": "markdown",
      "id": "RlA3IDsn0Oxa",
      "metadata": {
        "id": "RlA3IDsn0Oxa"
      },
      "source": [
        "## Subtask 2.2. Evaluate"
      ]
    },
    {
      "cell_type": "markdown",
      "id": "E274c-Yc0gAr",
      "metadata": {
        "id": "E274c-Yc0gAr"
      },
      "source": [
        "Since we have access to ground truth answers, we can use various evaluation metrics from the literature. In this task, we explore three metrics:\n",
        "\n",
        "\n",
        "1.   **BLEU:** BLEU score stands for Bilingual Evaluation Understudy and is a precision-based metric developed\n",
        "for evaluating machine translation. BLEU scores a candidate by computing the\n",
        "number of n-grams in the candidate that also appear\n",
        "in a reference. The n can vary, in this task we compute for n=4.\n",
        "2.   **ROUGE:** ROUGE score stands for Recall-Oriented Understudy for Gisting Evaluation and is an F-measure metric designed for\n",
        "evaluating translation and summarization. There are a number of variants of ROUGE.\n",
        "3. **BERTScore:** BERTScore first obtains BERT representation of each word in the candidate and reference by feeding the candidate\n",
        "and reference through a BERT model separately.\n",
        "An alignment is then computed between candidate\n",
        "and reference words by computing pairwise cosine\n",
        "similarity. This alignment is then aggregated in to\n",
        "precision and recall scores before being aggregated\n",
        "into a (modified) F1 score that is weighted using\n",
        "inverse-document-frequency values.\n",
        "\n",
        "Luckily, Hugging Face has an implementation for all these metrics. Use the `evaluate` library to load the metrics."
      ]
    },
    {
      "cell_type": "markdown",
      "id": "VT57xstfUtAL",
      "metadata": {
        "id": "VT57xstfUtAL"
      },
      "source": [
        "Use the loaded metrics to compare the RAG pipelines from the previous subtask."
      ]
    },
    {
      "cell_type": "code",
      "execution_count": null,
      "id": "M4SU_Z4vPAxy",
      "metadata": {
        "id": "M4SU_Z4vPAxy"
      },
      "outputs": [],
      "source": [
        "import evaluate\n",
        "### your code ###\n",
        "bleu =\n",
        "rouge =\n",
        "bertscore =\n",
        "### your code ###"
      ]
    },
    {
      "cell_type": "markdown",
      "id": "ET3Ns8NSQ73F",
      "metadata": {
        "id": "ET3Ns8NSQ73F"
      },
      "source": [
        "As seen in the previous subtask, the answers can contain multiple lines. To be able to compare the output of our systems to the gold answers, merge the multiple answers into a single string."
      ]
    },
    {
      "cell_type": "code",
      "execution_count": null,
      "id": "6ITKpzWkQ_hJ",
      "metadata": {
        "id": "6ITKpzWkQ_hJ"
      },
      "outputs": [],
      "source": [
        "answers_merged=[]\n",
        "### your code ###\n",
        "\n",
        "### your code ###\n",
        "print(len(answers_merged))"
      ]
    },
    {
      "cell_type": "markdown",
      "id": "IOlhI3iV1p9M",
      "metadata": {
        "id": "IOlhI3iV1p9M"
      },
      "source": [
        "Compute the BLUE score for the simple RAG and compressor RAG."
      ]
    },
    {
      "cell_type": "code",
      "execution_count": null,
      "id": "Z9PgmMfLPA0a",
      "metadata": {
        "id": "Z9PgmMfLPA0a"
      },
      "outputs": [],
      "source": [
        "### your code ###\n",
        "bleu_simple =\n",
        "bleu_compressor =\n",
        "### your code ###\n",
        "print(\"Simple system:\")\n",
        "print(bleu_simple)\n",
        "print(\"Compressor:\")\n",
        "print(bleu_compressor)"
      ]
    },
    {
      "cell_type": "markdown",
      "id": "BZI2_Jfqrgrc",
      "metadata": {
        "id": "BZI2_Jfqrgrc"
      },
      "source": [
        "What does the elements below in the output of the BLEU impelementation in Hugging Face mean? (do not copy and paste the documentation but write the implications behind each element!).\n",
        "\n",
        "1. **precisions:**  Precision of n-grams is computed by determining the number of n-grams present in both the machine-generated translation and the reference translations, divided by the total number of n-grams in the machine-generated translation.\n",
        "\n",
        "2. **brevity_penalty:** The brevity penalty serves as a term adjusting the score for translations shorter than the reference translations. It is calculated as min(1, (reference_length / translation_length)), imposing a penalty on generated translations that are excessively brief compared to the nearest reference length, employing an exponential decay.\n",
        "   \n",
        "3. **translation_length:** The translation length represents the overall word count in the machine-generated translation.\n",
        "\n",
        "4. **reference_length:** Reference length corresponds to the total number of words in the reference translations.\n",
        "\n",
        "5. **length_ratio:** The length ratio is the ratio of the total words in the machine-generated translation to the total words in the reference translations (translation_length / reference_length).\n",
        "\n"
      ]
    },
    {
      "cell_type": "code",
      "execution_count": null,
      "id": "Ot-jQzvqPA3J",
      "metadata": {
        "id": "Ot-jQzvqPA3J"
      },
      "outputs": [],
      "source": [
        "### your code ###\n",
        "rouge_simple =\n",
        "rouge_compressor =\n",
        "### your code ###\n",
        "print(\"Simple system:\")\n",
        "print(rouge_simple)\n",
        "print(\"Compressor:\")\n",
        "print(rouge_compressor)"
      ]
    },
    {
      "cell_type": "markdown",
      "id": "IFE7RI-HsSGq",
      "metadata": {
        "id": "IFE7RI-HsSGq"
      },
      "source": [
        "What is the difference in variants of ROUGE (ROUGE-N, ROUGE-L, ROUGE-SUM)?\n",
        "\n",
        "ROUGE assesses the likeness between the machine-generated summary and the reference summaries by analyzing shared n-grams, which are word sequences present in both the machine-generated summary and the reference summaries. The prevalent n-grams considered include unigrams, bigrams, and trigrams. The ROUGE score determines the recall of n-grams in the machine-generated summary by comparing them to the reference summaries.\n",
        "\n",
        "**ROUGE-N:** This metric gauges the intersection of n-grams (consecutive sequences of n words) between the candidate text and the reference text. It computes precision, recall, and F1-score based on the overlap of n-grams. For instance, ROUGE-1 (unigram) examines the overlap of individual words, while ROUGE-2 (bigram) assesses the overlap of two-word sequences. ROUGE-N is frequently employed to assess the grammatical accuracy and fluency of generated text.\n",
        "\n",
        "**ROUGE-L:** This measure calculates the longest common subsequence (LCS) between the candidate text and the reference text. Precision, recall, and F1-score are determined based on the length of the LCS. ROUGE-L is commonly utilized to evaluate the semantic similarity and content coverage of generated text, considering the common subsequence irrespective of word order.\n",
        "\n",
        "**ROUGE-S:** This metric quantifies the overlap of skip-bigrams (bigrams with at most one intervening word) between the candidate text and the reference text. Precision, recall, and F1-score are computed based on the skip-bigram overlap. ROUGE-S is frequently applied to assess the coherence and local cohesion of generated text, capturing the semantic similarity between adjacent words.\n"
      ]
    },
    {
      "cell_type": "code",
      "execution_count": null,
      "id": "zSF5zMOyPA5I",
      "metadata": {
        "id": "zSF5zMOyPA5I"
      },
      "outputs": [],
      "source": [
        "import numpy as np\n",
        "bertscore_simple_averaged={}\n",
        "bertscore_compressor_averaged={}\n",
        "### your code ###\n",
        "\n",
        "\n",
        "### your code ###\n",
        "print(\"Simple system:\")\n",
        "print(bertscore_simple_averaged)\n",
        "print(\"Compressor:\")\n",
        "print(bertscore_compressor_averaged)"
      ]
    },
    {
      "cell_type": "markdown",
      "id": "LfiuFxqQVrHa",
      "metadata": {
        "id": "LfiuFxqQVrHa"
      },
      "source": [
        "Which model works better?"
      ]
    },
    {
      "cell_type": "markdown",
      "id": "bbIA8Cg3Zq6g",
      "metadata": {
        "id": "bbIA8Cg3Zq6g"
      },
      "source": [
        "#### ${\\color{red}{Comments\\ 2.2}}$\n",
        "\n",
        "${\\color{red}{⚠️Comments\\ begin⚠️}}$\n",
        "\n",
        "\n",
        "```\n",
        "cross-feedback comment section\n",
        "```\n",
        "\n",
        "\n",
        "${\\color{red}{⚠️Comments\\ end⚠️}}$"
      ]
    }
  ],
  "metadata": {
    "accelerator": "GPU",
    "colab": {
      "gpuType": "T4",
      "provenance": []
    },
    "kernelspec": {
      "display_name": "Python 3",
      "name": "python3"
    },
    "language_info": {
      "codemirror_mode": {
        "name": "ipython",
        "version": 3
      },
      "file_extension": ".py",
      "mimetype": "text/x-python",
      "name": "python",
      "nbconvert_exporter": "python",
      "pygments_lexer": "ipython3",
      "version": "3.10.13"
    },
    "widgets": {
      "application/vnd.jupyter.widget-state+json": {
        "0ebddc3728f4463ca040cca11f88ead4": {
          "model_module": "@jupyter-widgets/controls",
          "model_name": "HBoxModel",
          "model_module_version": "1.5.0",
          "state": {
            "_dom_classes": [],
            "_model_module": "@jupyter-widgets/controls",
            "_model_module_version": "1.5.0",
            "_model_name": "HBoxModel",
            "_view_count": null,
            "_view_module": "@jupyter-widgets/controls",
            "_view_module_version": "1.5.0",
            "_view_name": "HBoxView",
            "box_style": "",
            "children": [
              "IPY_MODEL_24cf7b0f3a5f45f696828b5475e71b7c",
              "IPY_MODEL_c40d7f644e52485b8865ab353dab57cb",
              "IPY_MODEL_2f184505833c4f1cbfac377f08ec3410"
            ],
            "layout": "IPY_MODEL_381fadc7a9e64691926d6188541d3462"
          }
        },
        "24cf7b0f3a5f45f696828b5475e71b7c": {
          "model_module": "@jupyter-widgets/controls",
          "model_name": "HTMLModel",
          "model_module_version": "1.5.0",
          "state": {
            "_dom_classes": [],
            "_model_module": "@jupyter-widgets/controls",
            "_model_module_version": "1.5.0",
            "_model_name": "HTMLModel",
            "_view_count": null,
            "_view_module": "@jupyter-widgets/controls",
            "_view_module_version": "1.5.0",
            "_view_name": "HTMLView",
            "description": "",
            "description_tooltip": null,
            "layout": "IPY_MODEL_29d681233719439fb38cfb9313443bed",
            "placeholder": "​",
            "style": "IPY_MODEL_4bc49bd35b1f4710a099df6fef3a5924",
            "value": "100%"
          }
        },
        "c40d7f644e52485b8865ab353dab57cb": {
          "model_module": "@jupyter-widgets/controls",
          "model_name": "FloatProgressModel",
          "model_module_version": "1.5.0",
          "state": {
            "_dom_classes": [],
            "_model_module": "@jupyter-widgets/controls",
            "_model_module_version": "1.5.0",
            "_model_name": "FloatProgressModel",
            "_view_count": null,
            "_view_module": "@jupyter-widgets/controls",
            "_view_module_version": "1.5.0",
            "_view_name": "ProgressView",
            "bar_style": "success",
            "description": "",
            "description_tooltip": null,
            "layout": "IPY_MODEL_e43ca37fe76443539db6b4a710b49849",
            "max": 423,
            "min": 0,
            "orientation": "horizontal",
            "style": "IPY_MODEL_a82ba13960dd4cce85967d62f5c9a571",
            "value": 423
          }
        },
        "2f184505833c4f1cbfac377f08ec3410": {
          "model_module": "@jupyter-widgets/controls",
          "model_name": "HTMLModel",
          "model_module_version": "1.5.0",
          "state": {
            "_dom_classes": [],
            "_model_module": "@jupyter-widgets/controls",
            "_model_module_version": "1.5.0",
            "_model_name": "HTMLModel",
            "_view_count": null,
            "_view_module": "@jupyter-widgets/controls",
            "_view_module_version": "1.5.0",
            "_view_name": "HTMLView",
            "description": "",
            "description_tooltip": null,
            "layout": "IPY_MODEL_005aaaaeb2ee471baae59b09166debd0",
            "placeholder": "​",
            "style": "IPY_MODEL_9bba4097db364937b9daebd1d61983b7",
            "value": " 423/423 [00:51&lt;00:00, 40.52it/s]"
          }
        },
        "381fadc7a9e64691926d6188541d3462": {
          "model_module": "@jupyter-widgets/base",
          "model_name": "LayoutModel",
          "model_module_version": "1.2.0",
          "state": {
            "_model_module": "@jupyter-widgets/base",
            "_model_module_version": "1.2.0",
            "_model_name": "LayoutModel",
            "_view_count": null,
            "_view_module": "@jupyter-widgets/base",
            "_view_module_version": "1.2.0",
            "_view_name": "LayoutView",
            "align_content": null,
            "align_items": null,
            "align_self": null,
            "border": null,
            "bottom": null,
            "display": null,
            "flex": null,
            "flex_flow": null,
            "grid_area": null,
            "grid_auto_columns": null,
            "grid_auto_flow": null,
            "grid_auto_rows": null,
            "grid_column": null,
            "grid_gap": null,
            "grid_row": null,
            "grid_template_areas": null,
            "grid_template_columns": null,
            "grid_template_rows": null,
            "height": null,
            "justify_content": null,
            "justify_items": null,
            "left": null,
            "margin": null,
            "max_height": null,
            "max_width": null,
            "min_height": null,
            "min_width": null,
            "object_fit": null,
            "object_position": null,
            "order": null,
            "overflow": null,
            "overflow_x": null,
            "overflow_y": null,
            "padding": null,
            "right": null,
            "top": null,
            "visibility": null,
            "width": null
          }
        },
        "29d681233719439fb38cfb9313443bed": {
          "model_module": "@jupyter-widgets/base",
          "model_name": "LayoutModel",
          "model_module_version": "1.2.0",
          "state": {
            "_model_module": "@jupyter-widgets/base",
            "_model_module_version": "1.2.0",
            "_model_name": "LayoutModel",
            "_view_count": null,
            "_view_module": "@jupyter-widgets/base",
            "_view_module_version": "1.2.0",
            "_view_name": "LayoutView",
            "align_content": null,
            "align_items": null,
            "align_self": null,
            "border": null,
            "bottom": null,
            "display": null,
            "flex": null,
            "flex_flow": null,
            "grid_area": null,
            "grid_auto_columns": null,
            "grid_auto_flow": null,
            "grid_auto_rows": null,
            "grid_column": null,
            "grid_gap": null,
            "grid_row": null,
            "grid_template_areas": null,
            "grid_template_columns": null,
            "grid_template_rows": null,
            "height": null,
            "justify_content": null,
            "justify_items": null,
            "left": null,
            "margin": null,
            "max_height": null,
            "max_width": null,
            "min_height": null,
            "min_width": null,
            "object_fit": null,
            "object_position": null,
            "order": null,
            "overflow": null,
            "overflow_x": null,
            "overflow_y": null,
            "padding": null,
            "right": null,
            "top": null,
            "visibility": null,
            "width": null
          }
        },
        "4bc49bd35b1f4710a099df6fef3a5924": {
          "model_module": "@jupyter-widgets/controls",
          "model_name": "DescriptionStyleModel",
          "model_module_version": "1.5.0",
          "state": {
            "_model_module": "@jupyter-widgets/controls",
            "_model_module_version": "1.5.0",
            "_model_name": "DescriptionStyleModel",
            "_view_count": null,
            "_view_module": "@jupyter-widgets/base",
            "_view_module_version": "1.2.0",
            "_view_name": "StyleView",
            "description_width": ""
          }
        },
        "e43ca37fe76443539db6b4a710b49849": {
          "model_module": "@jupyter-widgets/base",
          "model_name": "LayoutModel",
          "model_module_version": "1.2.0",
          "state": {
            "_model_module": "@jupyter-widgets/base",
            "_model_module_version": "1.2.0",
            "_model_name": "LayoutModel",
            "_view_count": null,
            "_view_module": "@jupyter-widgets/base",
            "_view_module_version": "1.2.0",
            "_view_name": "LayoutView",
            "align_content": null,
            "align_items": null,
            "align_self": null,
            "border": null,
            "bottom": null,
            "display": null,
            "flex": null,
            "flex_flow": null,
            "grid_area": null,
            "grid_auto_columns": null,
            "grid_auto_flow": null,
            "grid_auto_rows": null,
            "grid_column": null,
            "grid_gap": null,
            "grid_row": null,
            "grid_template_areas": null,
            "grid_template_columns": null,
            "grid_template_rows": null,
            "height": null,
            "justify_content": null,
            "justify_items": null,
            "left": null,
            "margin": null,
            "max_height": null,
            "max_width": null,
            "min_height": null,
            "min_width": null,
            "object_fit": null,
            "object_position": null,
            "order": null,
            "overflow": null,
            "overflow_x": null,
            "overflow_y": null,
            "padding": null,
            "right": null,
            "top": null,
            "visibility": null,
            "width": null
          }
        },
        "a82ba13960dd4cce85967d62f5c9a571": {
          "model_module": "@jupyter-widgets/controls",
          "model_name": "ProgressStyleModel",
          "model_module_version": "1.5.0",
          "state": {
            "_model_module": "@jupyter-widgets/controls",
            "_model_module_version": "1.5.0",
            "_model_name": "ProgressStyleModel",
            "_view_count": null,
            "_view_module": "@jupyter-widgets/base",
            "_view_module_version": "1.2.0",
            "_view_name": "StyleView",
            "bar_color": null,
            "description_width": ""
          }
        },
        "005aaaaeb2ee471baae59b09166debd0": {
          "model_module": "@jupyter-widgets/base",
          "model_name": "LayoutModel",
          "model_module_version": "1.2.0",
          "state": {
            "_model_module": "@jupyter-widgets/base",
            "_model_module_version": "1.2.0",
            "_model_name": "LayoutModel",
            "_view_count": null,
            "_view_module": "@jupyter-widgets/base",
            "_view_module_version": "1.2.0",
            "_view_name": "LayoutView",
            "align_content": null,
            "align_items": null,
            "align_self": null,
            "border": null,
            "bottom": null,
            "display": null,
            "flex": null,
            "flex_flow": null,
            "grid_area": null,
            "grid_auto_columns": null,
            "grid_auto_flow": null,
            "grid_auto_rows": null,
            "grid_column": null,
            "grid_gap": null,
            "grid_row": null,
            "grid_template_areas": null,
            "grid_template_columns": null,
            "grid_template_rows": null,
            "height": null,
            "justify_content": null,
            "justify_items": null,
            "left": null,
            "margin": null,
            "max_height": null,
            "max_width": null,
            "min_height": null,
            "min_width": null,
            "object_fit": null,
            "object_position": null,
            "order": null,
            "overflow": null,
            "overflow_x": null,
            "overflow_y": null,
            "padding": null,
            "right": null,
            "top": null,
            "visibility": null,
            "width": null
          }
        },
        "9bba4097db364937b9daebd1d61983b7": {
          "model_module": "@jupyter-widgets/controls",
          "model_name": "DescriptionStyleModel",
          "model_module_version": "1.5.0",
          "state": {
            "_model_module": "@jupyter-widgets/controls",
            "_model_module_version": "1.5.0",
            "_model_name": "DescriptionStyleModel",
            "_view_count": null,
            "_view_module": "@jupyter-widgets/base",
            "_view_module_version": "1.2.0",
            "_view_name": "StyleView",
            "description_width": ""
          }
        }
      }
    }
  },
  "nbformat": 4,
  "nbformat_minor": 5
}