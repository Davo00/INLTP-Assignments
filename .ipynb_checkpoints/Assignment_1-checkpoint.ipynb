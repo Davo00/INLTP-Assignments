{
 "cells": [
  {
   "cell_type": "markdown",
   "metadata": {
    "colab_type": "text",
    "id": "view-in-github"
   },
   "source": [
    "<a href=\"https://colab.research.google.com/github/Davo00/INLTP-Assignments/blob/main/Assignment_1.ipynb\" target=\"_parent\"><img src=\"https://colab.research.google.com/assets/colab-badge.svg\" alt=\"Open In Colab\"/></a>"
   ]
  },
  {
   "cell_type": "markdown",
   "metadata": {
    "cell_id": "5c3754947e9f4287b58fabb0365b87f8",
    "deepnote_cell_type": "markdown",
    "id": "be9f7653"
   },
   "source": [
    "**Heidelberg University**\n",
    "\n",
    "**Data Science  Group**\n",
    "    \n",
    "Prof. Dr. Michael Gertz  \n",
    "\n",
    "Ashish Chouhan, Satya Almasian, John Ziegler, Jayson Salazar, Nicolas Reuter\n",
    "    \n",
    "October 30, 2023\n",
    "    \n",
    "Natural Language Processing with Transformers\n",
    "\n",
    "Winter Semster 2023/2024     \n",
    "***"
   ]
  },
  {
   "cell_type": "markdown",
   "metadata": {
    "cell_id": "00cc26cb17d74c5d9cf7fc80ccd89b3c",
    "deepnote_cell_type": "markdown",
    "deepnote_to_be_reexecuted": false,
    "execution_millis": 35,
    "execution_start": 1698673360795,
    "id": "F3RqZ4rQz21E",
    "source_hash": "50c5f835"
   },
   "source": [
    "## Group Names\n",
    "- Simon Pavicic\n",
    "- Davit Melkonyan\n",
    "- Leon Remke\n",
    "- Max Ludwig"
   ]
  },
  {
   "cell_type": "markdown",
   "metadata": {
    "cell_id": "da699d0a94ef4adda6cbb18fc90e329d",
    "deepnote_cell_type": "markdown",
    "id": "258e9648"
   },
   "source": [
    "# **Assignment 1: “Word Embeddings and Probabilistic Language Models”**\n",
    "**Due**: Monday, November 13, 2pm, via [Moodle](https://moodle.uni-heidelberg.de/course/view.php?id=19251)\n",
    "\n"
   ]
  },
  {
   "cell_type": "markdown",
   "metadata": {
    "cell_id": "e8e7fa61a1ce43ebb2067cea05c50124",
    "deepnote_cell_type": "markdown",
    "id": "fc27ad9e"
   },
   "source": [
    "### **Submission Guidelines**\n",
    "\n",
    "- Solutions need to be uploaded as a **single** Jupyter notebook. You will find several pre-filled code segments in the notebook, your task is to fill in the missing cells.\n",
    "- For the written solution, use LaTeX in markdown inside the same notebook. Do **not** hand in a separate file for it.\n",
    "- Download the .zip file containing the dataset but do **not** upload it with your solution.\n",
    "- It is sufficient if one person per group uploads the solution to Moodle, but make sure that the complete names of all team members are given in the notebook.\n",
    "\n",
    "***"
   ]
  },
  {
   "cell_type": "markdown",
   "metadata": {
    "cell_id": "5eab8af814334d949ad496a3549c9f21",
    "deepnote_cell_type": "markdown",
    "id": "e322e8b0"
   },
   "source": [
    "## **Task 1: F.R.I.E.N.D.S and  Word2Vec (Grade (2 + 2 + 4) = 8)**"
   ]
  },
  {
   "cell_type": "markdown",
   "metadata": {
    "cell_id": "7049deddd1c64861b24c4cf213d38c0d",
    "deepnote_cell_type": "markdown",
    "id": "b4ca26ac"
   },
   "source": [
    "[Friends](https://en.wikipedia.org/wiki/Friends) is an American television sitcom, created by David Crane and Marta Kauffman. In this assignment we will use the transcripts from the show to train a Word2Vec model using the [Gensim](https://radimrehurek.com/gensim/) library."
   ]
  },
  {
   "cell_type": "markdown",
   "metadata": {
    "cell_id": "53646b0ed8264cb58c00f0bb8f80ff1e",
    "deepnote_cell_type": "markdown",
    "id": "fc29cb37"
   },
   "source": [
    "### Subtask 1: Pre-processing\n",
    "We start by loading and cleaning the data. Download the dataset for this assignment and load the `friends_quotes.csv` using pandas. The dataset is from Kaggle (https://www.kaggle.com/ryanstonebraker/friends-transcript) and is created for building a classifier that  determines which friend from the Friend's TV Show would be most likely to say a quote. The column `quote` contains a line from the movie and the `author` is the one who said it. Since these are the only two columns we need, we remove the rest and only keep these two columns."
   ]
  },
  {
   "cell_type": "code",
   "execution_count": 1,
   "metadata": {
    "cell_id": "59c8f15767044eaaad6390b4b928d87f",
    "deepnote_cell_type": "code",
    "deepnote_to_be_reexecuted": false,
    "execution_millis": 3539,
    "execution_start": 1698684199184,
    "id": "787e2059",
    "source_hash": null
   },
   "outputs": [],
   "source": [
    "import re\n",
    "import pandas as pd\n",
    "from collections import defaultdict\n",
    "import spacy\n",
    "import logging  # Setting up the loggings to monitor gensim\n",
    "logging.basicConfig(format=\"%(levelname)s - %(asctime)s: %(message)s\", datefmt= '%H:%M:%S', level=logging.INFO)"
   ]
  },
  {
   "cell_type": "code",
   "execution_count": 2,
   "metadata": {
    "cell_id": "8326dd8c5d934f4d8df5de2d832c894c",
    "deepnote_cell_type": "code",
    "deepnote_to_be_reexecuted": false,
    "execution_millis": 418,
    "execution_start": 1698685766269,
    "id": "7e7e8c7d",
    "outputId": "a13197bf-be14-4d75-ccd1-b91d94da7c0d",
    "scrolled": true,
    "source_hash": null
   },
   "outputs": [
    {
     "name": "stdout",
     "output_type": "stream",
     "text": [
      "Shape of data before filtering: (60291, 6)\n",
      "Shape of data after filtering: (60291, 6)\n"
     ]
    },
    {
     "data": {
      "text/html": [
       "<div>\n",
       "<style scoped>\n",
       "    .dataframe tbody tr th:only-of-type {\n",
       "        vertical-align: middle;\n",
       "    }\n",
       "\n",
       "    .dataframe tbody tr th {\n",
       "        vertical-align: top;\n",
       "    }\n",
       "\n",
       "    .dataframe thead th {\n",
       "        text-align: right;\n",
       "    }\n",
       "</style>\n",
       "<table border=\"1\" class=\"dataframe\">\n",
       "  <thead>\n",
       "    <tr style=\"text-align: right;\">\n",
       "      <th></th>\n",
       "      <th>author</th>\n",
       "      <th>episode_number</th>\n",
       "      <th>episode_title</th>\n",
       "      <th>quote</th>\n",
       "      <th>quote_order</th>\n",
       "      <th>season</th>\n",
       "    </tr>\n",
       "  </thead>\n",
       "  <tbody>\n",
       "    <tr>\n",
       "      <th>0</th>\n",
       "      <td>Monica</td>\n",
       "      <td>1.0</td>\n",
       "      <td>Monica Gets A Roommate</td>\n",
       "      <td>There's nothing to tell! He's just some guy I ...</td>\n",
       "      <td>0.0</td>\n",
       "      <td>1.0</td>\n",
       "    </tr>\n",
       "    <tr>\n",
       "      <th>1</th>\n",
       "      <td>Joey</td>\n",
       "      <td>1.0</td>\n",
       "      <td>Monica Gets A Roommate</td>\n",
       "      <td>C'mon, you're going out with the guy! There's ...</td>\n",
       "      <td>1.0</td>\n",
       "      <td>1.0</td>\n",
       "    </tr>\n",
       "    <tr>\n",
       "      <th>2</th>\n",
       "      <td>Chandler</td>\n",
       "      <td>1.0</td>\n",
       "      <td>Monica Gets A Roommate</td>\n",
       "      <td>All right Joey, be nice. So does he have a hum...</td>\n",
       "      <td>2.0</td>\n",
       "      <td>1.0</td>\n",
       "    </tr>\n",
       "    <tr>\n",
       "      <th>3</th>\n",
       "      <td>Phoebe</td>\n",
       "      <td>1.0</td>\n",
       "      <td>Monica Gets A Roommate</td>\n",
       "      <td>Wait, does he eat chalk?</td>\n",
       "      <td>3.0</td>\n",
       "      <td>1.0</td>\n",
       "    </tr>\n",
       "    <tr>\n",
       "      <th>4</th>\n",
       "      <td>Phoebe</td>\n",
       "      <td>1.0</td>\n",
       "      <td>Monica Gets A Roommate</td>\n",
       "      <td>Just, 'cause, I don't want her to go through w...</td>\n",
       "      <td>4.0</td>\n",
       "      <td>1.0</td>\n",
       "    </tr>\n",
       "    <tr>\n",
       "      <th>5</th>\n",
       "      <td>Monica</td>\n",
       "      <td>1.0</td>\n",
       "      <td>Monica Gets A Roommate</td>\n",
       "      <td>Okay, everybody relax. This is not even a date...</td>\n",
       "      <td>5.0</td>\n",
       "      <td>1.0</td>\n",
       "    </tr>\n",
       "    <tr>\n",
       "      <th>6</th>\n",
       "      <td>Chandler</td>\n",
       "      <td>1.0</td>\n",
       "      <td>Monica Gets A Roommate</td>\n",
       "      <td>Sounds like a date to me.</td>\n",
       "      <td>6.0</td>\n",
       "      <td>1.0</td>\n",
       "    </tr>\n",
       "    <tr>\n",
       "      <th>7</th>\n",
       "      <td>Chandler</td>\n",
       "      <td>1.0</td>\n",
       "      <td>Monica Gets A Roommate</td>\n",
       "      <td>Alright, so I'm back in high school, I'm stand...</td>\n",
       "      <td>7.0</td>\n",
       "      <td>1.0</td>\n",
       "    </tr>\n",
       "    <tr>\n",
       "      <th>8</th>\n",
       "      <td>All</td>\n",
       "      <td>1.0</td>\n",
       "      <td>Monica Gets A Roommate</td>\n",
       "      <td>Oh, yeah. Had that dream.</td>\n",
       "      <td>8.0</td>\n",
       "      <td>1.0</td>\n",
       "    </tr>\n",
       "    <tr>\n",
       "      <th>9</th>\n",
       "      <td>Chandler</td>\n",
       "      <td>1.0</td>\n",
       "      <td>Monica Gets A Roommate</td>\n",
       "      <td>Then I look down, and I realize there's a phon...</td>\n",
       "      <td>9.0</td>\n",
       "      <td>1.0</td>\n",
       "    </tr>\n",
       "  </tbody>\n",
       "</table>\n",
       "</div>"
      ],
      "text/plain": [
       "     author  episode_number           episode_title  \\\n",
       "0    Monica             1.0  Monica Gets A Roommate   \n",
       "1      Joey             1.0  Monica Gets A Roommate   \n",
       "2  Chandler             1.0  Monica Gets A Roommate   \n",
       "3    Phoebe             1.0  Monica Gets A Roommate   \n",
       "4    Phoebe             1.0  Monica Gets A Roommate   \n",
       "5    Monica             1.0  Monica Gets A Roommate   \n",
       "6  Chandler             1.0  Monica Gets A Roommate   \n",
       "7  Chandler             1.0  Monica Gets A Roommate   \n",
       "8       All             1.0  Monica Gets A Roommate   \n",
       "9  Chandler             1.0  Monica Gets A Roommate   \n",
       "\n",
       "                                               quote  quote_order  season  \n",
       "0  There's nothing to tell! He's just some guy I ...          0.0     1.0  \n",
       "1  C'mon, you're going out with the guy! There's ...          1.0     1.0  \n",
       "2  All right Joey, be nice. So does he have a hum...          2.0     1.0  \n",
       "3                           Wait, does he eat chalk?          3.0     1.0  \n",
       "4  Just, 'cause, I don't want her to go through w...          4.0     1.0  \n",
       "5  Okay, everybody relax. This is not even a date...          5.0     1.0  \n",
       "6                          Sounds like a date to me.          6.0     1.0  \n",
       "7  Alright, so I'm back in high school, I'm stand...          7.0     1.0  \n",
       "8                          Oh, yeah. Had that dream.          8.0     1.0  \n",
       "9  Then I look down, and I realize there's a phon...          9.0     1.0  "
      ]
     },
     "execution_count": 2,
     "metadata": {},
     "output_type": "execute_result"
    }
   ],
   "source": [
    "FRIENDS_PATH = \"friends_quotes.csv\"\n",
    "\n",
    "df = pd.read_csv(FRIENDS_PATH)\n",
    "print(f\"Shape of data before filtering: {df.shape}\")\n",
    "\n",
    "# Drop rows with any null values\n",
    "df = df.dropna()\n",
    "\n",
    "# Replace empty strings with NaN and then drop those rows\n",
    "df = df.replace('', float('nan')).dropna()\n",
    "\n",
    "# Reset the index after dropping rows\n",
    "df = df.reset_index(drop=True)\n",
    "print(f\"Shape of data after filtering: {df.shape}\")\n",
    "\n",
    "df.head(10)"
   ]
  },
  {
   "cell_type": "markdown",
   "metadata": {
    "cell_id": "4c31a0e5ddf44a808e5a67460ca91597",
    "deepnote_cell_type": "markdown",
    "id": "be5fc72f"
   },
   "source": [
    "Fortunately, there is no missing data, so we do not need to worry about that."
   ]
  },
  {
   "cell_type": "code",
   "execution_count": 3,
   "metadata": {
    "cell_id": "57b2178d94a84b4dad45bf0c40662dc3",
    "deepnote_cell_type": "code",
    "deepnote_to_be_reexecuted": false,
    "execution_millis": 62,
    "execution_start": 1698685769630,
    "id": "dc3aea10",
    "outputId": "f176f281-13a1-42a3-ad58-ea8180c93536",
    "source_hash": null
   },
   "outputs": [
    {
     "data": {
      "text/plain": [
       "author            0\n",
       "episode_number    0\n",
       "episode_title     0\n",
       "quote             0\n",
       "quote_order       0\n",
       "season            0\n",
       "dtype: int64"
      ]
     },
     "execution_count": 3,
     "metadata": {},
     "output_type": "execute_result"
    }
   ],
   "source": [
    "df.isnull().sum() # check for missing data"
   ]
  },
  {
   "cell_type": "markdown",
   "metadata": {
    "cell_id": "417b32125a1b47dead08c7acbdda4b14",
    "deepnote_cell_type": "markdown",
    "id": "26a249b1"
   },
   "source": [
    "Use SpaCy to preprocess the text. For this, perform the following steps:\n",
    "- lowercase the words\n",
    "- remove the stopwords and single characters\n",
    "- use regex to remove non-alphabetic characters (anything that is not a number or alphabet including punctuations), in other words only keep \"a\" to \"z\" and digits.\n",
    "- remove lines that have less than 4 words, since they cannot contribute much to the training process.\n",
    "\n",
    "Please do not add any additional steps on your own or additional cleaning as we want to achieve comparable results."
   ]
  },
  {
   "cell_type": "code",
   "execution_count": 5,
   "metadata": {
    "cell_id": "7fb5ee15b93843b197e0c960810f03f6",
    "deepnote_cell_type": "code",
    "deepnote_to_be_reexecuted": false,
    "execution_millis": 41742,
    "execution_start": 1698685779359,
    "id": "jIUKQXFOf288",
    "outputId": "6b88a9a4-c30c-4a85-b6f9-445a9526fe09",
    "source_hash": null
   },
   "outputs": [
    {
     "name": "stdout",
     "output_type": "stream",
     "text": [
      "Stopwords: {'thereupon', 'wherever', 'becomes', 'regarding', 'thereby', 'often', 'how', 'really', 'from', 'herself', 'whatever', 'off', 'itself', 'to', 'both', 'serious', 'nevertheless', 'please', 'them', 'behind', 'until', \"'ll\", 'less', 'others', 'yourselves', 'somehow', 'which', 'nobody', 'due', 'call', 'upon', 'just', 'no', 'when', 'without', 'already', '‘d', 'much', 'through', 'full', 'but', \"'d\", 'after', 'with', 'never', 'who', 'hereby', 'latter', 'had', 'done', 'not', 'will', 'amongst', 'in', 'namely', 'within', 'thus', \"'s\", 'below', 'it', 'whenever', 'therefore', 'say', 'nor', 'its', 'first', 'eleven', 'thence', 'why', '’ll', 'ours', 'everything', 'is', 'take', 'enough', 'those', 'either', 'on', 'very', 'part', 'than', 'above', 'five', 'show', 'empty', 'four', 'cannot', \"'m\", 'elsewhere', 'an', 'anyone', 'make', 'been', 'moreover', 'since', 'sometime', 'third', 'herein', 'him', 'this', 'side', 'using', \"'re\", 'along', 'besides', 'toward', 'although', 'are', 'almost', 'via', '’s', 'something', 'own', 'a', 'myself', 'fifty', 'somewhere', 'together', 'however', 'our', 'ever', 'wherein', 'many', 're', 'against', 'still', 'twelve', 'whole', 'hers', 'may', 'before', 'ourselves', '‘m', 'someone', 'always', 'where', 'did', 'under', 'seemed', 'used', 'her', 'has', 'go', 'get', 'ten', \"'ve\", 'eight', 'only', 'can', 'yours', 'over', 'might', 'whom', 'made', 'the', \"n't\", '‘ll', 'unless', 'nowhere', 'few', 'alone', 'or', 'whence', 'three', 'anywhere', 'were', 'keep', 'such', 'across', 'except', 'rather', 'last', '‘ve', 'was', 'beforehand', 'top', 'out', 'into', 'we', 'hereafter', 'noone', '’m', 'well', 'anyhow', 'other', 'himself', 'must', 'see', 'formerly', 'too', 'any', 'various', 'move', 'everywhere', 'also', 'i', 'becoming', 'seem', 'two', 'indeed', 'she', 'yourself', 'back', 'am', 'n‘t', 'therein', 'every', 'would', 'each', 'around', 'hundred', 'name', 'ca', 'whereafter', 'mostly', 'he', '‘s', 'whoever', 'if', 'per', 'us', 'nine', 'your', 'now', '’d', 'neither', 'during', 'have', 'could', 'and', 'at', 'whither', 'former', 'forty', 'nothing', 'hence', 'fifteen', 'doing', 'thereafter', 'same', 'towards', 'by', 'further', 'six', 'that', 'beyond', 'anyway', 'down', 'sixty', 'whereby', 'perhaps', 'amount', 'meanwhile', 'my', 'latterly', 'his', 'do', 'because', 'become', 'most', 'yet', 'they', 'up', 'whether', 'twenty', 'least', '’re', 'more', 'me', 'while', 'otherwise', 'onto', 'became', 'their', 'beside', 'several', 'among', 'sometimes', 'hereupon', 'should', 'some', 'whereupon', 'next', 'of', 'everyone', 'another', 'these', 'between', 'bottom', 'quite', 'afterwards', 'here', 'though', 'n’t', 'be', 'seems', 'seeming', 'there', 'themselves', 'whose', 'again', 'about', 'none', 'thru', 'what', 'you', 'else', 'front', '’ve', 'so', 'even', 'one', 'for', 'then', 'does', '‘re', 'being', 'once', 'put', 'all', 'give', 'mine', 'throughout', 'anything', 'whereas', 'as'}\n",
      "[['c m', 'going', 'guy', 'got', 'ta', 'wrong'], ['right', 'joey', 'nice', 'hump', 'hump', 'hairpiece'], ['cause', 'want', 'went', 'carl', 'oh'], ['okay', 'everybody', 'relax', 'date', 'people', 'going', 'dinner', 'and', 'having', 'sex'], ['alright', 'high', 'school', 'standing', 'middle', 'cafeteria', 'realize', 'totally', 'naked'], ['sudden', 'phone', 'starts', 'ring', 'know', 'everybody', 'starts', 'looking'], ['finally', 'figure', 'better', 'answer', 'turns', 'mother', 'weird', 'because', 'calls'], ['guy', 'says', 'hello', 'wanna', 'kill'], ['feel', 'like', 'reached', 'throat', 'grabbed', 'small', 'intestine', 'pulled', 'mouth', 'tied', 'neck'], ['explaining', 'carol', 'moved', 'stuff', 'today']]\n"
     ]
    }
   ],
   "source": [
    "nlp = spacy.load(\"en_core_web_sm\", disable=[\"tagger\", \"parser\",\"ner\"])\n",
    "stopwords = spacy.lang.en.stop_words.STOP_WORDS\n",
    "print(f\"Stopwords: {stopwords}\")\n",
    "\n",
    "regex = re.compile('[^a-z0-9]') # need only lower case since executed after lower in for loop\n",
    "quotes = []  # to save all the lines\n",
    "for quote in list(nlp.pipe(df[\"quote\"].values)): \n",
    "    # iterate over tokens in quote\n",
    "    preprocessed_quote = []\n",
    "    for token in quote:\n",
    "        preprocessed_token = token.lower_ # lowercase word \n",
    "        if preprocessed_token not in stopwords: # remove stopwords\n",
    "            preprocessed_token = regex.sub(\" \", preprocessed_token) # replace non-alphabetic characters with space\n",
    "            \n",
    "            # remove the space if at the beginning or at the end           \n",
    "            if preprocessed_token[0] == \" \":\n",
    "                preprocessed_token = preprocessed_token[1:]\n",
    "            if len(preprocessed_token) > 0 and preprocessed_token[-1] == \" \":\n",
    "                preprocessed_token = preprocessed_token[:-1]\n",
    "            \n",
    "            # remove single characters\n",
    "            if len(preprocessed_token) > 1:\n",
    "                preprocessed_quote.append(preprocessed_token) \n",
    "    # remove lines with less than 3 words\n",
    "    if len(preprocessed_quote) >= 4:\n",
    "        quotes.append(preprocessed_quote)\n",
    "        \n",
    "print(quotes[:10])"
   ]
  },
  {
   "cell_type": "markdown",
   "metadata": {
    "cell_id": "a29a00530f96483aa614a78bc7bd8d44",
    "deepnote_cell_type": "markdown",
    "id": "6aaa2190"
   },
   "source": [
    "The next step is to build the vocabulary of the words and word combinations we want to learn representations from. We choose a subset of the most frequent words and bigrams to represent our corpus.\n",
    "- Use the Gensim Phrases package to automatically detect common phrases (bigrams) from a list of lines from the previous step (`min_count=10`). Now words like New_York will be considered as one entity and character names like joey_tribbiani will be recognized.\n",
    "- Create a list of words/bigrams with their frequencies and choose the top 15.000 words for the vocabulary, in order to keep the computation time-limited and to choose the most important words."
   ]
  },
  {
   "cell_type": "code",
   "execution_count": 7,
   "metadata": {
    "id": "6O50bTFYf289",
    "outputId": "2faa7630-1057-4b88-ca6b-07a2636b7cdd"
   },
   "outputs": [
    {
     "name": "stderr",
     "output_type": "stream",
     "text": [
      "INFO - 15:42:43: collecting all words and their counts\n",
      "INFO - 15:42:43: PROGRESS: at sentence #0, processed 0 words and 0 word types\n",
      "INFO - 15:42:43: PROGRESS: at sentence #10000, processed 84535 words and 64068 word types\n"
     ]
    },
    {
     "name": "stdout",
     "output_type": "stream",
     "text": [
      "Number of all words: 16593\n",
      "\n"
     ]
    },
    {
     "name": "stderr",
     "output_type": "stream",
     "text": [
      "INFO - 15:42:43: PROGRESS: at sentence #20000, processed 171141 words and 112647 word types\n",
      "INFO - 15:42:44: PROGRESS: at sentence #30000, processed 256195 words and 157322 word types\n",
      "INFO - 15:42:44: collected 160684 token types (unigram + bigrams) from a corpus of 262770 words and 30822 sentences\n",
      "INFO - 15:42:44: merged Phrases<160684 vocab, min_count=10, threshold=10.0, max_vocab_size=40000000>\n",
      "INFO - 15:42:44: Phrases lifecycle event {'msg': 'built Phrases<160684 vocab, min_count=10, threshold=10.0, max_vocab_size=40000000> in 0.34s', 'datetime': '2023-11-09T15:42:44.050258', 'gensim': '4.3.2', 'python': '3.9.18 (main, Sep 11 2023, 08:38:23) \\n[Clang 14.0.6 ]', 'platform': 'macOS-10.16-x86_64-i386-64bit', 'event': 'created'}\n",
      "INFO - 15:42:44: exporting phrases from Phrases<160684 vocab, min_count=10, threshold=10.0, max_vocab_size=40000000>\n",
      "INFO - 15:42:44: FrozenPhrases lifecycle event {'msg': 'exported FrozenPhrases<203 phrases, min_count=10, threshold=10.0> from Phrases<160684 vocab, min_count=10, threshold=10.0, max_vocab_size=40000000> in 0.28s', 'datetime': '2023-11-09T15:42:44.339122', 'gensim': '4.3.2', 'python': '3.9.18 (main, Sep 11 2023, 08:38:23) \\n[Clang 14.0.6 ]', 'platform': 'macOS-10.16-x86_64-i386-64bit', 'event': 'created'}\n"
     ]
    },
    {
     "data": {
      "text/plain": [
       "[['c m', 'going', 'guy', 'got_ta', 'wrong'],\n",
       " ['right', 'joey', 'nice', 'hump', 'hump', 'hairpiece'],\n",
       " ['cause', 'want', 'went', 'carl', 'oh'],\n",
       " ['okay',\n",
       "  'everybody',\n",
       "  'relax',\n",
       "  'date',\n",
       "  'people',\n",
       "  'going',\n",
       "  'dinner',\n",
       "  'and',\n",
       "  'having_sex'],\n",
       " ['alright',\n",
       "  'high_school',\n",
       "  'standing',\n",
       "  'middle',\n",
       "  'cafeteria',\n",
       "  'realize',\n",
       "  'totally',\n",
       "  'naked'],\n",
       " ['sudden',\n",
       "  'phone',\n",
       "  'starts',\n",
       "  'ring',\n",
       "  'know',\n",
       "  'everybody',\n",
       "  'starts',\n",
       "  'looking'],\n",
       " ['finally',\n",
       "  'figure',\n",
       "  'better',\n",
       "  'answer',\n",
       "  'turns',\n",
       "  'mother',\n",
       "  'weird',\n",
       "  'because',\n",
       "  'calls'],\n",
       " ['guy', 'says', 'hello', 'wanna', 'kill'],\n",
       " ['feel_like',\n",
       "  'reached',\n",
       "  'throat',\n",
       "  'grabbed',\n",
       "  'small',\n",
       "  'intestine',\n",
       "  'pulled',\n",
       "  'mouth',\n",
       "  'tied',\n",
       "  'neck'],\n",
       " ['explaining', 'carol', 'moved', 'stuff', 'today']]"
      ]
     },
     "execution_count": 7,
     "metadata": {},
     "output_type": "execute_result"
    }
   ],
   "source": [
    "from gensim.models.phrases import Phrases, Phraser\n",
    "\n",
    "# list of all words #\n",
    "words = list(set([word for quote in quotes for word in quote]))\n",
    "print(f\"Number of all words: {len(words)}\\n\")\n",
    "\n",
    "bigram = Phrases(quotes, min_count=10) # define the phraser for bi-gram creation\n",
    "bigram_phraser = Phraser(bigram)\n",
    "new_lines = [bigram_phraser[quote] for quote in quotes]  # transform the lines #\n",
    "new_lines[:10]"
   ]
  },
  {
   "cell_type": "code",
   "execution_count": 9,
   "metadata": {
    "id": "UdQk3lF4f28-",
    "outputId": "ac290c48-790e-444a-c2c9-3ca7c124db83"
   },
   "outputs": [
    {
     "name": "stdout",
     "output_type": "stream",
     "text": [
      "[['c m', 'going', 'guy', 'got_ta', 'wrong'], ['right', 'joey', 'nice', 'hump', 'hump', 'hairpiece'], ['cause', 'want', 'went', 'carl', 'oh'], ['okay', 'everybody', 'relax', 'date', 'people', 'going', 'dinner', 'and', 'having_sex'], ['alright', 'high_school', 'standing', 'middle', 'cafeteria', 'realize', 'totally', 'naked'], ['sudden', 'phone', 'starts', 'ring', 'know', 'everybody', 'starts', 'looking'], ['finally', 'figure', 'better', 'answer', 'turns', 'mother', 'weird', 'because', 'calls'], ['guy', 'says', 'hello', 'wanna', 'kill'], ['feel_like', 'reached', 'throat', 'grabbed', 'small', 'intestine', 'pulled', 'mouth', 'tied', 'neck'], ['explaining', 'carol', 'moved', 'stuff', 'today']]\n"
     ]
    }
   ],
   "source": [
    "from collections import Counter\n",
    "\n",
    "### find the top 15.000 words for the vocabulary###\n",
    "all_words_bigrams = [word for line in new_lines for word in line]\n",
    "words_bigram_counter = Counter(all_words_bigrams)\n",
    "vocab = [word_counter_tupel[0] for word_counter_tupel in words_bigram_counter.most_common(15000)] ### top 15000 words\n",
    "\n",
    "# remove all words from the line that are not in top 15000 words\n",
    "new_lines_top_vocab = []\n",
    "for line in new_lines:\n",
    "    new_lines_top_vocab.append([])\n",
    "    for word in line:\n",
    "        if word in vocab:\n",
    "            new_lines_top_vocab[-1].append(word)\n",
    "    if len(new_lines_top_vocab[-1]) == 0: # remove empty lines if all words were not in top 15000\n",
    "        new_lines_top_vocab.pop(-1)\n",
    "print(new_lines_top_vocab[:10])"
   ]
  },
  {
   "cell_type": "code",
   "execution_count": 13,
   "metadata": {},
   "outputs": [],
   "source": [
    "word_freq = dict(words_bigram_counter)"
   ]
  },
  {
   "cell_type": "code",
   "execution_count": 14,
   "metadata": {
    "cell_id": "1ec5ded163b54ffb92415149a4018376",
    "deepnote_cell_type": "code",
    "deepnote_to_be_reexecuted": false,
    "execution_millis": 196,
    "execution_start": 1698686046586,
    "id": "9d08031d",
    "outputId": "57fddc0c-d490-4889-812d-6594bd90679c",
    "source_hash": null
   },
   "outputs": [
    {
     "data": {
      "text/plain": [
       "36"
      ]
     },
     "execution_count": 14,
     "metadata": {},
     "output_type": "execute_result"
    }
   ],
   "source": [
    "word_freq['central_perk']"
   ]
  },
  {
   "cell_type": "code",
   "execution_count": 15,
   "metadata": {
    "cell_id": "671bba1de38646c0a88fda5aaaf545c1",
    "deepnote_cell_type": "code",
    "deepnote_to_be_reexecuted": false,
    "execution_millis": 21,
    "execution_start": 1698686050404,
    "id": "0882dc8c",
    "outputId": "dd18a5e5-c77d-4467-c38b-6bd1bb502560",
    "source_hash": null
   },
   "outputs": [
    {
     "data": {
      "text/plain": [
       "1883"
      ]
     },
     "execution_count": 15,
     "metadata": {},
     "output_type": "execute_result"
    }
   ],
   "source": [
    "word_freq['joey']"
   ]
  },
  {
   "cell_type": "markdown",
   "metadata": {
    "cell_id": "01482298eba6452ab71f4c6e5e11667d",
    "deepnote_cell_type": "markdown",
    "id": "15dfce56"
   },
   "source": [
    "### Subtask 2: Training the Model\n"
   ]
  },
  {
   "cell_type": "markdown",
   "metadata": {
    "cell_id": "4ae7eb1a2fc54d28bb502c445cd8c95c",
    "deepnote_cell_type": "markdown",
    "id": "b59c94e0"
   },
   "source": [
    "Use the Gensim implementation of Word2Vec to train a model on the scripts. The training can be divided into 3 stages:\n",
    "\n",
    "\n",
    "1) Set up your model with parameters; define your parameters in such a way that the following conditions are satisfied:\n",
    " - ignore all words that have a total frequency of less than 2.\n",
    " - dimensions of the embeddings: 100\n",
    " - initial learning rate (step size) of 0.03\n",
    " - 20 negative samples\n",
    " - window size 3\n",
    " - the learning rate in the training will decrease as you apply more and more updates. Most of the time when starting with gradient descent the initial steps can be larger, and as we get close to the local minima it is best to use smaller steps to avoid jumping over the local minima. This adjustment is done internally using a learning rate scheduler. Make sure that the smallest learning rate does not go below 0.0001.\n",
    " - set the threshold for configuring which higher-frequency words are randomly down-sampled to 6e-5. This parameter forces the sampling to choose the very frequent words less often in the sampling.\n",
    " - set the hashfunction of the word2vec to the given function.\n",
    " - train on a single worker to make sure you get the same result as ours."
   ]
  },
  {
   "cell_type": "code",
   "execution_count": 16,
   "metadata": {
    "cell_id": "9b4af7e9f7bb4476a669a23ddff5d39b",
    "deepnote_cell_type": "code",
    "deepnote_to_be_reexecuted": false,
    "execution_millis": 11,
    "execution_start": 1698686110604,
    "id": "jXtYY379f28_",
    "source_hash": null
   },
   "outputs": [],
   "source": [
    "from gensim.models import Word2Vec\n",
    "def hash(astring):\n",
    "    return ord(astring[0])"
   ]
  },
  {
   "cell_type": "code",
   "execution_count": 17,
   "metadata": {
    "cell_id": "7b8d8990e50642bbadb19e39fbc7a4f0",
    "deepnote_cell_type": "code",
    "deepnote_to_be_reexecuted": false,
    "execution_millis": 1682,
    "execution_start": 1698686388704,
    "id": "7c12a7a6",
    "outputId": "cb7eb379-9c9d-4b0e-b25f-e9218b4a3e3f",
    "source_hash": null
   },
   "outputs": [
    {
     "name": "stderr",
     "output_type": "stream",
     "text": [
      "INFO - 15:46:50: Word2Vec lifecycle event {'params': 'Word2Vec<vocab=0, vector_size=100, alpha=0.03>', 'datetime': '2023-11-09T15:46:50.123969', 'gensim': '4.3.2', 'python': '3.9.18 (main, Sep 11 2023, 08:38:23) \\n[Clang 14.0.6 ]', 'platform': 'macOS-10.16-x86_64-i386-64bit', 'event': 'created'}\n"
     ]
    }
   ],
   "source": [
    "w2v = Word2Vec(\n",
    "    min_count=2,\n",
    "    window=3,\n",
    "    vector_size=100,\n",
    "    sample=6e-5,\n",
    "    alpha=0.03,\n",
    "    min_alpha=0.0001,\n",
    "    negative=20,\n",
    "    hashfxn=hash,\n",
    "    workers=1\n",
    ")"
   ]
  },
  {
   "cell_type": "markdown",
   "metadata": {
    "cell_id": "1dfd2753f5744603919cd923eddef1ed",
    "deepnote_cell_type": "markdown",
    "id": "03eba781"
   },
   "source": [
    "2) Before training, Word2Vec requires us to build the vocabulary table by filtering out the unique words and doing some basic counts on them.\n",
    "Use the `build_vocab` function to process the data. If you look at the logs you can see the effect of `min_count` and `sample` on the word corpus."
   ]
  },
  {
   "cell_type": "code",
   "execution_count": 18,
   "metadata": {
    "cell_id": "4db8ca7a59d947fbb6fd571cac2cc061",
    "deepnote_cell_type": "code",
    "deepnote_to_be_reexecuted": false,
    "execution_millis": 2908,
    "execution_start": 1698686473190,
    "id": "d9795441",
    "outputId": "d93dbf90-3f46-412f-efef-f41233b361c2",
    "scrolled": true,
    "source_hash": null
   },
   "outputs": [
    {
     "name": "stderr",
     "output_type": "stream",
     "text": [
      "INFO - 15:47:17: collecting all words and their counts\n",
      "INFO - 15:47:17: PROGRESS: at sentence #0, processed 0 words, keeping 0 word types\n",
      "INFO - 15:47:17: PROGRESS: at sentence #10000, processed 81112 words, keeping 9621 word types\n",
      "INFO - 15:47:17: PROGRESS: at sentence #20000, processed 164131 words, keeping 13290 word types\n",
      "INFO - 15:47:17: PROGRESS: at sentence #30000, processed 244255 words, keeping 14970 word types\n",
      "INFO - 15:47:17: collected 15000 word types from a corpus of 250337 raw words and 30822 sentences\n",
      "INFO - 15:47:17: Creating a fresh vocabulary\n",
      "INFO - 15:47:17: Word2Vec lifecycle event {'msg': 'effective_min_count=2 retains 9202 unique words (61.35% of original 15000, drops 5798)', 'datetime': '2023-11-09T15:47:17.259381', 'gensim': '4.3.2', 'python': '3.9.18 (main, Sep 11 2023, 08:38:23) \\n[Clang 14.0.6 ]', 'platform': 'macOS-10.16-x86_64-i386-64bit', 'event': 'prepare_vocab'}\n",
      "INFO - 15:47:17: Word2Vec lifecycle event {'msg': 'effective_min_count=2 leaves 244539 word corpus (97.68% of original 250337, drops 5798)', 'datetime': '2023-11-09T15:47:17.260281', 'gensim': '4.3.2', 'python': '3.9.18 (main, Sep 11 2023, 08:38:23) \\n[Clang 14.0.6 ]', 'platform': 'macOS-10.16-x86_64-i386-64bit', 'event': 'prepare_vocab'}\n",
      "INFO - 15:47:17: deleting the raw counts dictionary of 15000 items\n",
      "INFO - 15:47:17: sample=6e-05 downsamples 974 most-common words\n",
      "INFO - 15:47:17: Word2Vec lifecycle event {'msg': 'downsampling leaves estimated 115221.3846194 word corpus (47.1%% of prior 244539)', 'datetime': '2023-11-09T15:47:17.316475', 'gensim': '4.3.2', 'python': '3.9.18 (main, Sep 11 2023, 08:38:23) \\n[Clang 14.0.6 ]', 'platform': 'macOS-10.16-x86_64-i386-64bit', 'event': 'prepare_vocab'}\n",
      "INFO - 15:47:17: estimated required memory for 9202 words and 100 dimensions: 11962600 bytes\n",
      "INFO - 15:47:17: resetting layer weights\n",
      "INFO - 15:47:17: Word2Vec lifecycle event {'update': False, 'trim_rule': 'None', 'datetime': '2023-11-09T15:47:17.409088', 'gensim': '4.3.2', 'python': '3.9.18 (main, Sep 11 2023, 08:38:23) \\n[Clang 14.0.6 ]', 'platform': 'macOS-10.16-x86_64-i386-64bit', 'event': 'build_vocab'}\n"
     ]
    }
   ],
   "source": [
    "# I had to use lines, otherwise the words joey and central_perk were not in the top 15000 words\n",
    "w2v.build_vocab(corpus_iterable=new_lines_top_vocab, progress_per=10000)"
   ]
  },
  {
   "cell_type": "markdown",
   "metadata": {
    "cell_id": "2d979180168543c9ac657de95eb52c57",
    "deepnote_cell_type": "markdown",
    "id": "aefdc06f"
   },
   "source": [
    "3) Finally, we  train the model. Train the model for 100 epochs. This will take a while. As we do not plan to train the model any further, we call `init_sims()`, which will make the model much more memory-efficient by precomputing L2-norms of word weight vectors for further analysis."
   ]
  },
  {
   "cell_type": "code",
   "execution_count": 19,
   "metadata": {
    "cell_id": "9bc14f8821da46e09a477743403c648a",
    "deepnote_cell_type": "code",
    "deepnote_to_be_reexecuted": false,
    "execution_millis": 19,
    "execution_start": 1698686653132,
    "id": "0febaedc",
    "outputId": "728bccd1-cb1d-41c3-933a-c579f804d6b3",
    "source_hash": null
   },
   "outputs": [
    {
     "name": "stderr",
     "output_type": "stream",
     "text": [
      "INFO - 15:47:56: Word2Vec lifecycle event {'msg': 'training model with 1 workers on 9202 vocabulary and 100 features, using sg=0 hs=0 sample=6e-05 negative=20 window=3 shrink_windows=True', 'datetime': '2023-11-09T15:47:56.862877', 'gensim': '4.3.2', 'python': '3.9.18 (main, Sep 11 2023, 08:38:23) \\n[Clang 14.0.6 ]', 'platform': 'macOS-10.16-x86_64-i386-64bit', 'event': 'train'}\n",
      "INFO - 15:47:57: EPOCH 0: training on 250337 raw words (115398 effective words) took 0.5s, 243644 effective words/s\n",
      "INFO - 15:47:57: EPOCH 1: training on 250337 raw words (115469 effective words) took 0.5s, 238421 effective words/s\n",
      "INFO - 15:47:58: EPOCH 2: training on 250337 raw words (115307 effective words) took 0.5s, 233450 effective words/s\n",
      "INFO - 15:47:58: EPOCH 3: training on 250337 raw words (115221 effective words) took 0.6s, 203870 effective words/s\n",
      "INFO - 15:47:59: EPOCH 4: training on 250337 raw words (115098 effective words) took 0.6s, 206787 effective words/s\n",
      "INFO - 15:47:59: EPOCH 5: training on 250337 raw words (115354 effective words) took 0.5s, 230453 effective words/s\n",
      "INFO - 15:48:00: EPOCH 6: training on 250337 raw words (115460 effective words) took 0.5s, 248946 effective words/s\n",
      "INFO - 15:48:00: EPOCH 7: training on 250337 raw words (115429 effective words) took 0.4s, 258351 effective words/s\n",
      "INFO - 15:48:01: EPOCH 8: training on 250337 raw words (115145 effective words) took 0.5s, 248790 effective words/s\n",
      "INFO - 15:48:01: EPOCH 9: training on 250337 raw words (115091 effective words) took 0.5s, 230806 effective words/s\n",
      "INFO - 15:48:02: EPOCH 10: training on 250337 raw words (115295 effective words) took 0.5s, 215676 effective words/s\n",
      "INFO - 15:48:02: EPOCH 11: training on 250337 raw words (115237 effective words) took 0.4s, 258500 effective words/s\n",
      "INFO - 15:48:03: EPOCH 12: training on 250337 raw words (115010 effective words) took 0.4s, 256485 effective words/s\n",
      "INFO - 15:48:03: EPOCH 13: training on 250337 raw words (114977 effective words) took 0.5s, 253839 effective words/s\n",
      "INFO - 15:48:04: EPOCH 14: training on 250337 raw words (115556 effective words) took 0.5s, 252589 effective words/s\n",
      "INFO - 15:48:04: EPOCH 15: training on 250337 raw words (115132 effective words) took 0.4s, 256726 effective words/s\n",
      "INFO - 15:48:05: EPOCH 16: training on 250337 raw words (115059 effective words) took 0.4s, 260906 effective words/s\n",
      "INFO - 15:48:05: EPOCH 17: training on 250337 raw words (115419 effective words) took 0.4s, 263885 effective words/s\n",
      "INFO - 15:48:06: EPOCH 18: training on 250337 raw words (115265 effective words) took 0.5s, 241937 effective words/s\n",
      "INFO - 15:48:06: EPOCH 19: training on 250337 raw words (115199 effective words) took 0.4s, 259899 effective words/s\n",
      "INFO - 15:48:06: EPOCH 20: training on 250337 raw words (115210 effective words) took 0.5s, 241922 effective words/s\n",
      "INFO - 15:48:07: EPOCH 21: training on 250337 raw words (115436 effective words) took 0.5s, 220724 effective words/s\n",
      "INFO - 15:48:07: EPOCH 22: training on 250337 raw words (115248 effective words) took 0.4s, 262866 effective words/s\n",
      "INFO - 15:48:08: EPOCH 23: training on 250337 raw words (114940 effective words) took 0.4s, 260382 effective words/s\n",
      "INFO - 15:48:08: EPOCH 24: training on 250337 raw words (115517 effective words) took 0.4s, 268842 effective words/s\n",
      "INFO - 15:48:09: EPOCH 25: training on 250337 raw words (115237 effective words) took 0.4s, 273729 effective words/s\n",
      "INFO - 15:48:09: EPOCH 26: training on 250337 raw words (115202 effective words) took 0.4s, 260231 effective words/s\n",
      "INFO - 15:48:10: EPOCH 27: training on 250337 raw words (115549 effective words) took 0.5s, 229488 effective words/s\n",
      "INFO - 15:48:10: EPOCH 28: training on 250337 raw words (115212 effective words) took 0.5s, 229377 effective words/s\n",
      "INFO - 15:48:11: EPOCH 29: training on 250337 raw words (115508 effective words) took 0.5s, 251108 effective words/s\n",
      "INFO - 15:48:11: EPOCH 30: training on 250337 raw words (115367 effective words) took 0.5s, 224218 effective words/s\n",
      "INFO - 15:48:12: EPOCH 31: training on 250337 raw words (115572 effective words) took 0.5s, 222023 effective words/s\n",
      "INFO - 15:48:12: EPOCH 32: training on 250337 raw words (115220 effective words) took 0.4s, 261735 effective words/s\n",
      "INFO - 15:48:13: EPOCH 33: training on 250337 raw words (115572 effective words) took 0.5s, 237016 effective words/s\n",
      "INFO - 15:48:13: EPOCH 34: training on 250337 raw words (115271 effective words) took 0.4s, 269695 effective words/s\n",
      "INFO - 15:48:14: EPOCH 35: training on 250337 raw words (115177 effective words) took 0.5s, 246692 effective words/s\n",
      "INFO - 15:48:14: EPOCH 36: training on 250337 raw words (114841 effective words) took 0.5s, 246876 effective words/s\n",
      "INFO - 15:48:15: EPOCH 37: training on 250337 raw words (115199 effective words) took 0.5s, 230950 effective words/s\n",
      "INFO - 15:48:15: EPOCH 38: training on 250337 raw words (115483 effective words) took 0.5s, 225886 effective words/s\n",
      "INFO - 15:48:15: EPOCH 39: training on 250337 raw words (115295 effective words) took 0.4s, 266634 effective words/s\n",
      "INFO - 15:48:16: EPOCH 40: training on 250337 raw words (115402 effective words) took 0.5s, 256080 effective words/s\n",
      "INFO - 15:48:16: EPOCH 41: training on 250337 raw words (115032 effective words) took 0.4s, 262496 effective words/s\n",
      "INFO - 15:48:17: EPOCH 42: training on 250337 raw words (115057 effective words) took 0.4s, 264330 effective words/s\n",
      "INFO - 15:48:17: EPOCH 43: training on 250337 raw words (115255 effective words) took 0.5s, 221554 effective words/s\n",
      "INFO - 15:48:18: EPOCH 44: training on 250337 raw words (115229 effective words) took 0.5s, 237230 effective words/s\n",
      "INFO - 15:48:18: EPOCH 45: training on 250337 raw words (115139 effective words) took 0.4s, 258318 effective words/s\n",
      "INFO - 15:48:19: EPOCH 46: training on 250337 raw words (115448 effective words) took 0.4s, 271516 effective words/s\n",
      "INFO - 15:48:19: EPOCH 47: training on 250337 raw words (115026 effective words) took 0.5s, 223850 effective words/s\n",
      "INFO - 15:48:20: EPOCH 48: training on 250337 raw words (115328 effective words) took 0.5s, 234932 effective words/s\n",
      "INFO - 15:48:20: EPOCH 49: training on 250337 raw words (115256 effective words) took 0.5s, 217621 effective words/s\n",
      "INFO - 15:48:21: EPOCH 50: training on 250337 raw words (115226 effective words) took 0.5s, 233379 effective words/s\n",
      "INFO - 15:48:21: EPOCH 51: training on 250337 raw words (115358 effective words) took 0.5s, 239436 effective words/s\n",
      "INFO - 15:48:22: EPOCH 52: training on 250337 raw words (115255 effective words) took 0.4s, 267776 effective words/s\n",
      "INFO - 15:48:22: EPOCH 53: training on 250337 raw words (114974 effective words) took 0.4s, 261934 effective words/s\n",
      "INFO - 15:48:23: EPOCH 54: training on 250337 raw words (115710 effective words) took 0.4s, 260244 effective words/s\n",
      "INFO - 15:48:23: EPOCH 55: training on 250337 raw words (115232 effective words) took 0.5s, 245644 effective words/s\n",
      "INFO - 15:48:23: EPOCH 56: training on 250337 raw words (115322 effective words) took 0.5s, 240721 effective words/s\n",
      "INFO - 15:48:24: EPOCH 57: training on 250337 raw words (115454 effective words) took 0.5s, 250849 effective words/s\n",
      "INFO - 15:48:24: EPOCH 58: training on 250337 raw words (115170 effective words) took 0.5s, 253268 effective words/s\n",
      "INFO - 15:48:25: EPOCH 59: training on 250337 raw words (115465 effective words) took 0.4s, 262147 effective words/s\n",
      "INFO - 15:48:25: EPOCH 60: training on 250337 raw words (115574 effective words) took 0.4s, 261832 effective words/s\n",
      "INFO - 15:48:26: EPOCH 61: training on 250337 raw words (115099 effective words) took 0.4s, 260472 effective words/s\n",
      "INFO - 15:48:26: EPOCH 62: training on 250337 raw words (114964 effective words) took 0.4s, 259694 effective words/s\n",
      "INFO - 15:48:27: EPOCH 63: training on 250337 raw words (115363 effective words) took 0.5s, 255385 effective words/s\n",
      "INFO - 15:48:27: EPOCH 64: training on 250337 raw words (115335 effective words) took 0.4s, 263423 effective words/s\n",
      "INFO - 15:48:28: EPOCH 65: training on 250337 raw words (115249 effective words) took 0.4s, 260447 effective words/s\n",
      "INFO - 15:48:28: EPOCH 66: training on 250337 raw words (115103 effective words) took 0.5s, 243662 effective words/s\n",
      "INFO - 15:48:28: EPOCH 67: training on 250337 raw words (115291 effective words) took 0.5s, 255267 effective words/s\n",
      "INFO - 15:48:29: EPOCH 68: training on 250337 raw words (115243 effective words) took 0.4s, 261211 effective words/s\n",
      "INFO - 15:48:29: EPOCH 69: training on 250337 raw words (115178 effective words) took 0.5s, 251965 effective words/s\n",
      "INFO - 15:48:30: EPOCH 70: training on 250337 raw words (115028 effective words) took 0.5s, 249324 effective words/s\n",
      "INFO - 15:48:30: EPOCH 71: training on 250337 raw words (115086 effective words) took 0.4s, 272774 effective words/s\n",
      "INFO - 15:48:31: EPOCH 72: training on 250337 raw words (115424 effective words) took 0.4s, 272123 effective words/s\n",
      "INFO - 15:48:31: EPOCH 73: training on 250337 raw words (115755 effective words) took 0.5s, 255292 effective words/s\n",
      "INFO - 15:48:32: EPOCH 74: training on 250337 raw words (115075 effective words) took 0.5s, 232987 effective words/s\n",
      "INFO - 15:48:32: EPOCH 75: training on 250337 raw words (115377 effective words) took 0.4s, 258769 effective words/s\n",
      "INFO - 15:48:33: EPOCH 76: training on 250337 raw words (115329 effective words) took 0.4s, 266438 effective words/s\n",
      "INFO - 15:48:33: EPOCH 77: training on 250337 raw words (115166 effective words) took 0.4s, 258327 effective words/s\n",
      "INFO - 15:48:34: EPOCH 78: training on 250337 raw words (115039 effective words) took 0.6s, 208726 effective words/s\n",
      "INFO - 15:48:34: EPOCH 79: training on 250337 raw words (115091 effective words) took 0.4s, 259063 effective words/s\n",
      "INFO - 15:48:34: EPOCH 80: training on 250337 raw words (115231 effective words) took 0.5s, 245489 effective words/s\n",
      "INFO - 15:48:35: EPOCH 81: training on 250337 raw words (115155 effective words) took 0.4s, 268241 effective words/s\n",
      "INFO - 15:48:35: EPOCH 82: training on 250337 raw words (115151 effective words) took 0.4s, 291935 effective words/s\n",
      "INFO - 15:48:36: EPOCH 83: training on 250337 raw words (115206 effective words) took 0.5s, 246051 effective words/s\n",
      "INFO - 15:48:36: EPOCH 84: training on 250337 raw words (115357 effective words) took 0.5s, 212049 effective words/s\n",
      "INFO - 15:48:37: EPOCH 85: training on 250337 raw words (115128 effective words) took 0.5s, 251720 effective words/s\n",
      "INFO - 15:48:37: EPOCH 86: training on 250337 raw words (115135 effective words) took 0.5s, 217678 effective words/s\n",
      "INFO - 15:48:38: EPOCH 87: training on 250337 raw words (115301 effective words) took 0.5s, 227373 effective words/s\n",
      "INFO - 15:48:38: EPOCH 88: training on 250337 raw words (115051 effective words) took 0.5s, 215144 effective words/s\n",
      "INFO - 15:48:39: EPOCH 89: training on 250337 raw words (115290 effective words) took 0.5s, 216557 effective words/s\n",
      "INFO - 15:48:39: EPOCH 90: training on 250337 raw words (115175 effective words) took 0.4s, 271601 effective words/s\n",
      "INFO - 15:48:40: EPOCH 91: training on 250337 raw words (115280 effective words) took 0.5s, 231107 effective words/s\n",
      "INFO - 15:48:40: EPOCH 92: training on 250337 raw words (115089 effective words) took 0.5s, 219608 effective words/s\n",
      "INFO - 15:48:41: EPOCH 93: training on 250337 raw words (115236 effective words) took 0.4s, 276492 effective words/s\n",
      "INFO - 15:48:41: EPOCH 94: training on 250337 raw words (115183 effective words) took 0.4s, 276694 effective words/s\n",
      "INFO - 15:48:42: EPOCH 95: training on 250337 raw words (115402 effective words) took 0.4s, 277039 effective words/s\n",
      "INFO - 15:48:42: EPOCH 96: training on 250337 raw words (115321 effective words) took 0.4s, 268406 effective words/s\n",
      "INFO - 15:48:42: EPOCH 97: training on 250337 raw words (115336 effective words) took 0.4s, 271597 effective words/s\n",
      "INFO - 15:48:43: EPOCH 98: training on 250337 raw words (114861 effective words) took 0.4s, 270731 effective words/s\n",
      "INFO - 15:48:43: EPOCH 99: training on 250337 raw words (115205 effective words) took 0.4s, 268442 effective words/s\n",
      "INFO - 15:48:43: Word2Vec lifecycle event {'msg': 'training on 25033700 raw words (11525377 effective words) took 47.0s, 245283 effective words/s', 'datetime': '2023-11-09T15:48:43.851311', 'gensim': '4.3.2', 'python': '3.9.18 (main, Sep 11 2023, 08:38:23) \\n[Clang 14.0.6 ]', 'platform': 'macOS-10.16-x86_64-i386-64bit', 'event': 'train'}\n"
     ]
    },
    {
     "data": {
      "text/plain": [
       "(11525377, 25033700)"
      ]
     },
     "execution_count": 19,
     "metadata": {},
     "output_type": "execute_result"
    }
   ],
   "source": [
    "w2v.train(corpus_iterable=new_lines_top_vocab, total_examples=w2v.corpus_count, epochs=100, report_delay=1)\n",
    "# w2v.init_sims(replace=True) No longer required for efficiency"
   ]
  },
  {
   "cell_type": "markdown",
   "metadata": {
    "cell_id": "8d7bcc59fa9a4db58253ce90a910afc8",
    "deepnote_cell_type": "markdown",
    "id": "a0c86f82"
   },
   "source": [
    "### Subtask 3: Exploring the Model\n"
   ]
  },
  {
   "cell_type": "markdown",
   "metadata": {
    "cell_id": "b5c5ad8c1f8748b7bca40daf0622a87b",
    "deepnote_cell_type": "markdown",
    "id": "377e1f70"
   },
   "source": [
    "As mentioned in the lecture, word embeddings are suited for similarity and analogy tasks. Let's explore some of that with our dataset:\n",
    "\n",
    "We look for the most similar words to the name of the famous coffee shop where most of the episodes took place, namely `central_perk` and also one of the characters `joey`. If you have followed the exercise correctly until now, you should see that words like `laying` are similar to `central_perk` and the other main characters are also considered similar to `joey`.\n",
    "\n"
   ]
  },
  {
   "cell_type": "code",
   "execution_count": 20,
   "metadata": {
    "cell_id": "f3d08ec040cd4381a22787e1a66a20da",
    "deepnote_cell_type": "code",
    "id": "b7074ffa",
    "outputId": "b8509a2e-b784-495b-ee53-4adb8365c9fc",
    "scrolled": true
   },
   "outputs": [
    {
     "data": {
      "text/plain": [
       "[('back', 0.7200777530670166),\n",
       " ('conan', 0.6162167191505432),\n",
       " ('sitting_couch', 0.46544498205184937),\n",
       " ('ish', 0.4508911669254303),\n",
       " ('cuddling', 0.44639813899993896),\n",
       " ('intrigued', 0.43736499547958374),\n",
       " ('crossword', 0.4276357591152191),\n",
       " ('crash', 0.4219474792480469),\n",
       " ('appartment', 0.41934192180633545),\n",
       " ('shhh', 0.41284582018852234)]"
      ]
     },
     "execution_count": 20,
     "metadata": {},
     "output_type": "execute_result"
    }
   ],
   "source": [
    "w2v.wv.most_similar(positive=[\"central_perk\"])"
   ]
  },
  {
   "cell_type": "code",
   "execution_count": 21,
   "metadata": {
    "cell_id": "d38ea41d5e2c4652b220cad504e69dbe",
    "deepnote_cell_type": "code",
    "id": "2e66e435",
    "outputId": "7599056c-b5ce-4277-edcb-8c72d836084c",
    "scrolled": true
   },
   "outputs": [
    {
     "data": {
      "text/plain": [
       "[('chandler', 0.7492232322692871),\n",
       " ('ross', 0.6886746287345886),\n",
       " ('monica', 0.648175060749054),\n",
       " ('rachel', 0.6370086073875427),\n",
       " ('phoebe', 0.6367011666297913),\n",
       " ('goes', 0.5657322406768799),\n",
       " ('hey', 0.5202212333679199),\n",
       " ('oh', 0.5040730237960815),\n",
       " ('looks', 0.5030996799468994),\n",
       " ('door', 0.4982839822769165)]"
      ]
     },
     "execution_count": 21,
     "metadata": {},
     "output_type": "execute_result"
    }
   ],
   "source": [
    "w2v.wv.most_similar(positive=[\"joey\"])"
   ]
  },
  {
   "cell_type": "markdown",
   "metadata": {
    "cell_id": "8b3ebb52da6d4c7abd32422223ad91de",
    "deepnote_cell_type": "markdown",
    "id": "e3591274"
   },
   "source": [
    "Look at the similarity of `green` to `rachel` (her lastname) and `ross`  and `spaceship` (urelated). The first one should have a high and the second a low score. Finally, look at the similarity of `smelly_cat` ( a song from pheobe) and `song` the similarity should be high."
   ]
  },
  {
   "cell_type": "code",
   "execution_count": 22,
   "metadata": {
    "cell_id": "c9292e5f8e8b4bbab08c1c0a7327036a",
    "deepnote_cell_type": "code",
    "id": "c5de6309",
    "outputId": "5f18688a-7e3f-4f56-a3c7-f62e1c419910"
   },
   "outputs": [
    {
     "data": {
      "text/plain": [
       "0.109473884"
      ]
     },
     "execution_count": 22,
     "metadata": {},
     "output_type": "execute_result"
    }
   ],
   "source": [
    "w2v.wv.similarity(\"green\", 'rachel')"
   ]
  },
  {
   "cell_type": "code",
   "execution_count": 23,
   "metadata": {
    "cell_id": "2792fcb2bd2941b29483e040ea801111",
    "deepnote_cell_type": "code",
    "id": "322d0605",
    "outputId": "2e8952f7-d2e9-44cf-c786-e321c0ec974b"
   },
   "outputs": [
    {
     "data": {
      "text/plain": [
       "-0.20757732"
      ]
     },
     "execution_count": 23,
     "metadata": {},
     "output_type": "execute_result"
    }
   ],
   "source": [
    "w2v.wv.similarity(\"ross\", 'spaceship')"
   ]
  },
  {
   "cell_type": "code",
   "execution_count": 24,
   "metadata": {
    "cell_id": "857a05fc9c1642979acf147eb55ee495",
    "deepnote_cell_type": "code",
    "id": "f7a0a1f5",
    "outputId": "45c12ce9-c8c9-47dd-ffaa-8d359fe1c78a",
    "scrolled": true
   },
   "outputs": [
    {
     "data": {
      "text/plain": [
       "0.47674218"
      ]
     },
     "execution_count": 24,
     "metadata": {},
     "output_type": "execute_result"
    }
   ],
   "source": [
    "w2v.wv.similarity(\"smelly_cat\", 'song')"
   ]
  },
  {
   "cell_type": "markdown",
   "metadata": {
    "cell_id": "92a2bdf7949c432e913ff1f58f9518df",
    "deepnote_cell_type": "markdown",
    "id": "7343365d"
   },
   "source": [
    "We can also ask our model to give us the word that does not belong to a list of words. Let's see from the list of all 5 characters which one is the most dissimilar?\n"
   ]
  },
  {
   "cell_type": "code",
   "execution_count": 25,
   "metadata": {
    "cell_id": "4a5f55cfe2444eb5adcdc32dc8fd810f",
    "deepnote_cell_type": "code",
    "id": "37bff805"
   },
   "outputs": [],
   "source": [
    "character_names= ['joey', 'rachel', 'phoebe','monica','chandler']"
   ]
  },
  {
   "cell_type": "code",
   "execution_count": 26,
   "metadata": {
    "cell_id": "c461f1e0b8a147ef8ab5d0aa2fc398f4",
    "deepnote_cell_type": "code",
    "id": "9020cd09",
    "outputId": "ce1beb22-1b66-46d2-f84c-4654c587056c",
    "scrolled": true
   },
   "outputs": [
    {
     "data": {
      "text/plain": [
       "'joey'"
      ]
     },
     "execution_count": 26,
     "metadata": {},
     "output_type": "execute_result"
    }
   ],
   "source": [
    "w2v.wv.doesnt_match(character_names)"
   ]
  },
  {
   "cell_type": "markdown",
   "metadata": {
    "cell_id": "7278cc4a122a439cb7bb3be20a1ce94a",
    "deepnote_cell_type": "markdown",
    "id": "28abdaec"
   },
   "source": [
    "Based on the analogies, which word is to `monica` as `man` is to `women`? (print the top 3 words); you should get `chandler`among the answers."
   ]
  },
  {
   "cell_type": "code",
   "execution_count": 27,
   "metadata": {
    "cell_id": "30e6af02c91f4e81b37433f0fa70782f",
    "deepnote_cell_type": "code",
    "id": "4a270c9b",
    "outputId": "7e86be46-d421-493a-8719-25c6c1c49ad7"
   },
   "outputs": [
    {
     "data": {
      "text/plain": [
       "[('chandler', 0.48655936121940613),\n",
       " ('phoebe', 0.45315784215927124),\n",
       " ('hey', 0.44670674204826355)]"
      ]
     },
     "execution_count": 27,
     "metadata": {},
     "output_type": "execute_result"
    }
   ],
   "source": [
    "w2v.wv.most_similar(positive=[\"monica\", \"man\"], negative=[\"woman\"], topn=3)"
   ]
  },
  {
   "cell_type": "markdown",
   "metadata": {
    "cell_id": "5ad13bd66cd04aea8612260b0d8674df",
    "deepnote_cell_type": "markdown",
    "id": "1c97ae83"
   },
   "source": [
    "Finally, lets use [t-SNE](https://www.jmlr.org/papers/volume9/vandermaaten08a/vandermaaten08a.pdf) to look at the distribution of our embeddings in the vector space for the character `joey`. Follow the instructions and fill in the blank in the `tsneplot` function."
   ]
  },
  {
   "cell_type": "code",
   "execution_count": 28,
   "metadata": {
    "cell_id": "ee0c0d3840564901a6727dcb24609e41",
    "deepnote_cell_type": "code",
    "id": "d0b8930e"
   },
   "outputs": [],
   "source": [
    "import numpy as np\n",
    "import matplotlib.pyplot as plt\n",
    "%matplotlib inline\n",
    "import seaborn as sns\n",
    "import sys\n",
    "from sklearn.manifold import TSNE"
   ]
  },
  {
   "cell_type": "code",
   "execution_count": 29,
   "metadata": {
    "cell_id": "aa191d846a5a4fe58a05370e983046fc",
    "deepnote_cell_type": "code",
    "id": "faa51d9e"
   },
   "outputs": [],
   "source": [
    "def tsneplot(model, word):\n",
    "    \"\"\" Plot in seaborn the results from the t-SNE dimensionality reduction for the top 10 most similar and dissimilar words\n",
    "    \"\"\"\n",
    "    embs = np.empty((0, 100), dtype='f')# to save all the embeddings\n",
    "    word_labels = [word]\n",
    "    color_list  = ['green']\n",
    "\n",
    "    # adds the vector of the query word\n",
    "    embs = np.append(embs, model.wv.__getitem__([word]), axis=0)\n",
    "\n",
    "    # gets list of most similar words\n",
    "    close_words = model.wv.most_similar([word])\n",
    "    all_sims = model.wv.most_similar([word], topn=sys.maxsize)\n",
    "    far_words = list(reversed(all_sims[-10:]))\n",
    "\n",
    "    # adds the vector for each of the closest words to the array\n",
    "    for wrd_score in close_words:\n",
    "        wrd_vector = model.wv.__getitem__([wrd_score[0]])\n",
    "        word_labels.append(wrd_score[0])\n",
    "        color_list.append('blue')\n",
    "        embs = np.append(embs, wrd_vector, axis=0)\n",
    "\n",
    "    # adds the vector for each of the furthest words to the array\n",
    "    for wrd_score in far_words:\n",
    "        wrd_vector = model.wv.__getitem__([wrd_score[0]])\n",
    "        word_labels.append(wrd_score[0])\n",
    "        color_list.append('red')\n",
    "        embs = np.append(embs, wrd_vector, axis=0)\n",
    "\n",
    "    np.set_printoptions(suppress=True)\n",
    "    Y = TSNE(n_components=2, random_state=110, perplexity=15).fit_transform(embs)\n",
    "\n",
    "    # sets everything up to plot\n",
    "    df = pd.DataFrame({'x': [x for x in Y[:, 0]],\n",
    "                       'y': [y for y in Y[:, 1]],\n",
    "                       'words': word_labels,\n",
    "                       'color': color_list})\n",
    "\n",
    "    fig, _ = plt.subplots()\n",
    "    fig.set_size_inches(10, 10)\n",
    "\n",
    "    # basic plot\n",
    "    p1 = sns.regplot(data=df,\n",
    "                     x=\"x\",\n",
    "                     y=\"y\",\n",
    "                     fit_reg=False,\n",
    "                     marker=\"o\",\n",
    "                     scatter_kws={'s': 40,\n",
    "                                  'facecolors': df['color']\n",
    "                                 }\n",
    "                    )\n",
    "\n",
    "    # adds annotations one by one with a loop\n",
    "    for line in range(0, df.shape[0]):\n",
    "         p1.text(df[\"x\"][line],\n",
    "                 df['y'][line],\n",
    "                 '  ' + df[\"words\"][line].title(),\n",
    "                 horizontalalignment='left',\n",
    "                 verticalalignment='bottom', size='medium',\n",
    "                 color=df['color'][line],\n",
    "                 weight='normal'\n",
    "                ).set_size(15)\n",
    "\n",
    "\n",
    "    plt.xlim(Y[:, 0].min()-1, Y[:, 0].max()+1)\n",
    "    plt.ylim(Y[:, 1].min()-1, Y[:, 1].max()+1)\n",
    "\n",
    "    plt.title('t-SNE visualization for {}'.format(word.title()))\n"
   ]
  },
  {
   "cell_type": "code",
   "execution_count": 30,
   "metadata": {
    "cell_id": "725afc6c92ba4f908ec460419775eb18",
    "deepnote_cell_type": "code",
    "id": "3880bad8",
    "outputId": "5217f824-1e53-4971-c62b-38f577161bbf"
   },
   "outputs": [
    {
     "data": {
      "image/png": "[encoded data removed]",
      "text/plain": [
       "<Figure size 1000x1000 with 1 Axes>"
      ]
     },
     "metadata": {},
     "output_type": "display_data"
    }
   ],
   "source": [
    "tsneplot(w2v, 'joey')"
   ]
  },
  {
   "cell_type": "markdown",
   "metadata": {
    "cell_id": "14d7e861f1dc4204a8e39b27547dd9c4",
    "deepnote_cell_type": "markdown",
    "id": "1ce2c270"
   },
   "source": [
    "## **Task 2: Questions on the Conceptual Level (non-programming) (Grade (2 + 1 + 1 + 4) = 8)**"
   ]
  },
  {
   "cell_type": "markdown",
   "metadata": {
    "cell_id": "ace660a64baf473d9724dbc2ff371725",
    "deepnote_cell_type": "markdown",
    "id": "c3fa409f"
   },
   "source": [
    "Please answer the following questions in the notebook cells using markdown. Be precise and short."
   ]
  },
  {
   "cell_type": "markdown",
   "metadata": {
    "cell_id": "24fb0c7ae4074588bdb05a3d9a3dfcf6",
    "deepnote_cell_type": "markdown",
    "id": "1ec614b0"
   },
   "source": [
    "### Subtask 1: For gradient descent, what advantage has a decaying learning rate?"
   ]
  },
  {
   "cell_type": "markdown",
   "metadata": {
    "cell_id": "e75be01ffafa494a9ba4d6504c083822",
    "deepnote_cell_type": "markdown",
    "id": "bec059fb"
   },
   "source": [
    "<<< your answer >>>"
   ]
  },
  {
   "cell_type": "markdown",
   "metadata": {
    "cell_id": "ce28e2169a524b7daf96af474b569360",
    "deepnote_cell_type": "markdown",
    "id": "0af2b619"
   },
   "source": [
    "### Subtask 2: Why is it easier to maximize the log likelihood instead of the \"normal\" likelihood?"
   ]
  },
  {
   "cell_type": "markdown",
   "metadata": {
    "cell_id": "a4da45940d9b456ba937eefbda717f62",
    "deepnote_cell_type": "markdown",
    "id": "deb75406"
   },
   "source": [
    "<<< your answer >>>"
   ]
  },
  {
   "cell_type": "markdown",
   "metadata": {
    "cell_id": "55401062c4414e22b07999c9516ddd47",
    "deepnote_cell_type": "markdown",
    "id": "a9828a2f"
   },
   "source": [
    "### Subtask 3: Name one advantage that fastText has over Word2Vec?"
   ]
  },
  {
   "cell_type": "markdown",
   "metadata": {
    "cell_id": "37206cb5835d458ca95650ef71670421",
    "deepnote_cell_type": "markdown",
    "id": "6c7aeb3b"
   },
   "source": [
    "<<< your answer >>>"
   ]
  },
  {
   "cell_type": "markdown",
   "metadata": {
    "cell_id": "1296e557d1ea498e9c6a52fe8fbcb8b1",
    "deepnote_cell_type": "markdown",
    "id": "07634ed8"
   },
   "source": [
    "### Subtask 4: Compute the partial derivate of softmax loss for word2vec with\n",
    "\n",
    "---\n",
    "\n",
    "respect to the center word vector.\n",
    "$$ \\frac{\\partial J}{\\partial v_c} =\\frac{\\partial}{\\partial v_c}\\left[ -log \\left( \\frac{exp(u^T_o v_c)}{\\Sigma_{w \\in Vocab} exp(u^T_o v_c)} \\right)\\right] $$\n",
    "use $U$ to denote the matrix of all embeddings and $y$ for a one-hot vector with a 1 for the true outside word $o$, and $\\hat{y}$ for the predicted distribution $P(w|c)$."
   ]
  },
  {
   "cell_type": "markdown",
   "metadata": {
    "cell_id": "bf7f894433d94dde90e01b3a129333a6",
    "deepnote_cell_type": "markdown",
    "id": "baba8a44"
   },
   "source": [
    "<<< your answer >>>"
   ]
  },
  {
   "cell_type": "markdown",
   "metadata": {
    "cell_id": "1db960c2184f4d86a99007290ddb7d53",
    "deepnote_cell_type": "markdown",
    "id": "8364e05b"
   },
   "source": [
    "## **Task 3: Auto-Complete Feature (Grade (2 + 6 + 4) = 12)**\n",
    "\n",
    "Let's get even more practical! In this problem set, you will build your own auto-completion system that you see every day while using search engines.\n",
    "\n",
    "[google]: https://www.thedad.com/wp-content/uploads/2018/05/screen-shot-2018-05-12-at-2-01-56-pm.png \"google auto complete\"\n",
    "\n",
    "![google]\n",
    "By the end of this assignment, you will develop a simple prototype of such a system using n-gram language model. At the heart of the system is a language model that assigns the probability to a sequence of words. We take advantage of this probability calculation to predict the next word.\n",
    "\n",
    "The problem set contains 3 main parts:\n",
    "\n",
    "1. Load and preprocess data (tokenize and split into train and test)\n",
    "2. Develop n-gram based language model by estimating the conditional probability of the next word.\n",
    "3. Evaluate the model by computing the perplexity score.\n"
   ]
  },
  {
   "cell_type": "markdown",
   "metadata": {
    "cell_id": "8f2e3c8d05744ca2ba9d6954068ccc4f",
    "deepnote_cell_type": "markdown",
    "id": "c9d5f84e"
   },
   "source": [
    "### Subtask 1: Load and Preprocess Data\n",
    "We use a subset of English tweets to train our model. Run the cell below to load the data and observe a few lines of it. Notice that tweets are saved in a text file, where the individual tweets are separated by `\\n`"
   ]
  },
  {
   "cell_type": "code",
   "execution_count": 2,
   "metadata": {
    "cell_id": "58f762e9ed1d424fbe3ff9709f85a931",
    "colab": {
     "base_uri": "https://localhost:8080/",
     "height": 105
    },
    "deepnote_cell_type": "code",
    "id": "48fc8e51",
    "outputId": "fdca5c58-4cde-4f2a-c405-8acb99e2017c"
   },
   "outputs": [
    {
     "name": "stdout",
     "output_type": "stream",
     "text": [
      "First 500 characters of the data:\n"
     ]
    },
    {
     "data": {
      "application/vnd.google.colaboratory.intrinsic+json": {
       "type": "string"
      },
      "text/plain": [
       "\"How are you? Btw thanks for the RT. You gonna be in DC anytime soon? Love to see you. Been way, way too long.\\nWhen you meet someone special... you'll know. Your heart will beat more rapidly and you'll smile for no reason.\\nthey've decided its more fun if I don't.\\nSo Tired D; Played Lazer Tag & Ran A LOT D; Ughh Going To Sleep Like In 5 Minutes ;)\\nWords from a complete stranger! Made my birthday even better :)\\nFirst Cubs game ever! Wrigley field is gorgeous. This is perfect. Go Cubs Go!\\ni no! i ge\""
      ]
     },
     "metadata": {},
     "output_type": "display_data"
    },
    {
     "name": "stdout",
     "output_type": "stream",
     "text": [
      "-------\n"
     ]
    }
   ],
   "source": [
    "import spacy\n",
    "nlp = spacy.load(\"en_core_web_sm\", disable=[\"tagger\", \"parser\",\"ner\"])\n",
    "\n",
    "\n",
    "with open(\"./twitter.txt\", \"r\") as f:\n",
    "    data = f.read()\n",
    "print(\"First 500 characters of the data:\")\n",
    "display(data[0:500])\n",
    "print(\"-------\")"
   ]
  },
  {
   "cell_type": "markdown",
   "metadata": {
    "cell_id": "80b3757b35d046eab04bb777b6a416b6",
    "deepnote_cell_type": "markdown",
    "id": "aa007e1d"
   },
   "source": [
    "Now we need to separate the tweets and split them into train and test set. Apply the following pre-processing steps:\n",
    "\n",
    "1. Split data into sentences using \"\\n\" as the delimiter and remove the leading and trailing spaces (drop empty sentences)\n",
    "2. Tokenize the sentences into words using SpaCy and lowercase them. (notice that we do not remove stop words or punctuations.)\n",
    "3. Divide the sentences into 80 percent training and 20 percent test set. No validation set is required. Although in a real-world application it is best to set aside part of the data for hyperparameter tuning.\n",
    "4. To limit the vocabulary and remove potential spelling mistakes, make a vocabulary of the words that appear at least 2 times. The rest of the words will be replaced by the `<unk>` symbol. This is a crucial step since if your model encounters a word that it never saw during training, it won't have an input word that helps determining the next word for suggestion. We use the `<unk>` word for **out of Vocabulary (OOV)** words. Keep in mind that we built the vocabulary on the training data only."
   ]
  },
  {
   "cell_type": "code",
   "execution_count": 3,
   "metadata": {
    "cell_id": "aacd6837aaf646eea5c57d147ae86251",
    "deepnote_cell_type": "code",
    "id": "16d5b640"
   },
   "outputs": [],
   "source": [
    "sentences = data.split(\"\\n\")\n",
    "sentences = list(map(lambda s: s.strip(), sentences))\n",
    "# remove empty string as well\n",
    "sentences.remove(\"\")"
   ]
  },
  {
   "cell_type": "code",
   "execution_count": 4,
   "metadata": {
    "cell_id": "14d26cc808a64f57972f5fc17543c798",
    "colab": {
     "base_uri": "https://localhost:8080/"
    },
    "deepnote_cell_type": "code",
    "id": "2faabb7a",
    "outputId": "7dd3cb1f-8b76-4a90-e5b1-95ce1c411f8d"
   },
   "outputs": [
    {
     "name": "stderr",
     "output_type": "stream",
     "text": [
      "/usr/local/lib/python3.10/dist-packages/spacy/pipeline/lemmatizer.py:211: UserWarning: [W108] The rule-based lemmatizer did not find POS annotation for one or more tokens. Check that your pipeline includes components that assign token.pos, typically 'tagger'+'attribute_ruler' or 'morphologizer'.\n",
      "  warnings.warn(Warnings.W108)\n"
     ]
    }
   ],
   "source": [
    "tokenized_corpus = []# list of list of the tokens in a sentence\n",
    "for s in sentences:\n",
    "    doc = nlp(s)\n",
    "    tokens = [token.text.lower() for token in doc]\n",
    "    tokenized_corpus.append(tokens)"
   ]
  },
  {
   "cell_type": "code",
   "execution_count": 5,
   "metadata": {
    "cell_id": "99e828609a5b46839a99a2be980c8769",
    "colab": {
     "base_uri": "https://localhost:8080/"
    },
    "deepnote_cell_type": "code",
    "id": "235d1b53",
    "outputId": "e99e8597-0d81-4d18-e3f4-f123633baa20"
   },
   "outputs": [
    {
     "name": "stdout",
     "output_type": "stream",
     "text": [
      "overall length: 47961, train: 38369, test: 9592\n"
     ]
    }
   ],
   "source": [
    "from random import Random\n",
    "Random(4).shuffle(tokenized_corpus)\n",
    "split = round(len(tokenized_corpus)*0.8)\n",
    "\n",
    "train = tokenized_corpus[:split]\n",
    "test = tokenized_corpus[split:]\n",
    "\n",
    "print(f\"overall length: {len(tokenized_corpus)}, train: {len(train)}, test: {len(test)}\")"
   ]
  },
  {
   "cell_type": "code",
   "execution_count": 6,
   "metadata": {
    "cell_id": "d18ffa61ccda41e1aed028f98aef4013",
    "colab": {
     "base_uri": "https://localhost:8080/"
    },
    "deepnote_cell_type": "code",
    "id": "2526e4b1",
    "outputId": "d79ff069-f7c6-46cb-c917-5295270f7c30"
   },
   "outputs": [
    {
     "name": "stdout",
     "output_type": "stream",
     "text": [
      "14861\n"
     ]
    }
   ],
   "source": [
    "from collections import Counter\n",
    "flatten_corpus = [item for sublist in train for item in sublist]\n",
    "word_counts = Counter(flatten_corpus)\n",
    "vocab = [k for k,v in word_counts.items() if v >= 2]\n",
    "\n",
    "### keep only the ones with frequency bigger than 2 ###\n",
    "print(len(vocab)) ### should be 14861 ###\n",
    "train_replaced = []\n",
    "test_replaced = []\n",
    "for sentence in train:\n",
    "    train_replaced.append([word if word in vocab else \"<unk>\" for word in sentence])\n",
    "for sentence in test:\n",
    "    test_replaced.append([word if word in vocab else \"<unk>\" for word in sentence])"
   ]
  },
  {
   "cell_type": "markdown",
   "metadata": {
    "cell_id": "1cf527629aa04e3b934ece7dc59724c9",
    "deepnote_cell_type": "markdown",
    "id": "f447294a"
   },
   "source": [
    "### Subtask 2: N-gram Based Language Model:\n",
    "In this section, you will develop an n-grams language model [**1. Large Language Models (LLMs), slide 1-24**]. We assume that the probability of the next word depends only on the previous n-gram or previous n words. We compute this probability by counting the occurrences in the corpus.\n",
    "The conditional probability for the word at position 't' in the sentence, given that the words preceding it are $w_{t-1}, w_{t-2} \\cdots w_{t-n}$ can be estimated as follows:\n",
    "\n",
    "$$ \\hat{P}(w_t | w_{t-1}\\dots w_{t-n}) = \\frac{C(w_{t-1}\\dots w_{t-n}, w_t)}{C(w_{t-1}\\dots w_{t-n})}  $$\n",
    "\n",
    "The numerator is the number of times word '$w_t$' appears after the n-gram, and the denominator is the number of times the n-gram occurs in the corpus, where $C(\\cdots)$ is a count function. Later, we add k-smoothing to avoid errors when any counts are zero."
   ]
  },
  {
   "cell_type": "markdown",
   "metadata": {
    "cell_id": "b8907d5a38c144708623c6b664f12085",
    "deepnote_cell_type": "markdown",
    "id": "7a590b34"
   },
   "source": [
    "To tackle the problem of probability estimation we divide the problem into 3 parts. In the following you will:\n",
    "1. Implement a function that computes the counts of n-grams for an arbitrary number n.\n",
    "2. Estimate the probability of a word given the prior n-words using the n-gram counts.\n",
    "3. Calculate probabilities for all possible words.\n",
    "The steps are detailed below."
   ]
  },
  {
   "cell_type": "markdown",
   "metadata": {
    "cell_id": "491396e5d91545b492d55fd8830bac8f",
    "deepnote_cell_type": "markdown",
    "id": "8da09885"
   },
   "source": [
    "Let's start by implementing a function that computes the counts of n-grams for an arbitrary number n.\n",
    "- Prepend necessary starting markers `<s>` to indicate the beginning of the sentence. In the case of a bi-gram model, you need to prepend two start tokens `<s><s>` to be able to predict the first word. \"hello world\"-> \"`<s><s>`hello world\".\n",
    "- Append an end token `<e>` so that the model can predict when to finish a sentence.\n",
    "- Create a dictionary to store all the n_gram counts."
   ]
  },
  {
   "cell_type": "code",
   "execution_count": 7,
   "metadata": {
    "cell_id": "1831e1e0042c44928f0804fb52e4b056",
    "deepnote_cell_type": "code",
    "id": "e8a98cee"
   },
   "outputs": [],
   "source": [
    "from collections import defaultdict\n",
    "def n_grams_counts(corpus, n):\n",
    "    \"\"\"\n",
    "    Count all n-grams in the corpus given the parameter n\n",
    "\n",
    "    data: List of lists of words (your tokenized corpus)\n",
    "    n: n in the n-gram\n",
    "\n",
    "    Returns: A dictionary that maps a tuple of n words to its frequency\n",
    "    \"\"\"\n",
    "    start_token='<s>'\n",
    "    end_token = '<e>'\n",
    "    n_grams = defaultdict(int)\n",
    "    for sentence in corpus:\n",
    "        sentence = [start_token] * n + sentence + [end_token] * n\n",
    "        # convert list to tuple so it can be used as the key in the dictionary\n",
    "        sentence = tuple(sentence)\n",
    "\n",
    "        ###iterate over the n-grams in the sentence, you can use the range() function, and increament the counts in the\n",
    "        ## n_grams dictionary, where the key is the n_gram and the value is count\n",
    "\n",
    "        for idx in range(0, len(sentence)-(n-1)):\n",
    "            n_gram = sentence[idx:idx+n]\n",
    "            n_grams[n_gram] +=1\n",
    "    return n_grams"
   ]
  },
  {
   "cell_type": "markdown",
   "metadata": {
    "cell_id": "1b61c4f79d0b4398a3381a6b49ec9bb9",
    "deepnote_cell_type": "markdown",
    "id": "ba75f530"
   },
   "source": [
    "The next step is to estimate the probability of a word given the prior n words using the n-gram counts, based on the formula given at the beginning of this task. To deal with the problem of zero division we add k-smoothing. K-smoothing adds a positive constant $k$ to each numerator and $k \\times |vocabulary size|$ in the denominator. Below we will define a function that takes in a dictionary `n_gram_cnt`, where the key is the n-gram, and the value is the count of that n-gram, plus a dictionary for `plus_current_gram_cnt`, which you'll use to find the count for the previous n-gram plus the current word. Notice that these dictionaries are computed using the previous function `n_grams_counts`.\n"
   ]
  },
  {
   "cell_type": "code",
   "execution_count": 8,
   "metadata": {
    "cell_id": "f7953b233226442db6b6bfa34e210faf",
    "deepnote_cell_type": "code",
    "id": "a2c6898d"
   },
   "outputs": [],
   "source": [
    "def probability(word, prev_n_gram, n_gram_cnts, plus_current_gram_cnts, vocab_size):\n",
    "    \"\"\"\n",
    "    Estimate the probabilities of the next word using the n-gram counts with k-smoothing\n",
    "    word: next word\n",
    "    prev_n_gram: previous n gram\n",
    "    n_gram_cnts: dictionary of counts of n-grams\n",
    "    plus_current_gram_cnts: dictionary of counts of (n+1)-grams -> current word+ n-gram = (n+1)-gram\n",
    "    vocab_size: number of words in the vocabulary\n",
    "\n",
    "    Returns: A probability\n",
    "    \"\"\"\n",
    "    k=1.0\n",
    "    prev_n_gram = tuple(prev_n_gram)\n",
    "\n",
    "    prev_n_gram_cnt =  n_gram_cnts[prev_n_gram]\n",
    "    denominator = (k * vocab_size) + prev_n_gram_cnt\n",
    "    plus_current_gram =  prev_n_gram + (word,)\n",
    "    plus_current_gram_cnt = plus_current_gram_cnts[plus_current_gram]\n",
    "    numerator = k + plus_current_gram_cnt\n",
    "    prob = numerator / denominator\n",
    "\n",
    "    return prob"
   ]
  },
  {
   "cell_type": "markdown",
   "metadata": {
    "cell_id": "0ace7921a06e4a0fbcb65e145a7b1887",
    "deepnote_cell_type": "markdown",
    "id": "7803eb7c"
   },
   "source": [
    "Let's use the functions we have defined to calculate probabilities for all possible words.\n"
   ]
  },
  {
   "cell_type": "code",
   "execution_count": 9,
   "metadata": {
    "cell_id": "dcaccf27e5f34299b5b9cb23de52581a",
    "deepnote_cell_type": "code",
    "id": "7157c4cb"
   },
   "outputs": [],
   "source": [
    "def probabilities(prev_n_gram, n_gram_cnts, plus_current_gram_cnts, vocab):\n",
    "    \"\"\"\n",
    "    Estimate the probabilities for all the words in the vocabulary given the previous n-gram\n",
    "    prev_n_gram: previous n-gram\n",
    "    n_gram_cnts: dictionary of counts of n-grams\n",
    "    plus_current_gram_cntsplus_current_gram_cnt: dictionary of counts of (n+1)-grams -> current word+ n-gram = (n+1)-gram\n",
    "    vocab: List of words\n",
    "\n",
    "    Returns: A dictionary mapping from next words to the probability.\n",
    "    \"\"\"\n",
    "    prev_n_gram = tuple(prev_n_gram)\n",
    "\n",
    "    vocab =  vocab + [\"<e>\", \"<unk>\"]\n",
    "    vocabulary_size = len(vocab)\n",
    "\n",
    "    probabilities = {}\n",
    "    for word in vocab:\n",
    "        prob = probability(word, prev_n_gram, n_gram_cnts, plus_current_gram_cnts, vocabulary_size)\n",
    "        probabilities[word] = prob\n",
    "    return probabilities"
   ]
  },
  {
   "cell_type": "code",
   "execution_count": 10,
   "metadata": {
    "cell_id": "69b27da7a72540d7b98314cc06ee03d4",
    "colab": {
     "base_uri": "https://localhost:8080/"
    },
    "deepnote_cell_type": "code",
    "id": "88fea049",
    "outputId": "aea4ec32-01db-4a6d-ba10-cb68a09c644a"
   },
   "outputs": [
    {
     "name": "stdout",
     "output_type": "stream",
     "text": [
      "The word 'moon' should have the highest probability, if it is not the case, re-visit your previous functions.\n"
     ]
    },
    {
     "data": {
      "text/plain": [
       "{'tonight': 0.05263157894736842,\n",
       " 'shinnig': 0.05263157894736842,\n",
       " 'mars': 0.05263157894736842,\n",
       " 'moon': 0.21052631578947367,\n",
       " 'stars': 0.05263157894736842,\n",
       " 'shining': 0.05263157894736842,\n",
       " 'a': 0.05263157894736842,\n",
       " 'and': 0.05263157894736842,\n",
       " 'is': 0.05263157894736842,\n",
       " 'plants': 0.05263157894736842,\n",
       " 'plant': 0.05263157894736842,\n",
       " 'are': 0.05263157894736842,\n",
       " 'bright': 0.05263157894736842,\n",
       " 'the': 0.05263157894736842,\n",
       " '<e>': 0.05263157894736842,\n",
       " '<unk>': 0.05263157894736842}"
      ]
     },
     "execution_count": 10,
     "metadata": {},
     "output_type": "execute_result"
    }
   ],
   "source": [
    "# Predict the probability of all possible words after the unigram \"the\"\n",
    "sentences = [['the', 'moon', 'and', 'stars', 'are','shining','bright'],\n",
    "             ['the', 'moon', 'is', 'shinnig','tonight'],\n",
    "             ['mars','and' ,'moon', 'are', 'plants'],\n",
    "             ['the' ,'moon', 'is','a', 'plant']]\n",
    "unique_words = list(set(sentences[0] + sentences[1] + sentences[2]+ sentences[3]))\n",
    "unigram_counts = n_grams_counts(sentences, 1)\n",
    "bigram_counts = n_grams_counts(sentences, 2)\n",
    "print(\"The word 'moon' should have the highest probability, if it is not the case, re-visit your previous functions.\")\n",
    "probabilities([\"the\"], unigram_counts, bigram_counts, unique_words)"
   ]
  },
  {
   "cell_type": "markdown",
   "metadata": {
    "cell_id": "9ccfa9c6597d462793202b50b314aa8d",
    "deepnote_cell_type": "markdown",
    "id": "014a385f"
   },
   "source": [
    "### Subtask 3: Evaluation"
   ]
  },
  {
   "cell_type": "markdown",
   "metadata": {
    "cell_id": "176162b78f544ee19a82a30f807ec9ee",
    "deepnote_cell_type": "markdown",
    "id": "90a4345f"
   },
   "source": [
    "In this part, we use the perplexity score to evaluate your model on the test set. The perplexity score of the test set on an n-gram model is defined as follows:\n",
    "\n",
    "$$ PP(W) =\\sqrt[N]{ \\prod_{t=n}^{N-1} \\frac{1}{P(w_t | w_{t-n} \\cdots w_{t-1})} } $$\n",
    "- where $N$ is the length of the sentence. ($N-1$ is used because in the code we start from the index 0).\n",
    "- $n$ is the number of words in the n-gram.\n",
    "- $W$ is the n-gram\n",
    "\n",
    "Notice that we have already computed this probability.\n",
    "\n",
    "The higher the probabilities are, the lower the perplexity will be."
   ]
  },
  {
   "cell_type": "code",
   "execution_count": 11,
   "metadata": {
    "cell_id": "2f8f6acf9f11492f8f1305fdf99c31de",
    "deepnote_cell_type": "code",
    "id": "9644c33f"
   },
   "outputs": [],
   "source": [
    "def perplexity(sentence, n_gram_cnts, plus_current_gram_cnts, vocab_size, k=1.0):\n",
    "    \"\"\"\n",
    "    Calculate perplexity for a list of sentences\n",
    "    sentence: List of strings\n",
    "    n_gram_cnts: dictionary of counts of n-grams\n",
    "    plus_current_gram_cnts: dictionary of counts of (n+1)-grams -> current word+ n-gram = (n+1)-gram\n",
    "    vocab_size: number of unique words in the vocabulary\n",
    "    k: positive smoothing constant\n",
    "\n",
    "    Returns: Perplexity score for a single sentence\n",
    "    \"\"\"\n",
    "\n",
    "    n =  len(list(n_gram_cnts.keys())[0])\n",
    "    original_sentence = sentence\n",
    "    sentence =  [\"<s>\"] * n + sentence + [\"<e>\"] * n\n",
    "    sentence = tuple(sentence)\n",
    "    N = len(sentence)\n",
    "\n",
    "\n",
    "    product_pi = 1.0\n",
    "\n",
    "    ### Compute the product of probabilities ###\n",
    "\n",
    "    for t in range(n, N):\n",
    "        n_gram = sentence[t-n:t]# get the n-gram before the predicted word (n-gram before t )\n",
    "        word =  sentence[t]\n",
    "        prob = probability(word, n_gram, n_gram_cnts,  plus_current_gram_cnts, vocab_size)\n",
    "        product_pi *= 1/prob\n",
    "\n",
    "    perplexity = product_pi**(1/float(N))\n",
    "    return perplexity"
   ]
  },
  {
   "cell_type": "markdown",
   "metadata": {
    "cell_id": "7f83ee8ea3f540b0bec43660bbbb4182",
    "deepnote_cell_type": "markdown",
    "id": "8745e1bc"
   },
   "source": [
    "Use `perplexity` function to find the perplexity of a bi-gram model on the first training sample and on the first test sample (first element of the set)."
   ]
  },
  {
   "cell_type": "code",
   "execution_count": 12,
   "metadata": {
    "cell_id": "cb594a2f6b6541ca9c12ef418bf2f571",
    "colab": {
     "base_uri": "https://localhost:8080/"
    },
    "deepnote_cell_type": "code",
    "id": "d857043a",
    "outputId": "6e7963d0-c1f0-4d62-be8b-cec014c89751"
   },
   "outputs": [
    {
     "name": "stdout",
     "output_type": "stream",
     "text": [
      "Perplexity for first train sample: 85.7743\n",
      "Perplexity for test sample: 1032.9659\n"
     ]
    }
   ],
   "source": [
    "bigram_counts = n_grams_counts(train_replaced, 2)\n",
    "trigram_counts = n_grams_counts(train_replaced, 3)\n",
    "\n",
    "perplexity_train = perplexity(train_replaced[0],bigram_counts, trigram_counts,len(vocab))\n",
    "print(f\"Perplexity for first train sample: {perplexity_train:.4f}\")\n",
    "\n",
    "perplexity_test = perplexity(test_replaced[0],bigram_counts, trigram_counts,len(vocab))\n",
    "print(f\"Perplexity for test sample: {perplexity_test:.4f}\")# the perplexity for the train sample should be much lower"
   ]
  },
  {
   "cell_type": "markdown",
   "metadata": {
    "cell_id": "583838d297e949249a58d4a1dc31b9fb",
    "deepnote_cell_type": "markdown",
    "id": "7c697faa"
   },
   "source": [
    "Finally, let's use the model we created to generate an auto-complete system that makes suggestions."
   ]
  },
  {
   "cell_type": "code",
   "execution_count": 13,
   "metadata": {
    "cell_id": "49b35d180c85431f9c2ef7af0f6663d4",
    "deepnote_cell_type": "code",
    "id": "b6d6163b"
   },
   "outputs": [],
   "source": [
    "def suggest_a_word(up_to_here, n_gram_cnts, plus_current_gram_cnts, vocab , start_with=None):\n",
    "    \"\"\"\n",
    "    Get suggestion for the next word\n",
    "    up_to_here: the sentence so far, must have length > n\n",
    "    n_gram_cnts: dictionary of counts of n-grams\n",
    "    plus_current_gram_cnts: dictionary of counts of (n+1)-grams -> current word+ n-gram = (n+1)-gram\n",
    "    vocab: List of words\n",
    "    start_with: If not None, specifies the first few letters of the next word\n",
    "\n",
    "    Returns: (most likely next word,  probability)\n",
    "    \"\"\"\n",
    "    n = len(list(n_gram_cnts.keys())[0]) # get the number 'n' in  n-gram  from n_gram_cnts\n",
    "    previous_n_gram = previous_tokens[-n:] # get the last 'n' words as the previous n-gram from the input sentence\n",
    "\n",
    "\n",
    "    probabs = probabilities(previous_n_gram, n_gram_cnts, plus_current_gram_cnts, vocab)\n",
    "\n",
    "    ### sort the probability for higher to lower and return the highest probability word,probability tuple\n",
    "    #if start_with is specified then return the highest probability word that starts with that specific character\n",
    "\n",
    "    sorted_dict_as_list = sorted(probabs.items(), key=lambda x:x[1],reverse=True)\n",
    "    if start_with == None:\n",
    "        # do not return the <unk> symbol if it is the most common one, as it is not helpful at all\n",
    "        return sorted_dict_as_list[0] if sorted_dict_as_list[0][0] != \"<unk>\" else sorted_dict_as_list[1]\n",
    "    else:\n",
    "        for item in sorted_dict_as_list:\n",
    "            if item[0].startswith(start_with):\n",
    "                return item"
   ]
  },
  {
   "cell_type": "markdown",
   "metadata": {
    "cell_id": "7d12dbd16a224d3bb0b676614c3263ae",
    "deepnote_cell_type": "markdown",
    "id": "f88f9abc"
   },
   "source": [
    "Test your model based on the bi-gram model created on the training corpus."
   ]
  },
  {
   "cell_type": "code",
   "execution_count": 14,
   "metadata": {
    "cell_id": "b34a4567484945d0af203f460c78ac29",
    "colab": {
     "base_uri": "https://localhost:8080/"
    },
    "deepnote_cell_type": "code",
    "id": "460dff09",
    "outputId": "2ce27b7d-bd56-4e95-dfd1-492b689ce8a1"
   },
   "outputs": [
    {
     "data": {
      "text/plain": [
       "('better', 0.00013324450366422385)"
      ]
     },
     "execution_count": 14,
     "metadata": {},
     "output_type": "execute_result"
    }
   ],
   "source": [
    "previous_tokens=['i','like']\n",
    "start_with='b'\n",
    "suggestion = suggest_a_word(previous_tokens, bigram_counts,trigram_counts, list(vocab),start_with=start_with)\n",
    "suggestion"
   ]
  },
  {
   "cell_type": "code",
   "execution_count": 15,
   "metadata": {
    "cell_id": "a88d32a32d2449e9a675b69ded886d28",
    "colab": {
     "base_uri": "https://localhost:8080/"
    },
    "deepnote_cell_type": "code",
    "id": "e68f730c",
    "outputId": "b0d808a8-9c09-4a4c-9698-06c1c0218f3d"
   },
   "outputs": [
    {
     "data": {
      "text/plain": [
       "('see', 0.0006017249448418801)"
      ]
     },
     "execution_count": 15,
     "metadata": {},
     "output_type": "execute_result"
    }
   ],
   "source": [
    "previous_tokens=['i','like','to']\n",
    "start_with=None\n",
    "suggestion = suggest_a_word(previous_tokens, bigram_counts,trigram_counts, list(vocab),start_with=start_with)\n",
    "suggestion"
   ]
  },
  {
   "cell_type": "code",
   "execution_count": 16,
   "metadata": {
    "cell_id": "52be0e5887c74aa0b7da9fa207b7e9bc",
    "colab": {
     "base_uri": "https://localhost:8080/"
    },
    "deepnote_cell_type": "code",
    "id": "001a7ff4",
    "outputId": "f360df27-fe66-4587-f283-e7d85e92423a"
   },
   "outputs": [
    {
     "data": {
      "text/plain": [
       "('riley', 0.00020153164046755341)"
      ]
     },
     "execution_count": 16,
     "metadata": {},
     "output_type": "execute_result"
    }
   ],
   "source": [
    "previous_tokens=[\"hello\", \"my\", \"name\", \"is\"]\n",
    "start_with=None\n",
    "suggestion = suggest_a_word(previous_tokens, bigram_counts,trigram_counts, list(vocab),start_with=start_with)\n",
    "suggestion"
   ]
  },
  {
   "cell_type": "code",
   "execution_count": 17,
   "metadata": {
    "cell_id": "068963f618b544f7a786a781626bf295",
    "colab": {
     "base_uri": "https://localhost:8080/"
    },
    "deepnote_cell_type": "code",
    "id": "c556e16f",
    "outputId": "61e1d15c-5a39-46eb-cb62-fa1c6daaecd3"
   },
   "outputs": [
    {
     "data": {
      "text/plain": [
       "('allison', 0.00013435442697836894)"
      ]
     },
     "execution_count": 17,
     "metadata": {},
     "output_type": "execute_result"
    }
   ],
   "source": [
    "previous_tokens=[\"hello\", \"my\", \"name\", \"is\"]\n",
    "start_with='a'\n",
    "suggestion = suggest_a_word(previous_tokens, bigram_counts,trigram_counts, list(vocab),start_with=start_with)\n",
    "suggestion"
   ]
  },
  {
   "cell_type": "markdown",
   "metadata": {
    "cell_id": "50f4e5d8be004436bd0398c0d2836135",
    "deepnote_cell_type": "markdown",
    "id": "b4a15ac8"
   },
   "source": [
    "## **Task 4: Understanding GloVe (Grade (2 + 4.25 + 4 + 1.75) = 12)**"
   ]
  },
  {
   "cell_type": "markdown",
   "metadata": {
    "cell_id": "28bf5028a4d14fa28da11a21ec934de7",
    "deepnote_cell_type": "markdown",
    "id": "15e586ca"
   },
   "source": [
    "In this part, you will implement the [GloVe](https://nlp.stanford.edu/projects/glove/) model and train your own word vectors with gradient\n",
    "descent and numpy. GloVe stands for Global Vectors for word representation, which was developed by researchers at Stanford University to generate word embeddings from corpus statistics.\n",
    "The statistics of the corpus are represented by a co-occurrence matrix, indicating how often a particular word pair occurs together.\n",
    "GloVe is based on ratios of probabilities from this co-occurrence matrix, combining the intuitions of count-based models while also being similar to neural models like word2vec.\n",
    "From this matrix, one can compute the co-occurrence probabilities. We motivate this with an example:\n",
    "\n",
    "$P_{ik} = P(i,j)$ -> co-occurrence probability or joint probability of words $i$ and $k$\n",
    "\n",
    "$P_{jk}$ ->co-occurrence probability of words $j$ and $k$\n",
    "\n",
    "$\\frac{P_{ik}}{P_{jk}}$-> corelation between $i$ and $j$ with the prob word $k$\n",
    "\n",
    "This ratio gives us some insight into the co-relation of the probe word $k$ with the words $i$ and $j$.\n",
    "An example is shown below for different prob words $k$, where $i$ and $j$ are `ice` and `steam`, respectively."
   ]
  },
  {
   "cell_type": "markdown",
   "metadata": {
    "cell_id": "1bbb4dae5beb4beabae651222c316a93",
    "deepnote_cell_type": "markdown",
    "id": "076234c5"
   },
   "source": [
    "\n",
    "![glove](https://nlp.stanford.edu/projects/glove/images/table.png)\n"
   ]
  },
  {
   "cell_type": "markdown",
   "metadata": {
    "cell_id": "a24cac6213ce4cabbbcff9053b74e2ac",
    "deepnote_cell_type": "markdown",
    "id": "3b933587"
   },
   "source": [
    "Image taken from Stanford NLP."
   ]
  },
  {
   "cell_type": "markdown",
   "metadata": {
    "cell_id": "4af664b4603d4aa0a52783311c0d3834",
    "deepnote_cell_type": "markdown",
    "id": "76e8f6f0"
   },
   "source": [
    "Compared to the raw probabilities, the ratio of probabilities is better able to distinguish relevant words from irrelevant words. Consider the raw probabilities (the first two rows), the values are close to one another and not indicative of the relationships. However, the ratios have more distinct values.\n",
    "\n",
    "This ratio can be small, large, or equal to 1 depending on the prob word and their co-relation. In the example above, the ratio between ice and steam for `k=solid` is large and for `k=gas` is small, indicating that `solid` is related to ice but `gas` is irrelevant. On the other hand, `water` is not a discriminating element between them, and therefore the ratio is close to one. The same applies to an irrelevant word like `fashion`.\n",
    "\n",
    "The GloVe model is built on the idea that the \"ratio of conditional probabilities represents the word meanings\" and a neural model is trained to estimate this conditional probability.\n",
    "\n",
    "$F(w_i,w_j,\\tilde{w_k})=\\frac{P_ik}{P_jk}$ -> the right-hand side is computed from the corpus statistics, $w$ is the word vector and $\\tilde{w_k}$ is the context vector\n",
    "\n",
    "The GloVe model embeds the words in a vector space and claims that the difference between them (distinguishing factor) is hidden in the ratio of probabilities. In vector space, the best way to encode this is by vector differences.\n",
    "\n",
    "$F((w_i-w_j),\\tilde{w_k})=\\frac{P_ik}{P_jk}$\n",
    "\n",
    "At this point, the left-hand side is a vector and the right-hand side is a scalar showing the similarity of i and j with the context word k.\n",
    "For both sides to match and to encode the similarity in the vector space, the left-hand side becomes a dot product.\n",
    "\n",
    "$F((w_i-w_j)^{T}.\\tilde{w_k})=\\frac{P_ik}{P_jk}=\\frac{F(w_i.\\tilde{w_k})}{F(w_j.\\tilde{w_k})} $\n",
    "\n",
    "$F(w_i.\\tilde{w_k})=\\frac{X_{ik}}{X_{i}}$ -> where $X$ is drived from the co-occurrences matrix\n",
    "\n",
    "To satisfy a symmetrical relationship (a.k.a. relation(a, b) = relation(b, a)), $F$ is chosen to be an exponential function, $F(x)=exp(x)$. As a result:\n",
    "\n",
    "$w_i.\\tilde{w_k} = log(P_{ik} ) = log(X_{ik} ) − log(X_{i})$\n",
    "\n",
    "$log(X_{i})$ is independent of $k$ and can be absored into a bias term.\n",
    "\n",
    "$w_i.\\tilde{w_k} = log(P_{ik} ) + b_i +\\tilde{b_k} = log(X_{ik} )$\n",
    "\n",
    "After some weighting and alterations the final cost function, based on the weighted least squares regression model is as follows:\n",
    "\n",
    "$J= \\Sigma^{V}_{i,j=1} f(X_{ij})(w_i.w_j+ b_i +b_j)-log(X_{ik})$\n",
    "\n",
    "For a detailed overview refer to the original paper: https://nlp.stanford.edu/pubs/glove.pdf\n",
    "You need to read and understand the GloVe model to solve this exercise.\n"
   ]
  },
  {
   "cell_type": "markdown",
   "metadata": {
    "cell_id": "d18592954c2f43589f1b553dee3eb66e",
    "deepnote_cell_type": "markdown",
    "id": "0d71fbc8"
   },
   "source": [
    "### Subtask 1: Cost function"
   ]
  },
  {
   "cell_type": "markdown",
   "metadata": {
    "cell_id": "193122ad29574a278b45cb0441edf95d",
    "deepnote_cell_type": "markdown",
    "id": "174acc1f"
   },
   "source": [
    "Read the paper and describe the following, in your own words:\n",
    "\n",
    " 1. The intuition behind the weighting schema in the cost function.\n",
    "\n",
    " 2. How does the objective function of GloVe relate to the objective function of the (word2vec) skip-gram model?"
   ]
  },
  {
   "cell_type": "markdown",
   "metadata": {},
   "source": [
    "**Answer**\n",
    "1. The weighting schema can be intuitively described as reducing the influence of extremely frequent words while maintaining the influence of rare words in a given context. Therefore the weighting scheme is based on the context words co-occurences. This is relevant, since extremely frequent words are not neccessarily important to the sentences meaning. The weighting function is a generic alternative to word filtering, which can improve performance for instance word2vec.\n",
    "2. Both objective functions aim to predict co-occurence probabilities, whereas the GloVe is based on the global co-occurences and word2vec fixed to a local and limited context window."
   ]
  },
  {
   "cell_type": "markdown",
   "metadata": {
    "cell_id": "a507b0ae2dca40289bf21e6a236ec901",
    "deepnote_cell_type": "markdown",
    "id": "988ae19d"
   },
   "source": [
    "### Subtask 2: Build Co-occurence matrix\n"
   ]
  },
  {
   "cell_type": "markdown",
   "metadata": {
    "cell_id": "60138a8f9b4d49a1ace89f5af783f7f0",
    "deepnote_cell_type": "markdown",
    "id": "edca833e"
   },
   "source": [
    "We use the same dataset as the first task and use the `quotes` as the corpus to build the co-occurrences matrix. Similar to the first task we use the `phrases` to transform our input and extract the vocabulary."
   ]
  },
  {
   "cell_type": "code",
   "execution_count": 1,
   "metadata": {
    "cell_id": "21adcd9b357d4502ab675284c266f7f2",
    "deepnote_cell_type": "code",
    "id": "bca0b788"
   },
   "outputs": [],
   "source": [
    "import numpy as np\n",
    "from scipy import sparse\n",
    "from math import log\n",
    "from itertools import chain\n",
    "from collections import Counter\n",
    "from tqdm import tqdm\n",
    "import spacy\n",
    "import re\n",
    "import pandas as pd"
   ]
  },
  {
   "cell_type": "markdown",
   "metadata": {
    "cell_id": "fa664f53d96f4ce4825e3c8f915968df",
    "deepnote_cell_type": "markdown",
    "id": "dacc60e8"
   },
   "source": [
    "Complete the function to create dictionaries used for mapping ids to words and words to ids, and a dictionary that counts the number of occurrences of each word. The first two dictionaries are used to map indices in vector space to words and back, and the third dictionary contains the counts of the corpus statistics."
   ]
  },
  {
   "cell_type": "code",
   "execution_count": 2,
   "metadata": {},
   "outputs": [
    {
     "name": "stdout",
     "output_type": "stream",
     "text": [
      "Shape of data before filtering: (60291, 6)\n",
      "Shape of data after filtering: (60291, 6)\n"
     ]
    },
    {
     "data": {
      "text/html": [
       "<div>\n",
       "<style scoped>\n",
       "    .dataframe tbody tr th:only-of-type {\n",
       "        vertical-align: middle;\n",
       "    }\n",
       "\n",
       "    .dataframe tbody tr th {\n",
       "        vertical-align: top;\n",
       "    }\n",
       "\n",
       "    .dataframe thead th {\n",
       "        text-align: right;\n",
       "    }\n",
       "</style>\n",
       "<table border=\"1\" class=\"dataframe\">\n",
       "  <thead>\n",
       "    <tr style=\"text-align: right;\">\n",
       "      <th></th>\n",
       "      <th>author</th>\n",
       "      <th>episode_number</th>\n",
       "      <th>episode_title</th>\n",
       "      <th>quote</th>\n",
       "      <th>quote_order</th>\n",
       "      <th>season</th>\n",
       "    </tr>\n",
       "  </thead>\n",
       "  <tbody>\n",
       "    <tr>\n",
       "      <th>0</th>\n",
       "      <td>Monica</td>\n",
       "      <td>1.0</td>\n",
       "      <td>Monica Gets A Roommate</td>\n",
       "      <td>There's nothing to tell! He's just some guy I ...</td>\n",
       "      <td>0.0</td>\n",
       "      <td>1.0</td>\n",
       "    </tr>\n",
       "    <tr>\n",
       "      <th>1</th>\n",
       "      <td>Joey</td>\n",
       "      <td>1.0</td>\n",
       "      <td>Monica Gets A Roommate</td>\n",
       "      <td>C'mon, you're going out with the guy! There's ...</td>\n",
       "      <td>1.0</td>\n",
       "      <td>1.0</td>\n",
       "    </tr>\n",
       "    <tr>\n",
       "      <th>2</th>\n",
       "      <td>Chandler</td>\n",
       "      <td>1.0</td>\n",
       "      <td>Monica Gets A Roommate</td>\n",
       "      <td>All right Joey, be nice. So does he have a hum...</td>\n",
       "      <td>2.0</td>\n",
       "      <td>1.0</td>\n",
       "    </tr>\n",
       "    <tr>\n",
       "      <th>3</th>\n",
       "      <td>Phoebe</td>\n",
       "      <td>1.0</td>\n",
       "      <td>Monica Gets A Roommate</td>\n",
       "      <td>Wait, does he eat chalk?</td>\n",
       "      <td>3.0</td>\n",
       "      <td>1.0</td>\n",
       "    </tr>\n",
       "    <tr>\n",
       "      <th>4</th>\n",
       "      <td>Phoebe</td>\n",
       "      <td>1.0</td>\n",
       "      <td>Monica Gets A Roommate</td>\n",
       "      <td>Just, 'cause, I don't want her to go through w...</td>\n",
       "      <td>4.0</td>\n",
       "      <td>1.0</td>\n",
       "    </tr>\n",
       "    <tr>\n",
       "      <th>5</th>\n",
       "      <td>Monica</td>\n",
       "      <td>1.0</td>\n",
       "      <td>Monica Gets A Roommate</td>\n",
       "      <td>Okay, everybody relax. This is not even a date...</td>\n",
       "      <td>5.0</td>\n",
       "      <td>1.0</td>\n",
       "    </tr>\n",
       "    <tr>\n",
       "      <th>6</th>\n",
       "      <td>Chandler</td>\n",
       "      <td>1.0</td>\n",
       "      <td>Monica Gets A Roommate</td>\n",
       "      <td>Sounds like a date to me.</td>\n",
       "      <td>6.0</td>\n",
       "      <td>1.0</td>\n",
       "    </tr>\n",
       "    <tr>\n",
       "      <th>7</th>\n",
       "      <td>Chandler</td>\n",
       "      <td>1.0</td>\n",
       "      <td>Monica Gets A Roommate</td>\n",
       "      <td>Alright, so I'm back in high school, I'm stand...</td>\n",
       "      <td>7.0</td>\n",
       "      <td>1.0</td>\n",
       "    </tr>\n",
       "    <tr>\n",
       "      <th>8</th>\n",
       "      <td>All</td>\n",
       "      <td>1.0</td>\n",
       "      <td>Monica Gets A Roommate</td>\n",
       "      <td>Oh, yeah. Had that dream.</td>\n",
       "      <td>8.0</td>\n",
       "      <td>1.0</td>\n",
       "    </tr>\n",
       "    <tr>\n",
       "      <th>9</th>\n",
       "      <td>Chandler</td>\n",
       "      <td>1.0</td>\n",
       "      <td>Monica Gets A Roommate</td>\n",
       "      <td>Then I look down, and I realize there's a phon...</td>\n",
       "      <td>9.0</td>\n",
       "      <td>1.0</td>\n",
       "    </tr>\n",
       "  </tbody>\n",
       "</table>\n",
       "</div>"
      ],
      "text/plain": [
       "     author  episode_number           episode_title  \\\n",
       "0    Monica             1.0  Monica Gets A Roommate   \n",
       "1      Joey             1.0  Monica Gets A Roommate   \n",
       "2  Chandler             1.0  Monica Gets A Roommate   \n",
       "3    Phoebe             1.0  Monica Gets A Roommate   \n",
       "4    Phoebe             1.0  Monica Gets A Roommate   \n",
       "5    Monica             1.0  Monica Gets A Roommate   \n",
       "6  Chandler             1.0  Monica Gets A Roommate   \n",
       "7  Chandler             1.0  Monica Gets A Roommate   \n",
       "8       All             1.0  Monica Gets A Roommate   \n",
       "9  Chandler             1.0  Monica Gets A Roommate   \n",
       "\n",
       "                                               quote  quote_order  season  \n",
       "0  There's nothing to tell! He's just some guy I ...          0.0     1.0  \n",
       "1  C'mon, you're going out with the guy! There's ...          1.0     1.0  \n",
       "2  All right Joey, be nice. So does he have a hum...          2.0     1.0  \n",
       "3                           Wait, does he eat chalk?          3.0     1.0  \n",
       "4  Just, 'cause, I don't want her to go through w...          4.0     1.0  \n",
       "5  Okay, everybody relax. This is not even a date...          5.0     1.0  \n",
       "6                          Sounds like a date to me.          6.0     1.0  \n",
       "7  Alright, so I'm back in high school, I'm stand...          7.0     1.0  \n",
       "8                          Oh, yeah. Had that dream.          8.0     1.0  \n",
       "9  Then I look down, and I realize there's a phon...          9.0     1.0  "
      ]
     },
     "execution_count": 2,
     "metadata": {},
     "output_type": "execute_result"
    }
   ],
   "source": [
    "FRIENDS_PATH = \"friends_quotes.csv\"\n",
    "\n",
    "df = pd.read_csv(FRIENDS_PATH)\n",
    "print(f\"Shape of data before filtering: {df.shape}\")\n",
    "\n",
    "# Drop rows with any null values\n",
    "df = df.dropna()\n",
    "\n",
    "# Replace empty strings with NaN and then drop those rows\n",
    "df = df.replace('', float('nan')).dropna()\n",
    "\n",
    "# Reset the index after dropping rows\n",
    "df = df.reset_index(drop=True)\n",
    "print(f\"Shape of data after filtering: {df.shape}\")\n",
    "\n",
    "df.head(10)"
   ]
  },
  {
   "cell_type": "code",
   "execution_count": 3,
   "metadata": {},
   "outputs": [
    {
     "name": "stderr",
     "output_type": "stream",
     "text": [
      "/Users/leonremke/miniconda3/envs/bomberman/lib/python3.11/site-packages/spacy/pipeline/lemmatizer.py:211: UserWarning: [W108] The rule-based lemmatizer did not find POS annotation for one or more tokens. Check that your pipeline includes components that assign token.pos, typically 'tagger'+'attribute_ruler' or 'morphologizer'.\n",
      "  warnings.warn(Warnings.W108)\n"
     ]
    },
    {
     "name": "stdout",
     "output_type": "stream",
     "text": [
      "Number of quotes after filtering None: 57196\n"
     ]
    }
   ],
   "source": [
    "nlp = spacy.load(\"en_core_web_sm\", disable=[\"tagger\", \"parser\",\"ner\"])\n",
    "stopwords = spacy.lang.en.stop_words.STOP_WORDS\n",
    "\n",
    "def preprocess(doc):\n",
    "    # Remove stopwords and single characters\n",
    "    tokens = [token.text for token in doc if token.text not in stopwords and len(token.text) > 1]\n",
    "\n",
    "    # Use regex to remove non-alphabetic characters\n",
    "    tokens = [re.sub(r'[^a-zA-Z0-9]', '', token) for token in tokens]\n",
    "\n",
    "    # Filter None Types \n",
    "    tokens = [token for token in tokens if token]\n",
    "\n",
    "    # if len(tokens) > 3:\n",
    "    return ' '.join(tokens)\n",
    "\n",
    "# lower qoutes \n",
    "lowercased_qoutes = df[\"quote\"].str.lower().tolist()\n",
    "\n",
    "quotes = [preprocess(doc) for doc in nlp.pipe(lowercased_qoutes)]\n",
    "\n",
    "# none_count = 0\n",
    "# for quote in quotes:\n",
    "#     if quote is None:\n",
    "#         none_count += 1\n",
    "# print(f\"Number of quotes that are None due to less than three tokens: {none_count}\")\n",
    "\n",
    "# Filter None Types\n",
    "quotes = [quote for quote in quotes if quote]\n",
    "print(f\"Number of quotes after filtering None: {len(quotes)}\")"
   ]
  },
  {
   "cell_type": "code",
   "execution_count": 4,
   "metadata": {},
   "outputs": [
    {
     "name": "stdout",
     "output_type": "stream",
     "text": [
      "Number of quotes that contain 'central perk': 36\n"
     ]
    }
   ],
   "source": [
    "#Check if central or perk is included in preprocessed quotes:\n",
    "central_perk = [line for line in quotes if 'central' in line and 'perk' in line]\n",
    "print(f\"Number of quotes that contain 'central perk': {len(central_perk)}\")"
   ]
  },
  {
   "cell_type": "code",
   "execution_count": 5,
   "metadata": {},
   "outputs": [
    {
     "name": "stdout",
     "output_type": "stream",
     "text": [
      "First 10 quotes:'\n",
      "\n",
      "['tell guy work', 'cm going guy got ta wrong', 'right joey nice hump hump hairpiece', 'wait eat chalk', 'cause want went carl oh', 'okay everybody relax date people going dinner and having sex', 'sounds like date', 'alright high school standing middle cafeteria realize totally naked', 'oh yeah dream', 'look realize phone']\n"
     ]
    }
   ],
   "source": [
    "print(\"First 10 quotes:'\\n\")\n",
    "print(quotes[:10])"
   ]
  },
  {
   "cell_type": "code",
   "execution_count": 6,
   "metadata": {
    "cell_id": "cc93449a51b043fd9e5217ab27face75",
    "deepnote_cell_type": "code",
    "id": "09dc3179"
   },
   "outputs": [],
   "source": [
    "from gensim.models.phrases import Phrases\n",
    "\n",
    "def tokenize(sentence):\n",
    "    # Basic whitespace tokenizer\n",
    "    return sentence.split(\" \")\n",
    "\n",
    "def create_vocab(corpus):\n",
    "    \"\"\"\n",
    "    Build a vocabulary containing the frequencies\n",
    "    corpus: the list of tokenized lines form the corpus\n",
    "\n",
    "    Returns dictionaries `word` -> (index or unique identified), frequency)`\n",
    "    and `word` -> (index or unique identified)\n",
    "    and index or unique identified -> `word`\n",
    "    and length of the vocab\n",
    "    \"\"\"\n",
    "  \n",
    "    word_count_dict = {}  # word id to the number of time it appears\n",
    "    id_to_word = {}  # mapping ids to words\n",
    "    word_to_id = {}  # mapping words to ids\n",
    "    \n",
    "    # Tokenize the input corpus into list of words\n",
    "\n",
    "    # Tokenize the input corpus into list of words\n",
    "    tokenized_corpus = [tokenize(line) for line in corpus]\n",
    "    \n",
    "    # bigram model\n",
    "    # Prepare quotes for Phrases\n",
    "    phrases = Phrases(tokenized_corpus, min_count=10)\n",
    "    # Check if bigrams worked\n",
    "    print(f\"Number of phrases: {len(phrases.vocab)}\")\n",
    "    # Get a list of all the lines\n",
    "    lines = list(phrases[tokenized_corpus])\n",
    "\n",
    "    # flatten the list of lists into a single list of words\n",
    "    words = [word for sentence in lines for word in sentence]\n",
    "\n",
    "    # frequency of each word\n",
    "    word_freq = {}\n",
    "    for word in words:\n",
    "        if word in word_freq:\n",
    "            word_freq[word] += 1\n",
    "        else:\n",
    "            word_freq[word] = 1\n",
    "\n",
    "    # Iterate over word_count dict and add words to vocab\n",
    "    for idx, (word, freq) in enumerate(word_freq.items()):\n",
    "        # Add word to vocab dictionary\n",
    "        word_to_id[word] = idx\n",
    "        # Add word to id_to_word dictionary\n",
    "        id_to_word[idx] = word\n",
    "        # Add frequency\n",
    "        word_count_dict[idx] = freq\n",
    "    return word_count_dict, id_to_word, word_to_id, len(word_count_dict), lines\n"
   ]
  },
  {
   "cell_type": "code",
   "execution_count": 10,
   "metadata": {
    "cell_id": "3688bc20f4c840fc850daaa13d9dde90",
    "deepnote_cell_type": "code",
    "id": "9fb4ca54"
   },
   "outputs": [
    {
     "name": "stdout",
     "output_type": "stream",
     "text": [
      "Number of phrases: 171526\n"
     ]
    }
   ],
   "source": [
    "word_count_dict, id_to_word,word_to_id, vocab_size, tokenized_lines =create_vocab(quotes)"
   ]
  },
  {
   "cell_type": "markdown",
   "metadata": {
    "cell_id": "50ea0eb3747944059b9c8b3a018a0fcd",
    "deepnote_cell_type": "markdown",
    "id": "GlX4ugx88_v7"
   },
   "source": [
    "If you have done the exercise correctly, you have `15333` tokens in the vocabulary, and the number of occurrences for `joey` is `1951` and for `central_perk` is `36`"
   ]
  },
  {
   "cell_type": "code",
   "execution_count": 11,
   "metadata": {
    "cell_id": "491f4672ae5c47508074df7a1d74a8a2",
    "deepnote_cell_type": "code",
    "id": "c8b31695"
   },
   "outputs": [
    {
     "name": "stdout",
     "output_type": "stream",
     "text": [
      "number of occurrences for joey: 2308\n",
      "number of occurrences for central perk: 37\n",
      "vocab size is: 17646\n"
     ]
    }
   ],
   "source": [
    "print(\"number of occurrences for joey:\",word_count_dict[word_to_id['joey']])\n",
    "print(\"number of occurrences for central perk:\",word_count_dict[word_to_id['central_perk']])\n",
    "print(\"vocab size is:\",vocab_size)"
   ]
  },
  {
   "cell_type": "code",
   "execution_count": 12,
   "metadata": {
    "cell_id": "27c3b68d90fe4589a4b3e33b552603a9",
    "deepnote_cell_type": "code",
    "id": "b027280a"
   },
   "outputs": [],
   "source": [
    "def calculate_weight(cooccurrences, context_word_ids, center_word_id, side):\n",
    "    \"\"\"\n",
    "    Calculate the weight in the co-occurrence matrix based on the distance of a word\n",
    "    to the center word\n",
    "    sentence = [I, went, to , the, bank]\n",
    "    Let center word be \"to\" and window size =2\n",
    "    left_context =[I,went]\n",
    "    right_context = [the,bank]\n",
    "\n",
    "    Weights:\n",
    "    1/distance-> `went` and `the` have weight of 1 and `I` and `bank` have weight of 1/2\n",
    "    \"\"\"\n",
    "\n",
    "    if side == \"left_context\":\n",
    "        context_word_ids.reverse()\n",
    "\n",
    "      ## adjust the weight of the matrix to 1/distance between the center word and context word, where center word will act as the row and the context word is the column##\n",
    "\n",
    "    for idx, context_word_id in enumerate(context_word_ids):\n",
    "        distance = abs(idx + 1)\n",
    "        if distance == 0:\n",
    "            weight = 1\n",
    "        weight = 1 / distance\n",
    "        cooccurrences[center_word_id, context_word_id] += weight\n",
    "\n",
    "    return cooccurrences\n",
    "\n"
   ]
  },
  {
   "cell_type": "markdown",
   "metadata": {
    "cell_id": "e5ce97690ed84843aac576a50e5c7de3",
    "deepnote_cell_type": "markdown",
    "id": "MUF8zXO59P3b"
   },
   "source": [
    "The weight of first to second element on the example matrix should be `1.0`."
   ]
  },
  {
   "cell_type": "code",
   "execution_count": 13,
   "metadata": {
    "cell_id": "5b243d10b4704634b6fb6de59147e333",
    "deepnote_cell_type": "code",
    "id": "d7c32c0e"
   },
   "outputs": [
    {
     "name": "stdout",
     "output_type": "stream",
     "text": [
      "weight of id=0 to id=1 : 1.0\n"
     ]
    }
   ],
   "source": [
    "cooccurrences = sparse.lil_matrix((10, 10),dtype=np.float64)\n",
    "calculate_weight(cooccurrences, [1,3,5], 0, side=\"right_context\")\n",
    "print(\"weight of id=0 to id=1 :\",cooccurrences[0,1])"
   ]
  },
  {
   "cell_type": "markdown",
   "metadata": {
    "cell_id": "45d1ac1423a24de28cf91dfd34ffd516",
    "deepnote_cell_type": "markdown",
    "id": "0ede37e8"
   },
   "source": [
    "We build co-occurrence as a sparse matrix to speed up the computation. The original matrix is a square matrix in the size of the vocabulary. However, many words do not co-occur with one another and we do not need to store those elements."
   ]
  },
  {
   "cell_type": "code",
   "execution_count": 14,
   "metadata": {
    "cell_id": "3fc6b1e02c38406b96444da7ed45c2d7",
    "deepnote_cell_type": "code",
    "id": "d63f39e7"
   },
   "outputs": [],
   "source": [
    "def build_cooccur(corpus, window_size=3, min_count=5):\n",
    "    \"\"\"\n",
    "    Create a coocurrance matrix given a corpus\n",
    "    corpus: the list of tokenized lines form the corpus\n",
    "    window_size: how many words to right and left to consider\n",
    "\n",
    "    Returns the co-oocurrance sparse matrix\n",
    "    \"\"\"\n",
    "    vocab, id_to_word,word_to_id, vocab_size, tokenized_lines = create_vocab(corpus)\n",
    "\n",
    "    #sparse lil_matrix is optimized to operate on matrix which mostly has zeros.\n",
    "    cooccurrences = sparse.lil_matrix((vocab_size, vocab_size),dtype=np.float64)\n",
    "\n",
    "    for line in tokenized_lines:\n",
    "        word_ids = [word_to_id[word] for word in line]\n",
    "\n",
    "        for i, central_word_id in enumerate(word_ids):\n",
    "\n",
    "            # left_context_word_ids = [word_ids[j] for j in range(max(i - window_size, 0), i)]\n",
    "            left_context_word_ids = [word_ids[j] for j in range(max(i - window_size, 0), i)]\n",
    "\n",
    "            #right side context\n",
    "            # right_context_word_ids = [word_ids[j] for j in range(i, min(i + window_size, len(word_ids)))]\n",
    "            # right_context_word_ids = [j for j in range(i + 1, min(i + window_size, len(word_ids)))]\n",
    "            right_context_word_ids = [word_ids[j] for j in range(i + 1, min(i + window_size + 1, len(word_ids)))]\n",
    "\n",
    "\n",
    "            ###update the matrix based on the distance weights on both sides###\n",
    "            # Todo: pass over center_word_id or index? IF newly makes no sence with distances...\n",
    "            if i > 0:\n",
    "                cooccurrences = calculate_weight(cooccurrences, left_context_word_ids, central_word_id, side=\"left_context\")\n",
    "            if i < len(word_ids) - 1:\n",
    "                cooccurrences = calculate_weight(cooccurrences, right_context_word_ids, central_word_id, side=\"right_context\")\n",
    "\n",
    "    # go into the LiL-matrix to quickly iterate through all nonzero cells and filter out the ones with minimum count\n",
    "    cooccurrences_tuples = []\n",
    "    for i, (row, data) in enumerate(zip(cooccurrences.rows,cooccurrences.data)):\n",
    "        for j, d in zip(row, data):\n",
    "            if d >= min_count:\n",
    "                cooccurrences_tuples.append((i, j, d))\n",
    "\n",
    "      ## check if the min_count condition is statisfied and then add the elements as the tuple of (i,j,weight)###\n",
    "    return cooccurrences_tuples\n"
   ]
  },
  {
   "cell_type": "markdown",
   "metadata": {
    "cell_id": "596886637b814aa5abfe304002bf153b",
    "deepnote_cell_type": "markdown",
    "id": "f3aba5bd"
   },
   "source": [
    "Build a matrix with a window_size of 3 words, and the minimum number of times a word has to occur to be part of the matrix is 10."
   ]
  },
  {
   "cell_type": "code",
   "execution_count": 15,
   "metadata": {
    "cell_id": "55763935390b4d2eb5ad8614ebc4fcc1",
    "deepnote_cell_type": "code",
    "id": "69c198e0",
    "scrolled": true
   },
   "outputs": [
    {
     "name": "stdout",
     "output_type": "stream",
     "text": [
      "Number of phrases: 171526\n"
     ]
    },
    {
     "data": {
      "text/plain": [
       "(2, 20, 16.16666666666667)"
      ]
     },
     "execution_count": 15,
     "metadata": {},
     "output_type": "execute_result"
    }
   ],
   "source": [
    "matrix=build_cooccur(quotes, window_size=3, min_count=10)\n",
    "matrix[103]"
   ]
  },
  {
   "cell_type": "markdown",
   "metadata": {
    "cell_id": "954044b6b6fa4a828697f4876885789f",
    "deepnote_cell_type": "markdown",
    "id": "82cc1256"
   },
   "source": [
    "### Subtask 3: Modelling and Training\n"
   ]
  },
  {
   "cell_type": "markdown",
   "metadata": {
    "cell_id": "ac6ae22537da467cb0fceb6e52e3606b",
    "deepnote_cell_type": "markdown",
    "id": "91764831"
   },
   "source": [
    "We initialize the weights for the context and center words and learn the vectors through backprop, using the GloVe cost function.\n",
    "Make sure you use the correct weighting schema."
   ]
  },
  {
   "cell_type": "code",
   "execution_count": 16,
   "metadata": {
    "cell_id": "b3212a7313b641d2bfe7e79fec1f059e",
    "deepnote_cell_type": "code",
    "id": "05251525"
   },
   "outputs": [],
   "source": [
    "# Random normal weights intialization\n",
    "np.random.seed(77)# we set a seed to have similar results\n",
    "def init_weights(vocab_size, hidden):\n",
    "     #Each word has a center word vector and a context vector.\n",
    "     # initilize the correct size vector\n",
    "    W_center = np.random.randn(vocab_size, hidden)\n",
    "    # initilize the correct size vector\n",
    "    b_center = np.random.randn(vocab_size)\n",
    "    # initilize the correct size vector\n",
    "    W_context = np.random.randn(vocab_size, hidden)\n",
    "    # initilize the correct size vector\n",
    "    b_context = np.random.randn(vocab_size)\n",
    "    return W_center, b_center, W_context, b_context"
   ]
  },
  {
   "cell_type": "markdown",
   "metadata": {
    "cell_id": "e3329af4ab3442d9a0c078909df574ba",
    "deepnote_cell_type": "markdown",
    "id": "y-mcYRis9wet"
   },
   "source": [
    "keep track of `W_center[0,1]` as it should change based on backprop in the next cells."
   ]
  },
  {
   "cell_type": "code",
   "execution_count": 17,
   "metadata": {
    "cell_id": "b2cfad807c304662a4a5290d4699bc4c",
    "deepnote_cell_type": "code",
    "id": "b2f31560"
   },
   "outputs": [
    {
     "name": "stdout",
     "output_type": "stream",
     "text": [
      "check the shapes to make sure the matrices have correct sizes:\n",
      "(100, 32)\n",
      "(100,)\n",
      "(100, 32)\n",
      "(100,)\n",
      "Look at the value of this element and how it changes with back prob:\n",
      "0.6615314728168009\n"
     ]
    }
   ],
   "source": [
    "W_center, b_center, W_context, b_context=init_weights(100, 32)\n",
    "print(\"check the shapes to make sure the matrices have correct sizes:\")\n",
    "print(W_center.shape)\n",
    "print(b_center.shape)\n",
    "print(W_context.shape)\n",
    "print(b_context.shape)\n",
    "print(\"Look at the value of this element and how it changes with back prob:\")\n",
    "print(W_center[0,1])"
   ]
  },
  {
   "cell_type": "markdown",
   "metadata": {
    "cell_id": "443396a70ae841bcafc004284780d337",
    "deepnote_cell_type": "markdown",
    "id": "gae189dl-ZZo"
   },
   "source": [
    "Write a training script for the GloVe model that goes over the entire co-occurrence matrix given a number of epochs."
   ]
  },
  {
   "cell_type": "code",
   "execution_count": 18,
   "metadata": {},
   "outputs": [],
   "source": [
    "import math\n",
    "import sys\n",
    "\n",
    "def check_nan(update):\n",
    "    if math.isnan(update) or math.isinf(update):\n",
    "        sys.stderr.write(\"\\ncaught NaN in update\")\n",
    "        return 0.0\n",
    "    else:\n",
    "        return update\n"
   ]
  },
  {
   "cell_type": "code",
   "execution_count": 20,
   "metadata": {
    "cell_id": "c6f041f3838540a893ebe7bc4d6e1add",
    "deepnote_cell_type": "code",
    "id": "8669b4fb"
   },
   "outputs": [],
   "source": [
    "# Back Propagation\n",
    "def back_prop(W_center, b_center, W_context, b_context, matrix, x_max,  vocab_size, learning_rate, alpha=2):\n",
    "    \"\"\"\n",
    "    W_center, b_center: weight and bias of the center word\n",
    "    W_context, b_context: weight and bias of the context word\n",
    "    vocab_size: vocabulary size\n",
    "    x_max: define our weighting function when computing the cost for two word pairs; see the GloVe paper for more\n",
    "    details.\n",
    "    matrix: coocurrance matrix\n",
    "    alpha: the power of x_max function\n",
    "    learning_rate: learning rate for gradient descent\n",
    "    \"\"\"\n",
    "\n",
    "    global_cost = 0\n",
    "    grad_squared_center = np.zeros_like(W_center)\n",
    "    grad_squared_context = np.zeros_like(W_context)\n",
    "    grad_squared_bias_center = np.zeros_like(b_center)\n",
    "    grad_squared_bias_context = np.zeros_like(b_context)\n",
    "\n",
    "    for i, j, cooccurrence in matrix:\n",
    "        weight = ((cooccurrence/x_max)**alpha if(cooccurrence < x_max) else 1)\n",
    "        # Compute inner component of cost function  J' = w_i^Tw_j + b_i + b_j - log(X_{ij})\n",
    "        # print(\"weight i transposed:\",W_context[j].T, \"\\n\", W_context[j])\n",
    "        diff_j_prime = np.dot(W_center[i], W_context[j]) + b_center[i] + b_context[j] - np.log(cooccurrence)\n",
    "\n",
    "        ##Compute cost J = f(X_{ij}) (J')^2##\n",
    "        cost_j = weight * (diff_j_prime**2)\n",
    "\n",
    "        # Check for NaN and Infinity values in the diffs\n",
    "        if np.isnan(diff_j_prime) or np.isinf(diff_j_prime):\n",
    "            print(f\"Encountered NaN/Infinity value in diff_j_prime, setting to 0.\")\n",
    "            continue\n",
    "        \n",
    "        global_cost += cost_j\n",
    "        ##Compute gradients for word vectors##\n",
    "        grad_center = diff_j_prime * W_context[j]\n",
    "        grad_context = diff_j_prime * W_center[i]\n",
    "\n",
    "        ##Compute gradients for bias terms##\n",
    "        grad_bias_center = diff_j_prime\n",
    "        grad_bias_context = diff_j_prime\n",
    "\n",
    "        # Accumulate squared gradients\n",
    "        grad_squared_center[i] += grad_center ** 2\n",
    "        grad_squared_context[j] += grad_context ** 2\n",
    "        grad_squared_bias_center[i] += grad_bias_center ** 2\n",
    "        grad_squared_bias_context[j] += grad_bias_context ** 2\n",
    "        \n",
    "        # Update weights with adaptive learning rates\n",
    "        W_center[i] -= learning_rate * grad_center / np.sqrt(grad_squared_center[i] + 1e-8)\n",
    "        W_context[j] -= learning_rate * grad_context / np.sqrt(grad_squared_context[j] + 1e-8)\n",
    "        b_center[i] -= learning_rate * grad_bias_center / np.sqrt(grad_squared_bias_center[i] + 1e-8)\n",
    "        b_context[j] -= learning_rate * grad_bias_context / np.sqrt(grad_squared_bias_context[j] + 1e-8)\n",
    "    return W_center, b_center, W_context, b_context, global_cost    "
   ]
  },
  {
   "cell_type": "markdown",
   "metadata": {
    "cell_id": "478ebdea7aa6473a91dea52c82a0a5b3",
    "deepnote_cell_type": "markdown",
    "id": "sV9uZIgX95tZ"
   },
   "source": [
    "Based on the random seed, the value of `W_center[0,1]` should have changed due to backpropagation.\n"
   ]
  },
  {
   "cell_type": "code",
   "execution_count": 21,
   "metadata": {
    "cell_id": "fa7b5d34c5684883a434925bcf5775ba",
    "deepnote_cell_type": "code",
    "id": "84a467a0"
   },
   "outputs": [
    {
     "name": "stdout",
     "output_type": "stream",
     "text": [
      "cost: 0.20163369439311515\n",
      "changed value:\n",
      "0.674624772684653\n"
     ]
    }
   ],
   "source": [
    "test_matrix=[(0,1,1),(0,2,0.4),(0,3,0.9),(0,4,0.4)]\n",
    "W_center, b_center, W_context, b_context, global_cost  =back_prop(W_center, b_center, W_context, b_context, test_matrix, x_max=10,  vocab_size=100, learning_rate=0.01)\n",
    "print(\"cost:\",global_cost)\n",
    "print(\"changed value:\")\n",
    "print(W_center[0,1])"
   ]
  },
  {
   "cell_type": "markdown",
   "metadata": {
    "cell_id": "752879b8fcb64b16b7d578c04c5e911a",
    "deepnote_cell_type": "markdown",
    "id": "ULLmdXvC-QpX"
   },
   "source": [
    "\n",
    "Write a training script for the GloVe model that goes over the entire co-occurrence matrix given a number of epochs."
   ]
  },
  {
   "cell_type": "code",
   "execution_count": 22,
   "metadata": {
    "cell_id": "c2c68483bb034f458bf4c0a206ebb5c3",
    "deepnote_cell_type": "code",
    "id": "12dd535b"
   },
   "outputs": [],
   "source": [
    "def train_GloVe(matrix, vocab_size, epochs = 10, learning_rate = 0.0001, x_max = 10, hidden_dim=100):\n",
    "    \"\"\"\n",
    "    Train the glove model based the co-ocurrance matrix for a number of epochs\n",
    "    matrix: co-occcurance matrix\n",
    "    vocab_size: number of words in vocab\n",
    "    epochs: number of passes through the data\n",
    "    learning_rate: learning rate for back prop\n",
    "    x_max: parameter of the weighting function\n",
    "    hidden_dim: dimension of the vectors\n",
    "    \"\"\"\n",
    "    W_center, b_center, W_context, b_context = init_weights(vocab_size, hidden_dim)\n",
    "    for i in tqdm(range(epochs)):\n",
    "        ### perform backprop###\n",
    "        W_center, b_center, W_context, b_context, global_cost = back_prop(W_center, b_center, W_context, b_context, matrix, x_max,  vocab_size, learning_rate, alpha=0.75)\n",
    "        print(global_cost)\n",
    "    return W_center, W_context"
   ]
  },
  {
   "cell_type": "markdown",
   "metadata": {
    "cell_id": "ef5e9f0c065f4623bcab6bb9f62a9587",
    "deepnote_cell_type": "markdown",
    "id": "e0116c62"
   },
   "source": [
    "Train the model with hidden dimension of `100` and learning rate of `0.001` for a `100` epochs."
   ]
  },
  {
   "cell_type": "code",
   "execution_count": 23,
   "metadata": {
    "cell_id": "50f8db5bd4414728a7b6f24c1f93e663",
    "deepnote_cell_type": "code",
    "id": "b2355c76"
   },
   "outputs": [
    {
     "name": "stderr",
     "output_type": "stream",
     "text": [
      "  4%|▍         | 4/100 [00:00<00:06, 14.81it/s]"
     ]
    },
    {
     "name": "stdout",
     "output_type": "stream",
     "text": [
      "695391.2052786889\n",
      "684992.7537767655\n",
      "674733.9577590675\n",
      "664597.3653146222\n"
     ]
    },
    {
     "name": "stderr",
     "output_type": "stream",
     "text": [
      "  6%|▌         | 6/100 [00:00<00:06, 14.95it/s]"
     ]
    },
    {
     "name": "stdout",
     "output_type": "stream",
     "text": [
      "654594.4602677099\n",
      "644713.2477874254\n",
      "634954.6228464773\n",
      "625321.2992252586\n"
     ]
    },
    {
     "name": "stderr",
     "output_type": "stream",
     "text": [
      " 12%|█▏        | 12/100 [00:00<00:05, 14.98it/s]"
     ]
    },
    {
     "name": "stdout",
     "output_type": "stream",
     "text": [
      "615828.5351777349\n",
      "606434.1477521994\n",
      "597163.4979821568\n",
      "588014.9247765286\n"
     ]
    },
    {
     "name": "stderr",
     "output_type": "stream",
     "text": [
      " 16%|█▌        | 16/100 [00:01<00:05, 15.05it/s]"
     ]
    },
    {
     "name": "stdout",
     "output_type": "stream",
     "text": [
      "578976.7172235975\n",
      "570062.2269141058\n",
      "561260.5739807851\n",
      "552559.7179360389\n"
     ]
    },
    {
     "name": "stderr",
     "output_type": "stream",
     "text": [
      " 20%|██        | 20/100 [00:01<00:05, 15.11it/s]"
     ]
    },
    {
     "name": "stdout",
     "output_type": "stream",
     "text": [
      "543984.1961195192\n",
      "535512.60719379\n",
      "527131.9134109158\n",
      "518892.72447807644\n"
     ]
    },
    {
     "name": "stderr",
     "output_type": "stream",
     "text": [
      " 24%|██▍       | 24/100 [00:01<00:05, 15.01it/s]"
     ]
    },
    {
     "name": "stdout",
     "output_type": "stream",
     "text": [
      "510748.7642707005\n",
      "502702.67004000075\n",
      "494775.3996178506\n",
      "486955.17169885425\n"
     ]
    },
    {
     "name": "stderr",
     "output_type": "stream",
     "text": [
      " 28%|██▊       | 28/100 [00:01<00:04, 14.98it/s]"
     ]
    },
    {
     "name": "stdout",
     "output_type": "stream",
     "text": [
      "479212.0677417723\n",
      "471584.79303952877\n",
      "464049.2861284379\n",
      "456634.22249332047\n"
     ]
    },
    {
     "name": "stderr",
     "output_type": "stream",
     "text": [
      " 30%|███       | 30/100 [00:02<00:04, 15.01it/s]"
     ]
    },
    {
     "name": "stdout",
     "output_type": "stream",
     "text": [
      "449285.34033387544\n",
      "442054.8502836274\n",
      "434914.20985491364\n",
      "427864.67738798907\n"
     ]
    },
    {
     "name": "stderr",
     "output_type": "stream",
     "text": [
      " 36%|███▌      | 36/100 [00:02<00:04, 14.99it/s]"
     ]
    },
    {
     "name": "stdout",
     "output_type": "stream",
     "text": [
      "420911.20883322577\n",
      "414051.8204455353\n",
      "407277.3018898857\n",
      "400603.99442245776\n"
     ]
    },
    {
     "name": "stderr",
     "output_type": "stream",
     "text": [
      " 40%|████      | 40/100 [00:02<00:03, 15.08it/s]"
     ]
    },
    {
     "name": "stdout",
     "output_type": "stream",
     "text": [
      "394009.04012812016\n",
      "387520.35268648854\n",
      "381106.2645080377\n",
      "374792.65874949115\n"
     ]
    },
    {
     "name": "stderr",
     "output_type": "stream",
     "text": [
      " 44%|████▍     | 44/100 [00:02<00:03, 15.14it/s]"
     ]
    },
    {
     "name": "stdout",
     "output_type": "stream",
     "text": [
      "368560.89619892323\n",
      "362417.34578515234\n",
      "356354.43995288236\n",
      "350380.1964251968\n"
     ]
    },
    {
     "name": "stderr",
     "output_type": "stream",
     "text": [
      " 48%|████▊     | 48/100 [00:03<00:03, 15.15it/s]"
     ]
    },
    {
     "name": "stdout",
     "output_type": "stream",
     "text": [
      "344494.18588228856\n",
      "338672.5431952512\n",
      "332947.1453251629\n",
      "327304.8713940591\n"
     ]
    },
    {
     "name": "stderr",
     "output_type": "stream",
     "text": [
      " 52%|█████▏    | 52/100 [00:03<00:03, 15.05it/s]"
     ]
    },
    {
     "name": "stdout",
     "output_type": "stream",
     "text": [
      "321726.437233444\n",
      "316254.1728214573\n",
      "310839.6217880669\n",
      "305523.28926754766\n"
     ]
    },
    {
     "name": "stderr",
     "output_type": "stream",
     "text": [
      " 56%|█████▌    | 56/100 [00:03<00:02, 15.13it/s]"
     ]
    },
    {
     "name": "stdout",
     "output_type": "stream",
     "text": [
      "300258.5106281622\n",
      "295086.36665040086\n",
      "289979.9242760956\n",
      "284941.4080667635\n"
     ]
    },
    {
     "name": "stderr",
     "output_type": "stream",
     "text": [
      " 60%|██████    | 60/100 [00:03<00:02, 15.09it/s]"
     ]
    },
    {
     "name": "stdout",
     "output_type": "stream",
     "text": [
      "279988.2364366063\n",
      "275089.70664991654\n",
      "270261.8900562369\n",
      "265521.29881672363\n"
     ]
    },
    {
     "name": "stderr",
     "output_type": "stream",
     "text": [
      " 64%|██████▍   | 64/100 [00:04<00:02, 15.10it/s]"
     ]
    },
    {
     "name": "stdout",
     "output_type": "stream",
     "text": [
      "260846.1466895673\n",
      "256236.095929909\n",
      "251695.6272926168\n",
      "247225.24104283462\n"
     ]
    },
    {
     "name": "stderr",
     "output_type": "stream",
     "text": [
      " 68%|██████▊   | 68/100 [00:04<00:02, 15.05it/s]"
     ]
    },
    {
     "name": "stdout",
     "output_type": "stream",
     "text": [
      "242805.97492645853\n",
      "238472.3019289845\n",
      "234180.66652521794\n",
      "229971.5696943434\n"
     ]
    },
    {
     "name": "stderr",
     "output_type": "stream",
     "text": [
      " 70%|███████   | 70/100 [00:04<00:01, 15.03it/s]"
     ]
    },
    {
     "name": "stdout",
     "output_type": "stream",
     "text": [
      "225808.01986992804\n",
      "221719.54625260847\n",
      "217694.75252083325\n",
      "213732.3997872285\n"
     ]
    },
    {
     "name": "stderr",
     "output_type": "stream",
     "text": [
      " 74%|███████▍  | 74/100 [00:04<00:01, 14.71it/s]"
     ]
    },
    {
     "name": "stdout",
     "output_type": "stream",
     "text": [
      "209818.14847991237\n",
      "205966.58333975816\n",
      "202185.4737216321\n"
     ]
    },
    {
     "name": "stderr",
     "output_type": "stream",
     "text": [
      " 78%|███████▊  | 78/100 [00:05<00:01, 14.75it/s]"
     ]
    },
    {
     "name": "stdout",
     "output_type": "stream",
     "text": [
      "198458.10778947335\n",
      "194776.17385811434\n",
      "191166.7262109617\n",
      "187590.3009418233\n"
     ]
    },
    {
     "name": "stderr",
     "output_type": "stream",
     "text": [
      " 82%|████████▏ | 82/100 [00:05<00:01, 14.78it/s]"
     ]
    },
    {
     "name": "stdout",
     "output_type": "stream",
     "text": [
      "184097.12119379535\n",
      "180638.38970916916\n",
      "177263.4864369638\n",
      "173924.7968949926\n"
     ]
    },
    {
     "name": "stderr",
     "output_type": "stream",
     "text": [
      " 86%|████████▌ | 86/100 [00:05<00:00, 14.77it/s]"
     ]
    },
    {
     "name": "stdout",
     "output_type": "stream",
     "text": [
      "170634.1438174592\n",
      "167407.85532640078\n",
      "164216.65662184288\n"
     ]
    },
    {
     "name": "stderr",
     "output_type": "stream",
     "text": [
      " 90%|█████████ | 90/100 [00:06<00:00, 14.89it/s]"
     ]
    },
    {
     "name": "stdout",
     "output_type": "stream",
     "text": [
      "161087.42300284415\n",
      "158007.7679174811\n",
      "154954.13111260865\n",
      "151985.1151092053\n"
     ]
    },
    {
     "name": "stderr",
     "output_type": "stream",
     "text": [
      " 94%|█████████▍| 94/100 [00:06<00:00, 15.02it/s]"
     ]
    },
    {
     "name": "stdout",
     "output_type": "stream",
     "text": [
      "149048.2955693023\n",
      "146155.8150476256\n",
      "143316.63109788622\n",
      "140488.40148462914\n"
     ]
    },
    {
     "name": "stderr",
     "output_type": "stream",
     "text": [
      " 96%|█████████▌| 96/100 [00:06<00:00, 14.93it/s]"
     ]
    },
    {
     "name": "stdout",
     "output_type": "stream",
     "text": [
      "137769.81542708204\n",
      "135051.47021843924\n",
      "132402.24414495454\n",
      "129768.70291453031\n"
     ]
    },
    {
     "name": "stderr",
     "output_type": "stream",
     "text": [
      "100%|██████████| 100/100 [00:06<00:00, 14.97it/s]"
     ]
    },
    {
     "name": "stdout",
     "output_type": "stream",
     "text": [
      "127205.58707190656\n",
      "124658.86655508664\n"
     ]
    },
    {
     "name": "stderr",
     "output_type": "stream",
     "text": [
      "\n"
     ]
    }
   ],
   "source": [
    "## your code ##\n",
    "W_center, W_context = train_GloVe(matrix, vocab_size, epochs = 100, learning_rate = 0.001, x_max = 10, hidden_dim=100)"
   ]
  },
  {
   "cell_type": "markdown",
   "metadata": {
    "cell_id": "319bd85a153148019e6f2969113b540b",
    "deepnote_cell_type": "markdown",
    "id": "770701f4"
   },
   "source": [
    "As you can see by looking at the loss, the model still needs more time to converge to a minimum.\n",
    "However, we keep the training short and keeping in mind that the vectors can improve we look at some examples.\n",
    "Take the average, transpose, and normalize the matrix."
   ]
  },
  {
   "cell_type": "code",
   "execution_count": 24,
   "metadata": {
    "cell_id": "2659cbaf2f734cd5963ec7def348c3d1",
    "deepnote_cell_type": "code",
    "id": "b272ab8a"
   },
   "outputs": [],
   "source": [
    "from numpy.linalg import norm\n",
    "# take the average of the learned vector as the final vector\n",
    "W = np.add(W_center, W_context)/2\n",
    "W = W.T\n",
    "W = W/norm(W)"
   ]
  },
  {
   "cell_type": "code",
   "execution_count": 25,
   "metadata": {
    "cell_id": "fbce3b449b0047ad9963f7228ed07b7c",
    "deepnote_cell_type": "code",
    "id": "334aff38"
   },
   "outputs": [
    {
     "data": {
      "text/plain": [
       "(100, 17646)"
      ]
     },
     "execution_count": 25,
     "metadata": {},
     "output_type": "execute_result"
    }
   ],
   "source": [
    "W.shape"
   ]
  },
  {
   "cell_type": "markdown",
   "metadata": {
    "cell_id": "ad6c996ac4654bc980ed30aeeccbf329",
    "deepnote_cell_type": "markdown",
    "id": "d106c990"
   },
   "source": [
    "Lets create a dictionary that points from a word to its vector."
   ]
  },
  {
   "cell_type": "code",
   "execution_count": 26,
   "metadata": {
    "cell_id": "1baffd8b1d6d442192df53c608bf1a4d",
    "deepnote_cell_type": "code",
    "id": "db81b66e"
   },
   "outputs": [],
   "source": [
    "# Generates word to word embedding dictionary\n",
    "word_to_vector = {}\n",
    "for word in word_to_id.keys():\n",
    "    word_to_vector[word] = W[:, word_to_id[word]]"
   ]
  },
  {
   "cell_type": "markdown",
   "metadata": {
    "cell_id": "1f32d7269f324785a7d12d88a3bec63e",
    "deepnote_cell_type": "markdown",
    "id": "11c86eeb"
   },
   "source": [
    "### Subtask 4: Compare to Skip-gram\n"
   ]
  },
  {
   "cell_type": "markdown",
   "metadata": {
    "cell_id": "746e6f74e7fd44689682d5f2fce4e22d",
    "deepnote_cell_type": "markdown",
    "id": "e8fd8763"
   },
   "source": [
    "Let's compute the similarities for the same words in Task 1 to compare the results with word2vec. This time you need to implement the similarity function, based on the dot product. To get to the topk you need to sort the elements based on their similarity.\n",
    "\n"
   ]
  },
  {
   "cell_type": "code",
   "execution_count": 27,
   "metadata": {
    "cell_id": "647f386dbe9a4ec6bb9a8d99066ef5cb",
    "deepnote_cell_type": "code",
    "id": "a2f3f722"
   },
   "outputs": [],
   "source": [
    "from numpy import dot\n",
    "\n",
    "def most_similar(word_vector,all_vectors,id_to_word, topk):\n",
    "    \"\"\"\n",
    "    function to find the topk most similar words to a word vector\n",
    "    word_vector: vector of the search word\n",
    "    all_vectors: all word vectors\n",
    "    id_to_word: dictionary from id to words\n",
    "    topk: number of elements to return\n",
    "    \"\"\"\n",
    "    ### find the topk most similar words to a given word vector ##\n",
    "    # Use cosine similarity to find the most similar words\n",
    "    cosine_sim = dot(word_vector, all_vectors)\n",
    "    most_similar_ids = np.argsort(cosine_sim)[-topk:]\n",
    "    most_similar_words = [id_to_word[idx] for idx in most_similar_ids]\n",
    "    word = most_similar_words[::-1]\n",
    "    return word"
   ]
  },
  {
   "cell_type": "code",
   "execution_count": 28,
   "metadata": {
    "cell_id": "e870506ae79346e6adb785da9daf9791",
    "deepnote_cell_type": "code",
    "id": "53c1a84a"
   },
   "outputs": [
    {
     "data": {
      "text/plain": [
       "['central_perk', 'stability', 'hideous', 'loser', 'journal']"
      ]
     },
     "execution_count": 28,
     "metadata": {},
     "output_type": "execute_result"
    }
   ],
   "source": [
    "most_similar(word_to_vector[\"central_perk\"],W,id_to_word,5)"
   ]
  },
  {
   "cell_type": "code",
   "execution_count": 29,
   "metadata": {
    "cell_id": "7ed647ee59b14c628d57d282ce177598",
    "deepnote_cell_type": "code",
    "id": "2c8e8519"
   },
   "outputs": [
    {
     "data": {
      "text/plain": [
       "['joey', 'tingle', 'pees', 'godeh', 'crossing']"
      ]
     },
     "execution_count": 29,
     "metadata": {},
     "output_type": "execute_result"
    }
   ],
   "source": [
    "most_similar(word_to_vector[\"joey\"],W,id_to_word,5)"
   ]
  },
  {
   "cell_type": "markdown",
   "metadata": {
    "cell_id": "3ad3c6cb031048f8aa82e449444bdc32",
    "deepnote_cell_type": "markdown",
    "id": "6bdcd5f5"
   },
   "source": [
    "Compute the similarity between the `('rachel', 'mrs_green')`, `('smelly_cat', 'song')` and `('ross', 'spaceship')`."
   ]
  },
  {
   "cell_type": "code",
   "execution_count": 30,
   "metadata": {},
   "outputs": [],
   "source": [
    "def pairwise_sim(word1, word2, word_to_vector):\n",
    "    \"\"\"\n",
    "    function to find the similarity between two words\n",
    "    word1, word2: the two words\n",
    "    word_to_vector: dictionary from word to vector\n",
    "    \"\"\"\n",
    "    ### find the similarity between two words ##\n",
    "    # Use cosine similarity to find the most similar words\n",
    "    cosine_sim = dot(word_to_vector[word1], word_to_vector[word2])\n",
    "    return cosine_sim"
   ]
  },
  {
   "cell_type": "code",
   "execution_count": 31,
   "metadata": {
    "cell_id": "77ec7c44bbde45b8bbd245d0e6446c57",
    "deepnote_cell_type": "code",
    "id": "e77f01a5"
   },
   "outputs": [
    {
     "data": {
      "text/plain": [
       "1.172752475994363e-05"
      ]
     },
     "execution_count": 31,
     "metadata": {},
     "output_type": "execute_result"
    }
   ],
   "source": [
    "## your code ##\n",
    "pairwise_sim(\"rachel\", \"mrs_green\", word_to_vector)"
   ]
  },
  {
   "cell_type": "code",
   "execution_count": 32,
   "metadata": {
    "cell_id": "8d15aeceee034d7b8cde8099bc78ea58",
    "deepnote_cell_type": "code",
    "id": "d1def847"
   },
   "outputs": [
    {
     "data": {
      "text/plain": [
       "-3.777437328050534e-06"
      ]
     },
     "execution_count": 32,
     "metadata": {},
     "output_type": "execute_result"
    }
   ],
   "source": [
    "## your code ##\n",
    "pairwise_sim('smelly_cat', 'song', word_to_vector)"
   ]
  },
  {
   "cell_type": "code",
   "execution_count": 33,
   "metadata": {
    "cell_id": "4ef6f86219ea4a72a680dabd7feadd46",
    "deepnote_cell_type": "code",
    "id": "933ca3ac"
   },
   "outputs": [
    {
     "data": {
      "text/plain": [
       "4.106331097953352e-06"
      ]
     },
     "execution_count": 33,
     "metadata": {},
     "output_type": "execute_result"
    }
   ],
   "source": [
    "## your code ##\n",
    "pairwise_sim('ross', 'spaceship', word_to_vector)"
   ]
  },
  {
   "cell_type": "markdown",
   "metadata": {
    "cell_id": "b0b9ace0e3014f5097c109c6bfe3a78d",
    "deepnote_cell_type": "markdown",
    "id": "ecace919"
   },
   "source": [
    "If you see your results are not as meaningful as the gensim model, do not be discouraged. With better optimization and longer training the results should improve. If you have time play around a bit more with your model and see if you can generate more meaningful vectors."
   ]
  },
  {
   "cell_type": "markdown",
   "metadata": {
    "created_in_deepnote_cell": true,
    "deepnote_cell_type": "markdown",
    "id": "9LbSjC5oz21o"
   },
   "source": [
    "<a style='text-decoration:none;line-height:16px;display:flex;color:#5B5B62;padding:10px;justify-content:end;' href='https://deepnote.com?utm_source=created-in-deepnote-cell&projectId=2995dafc-2409-4d4e-859d-95843714f594' target=\"_blank\">\n",
    "<img alt='Created in deepnote.com' style='display:inline;max-height:16px;margin:0px;margin-right:7.5px;' src='data:image/svg+xml;base64,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' > </img>\n",
    "Created in <span style='font-weight:600;margin-left:4px;'>Deepnote</span></a>"
   ]
  }
 ],
 "metadata": {
  "colab": {
   "include_colab_link": true,
   "provenance": []
  },
  "deepnote": {},
  "deepnote_execution_queue": [],
  "deepnote_notebook_id": "66515ddb3eea49f3911f054f2c6427ef",
  "deepnote_persisted_session": {
   "createdAt": "2023-10-30T16:42:27.986Z"
  },
  "kernelspec": {
   "display_name": "Python 3 (ipykernel)",
   "language": "python",
   "name": "python3"
  },
  "language_info": {
   "codemirror_mode": {
    "name": "ipython",
    "version": 3
   },
   "file_extension": ".py",
   "mimetype": "text/x-python",
   "name": "python",
   "nbconvert_exporter": "python",
   "pygments_lexer": "ipython3",
   "version": "3.9.13"
  }
 },
 "nbformat": 4,
 "nbformat_minor": 4
}
