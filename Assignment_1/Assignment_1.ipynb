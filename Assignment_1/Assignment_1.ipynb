{
  "cells": [
    {
      "cell_type": "markdown",
      "metadata": {
        "id": "view-in-github",
        "colab_type": "text"
      },
      "source": [
        "<a href=\"https://colab.research.google.com/github/Davo00/INLTP-Assignments/blob/main/Assignment_1.ipynb\" target=\"_parent\"><img src=\"https://colab.research.google.com/assets/colab-badge.svg\" alt=\"Open In Colab\"/></a>"
      ]
    },
    {
      "cell_type": "markdown",
      "metadata": {
        "cell_id": "5c3754947e9f4287b58fabb0365b87f8",
        "deepnote_cell_type": "markdown",
        "id": "be9f7653"
      },
      "source": [
        "**Heidelberg University**\n",
        "\n",
        "**Data Science  Group**\n",
        "    \n",
        "Prof. Dr. Michael Gertz  \n",
        "\n",
        "Ashish Chouhan, Satya Almasian, John Ziegler, Jayson Salazar, Nicolas Reuter\n",
        "    \n",
        "October 30, 2023\n",
        "    \n",
        "Natural Language Processing with Transformers\n",
        "\n",
        "Winter Semster 2023/2024     \n",
        "***"
      ]
    },
    {
      "cell_type": "markdown",
      "metadata": {
        "cell_id": "00cc26cb17d74c5d9cf7fc80ccd89b3c",
        "deepnote_cell_type": "markdown",
        "deepnote_to_be_reexecuted": false,
        "execution_millis": 35,
        "execution_start": 1698673360795,
        "id": "F3RqZ4rQz21E",
        "source_hash": "50c5f835"
      },
      "source": [
        "## Group Names\n",
        "- Simon Pavicic\n",
        "- Davit Melkonyan\n",
        "- Leon Remke\n",
        "- Max Ludwig"
      ]
    },
    {
      "cell_type": "markdown",
      "metadata": {
        "cell_id": "da699d0a94ef4adda6cbb18fc90e329d",
        "deepnote_cell_type": "markdown",
        "id": "258e9648"
      },
      "source": [
        "# **Assignment 1: “Word Embeddings and Probabilistic Language Models”**\n",
        "**Due**: Monday, November 13, 2pm, via [Moodle](https://moodle.uni-heidelberg.de/course/view.php?id=19251)\n",
        "\n"
      ]
    },
    {
      "cell_type": "markdown",
      "metadata": {
        "cell_id": "e8e7fa61a1ce43ebb2067cea05c50124",
        "deepnote_cell_type": "markdown",
        "id": "fc27ad9e"
      },
      "source": [
        "### **Submission Guidelines**\n",
        "\n",
        "- Solutions need to be uploaded as a **single** Jupyter notebook. You will find several pre-filled code segments in the notebook, your task is to fill in the missing cells.\n",
        "- For the written solution, use LaTeX in markdown inside the same notebook. Do **not** hand in a separate file for it.\n",
        "- Download the .zip file containing the dataset but do **not** upload it with your solution.\n",
        "- It is sufficient if one person per group uploads the solution to Moodle, but make sure that the complete names of all team members are given in the notebook.\n",
        "\n",
        "***"
      ]
    },
    {
      "cell_type": "markdown",
      "metadata": {
        "cell_id": "5eab8af814334d949ad496a3549c9f21",
        "deepnote_cell_type": "markdown",
        "id": "e322e8b0"
      },
      "source": [
        "## **Task 1: F.R.I.E.N.D.S and  Word2Vec (Grade (2 + 2 + 4) = 8)**"
      ]
    },
    {
      "cell_type": "markdown",
      "metadata": {
        "cell_id": "7049deddd1c64861b24c4cf213d38c0d",
        "deepnote_cell_type": "markdown",
        "id": "b4ca26ac"
      },
      "source": [
        "[Friends](https://en.wikipedia.org/wiki/Friends) is an American television sitcom, created by David Crane and Marta Kauffman. In this assignment we will use the transcripts from the show to train a Word2Vec model using the [Gensim](https://radimrehurek.com/gensim/) library."
      ]
    },
    {
      "cell_type": "markdown",
      "metadata": {
        "cell_id": "53646b0ed8264cb58c00f0bb8f80ff1e",
        "deepnote_cell_type": "markdown",
        "id": "fc29cb37"
      },
      "source": [
        "### Subtask 1: Pre-processing\n",
        "We start by loading and cleaning the data. Download the dataset for this assignment and load the `friends_quotes.csv` using pandas. The dataset is from Kaggle (https://www.kaggle.com/ryanstonebraker/friends-transcript) and is created for building a classifier that  determines which friend from the Friend's TV Show would be most likely to say a quote. The column `quote` contains a line from the movie and the `author` is the one who said it. Since these are the only two columns we need, we remove the rest and only keep these two columns."
      ]
    },
    {
      "cell_type": "code",
      "execution_count": null,
      "metadata": {
        "cell_id": "59c8f15767044eaaad6390b4b928d87f",
        "deepnote_cell_type": "code",
        "deepnote_to_be_reexecuted": false,
        "execution_millis": 3539,
        "execution_start": 1698684199184,
        "id": "787e2059",
        "source_hash": null
      },
      "outputs": [],
      "source": [
        "import re\n",
        "import pandas as pd\n",
        "from collections import defaultdict\n",
        "import spacy\n",
        "import logging  # Setting up the loggings to monitor gensim\n",
        "logging.basicConfig(format=\"%(levelname)s - %(asctime)s: %(message)s\", datefmt= '%H:%M:%S', level=logging.INFO)"
      ]
    },
    {
      "cell_type": "code",
      "execution_count": null,
      "metadata": {
        "cell_id": "8326dd8c5d934f4d8df5de2d832c894c",
        "deepnote_cell_type": "code",
        "deepnote_to_be_reexecuted": false,
        "execution_millis": 418,
        "execution_start": 1698685766269,
        "id": "7e7e8c7d",
        "outputId": "a13197bf-be14-4d75-ccd1-b91d94da7c0d",
        "scrolled": true,
        "source_hash": null
      },
      "outputs": [
        {
          "name": "stdout",
          "output_type": "stream",
          "text": [
            "Shape of data before filtering: (60291, 6)\n",
            "Shape of data after filtering: (60291, 6)\n"
          ]
        },
        {
          "data": {
            "text/html": [
              "<div>\n",
              "<style scoped>\n",
              "    .dataframe tbody tr th:only-of-type {\n",
              "        vertical-align: middle;\n",
              "    }\n",
              "\n",
              "    .dataframe tbody tr th {\n",
              "        vertical-align: top;\n",
              "    }\n",
              "\n",
              "    .dataframe thead th {\n",
              "        text-align: right;\n",
              "    }\n",
              "</style>\n",
              "<table border=\"1\" class=\"dataframe\">\n",
              "  <thead>\n",
              "    <tr style=\"text-align: right;\">\n",
              "      <th></th>\n",
              "      <th>author</th>\n",
              "      <th>episode_number</th>\n",
              "      <th>episode_title</th>\n",
              "      <th>quote</th>\n",
              "      <th>quote_order</th>\n",
              "      <th>season</th>\n",
              "    </tr>\n",
              "  </thead>\n",
              "  <tbody>\n",
              "    <tr>\n",
              "      <th>0</th>\n",
              "      <td>Monica</td>\n",
              "      <td>1.0</td>\n",
              "      <td>Monica Gets A Roommate</td>\n",
              "      <td>There's nothing to tell! He's just some guy I ...</td>\n",
              "      <td>0.0</td>\n",
              "      <td>1.0</td>\n",
              "    </tr>\n",
              "    <tr>\n",
              "      <th>1</th>\n",
              "      <td>Joey</td>\n",
              "      <td>1.0</td>\n",
              "      <td>Monica Gets A Roommate</td>\n",
              "      <td>C'mon, you're going out with the guy! There's ...</td>\n",
              "      <td>1.0</td>\n",
              "      <td>1.0</td>\n",
              "    </tr>\n",
              "    <tr>\n",
              "      <th>2</th>\n",
              "      <td>Chandler</td>\n",
              "      <td>1.0</td>\n",
              "      <td>Monica Gets A Roommate</td>\n",
              "      <td>All right Joey, be nice. So does he have a hum...</td>\n",
              "      <td>2.0</td>\n",
              "      <td>1.0</td>\n",
              "    </tr>\n",
              "    <tr>\n",
              "      <th>3</th>\n",
              "      <td>Phoebe</td>\n",
              "      <td>1.0</td>\n",
              "      <td>Monica Gets A Roommate</td>\n",
              "      <td>Wait, does he eat chalk?</td>\n",
              "      <td>3.0</td>\n",
              "      <td>1.0</td>\n",
              "    </tr>\n",
              "    <tr>\n",
              "      <th>4</th>\n",
              "      <td>Phoebe</td>\n",
              "      <td>1.0</td>\n",
              "      <td>Monica Gets A Roommate</td>\n",
              "      <td>Just, 'cause, I don't want her to go through w...</td>\n",
              "      <td>4.0</td>\n",
              "      <td>1.0</td>\n",
              "    </tr>\n",
              "    <tr>\n",
              "      <th>5</th>\n",
              "      <td>Monica</td>\n",
              "      <td>1.0</td>\n",
              "      <td>Monica Gets A Roommate</td>\n",
              "      <td>Okay, everybody relax. This is not even a date...</td>\n",
              "      <td>5.0</td>\n",
              "      <td>1.0</td>\n",
              "    </tr>\n",
              "    <tr>\n",
              "      <th>6</th>\n",
              "      <td>Chandler</td>\n",
              "      <td>1.0</td>\n",
              "      <td>Monica Gets A Roommate</td>\n",
              "      <td>Sounds like a date to me.</td>\n",
              "      <td>6.0</td>\n",
              "      <td>1.0</td>\n",
              "    </tr>\n",
              "    <tr>\n",
              "      <th>7</th>\n",
              "      <td>Chandler</td>\n",
              "      <td>1.0</td>\n",
              "      <td>Monica Gets A Roommate</td>\n",
              "      <td>Alright, so I'm back in high school, I'm stand...</td>\n",
              "      <td>7.0</td>\n",
              "      <td>1.0</td>\n",
              "    </tr>\n",
              "    <tr>\n",
              "      <th>8</th>\n",
              "      <td>All</td>\n",
              "      <td>1.0</td>\n",
              "      <td>Monica Gets A Roommate</td>\n",
              "      <td>Oh, yeah. Had that dream.</td>\n",
              "      <td>8.0</td>\n",
              "      <td>1.0</td>\n",
              "    </tr>\n",
              "    <tr>\n",
              "      <th>9</th>\n",
              "      <td>Chandler</td>\n",
              "      <td>1.0</td>\n",
              "      <td>Monica Gets A Roommate</td>\n",
              "      <td>Then I look down, and I realize there's a phon...</td>\n",
              "      <td>9.0</td>\n",
              "      <td>1.0</td>\n",
              "    </tr>\n",
              "  </tbody>\n",
              "</table>\n",
              "</div>"
            ],
            "text/plain": [
              "     author  episode_number           episode_title  \\\n",
              "0    Monica             1.0  Monica Gets A Roommate   \n",
              "1      Joey             1.0  Monica Gets A Roommate   \n",
              "2  Chandler             1.0  Monica Gets A Roommate   \n",
              "3    Phoebe             1.0  Monica Gets A Roommate   \n",
              "4    Phoebe             1.0  Monica Gets A Roommate   \n",
              "5    Monica             1.0  Monica Gets A Roommate   \n",
              "6  Chandler             1.0  Monica Gets A Roommate   \n",
              "7  Chandler             1.0  Monica Gets A Roommate   \n",
              "8       All             1.0  Monica Gets A Roommate   \n",
              "9  Chandler             1.0  Monica Gets A Roommate   \n",
              "\n",
              "                                               quote  quote_order  season  \n",
              "0  There's nothing to tell! He's just some guy I ...          0.0     1.0  \n",
              "1  C'mon, you're going out with the guy! There's ...          1.0     1.0  \n",
              "2  All right Joey, be nice. So does he have a hum...          2.0     1.0  \n",
              "3                           Wait, does he eat chalk?          3.0     1.0  \n",
              "4  Just, 'cause, I don't want her to go through w...          4.0     1.0  \n",
              "5  Okay, everybody relax. This is not even a date...          5.0     1.0  \n",
              "6                          Sounds like a date to me.          6.0     1.0  \n",
              "7  Alright, so I'm back in high school, I'm stand...          7.0     1.0  \n",
              "8                          Oh, yeah. Had that dream.          8.0     1.0  \n",
              "9  Then I look down, and I realize there's a phon...          9.0     1.0  "
            ]
          },
          "execution_count": 2,
          "metadata": {},
          "output_type": "execute_result"
        }
      ],
      "source": [
        "FRIENDS_PATH = \"friends_quotes.csv\"\n",
        "\n",
        "df = pd.read_csv(FRIENDS_PATH)\n",
        "print(f\"Shape of data before filtering: {df.shape}\")\n",
        "\n",
        "# Drop rows with any null values\n",
        "df = df.dropna()\n",
        "\n",
        "# Replace empty strings with NaN and then drop those rows\n",
        "df = df.replace('', float('nan')).dropna()\n",
        "\n",
        "# Reset the index after dropping rows\n",
        "df = df.reset_index(drop=True)\n",
        "print(f\"Shape of data after filtering: {df.shape}\")\n",
        "\n",
        "df.head(10)"
      ]
    },
    {
      "cell_type": "markdown",
      "metadata": {
        "cell_id": "4c31a0e5ddf44a808e5a67460ca91597",
        "deepnote_cell_type": "markdown",
        "id": "be5fc72f"
      },
      "source": [
        "Fortunately, there is no missing data, so we do not need to worry about that."
      ]
    },
    {
      "cell_type": "code",
      "execution_count": null,
      "metadata": {
        "cell_id": "57b2178d94a84b4dad45bf0c40662dc3",
        "deepnote_cell_type": "code",
        "deepnote_to_be_reexecuted": false,
        "execution_millis": 62,
        "execution_start": 1698685769630,
        "id": "dc3aea10",
        "outputId": "f176f281-13a1-42a3-ad58-ea8180c93536",
        "source_hash": null
      },
      "outputs": [
        {
          "data": {
            "text/plain": [
              "author            0\n",
              "episode_number    0\n",
              "episode_title     0\n",
              "quote             0\n",
              "quote_order       0\n",
              "season            0\n",
              "dtype: int64"
            ]
          },
          "execution_count": 3,
          "metadata": {},
          "output_type": "execute_result"
        }
      ],
      "source": [
        "df.isnull().sum() # check for missing data"
      ]
    },
    {
      "cell_type": "markdown",
      "metadata": {
        "cell_id": "417b32125a1b47dead08c7acbdda4b14",
        "deepnote_cell_type": "markdown",
        "id": "26a249b1"
      },
      "source": [
        "Use SpaCy to preprocess the text. For this, perform the following steps:\n",
        "- lowercase the words\n",
        "- remove the stopwords and single characters\n",
        "- use regex to remove non-alphabetic characters (anything that is not a number or alphabet including punctuations), in other words only keep \"a\" to \"z\" and digits.\n",
        "- remove lines that have less than 4 words, since they cannot contribute much to the training process.\n",
        "\n",
        "Please do not add any additional steps on your own or additional cleaning as we want to achieve comparable results."
      ]
    },
    {
      "cell_type": "code",
      "execution_count": null,
      "metadata": {
        "cell_id": "7fb5ee15b93843b197e0c960810f03f6",
        "deepnote_cell_type": "code",
        "deepnote_to_be_reexecuted": false,
        "execution_millis": 41742,
        "execution_start": 1698685779359,
        "id": "jIUKQXFOf288",
        "outputId": "6b88a9a4-c30c-4a85-b6f9-445a9526fe09",
        "source_hash": null
      },
      "outputs": [
        {
          "name": "stdout",
          "output_type": "stream",
          "text": [
            "Stopwords: {'yourself', 'last', \"'s\", 'until', 'even', 'whence', 'most', 'can', 'during', 'back', 'wherein', 'did', 'hers', 'we', 'not', 'someone', 'really', 'neither', 'hence', 'hereupon', 'will', 'since', 'otherwise', 'noone', 'ourselves', 'already', 'beyond', 'though', 'where', 'he', 'a', 'eleven', 'thereafter', 'sometimes', 'forty', 'anywhere', 'always', 'but', 'one', 'perhaps', 'all', 'towards', 'bottom', 'it', 'off', 'see', 'without', '‘ll', 'cannot', 'latterly', 'here', 'once', 'call', 'name', 'full', 'often', 'nowhere', 'becoming', 'does', 'both', 'meanwhile', 'thru', 'and', 'is', 'make', 'do', 'hundred', '‘m', 'that', 'myself', 'she', 'more', 'doing', 'sixty', \"'ve\", 'as', 'using', 'which', 'about', 'indeed', 'being', 'due', 'mostly', 'several', 'are', 'former', 'if', 'ca', '’d', 'again', 'herein', 'made', 'elsewhere', 'whose', 'almost', '’ll', 'therein', 'whatever', 'four', 'only', 'after', 'enough', 'many', 'at', 'no', 'be', 'twelve', 'thence', 'of', 'the', 'further', 'have', 'beforehand', 'then', 'into', 'regarding', 'seeming', 'whereafter', 'any', 're', 'least', 'its', '’s', 'each', 'seem', 'anyone', 'whereas', 'well', 'besides', 'why', 'third', 'others', 'whereupon', 'would', 'becomes', 'five', 'another', 'beside', 'eight', 'moreover', 'had', 'ten', 'them', 'how', 'through', 'yours', 'same', 'out', 'whither', 'his', 'none', 'rather', 'hereby', 'somehow', 'should', 'around', 'nine', \"'d\", 'while', 'fifteen', 'thereupon', 'over', 'must', 'give', 'from', 'ever', 'whenever', 'go', 'behind', 'nobody', \"n't\", 'us', 'n’t', 'an', 'below', 'via', 'much', 'used', 'whole', '’ve', 'hereafter', 'before', 'just', 'throughout', 'for', 'what', 'ours', 'upon', 'nor', 'against', 'other', 'himself', 'along', 'has', 'too', 'few', 'twenty', 'wherever', 'across', 'quite', 'everywhere', 'me', 'these', 'anyhow', 'else', 'move', 'you', 'anything', 'him', 'was', 'amount', 'although', 'very', 'either', 'nothing', 'may', 'to', 'take', '’re', 'who', 'on', 'everything', 'my', \"'ll\", 'sometime', 'fifty', 'however', 'done', 'those', 'could', 'toward', 'put', 'among', 'less', 'except', 'yourselves', 'three', 'latter', 'your', 'somewhere', 'been', 'there', 'seems', 'became', 'this', 'also', 'nevertheless', 'herself', 'afterwards', 'amongst', 'show', 'now', 'front', 'next', 'two', 'than', 'top', 'unless', 'when', 'every', '‘s', 'thus', 'down', 'in', 'whereby', 'side', 'say', 'seemed', '’m', 'become', 'yet', 'her', 'itself', 'never', 'their', 'please', '‘ve', 'together', 'empty', 'first', 'everyone', 'onto', 'part', 'whom', 'above', 'get', 'up', 'they', \"'re\", 'or', 'something', 'with', 'whether', 'keep', \"'m\", 'under', 'within', 'between', '‘re', 'per', 'such', 'anyway', 'serious', 'by', 'our', 'various', 'mine', 'i', 'because', 'some', 'still', 'thereby', 'therefore', 'alone', 'so', 'am', 'were', 'n‘t', 'themselves', 'own', 'formerly', 'six', '‘d', 'namely', 'might', 'whoever'}\n"
          ]
        },
        {
          "name": "stderr",
          "output_type": "stream",
          "text": [
            "/Users/leonremke/miniconda3/envs/bomberman/lib/python3.11/site-packages/spacy/pipeline/lemmatizer.py:211: UserWarning: [W108] The rule-based lemmatizer did not find POS annotation for one or more tokens. Check that your pipeline includes components that assign token.pos, typically 'tagger'+'attribute_ruler' or 'morphologizer'.\n",
            "  warnings.warn(Warnings.W108)\n"
          ]
        },
        {
          "name": "stdout",
          "output_type": "stream",
          "text": [
            "[['c m', 'going', 'guy', 'got', 'ta', 'wrong'], ['right', 'joey', 'nice', 'hump', 'hump', 'hairpiece'], ['cause', 'want', 'went', 'carl', 'oh'], ['okay', 'everybody', 'relax', 'date', 'people', 'going', 'dinner', 'and', 'having', 'sex'], ['alright', 'high', 'school', 'standing', 'middle', 'cafeteria', 'realize', 'totally', 'naked'], ['sudden', 'phone', 'starts', 'ring', 'know', 'everybody', 'starts', 'looking'], ['finally', 'figure', 'better', 'answer', 'turns', 'mother', 'weird', 'because', 'calls'], ['guy', 'says', 'hello', 'wanna', 'kill'], ['feel', 'like', 'reached', 'throat', 'grabbed', 'small', 'intestine', 'pulled', 'mouth', 'tied', 'neck'], ['explaining', 'carol', 'moved', 'stuff', 'today']]\n"
          ]
        }
      ],
      "source": [
        "nlp = spacy.load(\"en_core_web_sm\", disable=[\"tagger\", \"parser\",\"ner\"])\n",
        "stopwords = spacy.lang.en.stop_words.STOP_WORDS\n",
        "print(f\"Stopwords: {stopwords}\")\n",
        "\n",
        "regex = re.compile('[^a-z0-9]') # need only lower case since executed after lower in for loop\n",
        "quotes = []  # to save all the lines\n",
        "for quote in list(nlp.pipe(df[\"quote\"].values)):\n",
        "    # iterate over tokens in quote\n",
        "    preprocessed_quote = []\n",
        "    for token in quote:\n",
        "        preprocessed_token = token.lower_ # lowercase word\n",
        "        if preprocessed_token not in stopwords: # remove stopwords\n",
        "            preprocessed_token = regex.sub(\" \", preprocessed_token) # replace non-alphabetic characters with space\n",
        "\n",
        "            # remove the space if at the beginning or at the end\n",
        "            if preprocessed_token[0] == \" \":\n",
        "                preprocessed_token = preprocessed_token[1:]\n",
        "            if len(preprocessed_token) > 0 and preprocessed_token[-1] == \" \":\n",
        "                preprocessed_token = preprocessed_token[:-1]\n",
        "\n",
        "            # remove single characters\n",
        "            if len(preprocessed_token) > 1:\n",
        "                preprocessed_quote.append(preprocessed_token)\n",
        "    # remove lines with less than 3 words\n",
        "    if len(preprocessed_quote) >= 4:\n",
        "        quotes.append(preprocessed_quote)\n",
        "\n",
        "print(quotes[:10])"
      ]
    },
    {
      "cell_type": "markdown",
      "metadata": {
        "cell_id": "a29a00530f96483aa614a78bc7bd8d44",
        "deepnote_cell_type": "markdown",
        "id": "6aaa2190"
      },
      "source": [
        "The next step is to build the vocabulary of the words and word combinations we want to learn representations from. We choose a subset of the most frequent words and bigrams to represent our corpus.\n",
        "- Use the Gensim Phrases package to automatically detect common phrases (bigrams) from a list of lines from the previous step (`min_count=10`). Now words like New_York will be considered as one entity and character names like joey_tribbiani will be recognized.\n",
        "- Create a list of words/bigrams with their frequencies and choose the top 15.000 words for the vocabulary, in order to keep the computation time-limited and to choose the most important words."
      ]
    },
    {
      "cell_type": "code",
      "execution_count": null,
      "metadata": {
        "id": "6O50bTFYf289",
        "outputId": "2faa7630-1057-4b88-ca6b-07a2636b7cdd"
      },
      "outputs": [
        {
          "name": "stderr",
          "output_type": "stream",
          "text": [
            "INFO - 17:33:17: collecting all words and their counts\n",
            "INFO - 17:33:17: PROGRESS: at sentence #0, processed 0 words and 0 word types\n",
            "INFO - 17:33:17: PROGRESS: at sentence #10000, processed 84535 words and 64068 word types\n",
            "INFO - 17:33:17: PROGRESS: at sentence #20000, processed 171141 words and 112647 word types\n",
            "INFO - 17:33:17: PROGRESS: at sentence #30000, processed 256195 words and 157322 word types\n",
            "INFO - 17:33:17: collected 160684 token types (unigram + bigrams) from a corpus of 262770 words and 30822 sentences\n",
            "INFO - 17:33:17: merged Phrases<160684 vocab, min_count=10, threshold=10.0, max_vocab_size=40000000>\n",
            "INFO - 17:33:17: Phrases lifecycle event {'msg': 'built Phrases<160684 vocab, min_count=10, threshold=10.0, max_vocab_size=40000000> in 0.11s', 'datetime': '2023-11-11T17:33:17.777225', 'gensim': '4.3.2', 'python': '3.11.5 (main, Sep 11 2023, 08:31:25) [Clang 14.0.6 ]', 'platform': 'macOS-14.1-arm64-arm-64bit', 'event': 'created'}\n",
            "INFO - 17:33:17: exporting phrases from Phrases<160684 vocab, min_count=10, threshold=10.0, max_vocab_size=40000000>\n"
          ]
        },
        {
          "name": "stdout",
          "output_type": "stream",
          "text": [
            "Number of all words: 16593\n",
            "\n"
          ]
        },
        {
          "name": "stderr",
          "output_type": "stream",
          "text": [
            "INFO - 17:33:17: FrozenPhrases lifecycle event {'msg': 'exported FrozenPhrases<203 phrases, min_count=10, threshold=10.0> from Phrases<160684 vocab, min_count=10, threshold=10.0, max_vocab_size=40000000> in 0.10s', 'datetime': '2023-11-11T17:33:17.882046', 'gensim': '4.3.2', 'python': '3.11.5 (main, Sep 11 2023, 08:31:25) [Clang 14.0.6 ]', 'platform': 'macOS-14.1-arm64-arm-64bit', 'event': 'created'}\n"
          ]
        },
        {
          "data": {
            "text/plain": [
              "[['c m', 'going', 'guy', 'got_ta', 'wrong'],\n",
              " ['right', 'joey', 'nice', 'hump', 'hump', 'hairpiece'],\n",
              " ['cause', 'want', 'went', 'carl', 'oh'],\n",
              " ['okay',\n",
              "  'everybody',\n",
              "  'relax',\n",
              "  'date',\n",
              "  'people',\n",
              "  'going',\n",
              "  'dinner',\n",
              "  'and',\n",
              "  'having_sex'],\n",
              " ['alright',\n",
              "  'high_school',\n",
              "  'standing',\n",
              "  'middle',\n",
              "  'cafeteria',\n",
              "  'realize',\n",
              "  'totally',\n",
              "  'naked'],\n",
              " ['sudden',\n",
              "  'phone',\n",
              "  'starts',\n",
              "  'ring',\n",
              "  'know',\n",
              "  'everybody',\n",
              "  'starts',\n",
              "  'looking'],\n",
              " ['finally',\n",
              "  'figure',\n",
              "  'better',\n",
              "  'answer',\n",
              "  'turns',\n",
              "  'mother',\n",
              "  'weird',\n",
              "  'because',\n",
              "  'calls'],\n",
              " ['guy', 'says', 'hello', 'wanna', 'kill'],\n",
              " ['feel_like',\n",
              "  'reached',\n",
              "  'throat',\n",
              "  'grabbed',\n",
              "  'small',\n",
              "  'intestine',\n",
              "  'pulled',\n",
              "  'mouth',\n",
              "  'tied',\n",
              "  'neck'],\n",
              " ['explaining', 'carol', 'moved', 'stuff', 'today']]"
            ]
          },
          "execution_count": 5,
          "metadata": {},
          "output_type": "execute_result"
        }
      ],
      "source": [
        "from gensim.models.phrases import Phrases, Phraser\n",
        "\n",
        "# list of all words #\n",
        "words = list(set([word for quote in quotes for word in quote]))\n",
        "print(f\"Number of all words: {len(words)}\\n\")\n",
        "\n",
        "bigram = Phrases(quotes, min_count=10) # define the phraser for bi-gram creation\n",
        "bigram_phraser = Phraser(bigram)\n",
        "new_lines = [bigram_phraser[quote] for quote in quotes]  # transform the lines #\n",
        "new_lines[:10]"
      ]
    },
    {
      "cell_type": "code",
      "execution_count": null,
      "metadata": {
        "id": "UdQk3lF4f28-",
        "outputId": "ac290c48-790e-444a-c2c9-3ca7c124db83"
      },
      "outputs": [
        {
          "name": "stdout",
          "output_type": "stream",
          "text": [
            "[['c m', 'going', 'guy', 'got_ta', 'wrong'], ['right', 'joey', 'nice', 'hump', 'hump', 'hairpiece'], ['cause', 'want', 'went', 'carl', 'oh'], ['okay', 'everybody', 'relax', 'date', 'people', 'going', 'dinner', 'and', 'having_sex'], ['alright', 'high_school', 'standing', 'middle', 'cafeteria', 'realize', 'totally', 'naked'], ['sudden', 'phone', 'starts', 'ring', 'know', 'everybody', 'starts', 'looking'], ['finally', 'figure', 'better', 'answer', 'turns', 'mother', 'weird', 'because', 'calls'], ['guy', 'says', 'hello', 'wanna', 'kill'], ['feel_like', 'reached', 'throat', 'grabbed', 'small', 'intestine', 'pulled', 'mouth', 'tied', 'neck'], ['explaining', 'carol', 'moved', 'stuff', 'today']]\n"
          ]
        }
      ],
      "source": [
        "from collections import Counter\n",
        "\n",
        "### find the top 15.000 words for the vocabulary###\n",
        "all_words_bigrams = [word for line in new_lines for word in line]\n",
        "words_bigram_counter = Counter(all_words_bigrams)\n",
        "vocab = [word_counter_tupel[0] for word_counter_tupel in words_bigram_counter.most_common(15000)] ### top 15000 words\n",
        "\n",
        "# remove all words from the line that are not in top 15000 words\n",
        "new_lines_top_vocab = []\n",
        "for line in new_lines:\n",
        "    new_lines_top_vocab.append([])\n",
        "    for word in line:\n",
        "        if word in vocab:\n",
        "            new_lines_top_vocab[-1].append(word)\n",
        "    if len(new_lines_top_vocab[-1]) == 0: # remove empty lines if all words were not in top 15000\n",
        "        new_lines_top_vocab.pop(-1)\n",
        "print(new_lines_top_vocab[:10])"
      ]
    },
    {
      "cell_type": "code",
      "execution_count": null,
      "metadata": {
        "id": "Bg99VgPbt15u"
      },
      "outputs": [],
      "source": [
        "word_freq = dict(words_bigram_counter)"
      ]
    },
    {
      "cell_type": "code",
      "execution_count": null,
      "metadata": {
        "cell_id": "1ec5ded163b54ffb92415149a4018376",
        "deepnote_cell_type": "code",
        "deepnote_to_be_reexecuted": false,
        "execution_millis": 196,
        "execution_start": 1698686046586,
        "id": "9d08031d",
        "outputId": "57fddc0c-d490-4889-812d-6594bd90679c",
        "source_hash": null
      },
      "outputs": [
        {
          "data": {
            "text/plain": [
              "36"
            ]
          },
          "execution_count": 8,
          "metadata": {},
          "output_type": "execute_result"
        }
      ],
      "source": [
        "word_freq['central_perk']"
      ]
    },
    {
      "cell_type": "code",
      "execution_count": null,
      "metadata": {
        "cell_id": "671bba1de38646c0a88fda5aaaf545c1",
        "deepnote_cell_type": "code",
        "deepnote_to_be_reexecuted": false,
        "execution_millis": 21,
        "execution_start": 1698686050404,
        "id": "0882dc8c",
        "outputId": "dd18a5e5-c77d-4467-c38b-6bd1bb502560",
        "source_hash": null
      },
      "outputs": [
        {
          "data": {
            "text/plain": [
              "1883"
            ]
          },
          "execution_count": 9,
          "metadata": {},
          "output_type": "execute_result"
        }
      ],
      "source": [
        "word_freq['joey']"
      ]
    },
    {
      "cell_type": "markdown",
      "metadata": {
        "cell_id": "01482298eba6452ab71f4c6e5e11667d",
        "deepnote_cell_type": "markdown",
        "id": "15dfce56"
      },
      "source": [
        "### Subtask 2: Training the Model\n"
      ]
    },
    {
      "cell_type": "markdown",
      "metadata": {
        "cell_id": "4ae7eb1a2fc54d28bb502c445cd8c95c",
        "deepnote_cell_type": "markdown",
        "id": "b59c94e0"
      },
      "source": [
        "Use the Gensim implementation of Word2Vec to train a model on the scripts. The training can be divided into 3 stages:\n",
        "\n",
        "\n",
        "1) Set up your model with parameters; define your parameters in such a way that the following conditions are satisfied:\n",
        " - ignore all words that have a total frequency of less than 2.\n",
        " - dimensions of the embeddings: 100\n",
        " - initial learning rate (step size) of 0.03\n",
        " - 20 negative samples\n",
        " - window size 3\n",
        " - the learning rate in the training will decrease as you apply more and more updates. Most of the time when starting with gradient descent the initial steps can be larger, and as we get close to the local minima it is best to use smaller steps to avoid jumping over the local minima. This adjustment is done internally using a learning rate scheduler. Make sure that the smallest learning rate does not go below 0.0001.\n",
        " - set the threshold for configuring which higher-frequency words are randomly down-sampled to 6e-5. This parameter forces the sampling to choose the very frequent words less often in the sampling.\n",
        " - set the hashfunction of the word2vec to the given function.\n",
        " - train on a single worker to make sure you get the same result as ours."
      ]
    },
    {
      "cell_type": "code",
      "execution_count": null,
      "metadata": {
        "cell_id": "9b4af7e9f7bb4476a669a23ddff5d39b",
        "deepnote_cell_type": "code",
        "deepnote_to_be_reexecuted": false,
        "execution_millis": 11,
        "execution_start": 1698686110604,
        "id": "jXtYY379f28_",
        "source_hash": null
      },
      "outputs": [],
      "source": [
        "from gensim.models import Word2Vec\n",
        "def hash(astring):\n",
        "    return ord(astring[0])"
      ]
    },
    {
      "cell_type": "code",
      "execution_count": null,
      "metadata": {
        "cell_id": "7b8d8990e50642bbadb19e39fbc7a4f0",
        "deepnote_cell_type": "code",
        "deepnote_to_be_reexecuted": false,
        "execution_millis": 1682,
        "execution_start": 1698686388704,
        "id": "7c12a7a6",
        "outputId": "cb7eb379-9c9d-4b0e-b25f-e9218b4a3e3f",
        "source_hash": null
      },
      "outputs": [
        {
          "name": "stderr",
          "output_type": "stream",
          "text": [
            "INFO - 17:33:20: Word2Vec lifecycle event {'params': 'Word2Vec<vocab=0, vector_size=100, alpha=0.03>', 'datetime': '2023-11-11T17:33:20.197561', 'gensim': '4.3.2', 'python': '3.11.5 (main, Sep 11 2023, 08:31:25) [Clang 14.0.6 ]', 'platform': 'macOS-14.1-arm64-arm-64bit', 'event': 'created'}\n"
          ]
        }
      ],
      "source": [
        "w2v = Word2Vec(\n",
        "    min_count=2,\n",
        "    window=3,\n",
        "    vector_size=100,\n",
        "    sample=6e-5,\n",
        "    alpha=0.03,\n",
        "    min_alpha=0.0001,\n",
        "    negative=20,\n",
        "    hashfxn=hash,\n",
        "    workers=1\n",
        ")"
      ]
    },
    {
      "cell_type": "markdown",
      "metadata": {
        "cell_id": "1dfd2753f5744603919cd923eddef1ed",
        "deepnote_cell_type": "markdown",
        "id": "03eba781"
      },
      "source": [
        "2) Before training, Word2Vec requires us to build the vocabulary table by filtering out the unique words and doing some basic counts on them.\n",
        "Use the `build_vocab` function to process the data. If you look at the logs you can see the effect of `min_count` and `sample` on the word corpus."
      ]
    },
    {
      "cell_type": "code",
      "execution_count": null,
      "metadata": {
        "cell_id": "4db8ca7a59d947fbb6fd571cac2cc061",
        "deepnote_cell_type": "code",
        "deepnote_to_be_reexecuted": false,
        "execution_millis": 2908,
        "execution_start": 1698686473190,
        "id": "d9795441",
        "outputId": "d93dbf90-3f46-412f-efef-f41233b361c2",
        "scrolled": true,
        "source_hash": null
      },
      "outputs": [
        {
          "name": "stderr",
          "output_type": "stream",
          "text": [
            "INFO - 17:33:20: collecting all words and their counts\n",
            "INFO - 17:33:20: PROGRESS: at sentence #0, processed 0 words, keeping 0 word types\n",
            "INFO - 17:33:20: PROGRESS: at sentence #10000, processed 81112 words, keeping 9621 word types\n",
            "INFO - 17:33:20: PROGRESS: at sentence #20000, processed 164131 words, keeping 13290 word types\n",
            "INFO - 17:33:20: PROGRESS: at sentence #30000, processed 244255 words, keeping 14970 word types\n",
            "INFO - 17:33:20: collected 15000 word types from a corpus of 250337 raw words and 30822 sentences\n",
            "INFO - 17:33:20: Creating a fresh vocabulary\n",
            "INFO - 17:33:20: Word2Vec lifecycle event {'msg': 'effective_min_count=2 retains 9202 unique words (61.35% of original 15000, drops 5798)', 'datetime': '2023-11-11T17:33:20.237487', 'gensim': '4.3.2', 'python': '3.11.5 (main, Sep 11 2023, 08:31:25) [Clang 14.0.6 ]', 'platform': 'macOS-14.1-arm64-arm-64bit', 'event': 'prepare_vocab'}\n",
            "INFO - 17:33:20: Word2Vec lifecycle event {'msg': 'effective_min_count=2 leaves 244539 word corpus (97.68% of original 250337, drops 5798)', 'datetime': '2023-11-11T17:33:20.237941', 'gensim': '4.3.2', 'python': '3.11.5 (main, Sep 11 2023, 08:31:25) [Clang 14.0.6 ]', 'platform': 'macOS-14.1-arm64-arm-64bit', 'event': 'prepare_vocab'}\n",
            "INFO - 17:33:20: deleting the raw counts dictionary of 15000 items\n",
            "INFO - 17:33:20: sample=6e-05 downsamples 974 most-common words\n",
            "INFO - 17:33:20: Word2Vec lifecycle event {'msg': 'downsampling leaves estimated 115221.3846194 word corpus (47.1%% of prior 244539)', 'datetime': '2023-11-11T17:33:20.254137', 'gensim': '4.3.2', 'python': '3.11.5 (main, Sep 11 2023, 08:31:25) [Clang 14.0.6 ]', 'platform': 'macOS-14.1-arm64-arm-64bit', 'event': 'prepare_vocab'}\n",
            "INFO - 17:33:20: estimated required memory for 9202 words and 100 dimensions: 11962600 bytes\n",
            "INFO - 17:33:20: resetting layer weights\n",
            "INFO - 17:33:20: Word2Vec lifecycle event {'update': False, 'trim_rule': 'None', 'datetime': '2023-11-11T17:33:20.287082', 'gensim': '4.3.2', 'python': '3.11.5 (main, Sep 11 2023, 08:31:25) [Clang 14.0.6 ]', 'platform': 'macOS-14.1-arm64-arm-64bit', 'event': 'build_vocab'}\n"
          ]
        }
      ],
      "source": [
        "# I had to use lines, otherwise the words joey and central_perk were not in the top 15000 words\n",
        "w2v.build_vocab(corpus_iterable=new_lines_top_vocab, progress_per=10000)"
      ]
    },
    {
      "cell_type": "markdown",
      "metadata": {
        "cell_id": "2d979180168543c9ac657de95eb52c57",
        "deepnote_cell_type": "markdown",
        "id": "aefdc06f"
      },
      "source": [
        "3) Finally, we  train the model. Train the model for 100 epochs. This will take a while. As we do not plan to train the model any further, we call `init_sims()`, which will make the model much more memory-efficient by precomputing L2-norms of word weight vectors for further analysis."
      ]
    },
    {
      "cell_type": "code",
      "execution_count": null,
      "metadata": {
        "cell_id": "9bc14f8821da46e09a477743403c648a",
        "deepnote_cell_type": "code",
        "deepnote_to_be_reexecuted": false,
        "execution_millis": 19,
        "execution_start": 1698686653132,
        "id": "0febaedc",
        "outputId": "728bccd1-cb1d-41c3-933a-c579f804d6b3",
        "source_hash": null
      },
      "outputs": [
        {
          "name": "stderr",
          "output_type": "stream",
          "text": [
            "INFO - 17:33:20: Word2Vec lifecycle event {'msg': 'training model with 1 workers on 9202 vocabulary and 100 features, using sg=0 hs=0 sample=6e-05 negative=20 window=3 shrink_windows=True', 'datetime': '2023-11-11T17:33:20.290504', 'gensim': '4.3.2', 'python': '3.11.5 (main, Sep 11 2023, 08:31:25) [Clang 14.0.6 ]', 'platform': 'macOS-14.1-arm64-arm-64bit', 'event': 'train'}\n",
            "INFO - 17:33:20: EPOCH 0: training on 250337 raw words (115398 effective words) took 0.3s, 336869 effective words/s\n",
            "INFO - 17:33:20: EPOCH 1: training on 250337 raw words (115469 effective words) took 0.3s, 360014 effective words/s\n",
            "INFO - 17:33:21: EPOCH 2: training on 250337 raw words (115307 effective words) took 0.3s, 368000 effective words/s\n",
            "INFO - 17:33:21: EPOCH 3: training on 250337 raw words (115221 effective words) took 0.3s, 380198 effective words/s\n",
            "INFO - 17:33:21: EPOCH 4: training on 250337 raw words (115098 effective words) took 0.3s, 383316 effective words/s\n",
            "INFO - 17:33:22: EPOCH 5: training on 250337 raw words (115354 effective words) took 0.3s, 392145 effective words/s\n",
            "INFO - 17:33:22: EPOCH 6: training on 250337 raw words (115460 effective words) took 0.3s, 386448 effective words/s\n",
            "INFO - 17:33:22: EPOCH 7: training on 250337 raw words (115429 effective words) took 0.3s, 404139 effective words/s\n",
            "INFO - 17:33:23: EPOCH 8: training on 250337 raw words (115145 effective words) took 0.3s, 371020 effective words/s\n",
            "INFO - 17:33:23: EPOCH 9: training on 250337 raw words (115091 effective words) took 0.3s, 383460 effective words/s\n",
            "INFO - 17:33:23: EPOCH 10: training on 250337 raw words (115295 effective words) took 0.3s, 368560 effective words/s\n",
            "INFO - 17:33:24: EPOCH 11: training on 250337 raw words (115237 effective words) took 0.3s, 371918 effective words/s\n",
            "INFO - 17:33:24: EPOCH 12: training on 250337 raw words (115010 effective words) took 0.3s, 371816 effective words/s\n",
            "INFO - 17:33:24: EPOCH 13: training on 250337 raw words (114977 effective words) took 0.3s, 381269 effective words/s\n",
            "INFO - 17:33:24: EPOCH 14: training on 250337 raw words (115556 effective words) took 0.3s, 363000 effective words/s\n",
            "INFO - 17:33:25: EPOCH 15: training on 250337 raw words (115132 effective words) took 0.3s, 387257 effective words/s\n",
            "INFO - 17:33:25: EPOCH 16: training on 250337 raw words (115059 effective words) took 0.3s, 382968 effective words/s\n",
            "INFO - 17:33:25: EPOCH 17: training on 250337 raw words (115419 effective words) took 0.3s, 395214 effective words/s\n",
            "INFO - 17:33:26: EPOCH 18: training on 250337 raw words (115265 effective words) took 0.3s, 404715 effective words/s\n",
            "INFO - 17:33:26: EPOCH 19: training on 250337 raw words (115199 effective words) took 0.3s, 404483 effective words/s\n",
            "INFO - 17:33:26: EPOCH 20: training on 250337 raw words (115210 effective words) took 0.3s, 398892 effective words/s\n",
            "INFO - 17:33:26: EPOCH 21: training on 250337 raw words (115436 effective words) took 0.3s, 407095 effective words/s\n",
            "INFO - 17:33:27: EPOCH 22: training on 250337 raw words (115248 effective words) took 0.3s, 402573 effective words/s\n",
            "INFO - 17:33:27: EPOCH 23: training on 250337 raw words (114940 effective words) took 0.3s, 374775 effective words/s\n",
            "INFO - 17:33:27: EPOCH 24: training on 250337 raw words (115517 effective words) took 0.3s, 363223 effective words/s\n",
            "INFO - 17:33:28: EPOCH 25: training on 250337 raw words (115237 effective words) took 0.3s, 348557 effective words/s\n",
            "INFO - 17:33:28: EPOCH 26: training on 250337 raw words (115202 effective words) took 0.3s, 356536 effective words/s\n",
            "INFO - 17:33:28: EPOCH 27: training on 250337 raw words (115549 effective words) took 0.3s, 369745 effective words/s\n",
            "INFO - 17:33:29: EPOCH 28: training on 250337 raw words (115212 effective words) took 0.3s, 397568 effective words/s\n",
            "INFO - 17:33:29: EPOCH 29: training on 250337 raw words (115508 effective words) took 0.3s, 396479 effective words/s\n",
            "INFO - 17:33:29: EPOCH 30: training on 250337 raw words (115367 effective words) took 0.3s, 387065 effective words/s\n",
            "INFO - 17:33:30: EPOCH 31: training on 250337 raw words (115572 effective words) took 0.3s, 387920 effective words/s\n",
            "INFO - 17:33:30: EPOCH 32: training on 250337 raw words (115220 effective words) took 0.3s, 390596 effective words/s\n",
            "INFO - 17:33:30: EPOCH 33: training on 250337 raw words (115572 effective words) took 0.3s, 399440 effective words/s\n",
            "INFO - 17:33:30: EPOCH 34: training on 250337 raw words (115271 effective words) took 0.3s, 395438 effective words/s\n",
            "INFO - 17:33:31: EPOCH 35: training on 250337 raw words (115177 effective words) took 0.3s, 384151 effective words/s\n",
            "INFO - 17:33:31: EPOCH 36: training on 250337 raw words (114841 effective words) took 0.3s, 380055 effective words/s\n",
            "INFO - 17:33:31: EPOCH 37: training on 250337 raw words (115199 effective words) took 0.3s, 358287 effective words/s\n",
            "INFO - 17:33:32: EPOCH 38: training on 250337 raw words (115483 effective words) took 0.3s, 392865 effective words/s\n",
            "INFO - 17:33:32: EPOCH 39: training on 250337 raw words (115295 effective words) took 0.3s, 404606 effective words/s\n",
            "INFO - 17:33:32: EPOCH 40: training on 250337 raw words (115402 effective words) took 0.3s, 410732 effective words/s\n",
            "INFO - 17:33:33: EPOCH 41: training on 250337 raw words (115032 effective words) took 0.3s, 389629 effective words/s\n",
            "INFO - 17:33:33: EPOCH 42: training on 250337 raw words (115057 effective words) took 0.3s, 385118 effective words/s\n",
            "INFO - 17:33:33: EPOCH 43: training on 250337 raw words (115255 effective words) took 0.3s, 405224 effective words/s\n",
            "INFO - 17:33:33: EPOCH 44: training on 250337 raw words (115229 effective words) took 0.3s, 411273 effective words/s\n",
            "INFO - 17:33:34: EPOCH 45: training on 250337 raw words (115139 effective words) took 0.3s, 409201 effective words/s\n",
            "INFO - 17:33:34: EPOCH 46: training on 250337 raw words (115448 effective words) took 0.3s, 400834 effective words/s\n",
            "INFO - 17:33:34: EPOCH 47: training on 250337 raw words (115026 effective words) took 0.3s, 373517 effective words/s\n",
            "INFO - 17:33:35: EPOCH 48: training on 250337 raw words (115328 effective words) took 0.3s, 390537 effective words/s\n",
            "INFO - 17:33:35: EPOCH 49: training on 250337 raw words (115256 effective words) took 0.4s, 321486 effective words/s\n",
            "INFO - 17:33:35: EPOCH 50: training on 250337 raw words (115226 effective words) took 0.3s, 337644 effective words/s\n",
            "INFO - 17:33:36: EPOCH 51: training on 250337 raw words (115358 effective words) took 0.3s, 332620 effective words/s\n",
            "INFO - 17:33:36: EPOCH 52: training on 250337 raw words (115255 effective words) took 0.3s, 357006 effective words/s\n",
            "INFO - 17:33:36: EPOCH 53: training on 250337 raw words (114974 effective words) took 0.3s, 354089 effective words/s\n",
            "INFO - 17:33:37: EPOCH 54: training on 250337 raw words (115710 effective words) took 0.3s, 376371 effective words/s\n",
            "INFO - 17:33:37: EPOCH 55: training on 250337 raw words (115232 effective words) took 0.3s, 377161 effective words/s\n",
            "INFO - 17:33:37: EPOCH 56: training on 250337 raw words (115322 effective words) took 0.3s, 355140 effective words/s\n",
            "INFO - 17:33:38: EPOCH 57: training on 250337 raw words (115454 effective words) took 0.3s, 376291 effective words/s\n",
            "INFO - 17:33:38: EPOCH 58: training on 250337 raw words (115170 effective words) took 0.3s, 374611 effective words/s\n",
            "INFO - 17:33:38: EPOCH 59: training on 250337 raw words (115465 effective words) took 0.3s, 379559 effective words/s\n",
            "INFO - 17:33:38: EPOCH 60: training on 250337 raw words (115574 effective words) took 0.3s, 350169 effective words/s\n",
            "INFO - 17:33:39: EPOCH 61: training on 250337 raw words (115099 effective words) took 0.3s, 357611 effective words/s\n",
            "INFO - 17:33:39: EPOCH 62: training on 250337 raw words (114964 effective words) took 0.3s, 360112 effective words/s\n",
            "INFO - 17:33:39: EPOCH 63: training on 250337 raw words (115363 effective words) took 0.3s, 345556 effective words/s\n",
            "INFO - 17:33:40: EPOCH 64: training on 250337 raw words (115335 effective words) took 0.3s, 361337 effective words/s\n",
            "INFO - 17:33:40: EPOCH 65: training on 250337 raw words (115249 effective words) took 0.3s, 361133 effective words/s\n",
            "INFO - 17:33:40: EPOCH 66: training on 250337 raw words (115103 effective words) took 0.3s, 353062 effective words/s\n",
            "INFO - 17:33:41: EPOCH 67: training on 250337 raw words (115291 effective words) took 0.3s, 364625 effective words/s\n",
            "INFO - 17:33:41: EPOCH 68: training on 250337 raw words (115243 effective words) took 0.3s, 391890 effective words/s\n",
            "INFO - 17:33:41: EPOCH 69: training on 250337 raw words (115178 effective words) took 0.3s, 384331 effective words/s\n",
            "INFO - 17:33:42: EPOCH 70: training on 250337 raw words (115028 effective words) took 0.3s, 348545 effective words/s\n",
            "INFO - 17:33:42: EPOCH 71: training on 250337 raw words (115086 effective words) took 0.3s, 360258 effective words/s\n",
            "INFO - 17:33:42: EPOCH 72: training on 250337 raw words (115424 effective words) took 0.3s, 362987 effective words/s\n",
            "INFO - 17:33:43: EPOCH 73: training on 250337 raw words (115755 effective words) took 0.3s, 342750 effective words/s\n",
            "INFO - 17:33:43: EPOCH 74: training on 250337 raw words (115075 effective words) took 0.3s, 353530 effective words/s\n",
            "INFO - 17:33:43: EPOCH 75: training on 250337 raw words (115377 effective words) took 0.3s, 361645 effective words/s\n",
            "INFO - 17:33:44: EPOCH 76: training on 250337 raw words (115329 effective words) took 0.3s, 362918 effective words/s\n",
            "INFO - 17:33:44: EPOCH 77: training on 250337 raw words (115166 effective words) took 0.3s, 358697 effective words/s\n",
            "INFO - 17:33:44: EPOCH 78: training on 250337 raw words (115039 effective words) took 0.3s, 372507 effective words/s\n",
            "INFO - 17:33:45: EPOCH 79: training on 250337 raw words (115091 effective words) took 0.3s, 371352 effective words/s\n",
            "INFO - 17:33:45: EPOCH 80: training on 250337 raw words (115231 effective words) took 0.3s, 372089 effective words/s\n",
            "INFO - 17:33:45: EPOCH 81: training on 250337 raw words (115155 effective words) took 0.3s, 370859 effective words/s\n",
            "INFO - 17:33:45: EPOCH 82: training on 250337 raw words (115151 effective words) took 0.3s, 396777 effective words/s\n",
            "INFO - 17:33:46: EPOCH 83: training on 250337 raw words (115206 effective words) took 0.3s, 366247 effective words/s\n",
            "INFO - 17:33:46: EPOCH 84: training on 250337 raw words (115357 effective words) took 0.3s, 396347 effective words/s\n",
            "INFO - 17:33:46: EPOCH 85: training on 250337 raw words (115128 effective words) took 0.3s, 376003 effective words/s\n",
            "INFO - 17:33:47: EPOCH 86: training on 250337 raw words (115135 effective words) took 0.3s, 345596 effective words/s\n",
            "INFO - 17:33:47: EPOCH 87: training on 250337 raw words (115301 effective words) took 0.3s, 388356 effective words/s\n",
            "INFO - 17:33:47: EPOCH 88: training on 250337 raw words (115051 effective words) took 0.3s, 363602 effective words/s\n",
            "INFO - 17:33:48: EPOCH 89: training on 250337 raw words (115290 effective words) took 0.3s, 366064 effective words/s\n",
            "INFO - 17:33:48: EPOCH 90: training on 250337 raw words (115175 effective words) took 0.3s, 377722 effective words/s\n",
            "INFO - 17:33:48: EPOCH 91: training on 250337 raw words (115280 effective words) took 0.3s, 360552 effective words/s\n",
            "INFO - 17:33:49: EPOCH 92: training on 250337 raw words (115089 effective words) took 0.3s, 360217 effective words/s\n",
            "INFO - 17:33:49: EPOCH 93: training on 250337 raw words (115236 effective words) took 0.3s, 372322 effective words/s\n",
            "INFO - 17:33:49: EPOCH 94: training on 250337 raw words (115183 effective words) took 0.3s, 384302 effective words/s\n",
            "INFO - 17:33:50: EPOCH 95: training on 250337 raw words (115402 effective words) took 0.3s, 378914 effective words/s\n",
            "INFO - 17:33:50: EPOCH 96: training on 250337 raw words (115321 effective words) took 0.3s, 413671 effective words/s\n",
            "INFO - 17:33:50: EPOCH 97: training on 250337 raw words (115336 effective words) took 0.3s, 409491 effective words/s\n",
            "INFO - 17:33:50: EPOCH 98: training on 250337 raw words (114861 effective words) took 0.3s, 412879 effective words/s\n",
            "INFO - 17:33:51: EPOCH 99: training on 250337 raw words (115205 effective words) took 0.3s, 404186 effective words/s\n",
            "INFO - 17:33:51: Word2Vec lifecycle event {'msg': 'training on 25033700 raw words (11525377 effective words) took 30.9s, 373144 effective words/s', 'datetime': '2023-11-11T17:33:51.178288', 'gensim': '4.3.2', 'python': '3.11.5 (main, Sep 11 2023, 08:31:25) [Clang 14.0.6 ]', 'platform': 'macOS-14.1-arm64-arm-64bit', 'event': 'train'}\n"
          ]
        },
        {
          "data": {
            "text/plain": [
              "(11525377, 25033700)"
            ]
          },
          "execution_count": 13,
          "metadata": {},
          "output_type": "execute_result"
        }
      ],
      "source": [
        "w2v.train(corpus_iterable=new_lines_top_vocab, total_examples=w2v.corpus_count, epochs=100, report_delay=1)\n",
        "# w2v.init_sims(replace=True) No longer required for efficiency"
      ]
    },
    {
      "cell_type": "markdown",
      "metadata": {
        "cell_id": "8d7bcc59fa9a4db58253ce90a910afc8",
        "deepnote_cell_type": "markdown",
        "id": "a0c86f82"
      },
      "source": [
        "### Subtask 3: Exploring the Model\n"
      ]
    },
    {
      "cell_type": "markdown",
      "metadata": {
        "cell_id": "b5c5ad8c1f8748b7bca40daf0622a87b",
        "deepnote_cell_type": "markdown",
        "id": "377e1f70"
      },
      "source": [
        "As mentioned in the lecture, word embeddings are suited for similarity and analogy tasks. Let's explore some of that with our dataset:\n",
        "\n",
        "We look for the most similar words to the name of the famous coffee shop where most of the episodes took place, namely `central_perk` and also one of the characters `joey`. If you have followed the exercise correctly until now, you should see that words like `laying` are similar to `central_perk` and the other main characters are also considered similar to `joey`.\n",
        "\n"
      ]
    },
    {
      "cell_type": "code",
      "execution_count": null,
      "metadata": {
        "cell_id": "f3d08ec040cd4381a22787e1a66a20da",
        "deepnote_cell_type": "code",
        "id": "b7074ffa",
        "outputId": "b8509a2e-b784-495b-ee53-4adb8365c9fc",
        "scrolled": true
      },
      "outputs": [
        {
          "data": {
            "text/plain": [
              "[('back', 0.7201736569404602),\n",
              " ('conan', 0.616219699382782),\n",
              " ('sitting_couch', 0.4656095802783966),\n",
              " ('ish', 0.45086634159088135),\n",
              " ('cuddling', 0.44639337062835693),\n",
              " ('intrigued', 0.43748244643211365),\n",
              " ('crossword', 0.42760711908340454),\n",
              " ('crash', 0.42212584614753723),\n",
              " ('appartment', 0.41930893063545227),\n",
              " ('shhh', 0.41291123628616333)]"
            ]
          },
          "execution_count": 14,
          "metadata": {},
          "output_type": "execute_result"
        }
      ],
      "source": [
        "w2v.wv.most_similar(positive=[\"central_perk\"])"
      ]
    },
    {
      "cell_type": "code",
      "execution_count": null,
      "metadata": {
        "cell_id": "d38ea41d5e2c4652b220cad504e69dbe",
        "deepnote_cell_type": "code",
        "id": "2e66e435",
        "outputId": "7599056c-b5ce-4277-edcb-8c72d836084c",
        "scrolled": true
      },
      "outputs": [
        {
          "data": {
            "text/plain": [
              "[('chandler', 0.7492083311080933),\n",
              " ('ross', 0.6886774301528931),\n",
              " ('monica', 0.6481075286865234),\n",
              " ('rachel', 0.6369766592979431),\n",
              " ('phoebe', 0.6366932988166809),\n",
              " ('goes', 0.5658732056617737),\n",
              " ('hey', 0.520183265209198),\n",
              " ('oh', 0.5040765404701233),\n",
              " ('looks', 0.5030487179756165),\n",
              " ('door', 0.4982396066188812)]"
            ]
          },
          "execution_count": 15,
          "metadata": {},
          "output_type": "execute_result"
        }
      ],
      "source": [
        "w2v.wv.most_similar(positive=[\"joey\"])"
      ]
    },
    {
      "cell_type": "markdown",
      "metadata": {
        "cell_id": "8b3ebb52da6d4c7abd32422223ad91de",
        "deepnote_cell_type": "markdown",
        "id": "e3591274"
      },
      "source": [
        "Look at the similarity of `green` to `rachel` (her lastname) and `ross`  and `spaceship` (urelated). The first one should have a high and the second a low score. Finally, look at the similarity of `smelly_cat` ( a song from pheobe) and `song` the similarity should be high."
      ]
    },
    {
      "cell_type": "code",
      "execution_count": null,
      "metadata": {
        "cell_id": "c9292e5f8e8b4bbab08c1c0a7327036a",
        "deepnote_cell_type": "code",
        "id": "c5de6309",
        "outputId": "5f18688a-7e3f-4f56-a3c7-f62e1c419910"
      },
      "outputs": [
        {
          "data": {
            "text/plain": [
              "0.10948886"
            ]
          },
          "execution_count": 16,
          "metadata": {},
          "output_type": "execute_result"
        }
      ],
      "source": [
        "w2v.wv.similarity(\"green\", 'rachel')"
      ]
    },
    {
      "cell_type": "code",
      "execution_count": null,
      "metadata": {
        "cell_id": "2792fcb2bd2941b29483e040ea801111",
        "deepnote_cell_type": "code",
        "id": "322d0605",
        "outputId": "2e8952f7-d2e9-44cf-c786-e321c0ec974b"
      },
      "outputs": [
        {
          "data": {
            "text/plain": [
              "-0.20768374"
            ]
          },
          "execution_count": 17,
          "metadata": {},
          "output_type": "execute_result"
        }
      ],
      "source": [
        "w2v.wv.similarity(\"ross\", 'spaceship')"
      ]
    },
    {
      "cell_type": "code",
      "execution_count": null,
      "metadata": {
        "cell_id": "857a05fc9c1642979acf147eb55ee495",
        "deepnote_cell_type": "code",
        "id": "f7a0a1f5",
        "outputId": "45c12ce9-c8c9-47dd-ffaa-8d359fe1c78a",
        "scrolled": true
      },
      "outputs": [
        {
          "data": {
            "text/plain": [
              "0.47669905"
            ]
          },
          "execution_count": 18,
          "metadata": {},
          "output_type": "execute_result"
        }
      ],
      "source": [
        "w2v.wv.similarity(\"smelly_cat\", 'song')"
      ]
    },
    {
      "cell_type": "markdown",
      "metadata": {
        "cell_id": "92a2bdf7949c432e913ff1f58f9518df",
        "deepnote_cell_type": "markdown",
        "id": "7343365d"
      },
      "source": [
        "We can also ask our model to give us the word that does not belong to a list of words. Let's see from the list of all 5 characters which one is the most dissimilar?\n"
      ]
    },
    {
      "cell_type": "code",
      "execution_count": null,
      "metadata": {
        "cell_id": "4a5f55cfe2444eb5adcdc32dc8fd810f",
        "deepnote_cell_type": "code",
        "id": "37bff805"
      },
      "outputs": [],
      "source": [
        "character_names= ['joey', 'rachel', 'phoebe','monica','chandler']"
      ]
    },
    {
      "cell_type": "code",
      "execution_count": null,
      "metadata": {
        "cell_id": "c461f1e0b8a147ef8ab5d0aa2fc398f4",
        "deepnote_cell_type": "code",
        "id": "9020cd09",
        "outputId": "ce1beb22-1b66-46d2-f84c-4654c587056c",
        "scrolled": true
      },
      "outputs": [
        {
          "data": {
            "text/plain": [
              "'joey'"
            ]
          },
          "execution_count": 20,
          "metadata": {},
          "output_type": "execute_result"
        }
      ],
      "source": [
        "w2v.wv.doesnt_match(character_names)"
      ]
    },
    {
      "cell_type": "markdown",
      "metadata": {
        "cell_id": "7278cc4a122a439cb7bb3be20a1ce94a",
        "deepnote_cell_type": "markdown",
        "id": "28abdaec"
      },
      "source": [
        "Based on the analogies, which word is to `monica` as `man` is to `women`? (print the top 3 words); you should get `chandler`among the answers."
      ]
    },
    {
      "cell_type": "code",
      "execution_count": null,
      "metadata": {
        "cell_id": "30e6af02c91f4e81b37433f0fa70782f",
        "deepnote_cell_type": "code",
        "id": "4a270c9b",
        "outputId": "7e86be46-d421-493a-8719-25c6c1c49ad7"
      },
      "outputs": [
        {
          "data": {
            "text/plain": [
              "[('chandler', 0.4864269495010376),\n",
              " ('phoebe', 0.45316991209983826),\n",
              " ('hey', 0.44662365317344666)]"
            ]
          },
          "execution_count": 21,
          "metadata": {},
          "output_type": "execute_result"
        }
      ],
      "source": [
        "w2v.wv.most_similar(positive=[\"monica\", \"man\"], negative=[\"woman\"], topn=3)"
      ]
    },
    {
      "cell_type": "markdown",
      "metadata": {
        "cell_id": "5ad13bd66cd04aea8612260b0d8674df",
        "deepnote_cell_type": "markdown",
        "id": "1c97ae83"
      },
      "source": [
        "Finally, lets use [t-SNE](https://www.jmlr.org/papers/volume9/vandermaaten08a/vandermaaten08a.pdf) to look at the distribution of our embeddings in the vector space for the character `joey`. Follow the instructions and fill in the blank in the `tsneplot` function."
      ]
    },
    {
      "cell_type": "code",
      "execution_count": null,
      "metadata": {
        "cell_id": "ee0c0d3840564901a6727dcb24609e41",
        "deepnote_cell_type": "code",
        "id": "d0b8930e"
      },
      "outputs": [],
      "source": [
        "import numpy as np\n",
        "import matplotlib.pyplot as plt\n",
        "%matplotlib inline\n",
        "import seaborn as sns\n",
        "import sys\n",
        "from sklearn.manifold import TSNE"
      ]
    },
    {
      "cell_type": "code",
      "execution_count": null,
      "metadata": {
        "cell_id": "aa191d846a5a4fe58a05370e983046fc",
        "deepnote_cell_type": "code",
        "id": "faa51d9e"
      },
      "outputs": [],
      "source": [
        "def tsneplot(model, word):\n",
        "    \"\"\" Plot in seaborn the results from the t-SNE dimensionality reduction for the top 10 most similar and dissimilar words\n",
        "    \"\"\"\n",
        "    embs = np.empty((0, 100), dtype='f')# to save all the embeddings\n",
        "    word_labels = [word]\n",
        "    color_list  = ['green']\n",
        "\n",
        "    # adds the vector of the query word\n",
        "    embs = np.append(embs, model.wv.__getitem__([word]), axis=0)\n",
        "\n",
        "    # gets list of most similar words\n",
        "    close_words = model.wv.most_similar([word])\n",
        "    all_sims = model.wv.most_similar([word], topn=sys.maxsize)\n",
        "    far_words = list(reversed(all_sims[-10:]))\n",
        "\n",
        "    # adds the vector for each of the closest words to the array\n",
        "    for wrd_score in close_words:\n",
        "        wrd_vector = model.wv.__getitem__([wrd_score[0]])\n",
        "        word_labels.append(wrd_score[0])\n",
        "        color_list.append('blue')\n",
        "        embs = np.append(embs, wrd_vector, axis=0)\n",
        "\n",
        "    # adds the vector for each of the furthest words to the array\n",
        "    for wrd_score in far_words:\n",
        "        wrd_vector = model.wv.__getitem__([wrd_score[0]])\n",
        "        word_labels.append(wrd_score[0])\n",
        "        color_list.append('red')\n",
        "        embs = np.append(embs, wrd_vector, axis=0)\n",
        "\n",
        "    np.set_printoptions(suppress=True)\n",
        "    Y = TSNE(n_components=2, random_state=110, perplexity=15).fit_transform(embs)\n",
        "\n",
        "    # sets everything up to plot\n",
        "    df = pd.DataFrame({'x': [x for x in Y[:, 0]],\n",
        "                       'y': [y for y in Y[:, 1]],\n",
        "                       'words': word_labels,\n",
        "                       'color': color_list})\n",
        "\n",
        "    fig, _ = plt.subplots()\n",
        "    fig.set_size_inches(10, 10)\n",
        "\n",
        "    # basic plot\n",
        "    p1 = sns.regplot(data=df,\n",
        "                     x=\"x\",\n",
        "                     y=\"y\",\n",
        "                     fit_reg=False,\n",
        "                     marker=\"o\",\n",
        "                     scatter_kws={'s': 40,\n",
        "                                  'facecolors': df['color']\n",
        "                                 }\n",
        "                    )\n",
        "\n",
        "    # adds annotations one by one with a loop\n",
        "    for line in range(0, df.shape[0]):\n",
        "         p1.text(df[\"x\"][line],\n",
        "                 df['y'][line],\n",
        "                 '  ' + df[\"words\"][line].title(),\n",
        "                 horizontalalignment='left',\n",
        "                 verticalalignment='bottom', size='medium',\n",
        "                 color=df['color'][line],\n",
        "                 weight='normal'\n",
        "                ).set_size(15)\n",
        "\n",
        "\n",
        "    plt.xlim(Y[:, 0].min()-1, Y[:, 0].max()+1)\n",
        "    plt.ylim(Y[:, 1].min()-1, Y[:, 1].max()+1)\n",
        "\n",
        "    plt.title('t-SNE visualization for {}'.format(word.title()))\n"
      ]
    },
    {
      "cell_type": "code",
      "execution_count": null,
      "metadata": {
        "cell_id": "725afc6c92ba4f908ec460419775eb18",
        "deepnote_cell_type": "code",
        "id": "3880bad8",
        "outputId": "5217f824-1e53-4971-c62b-38f577161bbf"
      },
      "outputs": [
        {
          "data": {
            "image/png": "[encoded data removed]",
            "text/plain": [
              "<Figure size 1000x1000 with 1 Axes>"
            ]
          },
          "metadata": {},
          "output_type": "display_data"
        }
      ],
      "source": [
        "tsneplot(w2v, 'joey')"
      ]
    },
    {
      "cell_type": "markdown",
      "metadata": {
        "cell_id": "14d7e861f1dc4204a8e39b27547dd9c4",
        "deepnote_cell_type": "markdown",
        "id": "1ce2c270"
      },
      "source": [
        "## **Task 2: Questions on the Conceptual Level (non-programming) (Grade (2 + 1 + 1 + 4) = 8)**"
      ]
    },
    {
      "cell_type": "markdown",
      "metadata": {
        "cell_id": "ace660a64baf473d9724dbc2ff371725",
        "deepnote_cell_type": "markdown",
        "id": "c3fa409f"
      },
      "source": [
        "Please answer the following questions in the notebook cells using markdown. Be precise and short."
      ]
    },
    {
      "cell_type": "markdown",
      "metadata": {
        "cell_id": "24fb0c7ae4074588bdb05a3d9a3dfcf6",
        "deepnote_cell_type": "markdown",
        "id": "1ec614b0"
      },
      "source": [
        "### Subtask 1: For gradient descent, what advantage has a decaying learning rate?"
      ]
    },
    {
      "cell_type": "markdown",
      "metadata": {
        "cell_id": "e75be01ffafa494a9ba4d6504c083822",
        "deepnote_cell_type": "markdown",
        "id": "bec059fb"
      },
      "source": [
        "Larger learning rates in the beginning of the training supports faster convergence with larger update steps towards the minimum. This can however lead to overshooting and oscillation around the minimum in the later phase of the training. Decaying learning rates leverage the advantage of larger steps in the beginning of the training and at the same time solve the problem of overshooting."
      ]
    },
    {
      "cell_type": "markdown",
      "metadata": {
        "cell_id": "ce28e2169a524b7daf96af474b569360",
        "deepnote_cell_type": "markdown",
        "id": "0af2b619"
      },
      "source": [
        "### Subtask 2: Why is it easier to maximize the log likelihood instead of the \"normal\" likelihood?"
      ]
    },
    {
      "cell_type": "markdown",
      "metadata": {
        "cell_id": "a4da45940d9b456ba937eefbda717f62",
        "deepnote_cell_type": "markdown",
        "id": "deb75406"
      },
      "source": [
        "Maximizing the log-likelihood simplifies the optimization process. It transforms the product of likelihood terms into the sum of log-likelihood terms. As descussed in the lecture, taking the logarithm allows to simplify these products into sums, making it easier to differentiate."
      ]
    },
    {
      "cell_type": "markdown",
      "metadata": {
        "cell_id": "55401062c4414e22b07999c9516ddd47",
        "deepnote_cell_type": "markdown",
        "id": "a9828a2f"
      },
      "source": [
        "### Subtask 3: Name one advantage that fastText has over Word2Vec?"
      ]
    },
    {
      "cell_type": "markdown",
      "metadata": {
        "cell_id": "37206cb5835d458ca95650ef71670421",
        "deepnote_cell_type": "markdown",
        "id": "6c7aeb3b"
      },
      "source": [
        "fastText is capable to capture morphological and semantical information of words, since it represents words as the sum of their character n-gram vectors (subword units). Therefore, handling of out-of-vocabulary words, which is an issue in Word2Vec, is more robust in fastText."
      ]
    },
    {
      "cell_type": "markdown",
      "metadata": {
        "cell_id": "1296e557d1ea498e9c6a52fe8fbcb8b1",
        "deepnote_cell_type": "markdown",
        "id": "07634ed8"
      },
      "source": [
        "### Subtask 4: Compute the partial derivate of softmax loss for word2vec with respect to the center word vector.\n",
        "\n",
        "$$ \\frac{\\partial J}{\\partial v_c} =\\frac{\\partial}{\\partial v_c}\\left[ -log \\left( \\frac{exp(u^T_o v_c)}{\\Sigma_{w \\in Vocab} exp(u^T_o v_c)} \\right)\\right] $$\n",
        "use $U$ to denote the matrix of all embeddings and $y$ for a one-hot vector with a 1 for the true outside word $o$, and $\\hat{y}$ for the predicted distribution $P(w|c)$."
      ]
    },
    {
      "cell_type": "markdown",
      "source": [
        "![cross_entropy.jpeg](data:image/jpeg;base64,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)"
      ],
      "metadata": {
        "id": "NbCiThwqYYXz"
      }
    },
    {
      "cell_type": "markdown",
      "metadata": {
        "cell_id": "1db960c2184f4d86a99007290ddb7d53",
        "deepnote_cell_type": "markdown",
        "id": "8364e05b"
      },
      "source": [
        "## **Task 3: Auto-Complete Feature (Grade (2 + 6 + 4) = 12)**\n",
        "\n",
        "Let's get even more practical! In this problem set, you will build your own auto-completion system that you see every day while using search engines.\n",
        "\n",
        "[google]: https://www.thedad.com/wp-content/uploads/2018/05/screen-shot-2018-05-12-at-2-01-56-pm.png \"google auto complete\"\n",
        "\n",
        "![google]\n",
        "By the end of this assignment, you will develop a simple prototype of such a system using n-gram language model. At the heart of the system is a language model that assigns the probability to a sequence of words. We take advantage of this probability calculation to predict the next word.\n",
        "\n",
        "The problem set contains 3 main parts:\n",
        "\n",
        "1. Load and preprocess data (tokenize and split into train and test)\n",
        "2. Develop n-gram based language model by estimating the conditional probability of the next word.\n",
        "3. Evaluate the model by computing the perplexity score.\n"
      ]
    },
    {
      "cell_type": "markdown",
      "metadata": {
        "cell_id": "8f2e3c8d05744ca2ba9d6954068ccc4f",
        "deepnote_cell_type": "markdown",
        "id": "c9d5f84e"
      },
      "source": [
        "### Subtask 1: Load and Preprocess Data\n",
        "We use a subset of English tweets to train our model. Run the cell below to load the data and observe a few lines of it. Notice that tweets are saved in a text file, where the individual tweets are separated by `\\n`"
      ]
    },
    {
      "cell_type": "code",
      "execution_count": null,
      "metadata": {
        "cell_id": "58f762e9ed1d424fbe3ff9709f85a931",
        "colab": {
          "base_uri": "https://localhost:8080/",
          "height": 105
        },
        "deepnote_cell_type": "code",
        "id": "48fc8e51",
        "outputId": "fdca5c58-4cde-4f2a-c405-8acb99e2017c"
      },
      "outputs": [
        {
          "name": "stdout",
          "output_type": "stream",
          "text": [
            "First 500 characters of the data:\n"
          ]
        },
        {
          "data": {
            "application/vnd.google.colaboratory.intrinsic+json": {
              "type": "string"
            },
            "text/plain": [
              "\"How are you? Btw thanks for the RT. You gonna be in DC anytime soon? Love to see you. Been way, way too long.\\nWhen you meet someone special... you'll know. Your heart will beat more rapidly and you'll smile for no reason.\\nthey've decided its more fun if I don't.\\nSo Tired D; Played Lazer Tag & Ran A LOT D; Ughh Going To Sleep Like In 5 Minutes ;)\\nWords from a complete stranger! Made my birthday even better :)\\nFirst Cubs game ever! Wrigley field is gorgeous. This is perfect. Go Cubs Go!\\ni no! i ge\""
            ]
          },
          "metadata": {},
          "output_type": "display_data"
        },
        {
          "name": "stdout",
          "output_type": "stream",
          "text": [
            "-------\n"
          ]
        }
      ],
      "source": [
        "import spacy\n",
        "nlp = spacy.load(\"en_core_web_sm\", disable=[\"tagger\", \"parser\",\"ner\"])\n",
        "\n",
        "\n",
        "with open(\"./twitter.txt\", \"r\") as f:\n",
        "    data = f.read()\n",
        "print(\"First 500 characters of the data:\")\n",
        "display(data[0:500])\n",
        "print(\"-------\")"
      ]
    },
    {
      "cell_type": "markdown",
      "metadata": {
        "cell_id": "80b3757b35d046eab04bb777b6a416b6",
        "deepnote_cell_type": "markdown",
        "id": "aa007e1d"
      },
      "source": [
        "Now we need to separate the tweets and split them into train and test set. Apply the following pre-processing steps:\n",
        "\n",
        "1. Split data into sentences using \"\\n\" as the delimiter and remove the leading and trailing spaces (drop empty sentences)\n",
        "2. Tokenize the sentences into words using SpaCy and lowercase them. (notice that we do not remove stop words or punctuations.)\n",
        "3. Divide the sentences into 80 percent training and 20 percent test set. No validation set is required. Although in a real-world application it is best to set aside part of the data for hyperparameter tuning.\n",
        "4. To limit the vocabulary and remove potential spelling mistakes, make a vocabulary of the words that appear at least 2 times. The rest of the words will be replaced by the `<unk>` symbol. This is a crucial step since if your model encounters a word that it never saw during training, it won't have an input word that helps determining the next word for suggestion. We use the `<unk>` word for **out of Vocabulary (OOV)** words. Keep in mind that we built the vocabulary on the training data only."
      ]
    },
    {
      "cell_type": "code",
      "execution_count": null,
      "metadata": {
        "cell_id": "aacd6837aaf646eea5c57d147ae86251",
        "deepnote_cell_type": "code",
        "id": "16d5b640"
      },
      "outputs": [],
      "source": [
        "sentences = data.split(\"\\n\")\n",
        "sentences = list(map(lambda s: s.strip(), sentences))\n",
        "# remove empty string as well\n",
        "sentences.remove(\"\")"
      ]
    },
    {
      "cell_type": "code",
      "execution_count": null,
      "metadata": {
        "cell_id": "14d26cc808a64f57972f5fc17543c798",
        "colab": {
          "base_uri": "https://localhost:8080/"
        },
        "deepnote_cell_type": "code",
        "id": "2faabb7a",
        "outputId": "7dd3cb1f-8b76-4a90-e5b1-95ce1c411f8d"
      },
      "outputs": [
        {
          "name": "stderr",
          "output_type": "stream",
          "text": [
            "/usr/local/lib/python3.10/dist-packages/spacy/pipeline/lemmatizer.py:211: UserWarning: [W108] The rule-based lemmatizer did not find POS annotation for one or more tokens. Check that your pipeline includes components that assign token.pos, typically 'tagger'+'attribute_ruler' or 'morphologizer'.\n",
            "  warnings.warn(Warnings.W108)\n"
          ]
        }
      ],
      "source": [
        "tokenized_corpus = []# list of list of the tokens in a sentence\n",
        "for s in sentences:\n",
        "    doc = nlp(s)\n",
        "    tokens = [token.text.lower() for token in doc]\n",
        "    tokenized_corpus.append(tokens)"
      ]
    },
    {
      "cell_type": "code",
      "execution_count": null,
      "metadata": {
        "cell_id": "99e828609a5b46839a99a2be980c8769",
        "colab": {
          "base_uri": "https://localhost:8080/"
        },
        "deepnote_cell_type": "code",
        "id": "235d1b53",
        "outputId": "e99e8597-0d81-4d18-e3f4-f123633baa20"
      },
      "outputs": [
        {
          "name": "stdout",
          "output_type": "stream",
          "text": [
            "overall length: 47961, train: 38369, test: 9592\n"
          ]
        }
      ],
      "source": [
        "from random import Random\n",
        "Random(4).shuffle(tokenized_corpus)\n",
        "split = round(len(tokenized_corpus)*0.8)\n",
        "\n",
        "train = tokenized_corpus[:split]\n",
        "test = tokenized_corpus[split:]\n",
        "\n",
        "print(f\"overall length: {len(tokenized_corpus)}, train: {len(train)}, test: {len(test)}\")"
      ]
    },
    {
      "cell_type": "code",
      "execution_count": null,
      "metadata": {
        "cell_id": "d18ffa61ccda41e1aed028f98aef4013",
        "colab": {
          "base_uri": "https://localhost:8080/"
        },
        "deepnote_cell_type": "code",
        "id": "2526e4b1",
        "outputId": "d79ff069-f7c6-46cb-c917-5295270f7c30"
      },
      "outputs": [
        {
          "name": "stdout",
          "output_type": "stream",
          "text": [
            "14861\n"
          ]
        }
      ],
      "source": [
        "from collections import Counter\n",
        "flatten_corpus = [item for sublist in train for item in sublist]\n",
        "word_counts = Counter(flatten_corpus)\n",
        "vocab = [k for k,v in word_counts.items() if v >= 2]\n",
        "\n",
        "### keep only the ones with frequency bigger than 2 ###\n",
        "print(len(vocab)) ### should be 14861 ###\n",
        "train_replaced = []\n",
        "test_replaced = []\n",
        "for sentence in train:\n",
        "    train_replaced.append([word if word in vocab else \"<unk>\" for word in sentence])\n",
        "for sentence in test:\n",
        "    test_replaced.append([word if word in vocab else \"<unk>\" for word in sentence])"
      ]
    },
    {
      "cell_type": "markdown",
      "metadata": {
        "cell_id": "1cf527629aa04e3b934ece7dc59724c9",
        "deepnote_cell_type": "markdown",
        "id": "f447294a"
      },
      "source": [
        "### Subtask 2: N-gram Based Language Model:\n",
        "In this section, you will develop an n-grams language model [**1. Large Language Models (LLMs), slide 1-24**]. We assume that the probability of the next word depends only on the previous n-gram or previous n words. We compute this probability by counting the occurrences in the corpus.\n",
        "The conditional probability for the word at position 't' in the sentence, given that the words preceding it are $w_{t-1}, w_{t-2} \\cdots w_{t-n}$ can be estimated as follows:\n",
        "\n",
        "$$ \\hat{P}(w_t | w_{t-1}\\dots w_{t-n}) = \\frac{C(w_{t-1}\\dots w_{t-n}, w_t)}{C(w_{t-1}\\dots w_{t-n})}  $$\n",
        "\n",
        "The numerator is the number of times word '$w_t$' appears after the n-gram, and the denominator is the number of times the n-gram occurs in the corpus, where $C(\\cdots)$ is a count function. Later, we add k-smoothing to avoid errors when any counts are zero."
      ]
    },
    {
      "cell_type": "markdown",
      "metadata": {
        "cell_id": "b8907d5a38c144708623c6b664f12085",
        "deepnote_cell_type": "markdown",
        "id": "7a590b34"
      },
      "source": [
        "To tackle the problem of probability estimation we divide the problem into 3 parts. In the following you will:\n",
        "1. Implement a function that computes the counts of n-grams for an arbitrary number n.\n",
        "2. Estimate the probability of a word given the prior n-words using the n-gram counts.\n",
        "3. Calculate probabilities for all possible words.\n",
        "The steps are detailed below."
      ]
    },
    {
      "cell_type": "markdown",
      "metadata": {
        "cell_id": "491396e5d91545b492d55fd8830bac8f",
        "deepnote_cell_type": "markdown",
        "id": "8da09885"
      },
      "source": [
        "Let's start by implementing a function that computes the counts of n-grams for an arbitrary number n.\n",
        "- Prepend necessary starting markers `<s>` to indicate the beginning of the sentence. In the case of a bi-gram model, you need to prepend two start tokens `<s><s>` to be able to predict the first word. \"hello world\"-> \"`<s><s>`hello world\".\n",
        "- Append an end token `<e>` so that the model can predict when to finish a sentence.\n",
        "- Create a dictionary to store all the n_gram counts."
      ]
    },
    {
      "cell_type": "code",
      "execution_count": null,
      "metadata": {
        "cell_id": "1831e1e0042c44928f0804fb52e4b056",
        "deepnote_cell_type": "code",
        "id": "e8a98cee"
      },
      "outputs": [],
      "source": [
        "from collections import defaultdict\n",
        "def n_grams_counts(corpus, n):\n",
        "    \"\"\"\n",
        "    Count all n-grams in the corpus given the parameter n\n",
        "\n",
        "    data: List of lists of words (your tokenized corpus)\n",
        "    n: n in the n-gram\n",
        "\n",
        "    Returns: A dictionary that maps a tuple of n words to its frequency\n",
        "    \"\"\"\n",
        "    start_token='<s>'\n",
        "    end_token = '<e>'\n",
        "    n_grams = defaultdict(int)\n",
        "    for sentence in corpus:\n",
        "        sentence = [start_token] * n + sentence + [end_token] * n\n",
        "        # convert list to tuple so it can be used as the key in the dictionary\n",
        "        sentence = tuple(sentence)\n",
        "\n",
        "        ###iterate over the n-grams in the sentence, you can use the range() function, and increament the counts in the\n",
        "        ## n_grams dictionary, where the key is the n_gram and the value is count\n",
        "\n",
        "        for idx in range(0, len(sentence)-(n-1)):\n",
        "            n_gram = sentence[idx:idx+n]\n",
        "            n_grams[n_gram] +=1\n",
        "    return n_grams"
      ]
    },
    {
      "cell_type": "markdown",
      "metadata": {
        "cell_id": "1b61c4f79d0b4398a3381a6b49ec9bb9",
        "deepnote_cell_type": "markdown",
        "id": "ba75f530"
      },
      "source": [
        "The next step is to estimate the probability of a word given the prior n words using the n-gram counts, based on the formula given at the beginning of this task. To deal with the problem of zero division we add k-smoothing. K-smoothing adds a positive constant $k$ to each numerator and $k \\times |vocabulary size|$ in the denominator. Below we will define a function that takes in a dictionary `n_gram_cnt`, where the key is the n-gram, and the value is the count of that n-gram, plus a dictionary for `plus_current_gram_cnt`, which you'll use to find the count for the previous n-gram plus the current word. Notice that these dictionaries are computed using the previous function `n_grams_counts`.\n"
      ]
    },
    {
      "cell_type": "code",
      "execution_count": null,
      "metadata": {
        "cell_id": "f7953b233226442db6b6bfa34e210faf",
        "deepnote_cell_type": "code",
        "id": "a2c6898d"
      },
      "outputs": [],
      "source": [
        "def probability(word, prev_n_gram, n_gram_cnts, plus_current_gram_cnts, vocab_size):\n",
        "    \"\"\"\n",
        "    Estimate the probabilities of the next word using the n-gram counts with k-smoothing\n",
        "    word: next word\n",
        "    prev_n_gram: previous n gram\n",
        "    n_gram_cnts: dictionary of counts of n-grams\n",
        "    plus_current_gram_cnts: dictionary of counts of (n+1)-grams -> current word+ n-gram = (n+1)-gram\n",
        "    vocab_size: number of words in the vocabulary\n",
        "\n",
        "    Returns: A probability\n",
        "    \"\"\"\n",
        "    k=1.0\n",
        "    prev_n_gram = tuple(prev_n_gram)\n",
        "\n",
        "    prev_n_gram_cnt =  n_gram_cnts[prev_n_gram]\n",
        "    denominator = (k * vocab_size) + prev_n_gram_cnt\n",
        "    plus_current_gram =  prev_n_gram + (word,)\n",
        "    plus_current_gram_cnt = plus_current_gram_cnts[plus_current_gram]\n",
        "    numerator = k + plus_current_gram_cnt\n",
        "    prob = numerator / denominator\n",
        "\n",
        "    return prob"
      ]
    },
    {
      "cell_type": "markdown",
      "metadata": {
        "cell_id": "0ace7921a06e4a0fbcb65e145a7b1887",
        "deepnote_cell_type": "markdown",
        "id": "7803eb7c"
      },
      "source": [
        "Let's use the functions we have defined to calculate probabilities for all possible words.\n"
      ]
    },
    {
      "cell_type": "code",
      "execution_count": null,
      "metadata": {
        "cell_id": "dcaccf27e5f34299b5b9cb23de52581a",
        "deepnote_cell_type": "code",
        "id": "7157c4cb"
      },
      "outputs": [],
      "source": [
        "def probabilities(prev_n_gram, n_gram_cnts, plus_current_gram_cnts, vocab):\n",
        "    \"\"\"\n",
        "    Estimate the probabilities for all the words in the vocabulary given the previous n-gram\n",
        "    prev_n_gram: previous n-gram\n",
        "    n_gram_cnts: dictionary of counts of n-grams\n",
        "    plus_current_gram_cntsplus_current_gram_cnt: dictionary of counts of (n+1)-grams -> current word+ n-gram = (n+1)-gram\n",
        "    vocab: List of words\n",
        "\n",
        "    Returns: A dictionary mapping from next words to the probability.\n",
        "    \"\"\"\n",
        "    prev_n_gram = tuple(prev_n_gram)\n",
        "\n",
        "    vocab =  vocab + [\"<e>\", \"<unk>\"]\n",
        "    vocabulary_size = len(vocab)\n",
        "\n",
        "    probabilities = {}\n",
        "    for word in vocab:\n",
        "        prob = probability(word, prev_n_gram, n_gram_cnts, plus_current_gram_cnts, vocabulary_size)\n",
        "        probabilities[word] = prob\n",
        "    return probabilities"
      ]
    },
    {
      "cell_type": "code",
      "execution_count": null,
      "metadata": {
        "cell_id": "69b27da7a72540d7b98314cc06ee03d4",
        "colab": {
          "base_uri": "https://localhost:8080/"
        },
        "deepnote_cell_type": "code",
        "id": "88fea049",
        "outputId": "aea4ec32-01db-4a6d-ba10-cb68a09c644a"
      },
      "outputs": [
        {
          "name": "stdout",
          "output_type": "stream",
          "text": [
            "The word 'moon' should have the highest probability, if it is not the case, re-visit your previous functions.\n"
          ]
        },
        {
          "data": {
            "text/plain": [
              "{'tonight': 0.05263157894736842,\n",
              " 'shinnig': 0.05263157894736842,\n",
              " 'mars': 0.05263157894736842,\n",
              " 'moon': 0.21052631578947367,\n",
              " 'stars': 0.05263157894736842,\n",
              " 'shining': 0.05263157894736842,\n",
              " 'a': 0.05263157894736842,\n",
              " 'and': 0.05263157894736842,\n",
              " 'is': 0.05263157894736842,\n",
              " 'plants': 0.05263157894736842,\n",
              " 'plant': 0.05263157894736842,\n",
              " 'are': 0.05263157894736842,\n",
              " 'bright': 0.05263157894736842,\n",
              " 'the': 0.05263157894736842,\n",
              " '<e>': 0.05263157894736842,\n",
              " '<unk>': 0.05263157894736842}"
            ]
          },
          "execution_count": 10,
          "metadata": {},
          "output_type": "execute_result"
        }
      ],
      "source": [
        "# Predict the probability of all possible words after the unigram \"the\"\n",
        "sentences = [['the', 'moon', 'and', 'stars', 'are','shining','bright'],\n",
        "             ['the', 'moon', 'is', 'shinnig','tonight'],\n",
        "             ['mars','and' ,'moon', 'are', 'plants'],\n",
        "             ['the' ,'moon', 'is','a', 'plant']]\n",
        "unique_words = list(set(sentences[0] + sentences[1] + sentences[2]+ sentences[3]))\n",
        "unigram_counts = n_grams_counts(sentences, 1)\n",
        "bigram_counts = n_grams_counts(sentences, 2)\n",
        "print(\"The word 'moon' should have the highest probability, if it is not the case, re-visit your previous functions.\")\n",
        "probabilities([\"the\"], unigram_counts, bigram_counts, unique_words)"
      ]
    },
    {
      "cell_type": "markdown",
      "metadata": {
        "cell_id": "9ccfa9c6597d462793202b50b314aa8d",
        "deepnote_cell_type": "markdown",
        "id": "014a385f"
      },
      "source": [
        "### Subtask 3: Evaluation"
      ]
    },
    {
      "cell_type": "markdown",
      "metadata": {
        "cell_id": "176162b78f544ee19a82a30f807ec9ee",
        "deepnote_cell_type": "markdown",
        "id": "90a4345f"
      },
      "source": [
        "In this part, we use the perplexity score to evaluate your model on the test set. The perplexity score of the test set on an n-gram model is defined as follows:\n",
        "\n",
        "$$ PP(W) =\\sqrt[N]{ \\prod_{t=n}^{N-1} \\frac{1}{P(w_t | w_{t-n} \\cdots w_{t-1})} } $$\n",
        "- where $N$ is the length of the sentence. ($N-1$ is used because in the code we start from the index 0).\n",
        "- $n$ is the number of words in the n-gram.\n",
        "- $W$ is the n-gram\n",
        "\n",
        "Notice that we have already computed this probability.\n",
        "\n",
        "The higher the probabilities are, the lower the perplexity will be."
      ]
    },
    {
      "cell_type": "code",
      "execution_count": null,
      "metadata": {
        "cell_id": "2f8f6acf9f11492f8f1305fdf99c31de",
        "deepnote_cell_type": "code",
        "id": "9644c33f"
      },
      "outputs": [],
      "source": [
        "def perplexity(sentence, n_gram_cnts, plus_current_gram_cnts, vocab_size, k=1.0):\n",
        "    \"\"\"\n",
        "    Calculate perplexity for a list of sentences\n",
        "    sentence: List of strings\n",
        "    n_gram_cnts: dictionary of counts of n-grams\n",
        "    plus_current_gram_cnts: dictionary of counts of (n+1)-grams -> current word+ n-gram = (n+1)-gram\n",
        "    vocab_size: number of unique words in the vocabulary\n",
        "    k: positive smoothing constant\n",
        "\n",
        "    Returns: Perplexity score for a single sentence\n",
        "    \"\"\"\n",
        "\n",
        "    n =  len(list(n_gram_cnts.keys())[0])\n",
        "    original_sentence = sentence\n",
        "    sentence =  [\"<s>\"] * n + sentence + [\"<e>\"] * n\n",
        "    sentence = tuple(sentence)\n",
        "    N = len(sentence)\n",
        "\n",
        "\n",
        "    product_pi = 1.0\n",
        "\n",
        "    ### Compute the product of probabilities ###\n",
        "\n",
        "    for t in range(n, N):\n",
        "        n_gram = sentence[t-n:t]# get the n-gram before the predicted word (n-gram before t )\n",
        "        word =  sentence[t]\n",
        "        prob = probability(word, n_gram, n_gram_cnts,  plus_current_gram_cnts, vocab_size)\n",
        "        product_pi *= 1/prob\n",
        "\n",
        "    perplexity = product_pi**(1/float(N))\n",
        "    return perplexity"
      ]
    },
    {
      "cell_type": "markdown",
      "metadata": {
        "cell_id": "7f83ee8ea3f540b0bec43660bbbb4182",
        "deepnote_cell_type": "markdown",
        "id": "8745e1bc"
      },
      "source": [
        "Use `perplexity` function to find the perplexity of a bi-gram model on the first training sample and on the first test sample (first element of the set)."
      ]
    },
    {
      "cell_type": "code",
      "execution_count": null,
      "metadata": {
        "cell_id": "cb594a2f6b6541ca9c12ef418bf2f571",
        "colab": {
          "base_uri": "https://localhost:8080/"
        },
        "deepnote_cell_type": "code",
        "id": "d857043a",
        "outputId": "6e7963d0-c1f0-4d62-be8b-cec014c89751"
      },
      "outputs": [
        {
          "name": "stdout",
          "output_type": "stream",
          "text": [
            "Perplexity for first train sample: 85.7743\n",
            "Perplexity for test sample: 1032.9659\n"
          ]
        }
      ],
      "source": [
        "bigram_counts = n_grams_counts(train_replaced, 2)\n",
        "trigram_counts = n_grams_counts(train_replaced, 3)\n",
        "\n",
        "perplexity_train = perplexity(train_replaced[0],bigram_counts, trigram_counts,len(vocab))\n",
        "print(f\"Perplexity for first train sample: {perplexity_train:.4f}\")\n",
        "\n",
        "perplexity_test = perplexity(test_replaced[0],bigram_counts, trigram_counts,len(vocab))\n",
        "print(f\"Perplexity for test sample: {perplexity_test:.4f}\")# the perplexity for the train sample should be much lower"
      ]
    },
    {
      "cell_type": "markdown",
      "metadata": {
        "cell_id": "583838d297e949249a58d4a1dc31b9fb",
        "deepnote_cell_type": "markdown",
        "id": "7c697faa"
      },
      "source": [
        "Finally, let's use the model we created to generate an auto-complete system that makes suggestions."
      ]
    },
    {
      "cell_type": "code",
      "execution_count": null,
      "metadata": {
        "cell_id": "49b35d180c85431f9c2ef7af0f6663d4",
        "deepnote_cell_type": "code",
        "id": "b6d6163b"
      },
      "outputs": [],
      "source": [
        "def suggest_a_word(up_to_here, n_gram_cnts, plus_current_gram_cnts, vocab , start_with=None):\n",
        "    \"\"\"\n",
        "    Get suggestion for the next word\n",
        "    up_to_here: the sentence so far, must have length > n\n",
        "    n_gram_cnts: dictionary of counts of n-grams\n",
        "    plus_current_gram_cnts: dictionary of counts of (n+1)-grams -> current word+ n-gram = (n+1)-gram\n",
        "    vocab: List of words\n",
        "    start_with: If not None, specifies the first few letters of the next word\n",
        "\n",
        "    Returns: (most likely next word,  probability)\n",
        "    \"\"\"\n",
        "    n = len(list(n_gram_cnts.keys())[0]) # get the number 'n' in  n-gram  from n_gram_cnts\n",
        "    previous_n_gram = previous_tokens[-n:] # get the last 'n' words as the previous n-gram from the input sentence\n",
        "\n",
        "\n",
        "    probabs = probabilities(previous_n_gram, n_gram_cnts, plus_current_gram_cnts, vocab)\n",
        "\n",
        "    ### sort the probability for higher to lower and return the highest probability word,probability tuple\n",
        "    #if start_with is specified then return the highest probability word that starts with that specific character\n",
        "\n",
        "    sorted_dict_as_list = sorted(probabs.items(), key=lambda x:x[1],reverse=True)\n",
        "    if start_with == None:\n",
        "        # do not return the <unk> symbol if it is the most common one, as it is not helpful at all\n",
        "        return sorted_dict_as_list[0] if sorted_dict_as_list[0][0] != \"<unk>\" else sorted_dict_as_list[1]\n",
        "    else:\n",
        "        for item in sorted_dict_as_list:\n",
        "            if item[0].startswith(start_with):\n",
        "                return item"
      ]
    },
    {
      "cell_type": "markdown",
      "metadata": {
        "cell_id": "7d12dbd16a224d3bb0b676614c3263ae",
        "deepnote_cell_type": "markdown",
        "id": "f88f9abc"
      },
      "source": [
        "Test your model based on the bi-gram model created on the training corpus."
      ]
    },
    {
      "cell_type": "code",
      "execution_count": null,
      "metadata": {
        "cell_id": "b34a4567484945d0af203f460c78ac29",
        "colab": {
          "base_uri": "https://localhost:8080/"
        },
        "deepnote_cell_type": "code",
        "id": "460dff09",
        "outputId": "2ce27b7d-bd56-4e95-dfd1-492b689ce8a1"
      },
      "outputs": [
        {
          "data": {
            "text/plain": [
              "('better', 0.00013324450366422385)"
            ]
          },
          "execution_count": 14,
          "metadata": {},
          "output_type": "execute_result"
        }
      ],
      "source": [
        "previous_tokens=['i','like']\n",
        "start_with='b'\n",
        "suggestion = suggest_a_word(previous_tokens, bigram_counts,trigram_counts, list(vocab),start_with=start_with)\n",
        "suggestion"
      ]
    },
    {
      "cell_type": "code",
      "execution_count": null,
      "metadata": {
        "cell_id": "a88d32a32d2449e9a675b69ded886d28",
        "colab": {
          "base_uri": "https://localhost:8080/"
        },
        "deepnote_cell_type": "code",
        "id": "e68f730c",
        "outputId": "b0d808a8-9c09-4a4c-9698-06c1c0218f3d"
      },
      "outputs": [
        {
          "data": {
            "text/plain": [
              "('see', 0.0006017249448418801)"
            ]
          },
          "execution_count": 15,
          "metadata": {},
          "output_type": "execute_result"
        }
      ],
      "source": [
        "previous_tokens=['i','like','to']\n",
        "start_with=None\n",
        "suggestion = suggest_a_word(previous_tokens, bigram_counts,trigram_counts, list(vocab),start_with=start_with)\n",
        "suggestion"
      ]
    },
    {
      "cell_type": "code",
      "execution_count": null,
      "metadata": {
        "cell_id": "52be0e5887c74aa0b7da9fa207b7e9bc",
        "colab": {
          "base_uri": "https://localhost:8080/"
        },
        "deepnote_cell_type": "code",
        "id": "001a7ff4",
        "outputId": "f360df27-fe66-4587-f283-e7d85e92423a"
      },
      "outputs": [
        {
          "data": {
            "text/plain": [
              "('riley', 0.00020153164046755341)"
            ]
          },
          "execution_count": 16,
          "metadata": {},
          "output_type": "execute_result"
        }
      ],
      "source": [
        "previous_tokens=[\"hello\", \"my\", \"name\", \"is\"]\n",
        "start_with=None\n",
        "suggestion = suggest_a_word(previous_tokens, bigram_counts,trigram_counts, list(vocab),start_with=start_with)\n",
        "suggestion"
      ]
    },
    {
      "cell_type": "code",
      "execution_count": null,
      "metadata": {
        "cell_id": "068963f618b544f7a786a781626bf295",
        "colab": {
          "base_uri": "https://localhost:8080/"
        },
        "deepnote_cell_type": "code",
        "id": "c556e16f",
        "outputId": "61e1d15c-5a39-46eb-cb62-fa1c6daaecd3"
      },
      "outputs": [
        {
          "data": {
            "text/plain": [
              "('allison', 0.00013435442697836894)"
            ]
          },
          "execution_count": 17,
          "metadata": {},
          "output_type": "execute_result"
        }
      ],
      "source": [
        "previous_tokens=[\"hello\", \"my\", \"name\", \"is\"]\n",
        "start_with='a'\n",
        "suggestion = suggest_a_word(previous_tokens, bigram_counts,trigram_counts, list(vocab),start_with=start_with)\n",
        "suggestion"
      ]
    },
    {
      "cell_type": "markdown",
      "metadata": {
        "cell_id": "50f4e5d8be004436bd0398c0d2836135",
        "deepnote_cell_type": "markdown",
        "id": "b4a15ac8"
      },
      "source": [
        "## **Task 4: Understanding GloVe (Grade (2 + 4.25 + 4 + 1.75) = 12)**"
      ]
    },
    {
      "cell_type": "markdown",
      "metadata": {
        "cell_id": "28bf5028a4d14fa28da11a21ec934de7",
        "deepnote_cell_type": "markdown",
        "id": "15e586ca"
      },
      "source": [
        "In this part, you will implement the [GloVe](https://nlp.stanford.edu/projects/glove/) model and train your own word vectors with gradient\n",
        "descent and numpy. GloVe stands for Global Vectors for word representation, which was developed by researchers at Stanford University to generate word embeddings from corpus statistics.\n",
        "The statistics of the corpus are represented by a co-occurrence matrix, indicating how often a particular word pair occurs together.\n",
        "GloVe is based on ratios of probabilities from this co-occurrence matrix, combining the intuitions of count-based models while also being similar to neural models like word2vec.\n",
        "From this matrix, one can compute the co-occurrence probabilities. We motivate this with an example:\n",
        "\n",
        "$P_{ik} = P(i,j)$ -> co-occurrence probability or joint probability of words $i$ and $k$\n",
        "\n",
        "$P_{jk}$ ->co-occurrence probability of words $j$ and $k$\n",
        "\n",
        "$\\frac{P_{ik}}{P_{jk}}$-> corelation between $i$ and $j$ with the prob word $k$\n",
        "\n",
        "This ratio gives us some insight into the co-relation of the probe word $k$ with the words $i$ and $j$.\n",
        "An example is shown below for different prob words $k$, where $i$ and $j$ are `ice` and `steam`, respectively."
      ]
    },
    {
      "cell_type": "markdown",
      "metadata": {
        "cell_id": "1bbb4dae5beb4beabae651222c316a93",
        "deepnote_cell_type": "markdown",
        "id": "076234c5"
      },
      "source": [
        "\n",
        "![glove](https://nlp.stanford.edu/projects/glove/images/table.png)\n"
      ]
    },
    {
      "cell_type": "markdown",
      "metadata": {
        "cell_id": "a24cac6213ce4cabbbcff9053b74e2ac",
        "deepnote_cell_type": "markdown",
        "id": "3b933587"
      },
      "source": [
        "Image taken from Stanford NLP."
      ]
    },
    {
      "cell_type": "markdown",
      "metadata": {
        "cell_id": "4af664b4603d4aa0a52783311c0d3834",
        "deepnote_cell_type": "markdown",
        "id": "76e8f6f0"
      },
      "source": [
        "Compared to the raw probabilities, the ratio of probabilities is better able to distinguish relevant words from irrelevant words. Consider the raw probabilities (the first two rows), the values are close to one another and not indicative of the relationships. However, the ratios have more distinct values.\n",
        "\n",
        "This ratio can be small, large, or equal to 1 depending on the prob word and their co-relation. In the example above, the ratio between ice and steam for `k=solid` is large and for `k=gas` is small, indicating that `solid` is related to ice but `gas` is irrelevant. On the other hand, `water` is not a discriminating element between them, and therefore the ratio is close to one. The same applies to an irrelevant word like `fashion`.\n",
        "\n",
        "The GloVe model is built on the idea that the \"ratio of conditional probabilities represents the word meanings\" and a neural model is trained to estimate this conditional probability.\n",
        "\n",
        "$F(w_i,w_j,\\tilde{w_k})=\\frac{P_ik}{P_jk}$ -> the right-hand side is computed from the corpus statistics, $w$ is the word vector and $\\tilde{w_k}$ is the context vector\n",
        "\n",
        "The GloVe model embeds the words in a vector space and claims that the difference between them (distinguishing factor) is hidden in the ratio of probabilities. In vector space, the best way to encode this is by vector differences.\n",
        "\n",
        "$F((w_i-w_j),\\tilde{w_k})=\\frac{P_ik}{P_jk}$\n",
        "\n",
        "At this point, the left-hand side is a vector and the right-hand side is a scalar showing the similarity of i and j with the context word k.\n",
        "For both sides to match and to encode the similarity in the vector space, the left-hand side becomes a dot product.\n",
        "\n",
        "$F((w_i-w_j)^{T}.\\tilde{w_k})=\\frac{P_ik}{P_jk}=\\frac{F(w_i.\\tilde{w_k})}{F(w_j.\\tilde{w_k})} $\n",
        "\n",
        "$F(w_i.\\tilde{w_k})=\\frac{X_{ik}}{X_{i}}$ -> where $X$ is drived from the co-occurrences matrix\n",
        "\n",
        "To satisfy a symmetrical relationship (a.k.a. relation(a, b) = relation(b, a)), $F$ is chosen to be an exponential function, $F(x)=exp(x)$. As a result:\n",
        "\n",
        "$w_i.\\tilde{w_k} = log(P_{ik} ) = log(X_{ik} ) − log(X_{i})$\n",
        "\n",
        "$log(X_{i})$ is independent of $k$ and can be absored into a bias term.\n",
        "\n",
        "$w_i.\\tilde{w_k} = log(P_{ik} ) + b_i +\\tilde{b_k} = log(X_{ik} )$\n",
        "\n",
        "After some weighting and alterations the final cost function, based on the weighted least squares regression model is as follows:\n",
        "\n",
        "$J= \\Sigma^{V}_{i,j=1} f(X_{ij})(w_i.w_j+ b_i +b_j)-log(X_{ik})$\n",
        "\n",
        "For a detailed overview refer to the original paper: https://nlp.stanford.edu/pubs/glove.pdf\n",
        "You need to read and understand the GloVe model to solve this exercise.\n"
      ]
    },
    {
      "cell_type": "markdown",
      "metadata": {
        "cell_id": "d18592954c2f43589f1b553dee3eb66e",
        "deepnote_cell_type": "markdown",
        "id": "0d71fbc8"
      },
      "source": [
        "### Subtask 1: Cost function"
      ]
    },
    {
      "cell_type": "markdown",
      "metadata": {
        "cell_id": "193122ad29574a278b45cb0441edf95d",
        "deepnote_cell_type": "markdown",
        "id": "174acc1f"
      },
      "source": [
        "Read the paper and describe the following, in your own words:\n",
        "\n",
        " 1. The intuition behind the weighting schema in the cost function.\n",
        "\n",
        " 2. How does the objective function of GloVe relate to the objective function of the (word2vec) skip-gram model?"
      ]
    },
    {
      "cell_type": "markdown",
      "metadata": {
        "id": "JZr1dXn-t151"
      },
      "source": [
        "**Answer**\n",
        "1. The weighting schema can be intuitively described as reducing the influence of extremely frequent words while maintaining the influence of rare words in a given context. Therefore the weighting scheme is based on the context words co-occurences. This is relevant, since extremely frequent words are not neccessarily important to the sentences meaning. The weighting function is a generic alternative to word filtering, which can improve performance for instance word2vec.\n",
        "2. Both objective functions aim to predict co-occurence probabilities, whereas the GloVe is based on the global co-occurences and word2vec fixed to a local and limited context window."
      ]
    },
    {
      "cell_type": "markdown",
      "metadata": {
        "cell_id": "a507b0ae2dca40289bf21e6a236ec901",
        "deepnote_cell_type": "markdown",
        "id": "988ae19d"
      },
      "source": [
        "### Subtask 2: Build Co-occurence matrix\n"
      ]
    },
    {
      "cell_type": "markdown",
      "metadata": {
        "cell_id": "60138a8f9b4d49a1ace89f5af783f7f0",
        "deepnote_cell_type": "markdown",
        "id": "edca833e"
      },
      "source": [
        "We use the same dataset as the first task and use the `quotes` as the corpus to build the co-occurrences matrix. Similar to the first task we use the `phrases` to transform our input and extract the vocabulary."
      ]
    },
    {
      "cell_type": "code",
      "execution_count": null,
      "metadata": {
        "cell_id": "21adcd9b357d4502ab675284c266f7f2",
        "deepnote_cell_type": "code",
        "id": "bca0b788"
      },
      "outputs": [],
      "source": [
        "import numpy as np\n",
        "from scipy import sparse\n",
        "from math import log\n",
        "from itertools import chain\n",
        "from collections import Counter\n",
        "from tqdm import tqdm\n",
        "import spacy\n",
        "import re\n",
        "import pandas as pd"
      ]
    },
    {
      "cell_type": "markdown",
      "metadata": {
        "cell_id": "fa664f53d96f4ce4825e3c8f915968df",
        "deepnote_cell_type": "markdown",
        "id": "dacc60e8"
      },
      "source": [
        "Complete the function to create dictionaries used for mapping ids to words and words to ids, and a dictionary that counts the number of occurrences of each word. The first two dictionaries are used to map indices in vector space to words and back, and the third dictionary contains the counts of the corpus statistics."
      ]
    },
    {
      "cell_type": "code",
      "execution_count": null,
      "metadata": {
        "id": "yoH_6FdAt152",
        "outputId": "2afeeece-e7dc-49c0-a303-702921c10ac9"
      },
      "outputs": [
        {
          "name": "stdout",
          "output_type": "stream",
          "text": [
            "Shape of data before filtering: (60291, 6)\n",
            "Shape of data after filtering: (60291, 6)\n"
          ]
        },
        {
          "data": {
            "text/html": [
              "<div>\n",
              "<style scoped>\n",
              "    .dataframe tbody tr th:only-of-type {\n",
              "        vertical-align: middle;\n",
              "    }\n",
              "\n",
              "    .dataframe tbody tr th {\n",
              "        vertical-align: top;\n",
              "    }\n",
              "\n",
              "    .dataframe thead th {\n",
              "        text-align: right;\n",
              "    }\n",
              "</style>\n",
              "<table border=\"1\" class=\"dataframe\">\n",
              "  <thead>\n",
              "    <tr style=\"text-align: right;\">\n",
              "      <th></th>\n",
              "      <th>author</th>\n",
              "      <th>episode_number</th>\n",
              "      <th>episode_title</th>\n",
              "      <th>quote</th>\n",
              "      <th>quote_order</th>\n",
              "      <th>season</th>\n",
              "    </tr>\n",
              "  </thead>\n",
              "  <tbody>\n",
              "    <tr>\n",
              "      <th>0</th>\n",
              "      <td>Monica</td>\n",
              "      <td>1.0</td>\n",
              "      <td>Monica Gets A Roommate</td>\n",
              "      <td>There's nothing to tell! He's just some guy I ...</td>\n",
              "      <td>0.0</td>\n",
              "      <td>1.0</td>\n",
              "    </tr>\n",
              "    <tr>\n",
              "      <th>1</th>\n",
              "      <td>Joey</td>\n",
              "      <td>1.0</td>\n",
              "      <td>Monica Gets A Roommate</td>\n",
              "      <td>C'mon, you're going out with the guy! There's ...</td>\n",
              "      <td>1.0</td>\n",
              "      <td>1.0</td>\n",
              "    </tr>\n",
              "    <tr>\n",
              "      <th>2</th>\n",
              "      <td>Chandler</td>\n",
              "      <td>1.0</td>\n",
              "      <td>Monica Gets A Roommate</td>\n",
              "      <td>All right Joey, be nice. So does he have a hum...</td>\n",
              "      <td>2.0</td>\n",
              "      <td>1.0</td>\n",
              "    </tr>\n",
              "    <tr>\n",
              "      <th>3</th>\n",
              "      <td>Phoebe</td>\n",
              "      <td>1.0</td>\n",
              "      <td>Monica Gets A Roommate</td>\n",
              "      <td>Wait, does he eat chalk?</td>\n",
              "      <td>3.0</td>\n",
              "      <td>1.0</td>\n",
              "    </tr>\n",
              "    <tr>\n",
              "      <th>4</th>\n",
              "      <td>Phoebe</td>\n",
              "      <td>1.0</td>\n",
              "      <td>Monica Gets A Roommate</td>\n",
              "      <td>Just, 'cause, I don't want her to go through w...</td>\n",
              "      <td>4.0</td>\n",
              "      <td>1.0</td>\n",
              "    </tr>\n",
              "    <tr>\n",
              "      <th>5</th>\n",
              "      <td>Monica</td>\n",
              "      <td>1.0</td>\n",
              "      <td>Monica Gets A Roommate</td>\n",
              "      <td>Okay, everybody relax. This is not even a date...</td>\n",
              "      <td>5.0</td>\n",
              "      <td>1.0</td>\n",
              "    </tr>\n",
              "    <tr>\n",
              "      <th>6</th>\n",
              "      <td>Chandler</td>\n",
              "      <td>1.0</td>\n",
              "      <td>Monica Gets A Roommate</td>\n",
              "      <td>Sounds like a date to me.</td>\n",
              "      <td>6.0</td>\n",
              "      <td>1.0</td>\n",
              "    </tr>\n",
              "    <tr>\n",
              "      <th>7</th>\n",
              "      <td>Chandler</td>\n",
              "      <td>1.0</td>\n",
              "      <td>Monica Gets A Roommate</td>\n",
              "      <td>Alright, so I'm back in high school, I'm stand...</td>\n",
              "      <td>7.0</td>\n",
              "      <td>1.0</td>\n",
              "    </tr>\n",
              "    <tr>\n",
              "      <th>8</th>\n",
              "      <td>All</td>\n",
              "      <td>1.0</td>\n",
              "      <td>Monica Gets A Roommate</td>\n",
              "      <td>Oh, yeah. Had that dream.</td>\n",
              "      <td>8.0</td>\n",
              "      <td>1.0</td>\n",
              "    </tr>\n",
              "    <tr>\n",
              "      <th>9</th>\n",
              "      <td>Chandler</td>\n",
              "      <td>1.0</td>\n",
              "      <td>Monica Gets A Roommate</td>\n",
              "      <td>Then I look down, and I realize there's a phon...</td>\n",
              "      <td>9.0</td>\n",
              "      <td>1.0</td>\n",
              "    </tr>\n",
              "  </tbody>\n",
              "</table>\n",
              "</div>"
            ],
            "text/plain": [
              "     author  episode_number           episode_title  \\\n",
              "0    Monica             1.0  Monica Gets A Roommate   \n",
              "1      Joey             1.0  Monica Gets A Roommate   \n",
              "2  Chandler             1.0  Monica Gets A Roommate   \n",
              "3    Phoebe             1.0  Monica Gets A Roommate   \n",
              "4    Phoebe             1.0  Monica Gets A Roommate   \n",
              "5    Monica             1.0  Monica Gets A Roommate   \n",
              "6  Chandler             1.0  Monica Gets A Roommate   \n",
              "7  Chandler             1.0  Monica Gets A Roommate   \n",
              "8       All             1.0  Monica Gets A Roommate   \n",
              "9  Chandler             1.0  Monica Gets A Roommate   \n",
              "\n",
              "                                               quote  quote_order  season  \n",
              "0  There's nothing to tell! He's just some guy I ...          0.0     1.0  \n",
              "1  C'mon, you're going out with the guy! There's ...          1.0     1.0  \n",
              "2  All right Joey, be nice. So does he have a hum...          2.0     1.0  \n",
              "3                           Wait, does he eat chalk?          3.0     1.0  \n",
              "4  Just, 'cause, I don't want her to go through w...          4.0     1.0  \n",
              "5  Okay, everybody relax. This is not even a date...          5.0     1.0  \n",
              "6                          Sounds like a date to me.          6.0     1.0  \n",
              "7  Alright, so I'm back in high school, I'm stand...          7.0     1.0  \n",
              "8                          Oh, yeah. Had that dream.          8.0     1.0  \n",
              "9  Then I look down, and I realize there's a phon...          9.0     1.0  "
            ]
          },
          "execution_count": 32,
          "metadata": {},
          "output_type": "execute_result"
        }
      ],
      "source": [
        "FRIENDS_PATH = \"friends_quotes.csv\"\n",
        "\n",
        "df = pd.read_csv(FRIENDS_PATH)\n",
        "print(f\"Shape of data before filtering: {df.shape}\")\n",
        "\n",
        "# Drop rows with any null values\n",
        "df = df.dropna()\n",
        "\n",
        "# Replace empty strings with NaN and then drop those rows\n",
        "df = df.replace('', float('nan')).dropna()\n",
        "\n",
        "# Reset the index after dropping rows\n",
        "df = df.reset_index(drop=True)\n",
        "print(f\"Shape of data after filtering: {df.shape}\")\n",
        "\n",
        "df.head(10)"
      ]
    },
    {
      "cell_type": "code",
      "execution_count": null,
      "metadata": {
        "id": "JD9_e6WKt152",
        "outputId": "464dbfce-6940-4db4-ece5-48dbe09f408e"
      },
      "outputs": [
        {
          "name": "stderr",
          "output_type": "stream",
          "text": [
            "/Users/leonremke/miniconda3/envs/bomberman/lib/python3.11/site-packages/spacy/pipeline/lemmatizer.py:211: UserWarning: [W108] The rule-based lemmatizer did not find POS annotation for one or more tokens. Check that your pipeline includes components that assign token.pos, typically 'tagger'+'attribute_ruler' or 'morphologizer'.\n",
            "  warnings.warn(Warnings.W108)\n"
          ]
        },
        {
          "name": "stdout",
          "output_type": "stream",
          "text": [
            "Number of quotes after filtering None: 57196\n"
          ]
        }
      ],
      "source": [
        "nlp = spacy.load(\"en_core_web_sm\", disable=[\"tagger\", \"parser\",\"ner\"])\n",
        "stopwords = spacy.lang.en.stop_words.STOP_WORDS\n",
        "\n",
        "def preprocess(doc):\n",
        "    # Remove stopwords and single characters\n",
        "    tokens = [token.text for token in doc if token.text not in stopwords and len(token.text) > 1]\n",
        "\n",
        "    # Use regex to remove non-alphabetic characters\n",
        "    tokens = [re.sub(r'[^a-zA-Z0-9]', '', token) for token in tokens]\n",
        "\n",
        "    # Filter None Types\n",
        "    tokens = [token for token in tokens if token]\n",
        "\n",
        "    # if len(tokens) > 3:\n",
        "    return ' '.join(tokens)\n",
        "\n",
        "# lower qoutes\n",
        "lowercased_qoutes = df[\"quote\"].str.lower().tolist()\n",
        "\n",
        "quotes = [preprocess(doc) for doc in nlp.pipe(lowercased_qoutes)]\n",
        "\n",
        "# none_count = 0\n",
        "# for quote in quotes:\n",
        "#     if quote is None:\n",
        "#         none_count += 1\n",
        "# print(f\"Number of quotes that are None due to less than three tokens: {none_count}\")\n",
        "\n",
        "# Filter None Types\n",
        "quotes = [quote for quote in quotes if quote]\n",
        "print(f\"Number of quotes after filtering None: {len(quotes)}\")"
      ]
    },
    {
      "cell_type": "code",
      "execution_count": null,
      "metadata": {
        "id": "sTHnkKuJt152",
        "outputId": "a6174d91-cd21-49a0-cc4d-b4236080600c"
      },
      "outputs": [
        {
          "name": "stdout",
          "output_type": "stream",
          "text": [
            "Number of quotes that contain 'central perk': 36\n"
          ]
        }
      ],
      "source": [
        "#Check if central or perk is included in preprocessed quotes:\n",
        "central_perk = [line for line in quotes if 'central' in line and 'perk' in line]\n",
        "print(f\"Number of quotes that contain 'central perk': {len(central_perk)}\")"
      ]
    },
    {
      "cell_type": "code",
      "execution_count": null,
      "metadata": {
        "id": "qMx3Gw6dt152",
        "outputId": "3c1d66da-fff4-4142-9ffb-7461c57c05c7"
      },
      "outputs": [
        {
          "name": "stdout",
          "output_type": "stream",
          "text": [
            "First 10 quotes:'\n",
            "\n",
            "['tell guy work', 'cm going guy got ta wrong', 'right joey nice hump hump hairpiece', 'wait eat chalk', 'cause want went carl oh', 'okay everybody relax date people going dinner and having sex', 'sounds like date', 'alright high school standing middle cafeteria realize totally naked', 'oh yeah dream', 'look realize phone']\n"
          ]
        }
      ],
      "source": [
        "print(\"First 10 quotes:'\\n\")\n",
        "print(quotes[:10])"
      ]
    },
    {
      "cell_type": "code",
      "execution_count": null,
      "metadata": {
        "cell_id": "cc93449a51b043fd9e5217ab27face75",
        "deepnote_cell_type": "code",
        "id": "09dc3179"
      },
      "outputs": [],
      "source": [
        "from gensim.models.phrases import Phrases\n",
        "\n",
        "def tokenize(sentence):\n",
        "    # Basic whitespace tokenizer\n",
        "    return sentence.split(\" \")\n",
        "\n",
        "def create_vocab(corpus):\n",
        "    \"\"\"\n",
        "    Build a vocabulary containing the frequencies\n",
        "    corpus: the list of tokenized lines form the corpus\n",
        "\n",
        "    Returns dictionaries `word` -> (index or unique identified), frequency)`\n",
        "    and `word` -> (index or unique identified)\n",
        "    and index or unique identified -> `word`\n",
        "    and length of the vocab\n",
        "    \"\"\"\n",
        "\n",
        "    word_count_dict = {}  # word id to the number of time it appears\n",
        "    id_to_word = {}  # mapping ids to words\n",
        "    word_to_id = {}  # mapping words to ids\n",
        "\n",
        "    # Tokenize the input corpus into list of words\n",
        "\n",
        "    # Tokenize the input corpus into list of words\n",
        "    tokenized_corpus = [tokenize(line) for line in corpus]\n",
        "\n",
        "    # bigram model\n",
        "    # Prepare quotes for Phrases\n",
        "    phrases = Phrases(tokenized_corpus, min_count=10)\n",
        "    # Check if bigrams worked\n",
        "    print(f\"Number of phrases: {len(phrases.vocab)}\")\n",
        "    # Get a list of all the lines\n",
        "    lines = list(phrases[tokenized_corpus])\n",
        "\n",
        "    # flatten the list of lists into a single list of words\n",
        "    words = [word for sentence in lines for word in sentence]\n",
        "\n",
        "    # frequency of each word\n",
        "    word_freq = {}\n",
        "    for word in words:\n",
        "        if word in word_freq:\n",
        "            word_freq[word] += 1\n",
        "        else:\n",
        "            word_freq[word] = 1\n",
        "\n",
        "    # Iterate over word_count dict and add words to vocab\n",
        "    for idx, (word, freq) in enumerate(word_freq.items()):\n",
        "        # Add word to vocab dictionary\n",
        "        word_to_id[word] = idx\n",
        "        # Add word to id_to_word dictionary\n",
        "        id_to_word[idx] = word\n",
        "        # Add frequency\n",
        "        word_count_dict[idx] = freq\n",
        "    return word_count_dict, id_to_word, word_to_id, len(word_count_dict), lines\n"
      ]
    },
    {
      "cell_type": "code",
      "execution_count": null,
      "metadata": {
        "cell_id": "3688bc20f4c840fc850daaa13d9dde90",
        "deepnote_cell_type": "code",
        "id": "9fb4ca54",
        "outputId": "f541e670-15e8-4375-a801-c390b16c24fd"
      },
      "outputs": [
        {
          "name": "stderr",
          "output_type": "stream",
          "text": [
            "INFO - 17:37:35: collecting all words and their counts\n",
            "INFO - 17:37:35: PROGRESS: at sentence #0, processed 0 words and 0 word types\n",
            "INFO - 17:37:35: PROGRESS: at sentence #10000, processed 49206 words and 37154 word types\n",
            "INFO - 17:37:35: PROGRESS: at sentence #20000, processed 106027 words and 71466 word types\n",
            "INFO - 17:37:35: PROGRESS: at sentence #30000, processed 161180 words and 99784 word types\n",
            "INFO - 17:37:35: PROGRESS: at sentence #40000, processed 219155 words and 127559 word types\n",
            "INFO - 17:37:35: PROGRESS: at sentence #50000, processed 275991 words and 153867 word types\n",
            "INFO - 17:37:35: collected 171526 token types (unigram + bigrams) from a corpus of 312531 words and 57196 sentences\n",
            "INFO - 17:37:35: merged Phrases<171526 vocab, min_count=10, threshold=10.0, max_vocab_size=40000000>\n",
            "INFO - 17:37:35: Phrases lifecycle event {'msg': 'built Phrases<171526 vocab, min_count=10, threshold=10.0, max_vocab_size=40000000> in 0.16s', 'datetime': '2023-11-11T17:37:35.789778', 'gensim': '4.3.2', 'python': '3.11.5 (main, Sep 11 2023, 08:31:25) [Clang 14.0.6 ]', 'platform': 'macOS-14.1-arm64-arm-64bit', 'event': 'created'}\n"
          ]
        },
        {
          "name": "stdout",
          "output_type": "stream",
          "text": [
            "Number of phrases: 171526\n"
          ]
        }
      ],
      "source": [
        "word_count_dict, id_to_word,word_to_id, vocab_size, tokenized_lines =create_vocab(quotes)"
      ]
    },
    {
      "cell_type": "markdown",
      "metadata": {
        "cell_id": "50ea0eb3747944059b9c8b3a018a0fcd",
        "deepnote_cell_type": "markdown",
        "id": "GlX4ugx88_v7"
      },
      "source": [
        "If you have done the exercise correctly, you have `15333` tokens in the vocabulary, and the number of occurrences for `joey` is `1951` and for `central_perk` is `36`"
      ]
    },
    {
      "cell_type": "code",
      "execution_count": null,
      "metadata": {
        "cell_id": "491f4672ae5c47508074df7a1d74a8a2",
        "deepnote_cell_type": "code",
        "id": "c8b31695",
        "outputId": "aca605e0-b738-41f6-d5bb-ced8b6f448c7"
      },
      "outputs": [
        {
          "name": "stdout",
          "output_type": "stream",
          "text": [
            "number of occurrences for joey: 2308\n",
            "number of occurrences for central perk: 37\n",
            "vocab size is: 17646\n"
          ]
        }
      ],
      "source": [
        "print(\"number of occurrences for joey:\",word_count_dict[word_to_id['joey']])\n",
        "print(\"number of occurrences for central perk:\",word_count_dict[word_to_id['central_perk']])\n",
        "print(\"vocab size is:\",vocab_size)"
      ]
    },
    {
      "cell_type": "code",
      "execution_count": null,
      "metadata": {
        "cell_id": "27c3b68d90fe4589a4b3e33b552603a9",
        "deepnote_cell_type": "code",
        "id": "b027280a"
      },
      "outputs": [],
      "source": [
        "def calculate_weight(cooccurrences, context_word_ids, center_word_id, side):\n",
        "    \"\"\"\n",
        "    Calculate the weight in the co-occurrence matrix based on the distance of a word\n",
        "    to the center word\n",
        "    sentence = [I, went, to , the, bank]\n",
        "    Let center word be \"to\" and window size =2\n",
        "    left_context =[I,went]\n",
        "    right_context = [the,bank]\n",
        "\n",
        "    Weights:\n",
        "    1/distance-> `went` and `the` have weight of 1 and `I` and `bank` have weight of 1/2\n",
        "    \"\"\"\n",
        "\n",
        "    if side == \"left_context\":\n",
        "        context_word_ids.reverse()\n",
        "\n",
        "      ## adjust the weight of the matrix to 1/distance between the center word and context word, where center word will act as the row and the context word is the column##\n",
        "\n",
        "    for idx, context_word_id in enumerate(context_word_ids):\n",
        "        distance = abs(idx + 1)\n",
        "        if distance == 0:\n",
        "            weight = 1\n",
        "        weight = 1 / distance\n",
        "        cooccurrences[center_word_id, context_word_id] += weight\n",
        "\n",
        "    return cooccurrences\n",
        "\n"
      ]
    },
    {
      "cell_type": "markdown",
      "metadata": {
        "cell_id": "e5ce97690ed84843aac576a50e5c7de3",
        "deepnote_cell_type": "markdown",
        "id": "MUF8zXO59P3b"
      },
      "source": [
        "The weight of first to second element on the example matrix should be `1.0`."
      ]
    },
    {
      "cell_type": "code",
      "execution_count": null,
      "metadata": {
        "cell_id": "5b243d10b4704634b6fb6de59147e333",
        "deepnote_cell_type": "code",
        "id": "d7c32c0e",
        "outputId": "52636142-03b4-4ccd-b11d-b74abb91a2c0"
      },
      "outputs": [
        {
          "name": "stdout",
          "output_type": "stream",
          "text": [
            "weight of id=0 to id=1 : 1.0\n"
          ]
        }
      ],
      "source": [
        "cooccurrences = sparse.lil_matrix((10, 10),dtype=np.float64)\n",
        "calculate_weight(cooccurrences, [1,3,5], 0, side=\"right_context\")\n",
        "print(\"weight of id=0 to id=1 :\",cooccurrences[0,1])"
      ]
    },
    {
      "cell_type": "markdown",
      "metadata": {
        "cell_id": "45d1ac1423a24de28cf91dfd34ffd516",
        "deepnote_cell_type": "markdown",
        "id": "0ede37e8"
      },
      "source": [
        "We build co-occurrence as a sparse matrix to speed up the computation. The original matrix is a square matrix in the size of the vocabulary. However, many words do not co-occur with one another and we do not need to store those elements."
      ]
    },
    {
      "cell_type": "code",
      "execution_count": null,
      "metadata": {
        "cell_id": "3fc6b1e02c38406b96444da7ed45c2d7",
        "deepnote_cell_type": "code",
        "id": "d63f39e7"
      },
      "outputs": [],
      "source": [
        "def build_cooccur(corpus, window_size=3, min_count=5):\n",
        "    \"\"\"\n",
        "    Create a coocurrance matrix given a corpus\n",
        "    corpus: the list of tokenized lines form the corpus\n",
        "    window_size: how many words to right and left to consider\n",
        "\n",
        "    Returns the co-oocurrance sparse matrix\n",
        "    \"\"\"\n",
        "    vocab, id_to_word,word_to_id, vocab_size, tokenized_lines = create_vocab(corpus)\n",
        "\n",
        "    #sparse lil_matrix is optimized to operate on matrix which mostly has zeros.\n",
        "    cooccurrences = sparse.lil_matrix((vocab_size, vocab_size),dtype=np.float64)\n",
        "\n",
        "    for line in tokenized_lines:\n",
        "        word_ids = [word_to_id[word] for word in line]\n",
        "\n",
        "        for i, central_word_id in enumerate(word_ids):\n",
        "\n",
        "            # left_context_word_ids = [word_ids[j] for j in range(max(i - window_size, 0), i)]\n",
        "            left_context_word_ids = [word_ids[j] for j in range(max(i - window_size, 0), i)]\n",
        "\n",
        "            #right side context\n",
        "            # right_context_word_ids = [word_ids[j] for j in range(i, min(i + window_size, len(word_ids)))]\n",
        "            # right_context_word_ids = [j for j in range(i + 1, min(i + window_size, len(word_ids)))]\n",
        "            right_context_word_ids = [word_ids[j] for j in range(i + 1, min(i + window_size + 1, len(word_ids)))]\n",
        "\n",
        "\n",
        "            ###update the matrix based on the distance weights on both sides###\n",
        "            # Todo: pass over center_word_id or index? IF newly makes no sence with distances...\n",
        "            if i > 0:\n",
        "                cooccurrences = calculate_weight(cooccurrences, left_context_word_ids, central_word_id, side=\"left_context\")\n",
        "            if i < len(word_ids) - 1:\n",
        "                cooccurrences = calculate_weight(cooccurrences, right_context_word_ids, central_word_id, side=\"right_context\")\n",
        "\n",
        "    # go into the LiL-matrix to quickly iterate through all nonzero cells and filter out the ones with minimum count\n",
        "    cooccurrences_tuples = []\n",
        "    for i, (row, data) in enumerate(zip(cooccurrences.rows,cooccurrences.data)):\n",
        "        for j, d in zip(row, data):\n",
        "            if d >= min_count:\n",
        "                cooccurrences_tuples.append((i, j, d))\n",
        "\n",
        "      ## check if the min_count condition is statisfied and then add the elements as the tuple of (i,j,weight)###\n",
        "    return cooccurrences_tuples\n"
      ]
    },
    {
      "cell_type": "markdown",
      "metadata": {
        "cell_id": "596886637b814aa5abfe304002bf153b",
        "deepnote_cell_type": "markdown",
        "id": "f3aba5bd"
      },
      "source": [
        "Build a matrix with a window_size of 3 words, and the minimum number of times a word has to occur to be part of the matrix is 10."
      ]
    },
    {
      "cell_type": "code",
      "execution_count": null,
      "metadata": {
        "cell_id": "55763935390b4d2eb5ad8614ebc4fcc1",
        "deepnote_cell_type": "code",
        "id": "69c198e0",
        "scrolled": true,
        "outputId": "c319bb84-03ed-4d40-e872-e5f7ec69e806"
      },
      "outputs": [
        {
          "name": "stderr",
          "output_type": "stream",
          "text": [
            "INFO - 17:38:35: collecting all words and their counts\n",
            "INFO - 17:38:35: PROGRESS: at sentence #0, processed 0 words and 0 word types\n",
            "INFO - 17:38:35: PROGRESS: at sentence #10000, processed 49206 words and 37154 word types\n",
            "INFO - 17:38:35: PROGRESS: at sentence #20000, processed 106027 words and 71466 word types\n",
            "INFO - 17:38:35: PROGRESS: at sentence #30000, processed 161180 words and 99784 word types\n",
            "INFO - 17:38:35: PROGRESS: at sentence #40000, processed 219155 words and 127559 word types\n",
            "INFO - 17:38:35: PROGRESS: at sentence #50000, processed 275991 words and 153867 word types\n",
            "INFO - 17:38:35: collected 171526 token types (unigram + bigrams) from a corpus of 312531 words and 57196 sentences\n",
            "INFO - 17:38:35: merged Phrases<171526 vocab, min_count=10, threshold=10.0, max_vocab_size=40000000>\n",
            "INFO - 17:38:35: Phrases lifecycle event {'msg': 'built Phrases<171526 vocab, min_count=10, threshold=10.0, max_vocab_size=40000000> in 0.17s', 'datetime': '2023-11-11T17:38:35.465889', 'gensim': '4.3.2', 'python': '3.11.5 (main, Sep 11 2023, 08:31:25) [Clang 14.0.6 ]', 'platform': 'macOS-14.1-arm64-arm-64bit', 'event': 'created'}\n"
          ]
        },
        {
          "name": "stdout",
          "output_type": "stream",
          "text": [
            "Number of phrases: 171526\n"
          ]
        },
        {
          "data": {
            "text/plain": [
              "(2, 20, 16.16666666666667)"
            ]
          },
          "execution_count": 42,
          "metadata": {},
          "output_type": "execute_result"
        }
      ],
      "source": [
        "matrix=build_cooccur(quotes, window_size=3, min_count=10)\n",
        "matrix[103]"
      ]
    },
    {
      "cell_type": "markdown",
      "metadata": {
        "cell_id": "954044b6b6fa4a828697f4876885789f",
        "deepnote_cell_type": "markdown",
        "id": "82cc1256"
      },
      "source": [
        "### Subtask 3: Modelling and Training\n"
      ]
    },
    {
      "cell_type": "markdown",
      "metadata": {
        "cell_id": "ac6ae22537da467cb0fceb6e52e3606b",
        "deepnote_cell_type": "markdown",
        "id": "91764831"
      },
      "source": [
        "We initialize the weights for the context and center words and learn the vectors through backprop, using the GloVe cost function.\n",
        "Make sure you use the correct weighting schema."
      ]
    },
    {
      "cell_type": "code",
      "execution_count": null,
      "metadata": {
        "cell_id": "b3212a7313b641d2bfe7e79fec1f059e",
        "deepnote_cell_type": "code",
        "id": "05251525"
      },
      "outputs": [],
      "source": [
        "# Random normal weights intialization\n",
        "np.random.seed(77)# we set a seed to have similar results\n",
        "def init_weights(vocab_size, hidden):\n",
        "     #Each word has a center word vector and a context vector.\n",
        "     # initilize the correct size vector\n",
        "    W_center = np.random.randn(vocab_size, hidden)\n",
        "    # initilize the correct size vector\n",
        "    b_center = np.random.randn(vocab_size)\n",
        "    # initilize the correct size vector\n",
        "    W_context = np.random.randn(vocab_size, hidden)\n",
        "    # initilize the correct size vector\n",
        "    b_context = np.random.randn(vocab_size)\n",
        "    return W_center, b_center, W_context, b_context"
      ]
    },
    {
      "cell_type": "markdown",
      "metadata": {
        "cell_id": "e3329af4ab3442d9a0c078909df574ba",
        "deepnote_cell_type": "markdown",
        "id": "y-mcYRis9wet"
      },
      "source": [
        "keep track of `W_center[0,1]` as it should change based on backprop in the next cells."
      ]
    },
    {
      "cell_type": "code",
      "execution_count": null,
      "metadata": {
        "cell_id": "b2cfad807c304662a4a5290d4699bc4c",
        "deepnote_cell_type": "code",
        "id": "b2f31560",
        "outputId": "70fb3a9b-c398-49b7-fade-965cbf4f08cb"
      },
      "outputs": [
        {
          "name": "stdout",
          "output_type": "stream",
          "text": [
            "check the shapes to make sure the matrices have correct sizes:\n",
            "(100, 32)\n",
            "(100,)\n",
            "(100, 32)\n",
            "(100,)\n",
            "Look at the value of this element and how it changes with back prob:\n",
            "0.6615314728168009\n"
          ]
        }
      ],
      "source": [
        "W_center, b_center, W_context, b_context=init_weights(100, 32)\n",
        "print(\"check the shapes to make sure the matrices have correct sizes:\")\n",
        "print(W_center.shape)\n",
        "print(b_center.shape)\n",
        "print(W_context.shape)\n",
        "print(b_context.shape)\n",
        "print(\"Look at the value of this element and how it changes with back prob:\")\n",
        "print(W_center[0,1])"
      ]
    },
    {
      "cell_type": "markdown",
      "metadata": {
        "cell_id": "443396a70ae841bcafc004284780d337",
        "deepnote_cell_type": "markdown",
        "id": "gae189dl-ZZo"
      },
      "source": [
        "Write a training script for the GloVe model that goes over the entire co-occurrence matrix given a number of epochs."
      ]
    },
    {
      "cell_type": "code",
      "execution_count": null,
      "metadata": {
        "id": "qPQJL5Rlt153"
      },
      "outputs": [],
      "source": [
        "import math\n",
        "import sys\n",
        "\n",
        "def check_nan(update):\n",
        "    if math.isnan(update) or math.isinf(update):\n",
        "        sys.stderr.write(\"\\ncaught NaN in update\")\n",
        "        return 0.0\n",
        "    else:\n",
        "        return update\n"
      ]
    },
    {
      "cell_type": "code",
      "execution_count": null,
      "metadata": {
        "cell_id": "c6f041f3838540a893ebe7bc4d6e1add",
        "deepnote_cell_type": "code",
        "id": "8669b4fb"
      },
      "outputs": [],
      "source": [
        "# Back Propagation\n",
        "def back_prop(W_center, b_center, W_context, b_context, matrix, x_max,  vocab_size, learning_rate, alpha=2):\n",
        "    \"\"\"\n",
        "    W_center, b_center: weight and bias of the center word\n",
        "    W_context, b_context: weight and bias of the context word\n",
        "    vocab_size: vocabulary size\n",
        "    x_max: define our weighting function when computing the cost for two word pairs; see the GloVe paper for more\n",
        "    details.\n",
        "    matrix: coocurrance matrix\n",
        "    alpha: the power of x_max function\n",
        "    learning_rate: learning rate for gradient descent\n",
        "    \"\"\"\n",
        "\n",
        "    global_cost = 0\n",
        "    grad_squared_center = np.zeros_like(W_center)\n",
        "    grad_squared_context = np.zeros_like(W_context)\n",
        "    grad_squared_bias_center = np.zeros_like(b_center)\n",
        "    grad_squared_bias_context = np.zeros_like(b_context)\n",
        "\n",
        "    for i, j, cooccurrence in matrix:\n",
        "        weight = ((cooccurrence/x_max)**alpha if(cooccurrence < x_max) else 1)\n",
        "        # Compute inner component of cost function  J' = w_i^Tw_j + b_i + b_j - log(X_{ij})\n",
        "        # print(\"weight i transposed:\",W_context[j].T, \"\\n\", W_context[j])\n",
        "        diff_j_prime = np.dot(W_center[i], W_context[j]) + b_center[i] + b_context[j] - np.log(cooccurrence)\n",
        "\n",
        "        ##Compute cost J = f(X_{ij}) (J')^2##\n",
        "        cost_j = weight * (diff_j_prime**2)\n",
        "\n",
        "        # Check for NaN and Infinity values in the diffs\n",
        "        if np.isnan(diff_j_prime) or np.isinf(diff_j_prime):\n",
        "            print(f\"Encountered NaN/Infinity value in diff_j_prime, setting to 0.\")\n",
        "            continue\n",
        "\n",
        "        global_cost += cost_j\n",
        "        ##Compute gradients for word vectors##\n",
        "        grad_center = diff_j_prime * W_context[j]\n",
        "        grad_context = diff_j_prime * W_center[i]\n",
        "\n",
        "        ##Compute gradients for bias terms##\n",
        "        grad_bias_center = diff_j_prime\n",
        "        grad_bias_context = diff_j_prime\n",
        "\n",
        "        # Accumulate squared gradients\n",
        "        grad_squared_center[i] += grad_center ** 2\n",
        "        grad_squared_context[j] += grad_context ** 2\n",
        "        grad_squared_bias_center[i] += grad_bias_center ** 2\n",
        "        grad_squared_bias_context[j] += grad_bias_context ** 2\n",
        "\n",
        "        # Update weights with adaptive learning rates\n",
        "        W_center[i] -= learning_rate * grad_center / np.sqrt(grad_squared_center[i] + 1e-8)\n",
        "        W_context[j] -= learning_rate * grad_context / np.sqrt(grad_squared_context[j] + 1e-8)\n",
        "        b_center[i] -= learning_rate * grad_bias_center / np.sqrt(grad_squared_bias_center[i] + 1e-8)\n",
        "        b_context[j] -= learning_rate * grad_bias_context / np.sqrt(grad_squared_bias_context[j] + 1e-8)\n",
        "    return W_center, b_center, W_context, b_context, global_cost"
      ]
    },
    {
      "cell_type": "markdown",
      "metadata": {
        "cell_id": "478ebdea7aa6473a91dea52c82a0a5b3",
        "deepnote_cell_type": "markdown",
        "id": "sV9uZIgX95tZ"
      },
      "source": [
        "Based on the random seed, the value of `W_center[0,1]` should have changed due to backpropagation.\n"
      ]
    },
    {
      "cell_type": "code",
      "execution_count": null,
      "metadata": {
        "cell_id": "fa7b5d34c5684883a434925bcf5775ba",
        "deepnote_cell_type": "code",
        "id": "84a467a0",
        "outputId": "ef107c62-06ed-4103-c488-032d73b9637c"
      },
      "outputs": [
        {
          "name": "stdout",
          "output_type": "stream",
          "text": [
            "cost: 0.20163369439311515\n",
            "changed value:\n",
            "0.674624772684653\n"
          ]
        }
      ],
      "source": [
        "test_matrix=[(0,1,1),(0,2,0.4),(0,3,0.9),(0,4,0.4)]\n",
        "W_center, b_center, W_context, b_context, global_cost  =back_prop(W_center, b_center, W_context, b_context, test_matrix, x_max=10,  vocab_size=100, learning_rate=0.01)\n",
        "print(\"cost:\",global_cost)\n",
        "print(\"changed value:\")\n",
        "print(W_center[0,1])"
      ]
    },
    {
      "cell_type": "markdown",
      "metadata": {
        "cell_id": "752879b8fcb64b16b7d578c04c5e911a",
        "deepnote_cell_type": "markdown",
        "id": "ULLmdXvC-QpX"
      },
      "source": [
        "\n",
        "Write a training script for the GloVe model that goes over the entire co-occurrence matrix given a number of epochs."
      ]
    },
    {
      "cell_type": "code",
      "execution_count": null,
      "metadata": {
        "cell_id": "c2c68483bb034f458bf4c0a206ebb5c3",
        "deepnote_cell_type": "code",
        "id": "12dd535b"
      },
      "outputs": [],
      "source": [
        "def train_GloVe(matrix, vocab_size, epochs = 10, learning_rate = 0.0001, x_max = 10, hidden_dim=100):\n",
        "    \"\"\"\n",
        "    Train the glove model based the co-ocurrance matrix for a number of epochs\n",
        "    matrix: co-occcurance matrix\n",
        "    vocab_size: number of words in vocab\n",
        "    epochs: number of passes through the data\n",
        "    learning_rate: learning rate for back prop\n",
        "    x_max: parameter of the weighting function\n",
        "    hidden_dim: dimension of the vectors\n",
        "    \"\"\"\n",
        "    W_center, b_center, W_context, b_context = init_weights(vocab_size, hidden_dim)\n",
        "    for i in tqdm(range(epochs)):\n",
        "        ### perform backprop###\n",
        "        W_center, b_center, W_context, b_context, global_cost = back_prop(W_center, b_center, W_context, b_context, matrix, x_max,  vocab_size, learning_rate, alpha=0.75)\n",
        "         # Only print on last epoch:\n",
        "        if i == epochs - 1:\n",
        "            print(f\"Cost at epoch {i}: {global_cost:.4f}\")\n",
        "    return W_center, W_context"
      ]
    },
    {
      "cell_type": "markdown",
      "metadata": {
        "cell_id": "ef5e9f0c065f4623bcab6bb9f62a9587",
        "deepnote_cell_type": "markdown",
        "id": "e0116c62"
      },
      "source": [
        "Train the model with hidden dimension of `100` and learning rate of `0.001` for a `100` epochs."
      ]
    },
    {
      "cell_type": "code",
      "execution_count": null,
      "metadata": {
        "cell_id": "50f8db5bd4414728a7b6f24c1f93e663",
        "deepnote_cell_type": "code",
        "id": "b2355c76",
        "outputId": "ff846dd9-38a1-49a6-88bd-3a116ab1c0ec"
      },
      "outputs": [
        {
          "name": "stderr",
          "output_type": "stream",
          "text": [
            "100%|██████████| 100/100 [00:06<00:00, 15.49it/s]"
          ]
        },
        {
          "name": "stdout",
          "output_type": "stream",
          "text": [
            "Cost at epoch 99: 124658.8666\n"
          ]
        },
        {
          "name": "stderr",
          "output_type": "stream",
          "text": [
            "\n"
          ]
        }
      ],
      "source": [
        "## your code ##\n",
        "W_center, W_context = train_GloVe(matrix, vocab_size, epochs = 100, learning_rate = 0.001, x_max = 10, hidden_dim=100)"
      ]
    },
    {
      "cell_type": "markdown",
      "metadata": {
        "cell_id": "319bd85a153148019e6f2969113b540b",
        "deepnote_cell_type": "markdown",
        "id": "770701f4"
      },
      "source": [
        "As you can see by looking at the loss, the model still needs more time to converge to a minimum.\n",
        "However, we keep the training short and keeping in mind that the vectors can improve we look at some examples.\n",
        "Take the average, transpose, and normalize the matrix."
      ]
    },
    {
      "cell_type": "code",
      "execution_count": null,
      "metadata": {
        "cell_id": "2659cbaf2f734cd5963ec7def348c3d1",
        "deepnote_cell_type": "code",
        "id": "b272ab8a"
      },
      "outputs": [],
      "source": [
        "from numpy.linalg import norm\n",
        "# take the average of the learned vector as the final vector\n",
        "W = np.add(W_center, W_context)/2\n",
        "W = W.T\n",
        "W = W/norm(W)"
      ]
    },
    {
      "cell_type": "code",
      "execution_count": null,
      "metadata": {
        "cell_id": "fbce3b449b0047ad9963f7228ed07b7c",
        "deepnote_cell_type": "code",
        "id": "334aff38",
        "outputId": "4e17613d-bee4-42bb-eb2c-dc6fabc4ae64"
      },
      "outputs": [
        {
          "data": {
            "text/plain": [
              "(100, 17646)"
            ]
          },
          "execution_count": 51,
          "metadata": {},
          "output_type": "execute_result"
        }
      ],
      "source": [
        "W.shape"
      ]
    },
    {
      "cell_type": "markdown",
      "metadata": {
        "cell_id": "ad6c996ac4654bc980ed30aeeccbf329",
        "deepnote_cell_type": "markdown",
        "id": "d106c990"
      },
      "source": [
        "Lets create a dictionary that points from a word to its vector."
      ]
    },
    {
      "cell_type": "code",
      "execution_count": null,
      "metadata": {
        "cell_id": "1baffd8b1d6d442192df53c608bf1a4d",
        "deepnote_cell_type": "code",
        "id": "db81b66e"
      },
      "outputs": [],
      "source": [
        "# Generates word to word embedding dictionary\n",
        "word_to_vector = {}\n",
        "for word in word_to_id.keys():\n",
        "    word_to_vector[word] = W[:, word_to_id[word]]"
      ]
    },
    {
      "cell_type": "markdown",
      "metadata": {
        "cell_id": "1f32d7269f324785a7d12d88a3bec63e",
        "deepnote_cell_type": "markdown",
        "id": "11c86eeb"
      },
      "source": [
        "### Subtask 4: Compare to Skip-gram\n"
      ]
    },
    {
      "cell_type": "markdown",
      "metadata": {
        "cell_id": "746e6f74e7fd44689682d5f2fce4e22d",
        "deepnote_cell_type": "markdown",
        "id": "e8fd8763"
      },
      "source": [
        "Let's compute the similarities for the same words in Task 1 to compare the results with word2vec. This time you need to implement the similarity function, based on the dot product. To get to the topk you need to sort the elements based on their similarity.\n",
        "\n"
      ]
    },
    {
      "cell_type": "code",
      "execution_count": null,
      "metadata": {
        "cell_id": "647f386dbe9a4ec6bb9a8d99066ef5cb",
        "deepnote_cell_type": "code",
        "id": "a2f3f722"
      },
      "outputs": [],
      "source": [
        "from numpy import dot\n",
        "\n",
        "def most_similar(word_vector,all_vectors,id_to_word, topk):\n",
        "    \"\"\"\n",
        "    function to find the topk most similar words to a word vector\n",
        "    word_vector: vector of the search word\n",
        "    all_vectors: all word vectors\n",
        "    id_to_word: dictionary from id to words\n",
        "    topk: number of elements to return\n",
        "    \"\"\"\n",
        "    # Use cosine similarity to find the most similar words\n",
        "    cosine_sim = dot(word_vector, all_vectors)\n",
        "    most_similar_ids = np.argsort(cosine_sim)\n",
        "    # Save cosine sim with assigned word to file by using most_similar_ids\n",
        "    most_similar_words = [id_to_word[idx] for idx in most_similar_ids]\n",
        "    most_similar_cosine_sim = [cosine_sim[idx] for idx in most_similar_ids]\n",
        "\n",
        "    # Combine words and cosine sim into a list of tuples\n",
        "    most_similar_words = list(zip(most_similar_words, most_similar_cosine_sim))\n",
        "    inverted_most_similar_words = most_similar_words[::-1]\n",
        "    # Return the top k most similar words\n",
        "    return inverted_most_similar_words[:topk]"
      ]
    },
    {
      "cell_type": "code",
      "execution_count": null,
      "metadata": {
        "cell_id": "e870506ae79346e6adb785da9daf9791",
        "deepnote_cell_type": "code",
        "id": "53c1a84a",
        "outputId": "ea71a2b0-a188-4349-f385-cc2a3b28aa45"
      },
      "outputs": [
        {
          "name": "stdout",
          "output_type": "stream",
          "text": [
            "most similar words to central_perk using glove: [('central_perk', 4.9774351825349305e-05), ('stability', 2.1907821515094245e-05), ('hideous', 2.0272584095650243e-05), ('loser', 2.023115948265727e-05), ('journal', 1.9030134049404998e-05)]\n",
            "most similar words to central_perk using word2vec: [('back', 0.7201736569404602), ('conan', 0.616219699382782), ('sitting_couch', 0.4656095802783966), ('ish', 0.45086634159088135), ('cuddling', 0.44639337062835693), ('intrigued', 0.43748244643211365), ('crossword', 0.42760711908340454), ('crash', 0.42212584614753723), ('appartment', 0.41930893063545227), ('shhh', 0.41291123628616333)]\n"
          ]
        }
      ],
      "source": [
        "glove_most_sim = most_similar(word_to_vector[\"central_perk\"],W,id_to_word,5)\n",
        "w2v_most_sim = w2v.wv.most_similar(positive=[\"central_perk\"])\n",
        "print(\"most similar words to central_perk using glove:\",glove_most_sim)\n",
        "print(\"most similar words to central_perk using word2vec:\",w2v_most_sim)"
      ]
    },
    {
      "cell_type": "code",
      "execution_count": null,
      "metadata": {
        "cell_id": "7ed647ee59b14c628d57d282ce177598",
        "deepnote_cell_type": "code",
        "id": "2c8e8519",
        "outputId": "fe44c108-b9cb-45e4-cce4-af91155c168b"
      },
      "outputs": [
        {
          "name": "stdout",
          "output_type": "stream",
          "text": [
            "most similar words to joey using glove: [('joey', 4.972325388737588e-05), ('tingle', 2.0903335218143848e-05), ('pees', 2.0674301089527424e-05), ('godeh', 1.969455591098164e-05), ('crossing', 1.9310725582351038e-05)]\n",
            "most similar words to joey using word2vec: [('chandler', 0.7492083311080933), ('ross', 0.6886774301528931), ('monica', 0.6481075286865234), ('rachel', 0.6369766592979431), ('phoebe', 0.6366932988166809), ('goes', 0.5658732056617737), ('hey', 0.520183265209198), ('oh', 0.5040765404701233), ('looks', 0.5030487179756165), ('door', 0.4982396066188812)]\n"
          ]
        }
      ],
      "source": [
        "glove_most_sim = most_similar(word_to_vector[\"joey\"],W,id_to_word,5)\n",
        "w2v_most_sim = w2v.wv.most_similar(positive=[\"joey\"])\n",
        "print(\"most similar words to joey using glove:\",glove_most_sim)\n",
        "print(\"most similar words to joey using word2vec:\",w2v_most_sim)"
      ]
    },
    {
      "cell_type": "markdown",
      "metadata": {
        "cell_id": "3ad3c6cb031048f8aa82e449444bdc32",
        "deepnote_cell_type": "markdown",
        "id": "6bdcd5f5"
      },
      "source": [
        "Compute the similarity between the `('rachel', 'mrs_green')`, `('smelly_cat', 'song')` and `('ross', 'spaceship')`."
      ]
    },
    {
      "cell_type": "code",
      "execution_count": null,
      "metadata": {
        "id": "CX2K1YQxt154"
      },
      "outputs": [],
      "source": [
        "def pairwise_sim(word1, word2, word_to_vector):\n",
        "    \"\"\"\n",
        "    function to find the similarity between two words\n",
        "    word1, word2: the two words\n",
        "    word_to_vector: dictionary from word to vector\n",
        "    \"\"\"\n",
        "    ### find the similarity between two words ##\n",
        "    # Use cosine similarity to find the most similar words\n",
        "    cosine_sim = dot(word_to_vector[word1], word_to_vector[word2])\n",
        "    return cosine_sim"
      ]
    },
    {
      "cell_type": "code",
      "execution_count": null,
      "metadata": {
        "id": "fk1ByqTEt154",
        "outputId": "43cc0ae4-1e4d-45b1-ed73-d8e15314e608"
      },
      "outputs": [
        {
          "data": {
            "text/plain": [
              "0.4365295"
            ]
          },
          "execution_count": 57,
          "metadata": {},
          "output_type": "execute_result"
        }
      ],
      "source": [
        "w2v.wv.similarity(\"mrs_green\", 'rachel')"
      ]
    },
    {
      "cell_type": "code",
      "execution_count": null,
      "metadata": {
        "cell_id": "77ec7c44bbde45b8bbd245d0e6446c57",
        "deepnote_cell_type": "code",
        "id": "e77f01a5",
        "outputId": "9d236bbb-1e45-4801-ccef-bdc85416f476"
      },
      "outputs": [
        {
          "data": {
            "text/plain": [
              "1.172752475994363e-05"
            ]
          },
          "execution_count": 58,
          "metadata": {},
          "output_type": "execute_result"
        }
      ],
      "source": [
        "## your code ##\n",
        "pairwise_sim(\"rachel\", \"mrs_green\", word_to_vector)"
      ]
    },
    {
      "cell_type": "code",
      "execution_count": null,
      "metadata": {
        "id": "_VsWPlIbt154",
        "outputId": "f34595f7-e5a6-4486-b767-360f6d8e6447"
      },
      "outputs": [
        {
          "data": {
            "text/plain": [
              "0.47669905"
            ]
          },
          "execution_count": 59,
          "metadata": {},
          "output_type": "execute_result"
        }
      ],
      "source": [
        "w2v.wv.similarity(\"smelly_cat\", 'song')"
      ]
    },
    {
      "cell_type": "code",
      "execution_count": null,
      "metadata": {
        "cell_id": "8d15aeceee034d7b8cde8099bc78ea58",
        "deepnote_cell_type": "code",
        "id": "d1def847",
        "outputId": "b457d242-3a6f-4822-9ee1-ebe9413a533b"
      },
      "outputs": [
        {
          "data": {
            "text/plain": [
              "-3.777437328050534e-06"
            ]
          },
          "execution_count": 60,
          "metadata": {},
          "output_type": "execute_result"
        }
      ],
      "source": [
        "## your code ##\n",
        "pairwise_sim('smelly_cat', 'song', word_to_vector)"
      ]
    },
    {
      "cell_type": "code",
      "execution_count": null,
      "metadata": {
        "id": "ItW1YEu7t154",
        "outputId": "a16b2643-417f-4c91-9fbd-28eee71fdc56"
      },
      "outputs": [
        {
          "data": {
            "text/plain": [
              "-0.20768374"
            ]
          },
          "execution_count": 61,
          "metadata": {},
          "output_type": "execute_result"
        }
      ],
      "source": [
        "w2v.wv.similarity(\"ross\", 'spaceship')"
      ]
    },
    {
      "cell_type": "code",
      "execution_count": null,
      "metadata": {
        "cell_id": "4ef6f86219ea4a72a680dabd7feadd46",
        "deepnote_cell_type": "code",
        "id": "933ca3ac",
        "outputId": "3ce5a3bc-7d2b-4467-d92f-614cb7d35e1b"
      },
      "outputs": [
        {
          "data": {
            "text/plain": [
              "4.106331097953352e-06"
            ]
          },
          "execution_count": 62,
          "metadata": {},
          "output_type": "execute_result"
        }
      ],
      "source": [
        "## your code ##\n",
        "pairwise_sim('ross', 'spaceship', word_to_vector)"
      ]
    },
    {
      "cell_type": "markdown",
      "metadata": {
        "cell_id": "b0b9ace0e3014f5097c109c6bfe3a78d",
        "deepnote_cell_type": "markdown",
        "id": "ecace919"
      },
      "source": [
        "If you see your results are not as meaningful as the gensim model, do not be discouraged. With better optimization and longer training the results should improve. If you have time play around a bit more with your model and see if you can generate more meaningful vectors."
      ]
    },
    {
      "cell_type": "markdown",
      "metadata": {
        "created_in_deepnote_cell": true,
        "deepnote_cell_type": "markdown",
        "id": "9LbSjC5oz21o"
      },
      "source": [
        "<a style='text-decoration:none;line-height:16px;display:flex;color:#5B5B62;padding:10px;justify-content:end;' href='https://deepnote.com?utm_source=created-in-deepnote-cell&projectId=2995dafc-2409-4d4e-859d-95843714f594' target=\"_blank\">\n",
        "<img alt='Created in deepnote.com' style='display:inline;max-height:16px;margin:0px;margin-right:7.5px;' src='data:image/svg+xml;base64,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' > </img>\n",
        "Created in <span style='font-weight:600;margin-left:4px;'>Deepnote</span></a>"
      ]
    }
  ],
  "metadata": {
    "colab": {
      "provenance": [],
      "toc_visible": true,
      "include_colab_link": true
    },
    "deepnote": {},
    "deepnote_execution_queue": [],
    "deepnote_notebook_id": "66515ddb3eea49f3911f054f2c6427ef",
    "deepnote_persisted_session": {
      "createdAt": "2023-10-30T16:42:27.986Z"
    },
    "kernelspec": {
      "display_name": "Python 3 (ipykernel)",
      "language": "python",
      "name": "python3"
    },
    "language_info": {
      "codemirror_mode": {
        "name": "ipython",
        "version": 3
      },
      "file_extension": ".py",
      "mimetype": "text/x-python",
      "name": "python",
      "nbconvert_exporter": "python",
      "pygments_lexer": "ipython3",
      "version": "3.9.13"
    }
  },
  "nbformat": 4,
  "nbformat_minor": 0
}