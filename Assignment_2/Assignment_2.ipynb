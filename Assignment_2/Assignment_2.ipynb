{
 "cells": [
  {
   "cell_type": "markdown",
   "id": "be9f7653",
   "metadata": {
    "id": "be9f7653"
   },
   "source": [
    "**Heidelberg University**\n",
    "\n",
    "**Data Science  Group**\n",
    "    \n",
    "Prof. Dr. Michael Gertz  \n",
    "\n",
    "Ashish Chouhan, Satya Almasian, John Ziegler, Jayson Salazar, Nicolas Reuter\n",
    "    \n",
    "November 13, 2023\n",
    "    \n",
    "Natural Language Processing with Transformers\n",
    "\n",
    "Winter Semster 2023/2024     \n",
    "***"
   ]
  },
  {
   "cell_type": "markdown",
   "id": "258e9648",
   "metadata": {
    "id": "258e9648"
   },
   "source": [
    "# **Assignment 2: “Sequence Models”**\n",
    "**Due**: Monday, November 27, 2pm, via [Moodle](https://moodle.uni-heidelberg.de/course/view.php?id=19251)\n",
    "\n"
   ]
  },
  {
   "cell_type": "markdown",
   "id": "fc27ad9e",
   "metadata": {
    "id": "fc27ad9e"
   },
   "source": [
    "### **Submission Guidelines**\n",
    "\n",
    "- Solutions need to be uploaded as a **single** Jupyter notebook. You will find several pre-filled code segments in the notebook, your task is to fill in the missing cells.\n",
    "- For the written solution, use LaTeX in markdown inside the same notebook. Do **not** hand in a separate file for it.\n",
    "- Download the .zip file containing the dataset but do **not** upload it with your solution.\n",
    "- It is sufficient if one person per group uploads the solution to Moodle, but make sure that the complete names of all team members are given in the notebook.\n",
    "\n",
    "***"
   ]
  },
  {
   "cell_type": "markdown",
   "id": "e322e8b0",
   "metadata": {
    "id": "e322e8b0"
   },
   "source": [
    "## **Task 1: Part-of-Speech Tagging with a Bidirectional LSTM**  (2+4+5=11 points)"
   ]
  },
  {
   "cell_type": "markdown",
   "id": "b4ca26ac",
   "metadata": {
    "id": "b4ca26ac"
   },
   "source": [
    "In this task we will be building a sequence tagger that produces an output for every element in an input sequence, using `PyTorch` and `TorchText`, where `TorchText` consists of data processing utilities and popular datasets for natural language.\n",
    "\n",
    "\n",
    "*   **input:** a sequence of text\n",
    "*   **output:** part-of-speech (POS) tag for each token in the input text\n",
    "\n",
    "We tackle this task using a multi-layer bi-directional LSTM (BiLSTM) to predict POS tags using the [Universal Dependencies](https://universaldependencies.org/) English Web Treebank (UDPOS) dataset. This dataset is contained in the `TorchText` library and we do not require an external file for it. The dataset in  `TorchText`  has two different sets of tags, universal dependency (UD) tags and Penn Treebank (PTB) tags. We only focus on the UD tags for this assignment."
   ]
  },
  {
   "cell_type": "code",
   "execution_count": 1,
   "id": "nnBfLC1P5QXw",
   "metadata": {
    "colab": {
     "base_uri": "https://localhost:8080/"
    },
    "id": "nnBfLC1P5QXw",
    "outputId": "51f374c6-f4f9-4288-9784-b4648bbb8f75"
   },
   "outputs": [
    {
     "name": "stdout",
     "output_type": "stream",
     "text": [
      "Defaulting to user installation because normal site-packages is not writeable\n",
      "Collecting portalocker\n",
      "  Downloading portalocker-2.8.2-py3-none-any.whl (17 kB)\n",
      "Installing collected packages: portalocker\n",
      "Successfully installed portalocker-2.8.2\n",
      "\n",
      "\u001b[1m[\u001b[0m\u001b[34;49mnotice\u001b[0m\u001b[1;39;49m]\u001b[0m\u001b[39;49m A new release of pip is available: \u001b[0m\u001b[31;49m23.1.2\u001b[0m\u001b[39;49m -> \u001b[0m\u001b[32;49m23.3.1\u001b[0m\n",
      "\u001b[1m[\u001b[0m\u001b[34;49mnotice\u001b[0m\u001b[1;39;49m]\u001b[0m\u001b[39;49m To update, run: \u001b[0m\u001b[32;49mpython3.10 -m pip install --upgrade pip\u001b[0m\n",
      "Note: you may need to restart the kernel to use updated packages.\n"
     ]
    }
   ],
   "source": [
    "%pip install portalocker"
   ]
  },
  {
   "cell_type": "code",
   "execution_count": 2,
   "id": "nT5geerO7d1P",
   "metadata": {
    "colab": {
     "base_uri": "https://localhost:8080/"
    },
    "id": "nT5geerO7d1P",
    "outputId": "6e725e6d-d48b-4447-da26-5838d4da691b"
   },
   "outputs": [
    {
     "name": "stdout",
     "output_type": "stream",
     "text": [
      "Defaulting to user installation because normal site-packages is not writeable\n",
      "Collecting torchdata\n",
      "  Downloading torchdata-0.7.1-cp310-cp310-manylinux_2_17_x86_64.manylinux2014_x86_64.whl (4.7 MB)\n",
      "\u001b[2K     \u001b[90m━━━━━━━━━━━━━━━━━━━━━━━━━━━━━━━━━━━━━━━━\u001b[0m \u001b[32m4.7/4.7 MB\u001b[0m \u001b[31m8.5 MB/s\u001b[0m eta \u001b[36m0:00:00\u001b[0m00:01\u001b[0m00:01\u001b[0m\n",
      "\u001b[?25hRequirement already satisfied: urllib3>=1.25 in /home/max/.local/lib/python3.10/site-packages (from torchdata) (1.26.14)\n",
      "Requirement already satisfied: requests in /home/max/.local/lib/python3.10/site-packages (from torchdata) (2.28.2)\n",
      "Requirement already satisfied: torch>=2 in /home/max/.local/lib/python3.10/site-packages (from torchdata) (2.0.1)\n",
      "Requirement already satisfied: filelock in /home/max/.local/lib/python3.10/site-packages (from torch>=2->torchdata) (3.12.2)\n",
      "Requirement already satisfied: typing-extensions in /home/max/.local/lib/python3.10/site-packages (from torch>=2->torchdata) (4.4.0)\n",
      "Requirement already satisfied: sympy in /home/max/.local/lib/python3.10/site-packages (from torch>=2->torchdata) (1.12)\n",
      "Requirement already satisfied: networkx in /home/max/.local/lib/python3.10/site-packages (from torch>=2->torchdata) (3.1)\n",
      "Requirement already satisfied: jinja2 in /home/max/.local/lib/python3.10/site-packages (from torch>=2->torchdata) (3.1.2)\n",
      "Requirement already satisfied: nvidia-cuda-nvrtc-cu11==11.7.99 in /home/max/.local/lib/python3.10/site-packages (from torch>=2->torchdata) (11.7.99)\n",
      "Requirement already satisfied: nvidia-cuda-runtime-cu11==11.7.99 in /home/max/.local/lib/python3.10/site-packages (from torch>=2->torchdata) (11.7.99)\n",
      "Requirement already satisfied: nvidia-cuda-cupti-cu11==11.7.101 in /home/max/.local/lib/python3.10/site-packages (from torch>=2->torchdata) (11.7.101)\n",
      "Requirement already satisfied: nvidia-cudnn-cu11==8.5.0.96 in /home/max/.local/lib/python3.10/site-packages (from torch>=2->torchdata) (8.5.0.96)\n",
      "Requirement already satisfied: nvidia-cublas-cu11==11.10.3.66 in /home/max/.local/lib/python3.10/site-packages (from torch>=2->torchdata) (11.10.3.66)\n",
      "Requirement already satisfied: nvidia-cufft-cu11==10.9.0.58 in /home/max/.local/lib/python3.10/site-packages (from torch>=2->torchdata) (10.9.0.58)\n",
      "Requirement already satisfied: nvidia-curand-cu11==10.2.10.91 in /home/max/.local/lib/python3.10/site-packages (from torch>=2->torchdata) (10.2.10.91)\n",
      "Requirement already satisfied: nvidia-cusolver-cu11==11.4.0.1 in /home/max/.local/lib/python3.10/site-packages (from torch>=2->torchdata) (11.4.0.1)\n",
      "Requirement already satisfied: nvidia-cusparse-cu11==11.7.4.91 in /home/max/.local/lib/python3.10/site-packages (from torch>=2->torchdata) (11.7.4.91)\n",
      "Requirement already satisfied: nvidia-nccl-cu11==2.14.3 in /home/max/.local/lib/python3.10/site-packages (from torch>=2->torchdata) (2.14.3)\n",
      "Requirement already satisfied: nvidia-nvtx-cu11==11.7.91 in /home/max/.local/lib/python3.10/site-packages (from torch>=2->torchdata) (11.7.91)\n",
      "Requirement already satisfied: triton==2.0.0 in /home/max/.local/lib/python3.10/site-packages (from torch>=2->torchdata) (2.0.0)\n",
      "Requirement already satisfied: setuptools in /home/max/.local/lib/python3.10/site-packages (from nvidia-cublas-cu11==11.10.3.66->torch>=2->torchdata) (68.0.0)\n",
      "Requirement already satisfied: wheel in /home/max/.local/lib/python3.10/site-packages (from nvidia-cublas-cu11==11.10.3.66->torch>=2->torchdata) (0.40.0)\n",
      "Requirement already satisfied: cmake in /home/max/.local/lib/python3.10/site-packages (from triton==2.0.0->torch>=2->torchdata) (3.26.4)\n",
      "Requirement already satisfied: lit in /home/max/.local/lib/python3.10/site-packages (from triton==2.0.0->torch>=2->torchdata) (16.0.6)\n",
      "Requirement already satisfied: charset-normalizer<4,>=2 in /home/max/.local/lib/python3.10/site-packages (from requests->torchdata) (3.0.1)\n",
      "Requirement already satisfied: idna<4,>=2.5 in /home/max/.local/lib/python3.10/site-packages (from requests->torchdata) (3.4)\n",
      "Requirement already satisfied: certifi>=2017.4.17 in /home/max/.local/lib/python3.10/site-packages (from requests->torchdata) (2022.12.7)\n",
      "Requirement already satisfied: MarkupSafe>=2.0 in /home/max/.local/lib/python3.10/site-packages (from jinja2->torch>=2->torchdata) (2.1.1)\n",
      "Requirement already satisfied: mpmath>=0.19 in /home/max/.local/lib/python3.10/site-packages (from sympy->torch>=2->torchdata) (1.3.0)\n",
      "Installing collected packages: torchdata\n",
      "Successfully installed torchdata-0.7.1\n",
      "\n",
      "\u001b[1m[\u001b[0m\u001b[34;49mnotice\u001b[0m\u001b[1;39;49m]\u001b[0m\u001b[39;49m A new release of pip is available: \u001b[0m\u001b[31;49m23.1.2\u001b[0m\u001b[39;49m -> \u001b[0m\u001b[32;49m23.3.1\u001b[0m\n",
      "\u001b[1m[\u001b[0m\u001b[34;49mnotice\u001b[0m\u001b[1;39;49m]\u001b[0m\u001b[39;49m To update, run: \u001b[0m\u001b[32;49mpython3.10 -m pip install --upgrade pip\u001b[0m\n",
      "Note: you may need to restart the kernel to use updated packages.\n"
     ]
    }
   ],
   "source": [
    "\n",
    "%pip install torchdata"
   ]
  },
  {
   "cell_type": "code",
   "execution_count": 3,
   "id": "_pIBtTh3sOQe",
   "metadata": {
    "colab": {
     "base_uri": "https://localhost:8080/"
    },
    "id": "_pIBtTh3sOQe",
    "outputId": "1658f6bd-69dd-499a-b835-1d24f741de5e"
   },
   "outputs": [
    {
     "name": "stdout",
     "output_type": "stream",
     "text": [
      "Defaulting to user installation because normal site-packages is not writeable\n",
      "Collecting torchtext\n",
      "  Downloading torchtext-0.16.1-cp310-cp310-manylinux1_x86_64.whl (2.0 MB)\n",
      "\u001b[2K     \u001b[90m━━━━━━━━━━━━━━━━━━━━━━━━━━━━━━━━━━━━━━━━\u001b[0m \u001b[32m2.0/2.0 MB\u001b[0m \u001b[31m8.3 MB/s\u001b[0m eta \u001b[36m0:00:00\u001b[0ma \u001b[36m0:00:01\u001b[0m\n",
      "\u001b[?25hRequirement already satisfied: tqdm in /home/max/.local/lib/python3.10/site-packages (from torchtext) (4.65.0)\n",
      "Requirement already satisfied: requests in /home/max/.local/lib/python3.10/site-packages (from torchtext) (2.28.2)\n",
      "Collecting torch==2.1.1 (from torchtext)\n",
      "  Downloading torch-2.1.1-cp310-cp310-manylinux1_x86_64.whl (670.2 MB)\n",
      "\u001b[2K     \u001b[90m━━━━━━━━━━━━━━━━━━━━━━━━━━━━━━━━━━━━━━━\u001b[0m \u001b[32m670.2/670.2 MB\u001b[0m \u001b[31m1.1 MB/s\u001b[0m eta \u001b[36m0:00:00\u001b[0m00:01\u001b[0m00:02\u001b[0m\n",
      "\u001b[?25hRequirement already satisfied: numpy in /home/max/.local/lib/python3.10/site-packages (from torchtext) (1.23.5)\n",
      "Requirement already satisfied: torchdata==0.7.1 in /home/max/.local/lib/python3.10/site-packages (from torchtext) (0.7.1)\n",
      "Requirement already satisfied: filelock in /home/max/.local/lib/python3.10/site-packages (from torch==2.1.1->torchtext) (3.12.2)\n",
      "Requirement already satisfied: typing-extensions in /home/max/.local/lib/python3.10/site-packages (from torch==2.1.1->torchtext) (4.4.0)\n",
      "Requirement already satisfied: sympy in /home/max/.local/lib/python3.10/site-packages (from torch==2.1.1->torchtext) (1.12)\n",
      "Requirement already satisfied: networkx in /home/max/.local/lib/python3.10/site-packages (from torch==2.1.1->torchtext) (3.1)\n",
      "Requirement already satisfied: jinja2 in /home/max/.local/lib/python3.10/site-packages (from torch==2.1.1->torchtext) (3.1.2)\n",
      "Collecting fsspec (from torch==2.1.1->torchtext)\n",
      "  Downloading fsspec-2023.10.0-py3-none-any.whl (166 kB)\n",
      "\u001b[2K     \u001b[90m━━━━━━━━━━━━━━━━━━━━━━━━━━━━━━━━━━━━━━━\u001b[0m \u001b[32m166.4/166.4 kB\u001b[0m \u001b[31m8.6 MB/s\u001b[0m eta \u001b[36m0:00:00\u001b[0m\n",
      "\u001b[?25hCollecting nvidia-cuda-nvrtc-cu12==12.1.105 (from torch==2.1.1->torchtext)\n",
      "  Downloading nvidia_cuda_nvrtc_cu12-12.1.105-py3-none-manylinux1_x86_64.whl (23.7 MB)\n",
      "\u001b[2K     \u001b[90m━━━━━━━━━━━━━━━━━━━━━━━━━━━━━━━━━━━━━━━━\u001b[0m \u001b[32m23.7/23.7 MB\u001b[0m \u001b[31m8.6 MB/s\u001b[0m eta \u001b[36m0:00:00\u001b[0m00:01\u001b[0m00:01\u001b[0m\n",
      "\u001b[?25hCollecting nvidia-cuda-runtime-cu12==12.1.105 (from torch==2.1.1->torchtext)\n",
      "  Downloading nvidia_cuda_runtime_cu12-12.1.105-py3-none-manylinux1_x86_64.whl (823 kB)\n",
      "\u001b[2K     \u001b[90m━━━━━━━━━━━━━━━━━━━━━━━━━━━━━━━━━━━━━━━\u001b[0m \u001b[32m823.6/823.6 kB\u001b[0m \u001b[31m8.4 MB/s\u001b[0m eta \u001b[36m0:00:00\u001b[0ma \u001b[36m0:00:01\u001b[0m\n",
      "\u001b[?25hCollecting nvidia-cuda-cupti-cu12==12.1.105 (from torch==2.1.1->torchtext)\n",
      "  Downloading nvidia_cuda_cupti_cu12-12.1.105-py3-none-manylinux1_x86_64.whl (14.1 MB)\n",
      "\u001b[2K     \u001b[90m━━━━━━━━━━━━━━━━━━━━━━━━━━━━━━━━━━━━━━━━\u001b[0m \u001b[32m14.1/14.1 MB\u001b[0m \u001b[31m8.8 MB/s\u001b[0m eta \u001b[36m0:00:00\u001b[0m00:01\u001b[0m00:01\u001b[0m\n",
      "\u001b[?25hCollecting nvidia-cudnn-cu12==8.9.2.26 (from torch==2.1.1->torchtext)\n",
      "  Downloading nvidia_cudnn_cu12-8.9.2.26-py3-none-manylinux1_x86_64.whl (731.7 MB)\n",
      "\u001b[2K     \u001b[90m━━━━━━━━━━━━━━━━━━━━━━━━━━━━━━━━━━━━━━━\u001b[0m \u001b[32m731.7/731.7 MB\u001b[0m \u001b[31m1.1 MB/s\u001b[0m eta \u001b[36m0:00:00\u001b[0m00:01\u001b[0m00:03\u001b[0m\n",
      "\u001b[?25hCollecting nvidia-cublas-cu12==12.1.3.1 (from torch==2.1.1->torchtext)\n",
      "  Downloading nvidia_cublas_cu12-12.1.3.1-py3-none-manylinux1_x86_64.whl (410.6 MB)\n",
      "\u001b[2K     \u001b[90m━━━━━━━━━━━━━━━━━━━━━━━━━━━━━━━━━━━━━━━\u001b[0m \u001b[32m410.6/410.6 MB\u001b[0m \u001b[31m2.2 MB/s\u001b[0m eta \u001b[36m0:00:00\u001b[0m00:01\u001b[0m00:02\u001b[0m\n",
      "\u001b[?25hCollecting nvidia-cufft-cu12==11.0.2.54 (from torch==2.1.1->torchtext)\n",
      "  Downloading nvidia_cufft_cu12-11.0.2.54-py3-none-manylinux1_x86_64.whl (121.6 MB)\n",
      "\u001b[2K     \u001b[90m━━━━━━━━━━━━━━━━━━━━━━━━━━━━━━━━━━━━━━━\u001b[0m \u001b[32m121.6/121.6 MB\u001b[0m \u001b[31m6.6 MB/s\u001b[0m eta \u001b[36m0:00:00\u001b[0m00:01\u001b[0m00:01\u001b[0m\n",
      "\u001b[?25hCollecting nvidia-curand-cu12==10.3.2.106 (from torch==2.1.1->torchtext)\n",
      "  Downloading nvidia_curand_cu12-10.3.2.106-py3-none-manylinux1_x86_64.whl (56.5 MB)\n",
      "\u001b[2K     \u001b[90m━━━━━━━━━━━━━━━━━━━━━━━━━━━━━━━━━━━━━━━━\u001b[0m \u001b[32m56.5/56.5 MB\u001b[0m \u001b[31m7.5 MB/s\u001b[0m eta \u001b[36m0:00:00\u001b[0m00:01\u001b[0m00:01\u001b[0m\n",
      "\u001b[?25hCollecting nvidia-cusolver-cu12==11.4.5.107 (from torch==2.1.1->torchtext)\n",
      "  Downloading nvidia_cusolver_cu12-11.4.5.107-py3-none-manylinux1_x86_64.whl (124.2 MB)\n",
      "\u001b[2K     \u001b[90m━━━━━━━━━━━━━━━━━━━━━━━━━━━━━━━━━━━━━━━\u001b[0m \u001b[32m124.2/124.2 MB\u001b[0m \u001b[31m5.8 MB/s\u001b[0m eta \u001b[36m0:00:00\u001b[0m00:01\u001b[0m00:01\u001b[0m\n",
      "\u001b[?25hCollecting nvidia-cusparse-cu12==12.1.0.106 (from torch==2.1.1->torchtext)\n",
      "  Downloading nvidia_cusparse_cu12-12.1.0.106-py3-none-manylinux1_x86_64.whl (196.0 MB)\n",
      "\u001b[2K     \u001b[90m━━━━━━━━━━━━━━━━━━━━━━━━━━━━━━━━━━━━━━━\u001b[0m \u001b[32m196.0/196.0 MB\u001b[0m \u001b[31m2.2 MB/s\u001b[0m eta \u001b[36m0:00:00\u001b[0m00:01\u001b[0m00:01\u001b[0m\n",
      "\u001b[?25hCollecting nvidia-nccl-cu12==2.18.1 (from torch==2.1.1->torchtext)\n",
      "  Downloading nvidia_nccl_cu12-2.18.1-py3-none-manylinux1_x86_64.whl (209.8 MB)\n",
      "\u001b[2K     \u001b[90m━━━━━━━━━━━━━━━━━━━━━━━━━━━━━━━━━━━━━━━\u001b[0m \u001b[32m209.8/209.8 MB\u001b[0m \u001b[31m2.4 MB/s\u001b[0m eta \u001b[36m0:00:00\u001b[0m00:01\u001b[0m00:01\u001b[0m\n",
      "\u001b[?25hCollecting nvidia-nvtx-cu12==12.1.105 (from torch==2.1.1->torchtext)\n",
      "  Downloading nvidia_nvtx_cu12-12.1.105-py3-none-manylinux1_x86_64.whl (99 kB)\n",
      "\u001b[2K     \u001b[90m━━━━━━━━━━━━━━━━━━━━━━━━━━━━━━━━━━━━━━━━\u001b[0m \u001b[32m99.1/99.1 kB\u001b[0m \u001b[31m9.4 MB/s\u001b[0m eta \u001b[36m0:00:00\u001b[0m\n",
      "\u001b[?25hCollecting triton==2.1.0 (from torch==2.1.1->torchtext)\n",
      "  Downloading triton-2.1.0-0-cp310-cp310-manylinux2014_x86_64.manylinux_2_17_x86_64.whl (89.2 MB)\n",
      "\u001b[2K     \u001b[90m━━━━━━━━━━━━━━━━━━━━━━━━━━━━━━━━━━━━━━━━\u001b[0m \u001b[32m89.2/89.2 MB\u001b[0m \u001b[31m7.4 MB/s\u001b[0m eta \u001b[36m0:00:00\u001b[0m00:01\u001b[0m00:01\u001b[0m\n",
      "\u001b[?25hRequirement already satisfied: urllib3>=1.25 in /home/max/.local/lib/python3.10/site-packages (from torchdata==0.7.1->torchtext) (1.26.14)\n",
      "Collecting nvidia-nvjitlink-cu12 (from nvidia-cusolver-cu12==11.4.5.107->torch==2.1.1->torchtext)\n",
      "  Downloading nvidia_nvjitlink_cu12-12.3.101-py3-none-manylinux1_x86_64.whl (20.5 MB)\n",
      "\u001b[2K     \u001b[90m━━━━━━━━━━━━━━━━━━━━━━━━━━━━━━━━━━━━━━━━\u001b[0m \u001b[32m20.5/20.5 MB\u001b[0m \u001b[31m8.8 MB/s\u001b[0m eta \u001b[36m0:00:00\u001b[0m00:01\u001b[0m00:01\u001b[0m\n",
      "\u001b[?25hRequirement already satisfied: charset-normalizer<4,>=2 in /home/max/.local/lib/python3.10/site-packages (from requests->torchtext) (3.0.1)\n",
      "Requirement already satisfied: idna<4,>=2.5 in /home/max/.local/lib/python3.10/site-packages (from requests->torchtext) (3.4)\n",
      "Requirement already satisfied: certifi>=2017.4.17 in /home/max/.local/lib/python3.10/site-packages (from requests->torchtext) (2022.12.7)\n",
      "Requirement already satisfied: MarkupSafe>=2.0 in /home/max/.local/lib/python3.10/site-packages (from jinja2->torch==2.1.1->torchtext) (2.1.1)\n",
      "Requirement already satisfied: mpmath>=0.19 in /home/max/.local/lib/python3.10/site-packages (from sympy->torch==2.1.1->torchtext) (1.3.0)\n",
      "Installing collected packages: triton, nvidia-nvtx-cu12, nvidia-nvjitlink-cu12, nvidia-nccl-cu12, nvidia-curand-cu12, nvidia-cufft-cu12, nvidia-cuda-runtime-cu12, nvidia-cuda-nvrtc-cu12, nvidia-cuda-cupti-cu12, nvidia-cublas-cu12, fsspec, nvidia-cusparse-cu12, nvidia-cudnn-cu12, nvidia-cusolver-cu12, torch, torchtext\n",
      "  Attempting uninstall: triton\n",
      "    Found existing installation: triton 2.0.0\n",
      "    Uninstalling triton-2.0.0:\n",
      "      Successfully uninstalled triton-2.0.0\n",
      "  Attempting uninstall: torch\n",
      "    Found existing installation: torch 2.0.1\n",
      "    Uninstalling torch-2.0.1:\n",
      "      Successfully uninstalled torch-2.0.1\n",
      "\u001b[31mERROR: pip's dependency resolver does not currently take into account all the packages that are installed. This behaviour is the source of the following dependency conflicts.\n",
      "torchvision 0.15.2 requires torch==2.0.1, but you have torch 2.1.1 which is incompatible.\u001b[0m\u001b[31m\n",
      "\u001b[0mSuccessfully installed fsspec-2023.10.0 nvidia-cublas-cu12-12.1.3.1 nvidia-cuda-cupti-cu12-12.1.105 nvidia-cuda-nvrtc-cu12-12.1.105 nvidia-cuda-runtime-cu12-12.1.105 nvidia-cudnn-cu12-8.9.2.26 nvidia-cufft-cu12-11.0.2.54 nvidia-curand-cu12-10.3.2.106 nvidia-cusolver-cu12-11.4.5.107 nvidia-cusparse-cu12-12.1.0.106 nvidia-nccl-cu12-2.18.1 nvidia-nvjitlink-cu12-12.3.101 nvidia-nvtx-cu12-12.1.105 torch-2.1.1 torchtext-0.16.1 triton-2.1.0\n",
      "\n",
      "\u001b[1m[\u001b[0m\u001b[34;49mnotice\u001b[0m\u001b[1;39;49m]\u001b[0m\u001b[39;49m A new release of pip is available: \u001b[0m\u001b[31;49m23.1.2\u001b[0m\u001b[39;49m -> \u001b[0m\u001b[32;49m23.3.1\u001b[0m\n",
      "\u001b[1m[\u001b[0m\u001b[34;49mnotice\u001b[0m\u001b[1;39;49m]\u001b[0m\u001b[39;49m To update, run: \u001b[0m\u001b[32;49mpython3.10 -m pip install --upgrade pip\u001b[0m\n"
     ]
    },
    {
     "name": "stdout",
     "output_type": "stream",
     "text": [
      "Note: you may need to restart the kernel to use updated packages.\n"
     ]
    }
   ],
   "source": [
    "%pip install torchtext"
   ]
  },
  {
   "cell_type": "code",
   "execution_count": 5,
   "id": "787e2059",
   "metadata": {
    "id": "787e2059"
   },
   "outputs": [],
   "source": [
    "import torch\n",
    "import torch.nn as nn\n",
    "import torch.optim as optim\n",
    "\n",
    "from torchtext.datasets import UDPOS\n",
    "\n",
    "import numpy as np\n",
    "\n",
    "import time\n",
    "import random\n",
    "from torchtext.vocab import build_vocab_from_iterator\n",
    "from torch.utils.data import DataLoader\n",
    "device = torch.device('cuda' if torch.cuda.is_available() else 'cpu')\n",
    "\n",
    "\n",
    "# for reproducibility\n",
    "random.seed(77)\n",
    "np.random.seed(77)\n",
    "torch.manual_seed(77)\n",
    "torch.backends.cudnn.deterministic = True"
   ]
  },
  {
   "cell_type": "markdown",
   "id": "fc29cb37",
   "metadata": {
    "id": "fc29cb37"
   },
   "source": [
    "### Subtask 1: Data Analysis\n",
    "The very basic components of the torchtext library include `vocab`, `word vectors`, and `tokenizer`. Those are the basic data processing building blocks for the raw text string.\n",
    "In this case, we use the tokenizer and the vocabulary. Use the `build_vocab_from_iterator` to create the vocabulary for the text field and add the `<unk>` and `<pad>` tokens to it. Use a minimal frequency of `2`.\n",
    "Also create a vocabulary for the labels (tag field). However, since the tags are predefined elements, you will not need an `<unk>` token.\n",
    " This dataset actually has two different sets of tags, universal dependency (UD) tags and Penn Treebank (PTB) tags. We train our model on the UD tags, which is the second element on the list of outputs (example below).\n"
   ]
  },
  {
   "cell_type": "code",
   "execution_count": 6,
   "id": "IlEFywat4Gva",
   "metadata": {
    "colab": {
     "base_uri": "https://localhost:8080/"
    },
    "id": "IlEFywat4Gva",
    "outputId": "cc91ea23-9325-4e56-ee6d-f28a7afc91f6"
   },
   "outputs": [
    {
     "name": "stdout",
     "output_type": "stream",
     "text": [
      "[['Al', '-', 'Zaman', ':', 'American', 'forces', 'killed', 'Shaikh', 'Abdullah', 'al', '-', 'Ani', ',', 'the', 'preacher', 'at', 'the', 'mosque', 'in', 'the', 'town', 'of', 'Qaim', ',', 'near', 'the', 'Syrian', 'border', '.'], ['PROPN', 'PUNCT', 'PROPN', 'PUNCT', 'ADJ', 'NOUN', 'VERB', 'PROPN', 'PROPN', 'PROPN', 'PUNCT', 'PROPN', 'PUNCT', 'DET', 'NOUN', 'ADP', 'DET', 'NOUN', 'ADP', 'DET', 'NOUN', 'ADP', 'PROPN', 'PUNCT', 'ADP', 'DET', 'ADJ', 'NOUN', 'PUNCT'], ['NNP', 'HYPH', 'NNP', ':', 'JJ', 'NNS', 'VBD', 'NNP', 'NNP', 'NNP', 'HYPH', 'NNP', ',', 'DT', 'NN', 'IN', 'DT', 'NN', 'IN', 'DT', 'NN', 'IN', 'NNP', ',', 'IN', 'DT', 'JJ', 'NN', '.']]\n"
     ]
    }
   ],
   "source": [
    "train_iter = iter(UDPOS(split=\"train\"))\n",
    "print(next(train_iter))"
   ]
  },
  {
   "cell_type": "code",
   "execution_count": 7,
   "id": "7HJWFvb3AgTI",
   "metadata": {
    "colab": {
     "base_uri": "https://localhost:8080/"
    },
    "id": "7HJWFvb3AgTI",
    "outputId": "daab45d7-59cf-483b-a0b4-663d2baef128"
   },
   "outputs": [
    {
     "name": "stdout",
     "output_type": "stream",
     "text": [
      "Number of training examples: 12543\n",
      "Number of validation examples: 2002\n",
      "Number of testing examples: 2077\n"
     ]
    }
   ],
   "source": [
    "print(f\"Number of training examples: {len(list(UDPOS(split='train')))}\")\n",
    "print(f\"Number of validation examples: {len(list(UDPOS(split='valid')))}\")\n",
    "print(f\"Number of testing examples: {len(list(UDPOS(split='test')))}\")"
   ]
  },
  {
   "cell_type": "markdown",
   "id": "RaAW09-n_5DC",
   "metadata": {
    "id": "RaAW09-n_5DC"
   },
   "source": [
    "Note that the data is already tokenized!"
   ]
  },
  {
   "cell_type": "code",
   "execution_count": 25,
   "id": "rcG-FcDu5DcA",
   "metadata": {
    "id": "rcG-FcDu5DcA"
   },
   "outputs": [],
   "source": [
    "train_iter = UDPOS(split=\"train\") # to get the training set\n",
    "\n",
    "### your code (make sure pad has id of 0) ####\n",
    "def yield_tokens(train_iter, position):\n",
    "  for n in train_iter:\n",
    "    yield n[position]\n",
    "\n",
    "vocab = build_vocab_from_iterator(iterator=yield_tokens(train_iter, 0) , min_freq=2, specials=[\"<pad>\", \"<unk>\"], special_first=True)\n",
    "ud_vocab=build_vocab_from_iterator(iterator=yield_tokens(train_iter, 1) , min_freq=2, specials=[\"<pad>\"], special_first=True)"
   ]
  },
  {
   "cell_type": "markdown",
   "id": "nzalgc92j2mG",
   "metadata": {
    "id": "nzalgc92j2mG"
   },
   "source": [
    "Prepare a text processing pipeline that takes raw input and labels and converts them to ids."
   ]
  },
  {
   "cell_type": "code",
   "execution_count": 26,
   "id": "BDqKYQnRj2D8",
   "metadata": {
    "id": "BDqKYQnRj2D8"
   },
   "outputs": [],
   "source": [
    "text_pipeline = lambda x: vocab([token if token in vocab else \"<unk>\" for token in x ])\n",
    "label_pipeline = lambda x: ud_vocab([token if token in ud_vocab else \"<unk>\" for token in x ])"
   ]
  },
  {
   "cell_type": "code",
   "execution_count": 27,
   "id": "wg36B2Z_Hdi0",
   "metadata": {
    "colab": {
     "base_uri": "https://localhost:8080/"
    },
    "id": "wg36B2Z_Hdi0",
    "outputId": "31ad0cf0-4323-483a-f468-ad8a32edb9a5"
   },
   "outputs": [
    {
     "name": "stdout",
     "output_type": "stream",
     "text": [
      "[3, 9271, 35, 9097, 0, 1]\n",
      "[6, 8, 1, 2]\n"
     ]
    }
   ],
   "source": [
    "print(text_pipeline(['the', 'preacher', 'at', 'mosque', \"<pad>\", \"pppp\"])) #should output [3, 9271, 35, 9097, 0, 1]\n",
    "print(label_pipeline(['DET', 'ADJ', 'NOUN', 'PUNCT'])) # should output [6, 8, 1, 2]"
   ]
  },
  {
   "cell_type": "code",
   "execution_count": 28,
   "id": "cjn1qH2dHoaa",
   "metadata": {
    "colab": {
     "base_uri": "https://localhost:8080/"
    },
    "id": "cjn1qH2dHoaa",
    "outputId": "cdee4193-fd22-424b-fe56-db8480ab95c5"
   },
   "outputs": [
    {
     "name": "stdout",
     "output_type": "stream",
     "text": [
      "Unique tokens in input vocabulary: 9875\n",
      "Unique tokens in UD vocabulary: 18\n"
     ]
    }
   ],
   "source": [
    "print(f\"Unique tokens in input vocabulary: {len(vocab)}\")\n",
    "print(f\"Unique tokens in UD vocabulary: {len(ud_vocab)}\")"
   ]
  },
  {
   "cell_type": "markdown",
   "id": "FUnDiAOW-N5S",
   "metadata": {
    "id": "FUnDiAOW-N5S"
   },
   "source": [
    "Write a custom function for the dataloader that applies the text and label pipeline and pads the sequences to have equal lengths.\n",
    "\n"
   ]
  },
  {
   "cell_type": "code",
   "execution_count": 29,
   "id": "0aN6s1UhoRhK",
   "metadata": {
    "id": "0aN6s1UhoRhK"
   },
   "outputs": [],
   "source": [
    "from functools import partial\n",
    "from torch.nn.utils.rnn import pad_sequence\n",
    "\n",
    "def collate_batch(batch, pad_token_ix, pad_token_ix_ud):\n",
    "    ### your code ###\n",
    "    text_list = []\n",
    "    label_list = []\n",
    "    text, label, _ = zip(*batch)\n",
    "    max_len_text = len(max(text, key=len))\n",
    "    max_len_label = len(max(label, key=len))\n",
    "    for t, l in zip(text, label):\n",
    "        processed_text = text_pipeline(t)\n",
    "        processed_label = label_pipeline(l)\n",
    "        text_list.append(torch.tensor(processed_text, dtype=torch.int64))\n",
    "        label_list.append(torch.tensor(processed_label, dtype=torch.int64))\n",
    "    #padded input\n",
    "    x_padded = pad_sequence(text_list, batch_first=True, padding_value=pad_token_ix)\n",
    "    #padded predictions\n",
    "    y_padded = pad_sequence(label_list, batch_first=True, padding_value=pad_token_ix_ud)\n",
    "    ### your code ###\n",
    "    return x_padded.to(device), y_padded.to(device)\n",
    "\n",
    "collate_fn = partial(collate_batch, pad_token_ix=vocab['<pad>'], pad_token_ix_ud=ud_vocab['<pad>'])\n",
    "\n",
    "\n",
    "train_dataloader = DataLoader(\n",
    "    UDPOS(split=\"train\"), batch_size=128, shuffle=True, collate_fn=collate_fn\n",
    ")\n",
    "valid_dataloader = DataLoader(\n",
    "    UDPOS(split=\"valid\"), batch_size=128, shuffle=True, collate_fn=collate_fn\n",
    ")\n",
    "test_dataloader = DataLoader(\n",
    "    UDPOS(split=\"test\"), batch_size=128, shuffle=True, collate_fn=collate_fn\n",
    ")"
   ]
  },
  {
   "cell_type": "code",
   "execution_count": 30,
   "id": "2X8ZZ0J4oek_",
   "metadata": {
    "colab": {
     "base_uri": "https://localhost:8080/"
    },
    "id": "2X8ZZ0J4oek_",
    "outputId": "83fd15dd-8a2f-4f48-81a7-6c543fd2a468"
   },
   "outputs": [
    {
     "name": "stdout",
     "output_type": "stream",
     "text": [
      "torch.Size([128, 57])\n",
      "torch.Size([128, 57])\n",
      "tensor([1832,   13,   17,  488, 2837,    3, 3074,    1, 5532,  512,   13,   23,\n",
      "          56,  143,    5,  170,  154,  273,   39,  157,  971,   44, 2212,  648,\n",
      "           2,    0,    0,    0,    0,    0,    0,    0,    0,    0,    0,    0,\n",
      "           0,    0,    0,    0,    0,    0,    0,    0,    0,    0,    0,    0,\n",
      "           0,    0,    0,    0,    0,    0,    0,    0,    0])\n",
      "tensor([14,  4,  9, 12,  3,  6,  1,  1, 10, 17,  4,  3, 10, 13,  5, 13,  1, 10,\n",
      "        14,  9,  3,  5,  7,  7,  2,  0,  0,  0,  0,  0,  0,  0,  0,  0,  0,  0,\n",
      "         0,  0,  0,  0,  0,  0,  0,  0,  0,  0,  0,  0,  0,  0,  0,  0,  0,  0,\n",
      "         0,  0,  0])\n"
     ]
    }
   ],
   "source": [
    "for idx, (label, text) in enumerate(train_dataloader):\n",
    "      print(label.shape)\n",
    "      print(text.shape)\n",
    "      print(label[0])\n",
    "      print(text[0])\n",
    "      break\n"
   ]
  },
  {
   "cell_type": "markdown",
   "id": "jDy_wvjR_1Sg",
   "metadata": {
    "id": "jDy_wvjR_1Sg"
   },
   "source": [
    "Let's take a closer look at the data and the distribution of tags.\n",
    "Implement `tag_percentage`:\n",
    "\n",
    "*   Use the `collection.counter` to count the unique instances of each tag.\n",
    "\n",
    "*    Compute the percentage of each tag in the entire set, by using the counted frequencies.\n",
    "\n"
   ]
  },
  {
   "cell_type": "code",
   "execution_count": 31,
   "id": "273JqNZn_rRT",
   "metadata": {
    "id": "273JqNZn_rRT"
   },
   "outputs": [],
   "source": [
    "from collections import Counter\n",
    "\n",
    "def tag_percentage(training_iterator):\n",
    "    counter = Counter()\n",
    "    #### your code to count the number of tags\n",
    "    _, tags, _ = zip(*training_iterator)\n",
    "    counter = Counter(t for tag_list in tags for t in tag_list)\n",
    "    ###\n",
    "    ### compute the tag percentages based on the counter object\n",
    "    counted_sum = sum(counter.values())\n",
    "    tag_p = [(tag, counter[tag], counter[tag] / counted_sum) for tag in counter]\n",
    "    ###\n",
    "    return tag_p"
   ]
  },
  {
   "cell_type": "code",
   "execution_count": 32,
   "id": "fWzoEd7h_qRw",
   "metadata": {
    "colab": {
     "base_uri": "https://localhost:8080/"
    },
    "id": "fWzoEd7h_qRw",
    "outputId": "3d112c31-4283-4459-e11b-bb2274eba39a"
   },
   "outputs": [
    {
     "name": "stdout",
     "output_type": "stream",
     "text": [
      "Tag\t\tCount\t\tPercentage\n",
      "\n",
      "PROPN\t\t12946\t\t 6.3%\n",
      "PUNCT\t\t23679\t\t11.6%\n",
      "ADJ\t\t12477\t\t 6.1%\n",
      "NOUN\t\t34781\t\t17.0%\n",
      "VERB\t\t23081\t\t11.3%\n",
      "DET\t\t16285\t\t 8.0%\n",
      "ADP\t\t17638\t\t 8.6%\n",
      "AUX\t\t12343\t\t 6.0%\n",
      "PRON\t\t18577\t\t 9.1%\n",
      "PART\t\t5567\t\t 2.7%\n",
      "SCONJ\t\t3843\t\t 1.9%\n",
      "NUM\t\t3999\t\t 2.0%\n",
      "ADV\t\t10548\t\t 5.2%\n",
      "CCONJ\t\t6707\t\t 3.3%\n",
      "X\t\t847\t\t 0.4%\n",
      "INTJ\t\t688\t\t 0.3%\n",
      "SYM\t\t599\t\t 0.3%\n"
     ]
    }
   ],
   "source": [
    "print(\"Tag\\t\\tCount\\t\\tPercentage\\n\")\n",
    "\n",
    "for tag, count, percent in tag_percentage(UDPOS(split='train')):\n",
    "    print(f\"{tag}\\t\\t{count}\\t\\t{percent*100:4.1f}%\")"
   ]
  },
  {
   "cell_type": "markdown",
   "id": "GKTQL0EsxSUU",
   "metadata": {
    "id": "GKTQL0EsxSUU"
   },
   "source": [
    "####${\\color{red}{Comments\\ 1.1}}$\n",
    "\n",
    "${\\color{red}{⚠️Comments\\ begin⚠️}}$\n",
    "\n",
    "\n",
    "```\n",
    "cross-feedback comment section\n",
    "```\n",
    "\n",
    "\n",
    "${\\color{red}{⚠️Comments\\ end⚠️}}$"
   ]
  },
  {
   "cell_type": "markdown",
   "id": "gYHy3vSELfaN",
   "metadata": {
    "id": "gYHy3vSELfaN"
   },
   "source": [
    "### Subtask 2: The Model\n",
    "\n",
    "We start by creating a simple model and then make it more complex in later subtasks. The class `BiLSTMTagger` must subclass the `nn.Module` class of `PyTorch`. Fill the blank in the class by following the notes described below.\n",
    "1.   The input is a sequence of tokens, $X = \\{x_1, x_2,...,x_T\\}$.\n",
    "2.   Each token passes through  an embeddings layer, $e(X) = \\{e(x_1), e(x_2), ..., e(x_T)\\}$. Use `nn.Embedding` for the embedding layer and make sure to pass in the index of the pad token.\n",
    "3. Embedding is processed by forward and backward LSTMs from left to right and right to left.  The first input to the forward LSTM is $x_1$ and the first input to the backward LSTM is $x_T$. The hidden state of LSTMs is dependent on\n",
    "the hidden, $h$, and cell, $c$, states from the previous time-steps:\n",
    "$$h^{\\rightarrow}_t = \\text{LSTM}^{\\rightarrow}(e(x^{\\rightarrow}_t), h^{\\rightarrow}_{t-1}, c^{\\rightarrow}_{t-1})$$\n",
    "$$h^{\\leftarrow}_t=\\text{LSTM}^{\\leftarrow}(e(x^{\\leftarrow}_t), h^{\\leftarrow}_{t-1}, c^{\\leftarrow}_{t-1})$$\n",
    "4. The hidden, $h$, and cell, $c$ of each layer is passed to the next layer, where the $h_0$ and $c_0$, for each direction and layer, are initialized to a tensor full of zeros. Use `nn.LSTM` for LSTM cells. How can you make it bidirectional?\n",
    "5. Final hidden state is the concatenation of forward and backward hidden states from the final layer of the LSTM, $H = \\{h_1, h_2, ... h_T\\}$, where $h_1 = [h^{\\rightarrow}_1;h^{\\leftarrow}_T]$, $h_2 = [h^{\\rightarrow}_2;h^{\\leftarrow}_{T-1}]$. Use `nn.Linear` here.\n",
    "6. The last layer is linear layer $f$, which is used to make the prediction of which tag applies to this token, $\\hat{y}_t = f(h_t)$.\n",
    "7. Define a `nn.Dropout` layer to apply to the embeddings and the outputs of the final layer of the LSTM."
   ]
  },
  {
   "cell_type": "code",
   "execution_count": 43,
   "id": "qE4GQE6NJ1k8",
   "metadata": {
    "id": "qE4GQE6NJ1k8"
   },
   "outputs": [],
   "source": [
    "class BiLSTMTagger(nn.Module):\n",
    "    def __init__(self, hyperparameters):\n",
    "        '''\n",
    "        hyperparameters: is a dictionary containing:\n",
    "        input_dim: dimension of the input\n",
    "        embedding_dim: dimension of the embedding layer\n",
    "        lstm_hidden_dim:: dimension of the hidden state of lstms\n",
    "        output_dim: dimension of the output hidden layer\n",
    "        n_layers: number of layers to stack\n",
    "        bidirectional: is the lstm bi-directional\n",
    "        dropout: probability for the drop out layer\n",
    "        pad_idx: id of the pad token\n",
    "        '''\n",
    "        super().__init__()\n",
    "        #embedding layer\n",
    "        self.embedding = nn.Embedding(\n",
    "            hyperparameters['input_dim'], \n",
    "            hyperparameters['embedding_dim'], \n",
    "            padding_idx=hyperparameters['pad_idx']\n",
    "        )      \n",
    "        #bi-lstm, apply dropout if the number of layers is more than 1\n",
    "        self.lstm = nn.LSTM(\n",
    "            hyperparameters['embedding_dim'],\n",
    "            hyperparameters['lstm_hidden_dim'],\n",
    "            num_layers=hyperparameters['n_layers'],\n",
    "            bidirectional=hyperparameters['bidirectional'],\n",
    "            dropout=hyperparameters['dropout'] if hyperparameters['n_layers'] > 1 else 0\n",
    "        )      \n",
    "        \n",
    "        lstm_output_dim = hyperparameters['lstm_hidden_dim']\n",
    "        if hyperparameters['bidirectional']:\n",
    "            lstm_output_dim *= 2\n",
    "        \n",
    "        self.fc = nn.Linear(lstm_output_dim, hyperparameters['output_dim'])\n",
    "        self.dropout = nn.Dropout(hyperparameters['dropout'])\n",
    "    def forward(self, text, debug=False): #(B,S)\n",
    "        '''\n",
    "        S: sentence len\n",
    "        B: batch size\n",
    "        E: embedding size\n",
    "        H: hidden size\n",
    "        O:output size\n",
    "        L: number of layers\n",
    "        '''\n",
    "        #### your code ####\n",
    "        #pass text through embedding layer and a drop out layer\n",
    "        embd = self.dropout(self.embedding(text))\n",
    "        outputs, (hidden, cell) = self.lstm(embd)\n",
    "\n",
    "        #pass embeddings into bi-LSTM\n",
    "        # Concatenate the forward and backward hidden states if bidirectional\n",
    "        if self.lstm.bidirectional:\n",
    "            hidden = torch.cat((hidden[-2,:,:], hidden[-1,:,:]), dim=1)\n",
    "        else:\n",
    "            hidden = hidden[-1,:,:]\n",
    "\n",
    "        #compute prediction\n",
    "        predictions = self.fc(self.dropout(hidden))\n",
    "        #### your code ####\n",
    "\n",
    "        if debug==True:\n",
    "            print(\"Input shape:\",text.shape)\n",
    "            print(\"Embedding shape:\",embd.shape)\n",
    "            print(\"LSTM output shape:\",outputs.shape)\n",
    "            print(\"LSTM hidden shape:\",hidden.shape)\n",
    "            print(\"LSTM cell shape:\",cell.shape)\n",
    "            print(\"Output shape:\",predictions.shape)\n",
    "\n",
    "        return predictions"
   ]
  },
  {
   "cell_type": "markdown",
   "id": "4OcQbD9LUkD5",
   "metadata": {
    "id": "4OcQbD9LUkD5"
   },
   "source": [
    "Response in plain text:\n",
    "1. Based on the notation defined in the forward function. What is the dimension of `outputs`, `hidden`, and `cell`?"
   ]
  },
  {
   "cell_type": "markdown",
   "id": "ml4KUd1BU3op",
   "metadata": {
    "id": "ml4KUd1BU3op"
   },
   "source": [
    "$\\textbf{outputs}: $ The output shape of the LSTM layer is defined by $[B, S, H]$\n",
    "\n",
    "\n",
    "$\\textbf{hidden}: $ The hidden LSTM shape is defined by $[S, L \\cdot H]$\n",
    "\n",
    "\n",
    "$\\textbf{cell}: $ The cell shape is defined by $[B \\cdot L, S, H]$\n"
   ]
  },
  {
   "cell_type": "code",
   "execution_count": 44,
   "id": "ivB8Iv4yScVW",
   "metadata": {
    "id": "ivB8Iv4yScVW"
   },
   "outputs": [],
   "source": [
    "hyper_parameters={\n",
    "  'input_dim':  len(vocab),\n",
    "  'embedding_dim': 100,\n",
    "  'lstm_hidden_dim': 128,\n",
    "  'output_dim':len(ud_vocab),\n",
    "  'n_layers': 2 ,\n",
    "  'bidirectional':True,\n",
    "  'dropout': 0.25,\n",
    "  'pad_idx': vocab['<pad>']\n",
    "}\n",
    "model = BiLSTMTagger(hyper_parameters)"
   ]
  },
  {
   "cell_type": "code",
   "execution_count": 45,
   "id": "1XvNFfJBV7ya",
   "metadata": {
    "id": "1XvNFfJBV7ya"
   },
   "outputs": [
    {
     "name": "stdout",
     "output_type": "stream",
     "text": [
      "Input shape: torch.Size([2, 6])\n",
      "Embedding shape: torch.Size([2, 6, 100])\n",
      "LSTM output shape: torch.Size([2, 6, 256])\n",
      "LSTM hidden shape: torch.Size([6, 256])\n",
      "LSTM cell shape: torch.Size([4, 6, 128])\n",
      "Output shape: torch.Size([6, 18])\n"
     ]
    },
    {
     "data": {
      "text/plain": [
       "torch.Size([6, 18])"
      ]
     },
     "execution_count": 45,
     "metadata": {},
     "output_type": "execute_result"
    }
   ],
   "source": [
    "input=torch.tensor([[3, 9271, 35, 9097, 0, 1],\n",
    "                    [3, 9271, 35, 9097, 0, 1]])\n",
    "model(input,debug=True).shape"
   ]
  },
  {
   "cell_type": "markdown",
   "id": "2XiJkG-NfrDV",
   "metadata": {
    "id": "2XiJkG-NfrDV"
   },
   "source": [
    "Weights of the network are initialized randomly, so let's make a more systematic initialization to help us with the optimization. For example,  Xavier Initialization creates weights such that the variance of the activations is the same across every layer. This constant variance helps prevent the gradient from exploding or vanishing. However, it does not apply to bias terms.\n",
    "\n",
    "Create a function that uses Xavier Initialization to initialize the weights of the network, for biases use a normal distribution with a mean of 0 and a standard deviation of 0.1."
   ]
  },
  {
   "cell_type": "code",
   "execution_count": 51,
   "id": "PB78pCHpa758",
   "metadata": {
    "id": "PB78pCHpa758"
   },
   "outputs": [
    {
     "data": {
      "text/plain": [
       "BiLSTMTagger(\n",
       "  (embedding): Embedding(9875, 100, padding_idx=0)\n",
       "  (lstm): LSTM(100, 128, num_layers=2, dropout=0.25, bidirectional=True)\n",
       "  (fc): Linear(in_features=256, out_features=18, bias=True)\n",
       "  (dropout): Dropout(p=0.25, inplace=False)\n",
       ")"
      ]
     },
     "execution_count": 51,
     "metadata": {},
     "output_type": "execute_result"
    }
   ],
   "source": [
    "def init_weights(m):\n",
    "    # Initialize weights using Xavier Initialization\n",
    "    # Also for the embedding layer since it is not stated to handle them differently\n",
    "    if isinstance(m, nn.LSTM):\n",
    "        # Initialize weights for all layers of LSTM\n",
    "        for name, param in m.named_parameters():\n",
    "            if 'weight_ih' in name:\n",
    "                nn.init.xavier_uniform_(param)\n",
    "            elif 'weight_hh' in name:\n",
    "                nn.init.xavier_uniform_(param)\n",
    "            elif 'bias' in name:\n",
    "                nn.init.normal_(param, mean=0, std=0.1)        \n",
    "    elif isinstance(m, nn.Linear):\n",
    "        nn.init.xavier_uniform_(m.weight)\n",
    "        # embedding has no bias\n",
    "        if not isinstance(m, nn.Embedding):\n",
    "            nn.init.normal_(m.bias, mean=0, std=0.1)\n",
    "\n",
    "model.apply(init_weights)\n",
    "model.to(device)"
   ]
  },
  {
   "cell_type": "markdown",
   "id": "sdPx1mSOgy0V",
   "metadata": {
    "id": "sdPx1mSOgy0V"
   },
   "source": [
    "Let's count the number of trainable parameters in our model."
   ]
  },
  {
   "cell_type": "code",
   "execution_count": 52,
   "id": "P5738nU2ew_O",
   "metadata": {
    "id": "P5738nU2ew_O"
   },
   "outputs": [
    {
     "name": "stdout",
     "output_type": "stream",
     "text": [
      "number of trainable parameters: 1622910\n"
     ]
    }
   ],
   "source": [
    "def count_parameters(model):\n",
    "    return sum(p.numel() for p in model.parameters() if p.requires_grad)\n",
    "\n",
    "print(\"number of trainable parameters:\",count_parameters(model))"
   ]
  },
  {
   "cell_type": "markdown",
   "id": "91uNA-vnyoUW",
   "metadata": {
    "id": "91uNA-vnyoUW"
   },
   "source": [
    "####${\\color{red}{Comments\\ 1.2}}$\n",
    "\n",
    "${\\color{red}{⚠️Comments\\ begin⚠️}}$\n",
    "\n",
    "\n",
    "```\n",
    "cross-feedback comment section\n",
    "```\n",
    "\n",
    "\n",
    "${\\color{red}{⚠️Comments\\ end⚠️}}$"
   ]
  },
  {
   "cell_type": "markdown",
   "id": "-lVg08iTd0XN",
   "metadata": {
    "id": "-lVg08iTd0XN"
   },
   "source": [
    "### Subtask 3: Training\n",
    "\n",
    "We start by defining a loss function and an optimizer.\n",
    "\n",
    "\n",
    "*   **optimizer:** We use Adam with the learning rate=0.0001.\n",
    "*   **loss:** We use cross-entropy loss.\n",
    "\n",
    "Even though we have no `<unk>` tokens within our tag vocab, we still have `<pad>` tokens to create batches of the same size. However, we do not want to calculate loss on those tokens, so make sure you define your loss function in such a way that ignores the `<pad>` tokens.\n",
    "\n",
    "\n"
   ]
  },
  {
   "cell_type": "code",
   "execution_count": null,
   "id": "8LEyNeKhmBvK",
   "metadata": {
    "id": "8LEyNeKhmBvK"
   },
   "outputs": [],
   "source": [
    "### your code ###\n",
    "optimizer =\n",
    "loss_function =\n",
    "### your code ###"
   ]
  },
  {
   "cell_type": "markdown",
   "id": "95Cf7ZcVgLHK",
   "metadata": {
    "id": "95Cf7ZcVgLHK"
   },
   "source": [
    "Watching the loss go down as you train a model is a good indication of the correct training procedure, but does not tell us how well we are doing on a given task.\n",
    "To this end, we also implement a categorical accuracy measure to keep track of how well our model is doing on a given task.\n",
    "Same as before: we don't want to calculate accuracy over the `<pad>` tokens as we aren't interested in predicting them.\n",
    "Implement the function `categorical_acc` to compare the prediction of non-pad tokens with labels count the correct ones and calculate the accuracy over a single batch."
   ]
  },
  {
   "cell_type": "code",
   "execution_count": null,
   "id": "J5OpDKuBitk1",
   "metadata": {
    "id": "J5OpDKuBitk1"
   },
   "outputs": [],
   "source": [
    "def categorical_acc(preds, gt, pad_idx):\n",
    "    \"\"\"\n",
    "    Returns categorical accuracy per batch\n",
    "    \"\"\"\n",
    "    ### your code ####\n",
    "    max_preds =  # get the index of the max probability\n",
    "\n",
    "\n",
    "    return\n",
    "     ### your code ####"
   ]
  },
  {
   "cell_type": "code",
   "execution_count": null,
   "id": "WANOhA56kjY_",
   "metadata": {
    "id": "WANOhA56kjY_"
   },
   "outputs": [],
   "source": [
    "dummpy_input=torch.tensor([\n",
    "    [0.9,0,0,0],\n",
    "    [0.1,0.9,0,0],\n",
    "    [0.1,0,0,0.9],\n",
    "    [0.9,0.1,0,0],\n",
    "    [0.1,0.8,0,0]\n",
    "\n",
    "])\n",
    "categorical_acc(dummpy_input, torch.tensor([0,2,3,0,1]), 0)"
   ]
  },
  {
   "cell_type": "markdown",
   "id": "y_wngIs7jFrT",
   "metadata": {
    "id": "y_wngIs7jFrT"
   },
   "source": [
    "Define the `train` model that performs one epoch of training. You can refer to the Tutorial 2 of the course to get a sample workflow. The only difference to the tutorial is that we keep track of the batch-wise accuracy as well as the loss."
   ]
  },
  {
   "cell_type": "code",
   "execution_count": null,
   "id": "kyMs0FJNfGCp",
   "metadata": {
    "id": "kyMs0FJNfGCp"
   },
   "outputs": [],
   "source": [
    "def train(model, dataloader, optimizer, loss_function, pad_idx):\n",
    "\n",
    "    epoch_loss = 0\n",
    "    epoch_acc = 0\n",
    "\n",
    "    model.train()\n",
    "    epoch_start_time = time.time()\n",
    "\n",
    "    for length_dataloader,(text,tags) in enumerate(dataloader):\n",
    "        #### your code ####\n",
    "\n",
    "\n",
    "        #### your code ####\n",
    "    end_time= time.time() - epoch_start_time\n",
    "    return epoch_loss / length_dataloader, epoch_acc / length_dataloader,end_time"
   ]
  },
  {
   "cell_type": "markdown",
   "id": "W0ytUn7vkdcR",
   "metadata": {
    "id": "W0ytUn7vkdcR"
   },
   "source": [
    "It is not enough to only look at the training loss and accuracy, since with more training, we can always do better on the training set, but lose the generalizability to unseen data, a phenomenon known as **overfitting**. Therefore, it is important to check the loss and accuracy on the validation set after each epoch and stop before  overfitting occurs. Moreover, we can use the validation metric as an indication of which checkpoint of our model is the best.\n",
    "\n",
    "Define an `evaluate` function that runs once through the validation set and computes loss and accuracy. **Note:** You should not be updating gradients here and your model should be in evaluation mode."
   ]
  },
  {
   "cell_type": "code",
   "execution_count": null,
   "id": "0CKzEqyAfktd",
   "metadata": {
    "id": "0CKzEqyAfktd"
   },
   "outputs": [],
   "source": [
    "def evaluate(model, dataloader, loss_function, pad_idx):\n",
    "\n",
    "    val_loss = 0\n",
    "    val_acc = 0\n",
    "\n",
    "    ### your code ###\n",
    "\n",
    "     ### your code ###\n",
    "\n",
    "    return val_loss / length_dataloader, val_acc / length_dataloader"
   ]
  },
  {
   "cell_type": "markdown",
   "id": "3AZJidLFnOUW",
   "metadata": {
    "id": "3AZJidLFnOUW"
   },
   "source": [
    "Let's use the functions defined so far and train our model for `30` epochs. We suggest using GPU for this task, as it is quite slow on the CPU. Run the training loop for the given number of epochs and calculate the validation metric at the end of each epoch. Based on the validation loss, save the best checkpoint of the model."
   ]
  },
  {
   "cell_type": "code",
   "execution_count": null,
   "id": "NblN-U0inVYc",
   "metadata": {
    "id": "NblN-U0inVYc"
   },
   "outputs": [],
   "source": [
    "epochs = 30\n",
    "\n",
    "best_valid_loss = float('inf')\n",
    "\n",
    "for epoch in range(epochs):\n",
    "    ### your code ###\n",
    "    train_loss, train_acc, epoch_time =\n",
    "    valid_loss, valid_acc =\n",
    "\n",
    "\n",
    "    ### your code ###\n",
    "    elapsed_mins = int(epoch_time / 60)\n",
    "    elapsed_secs = int(epoch_time - (elapsed_mins * 60))\n",
    "    print(f'Epoch: {epoch+1:02} | Epoch Time: {elapsed_mins}m {elapsed_secs}s')\n",
    "    print(f'\\tTrain Loss: {train_loss:.3f} | Train Acc: {train_acc*100:.2f}%')\n",
    "    print(f'\\t Validation Loss: {valid_loss:.3f} |  Validation Acc: {valid_acc*100:.2f}%')"
   ]
  },
  {
   "cell_type": "markdown",
   "id": "7dXTYFEbHzNL",
   "metadata": {
    "id": "7dXTYFEbHzNL"
   },
   "source": [
    "Question:\n",
    "\n",
    "1. Does overfitting occur? If so, after which epochs?\n",
    "\n",
    "2. How do you detect overfitting?\n"
   ]
  },
  {
   "cell_type": "markdown",
   "id": "9qSbr8CrH9hD",
   "metadata": {
    "id": "9qSbr8CrH9hD"
   },
   "source": [
    "**Answer:**\n",
    "```\n",
    "Write your answer here.\n",
    "```"
   ]
  },
  {
   "cell_type": "markdown",
   "id": "GmqNesqiMISb",
   "metadata": {
    "id": "GmqNesqiMISb"
   },
   "source": [
    "Let's see how well our model is doing on the test set. Load the best checkpoint and calculate the accuracy."
   ]
  },
  {
   "cell_type": "code",
   "execution_count": null,
   "id": "SgCFqby0m8sf",
   "metadata": {
    "id": "SgCFqby0m8sf"
   },
   "outputs": [],
   "source": [
    "#### you code ####\n",
    "\n",
    "#### you code ####\n",
    "test_acc"
   ]
  },
  {
   "cell_type": "markdown",
   "id": "tMIDBeSFyqJr",
   "metadata": {
    "id": "tMIDBeSFyqJr"
   },
   "source": [
    "####${\\color{red}{Comments\\ 1.3}}$\n",
    "\n",
    "${\\color{red}{⚠️Comments\\ begin⚠️}}$\n",
    "\n",
    "\n",
    "```\n",
    "cross-feedback comment section\n",
    "```\n",
    "\n",
    "\n",
    "${\\color{red}{⚠️Comments\\ end⚠️}}$"
   ]
  },
  {
   "cell_type": "markdown",
   "id": "7dPfzmVGMeSO",
   "metadata": {
    "id": "7dPfzmVGMeSO"
   },
   "source": [
    "### Subtask 4: Inference\n",
    "\n",
    "Let's use the model we trained to tag some actual sentences. We have the preprocessing pipeline ready from Subtask 1, now we need to map the predictions back to label texts for each token.\n",
    "\n",
    "Implement the `tag_sequence` function that takes a model and a sentence as input and generates POS tags. Keep in mind that you need to divide the sentence into tokens first. For this purpose, we just split each sentence on whitespaces."
   ]
  },
  {
   "cell_type": "code",
   "execution_count": null,
   "id": "Xe7_ROCyEslD",
   "metadata": {
    "id": "Xe7_ROCyEslD"
   },
   "outputs": [],
   "source": [
    "def tag_sentence(model, sentence):\n",
    "    ### your code ###\n",
    "\n",
    "\n",
    "    predictions = # make predictions on th esentence\n",
    "\n",
    "\n",
    "    predicted_tags = # get the tags\n",
    "    ### your code ###\n",
    "    return predicted_tags"
   ]
  },
  {
   "cell_type": "code",
   "execution_count": null,
   "id": "JtiR75PFRR61",
   "metadata": {
    "id": "JtiR75PFRR61"
   },
   "outputs": [],
   "source": [
    "text=\" \".join(list(UDPOS(split='test'))[0][0])\n",
    "label= list(UDPOS(split='test'))[0][1]\n",
    "predicted_tag=tag_sentence(model,text)\n",
    "print(\"Text: \",text)\n",
    "print(\"Predicted Tags: \",predicted_tag)\n",
    "print(\"True Tags: \",label)"
   ]
  },
  {
   "cell_type": "markdown",
   "id": "7bPriv78yuyQ",
   "metadata": {
    "id": "7bPriv78yuyQ"
   },
   "source": [
    "####${\\color{red}{Comments\\ 1.4}}$\n",
    "\n",
    "${\\color{red}{⚠️Comments\\ begin⚠️}}$\n",
    "\n",
    "\n",
    "```\n",
    "cross-feedback comment section\n",
    "```\n",
    "\n",
    "\n",
    "${\\color{red}{⚠️Comments\\ end⚠️}}$"
   ]
  },
  {
   "cell_type": "markdown",
   "id": "X4n7Xi4TT_Ww",
   "metadata": {
    "id": "X4n7Xi4TT_Ww"
   },
   "source": [
    "## **Task 2: Theoretical Questions** (0.5+1.5+1+3=6 points)"
   ]
  },
  {
   "cell_type": "markdown",
   "id": "QbQJ3baXUHkQ",
   "metadata": {
    "id": "QbQJ3baXUHkQ"
   },
   "source": [
    "### Subtask 1:\n",
    "In beam search, if you increase the beam width, what will happen to a) the runtime and memory and b) the quality of results?"
   ]
  },
  {
   "cell_type": "markdown",
   "id": "Ei5A-D_djZup",
   "metadata": {
    "id": "Ei5A-D_djZup"
   },
   "source": [
    "**Answer:**\n",
    "\n",
    "\n",
    "```\n",
    "Write your answer here.\n",
    "```\n",
    "\n"
   ]
  },
  {
   "cell_type": "markdown",
   "id": "RuzX2q7TywyW",
   "metadata": {
    "id": "RuzX2q7TywyW"
   },
   "source": [
    "####${\\color{red}{Comments\\ 2.1}}$\n",
    "\n",
    "${\\color{red}{⚠️Comments\\ begin⚠️}}$\n",
    "\n",
    "\n",
    "```\n",
    "cross-feedback comment section\n",
    "```\n",
    "\n",
    "\n",
    "${\\color{red}{⚠️Comments\\ end⚠️}}$"
   ]
  },
  {
   "cell_type": "markdown",
   "id": "N7KlRPnhknbl",
   "metadata": {
    "id": "N7KlRPnhknbl"
   },
   "source": [
    "### Subtask 2:\n",
    "Except for beam search, there are other ways to create a more coherent output for generation tasks, one of which is adding a temperature to the softmax over the vocabulary. Temperature is a hyperparameter that is applied to the input of a softmax to affect the final probabilities. All values in the input are divided by the temperature before going through the softmax. What do you think will happen in these cases:\n",
    "\n",
    "1. A low temperature - below 1\n",
    "2. A high temperature - above 1\n",
    "3. Really small temperature - temperature $→$ 0"
   ]
  },
  {
   "cell_type": "markdown",
   "id": "uxuh5LOFnF3D",
   "metadata": {
    "id": "uxuh5LOFnF3D"
   },
   "source": [
    "**Answer:**\n",
    "```\n",
    "When adding the hyperparameter temperature T to the softmax calculation, the new function looks as follows: \n",
    "```\n",
    "$$\\text{Softmax}(z_i) = \\frac{e^{\\frac{z_i}{T}}}{\\sum_{j=1}^{n} e^{\\frac{z_j}{T}}}$$\n",
    "\n",
    "\n",
    "```\n",
    "When increasing T, the probabilities of each word in the sequence approach a uniform distribution giving each word an equal probability of getting sampled out. The higher T, the more the softmax results are equalised. Therefore the following happens:\n",
    "\n",
    "1. A low temperature - below 1\n",
    "    The softmax function is less sensitive to differences in input values. The model is more likely to choose the most probable token, leading to more deterministic outputs, since the distribution values differ.\n",
    "2. A high temperature - above 1\n",
    "    Softmax values are softened and the probability distribution becomes more uniform.\n",
    "3. Really small temperature - temperature $→$ 0\n",
    "    Softmax function becomes increasingly deterministic, favoring only the token with the highest probability. Basically, the results of the original Softmax are amplified and the output values differ even more.\n",
    "```"
   ]
  },
  {
   "cell_type": "markdown",
   "id": "GmW4NNb4yyZF",
   "metadata": {
    "id": "GmW4NNb4yyZF"
   },
   "source": [
    "####${\\color{red}{Comments\\ 2.2}}$\n",
    "\n",
    "${\\color{red}{⚠️Comments\\ begin⚠️}}$\n",
    "\n",
    "\n",
    "```\n",
    "cross-feedback comment section\n",
    "```\n",
    "\n",
    "\n",
    "${\\color{red}{⚠️Comments\\ end⚠️}}$"
   ]
  },
  {
   "cell_type": "markdown",
   "id": "tM2DmNOwod4r",
   "metadata": {
    "id": "tM2DmNOwod4r"
   },
   "source": [
    "### Subtask 3:\n",
    "Explain what the “bottleneck” of an encoder-decoder RNN is and how attention provides a way to get around this bottleneck."
   ]
  },
  {
   "cell_type": "markdown",
   "id": "DNJ3f_MtdzrM",
   "metadata": {
    "id": "DNJ3f_MtdzrM"
   },
   "source": [
    "**Answer:**\n",
    "```\n",
    "Write your answer here.\n",
    "```"
   ]
  },
  {
   "cell_type": "markdown",
   "id": "JFUHVF40y0j-",
   "metadata": {
    "id": "JFUHVF40y0j-"
   },
   "source": [
    "####${\\color{red}{Comments\\ 2.3}}$\n",
    "\n",
    "${\\color{red}{⚠️Comments\\ begin⚠️}}$\n",
    "\n",
    "\n",
    "```\n",
    "cross-feedback comment section\n",
    "```\n",
    "\n",
    "\n",
    "${\\color{red}{⚠️Comments\\ end⚠️}}$"
   ]
  },
  {
   "cell_type": "markdown",
   "id": "HaHhdLdJehL3",
   "metadata": {
    "id": "HaHhdLdJehL3"
   },
   "source": [
    "### Subtask 4:\n",
    "As mentioned, there are various way to remedy the repetitiveness and incoherence of generation outputs. One of the widely used methods is Nucleus sampling described the paper \"[ The Curious Case of Neural Text DeGeneration](https://arxiv.org/pdf/1904.09751.pdf)\". Read the model section and introduction of the paper and use it as reference to answer the following questions:\n",
    "\n",
    "1. Describe top-k sampling in your own words, no need for mathematical notation.\n",
    "2. Describe Nucleus sampling in your own words, there is not need for mathematical notation.\n",
    "3.  Why is beam search not a good strategy for human-like text generation and why don't these methods suffer from the problem of the beam search?\n"
   ]
  },
  {
   "cell_type": "markdown",
   "id": "9Ojtbn1kgaYE",
   "metadata": {
    "id": "9Ojtbn1kgaYE"
   },
   "source": [
    "**Answer:**\n",
    "```\n",
    "Write your answer here.\n",
    "```"
   ]
  },
  {
   "cell_type": "markdown",
   "id": "0wU67Iqpy2rg",
   "metadata": {
    "id": "0wU67Iqpy2rg"
   },
   "source": [
    "####${\\color{red}{Comments\\ 2.4}}$\n",
    "\n",
    "${\\color{red}{⚠️Comments\\ begin⚠️}}$\n",
    "\n",
    "\n",
    "```\n",
    "cross-feedback comment section\n",
    "```\n",
    "\n",
    "\n",
    "${\\color{red}{⚠️Comments\\ end⚠️}}$"
   ]
  },
  {
   "cell_type": "markdown",
   "id": "IZl0-MMY6MWs",
   "metadata": {
    "id": "IZl0-MMY6MWs"
   },
   "source": [
    "## **Task 3: Scaled Dot-Product Attention** (4+1=5 points)\n",
    "In class, you learned about attention and Transformers as described in the 2017 paper\n",
    "[Attention Is All You Need](https://arxiv.org/abs/1706.03762).\n",
    "The base of the attention module is a scaled dot product with Queries, Keys, and Values.\n",
    "In this task, you will implement a simplified version of scaled dot-product attention and inspired by the translation task, aim to replicate word alignment between English and French.\n",
    "You will not be training the embedding from scratch, we provide you with pre-trained embedding for both languages.\n",
    "However, you need to know the details of scaled dot product attention, which mainly consists of two matrix multiplications and a softmax scaling.\n",
    "Refer to Figure 2 of the [Attention Is All You Need](https://arxiv.org/abs/1706.03762) paper.\n",
    "\n",
    "The inputs of the attention module are Queries, Keys, and Values. Mathematically, attention is defined as follows:\n",
    "\n",
    "$$\n",
    "\\large \\mathrm{Attention}\\left(Q, K, V\\right) = \\mathrm{softmax}\\left(\\frac{QK^{\\top}}{\\sqrt{d_k}}\\right)V\n",
    "$$\n",
    "\n",
    "\n",
    "*   $Q$, $K$, and $V$ are the Queries, Keys, and Values matrices.\n",
    "* $d_k$ is the dimension of the Keys (in practice dimensions of all matrices are the same).\n",
    "*   $QK^{\\top}$ is a measure of the similarity between the Queries and the Keys\n",
    "* softmax transforms the similarity into weights.\n",
    "* Weights multiplied by the Values are the output of the attention, defining how much importance should be given to each token of the input.\n",
    "\n",
    "In the case of self-attention, both Queries and Keys come from the encoder, however, for cross attention between encoder and decoder, decoder states are used as the queries while encoder states are the Keys and Values.\n",
    "In our case, we need the cross attention between one language to another to find the correct alignment.\n"
   ]
  },
  {
   "cell_type": "code",
   "execution_count": null,
   "id": "gOP3Fa8IfkMK",
   "metadata": {
    "id": "gOP3Fa8IfkMK"
   },
   "outputs": [],
   "source": [
    "%pip install matplotlib"
   ]
  },
  {
   "cell_type": "code",
   "execution_count": null,
   "id": "tB6RD3wssHe9",
   "metadata": {
    "id": "tB6RD3wssHe9"
   },
   "outputs": [],
   "source": [
    "import pickle\n",
    "import matplotlib.pyplot as plt\n",
    "import numpy as np\n",
    "#load the dictionaries (dictionary of words to ids)\n",
    "with open(\"./word2int_en.pkl\", \"rb\") as f:\n",
    "    en_dict = pickle.load(f)\n",
    "\n",
    "with open(\"./word2int_fr.pkl\", \"rb\") as f:\n",
    "    fr_dict = pickle.load(f)\n",
    "\n",
    "# load word embeddings (dictionary of token ids to embeddings)\n",
    "en_embeddings = np.load(\"./embeddings_en.npz\")[\"embeddings\"]\n",
    "fr_embeddings = np.load(\"./embeddings_fr.npz\")[\"embeddings\"]\n"
   ]
  },
  {
   "cell_type": "markdown",
   "id": "7VYjN1xHsbYj",
   "metadata": {
    "id": "7VYjN1xHsbYj"
   },
   "source": [
    "### Subtask 1: Attention Weights\n",
    "Fill the blanks in `tokenize` to tokenize a sentence and convert it to ids and `embed` function to create an embedding of a sentence."
   ]
  },
  {
   "cell_type": "code",
   "execution_count": null,
   "id": "cwS_M10nwOBH",
   "metadata": {
    "id": "cwS_M10nwOBH"
   },
   "outputs": [],
   "source": [
    "def tokenize(sentence, token_mapping):\n",
    "   # we stick to simple blank space tokenization\n",
    "   tokenized = []\n",
    "   for word in sentence.lower().split(\" \"):\n",
    "      ### your code ###\n",
    "\n",
    "      ### your code ###\n",
    "   return tokenized\n",
    "\n",
    "def embed(tokens, embeddings):\n",
    "    \"\"\" get the embedding for the tokens in a sentence stacked in a simple matrix (sequence length, embedding size)\n",
    "        tokens: tokenized sentence\n",
    "        embeddings: dictionary of token to embeddings.\n",
    "    \"\"\"\n",
    "    embed_size = embeddings.shape[1]\n",
    "    #### your code ####\n",
    "\n",
    "    #### your code ####\n",
    "\n",
    "    return output"
   ]
  },
  {
   "cell_type": "code",
   "execution_count": null,
   "id": "dkAulXarueT_",
   "metadata": {
    "id": "dkAulXarueT_"
   },
   "outputs": [],
   "source": [
    "sentence_en = \"there were clouds in my coffeeeeee.\"\n",
    "tokenized_en = tokenize(sentence_en, en_dict)\n",
    "embedded_en = embed(tokenized_en, en_embeddings)\n",
    "print(\"Tokenized english:\",tokenized_en)\n",
    "print(\"embedding english:\",embedded_en.shape)\n",
    "\n",
    "sentence_fr = \"il y avait des nuages ​​dans mon ccafé.\"\n",
    "tokenized_fr = tokenize(sentence_fr, fr_dict)\n",
    "embedded_fr = embed(tokenized_fr, fr_embeddings)\n",
    "print(\"Tokenized french:\",tokenized_fr)\n",
    "print(\"embedding french:\",embedded_fr.shape)"
   ]
  },
  {
   "cell_type": "markdown",
   "id": "WJ58FCMpsHJP",
   "metadata": {
    "id": "WJ58FCMpsHJP"
   },
   "source": [
    "\n",
    "Implement the `softmax` function with `Numpy`.\n"
   ]
  },
  {
   "cell_type": "code",
   "execution_count": null,
   "id": "caOjXfbxon9h",
   "metadata": {
    "id": "caOjXfbxon9h"
   },
   "outputs": [],
   "source": [
    "def softmax(x, axis=0):\n",
    "    \"\"\"\n",
    "    x: input matrix\n",
    "    axis: defines which axis to compute the softmax over 0 for rows and 1 for columns\n",
    "        axis=0 calculates softmax across rows which means each column sums to 1\n",
    "        axis=1 calculates softmax across columns which means each row sums to 1\n",
    "    \"\"\"\n",
    "\n",
    "    #### your code ####\n",
    "    softmax_x=\n",
    "    #### your code ####\n",
    "\n",
    "    return softmax_x"
   ]
  },
  {
   "cell_type": "code",
   "execution_count": null,
   "id": "kCbjmG49p-v0",
   "metadata": {
    "id": "kCbjmG49p-v0"
   },
   "outputs": [],
   "source": [
    "w=softmax(np.array([[1,3,4,1], [24,3,2,3]]),axis=0)\n",
    "w.sum(axis=0)[0]"
   ]
  },
  {
   "cell_type": "markdown",
   "id": "oNqtNPB9orLr",
   "metadata": {
    "id": "oNqtNPB9orLr"
   },
   "source": [
    "Use the `softmax` function to calculate the weights.\n",
    "$$ \\mathrm{softmax}\\left(\\frac{QK^{\\top}}{\\sqrt{d_k}}\\right)$$\n",
    "Assume the queries and keys are 2D matrices."
   ]
  },
  {
   "cell_type": "code",
   "execution_count": null,
   "id": "ysRdVCnP7Qir",
   "metadata": {
    "id": "ysRdVCnP7Qir"
   },
   "outputs": [],
   "source": [
    "def calc_weights(queries, keys):\n",
    "    \"\"\"\n",
    "    queries: queries matrix\n",
    "    keys: keys matrix\n",
    "    \"\"\"\n",
    "    #### your code ####\n",
    "\n",
    "    weights =\n",
    "    #### your code ####\n",
    "\n",
    "    return weights"
   ]
  },
  {
   "cell_type": "code",
   "execution_count": null,
   "id": "LVYGelEsqsoo",
   "metadata": {
    "id": "LVYGelEsqsoo"
   },
   "outputs": [],
   "source": [
    "weights=calc_weights(np.array([[1,3],[1,3]]),np.array([[0,3],[2,3]]))\n",
    "print(weights)\n",
    "weights.sum(axis=1)[0]"
   ]
  },
  {
   "cell_type": "markdown",
   "id": "16V5yFAew1Hx",
   "metadata": {
    "id": "16V5yFAew1Hx"
   },
   "source": [
    "Use the `calcu_weights` to compute the attention matrix between two sentences from English and French and visualize the weights to check for alignments."
   ]
  },
  {
   "cell_type": "code",
   "execution_count": null,
   "id": "miW865arw9Fv",
   "metadata": {
    "id": "miW865arw9Fv"
   },
   "outputs": [],
   "source": [
    "sentence_en = \"there were clouds in my coffee and unicorns in the sky.\"\n",
    "tokenized_en = tokenize(sentence_en, en_dict)\n",
    "embedded_en = embed(tokenized_en, en_embeddings)\n",
    "\n",
    "sentence_fr = \"il y avait des nuages ​​dans mon café et des licornes dans le ciel.\"\n",
    "tokenized_fr = tokenize(sentence_fr, fr_dict)\n",
    "embedded_fr = embed(tokenized_fr, fr_embeddings)\n",
    "\n",
    "alignment = calc_weights(embedded_fr, embedded_en)\n",
    "# visualize weights\n",
    "fig, ax = plt.subplots(figsize=(5,5))\n",
    "ax.imshow(alignment,cmap='gray')\n",
    "ax.xaxis.tick_top()\n",
    "ax.set_xticks(np.arange(alignment.shape[1]))\n",
    "ax.set_xticklabels(sentence_en.split(\" \"), rotation=90, size=12);\n",
    "ax.set_yticks(np.arange(alignment.shape[0]));\n",
    "ax.set_yticklabels(sentence_fr.split(\" \"), size=12);\n",
    "\n",
    "### your code to compute the top-2 ###\n",
    "\n",
    "### your code ###"
   ]
  },
  {
   "cell_type": "markdown",
   "id": "0BxnOJJ2xhIZ",
   "metadata": {
    "id": "0BxnOJJ2xhIZ"
   },
   "source": [
    "1. What are the top 2 alignments shown in the figure?\n",
    "2. On the rows you see flat lines for `ciel` and `dans` and `licornes`, why do you think that is?"
   ]
  },
  {
   "cell_type": "markdown",
   "id": "QUwdKXhZxqUP",
   "metadata": {
    "id": "QUwdKXhZxqUP"
   },
   "source": [
    "**Answer:**\n",
    "\n",
    "```\n",
    "Write your answer here.\n",
    "```"
   ]
  },
  {
   "cell_type": "markdown",
   "id": "C2TnQmsxy70i",
   "metadata": {
    "id": "C2TnQmsxy70i"
   },
   "source": [
    "####${\\color{red}{Comments\\ 3.1}}$\n",
    "\n",
    "${\\color{red}{⚠️Comments\\ begin⚠️}}$\n",
    "\n",
    "\n",
    "```\n",
    "cross-feedback comment section\n",
    "```\n",
    "\n",
    "\n",
    "${\\color{red}{⚠️Comments\\ end⚠️}}$"
   ]
  },
  {
   "cell_type": "markdown",
   "id": "eqXwL4MpzW--",
   "metadata": {
    "id": "eqXwL4MpzW--"
   },
   "source": [
    "### Subtask 2: Scaled Dot-product\n",
    "Implement the scaled dot-product attention using the functions from above.\n",
    "\n"
   ]
  },
  {
   "cell_type": "code",
   "execution_count": null,
   "id": "8iQTr4KCzqZk",
   "metadata": {
    "id": "8iQTr4KCzqZk"
   },
   "outputs": [],
   "source": [
    "def attention(queries, keys, values):\n",
    "    \"\"\"  scaled dot-product attention\n",
    "    queries: query matrix\n",
    "    keys: key matrix\n",
    "    value: value matrix\n",
    "    \"\"\"\n",
    "\n",
    "    #### your code ####\n",
    "\n",
    "    attention =\n",
    "    #### your code ####\n",
    "    return attention\n",
    "\n",
    "\n",
    "attention_result = attention(embedded_fr, embedded_en, embedded_en)\n",
    "print(attention_result.shape)\n",
    "print(attention_result[0:2,:10])"
   ]
  },
  {
   "cell_type": "markdown",
   "id": "vlwGjAWMy_OX",
   "metadata": {
    "id": "vlwGjAWMy_OX"
   },
   "source": [
    "####${\\color{red}{Comments\\ 3.2}}$\n",
    "\n",
    "${\\color{red}{⚠️Comments\\ begin⚠️}}$\n",
    "\n",
    "\n",
    "```\n",
    "cross-feedback comment section\n",
    "```\n",
    "\n",
    "\n",
    "${\\color{red}{⚠️Comments\\ end⚠️}}$"
   ]
  },
  {
   "cell_type": "code",
   "execution_count": null,
   "id": "qDx8DrnVzAR1",
   "metadata": {
    "id": "qDx8DrnVzAR1"
   },
   "outputs": [],
   "source": []
  }
 ],
 "metadata": {
  "accelerator": "GPU",
  "colab": {
   "gpuType": "T4",
   "provenance": [],
   "toc_visible": true
  },
  "kernelspec": {
   "display_name": "Python 3 (ipykernel)",
   "language": "python",
   "name": "python3"
  },
  "language_info": {
   "codemirror_mode": {
    "name": "ipython",
    "version": 3
   },
   "file_extension": ".py",
   "mimetype": "text/x-python",
   "name": "python",
   "nbconvert_exporter": "python",
   "pygments_lexer": "ipython3",
   "version": "3.10.11"
  }
 },
 "nbformat": 4,
 "nbformat_minor": 5
}
