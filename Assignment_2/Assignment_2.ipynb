{
 "cells": [
  {
   "cell_type": "markdown",
   "id": "be9f7653",
   "metadata": {
    "id": "be9f7653"
   },
   "source": [
    "**Heidelberg University**\n",
    "\n",
    "**Data Science  Group**\n",
    "    \n",
    "Prof. Dr. Michael Gertz  \n",
    "\n",
    "Ashish Chouhan, Satya Almasian, John Ziegler, Jayson Salazar, Nicolas Reuter\n",
    "    \n",
    "November 13, 2023\n",
    "    \n",
    "Natural Language Processing with Transformers\n",
    "\n",
    "Winter Semster 2023/2024     \n",
    "***"
   ]
  },
  {
   "cell_type": "markdown",
   "id": "258e9648",
   "metadata": {
    "id": "258e9648"
   },
   "source": [
    "# **Assignment 2: “Sequence Models”**\n",
    "**Due**: Monday, November 27, 2pm, via [Moodle](https://moodle.uni-heidelberg.de/course/view.php?id=19251)\n",
    "\n"
   ]
  },
  {
   "cell_type": "markdown",
   "id": "fc27ad9e",
   "metadata": {
    "id": "fc27ad9e"
   },
   "source": [
    "### **Submission Guidelines**\n",
    "\n",
    "- Solutions need to be uploaded as a **single** Jupyter notebook. You will find several pre-filled code segments in the notebook, your task is to fill in the missing cells.\n",
    "- For the written solution, use LaTeX in markdown inside the same notebook. Do **not** hand in a separate file for it.\n",
    "- Download the .zip file containing the dataset but do **not** upload it with your solution.\n",
    "- It is sufficient if one person per group uploads the solution to Moodle, but make sure that the complete names of all team members are given in the notebook.\n",
    "\n",
    "***"
   ]
  },
  {
   "cell_type": "markdown",
   "id": "e322e8b0",
   "metadata": {
    "id": "e322e8b0"
   },
   "source": [
    "## **Task 1: Part-of-Speech Tagging with a Bidirectional LSTM**  (2+4+5=11 points)"
   ]
  },
  {
   "cell_type": "markdown",
   "id": "b4ca26ac",
   "metadata": {
    "id": "b4ca26ac"
   },
   "source": [
    "In this task we will be building a sequence tagger that produces an output for every element in an input sequence, using `PyTorch` and `TorchText`, where `TorchText` consists of data processing utilities and popular datasets for natural language.\n",
    "\n",
    "\n",
    "*   **input:** a sequence of text\n",
    "*   **output:** part-of-speech (POS) tag for each token in the input text\n",
    "\n",
    "We tackle this task using a multi-layer bi-directional LSTM (BiLSTM) to predict POS tags using the [Universal Dependencies](https://universaldependencies.org/) English Web Treebank (UDPOS) dataset. This dataset is contained in the `TorchText` library and we do not require an external file for it. The dataset in  `TorchText`  has two different sets of tags, universal dependency (UD) tags and Penn Treebank (PTB) tags. We only focus on the UD tags for this assignment."
   ]
  },
  {
   "cell_type": "code",
   "execution_count": 1,
   "id": "nnBfLC1P5QXw",
   "metadata": {
    "colab": {
     "base_uri": "https://localhost:8080/"
    },
    "id": "nnBfLC1P5QXw",
    "outputId": "51f374c6-f4f9-4288-9784-b4648bbb8f75"
   },
   "outputs": [
    {
     "name": "stdout",
     "output_type": "stream",
     "text": [
      "Requirement already satisfied: portalocker in /Users/simon/opt/anaconda3/envs/INLPT/lib/python3.9/site-packages (2.8.2)\n",
      "Note: you may need to restart the kernel to use updated packages.\n"
     ]
    }
   ],
   "source": [
    "%pip install portalocker"
   ]
  },
  {
   "cell_type": "code",
   "execution_count": 2,
   "id": "nT5geerO7d1P",
   "metadata": {
    "colab": {
     "base_uri": "https://localhost:8080/"
    },
    "id": "nT5geerO7d1P",
    "outputId": "6e725e6d-d48b-4447-da26-5838d4da691b"
   },
   "outputs": [
    {
     "name": "stdout",
     "output_type": "stream",
     "text": [
      "Collecting torchdata\n",
      "  Using cached torchdata-0.7.1-cp39-cp39-macosx_10_13_x86_64.whl.metadata (13 kB)\n",
      "Requirement already satisfied: urllib3>=1.25 in /Users/simon/opt/anaconda3/envs/INLPT/lib/python3.9/site-packages (from torchdata) (1.26.18)\n",
      "Requirement already satisfied: requests in /Users/simon/opt/anaconda3/envs/INLPT/lib/python3.9/site-packages (from torchdata) (2.31.0)\n",
      "Collecting torch>=2 (from torchdata)\n",
      "  Using cached torch-2.1.1-cp39-none-macosx_10_9_x86_64.whl.metadata (25 kB)\n",
      "Collecting filelock (from torch>=2->torchdata)\n",
      "  Using cached filelock-3.13.1-py3-none-any.whl.metadata (2.8 kB)\n",
      "Requirement already satisfied: typing-extensions in /Users/simon/opt/anaconda3/envs/INLPT/lib/python3.9/site-packages (from torch>=2->torchdata) (4.7.1)\n",
      "Collecting sympy (from torch>=2->torchdata)\n",
      "  Using cached sympy-1.12-py3-none-any.whl (5.7 MB)\n",
      "Collecting networkx (from torch>=2->torchdata)\n",
      "  Using cached networkx-3.2.1-py3-none-any.whl.metadata (5.2 kB)\n",
      "Requirement already satisfied: jinja2 in /Users/simon/opt/anaconda3/envs/INLPT/lib/python3.9/site-packages (from torch>=2->torchdata) (3.1.2)\n",
      "Requirement already satisfied: fsspec in /Users/simon/opt/anaconda3/envs/INLPT/lib/python3.9/site-packages (from torch>=2->torchdata) (2023.10.0)\n",
      "Requirement already satisfied: charset-normalizer<4,>=2 in /Users/simon/opt/anaconda3/envs/INLPT/lib/python3.9/site-packages (from requests->torchdata) (2.0.4)\n",
      "Requirement already satisfied: idna<4,>=2.5 in /Users/simon/opt/anaconda3/envs/INLPT/lib/python3.9/site-packages (from requests->torchdata) (3.4)\n",
      "Requirement already satisfied: certifi>=2017.4.17 in /Users/simon/opt/anaconda3/envs/INLPT/lib/python3.9/site-packages (from requests->torchdata) (2023.11.17)\n",
      "Requirement already satisfied: MarkupSafe>=2.0 in /Users/simon/opt/anaconda3/envs/INLPT/lib/python3.9/site-packages (from jinja2->torch>=2->torchdata) (2.1.1)\n",
      "Collecting mpmath>=0.19 (from sympy->torch>=2->torchdata)\n",
      "  Using cached mpmath-1.3.0-py3-none-any.whl (536 kB)\n",
      "Using cached torchdata-0.7.1-cp39-cp39-macosx_10_13_x86_64.whl (1.8 MB)\n",
      "Using cached torch-2.1.1-cp39-none-macosx_10_9_x86_64.whl (147.0 MB)\n",
      "Using cached filelock-3.13.1-py3-none-any.whl (11 kB)\n",
      "Using cached networkx-3.2.1-py3-none-any.whl (1.6 MB)\n",
      "Installing collected packages: mpmath, sympy, networkx, filelock, torch, torchdata\n",
      "Successfully installed filelock-3.13.1 mpmath-1.3.0 networkx-3.2.1 sympy-1.12 torch-2.1.1 torchdata-0.7.1\n",
      "Note: you may need to restart the kernel to use updated packages.\n"
     ]
    }
   ],
   "source": [
    "%pip install torchdata"
   ]
  },
  {
   "cell_type": "code",
   "execution_count": 3,
   "id": "_pIBtTh3sOQe",
   "metadata": {
    "colab": {
     "base_uri": "https://localhost:8080/"
    },
    "id": "_pIBtTh3sOQe",
    "outputId": "1658f6bd-69dd-499a-b835-1d24f741de5e"
   },
   "outputs": [
    {
     "name": "stdout",
     "output_type": "stream",
     "text": [
      "Collecting torchtext\n",
      "  Using cached torchtext-0.16.1-cp39-cp39-macosx_10_13_x86_64.whl.metadata (7.5 kB)\n",
      "Requirement already satisfied: tqdm in /Users/simon/opt/anaconda3/envs/INLPT/lib/python3.9/site-packages (from torchtext) (4.65.0)\n",
      "Requirement already satisfied: requests in /Users/simon/opt/anaconda3/envs/INLPT/lib/python3.9/site-packages (from torchtext) (2.31.0)\n",
      "Requirement already satisfied: torch==2.1.1 in /Users/simon/opt/anaconda3/envs/INLPT/lib/python3.9/site-packages (from torchtext) (2.1.1)\n",
      "Requirement already satisfied: numpy in /Users/simon/opt/anaconda3/envs/INLPT/lib/python3.9/site-packages (from torchtext) (1.26.0)\n",
      "Requirement already satisfied: torchdata==0.7.1 in /Users/simon/opt/anaconda3/envs/INLPT/lib/python3.9/site-packages (from torchtext) (0.7.1)\n",
      "Requirement already satisfied: filelock in /Users/simon/opt/anaconda3/envs/INLPT/lib/python3.9/site-packages (from torch==2.1.1->torchtext) (3.13.1)\n",
      "Requirement already satisfied: typing-extensions in /Users/simon/opt/anaconda3/envs/INLPT/lib/python3.9/site-packages (from torch==2.1.1->torchtext) (4.7.1)\n",
      "Requirement already satisfied: sympy in /Users/simon/opt/anaconda3/envs/INLPT/lib/python3.9/site-packages (from torch==2.1.1->torchtext) (1.12)\n",
      "Requirement already satisfied: networkx in /Users/simon/opt/anaconda3/envs/INLPT/lib/python3.9/site-packages (from torch==2.1.1->torchtext) (3.2.1)\n",
      "Requirement already satisfied: jinja2 in /Users/simon/opt/anaconda3/envs/INLPT/lib/python3.9/site-packages (from torch==2.1.1->torchtext) (3.1.2)\n",
      "Requirement already satisfied: fsspec in /Users/simon/opt/anaconda3/envs/INLPT/lib/python3.9/site-packages (from torch==2.1.1->torchtext) (2023.10.0)\n",
      "Requirement already satisfied: urllib3>=1.25 in /Users/simon/opt/anaconda3/envs/INLPT/lib/python3.9/site-packages (from torchdata==0.7.1->torchtext) (1.26.18)\n",
      "Requirement already satisfied: charset-normalizer<4,>=2 in /Users/simon/opt/anaconda3/envs/INLPT/lib/python3.9/site-packages (from requests->torchtext) (2.0.4)\n",
      "Requirement already satisfied: idna<4,>=2.5 in /Users/simon/opt/anaconda3/envs/INLPT/lib/python3.9/site-packages (from requests->torchtext) (3.4)\n",
      "Requirement already satisfied: certifi>=2017.4.17 in /Users/simon/opt/anaconda3/envs/INLPT/lib/python3.9/site-packages (from requests->torchtext) (2023.11.17)\n",
      "Requirement already satisfied: MarkupSafe>=2.0 in /Users/simon/opt/anaconda3/envs/INLPT/lib/python3.9/site-packages (from jinja2->torch==2.1.1->torchtext) (2.1.1)\n",
      "Requirement already satisfied: mpmath>=0.19 in /Users/simon/opt/anaconda3/envs/INLPT/lib/python3.9/site-packages (from sympy->torch==2.1.1->torchtext) (1.3.0)\n",
      "Using cached torchtext-0.16.1-cp39-cp39-macosx_10_13_x86_64.whl (2.3 MB)\n",
      "Installing collected packages: torchtext\n",
      "Successfully installed torchtext-0.16.1\n",
      "Note: you may need to restart the kernel to use updated packages.\n"
     ]
    }
   ],
   "source": [
    "%pip install torchtext"
   ]
  },
  {
   "cell_type": "code",
   "execution_count": 4,
   "id": "787e2059",
   "metadata": {
    "id": "787e2059"
   },
   "outputs": [],
   "source": [
    "import torch\n",
    "import torch.nn as nn\n",
    "import torch.optim as optim\n",
    "\n",
    "from torchtext.datasets import UDPOS\n",
    "\n",
    "import numpy as np\n",
    "\n",
    "import time\n",
    "import random\n",
    "from torchtext.vocab import build_vocab_from_iterator\n",
    "from torch.utils.data import DataLoader\n",
    "device = torch.device('cuda' if torch.cuda.is_available() else 'cpu')\n",
    "\n",
    "\n",
    "# for reproducibility\n",
    "random.seed(77)\n",
    "np.random.seed(77)\n",
    "torch.manual_seed(77)\n",
    "torch.backends.cudnn.deterministic = True"
   ]
  },
  {
   "cell_type": "markdown",
   "id": "fc29cb37",
   "metadata": {
    "id": "fc29cb37"
   },
   "source": [
    "### Subtask 1: Data Analysis\n",
    "The very basic components of the torchtext library include `vocab`, `word vectors`, and `tokenizer`. Those are the basic data processing building blocks for the raw text string.\n",
    "In this case, we use the tokenizer and the vocabulary. Use the `build_vocab_from_iterator` to create the vocabulary for the text field and add the `<unk>` and `<pad>` tokens to it. Use a minimal frequency of `2`.\n",
    "Also create a vocabulary for the labels (tag field). However, since the tags are predefined elements, you will not need an `<unk>` token.\n",
    " This dataset actually has two different sets of tags, universal dependency (UD) tags and Penn Treebank (PTB) tags. We train our model on the UD tags, which is the second element on the list of outputs (example below).\n"
   ]
  },
  {
   "cell_type": "code",
   "execution_count": 5,
   "id": "IlEFywat4Gva",
   "metadata": {
    "colab": {
     "base_uri": "https://localhost:8080/"
    },
    "id": "IlEFywat4Gva",
    "outputId": "cc91ea23-9325-4e56-ee6d-f28a7afc91f6"
   },
   "outputs": [
    {
     "name": "stdout",
     "output_type": "stream",
     "text": [
      "[['Al', '-', 'Zaman', ':', 'American', 'forces', 'killed', 'Shaikh', 'Abdullah', 'al', '-', 'Ani', ',', 'the', 'preacher', 'at', 'the', 'mosque', 'in', 'the', 'town', 'of', 'Qaim', ',', 'near', 'the', 'Syrian', 'border', '.'], ['PROPN', 'PUNCT', 'PROPN', 'PUNCT', 'ADJ', 'NOUN', 'VERB', 'PROPN', 'PROPN', 'PROPN', 'PUNCT', 'PROPN', 'PUNCT', 'DET', 'NOUN', 'ADP', 'DET', 'NOUN', 'ADP', 'DET', 'NOUN', 'ADP', 'PROPN', 'PUNCT', 'ADP', 'DET', 'ADJ', 'NOUN', 'PUNCT'], ['NNP', 'HYPH', 'NNP', ':', 'JJ', 'NNS', 'VBD', 'NNP', 'NNP', 'NNP', 'HYPH', 'NNP', ',', 'DT', 'NN', 'IN', 'DT', 'NN', 'IN', 'DT', 'NN', 'IN', 'NNP', ',', 'IN', 'DT', 'JJ', 'NN', '.']]\n"
     ]
    }
   ],
   "source": [
    "train_iter = iter(UDPOS(split=\"train\"))\n",
    "print(next(train_iter))"
   ]
  },
  {
   "cell_type": "code",
   "execution_count": 6,
   "id": "7HJWFvb3AgTI",
   "metadata": {
    "colab": {
     "base_uri": "https://localhost:8080/"
    },
    "id": "7HJWFvb3AgTI",
    "outputId": "daab45d7-59cf-483b-a0b4-663d2baef128"
   },
   "outputs": [
    {
     "name": "stdout",
     "output_type": "stream",
     "text": [
      "Number of training examples: 12543\n",
      "Number of validation examples: 2002\n",
      "Number of testing examples: 2077\n"
     ]
    }
   ],
   "source": [
    "print(f\"Number of training examples: {len(list(UDPOS(split='train')))}\")\n",
    "print(f\"Number of validation examples: {len(list(UDPOS(split='valid')))}\")\n",
    "print(f\"Number of testing examples: {len(list(UDPOS(split='test')))}\")"
   ]
  },
  {
   "cell_type": "markdown",
   "id": "RaAW09-n_5DC",
   "metadata": {
    "id": "RaAW09-n_5DC"
   },
   "source": [
    "Note that the data is already tokenized!"
   ]
  },
  {
   "cell_type": "code",
   "execution_count": 9,
   "id": "rcG-FcDu5DcA",
   "metadata": {
    "id": "rcG-FcDu5DcA"
   },
   "outputs": [],
   "source": [
    "train_iter = UDPOS(split=\"train\") # to get the training set\n",
    "\n",
    "### your code (make sure pad has id of 0) ####\n",
    "def yield_tokens(train_iter, position):\n",
    "  for n in train_iter:\n",
    "    yield n[position]\n",
    "\n",
    "vocab = build_vocab_from_iterator(iterator=yield_tokens(train_iter, 0) , min_freq=2, specials=[\"<pad>\", \"<unk>\"], special_first=True)\n",
    "ud_vocab=build_vocab_from_iterator(iterator=yield_tokens(train_iter, 1) , min_freq=2, specials=[\"<pad>\"], special_first=True)"
   ]
  },
  {
   "cell_type": "markdown",
   "id": "nzalgc92j2mG",
   "metadata": {
    "id": "nzalgc92j2mG"
   },
   "source": [
    "Prepare a text processing pipeline that takes raw input and labels and converts them to ids."
   ]
  },
  {
   "cell_type": "code",
   "execution_count": 12,
   "id": "BDqKYQnRj2D8",
   "metadata": {
    "id": "BDqKYQnRj2D8"
   },
   "outputs": [],
   "source": [
    "text_pipeline = lambda x: vocab([token if token in vocab else \"<unk>\" for token in x ])\n",
    "label_pipeline = lambda x: ud_vocab([token if token in ud_vocab else \"<unk>\" for token in x ])"
   ]
  },
  {
   "cell_type": "code",
   "execution_count": 13,
   "id": "wg36B2Z_Hdi0",
   "metadata": {
    "colab": {
     "base_uri": "https://localhost:8080/"
    },
    "id": "wg36B2Z_Hdi0",
    "outputId": "31ad0cf0-4323-483a-f468-ad8a32edb9a5"
   },
   "outputs": [
    {
     "name": "stdout",
     "output_type": "stream",
     "text": [
      "[3, 9271, 35, 9097, 0, 1]\n",
      "[6, 8, 1, 2]\n"
     ]
    }
   ],
   "source": [
    "print(text_pipeline(['the', 'preacher', 'at', 'mosque', \"<pad>\", \"pppp\"])) #should output [3, 9271, 35, 9097, 0, 1]\n",
    "print(label_pipeline(['DET', 'ADJ', 'NOUN', 'PUNCT'])) # should output [6, 8, 1, 2]"
   ]
  },
  {
   "cell_type": "code",
   "execution_count": 14,
   "id": "cjn1qH2dHoaa",
   "metadata": {
    "colab": {
     "base_uri": "https://localhost:8080/"
    },
    "id": "cjn1qH2dHoaa",
    "outputId": "cdee4193-fd22-424b-fe56-db8480ab95c5"
   },
   "outputs": [
    {
     "name": "stdout",
     "output_type": "stream",
     "text": [
      "Unique tokens in input vocabulary: 9875\n",
      "Unique tokens in UD vocabulary: 18\n"
     ]
    }
   ],
   "source": [
    "print(f\"Unique tokens in input vocabulary: {len(vocab)}\")\n",
    "print(f\"Unique tokens in UD vocabulary: {len(ud_vocab)}\")"
   ]
  },
  {
   "cell_type": "markdown",
   "id": "FUnDiAOW-N5S",
   "metadata": {
    "id": "FUnDiAOW-N5S"
   },
   "source": [
    "Write a custom function for the dataloader that applies the text and label pipeline and pads the sequences to have equal lengths.\n",
    "\n"
   ]
  },
  {
   "cell_type": "code",
   "execution_count": 15,
   "id": "0aN6s1UhoRhK",
   "metadata": {
    "id": "0aN6s1UhoRhK"
   },
   "outputs": [],
   "source": [
    "from functools import partial\n",
    "from torch.nn.utils.rnn import pad_sequence\n",
    "\n",
    "def collate_batch(batch, pad_token_ix, pad_token_ix_ud):\n",
    "    ### your code ###\n",
    "    text_list = []\n",
    "    label_list = []\n",
    "    text, label, _ = zip(*batch)\n",
    "    max_len_text = len(max(text, key=len))\n",
    "    max_len_label = len(max(label, key=len))\n",
    "    for t, l in zip(text, label):\n",
    "        processed_text = text_pipeline(t)\n",
    "        processed_label = label_pipeline(l)\n",
    "        text_list.append(torch.tensor(processed_text, dtype=torch.int64))\n",
    "        label_list.append(torch.tensor(processed_label, dtype=torch.int64))\n",
    "    #padded input\n",
    "    x_padded = pad_sequence(text_list, batch_first=True, padding_value=pad_token_ix)\n",
    "    #padded predictions\n",
    "    y_padded = pad_sequence(label_list, batch_first=True, padding_value=pad_token_ix_ud)\n",
    "    ### your code ###\n",
    "    return x_padded.to(device), y_padded.to(device)\n",
    "\n",
    "collate_fn = partial(collate_batch, pad_token_ix=vocab['<pad>'], pad_token_ix_ud=ud_vocab['<pad>'])\n",
    "\n",
    "\n",
    "train_dataloader = DataLoader(\n",
    "    UDPOS(split=\"train\"), batch_size=128, shuffle=True, collate_fn=collate_fn\n",
    ")\n",
    "valid_dataloader = DataLoader(\n",
    "    UDPOS(split=\"valid\"), batch_size=128, shuffle=True, collate_fn=collate_fn\n",
    ")\n",
    "test_dataloader = DataLoader(\n",
    "    UDPOS(split=\"test\"), batch_size=128, shuffle=True, collate_fn=collate_fn\n",
    ")"
   ]
  },
  {
   "cell_type": "code",
   "execution_count": 60,
   "id": "2X8ZZ0J4oek_",
   "metadata": {
    "colab": {
     "base_uri": "https://localhost:8080/"
    },
    "id": "2X8ZZ0J4oek_",
    "outputId": "83fd15dd-8a2f-4f48-81a7-6c543fd2a468"
   },
   "outputs": [
    {
     "name": "stdout",
     "output_type": "stream",
     "text": [
      "torch.Size([128, 65])\n",
      "torch.Size([128, 65])\n",
      "tensor([ 107,  152,   17,    7,  141,   64,    4,   57,   95, 5146,   59,    2,\n",
      "           0,    0,    0,    0,    0,    0,    0,    0,    0,    0,    0,    0,\n",
      "           0,    0,    0,    0,    0,    0,    0,    0,    0,    0,    0,    0,\n",
      "           0,    0,    0,    0,    0,    0,    0,    0,    0,    0,    0,    0,\n",
      "           0,    0,    0,    0,    0,    0,    0,    0,    0,    0,    0,    0,\n",
      "           0,    0,    0,    0,    0])\n",
      "tensor([ 4,  9,  3,  6,  8,  1,  2, 10,  6,  1, 10,  2,  0,  0,  0,  0,  0,  0,\n",
      "         0,  0,  0,  0,  0,  0,  0,  0,  0,  0,  0,  0,  0,  0,  0,  0,  0,  0,\n",
      "         0,  0,  0,  0,  0,  0,  0,  0,  0,  0,  0,  0,  0,  0,  0,  0,  0,  0,\n",
      "         0,  0,  0,  0,  0,  0,  0,  0,  0,  0,  0])\n"
     ]
    }
   ],
   "source": [
    "for idx, (label, text) in enumerate(train_dataloader):\n",
    "      print(label.shape)\n",
    "      print(text.shape)\n",
    "      print(label[0])\n",
    "      print(text[0])\n",
    "      break\n"
   ]
  },
  {
   "cell_type": "markdown",
   "id": "jDy_wvjR_1Sg",
   "metadata": {
    "id": "jDy_wvjR_1Sg"
   },
   "source": [
    "Let's take a closer look at the data and the distribution of tags.\n",
    "Implement `tag_percentage`:\n",
    "\n",
    "*   Use the `collection.counter` to count the unique instances of each tag.\n",
    "\n",
    "*    Compute the percentage of each tag in the entire set, by using the counted frequencies.\n",
    "\n"
   ]
  },
  {
   "cell_type": "code",
   "execution_count": 17,
   "id": "273JqNZn_rRT",
   "metadata": {
    "id": "273JqNZn_rRT"
   },
   "outputs": [],
   "source": [
    "from collections import Counter\n",
    "\n",
    "def tag_percentage(training_iterator):\n",
    "    counter = Counter()\n",
    "    #### your code to count the number of tags\n",
    "    _, tags, _ = zip(*training_iterator)\n",
    "    counter = Counter(t for tag_list in tags for t in tag_list)\n",
    "    ###\n",
    "    ### compute the tag percentages based on the counter object\n",
    "    counted_sum = sum(counter.values())\n",
    "    tag_p = [(tag, counter[tag], counter[tag] / counted_sum) for tag in counter]\n",
    "    ###\n",
    "    return tag_p"
   ]
  },
  {
   "cell_type": "code",
   "execution_count": 18,
   "id": "fWzoEd7h_qRw",
   "metadata": {
    "colab": {
     "base_uri": "https://localhost:8080/"
    },
    "id": "fWzoEd7h_qRw",
    "outputId": "3d112c31-4283-4459-e11b-bb2274eba39a"
   },
   "outputs": [
    {
     "name": "stdout",
     "output_type": "stream",
     "text": [
      "Tag\t\tCount\t\tPercentage\n",
      "\n",
      "PROPN\t\t12946\t\t 6.3%\n",
      "PUNCT\t\t23679\t\t11.6%\n",
      "ADJ\t\t12477\t\t 6.1%\n",
      "NOUN\t\t34781\t\t17.0%\n",
      "VERB\t\t23081\t\t11.3%\n",
      "DET\t\t16285\t\t 8.0%\n",
      "ADP\t\t17638\t\t 8.6%\n",
      "AUX\t\t12343\t\t 6.0%\n",
      "PRON\t\t18577\t\t 9.1%\n",
      "PART\t\t5567\t\t 2.7%\n",
      "SCONJ\t\t3843\t\t 1.9%\n",
      "NUM\t\t3999\t\t 2.0%\n",
      "ADV\t\t10548\t\t 5.2%\n",
      "CCONJ\t\t6707\t\t 3.3%\n",
      "X\t\t847\t\t 0.4%\n",
      "INTJ\t\t688\t\t 0.3%\n",
      "SYM\t\t599\t\t 0.3%\n"
     ]
    }
   ],
   "source": [
    "print(\"Tag\\t\\tCount\\t\\tPercentage\\n\")\n",
    "\n",
    "for tag, count, percent in tag_percentage(UDPOS(split='train')):\n",
    "    print(f\"{tag}\\t\\t{count}\\t\\t{percent*100:4.1f}%\")"
   ]
  },
  {
   "cell_type": "markdown",
   "id": "GKTQL0EsxSUU",
   "metadata": {
    "id": "GKTQL0EsxSUU"
   },
   "source": [
    "####${\\color{red}{Comments\\ 1.1}}$\n",
    "\n",
    "${\\color{red}{⚠️Comments\\ begin⚠️}}$\n",
    "\n",
    "\n",
    "```\n",
    "cross-feedback comment section\n",
    "```\n",
    "\n",
    "\n",
    "${\\color{red}{⚠️Comments\\ end⚠️}}$"
   ]
  },
  {
   "cell_type": "markdown",
   "id": "gYHy3vSELfaN",
   "metadata": {
    "id": "gYHy3vSELfaN"
   },
   "source": [
    "### Subtask 2: The Model\n",
    "\n",
    "We start by creating a simple model and then make it more complex in later subtasks. The class `BiLSTMTagger` must subclass the `nn.Module` class of `PyTorch`. Fill the blank in the class by following the notes described below.\n",
    "1.   The input is a sequence of tokens, $X = \\{x_1, x_2,...,x_T\\}$.\n",
    "2.   Each token passes through  an embeddings layer, $e(X) = \\{e(x_1), e(x_2), ..., e(x_T)\\}$. Use `nn.Embedding` for the embedding layer and make sure to pass in the index of the pad token.\n",
    "3. Embedding is processed by forward and backward LSTMs from left to right and right to left.  The first input to the forward LSTM is $x_1$ and the first input to the backward LSTM is $x_T$. The hidden state of LSTMs is dependent on\n",
    "the hidden, $h$, and cell, $c$, states from the previous time-steps:\n",
    "$$h^{\\rightarrow}_t = \\text{LSTM}^{\\rightarrow}(e(x^{\\rightarrow}_t), h^{\\rightarrow}_{t-1}, c^{\\rightarrow}_{t-1})$$\n",
    "$$h^{\\leftarrow}_t=\\text{LSTM}^{\\leftarrow}(e(x^{\\leftarrow}_t), h^{\\leftarrow}_{t-1}, c^{\\leftarrow}_{t-1})$$\n",
    "4. The hidden, $h$, and cell, $c$ of each layer is passed to the next layer, where the $h_0$ and $c_0$, for each direction and layer, are initialized to a tensor full of zeros. Use `nn.LSTM` for LSTM cells. How can you make it bidirectional?\n",
    "5. Final hidden state is the concatenation of forward and backward hidden states from the final layer of the LSTM, $H = \\{h_1, h_2, ... h_T\\}$, where $h_1 = [h^{\\rightarrow}_1;h^{\\leftarrow}_T]$, $h_2 = [h^{\\rightarrow}_2;h^{\\leftarrow}_{T-1}]$. Use `nn.Linear` here.\n",
    "6. The last layer is linear layer $f$, which is used to make the prediction of which tag applies to this token, $\\hat{y}_t = f(h_t)$.\n",
    "7. Define a `nn.Dropout` layer to apply to the embeddings and the outputs of the final layer of the LSTM."
   ]
  },
  {
   "cell_type": "code",
   "execution_count": 74,
   "id": "qE4GQE6NJ1k8",
   "metadata": {
    "id": "qE4GQE6NJ1k8"
   },
   "outputs": [],
   "source": [
    "class BiLSTMTagger(nn.Module):\n",
    "    def __init__(self, hyperparameters):\n",
    "        '''\n",
    "        hyperparameters: is a dictionary containing:\n",
    "        input_dim: dimension of the input\n",
    "        embedding_dim: dimension of the embedding layer\n",
    "        lstm_hidden_dim:: dimension of the hidden state of lstms\n",
    "        output_dim: dimension of the output hidden layer\n",
    "        n_layers: number of layers to stack\n",
    "        bidirectional: is the lstm bi-directional\n",
    "        dropout: probability for the drop out layer\n",
    "        pad_idx: id of the pad token\n",
    "        '''\n",
    "        super().__init__()\n",
    "        #embedding layer\n",
    "        self.embedding = nn.Embedding(\n",
    "            hyperparameters['input_dim'], \n",
    "            hyperparameters['embedding_dim'], \n",
    "            padding_idx=hyperparameters['pad_idx']\n",
    "        )      \n",
    "        #bi-lstm, apply dropout if the number of layers is more than 1\n",
    "        self.lstm = nn.LSTM(\n",
    "            hyperparameters['embedding_dim'],\n",
    "            hyperparameters['lstm_hidden_dim'],\n",
    "            num_layers=hyperparameters['n_layers'],\n",
    "            bidirectional=hyperparameters['bidirectional'],\n",
    "            dropout=hyperparameters['dropout'] if hyperparameters['n_layers'] > 1 else 0\n",
    "        )      \n",
    "        \n",
    "        lstm_output_dim = hyperparameters['lstm_hidden_dim']\n",
    "        if hyperparameters['bidirectional']:\n",
    "            lstm_output_dim *= 2\n",
    "        \n",
    "        self.fc = nn.Linear(lstm_output_dim, hyperparameters['output_dim'])\n",
    "        self.dropout = nn.Dropout(hyperparameters['dropout'])\n",
    "    def forward(self, text, debug=False): #(B,S)\n",
    "        '''\n",
    "        S: sentence len\n",
    "        B: batch size\n",
    "        E: embedding size\n",
    "        H: hidden size\n",
    "        O:output size\n",
    "        L: number of layers\n",
    "        '''\n",
    "        #### your code ####\n",
    "        #pass text through embedding layer and a drop out layer\n",
    "        embd = self.dropout(self.embedding(text))\n",
    "        outputs, (hidden, cell) = self.lstm(embd)\n",
    "\n",
    "        #pass embeddings into bi-LSTM\n",
    "        # Concatenate the forward and backward hidden states if bidirectional\n",
    "        # if self.lstm.bidirectional:\n",
    "        #     hidden = torch.cat((hidden[-2,:,:], hidden[-1,:,:]), dim=1)\n",
    "        # else:\n",
    "        #     hidden = hidden[-1,:,:]\n",
    "\n",
    "        if self.lstm.bidirectional:\n",
    "            hidden = torch.cat((hidden[-2, :, :], hidden[-1, :, :]), dim=1)\n",
    "            hidden = hidden.unsqueeze(0).expand(embd.size(0), -1, -1)  # Expand along batch dimension\n",
    "        else:\n",
    "            hidden = hidden.unsqueeze(0)\n",
    "\n",
    "        #compute prediction\n",
    "        predictions = self.fc(self.dropout(hidden))\n",
    "        #### your code ####\n",
    "\n",
    "        if debug==True:\n",
    "            print(\"Input shape:\",text.shape)\n",
    "            print(\"Embedding shape:\",embd.shape)\n",
    "            print(\"LSTM output shape:\",outputs.shape)\n",
    "            print(\"LSTM hidden shape:\",hidden.shape)\n",
    "            print(\"LSTM cell shape:\",cell.shape)\n",
    "            print(\"Output shape:\",predictions.shape)\n",
    "\n",
    "        return predictions"
   ]
  },
  {
   "cell_type": "markdown",
   "id": "4OcQbD9LUkD5",
   "metadata": {
    "id": "4OcQbD9LUkD5"
   },
   "source": [
    "Response in plain text:\n",
    "1. Based on the notation defined in the forward function. What is the dimension of `outputs`, `hidden`, and `cell`?"
   ]
  },
  {
   "cell_type": "markdown",
   "id": "ml4KUd1BU3op",
   "metadata": {
    "id": "ml4KUd1BU3op"
   },
   "source": [
    "$\\textbf{outputs}: $ The output shape of the LSTM layer is defined by $[B, S, H]$\n",
    "\n",
    "\n",
    "$\\textbf{hidden}: $ The hidden LSTM shape is defined by $[S, L \\cdot H]$\n",
    "\n",
    "\n",
    "$\\textbf{cell}: $ The cell shape is defined by $[B \\cdot L, S, H]$\n"
   ]
  },
  {
   "cell_type": "code",
   "execution_count": 75,
   "id": "ivB8Iv4yScVW",
   "metadata": {
    "id": "ivB8Iv4yScVW"
   },
   "outputs": [],
   "source": [
    "hyper_parameters={\n",
    "  'input_dim':  len(vocab),\n",
    "  'embedding_dim': 100,\n",
    "  'lstm_hidden_dim': 128,\n",
    "  'output_dim':len(ud_vocab),\n",
    "  'n_layers': 2 ,\n",
    "  'bidirectional':True,\n",
    "  'dropout': 0.25,\n",
    "  'pad_idx': vocab['<pad>']\n",
    "}\n",
    "model = BiLSTMTagger(hyper_parameters)"
   ]
  },
  {
   "cell_type": "code",
   "execution_count": 76,
   "id": "1XvNFfJBV7ya",
   "metadata": {
    "id": "1XvNFfJBV7ya"
   },
   "outputs": [
    {
     "name": "stdout",
     "output_type": "stream",
     "text": [
      "Input shape: torch.Size([2, 6])\n",
      "Embedding shape: torch.Size([2, 6, 100])\n",
      "LSTM output shape: torch.Size([2, 6, 256])\n",
      "LSTM hidden shape: torch.Size([2, 6, 256])\n",
      "LSTM cell shape: torch.Size([4, 6, 128])\n",
      "Output shape: torch.Size([2, 6, 18])\n"
     ]
    },
    {
     "data": {
      "text/plain": [
       "torch.Size([2, 6, 18])"
      ]
     },
     "execution_count": 76,
     "metadata": {},
     "output_type": "execute_result"
    }
   ],
   "source": [
    "input=torch.tensor([[3, 9271, 35, 9097, 0, 1],\n",
    "                    [3, 9271, 35, 9097, 0, 1]])\n",
    "model(input,debug=True).shape"
   ]
  },
  {
   "cell_type": "markdown",
   "id": "2XiJkG-NfrDV",
   "metadata": {
    "id": "2XiJkG-NfrDV"
   },
   "source": [
    "Weights of the network are initialized randomly, so let's make a more systematic initialization to help us with the optimization. For example,  Xavier Initialization creates weights such that the variance of the activations is the same across every layer. This constant variance helps prevent the gradient from exploding or vanishing. However, it does not apply to bias terms.\n",
    "\n",
    "Create a function that uses Xavier Initialization to initialize the weights of the network, for biases use a normal distribution with a mean of 0 and a standard deviation of 0.1."
   ]
  },
  {
   "cell_type": "code",
   "execution_count": 77,
   "id": "PB78pCHpa758",
   "metadata": {
    "id": "PB78pCHpa758"
   },
   "outputs": [
    {
     "data": {
      "text/plain": [
       "BiLSTMTagger(\n",
       "  (embedding): Embedding(9875, 100, padding_idx=0)\n",
       "  (lstm): LSTM(100, 128, num_layers=2, dropout=0.25, bidirectional=True)\n",
       "  (fc): Linear(in_features=256, out_features=18, bias=True)\n",
       "  (dropout): Dropout(p=0.25, inplace=False)\n",
       ")"
      ]
     },
     "execution_count": 77,
     "metadata": {},
     "output_type": "execute_result"
    }
   ],
   "source": [
    "def init_weights(m):\n",
    "    # Initialize weights using Xavier Initialization\n",
    "    # Also for the embedding layer since it is not stated to handle them differently\n",
    "    if isinstance(m, nn.LSTM):\n",
    "        # Initialize weights for all layers of LSTM\n",
    "        for name, param in m.named_parameters():\n",
    "            if 'weight_ih' in name:\n",
    "                nn.init.xavier_uniform_(param)\n",
    "            elif 'weight_hh' in name:\n",
    "                nn.init.xavier_uniform_(param)\n",
    "            elif 'bias' in name:\n",
    "                nn.init.normal_(param, mean=0, std=0.1)        \n",
    "    elif isinstance(m, nn.Linear):\n",
    "        nn.init.xavier_uniform_(m.weight)\n",
    "        # embedding has no bias\n",
    "        if not isinstance(m, nn.Embedding):\n",
    "            nn.init.normal_(m.bias, mean=0, std=0.1)\n",
    "\n",
    "model.apply(init_weights)\n",
    "model.to(device)"
   ]
  },
  {
   "cell_type": "markdown",
   "id": "sdPx1mSOgy0V",
   "metadata": {
    "id": "sdPx1mSOgy0V"
   },
   "source": [
    "Let's count the number of trainable parameters in our model."
   ]
  },
  {
   "cell_type": "code",
   "execution_count": 78,
   "id": "P5738nU2ew_O",
   "metadata": {
    "id": "P5738nU2ew_O"
   },
   "outputs": [
    {
     "name": "stdout",
     "output_type": "stream",
     "text": [
      "number of trainable parameters: 1622910\n"
     ]
    }
   ],
   "source": [
    "def count_parameters(model):\n",
    "    return sum(p.numel() for p in model.parameters() if p.requires_grad)\n",
    "\n",
    "print(\"number of trainable parameters:\",count_parameters(model))"
   ]
  },
  {
   "cell_type": "markdown",
   "id": "91uNA-vnyoUW",
   "metadata": {
    "id": "91uNA-vnyoUW"
   },
   "source": [
    "####${\\color{red}{Comments\\ 1.2}}$\n",
    "\n",
    "${\\color{red}{⚠️Comments\\ begin⚠️}}$\n",
    "\n",
    "\n",
    "```\n",
    "cross-feedback comment section\n",
    "```\n",
    "\n",
    "\n",
    "${\\color{red}{⚠️Comments\\ end⚠️}}$"
   ]
  },
  {
   "cell_type": "markdown",
   "id": "-lVg08iTd0XN",
   "metadata": {
    "id": "-lVg08iTd0XN"
   },
   "source": [
    "### Subtask 3: Training\n",
    "\n",
    "We start by defining a loss function and an optimizer.\n",
    "\n",
    "\n",
    "*   **optimizer:** We use Adam with the learning rate=0.0001.\n",
    "*   **loss:** We use cross-entropy loss.\n",
    "\n",
    "Even though we have no `<unk>` tokens within our tag vocab, we still have `<pad>` tokens to create batches of the same size. However, we do not want to calculate loss on those tokens, so make sure you define your loss function in such a way that ignores the `<pad>` tokens.\n",
    "\n",
    "\n"
   ]
  },
  {
   "cell_type": "code",
   "execution_count": 79,
   "id": "8LEyNeKhmBvK",
   "metadata": {
    "id": "8LEyNeKhmBvK"
   },
   "outputs": [],
   "source": [
    "### your code ###\n",
    "optimizer = optim.Adam(model.parameters(), lr=0.0001)\n",
    "loss_function = nn.CrossEntropyLoss(ignore_index=ud_vocab['<pad>'])\n",
    "### your code ###"
   ]
  },
  {
   "cell_type": "markdown",
   "id": "95Cf7ZcVgLHK",
   "metadata": {
    "id": "95Cf7ZcVgLHK"
   },
   "source": [
    "Watching the loss go down as you train a model is a good indication of the correct training procedure, but does not tell us how well we are doing on a given task.\n",
    "To this end, we also implement a categorical accuracy measure to keep track of how well our model is doing on a given task.\n",
    "Same as before: we don't want to calculate accuracy over the `<pad>` tokens as we aren't interested in predicting them.\n",
    "Implement the function `categorical_acc` to compare the prediction of non-pad tokens with labels count the correct ones and calculate the accuracy over a single batch."
   ]
  },
  {
   "cell_type": "code",
   "execution_count": 102,
   "id": "J5OpDKuBitk1",
   "metadata": {
    "id": "J5OpDKuBitk1"
   },
   "outputs": [],
   "source": [
    "def categorical_acc(preds, gt, pad_idx):\n",
    "    \"\"\"\n",
    "    Returns categorical accuracy per batch\n",
    "    \"\"\"\n",
    "    ### your code ####\n",
    "    max_preds = preds.argmax(dim=-1, keepdim=True)  # get the index of the max probability\n",
    "\n",
    "    non_pad_mask = (gt != pad_idx)\n",
    "\n",
    "    correct = max_preds[non_pad_mask].squeeze(-1).eq(gt[non_pad_mask])\n",
    "    acc = correct.sum() / non_pad_mask.sum().item()\n",
    "\n",
    "    return acc\n",
    "    ### your code ####"
   ]
  },
  {
   "cell_type": "code",
   "execution_count": 103,
   "id": "WANOhA56kjY_",
   "metadata": {
    "id": "WANOhA56kjY_"
   },
   "outputs": [
    {
     "data": {
      "text/plain": [
       "tensor(0.6667)"
      ]
     },
     "execution_count": 103,
     "metadata": {},
     "output_type": "execute_result"
    }
   ],
   "source": [
    "dummpy_input=torch.tensor([\n",
    "    [0.9,0,0,0],\n",
    "    [0.1,0.9,0,0],\n",
    "    [0.1,0,0,0.9],\n",
    "    [0.9,0.1,0,0],\n",
    "    [0.1,0.8,0,0]\n",
    "\n",
    "])\n",
    "categorical_acc(dummpy_input, torch.tensor([0,2,3,0,1]), 0)"
   ]
  },
  {
   "cell_type": "markdown",
   "id": "y_wngIs7jFrT",
   "metadata": {
    "id": "y_wngIs7jFrT"
   },
   "source": [
    "Define the `train` model that performs one epoch of training. You can refer to the Tutorial 2 of the course to get a sample workflow. The only difference to the tutorial is that we keep track of the batch-wise accuracy as well as the loss."
   ]
  },
  {
   "cell_type": "code",
   "execution_count": 107,
   "id": "kyMs0FJNfGCp",
   "metadata": {
    "id": "kyMs0FJNfGCp"
   },
   "outputs": [],
   "source": [
    "def train(model, dataloader, optimizer, loss_function, pad_idx):\n",
    "\n",
    "    epoch_loss = 0\n",
    "    epoch_acc = 0\n",
    "\n",
    "    model.train()\n",
    "    epoch_start_time = time.time()\n",
    "\n",
    "    for length_dataloader, (text, tags) in enumerate(dataloader):\n",
    "        #### your code ####\n",
    "        optimizer.zero_grad()\n",
    "        # Generate predictions with forward pass\n",
    "        predictions = model(text)\n",
    "\n",
    "        # Computing the loss \n",
    "        #print(f\"predictions shape: {predictions.shape}\")\n",
    "        #print(f\"tags shape: {tags.shape}\")\n",
    "        loss = loss_function(predictions.view(-1, predictions.shape[-1]), tags.view(-1))\n",
    "\n",
    "        # Computing the accuracy\n",
    "        acc = categorical_acc(predictions, tags, pad_idx)\n",
    "\n",
    "        # Calc loss with backward pass\n",
    "        loss.backward()\n",
    "\n",
    "        # Update gradients\n",
    "        optimizer.step()\n",
    "\n",
    "        # Accumulate loss and accuracy\n",
    "        epoch_loss += loss.item()\n",
    "        epoch_acc += acc.item()\n",
    "        #### your code ####\n",
    "    \n",
    "    # Add 1 because index starts at 0\n",
    "    length_dataloader += 1\n",
    "\n",
    "    end_time= time.time() - epoch_start_time\n",
    "    return epoch_loss / length_dataloader, epoch_acc / length_dataloader,end_time"
   ]
  },
  {
   "cell_type": "markdown",
   "id": "W0ytUn7vkdcR",
   "metadata": {
    "id": "W0ytUn7vkdcR"
   },
   "source": [
    "It is not enough to only look at the training loss and accuracy, since with more training, we can always do better on the training set, but lose the generalizability to unseen data, a phenomenon known as **overfitting**. Therefore, it is important to check the loss and accuracy on the validation set after each epoch and stop before  overfitting occurs. Moreover, we can use the validation metric as an indication of which checkpoint of our model is the best.\n",
    "\n",
    "Define an `evaluate` function that runs once through the validation set and computes loss and accuracy. **Note:** You should not be updating gradients here and your model should be in evaluation mode."
   ]
  },
  {
   "cell_type": "code",
   "execution_count": 108,
   "id": "0CKzEqyAfktd",
   "metadata": {
    "id": "0CKzEqyAfktd"
   },
   "outputs": [],
   "source": [
    "def evaluate(model, dataloader, loss_function, pad_idx):\n",
    "\n",
    "    val_loss = 0\n",
    "    val_acc = 0\n",
    "\n",
    "    ### your code ###\n",
    "    model.eval()  # Set the model to evaluation mode\n",
    "    with torch.no_grad():  # Disable gradient computation during evaluation\n",
    "        for length_dataloader, (text, tags) in enumerate(dataloader):\n",
    "            # Forward pass\n",
    "            predictions = model(text)\n",
    "\n",
    "            # Compute the loss\n",
    "            loss = loss_function(predictions.view(-1, predictions.shape[-1]), tags.view(-1))\n",
    "\n",
    "            # Compute the accuracy\n",
    "            acc = categorical_acc(predictions.view(-1, predictions.shape[-1]), tags.view(-1), pad_idx)\n",
    "\n",
    "            # Accumulate loss and accuracy\n",
    "            val_loss += loss.item()\n",
    "            val_acc += acc.item()\n",
    "    ### your code ###\n",
    "\n",
    "    # Add 1 because index starts at 0\n",
    "    length_dataloader += 1\n",
    "\n",
    "    return val_loss / length_dataloader, val_acc / length_dataloader"
   ]
  },
  {
   "cell_type": "markdown",
   "id": "3AZJidLFnOUW",
   "metadata": {
    "id": "3AZJidLFnOUW"
   },
   "source": [
    "Let's use the functions defined so far and train our model for `30` epochs. We suggest using GPU for this task, as it is quite slow on the CPU. Run the training loop for the given number of epochs and calculate the validation metric at the end of each epoch. Based on the validation loss, save the best checkpoint of the model."
   ]
  },
  {
   "cell_type": "code",
   "execution_count": 110,
   "id": "NblN-U0inVYc",
   "metadata": {
    "id": "NblN-U0inVYc"
   },
   "outputs": [
    {
     "name": "stdout",
     "output_type": "stream",
     "text": [
      "Epoch: 01 | Epoch Time: 0m 29s\n",
      "\tTrain Loss: 2.508 | Train Acc: 17.66%\n",
      "\tValidation Loss: 2.490 |  Validation Acc: 18.03%\n",
      "Epoch: 02 | Epoch Time: 0m 32s\n",
      "\tTrain Loss: 2.503 | Train Acc: 17.89%\n",
      "\tValidation Loss: 2.488 |  Validation Acc: 18.09%\n",
      "Epoch: 03 | Epoch Time: 0m 29s\n",
      "\tTrain Loss: 2.499 | Train Acc: 17.91%\n",
      "\tValidation Loss: 2.485 |  Validation Acc: 18.10%\n",
      "Epoch: 04 | Epoch Time: 0m 32s\n",
      "\tTrain Loss: 2.496 | Train Acc: 17.95%\n",
      "\tValidation Loss: 2.485 |  Validation Acc: 18.10%\n",
      "Epoch: 05 | Epoch Time: 0m 29s\n",
      "\tTrain Loss: 2.493 | Train Acc: 18.12%\n",
      "\tValidation Loss: 2.481 |  Validation Acc: 17.89%\n",
      "Epoch: 06 | Epoch Time: 0m 31s\n",
      "\tTrain Loss: 2.491 | Train Acc: 18.21%\n",
      "\tValidation Loss: 2.480 |  Validation Acc: 17.91%\n",
      "Epoch: 07 | Epoch Time: 0m 30s\n",
      "\tTrain Loss: 2.488 | Train Acc: 18.32%\n",
      "\tValidation Loss: 2.480 |  Validation Acc: 17.84%\n",
      "Epoch: 08 | Epoch Time: 0m 29s\n",
      "\tTrain Loss: 2.487 | Train Acc: 18.32%\n",
      "\tValidation Loss: 2.477 |  Validation Acc: 18.77%\n",
      "Epoch: 09 | Epoch Time: 0m 29s\n",
      "\tTrain Loss: 2.485 | Train Acc: 18.52%\n",
      "\tValidation Loss: 2.478 |  Validation Acc: 18.42%\n",
      "Epoch: 10 | Epoch Time: 0m 30s\n",
      "\tTrain Loss: 2.483 | Train Acc: 18.76%\n",
      "\tValidation Loss: 2.476 |  Validation Acc: 18.59%\n",
      "Epoch: 11 | Epoch Time: 0m 30s\n",
      "\tTrain Loss: 2.481 | Train Acc: 18.78%\n",
      "\tValidation Loss: 2.471 |  Validation Acc: 18.85%\n",
      "Epoch: 12 | Epoch Time: 0m 33s\n",
      "\tTrain Loss: 2.479 | Train Acc: 18.93%\n",
      "\tValidation Loss: 2.473 |  Validation Acc: 18.60%\n",
      "Epoch: 13 | Epoch Time: 0m 33s\n",
      "\tTrain Loss: 2.478 | Train Acc: 19.05%\n",
      "\tValidation Loss: 2.476 |  Validation Acc: 18.24%\n",
      "Epoch: 14 | Epoch Time: 0m 30s\n",
      "\tTrain Loss: 2.478 | Train Acc: 18.92%\n",
      "\tValidation Loss: 2.469 |  Validation Acc: 18.90%\n",
      "Epoch: 15 | Epoch Time: 0m 28s\n",
      "\tTrain Loss: 2.476 | Train Acc: 18.98%\n",
      "\tValidation Loss: 2.471 |  Validation Acc: 18.80%\n",
      "Epoch: 16 | Epoch Time: 0m 28s\n",
      "\tTrain Loss: 2.474 | Train Acc: 19.06%\n",
      "\tValidation Loss: 2.466 |  Validation Acc: 19.00%\n",
      "Epoch: 17 | Epoch Time: 0m 29s\n",
      "\tTrain Loss: 2.474 | Train Acc: 19.07%\n",
      "\tValidation Loss: 2.465 |  Validation Acc: 18.87%\n",
      "Epoch: 18 | Epoch Time: 0m 30s\n",
      "\tTrain Loss: 2.472 | Train Acc: 19.06%\n",
      "\tValidation Loss: 2.465 |  Validation Acc: 18.97%\n",
      "Epoch: 19 | Epoch Time: 0m 26s\n",
      "\tTrain Loss: 2.470 | Train Acc: 19.07%\n",
      "\tValidation Loss: 2.465 |  Validation Acc: 18.85%\n",
      "Epoch: 20 | Epoch Time: 0m 26s\n",
      "\tTrain Loss: 2.469 | Train Acc: 19.10%\n",
      "\tValidation Loss: 2.461 |  Validation Acc: 18.75%\n",
      "Epoch: 21 | Epoch Time: 0m 25s\n",
      "\tTrain Loss: 2.467 | Train Acc: 19.08%\n",
      "\tValidation Loss: 2.461 |  Validation Acc: 19.11%\n",
      "Epoch: 22 | Epoch Time: 0m 25s\n",
      "\tTrain Loss: 2.467 | Train Acc: 19.12%\n",
      "\tValidation Loss: 2.463 |  Validation Acc: 18.45%\n",
      "Epoch: 23 | Epoch Time: 0m 26s\n",
      "\tTrain Loss: 2.466 | Train Acc: 19.25%\n",
      "\tValidation Loss: 2.461 |  Validation Acc: 18.82%\n",
      "Epoch: 24 | Epoch Time: 0m 25s\n",
      "\tTrain Loss: 2.465 | Train Acc: 19.12%\n",
      "\tValidation Loss: 2.459 |  Validation Acc: 18.89%\n",
      "Epoch: 25 | Epoch Time: 0m 25s\n",
      "\tTrain Loss: 2.463 | Train Acc: 19.21%\n",
      "\tValidation Loss: 2.462 |  Validation Acc: 18.64%\n",
      "Epoch: 26 | Epoch Time: 0m 26s\n",
      "\tTrain Loss: 2.462 | Train Acc: 19.15%\n",
      "\tValidation Loss: 2.457 |  Validation Acc: 18.77%\n",
      "Epoch: 27 | Epoch Time: 0m 26s\n",
      "\tTrain Loss: 2.461 | Train Acc: 19.23%\n",
      "\tValidation Loss: 2.456 |  Validation Acc: 19.00%\n",
      "Epoch: 28 | Epoch Time: 0m 25s\n",
      "\tTrain Loss: 2.459 | Train Acc: 19.26%\n",
      "\tValidation Loss: 2.455 |  Validation Acc: 18.49%\n",
      "Epoch: 29 | Epoch Time: 0m 30s\n",
      "\tTrain Loss: 2.457 | Train Acc: 19.24%\n",
      "\tValidation Loss: 2.451 |  Validation Acc: 18.87%\n",
      "Epoch: 30 | Epoch Time: 0m 40s\n",
      "\tTrain Loss: 2.458 | Train Acc: 19.21%\n",
      "\tValidation Loss: 2.449 |  Validation Acc: 19.16%\n"
     ]
    },
    {
     "data": {
      "text/plain": [
       "<All keys matched successfully>"
      ]
     },
     "execution_count": 110,
     "metadata": {},
     "output_type": "execute_result"
    }
   ],
   "source": [
    "epochs = 30\n",
    "\n",
    "best_valid_loss = float('inf')\n",
    "\n",
    "for epoch in range(epochs):\n",
    "    ### your code ###\n",
    "    train_loss, train_acc, epoch_time = train(model, train_dataloader, optimizer, loss_function, vocab['<pad>'])\n",
    "    valid_loss, valid_acc = evaluate(model, valid_dataloader, loss_function, vocab['<pad>'])\n",
    "    ### your code ###\n",
    "    \n",
    "    elapsed_mins = int(epoch_time / 60)\n",
    "    elapsed_secs = int(epoch_time - (elapsed_mins * 60))\n",
    "    print(f'Epoch: {epoch+1:02} | Epoch Time: {elapsed_mins}m {elapsed_secs}s')\n",
    "    print(f'\\tTrain Loss: {train_loss:.3f} | Train Acc: {train_acc*100:.2f}%')\n",
    "    print(f'\\tValidation Loss: {valid_loss:.3f} |  Validation Acc: {valid_acc*100:.2f}%')\n",
    "\n",
    "    # Save the best model checkpoint based on validation loss\n",
    "    if valid_loss < best_valid_loss:\n",
    "        best_valid_loss = valid_loss\n",
    "        torch.save(model.state_dict(), 'best_model_checkpoint.pth')\n",
    "\n",
    "# Load the best model checkpoint\n",
    "model.load_state_dict(torch.load('best_model_checkpoint.pth'))"
   ]
  },
  {
   "cell_type": "markdown",
   "id": "7dXTYFEbHzNL",
   "metadata": {
    "id": "7dXTYFEbHzNL"
   },
   "source": [
    "Question:\n",
    "\n",
    "1. Does overfitting occur? If so, after which epochs?\n",
    "\n",
    "2. How do you detect overfitting?\n"
   ]
  },
  {
   "cell_type": "markdown",
   "id": "9qSbr8CrH9hD",
   "metadata": {
    "id": "9qSbr8CrH9hD"
   },
   "source": [
    "**Answer:**\n",
    "```\n",
    "1. The current model doesn't seem to overfit. The Validation Loss keeps slowly decreasing, but the train loss as well.\n",
    "2. Overfitting occurs when the model \"overlearns\" the training data and can't generalize very well anymore for unseen data. This means, that the training loss continues to decrease while the validation loss plateaus or increases. The same holds for training accuracy and validation accuracy. If the training accuracy is high but the validation accuracy is lower and not improving, it suggests overfitting.\n",
    "```"
   ]
  },
  {
   "cell_type": "markdown",
   "id": "GmqNesqiMISb",
   "metadata": {
    "id": "GmqNesqiMISb"
   },
   "source": [
    "Let's see how well our model is doing on the test set. Load the best checkpoint and calculate the accuracy."
   ]
  },
  {
   "cell_type": "code",
   "execution_count": 112,
   "id": "SgCFqby0m8sf",
   "metadata": {
    "id": "SgCFqby0m8sf"
   },
   "outputs": [
    {
     "name": "stdout",
     "output_type": "stream",
     "text": [
      "Test Loss: 2.457 | Test Accuracy: 18.62%\n"
     ]
    }
   ],
   "source": [
    "#### you code ####\n",
    "# Load the best checkpoint\n",
    "best_model = BiLSTMTagger(hyper_parameters)\n",
    "best_model.load_state_dict(torch.load('best_model_checkpoint.pth'))\n",
    "best_model.to(device)  # Move the model to GPU if available\n",
    "\n",
    "# Evaluate the model on the test set\n",
    "test_loss, test_acc = evaluate(best_model, test_dataloader, loss_function, vocab['<pad>'])\n",
    "\n",
    "print(f'Test Loss: {test_loss:.3f} | Test Accuracy: {test_acc*100:.2f}%')\n",
    "#### you code ####"
   ]
  },
  {
   "cell_type": "markdown",
   "id": "tMIDBeSFyqJr",
   "metadata": {
    "id": "tMIDBeSFyqJr"
   },
   "source": [
    "####${\\color{red}{Comments\\ 1.3}}$\n",
    "\n",
    "${\\color{red}{⚠️Comments\\ begin⚠️}}$\n",
    "\n",
    "\n",
    "```\n",
    "cross-feedback comment section\n",
    "```\n",
    "\n",
    "\n",
    "${\\color{red}{⚠️Comments\\ end⚠️}}$"
   ]
  },
  {
   "cell_type": "markdown",
   "id": "7dPfzmVGMeSO",
   "metadata": {
    "id": "7dPfzmVGMeSO"
   },
   "source": [
    "### Subtask 4: Inference\n",
    "\n",
    "Let's use the model we trained to tag some actual sentences. We have the preprocessing pipeline ready from Subtask 1, now we need to map the predictions back to label texts for each token.\n",
    "\n",
    "Implement the `tag_sequence` function that takes a model and a sentence as input and generates POS tags. Keep in mind that you need to divide the sentence into tokens first. For this purpose, we just split each sentence on whitespaces."
   ]
  },
  {
   "cell_type": "code",
   "execution_count": 119,
   "id": "Xe7_ROCyEslD",
   "metadata": {
    "id": "Xe7_ROCyEslD"
   },
   "outputs": [],
   "source": [
    "def tag_sentence(model, sentence):\n",
    "    ### your code ###\n",
    "    # Tokenize the sentence\n",
    "    tokens = sentence.split()\n",
    "\n",
    "    # Convert tokens to indices using the vocabulary\n",
    "    token_indices = [vocab[token] if token in vocab else vocab['<unk>'] for token in tokens]\n",
    "    # Convert the indices to a PyTorch tensor\n",
    "    input_tensor = torch.tensor(token_indices).unsqueeze(0).to(device)\n",
    "\n",
    "    # Make predictions on the sentence\n",
    "    model.eval()\n",
    "    with torch.no_grad():\n",
    "        predictions = model(input_tensor)\n",
    "\n",
    "    # Get the predicted tags\n",
    "    _, predicted_indices = torch.max(predictions, dim=2)\n",
    "    predicted_tags = [tag[i] for i in predicted_indices.squeeze().tolist()]\n",
    "\n",
    "    ### your code ###\n",
    "    return predicted_tags"
   ]
  },
  {
   "cell_type": "code",
   "execution_count": 120,
   "id": "JtiR75PFRR61",
   "metadata": {
    "id": "JtiR75PFRR61"
   },
   "outputs": [
    {
     "name": "stdout",
     "output_type": "stream",
     "text": [
      "Text:  What if Google Morphed Into GoogleOS ?\n",
      "Predicted Tags:  ['M', 'M', 'M', 'M', 'M', 'M', 'M']\n",
      "True Tags:  ['PRON', 'SCONJ', 'PROPN', 'VERB', 'ADP', 'PROPN', 'PUNCT']\n"
     ]
    }
   ],
   "source": [
    "text=\" \".join(list(UDPOS(split='test'))[0][0])\n",
    "label=list(UDPOS(split='test'))[0][1]\n",
    "predicted_tag=tag_sentence(model,text)\n",
    "print(\"Text: \",text)\n",
    "print(\"Predicted Tags: \",predicted_tag)\n",
    "print(\"True Tags: \",label)"
   ]
  },
  {
   "cell_type": "markdown",
   "id": "7bPriv78yuyQ",
   "metadata": {
    "id": "7bPriv78yuyQ"
   },
   "source": [
    "####${\\color{red}{Comments\\ 1.4}}$\n",
    "\n",
    "${\\color{red}{⚠️Comments\\ begin⚠️}}$\n",
    "\n",
    "\n",
    "```\n",
    "cross-feedback comment section\n",
    "```\n",
    "\n",
    "\n",
    "${\\color{red}{⚠️Comments\\ end⚠️}}$"
   ]
  },
  {
   "cell_type": "markdown",
   "id": "X4n7Xi4TT_Ww",
   "metadata": {
    "id": "X4n7Xi4TT_Ww"
   },
   "source": [
    "## **Task 2: Theoretical Questions** (0.5+1.5+1+3=6 points)"
   ]
  },
  {
   "cell_type": "markdown",
   "id": "QbQJ3baXUHkQ",
   "metadata": {
    "id": "QbQJ3baXUHkQ"
   },
   "source": [
    "### Subtask 1:\n",
    "In beam search, if you increase the beam width, what will happen to a) the runtime and memory and b) the quality of results?"
   ]
  },
  {
   "cell_type": "markdown",
   "id": "Ei5A-D_djZup",
   "metadata": {
    "id": "Ei5A-D_djZup"
   },
   "source": [
    "**Answer:**\n",
    "\n",
    "\n",
    "```\n",
    "Write your answer here.\n",
    "```\n",
    "\n"
   ]
  },
  {
   "cell_type": "markdown",
   "id": "RuzX2q7TywyW",
   "metadata": {
    "id": "RuzX2q7TywyW"
   },
   "source": [
    "####${\\color{red}{Comments\\ 2.1}}$\n",
    "\n",
    "${\\color{red}{⚠️Comments\\ begin⚠️}}$\n",
    "\n",
    "\n",
    "```\n",
    "cross-feedback comment section\n",
    "```\n",
    "\n",
    "\n",
    "${\\color{red}{⚠️Comments\\ end⚠️}}$"
   ]
  },
  {
   "cell_type": "markdown",
   "id": "N7KlRPnhknbl",
   "metadata": {
    "id": "N7KlRPnhknbl"
   },
   "source": [
    "### Subtask 2:\n",
    "Except for beam search, there are other ways to create a more coherent output for generation tasks, one of which is adding a temperature to the softmax over the vocabulary. Temperature is a hyperparameter that is applied to the input of a softmax to affect the final probabilities. All values in the input are divided by the temperature before going through the softmax. What do you think will happen in these cases:\n",
    "\n",
    "1. A low temperature - below 1\n",
    "2. A high temperature - above 1\n",
    "3. Really small temperature - temperature $→$ 0"
   ]
  },
  {
   "cell_type": "markdown",
   "id": "uxuh5LOFnF3D",
   "metadata": {
    "id": "uxuh5LOFnF3D"
   },
   "source": [
    "**Answer:**\n",
    "```\n",
    "When adding the hyperparameter temperature T to the softmax calculation, the new function looks as follows: \n",
    "```\n",
    "$$\\text{Softmax}(z_i) = \\frac{e^{\\frac{z_i}{T}}}{\\sum_{j=1}^{n} e^{\\frac{z_j}{T}}}$$\n",
    "\n",
    "\n",
    "```\n",
    "When increasing T, the probabilities of each word in the sequence approach a uniform distribution giving each word an equal probability of getting sampled out. The higher T, the more the softmax results are equalised. Therefore the following happens:\n",
    "\n",
    "1. A low temperature - below 1\n",
    "    The softmax function is less sensitive to differences in input values. The model is more likely to choose the most probable token, leading to more deterministic outputs, since the distribution values differ.\n",
    "2. A high temperature - above 1\n",
    "    Softmax values are softened and the probability distribution becomes more uniform.\n",
    "3. Really small temperature - temperature $→$ 0\n",
    "    Softmax function becomes increasingly deterministic, favoring only the token with the highest probability. Basically, the results of the original Softmax are amplified and the output values differ even more.\n",
    "```"
   ]
  },
  {
   "cell_type": "markdown",
   "id": "GmW4NNb4yyZF",
   "metadata": {
    "id": "GmW4NNb4yyZF"
   },
   "source": [
    "####${\\color{red}{Comments\\ 2.2}}$\n",
    "\n",
    "${\\color{red}{⚠️Comments\\ begin⚠️}}$\n",
    "\n",
    "\n",
    "```\n",
    "cross-feedback comment section\n",
    "```\n",
    "\n",
    "\n",
    "${\\color{red}{⚠️Comments\\ end⚠️}}$"
   ]
  },
  {
   "cell_type": "markdown",
   "id": "tM2DmNOwod4r",
   "metadata": {
    "id": "tM2DmNOwod4r"
   },
   "source": [
    "### Subtask 3:\n",
    "Explain what the “bottleneck” of an encoder-decoder RNN is and how attention provides a way to get around this bottleneck."
   ]
  },
  {
   "cell_type": "markdown",
   "id": "DNJ3f_MtdzrM",
   "metadata": {
    "id": "DNJ3f_MtdzrM"
   },
   "source": [
    "**Answer:**\n",
    "```\n",
    "Write your answer here.\n",
    "```"
   ]
  },
  {
   "cell_type": "markdown",
   "id": "JFUHVF40y0j-",
   "metadata": {
    "id": "JFUHVF40y0j-"
   },
   "source": [
    "####${\\color{red}{Comments\\ 2.3}}$\n",
    "\n",
    "${\\color{red}{⚠️Comments\\ begin⚠️}}$\n",
    "\n",
    "\n",
    "```\n",
    "cross-feedback comment section\n",
    "```\n",
    "\n",
    "\n",
    "${\\color{red}{⚠️Comments\\ end⚠️}}$"
   ]
  },
  {
   "cell_type": "markdown",
   "id": "HaHhdLdJehL3",
   "metadata": {
    "id": "HaHhdLdJehL3"
   },
   "source": [
    "### Subtask 4:\n",
    "As mentioned, there are various way to remedy the repetitiveness and incoherence of generation outputs. One of the widely used methods is Nucleus sampling described the paper \"[ The Curious Case of Neural Text DeGeneration](https://arxiv.org/pdf/1904.09751.pdf)\". Read the model section and introduction of the paper and use it as reference to answer the following questions:\n",
    "\n",
    "1. Describe top-k sampling in your own words, no need for mathematical notation.\n",
    "2. Describe Nucleus sampling in your own words, there is not need for mathematical notation.\n",
    "3.  Why is beam search not a good strategy for human-like text generation and why don't these methods suffer from the problem of the beam search?\n"
   ]
  },
  {
   "cell_type": "markdown",
   "id": "9Ojtbn1kgaYE",
   "metadata": {
    "id": "9Ojtbn1kgaYE"
   },
   "source": [
    "**Answer:**\n",
    "```\n",
    "Write your answer here.\n",
    "```"
   ]
  },
  {
   "cell_type": "markdown",
   "id": "0wU67Iqpy2rg",
   "metadata": {
    "id": "0wU67Iqpy2rg"
   },
   "source": [
    "####${\\color{red}{Comments\\ 2.4}}$\n",
    "\n",
    "${\\color{red}{⚠️Comments\\ begin⚠️}}$\n",
    "\n",
    "\n",
    "```\n",
    "cross-feedback comment section\n",
    "```\n",
    "\n",
    "\n",
    "${\\color{red}{⚠️Comments\\ end⚠️}}$"
   ]
  },
  {
   "cell_type": "markdown",
   "id": "IZl0-MMY6MWs",
   "metadata": {
    "id": "IZl0-MMY6MWs"
   },
   "source": [
    "## **Task 3: Scaled Dot-Product Attention** (4+1=5 points)\n",
    "In class, you learned about attention and Transformers as described in the 2017 paper\n",
    "[Attention Is All You Need](https://arxiv.org/abs/1706.03762).\n",
    "The base of the attention module is a scaled dot product with Queries, Keys, and Values.\n",
    "In this task, you will implement a simplified version of scaled dot-product attention and inspired by the translation task, aim to replicate word alignment between English and French.\n",
    "You will not be training the embedding from scratch, we provide you with pre-trained embedding for both languages.\n",
    "However, you need to know the details of scaled dot product attention, which mainly consists of two matrix multiplications and a softmax scaling.\n",
    "Refer to Figure 2 of the [Attention Is All You Need](https://arxiv.org/abs/1706.03762) paper.\n",
    "\n",
    "The inputs of the attention module are Queries, Keys, and Values. Mathematically, attention is defined as follows:\n",
    "\n",
    "$$\n",
    "\\large \\mathrm{Attention}\\left(Q, K, V\\right) = \\mathrm{softmax}\\left(\\frac{QK^{\\top}}{\\sqrt{d_k}}\\right)V\n",
    "$$\n",
    "\n",
    "\n",
    "*   $Q$, $K$, and $V$ are the Queries, Keys, and Values matrices.\n",
    "* $d_k$ is the dimension of the Keys (in practice dimensions of all matrices are the same).\n",
    "*   $QK^{\\top}$ is a measure of the similarity between the Queries and the Keys\n",
    "* softmax transforms the similarity into weights.\n",
    "* Weights multiplied by the Values are the output of the attention, defining how much importance should be given to each token of the input.\n",
    "\n",
    "In the case of self-attention, both Queries and Keys come from the encoder, however, for cross attention between encoder and decoder, decoder states are used as the queries while encoder states are the Keys and Values.\n",
    "In our case, we need the cross attention between one language to another to find the correct alignment.\n"
   ]
  },
  {
   "cell_type": "code",
   "execution_count": 1,
   "id": "gOP3Fa8IfkMK",
   "metadata": {
    "id": "gOP3Fa8IfkMK"
   },
   "outputs": [
    {
     "name": "stdout",
     "output_type": "stream",
     "text": [
      "Requirement already satisfied: matplotlib in /Users/I518302/opt/anaconda3/envs/linguistik/lib/python3.9/site-packages (3.7.2)\n",
      "Requirement already satisfied: python-dateutil>=2.7 in /Users/I518302/opt/anaconda3/envs/linguistik/lib/python3.9/site-packages (from matplotlib) (2.8.2)\n",
      "Requirement already satisfied: kiwisolver>=1.0.1 in /Users/I518302/opt/anaconda3/envs/linguistik/lib/python3.9/site-packages (from matplotlib) (1.4.4)\n",
      "Requirement already satisfied: pillow>=6.2.0 in /Users/I518302/opt/anaconda3/envs/linguistik/lib/python3.9/site-packages (from matplotlib) (10.0.0)\n",
      "Requirement already satisfied: pyparsing<3.1,>=2.3.1 in /Users/I518302/opt/anaconda3/envs/linguistik/lib/python3.9/site-packages (from matplotlib) (3.0.9)\n",
      "Requirement already satisfied: packaging>=20.0 in /Users/I518302/opt/anaconda3/envs/linguistik/lib/python3.9/site-packages (from matplotlib) (23.1)\n",
      "Requirement already satisfied: fonttools>=4.22.0 in /Users/I518302/opt/anaconda3/envs/linguistik/lib/python3.9/site-packages (from matplotlib) (4.41.0)\n",
      "Requirement already satisfied: contourpy>=1.0.1 in /Users/I518302/opt/anaconda3/envs/linguistik/lib/python3.9/site-packages (from matplotlib) (1.1.0)\n",
      "Requirement already satisfied: numpy>=1.20 in /Users/I518302/opt/anaconda3/envs/linguistik/lib/python3.9/site-packages (from matplotlib) (1.25.1)\n",
      "Requirement already satisfied: cycler>=0.10 in /Users/I518302/opt/anaconda3/envs/linguistik/lib/python3.9/site-packages (from matplotlib) (0.11.0)\n",
      "Requirement already satisfied: importlib-resources>=3.2.0 in /Users/I518302/opt/anaconda3/envs/linguistik/lib/python3.9/site-packages (from matplotlib) (6.0.0)\n",
      "Requirement already satisfied: zipp>=3.1.0 in /Users/I518302/opt/anaconda3/envs/linguistik/lib/python3.9/site-packages (from importlib-resources>=3.2.0->matplotlib) (3.16.2)\n",
      "Requirement already satisfied: six>=1.5 in /Users/I518302/opt/anaconda3/envs/linguistik/lib/python3.9/site-packages (from python-dateutil>=2.7->matplotlib) (1.16.0)\n",
      "Note: you may need to restart the kernel to use updated packages.\n"
     ]
    }
   ],
   "source": [
    "%pip install matplotlib"
   ]
  },
  {
   "cell_type": "code",
   "execution_count": 3,
   "id": "tB6RD3wssHe9",
   "metadata": {
    "id": "tB6RD3wssHe9"
   },
   "outputs": [],
   "source": [
    "import pickle\n",
    "import matplotlib.pyplot as plt\n",
    "import numpy as np\n",
    "#load the dictionaries (dictionary of words to ids)\n",
    "with open(\"./word2int_en.pkl\", \"rb\") as f:\n",
    "    en_dict = pickle.load(f)\n",
    "\n",
    "with open(\"./word2int_fr.pkl\", \"rb\") as f:\n",
    "    fr_dict = pickle.load(f)\n",
    "\n",
    "# load word embeddings (dictionary of token ids to embeddings)\n",
    "en_embeddings = np.load(\"./embeddings_en.npz\")[\"embeddings\"]\n",
    "fr_embeddings = np.load(\"./embeddings_fr.npz\")[\"embeddings\"]\n"
   ]
  },
  {
   "cell_type": "markdown",
   "id": "7VYjN1xHsbYj",
   "metadata": {
    "id": "7VYjN1xHsbYj"
   },
   "source": [
    "### Subtask 1: Attention Weights\n",
    "Fill the blanks in `tokenize` to tokenize a sentence and convert it to ids and `embed` function to create an embedding of a sentence."
   ]
  },
  {
   "cell_type": "code",
   "execution_count": 4,
   "id": "cwS_M10nwOBH",
   "metadata": {
    "id": "cwS_M10nwOBH"
   },
   "outputs": [],
   "source": [
    "def tokenize(sentence, token_mapping):\n",
    "   # we stick to simple blank space tokenization\n",
    "   tokenized = []\n",
    "   for word in sentence.lower().split(\" \"):\n",
    "     tokenized.append(token_mapping.get(word, 0))\n",
    "   return tokenized\n",
    "\n",
    "def embed(tokens, embeddings):\n",
    "   \"\"\" get the embedding for the tokens in a sentence stacked in a simple matrix (sequence length, embedding size)\n",
    "       tokens: tokenized sentence\n",
    "       embeddings: dictionary of token to embeddings.\n",
    "   \"\"\"\n",
    "   embed_size = embeddings.shape[1]\n",
    "   \n",
    "   embedding_matrix = np.zeros((len(tokens), embed_size))\n",
    "      \n",
    "   for i, token_id in enumerate(tokens):\n",
    "      # Check if the token is in the embedding dictionary\n",
    "      if token_id in embeddings:\n",
    "         embedding_matrix[i, :] = embeddings[token_id]\n",
    "\n",
    "   output = embedding_matrix\n",
    "   return output"
   ]
  },
  {
   "cell_type": "code",
   "execution_count": 5,
   "id": "dkAulXarueT_",
   "metadata": {
    "id": "dkAulXarueT_"
   },
   "outputs": [
    {
     "name": "stdout",
     "output_type": "stream",
     "text": [
      "Tokenized english: [59, 40, 9355, 6, 158, 0]\n",
      "embedding english: (6, 300)\n",
      "Tokenized french: [21, 73, 192, 16, 8652, 0, 558, 0]\n",
      "embedding french: (8, 300)\n"
     ]
    }
   ],
   "source": [
    "sentence_en = \"there were clouds in my coffeeeeee.\"\n",
    "tokenized_en = tokenize(sentence_en, en_dict)\n",
    "embedded_en = embed(tokenized_en, en_embeddings)\n",
    "print(\"Tokenized english:\",tokenized_en)\n",
    "print(\"embedding english:\",embedded_en.shape)\n",
    "\n",
    "sentence_fr = \"il y avait des nuages ​​dans mon ccafé.\"\n",
    "tokenized_fr = tokenize(sentence_fr, fr_dict)\n",
    "embedded_fr = embed(tokenized_fr, fr_embeddings)\n",
    "print(\"Tokenized french:\",tokenized_fr)\n",
    "print(\"embedding french:\",embedded_fr.shape)"
   ]
  },
  {
   "cell_type": "markdown",
   "id": "WJ58FCMpsHJP",
   "metadata": {
    "id": "WJ58FCMpsHJP"
   },
   "source": [
    "\n",
    "Implement the `softmax` function with `Numpy`.\n"
   ]
  },
  {
   "cell_type": "code",
   "execution_count": 18,
   "id": "caOjXfbxon9h",
   "metadata": {
    "id": "caOjXfbxon9h"
   },
   "outputs": [],
   "source": [
    "def softmax(x, axis=0):\n",
    "    \"\"\"\n",
    "    x: input matrix\n",
    "    axis: defines which axis to compute the softmax over 0 for rows and 1 for columns\n",
    "        axis=0 calculates softmax across rows which means each column sums to 1\n",
    "        axis=1 calculates softmax across columns which means each row sums to 1\n",
    "    \"\"\"\n",
    "\n",
    "    x_max = np.max(x, axis=axis, keepdims=True)\n",
    "    exp_x = np.exp(x - x_max)\n",
    "\n",
    "    softmax_x = exp_x / np.sum(exp_x, axis=axis, keepdims=True)\n",
    "\n",
    "    return softmax_x # np.exp(x) / np.sum(np.exp(x), axis=0)"
   ]
  },
  {
   "cell_type": "code",
   "execution_count": 17,
   "id": "kCbjmG49p-v0",
   "metadata": {
    "id": "kCbjmG49p-v0"
   },
   "outputs": [
    {
     "data": {
      "text/plain": [
       "array([[1.02618796e-10, 5.00000000e-01, 8.80797078e-01, 1.19202922e-01],\n",
       "       [1.00000000e+00, 5.00000000e-01, 1.19202922e-01, 8.80797078e-01]])"
      ]
     },
     "execution_count": 17,
     "metadata": {},
     "output_type": "execute_result"
    }
   ],
   "source": [
    "w=softmax(np.array([[1,3,4,1], [24,3,2,3]]),axis=0)\n",
    "w.sum(axis=0)[0]\n",
    "w"
   ]
  },
  {
   "cell_type": "markdown",
   "id": "oNqtNPB9orLr",
   "metadata": {
    "id": "oNqtNPB9orLr"
   },
   "source": [
    "Use the `softmax` function to calculate the weights.\n",
    "$$ \\mathrm{softmax}\\left(\\frac{QK^{\\top}}{\\sqrt{d_k}}\\right)$$\n",
    "Assume the queries and keys are 2D matrices."
   ]
  },
  {
   "cell_type": "code",
   "execution_count": 19,
   "id": "ysRdVCnP7Qir",
   "metadata": {
    "id": "ysRdVCnP7Qir"
   },
   "outputs": [],
   "source": [
    "def calc_weights(queries, keys):\n",
    "    \"\"\"\n",
    "    queries: queries matrix\n",
    "    keys: keys matrix\n",
    "    \"\"\"\n",
    "    #### your code ####\n",
    "    d_k = keys.shape[-1]\n",
    "    weights = softmax(np.matmul(queries, keys.T) / np.sqrt(d_k), axis=1)\n",
    "    #### your code ####\n",
    "\n",
    "    return weights"
   ]
  },
  {
   "cell_type": "code",
   "execution_count": 29,
   "metadata": {},
   "outputs": [
    {
     "data": {
      "text/plain": [
       "2"
      ]
     },
     "execution_count": 29,
     "metadata": {},
     "output_type": "execute_result"
    }
   ],
   "source": [
    "np.array([[0,3],[2,3]]).shape[-1]"
   ]
  },
  {
   "cell_type": "code",
   "execution_count": 20,
   "id": "LVYGelEsqsoo",
   "metadata": {
    "id": "LVYGelEsqsoo"
   },
   "outputs": [
    {
     "name": "stdout",
     "output_type": "stream",
     "text": [
      "[[0.19557032 0.80442968]\n",
      " [0.19557032 0.80442968]]\n"
     ]
    },
    {
     "data": {
      "text/plain": [
       "1.0"
      ]
     },
     "execution_count": 20,
     "metadata": {},
     "output_type": "execute_result"
    }
   ],
   "source": [
    "weights=calc_weights(np.array([[1,3],[1,3]]),np.array([[0,3],[2,3]]))\n",
    "print(weights)\n",
    "weights.sum(axis=1)[0]"
   ]
  },
  {
   "cell_type": "markdown",
   "id": "16V5yFAew1Hx",
   "metadata": {
    "id": "16V5yFAew1Hx"
   },
   "source": [
    "Use the `calcu_weights` to compute the attention matrix between two sentences from English and French and visualize the weights to check for alignments."
   ]
  },
  {
   "cell_type": "code",
   "execution_count": 31,
   "id": "miW865arw9Fv",
   "metadata": {
    "id": "miW865arw9Fv"
   },
   "outputs": [
    {
     "data": {
      "image/png": "[encoded data removed]",
      "text/plain": [
       "<Figure size 500x500 with 1 Axes>"
      ]
     },
     "metadata": {},
     "output_type": "display_data"
    }
   ],
   "source": [
    "sentence_en = \"there were clouds in my coffee and unicorns in the sky.\"\n",
    "tokenized_en = tokenize(sentence_en, en_dict)\n",
    "embedded_en = embed(tokenized_en, en_embeddings)\n",
    "\n",
    "sentence_fr = \"il y avait des nuages ​​dans mon café et des licornes dans le ciel.\"\n",
    "tokenized_fr = tokenize(sentence_fr, fr_dict)\n",
    "embedded_fr = embed(tokenized_fr, fr_embeddings)\n",
    "\n",
    "alignment = calc_weights(embedded_fr, embedded_en)\n",
    "# visualize weights\n",
    "fig, ax = plt.subplots(figsize=(5,5))\n",
    "ax.imshow(alignment,cmap='gray')\n",
    "ax.xaxis.tick_top()\n",
    "ax.set_xticks(np.arange(alignment.shape[1]))\n",
    "ax.set_xticklabels(sentence_en.split(\" \"), rotation=90, size=12);\n",
    "ax.set_yticks(np.arange(alignment.shape[0]));\n",
    "ax.set_yticklabels(sentence_fr.split(\" \"), size=12);\n",
    "\n",
    "### your code to compute the top-2 ###\n",
    "top2_indices = np.argsort(alignment, axis=1)[:, ::-1][:, :2]\n",
    "\n",
    "### your code ###"
   ]
  },
  {
   "cell_type": "code",
   "execution_count": 27,
   "metadata": {},
   "outputs": [
    {
     "data": {
      "text/plain": [
       "array([[0.09090909, 0.09090909, 0.09090909, 0.09090909, 0.09090909,\n",
       "        0.09090909, 0.09090909, 0.09090909, 0.09090909, 0.09090909,\n",
       "        0.09090909],\n",
       "       [0.09090909, 0.09090909, 0.09090909, 0.09090909, 0.09090909,\n",
       "        0.09090909, 0.09090909, 0.09090909, 0.09090909, 0.09090909,\n",
       "        0.09090909],\n",
       "       [0.09090909, 0.09090909, 0.09090909, 0.09090909, 0.09090909,\n",
       "        0.09090909, 0.09090909, 0.09090909, 0.09090909, 0.09090909,\n",
       "        0.09090909],\n",
       "       [0.09090909, 0.09090909, 0.09090909, 0.09090909, 0.09090909,\n",
       "        0.09090909, 0.09090909, 0.09090909, 0.09090909, 0.09090909,\n",
       "        0.09090909],\n",
       "       [0.09090909, 0.09090909, 0.09090909, 0.09090909, 0.09090909,\n",
       "        0.09090909, 0.09090909, 0.09090909, 0.09090909, 0.09090909,\n",
       "        0.09090909],\n",
       "       [0.09094507, 0.09094507, 0.09094507, 0.09094507, 0.09094507,\n",
       "        0.09094507, 0.09094507, 0.09074718, 0.09094507, 0.09094507,\n",
       "        0.09074718],\n",
       "       [0.09090909, 0.09090909, 0.09090909, 0.09090909, 0.09090909,\n",
       "        0.09090909, 0.09090909, 0.09090909, 0.09090909, 0.09090909,\n",
       "        0.09090909],\n",
       "       [0.09090909, 0.09090909, 0.09090909, 0.09090909, 0.09090909,\n",
       "        0.09090909, 0.09090909, 0.09090909, 0.09090909, 0.09090909,\n",
       "        0.09090909],\n",
       "       [0.09090909, 0.09090909, 0.09090909, 0.09090909, 0.09090909,\n",
       "        0.09090909, 0.09090909, 0.09090909, 0.09090909, 0.09090909,\n",
       "        0.09090909],\n",
       "       [0.09090909, 0.09090909, 0.09090909, 0.09090909, 0.09090909,\n",
       "        0.09090909, 0.09090909, 0.09090909, 0.09090909, 0.09090909,\n",
       "        0.09090909],\n",
       "       [0.09094507, 0.09094507, 0.09094507, 0.09094507, 0.09094507,\n",
       "        0.09094507, 0.09094507, 0.09074718, 0.09094507, 0.09094507,\n",
       "        0.09074718],\n",
       "       [0.09090909, 0.09090909, 0.09090909, 0.09090909, 0.09090909,\n",
       "        0.09090909, 0.09090909, 0.09090909, 0.09090909, 0.09090909,\n",
       "        0.09090909],\n",
       "       [0.09090909, 0.09090909, 0.09090909, 0.09090909, 0.09090909,\n",
       "        0.09090909, 0.09090909, 0.09090909, 0.09090909, 0.09090909,\n",
       "        0.09090909],\n",
       "       [0.09094507, 0.09094507, 0.09094507, 0.09094507, 0.09094507,\n",
       "        0.09094507, 0.09094507, 0.09074718, 0.09094507, 0.09094507,\n",
       "        0.09074718]])"
      ]
     },
     "execution_count": 27,
     "metadata": {},
     "output_type": "execute_result"
    }
   ],
   "source": [
    "alignment"
   ]
  },
  {
   "cell_type": "markdown",
   "id": "0BxnOJJ2xhIZ",
   "metadata": {
    "id": "0BxnOJJ2xhIZ"
   },
   "source": [
    "1. What are the top 2 alignments shown in the figure?\n",
    "2. On the rows you see flat lines for `ciel` and `dans` and `licornes`, why do you think that is?"
   ]
  },
  {
   "cell_type": "markdown",
   "id": "QUwdKXhZxqUP",
   "metadata": {
    "id": "QUwdKXhZxqUP"
   },
   "source": [
    "**Answer:**\n",
    "\n",
    "```\n",
    "Write your answer here.\n",
    "```"
   ]
  },
  {
   "cell_type": "markdown",
   "id": "C2TnQmsxy70i",
   "metadata": {
    "id": "C2TnQmsxy70i"
   },
   "source": [
    "####${\\color{red}{Comments\\ 3.1}}$\n",
    "\n",
    "${\\color{red}{⚠️Comments\\ begin⚠️}}$\n",
    "\n",
    "\n",
    "```\n",
    "cross-feedback comment section\n",
    "```\n",
    "\n",
    "\n",
    "${\\color{red}{⚠️Comments\\ end⚠️}}$"
   ]
  },
  {
   "cell_type": "markdown",
   "id": "eqXwL4MpzW--",
   "metadata": {
    "id": "eqXwL4MpzW--"
   },
   "source": [
    "### Subtask 2: Scaled Dot-product\n",
    "Implement the scaled dot-product attention using the functions from above.\n",
    "\n"
   ]
  },
  {
   "cell_type": "code",
   "execution_count": 32,
   "id": "8iQTr4KCzqZk",
   "metadata": {
    "id": "8iQTr4KCzqZk"
   },
   "outputs": [
    {
     "name": "stdout",
     "output_type": "stream",
     "text": [
      "(14, 300)\n",
      "[[-0.00205455 -0.00038182 -0.00936364  0.00378182 -0.01267273 -0.007\n",
      "   0.00692727 -0.01723636  0.00198182  0.02763636]\n",
      " [-0.00205455 -0.00038182 -0.00936364  0.00378182 -0.01267273 -0.007\n",
      "   0.00692727 -0.01723636  0.00198182  0.02763636]]\n"
     ]
    }
   ],
   "source": [
    "def attention(queries, keys, values):\n",
    "    \"\"\"  scaled dot-product attention\n",
    "    queries: query matrix\n",
    "    keys: key matrix\n",
    "    value: value matrix\n",
    "    \"\"\"\n",
    "\n",
    "    #### your code ####\n",
    "    weights = calc_weights(queries, keys)\n",
    "\n",
    "    attention = np.matmul(weights, values)\n",
    "    #### your code ####\n",
    "    return attention\n",
    "\n",
    "\n",
    "attention_result = attention(embedded_fr, embedded_en, embedded_en)\n",
    "print(attention_result.shape)\n",
    "print(attention_result[0:2,:10])"
   ]
  },
  {
   "cell_type": "markdown",
   "id": "vlwGjAWMy_OX",
   "metadata": {
    "id": "vlwGjAWMy_OX"
   },
   "source": [
    "####${\\color{red}{Comments\\ 3.2}}$\n",
    "\n",
    "${\\color{red}{⚠️Comments\\ begin⚠️}}$\n",
    "\n",
    "\n",
    "```\n",
    "cross-feedback comment section\n",
    "```\n",
    "\n",
    "\n",
    "${\\color{red}{⚠️Comments\\ end⚠️}}$"
   ]
  },
  {
   "cell_type": "code",
   "execution_count": null,
   "id": "qDx8DrnVzAR1",
   "metadata": {
    "id": "qDx8DrnVzAR1"
   },
   "outputs": [],
   "source": []
  }
 ],
 "metadata": {
  "accelerator": "GPU",
  "colab": {
   "gpuType": "T4",
   "provenance": [],
   "toc_visible": true
  },
  "kernelspec": {
   "display_name": "Python 3 (ipykernel)",
   "language": "python",
   "name": "python3"
  },
  "language_info": {
   "codemirror_mode": {
    "name": "ipython",
    "version": 3
   },
   "file_extension": ".py",
   "mimetype": "text/x-python",
   "name": "python",
   "nbconvert_exporter": "python",
   "pygments_lexer": "ipython3",
   "version": "3.9.18"
  }
 },
 "nbformat": 4,
 "nbformat_minor": 5
}
