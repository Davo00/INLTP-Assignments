{
    "cells": [
        {
            "cell_type": "markdown",
            "id": "be9f7653",
            "metadata": {
                "id": "be9f7653"
            },
            "source": [
                "**Heidelberg University**\n",
                "\n",
                "**Data Science  Group**\n",
                "    \n",
                "Prof. Dr. Michael Gertz  \n",
                "\n",
                "Ashish Chouhan, Satya Almasian, John Ziegler, Jayson Salazar, Nicolas Reuter\n",
                "    \n",
                "December 4, 2023\n",
                "    \n",
                "Natural Language Processing with Transformers\n",
                "\n",
                "Winter Semster 2023/2024     \n",
                "***"
            ]
        },
        {
            "cell_type": "markdown",
            "id": "258e9648",
            "metadata": {
                "id": "258e9648"
            },
            "source": [
                "# **Assignment 3: “Transformers”**\n",
                "**Due**: Monday, January 8, 2024, 2pm, via [Moodle](https://moodle.uni-heidelberg.de/course/view.php?id=19251)\n",
                "\n"
            ]
        },
        {
            "cell_type": "markdown",
            "id": "fc27ad9e",
            "metadata": {
                "id": "fc27ad9e"
            },
            "source": [
                "### **Submission Guidelines**\n",
                "\n",
                "- Solutions need to be uploaded as a **single** Jupyter notebook. You will find several pre-filled code segments in the notebook, your task is to fill in the missing cells.\n",
                "- For the written solution, use LaTeX in markdown inside the same notebook. Do **not** hand in a separate file for it.\n",
                "- Download the .zip file containing the dataset but do **not** upload it with your solution.\n",
                "- It is sufficient if one person per group uploads the solution to Moodle, but make sure that the full names of all team members are given in the notebook.\n",
                "\n",
                "***"
            ]
        },
        {
            "cell_type": "markdown",
            "id": "HETm7VsBkmLq",
            "metadata": {
                "id": "HETm7VsBkmLq"
            },
            "source": [
                "## **Task 1: Diving into Attention** (3 + 4 + 4 + 1 = 12 points)"
            ]
        },
        {
            "cell_type": "markdown",
            "id": "0ODkKBIRkrfe",
            "metadata": {
                "id": "0ODkKBIRkrfe"
            },
            "source": [
                "In this task, you work with self-attention equations and find out why multi-head attention is preferable to single-head attention.\n",
                "\n",
                "Recall the equation of attention on slide 5-9 to compute self-attention on a series of input tokens. We simplify the formula by focusing on a single query vector $q \\in R^d$, value vectors ($\\{ v_1,v_2,...,v_i \\},v_i \\in R^d$), and key vectors ($\\{ k_1,k_2,...,k_i \\},k_i \\in R^d$). We then have\n",
                "\n",
                "$$\n",
                "a_i=\\frac{exp(q^Tk_i)}{\\Sigma^n_{j=1}exp(q^Tk_j)}\n",
                "$$\n",
                "\n",
                "$$\n",
                " o= \\Sigma^n_{i=1} a_i v_i\n",
                "$$\n",
                "\n",
                "with $a_i$ being the attention weight for query $q$ with respect to key $k_i$. Then the output $o$ is the new representation for the query token as a weighted average of value vectors with weights $a=\\{ a_1,a_2,...,a_i \\},a_i \\in R^d$.\n",
                "Answer the following questions with the help of the equations and the intuition behind attention that you learned in the class:\n",
                "\n"
            ]
        },
        {
            "cell_type": "markdown",
            "id": "MRwxqsMVodDt",
            "metadata": {
                "id": "MRwxqsMVodDt"
            },
            "source": [
                "### Subtask 1: Copying  \n",
                "\n",
                "1.   Explain why $a$ can be interpreted as a categorical distribution.\n",
                "2.   This distribution is typically diffuse, where the mass is spread out between different values of $a_i$. Describe a scenario in which the categorical distribution puts all the weight on a single element, e.g., $a_j \\gg \\Sigma_{j\\neq i}a_i$. What are the conditions on key and/or query for this to happen?\n",
                "3. In this case of a single large $a$, what would the output $c$ look like and what it means intuitively?\n",
                "\n",
                "In attention, it is easy to **copy** a value vector $v_i$ to the output $o$.\n",
                "\n",
                "\n",
                "\n"
            ]
        },
        {
            "cell_type": "markdown",
            "id": "Km0X1VPoqgrt",
            "metadata": {
                "id": "Km0X1VPoqgrt"
            },
            "source": [
                "**Answer**"
            ]
        },
        {
            "cell_type": "markdown",
            "id": "ZcLTljmmqhIM",
            "metadata": {
                "id": "ZcLTljmmqhIM"
            },
            "source": [
                "\n",
                "1. Because the calculation of $a$ is essentially the application of softmax to the matrix of $q^Tk_i$. Since softmax yields a propabilitiy distribution for the probability of the query regarding all the keys (value between 0 and 1 with a sum over all keys of 1), this can be seen as categorical distribution\n",
                "\n",
                "2. The scenario where one element $a_j$ dominates the distribution ($a_j \\gg \\sum_{j\\neq i} a_i$) occurs when the query vector $q$ strongly aligns with a specific key vector $k_j$. In other words, the dot product $q^Tk_j$ is significantly larger than the dot products of $q$ with other key vectors. This condition indicates that the query has a strong association with a particular key, leading to a focused attention on that specific element.\n",
                "\n",
                "3. When a single $a_j$ is much larger than the others, the output $o$ becomes a weighted sum where the dominant weight is associated with the value vector $v_j$. Intuitively, this means that the output representation is heavily influenced by the information in the value vector corresponding to the key that strongly matches the query. The output essentially becomes a \"copy\" of the information from the value vector $v_j$, demonstrating the mechanism's capability to selectively focus on relevant information during the attention process.\n",
                "\n",
                "\n",
                "\n"
            ]
        },
        {
            "cell_type": "markdown",
            "id": "NK-2Scv8qqYV",
            "metadata": {
                "id": "NK-2Scv8qqYV"
            },
            "source": [
                "#### ${\\color{red}{Comments\\ 1.1}}$\n",
                "\n",
                "${\\color{red}{⚠️Comments\\ begin⚠️}}$\n",
                "\n",
                "\n",
                "```\n",
                "cross-feedback comment section\n",
                "```\n",
                "\n",
                "\n",
                "${\\color{red}{⚠️Comments\\ end⚠️}}$"
            ]
        },
        {
            "cell_type": "markdown",
            "id": "YmWxycPF15kM",
            "metadata": {
                "id": "YmWxycPF15kM"
            },
            "source": [
                "### Subtask 2: Averaging\n"
            ]
        },
        {
            "cell_type": "markdown",
            "id": "WFKra56Q15mq",
            "metadata": {
                "id": "WFKra56Q15mq"
            },
            "source": [
                "Instead of focusing on just one value vector $v_j$, the Transformer model can incorporate information from multiple inputs. Consider the situation where we want to incorporate information from two value vectors $v_b$ and $v_c$ with keys $k_b$ and $k_c$. In machine learning one of the ways to combine this information is through averaging of vectors $o= \\frac{1}{2}(v_b+v_c)$.  It might seem hard to extract information about the original vectors $v_b$ and $v_c$ from the resulting average. But under certain conditions, one can do so. In this subtask, we look at the following cases:\n",
                "\n",
                "1. Suppose we know the following:\n",
                "\n",
                "\n",
                "* $v_b$ lies in a subspace $B$ formed by the $m$ basis vectors $\\{b_1, b_2, .. , b_m\\}$, while $v_c$ lies in a subspace $C$ formed by the $p$ basis vectors $\\{c_1, c_2, . . . , c_p\\}$ (This means that any $v_b$ and $v_c$ can be expressed as a linear combination of their basis vectors).\n",
                "*   All basis vectors have the norm 1 and are orthogonal to each other.\n",
                "*   The two subspaces $B$ and $C$ are orthogonal, meaning $b_j^Tc_k=0$ for all $j$ and $k$.\n",
                "* Given that $\\{b_1, b_2, .. , b_m\\}$ are both orthogonal and form a basis for $v_b$, we know that there exists some $d_1, ..., d_m$ such that $v_b=d_1 b_1+d_2 b_2+...+d_m b_m$. Use these $d\\text{s}$ to solve this task.\n",
                "\n",
                "Using the basis vectors $\\{b_1, b_2, .. , b_m\\}$, construct a matrix $M$ such that for arbitrary vectors $v_b$ and $v_c$ with the given conditions, we can use $M$ to extract $v_b$ from the sum of the vector $s = v_b + v_c$. In other words, construct an $M$ such that  $ Ms = v_b$ holds.\n",
                "\n",
                "\n",
                "2. If we assume that\n",
                "* all key vectors are orthogonal, i.e., $k_i^Tk_j=0$ for all $i \\neq j$, and\n",
                "* all key vectors have the norm 1.\n",
                "\n",
                "Find an expression for the query vector $q$ such that $o \\approx \\frac{1}{2}(v_b+v_c)$. Justify your answer.\n",
                "\n",
                "**Hint:** Use your finding in subtask 1 to solve part 2.\n",
                "\n",
                "**Hint:** If the norm of a vector $x$ is 1, then $x^Tx=1$\n",
                "\n",
                "**Hint:** Start with writing $v_b$ and $v_c$ as the linear combination of the bases.\n"
            ]
        },
        {
            "cell_type": "markdown",
            "id": "UdPaWhCzTxKT",
            "metadata": {
                "id": "UdPaWhCzTxKT"
            },
            "source": [
                "**Answer**"
            ]
        },
        {
            "cell_type": "markdown",
            "id": "uDB4aKn0Us4H",
            "metadata": {
                "id": "uDB4aKn0Us4H"
            },
            "source": [
                "1. \n",
                "We know that $v_b = d_1 b_1 + d_2 b_2 + ... + d_m b_m$, and $v_c$ can be expressed similarly with other coefficents, we call them $d'_1, .., d'_p$. Let's define the matrix $M$ as follows:\n",
                "\n",
                "$$\n",
                "M = \\begin{bmatrix}\n",
                "    b_1^2 & 0 & \\cdots & 0 \\\\\n",
                "    0 & b_2^2 &\\cdots & 0 \\\\\n",
                "    \\vdots & \\vdots & \\ddots & \\vdots \\\\\n",
                "    0 & 0 & \\cdots & b_m^2 \\\\\n",
                "\\end{bmatrix}\n",
                "$$\n",
                "\n",
                "It is a diagonal matrix containing b_x / b_x. This allows the following:\n",
                "Since s = $v_b + v_c$ both must be of equal length. Also we know that $b_j^T c_k = 0$ \n",
                "Hence, for each part of the sum of s it holds:\n",
                "$ b_j^2 (b_j d_j + c_j d'_j) = b_j b_j b_j d_j + c_j b_j b_j d'_j = 1 b_j d_j + 0 b_j d'_j = v_b[j] $\n",
                "\n",
                "Now, for any vectors $v_b$ and $v_c$ satisfying the given conditions, the matrix multiplication $Ms$ will yield $v_b$.\n",
                "\n",
                "\n",
                "\n",
                "2. To achieve $o \\approx \\frac{1}{2}(v_b+v_c)$, we want the attention weights $a_i$ to be such that they give equal importance to $v_b$ and $v_c$. Let $a_b$ and $a_c$ be the attention weights for $v_b$ and $v_c$ respectively.\n",
                "\n",
                "$ o \\approx a_b \\cdot v_b + a_c \\cdot v_c $\n",
                "\n",
                "Now, let's find $q$ such that $o \\approx \\frac{1}{2}(v_b + v_c)$. To achieve this, we need $a_b \\approx a_c$ and $a_b + a_c = 1$.\n",
                "\n",
                "Given the softmax attention weight calculation:\n",
                "\n",
                "$a_i = \\frac{\\exp(q^Tk_i)}{\\sum^n_{j=1}\\exp(q^Tk_j)} $\n",
                "\n",
                "To simplify the expression and achieve $o \\approx \\frac{1}{2}(v_b + v_c)$, we can aim for $q^Tk_b \\approx q^Tk_c$ and $q^Tk_b + q^Tk_c = 0$ (to satisfy the orthogonality condition).\n",
                "\n",
                "Let $q$ be:\n",
                "\n",
                "$ q = \\frac{1}{\\sqrt{2}}(k_b - k_c) $\n",
                "\n",
                "With this choice of $q$, let's analyze the terms:\n",
                "\n",
                "$ q^Tk_b = \\frac{1}{\\sqrt{2}}(k_b - k_c)^Tk_b = \\frac{1}{\\sqrt{2}}\\|k_b\\|^2 - \\frac{1}{\\sqrt{2}}(k_b^Tk_c) $\n",
                "\n",
                "$ q^Tk_c = \\frac{1}{\\sqrt{2}}(k_b - k_c)^Tk_c = -\\frac{1}{\\sqrt{2}}(k_b^Tk_c) + \\frac{1}{\\sqrt{2}}\\|k_c\\|^2 $\n",
                "\n",
                "Therefore, $ q^Tk_b + q^Tk_c = 0 $, and $ q^Tk_b \\approx q^Tk_c $. This implies that the attention weights $a_b$ and $a_c$ will be approximately equal.\n",
                "\n",
                "As a result, the output \\(o\\) becomes:\n",
                "\n",
                "$ o \\approx a_b \\cdot v_b + a_c \\cdot v_c \\approx \\frac{1}{2}(v_b + v_c) $\n"
            ]
        },
        {
            "cell_type": "markdown",
            "id": "5poTWvSxUoc3",
            "metadata": {
                "id": "5poTWvSxUoc3"
            },
            "source": [
                "#### ${\\color{red}{Comments\\ 1.2}}$\n",
                "\n",
                "${\\color{red}{⚠️Comments\\ begin⚠️}}$\n",
                "\n",
                "\n",
                "```\n",
                "cross-feedback comment section\n",
                "```\n",
                "\n",
                "\n",
                "${\\color{red}{⚠️Comments\\ end⚠️}}$"
            ]
        },
        {
            "cell_type": "markdown",
            "id": "imqOTai0bxuA",
            "metadata": {
                "id": "imqOTai0bxuA"
            },
            "source": [
                "### Subtask 3: Drawbacks of Single-head Attention"
            ]
        },
        {
            "cell_type": "markdown",
            "id": "0lObCVx7bx3q",
            "metadata": {
                "id": "0lObCVx7bx3q"
            },
            "source": [
                "You might have wondered why we need multi-heads for attention. In this subtask, we look at some of the drawbacks of having a single head attention. As shown in the previous subtask, it is possible for single head attention to focus equally on two values. The same can apply to any subset of values, which therefor can become problematic.\n",
                "\n",
                "Consider a set of key vectors $\\{ k_1,k_2,...,k_n \\}$, randomly sampled from a normal distribution with a known mean value of $\\mu_i \\in R^d$ and unknown covariance $Σ_i, i \\in \\{1, \\ldots, n\\}$, where\n",
                "\n",
                "\n",
                "*   $\\mu_i\\text{s}$ are all orthogonal $\\mu_i^T\\mu_j=0$ if $i \\neq j$.\n",
                "*   $\\mu_i\\text{s}$ all have unit norm $||\\mu_i||=1$.\n",
                "\n",
                "1. For a vanishingly small $\\alpha$ (not to be confused with attention weights), the covariance matrices are  $Σ_i=\\alpha I, \\forall i  \\in \\{1,2,..,n\\}$, design a query $q$ in terms of the $\\mu_i$ such that as before, $o= \\frac{1}{2}(v_b+v_c)$ and describe why it works.\n",
                "\n",
                "2.  Large perturbations in key value might cause problems for single head attention.  Specifically, in some cases, one key vector $k_b$ may be larger or smaller in norm than the others, while still pointing in the same direction as $\\mu_b$. As an example of such a case,\n",
                "consider a covariance matrix for item $b$ for vanishingly small $\\alpha$ as $Σ_b=\\alpha I + \\frac{1}{2}(\\mu_b^T\\mu_b)$. This causes $k_a$ to point to roughly the same direction as $\\mu_b$ but with large differences in magnitude, while for other items. Further, let $Σ_i=\\alpha I\\  \\forall_i i \\neq b$. When you sample multiple keys from the distribution $\\{ k_1,k_2,...,k_n \\}$ and use the $q$ vector from the pervious part, what do you expect vector $o$ to look like? Explain why this shows the drawback of single-head attention.\n",
                "\n",
                "**Hint:**\n",
                "Think about how it differs from pervious part and how $o$'s variance would be affected by the change in $Σ_b$.\n",
                "\n",
                "**Hint:** Considering that $\\mu_b^T\\mu_b=1$, think of what are the ranges $Σ_b$ can take and how does that effect a sampled $k_b$ value.\n",
                "\n",
                "**Hint:** $\\frac{exp(b)}{exp(b)+exp(c)}=\\frac{exp(b)}{exp(b)+exp(c)}\\frac{exp(-b)}{exp(-b)}= \\frac{1}{1+exp(c-b)}$"
            ]
        },
        {
            "cell_type": "markdown",
            "id": "PFkzZv9NcCpZ",
            "metadata": {
                "id": "PFkzZv9NcCpZ"
            },
            "source": [
                "**Answer:**"
            ]
        },
        {
            "cell_type": "markdown",
            "id": "1yhrRv0rTww2",
            "metadata": {
                "id": "1yhrRv0rTww2"
            },
            "source": [
                "\n",
                "1. Given that the covariance matrices are $Σ_i = \\alpha I$, for vanishingly small $\\alpha$, we can design the query vector $q$ as follows:\n",
                "\n",
                "$ q = \\frac{1}{\\sqrt{2\\alpha}}(\\mu_b - \\mu_c) $\n",
                "\n",
                "Now, let's analyze why this choice of $q$ works:\n",
                "\n",
                "- In the softmax attention weight calculation, $a_i = \\frac{\\exp(q^Tk_i)}{\\sum^n_{j=1}\\exp(q^Tk_j)}$.\n",
                "- With $q = \\frac{1}{\\sqrt{2\\alpha}}(\\mu_b - \\mu_c)$, the inner product $q^Tk_i$ simplifies to $\\frac{1}{\\sqrt{2\\alpha}}(\\mu_b^Tk_i - \\mu_c^Tk_i)$.\n",
                "- Since $\\mu_i^T\\mu_j = 0$ for $i \\neq j$ (orthogonality), the terms $\\mu_b^Tk_i$ and $\\mu_c^Tk_i$ effectively isolate $k_b$ and $k_c$ respectively in the inner product.\n",
                "- The denominators $\\sum^n_{j=1}\\exp(q^Tk_j)$ involve terms similar to $q^Tk_i$, and the softmax function ensures that $a_b \\approx a_c$.\n",
                "\n",
                "Therefore, with this choice of $q$, the attention weights $a_b$ and $a_c$ should be approximately equal, and the output $o$ becomes a weighted average of $v_b$ and $v_c$ with equal weights, achieving the desired result.\n",
                "\n",
                "---\n",
                "\n",
                "2. \n",
                "In this scenario, where $Σ_b = \\alpha I + \\frac{1}{2}(\\mu_b^T\\mu_b)$ and $Σ_i = \\alpha I$ for all $i \\neq b$, the covariance matrix for item $b$ introduces a perturbation term proportional to $\\mu_b^T\\mu_b$. This perturbation term causes $k_b$ to have large differences in magnitude compared to the other key vectors.\n",
                "\n",
                "Considering the query vector $q = \\frac{1}{\\sqrt{2\\alpha}}(\\mu_b - \\mu_c)$ from the previous part, the inner product $q^Tk_b$ simplifies to $\\frac{1}{\\sqrt{2\\alpha}}(\\mu_b^Tk_b - \\mu_c^Tk_b)$. Due to the large perturbation in $k_b$, the term $\\mu_b^Tk_b$ dominates, causing $q^Tk_b$ to be significantly larger than other $q^Tk_i$ terms.\n",
                "\n",
                "As a result, in the softmax attention weight calculation, $a_b$ becomes much larger than the other attention weights $a_i$. This leads to a situation where the attention mechanism predominantly focuses on $v_b$ while largely neglecting the other values.\n",
                "\n",
                "Therefore, in this case, the vector $o$ is expected to be heavily skewed towards $v_b$, indicating a drawback of single-head attention in handling large perturbations in key values.\n",
                "\n"
            ]
        },
        {
            "cell_type": "markdown",
            "id": "j0r37mi5cC1B",
            "metadata": {
                "id": "j0r37mi5cC1B"
            },
            "source": [
                "#### ${\\color{red}{Comments\\ 1.3}}$\n",
                "\n",
                "${\\color{red}{⚠️Comments\\ begin⚠️}}$\n",
                "\n",
                "\n",
                "```\n",
                "cross-feedback comment section\n",
                "```\n",
                "\n",
                "\n",
                "${\\color{red}{⚠️Comments\\ end⚠️}}$"
            ]
        },
        {
            "cell_type": "markdown",
            "id": "_qxdcrolx48r",
            "metadata": {
                "id": "_qxdcrolx48r"
            },
            "source": [
                "### Subtask 4: Model Size  \n",
                "1. Imagine you have an input sequence of  $l$ tokens, how much memory is required and what time complexity do we have for a single self-attention layer? (give your answer in terms of $l$)\n",
                "2. If you have $N$ layers of self-attention, how  would the memory requirements and the time complexity change? (give your answer in terms of $l$ and $N$)\n",
                "3. If you have $l=10,000$ and $10$ layers, with the ability to perform $10M$ operations per second, how long would it take to compute the attention output?\n"
            ]
        },
        {
            "cell_type": "markdown",
            "id": "s35qnPU4yoYD",
            "metadata": {
                "id": "s35qnPU4yoYD"
            },
            "source": [
                "**Answer**"
            ]
        },
        {
            "cell_type": "markdown",
            "id": "LzlVLskKzBXq",
            "metadata": {
                "id": "LzlVLskKzBXq"
            },
            "source": [
                "1. The memory requirement for a single self-attention layer involves storing the key, query, and value vectors for each token. Assuming each vector has a dimension of $d$, the memory complexity is $O(l \\cdot d)$. The time complexity for self-attention is approximately $O(l^2 \\cdot d)$.\n",
                "\n",
                "2. For $N$ layers of self-attention, the memory requirements would scale linearly with the number of layers, and the time complexity would scale quadratically. The memory complexity becomes $O(N \\cdot l \\cdot d)$, and the time complexity becomes $O(N \\cdot l^2 \\cdot d)$.\n",
                "\n",
                "3. Substitute $l=10,000$, $N=10$, and $d$ with the specific dimensionality of your vectors into the time complexity formula:\n",
                "$ \\text{Time} = O(N \\cdot l^2 \\cdot d) = 10 \\cdot (10,000)^2 \\cdot d \\text{ operations} $\n",
                "\n",
                "Given the ability to perform $10M$ (million) operations per second:\n",
                "\n",
                "$ \\text{Time taken} = \\frac{1.000.000.000 \\cdot d}{10.000.000} = 100 \\cdot d \\text{   seconds} $"
            ]
        },
        {
            "cell_type": "markdown",
            "id": "n2UFNSuozvNd",
            "metadata": {
                "id": "n2UFNSuozvNd"
            },
            "source": [
                "#### ${\\color{red}{Comments\\ 1.4}}$\n",
                "\n",
                "${\\color{red}{⚠️Comments\\ begin⚠️}}$\n",
                "\n",
                "\n",
                "```\n",
                "cross-feedback comment section\n",
                "```\n",
                "\n",
                "\n",
                "${\\color{red}{⚠️Comments\\ end⚠️}}$"
            ]
        },
        {
            "cell_type": "markdown",
            "id": "Av_GjYokHmGo",
            "metadata": {
                "id": "Av_GjYokHmGo"
            },
            "source": [
                "## **Task 2: Multiple Choice Question Answering** (4 + 3 + 5 + 2 = 14 points)"
            ]
        },
        {
            "cell_type": "markdown",
            "id": "hypnmNp2yeNz",
            "metadata": {
                "id": "hypnmNp2yeNz"
            },
            "source": [
                "In this task, you will fine-tune a transformer model on a multiple-choice task, which is the task of selecting the most plausible inputs in a given selection. The dataset used here is [SWAG](https://www.aclweb.org/anthology/D18-1009/), which is available via the Hugging Face [hub](https://huggingface.co/datasets/swag). Check the link for an overview of the dataset. SWAG is a dataset about commonsense reasoning, where each example describes a situation and then proposes four options that could apply for it.\n",
                "Let's start by installing the necessary packages."
            ]
        },
        {
            "cell_type": "code",
            "execution_count": 3,
            "id": "RYb57u4CHnZ7",
            "metadata": {
                "id": "RYb57u4CHnZ7"
            },
            "outputs": [],
            "source": [
                "# %pip install transformers\n",
                "# %pip install datasets\n",
                "# %pip install evaluate\n",
                "# %pip install accelerate -U\n",
                "# %pip install sentencepiece"
            ]
        },
        {
            "cell_type": "markdown",
            "id": "oLwC5naF8KzV",
            "metadata": {
                "id": "oLwC5naF8KzV"
            },
            "source": [
                "In this task, you will use a BERT model with a `MultipleChoice` head from the Hugging Face library and then create your custom model.   Recall from the class that the BERT model has an auxiliary next sentence prediction task, in which two sentences are given to BERT separated by a `[SEP]` token and a classifier head decides if the second sentence logically follows the first one. Hugging Face has\n",
                " a `*ForMultipleChoice` architecture that uses the representation of the `[CLS]` token and a linear layer to classify if one sentence follows the other. We first start with this default architecture and then build a more complicated one in a later subtask."
            ]
        },
        {
            "cell_type": "markdown",
            "id": "FJ7H6SSk1DqI",
            "metadata": {
                "id": "FJ7H6SSk1DqI"
            },
            "source": [
                "### Subtask 1: Loading and Processing the Data"
            ]
        },
        {
            "cell_type": "markdown",
            "id": "KvvYhCtW1kI3",
            "metadata": {
                "id": "KvvYhCtW1kI3"
            },
            "source": [
                "We use the `dataset` library to download the SWAG dataset, which already contains train, validation, and test splits."
            ]
        },
        {
            "cell_type": "code",
            "execution_count": 3,
            "id": "-cLxQBhq0Rmo",
            "metadata": {
                "id": "-cLxQBhq0Rmo"
            },
            "outputs": [
                {
                    "name": "stderr",
                    "output_type": "stream",
                    "text": [
                        "/Users/simon/opt/anaconda3/envs/INLPT/lib/python3.9/site-packages/tqdm/auto.py:21: TqdmWarning: IProgress not found. Please update jupyter and ipywidgets. See https://ipywidgets.readthedocs.io/en/stable/user_install.html\n",
                        "  from .autonotebook import tqdm as notebook_tqdm\n",
                        "Found cached dataset swag (/Users/simon/.cache/huggingface/datasets/swag/regular/0.0.0/9640de08cdba6a1469ed3834fcab4b8ad8e38caf5d1ba5e7436d8b1fd067ad4c)\n",
                        "100%|██████████| 3/3 [00:00<00:00, 281.09it/s]\n"
                    ]
                },
                {
                    "data": {
                        "text/plain": [
                            "DatasetDict({\n",
                            "    train: Dataset({\n",
                            "        features: ['video-id', 'fold-ind', 'startphrase', 'sent1', 'sent2', 'gold-source', 'ending0', 'ending1', 'ending2', 'ending3', 'label'],\n",
                            "        num_rows: 73546\n",
                            "    })\n",
                            "    validation: Dataset({\n",
                            "        features: ['video-id', 'fold-ind', 'startphrase', 'sent1', 'sent2', 'gold-source', 'ending0', 'ending1', 'ending2', 'ending3', 'label'],\n",
                            "        num_rows: 20006\n",
                            "    })\n",
                            "    test: Dataset({\n",
                            "        features: ['video-id', 'fold-ind', 'startphrase', 'sent1', 'sent2', 'gold-source', 'ending0', 'ending1', 'ending2', 'ending3', 'label'],\n",
                            "        num_rows: 20005\n",
                            "    })\n",
                            "})"
                        ]
                    },
                    "execution_count": 3,
                    "metadata": {},
                    "output_type": "execute_result"
                }
            ],
            "source": [
                "import os\n",
                "os.environ['CUDA_LAUNCH_BLOCKING'] = \"1\"\n",
                "from datasets import load_dataset, load_metric\n",
                "datasets = load_dataset(\"swag\", \"regular\")\n",
                "datasets"
            ]
        },
        {
            "cell_type": "markdown",
            "id": "DHkkMD3v4bs3",
            "metadata": {
                "id": "DHkkMD3v4bs3"
            },
            "source": [
                "Lets look at the first item to see how the data looks like:"
            ]
        },
        {
            "cell_type": "code",
            "execution_count": 4,
            "id": "vN6p1Mt84ZW_",
            "metadata": {
                "id": "vN6p1Mt84ZW_"
            },
            "outputs": [
                {
                    "data": {
                        "text/plain": [
                            "{'video-id': 'anetv_jkn6uvmqwh4',\n",
                            " 'fold-ind': '3416',\n",
                            " 'startphrase': 'Members of the procession walk down the street holding small horn brass instruments. A drum line',\n",
                            " 'sent1': 'Members of the procession walk down the street holding small horn brass instruments.',\n",
                            " 'sent2': 'A drum line',\n",
                            " 'gold-source': 'gold',\n",
                            " 'ending0': 'passes by walking down the street playing their instruments.',\n",
                            " 'ending1': 'has heard approaching them.',\n",
                            " 'ending2': \"arrives and they're outside dancing and asleep.\",\n",
                            " 'ending3': 'turns the lead singer watches the performance.',\n",
                            " 'label': 0}"
                        ]
                    },
                    "execution_count": 4,
                    "metadata": {},
                    "output_type": "execute_result"
                }
            ],
            "source": [
                "datasets[\"train\"][0]"
            ]
        },
        {
            "cell_type": "markdown",
            "id": "xOxxXEdbTF8l",
            "metadata": {
                "id": "xOxxXEdbTF8l"
            },
            "source": [
                "**Question:**\n",
                "Look at the dataset card on the Hugging Face hub and define what each of these fields means, with respect to the task:\n",
                "\n",
                "*   `sent1`:\n",
                "*   `sent2`:\n",
                "*    `ending0`, `ending1`, `ending2` and `ending3`:\n",
                "*   `label`:\n",
                "\n",
                "\n"
            ]
        },
        {
            "cell_type": "markdown",
            "id": "2FfOTODlURAY",
            "metadata": {
                "id": "2FfOTODlURAY"
            },
            "source": [
                "**Answer**\n",
                "\n",
                "`\n",
                "- sent1: the first sentence\n",
                "- sent2: the start of the second sentence (to be filled)\n",
                "- ending0: first proposition\n",
                "- ending1: second proposition\n",
                "- ending2: third proposition\n",
                "- ending3: fourth proposition\n",
                "- label: the correct proposition\n",
                "`"
            ]
        },
        {
            "cell_type": "markdown",
            "id": "D9TcSWfiU2m-",
            "metadata": {
                "id": "D9TcSWfiU2m-"
            },
            "source": [
                "Write a function that displays the context and each of the four choices, following the format\n",
                "\n",
                "\n",
                "```\n",
                "Context:...\n",
                "A-\n",
                "B-\n",
                "C-\n",
                "D-\n",
                "Ground truth: option ...\n",
                "```\n",
                "\n",
                "How you display the results is not important. You should be able to extract different parts of the data correctly and know what each field represents."
            ]
        },
        {
            "cell_type": "code",
            "execution_count": 5,
            "id": "jVOf4b2r4gDq",
            "metadata": {
                "id": "jVOf4b2r4gDq"
            },
            "outputs": [],
            "source": [
                "def explain_example(example):\n",
                "    # Extract relevant fields from the example\n",
                "    context = example['startphrase']\n",
                "    choices = [example[f'ending{i}'] for i in range(4)]\n",
                "    # Convert label to corresponding option letter\n",
                "    ground_truth = chr(ord('A') + example['label'])  \n",
                "\n",
                "    # Display the information\n",
                "    print(f\"Context: {context}\\n\")\n",
                "    \n",
                "    # Display choices\n",
                "    for i, choice in enumerate(choices):\n",
                "        print(f\"{chr(ord('A') + i)}: {choice}\")\n",
                "\n",
                "    # Display ground truth\n",
                "    print(f\"\\nGround truth: Option {ground_truth}\")"
            ]
        },
        {
            "cell_type": "code",
            "execution_count": 6,
            "id": "BlTFSjmR5QrP",
            "metadata": {
                "id": "BlTFSjmR5QrP"
            },
            "outputs": [
                {
                    "name": "stdout",
                    "output_type": "stream",
                    "text": [
                        "Context: Members of the procession walk down the street holding small horn brass instruments. A drum line\n",
                        "\n",
                        "A: passes by walking down the street playing their instruments.\n",
                        "B: has heard approaching them.\n",
                        "C: arrives and they're outside dancing and asleep.\n",
                        "D: turns the lead singer watches the performance.\n",
                        "\n",
                        "Ground truth: Option A\n"
                    ]
                }
            ],
            "source": [
                "explain_example(datasets[\"train\"][0])"
            ]
        },
        {
            "cell_type": "markdown",
            "id": "lXnX0E915qbb",
            "metadata": {
                "id": "lXnX0E915qbb"
            },
            "source": [
                "Before feeding the data into the model, we need to preprocess the text using `Tokenizer` to tokenize the inputs into tokens and put it in a format that the model expects. The tokenizer specific to the model we want to use for this task is `distilbert-base-uncased`. Complete the code below to load a fast tokenizer for this model. DistilBERT is similar to the BERT model, and we only use this particular architecture for faster training.\n"
            ]
        },
        {
            "cell_type": "code",
            "execution_count": 7,
            "id": "fd4BkVDc5RdO",
            "metadata": {
                "id": "fd4BkVDc5RdO"
            },
            "outputs": [],
            "source": [
                "from transformers import AutoTokenizer\n",
                "\n",
                "# Download vocabulary from huggingface.co and cache.\n",
                "tokenizer = AutoTokenizer.from_pretrained(\"distilbert-base-uncased\")"
            ]
        },
        {
            "cell_type": "code",
            "execution_count": 43,
            "id": "BbtOfQ4T7AQV",
            "metadata": {
                "id": "BbtOfQ4T7AQV"
            },
            "outputs": [
                {
                    "data": {
                        "text/plain": [
                            "{'input_ids': [101, 2023, 2003, 1996, 2034, 6251, 999, 102, 1998, 2023, 2003, 1996, 2117, 2028, 1012, 102], 'attention_mask': [1, 1, 1, 1, 1, 1, 1, 1, 1, 1, 1, 1, 1, 1, 1, 1]}"
                        ]
                    },
                    "execution_count": 43,
                    "metadata": {},
                    "output_type": "execute_result"
                }
            ],
            "source": [
                "tokenizer(\"This is the first sentence!\", \"And this is the second one.\")"
            ]
        },
        {
            "cell_type": "markdown",
            "id": "4LMdG45b7Yop",
            "metadata": {
                "id": "4LMdG45b7Yop"
            },
            "source": [
                "Write a function that preprocesses the samples.\n",
                "The tricky part is to put all the possible pairs of sentences in two big lists before passing them to the tokenizer.\n",
                "Each **first** sentence has to be repeated 4 times to go with different ending options.\n",
                "There should be a separator token between the first and second sentence, to follow the BERT input logic.\n",
                "The final output is a list of 4 elements, one for each choice, where the input is transformed by the tokenizer.\n",
                "For example, with a list of 2 training examples, the output includes 2 lists, where each contains 4 elements. Each of those elements is the converted input ID of the first sentence followed by the second sentence with different endings.\n",
                "When calling the `tokenizer`, we use the argument `truncation=True`. This will ensure that an input longer than what the model selected can handle will be truncated to the maximum length accepted by the model.\n",
                "\n",
                "**Hint:** Flatten the lists (all choices are flattened into a single list) before feeding them into the tokenizer and unflatten them once again for the final output."
            ]
        },
        {
            "cell_type": "code",
            "execution_count": 9,
            "id": "2302d2c3",
            "metadata": {},
            "outputs": [
                {
                    "data": {
                        "text/plain": [
                            "{'video-id': ['anetv_jkn6uvmqwh4', 'anetv_jkn6uvmqwh4'],\n",
                            " 'fold-ind': ['3416', '3417'],\n",
                            " 'startphrase': ['Members of the procession walk down the street holding small horn brass instruments. A drum line',\n",
                            "  'A drum line passes by walking down the street playing their instruments. Members of the procession'],\n",
                            " 'sent1': ['Members of the procession walk down the street holding small horn brass instruments.',\n",
                            "  'A drum line passes by walking down the street playing their instruments.'],\n",
                            " 'sent2': ['A drum line', 'Members of the procession'],\n",
                            " 'gold-source': ['gold', 'gen'],\n",
                            " 'ending0': ['passes by walking down the street playing their instruments.',\n",
                            "  'are playing ping pong and celebrating one left each in quick.'],\n",
                            " 'ending1': ['has heard approaching them.', 'wait slowly towards the cadets.'],\n",
                            " 'ending2': [\"arrives and they're outside dancing and asleep.\",\n",
                            "  'continues to play as well along the crowd along with the band being interviewed.'],\n",
                            " 'ending3': ['turns the lead singer watches the performance.',\n",
                            "  'continue to play marching, interspersed.'],\n",
                            " 'label': [0, 3]}"
                        ]
                    },
                    "execution_count": 9,
                    "metadata": {},
                    "output_type": "execute_result"
                }
            ],
            "source": [
                "datasets[\"train\"][:2]"
            ]
        },
        {
            "cell_type": "code",
            "execution_count": 165,
            "id": "uEBvuUSm7FD_",
            "metadata": {
                "id": "uEBvuUSm7FD_"
            },
            "outputs": [],
            "source": [
                "############# \n",
                "# Unoptimized\n",
                "#############\n",
                "\n",
                "# import torch\n",
                "\n",
                "# ending_names = ['ending0', 'ending1', 'ending2', 'ending3']\n",
                "\n",
                "# def preprocess_function(examples):\n",
                "  \n",
                "#     # repeat each first sentence four times\n",
                "#     # Results is a list with n=number of options=4 items\n",
                "#     # Each list inside contains  n=number of examples sentences\n",
                "#     first_sentences = [examples['sent1'] for _ in range(4)]\n",
                "\n",
                "#     # second sentences possible are combination of header and ending\n",
                "#     question_headers = []\n",
                "#     for first_sentence in first_sentences: \n",
                "#         first_option_temp = []\n",
                "#         for first_option in first_sentence: \n",
                "#             first_option_temp.append(f\"{first_option} [SEP]\")\n",
                "#         question_headers.append(first_option_temp)\n",
                "\n",
                "#     assert len(first_sentences) == len(question_headers), \"Dimensions don't match\"\n",
                "#     assert len(first_sentences[0]) == len(question_headers[0]), \"Dimensions don't match\"\n",
                "\n",
                "#     # Get second sentence and merge each ending with it\n",
                "#     # Results is a list with n=number of options=4 items\n",
                "#     # Each list inside contains  n=number of examples sentences\n",
                "#     second_sentences = []\n",
                "#     for ending_name in ending_names: \n",
                "#         second_sentences_temp = []\n",
                "#         for ending, start in zip(examples[ending_name], examples[\"sent2\"]):\n",
                "#             second_sentences_temp.append(start + \" \" + ending)\n",
                "#         second_sentences.append(second_sentences_temp)\n",
                "\n",
                "#     # flatten everything\n",
                "#     flat_first_sentences = [item for sublist in first_sentences for item in sublist]\n",
                "#     flat_second_sentences = [item for sublist in second_sentences for item in sublist]\n",
                "\n",
                "#     assert len(flat_second_sentences) == len(examples['sent1']) * 4, \"Dimensions don't match\"\n",
                "#     assert len(first_sentences) == len(second_sentences), \"Dimensions don't match\"\n",
                "\n",
                "#     # tokenize\n",
                "#     inputs = []\n",
                "#     for flat_first, flat_second in zip(flat_first_sentences, flat_second_sentences):\n",
                "#         inputs_temp = tokenizer(flat_first, flat_second, return_tensors='pt', truncation=True)\n",
                "#         inputs.append(inputs_temp)\n",
                "\n",
                "#     # un-flatten\n",
                "#     input_ids = []\n",
                "#     attention_masks = []\n",
                "\n",
                "#     num_lists = len(examples[\"sent1\"])\n",
                "#     for i in range(num_lists):\n",
                "#         input_id = [input[\"input_ids\"][0] for input in inputs][i::num_lists]\n",
                "#         attention_mask = [input[\"attention_mask\"][0] for input in inputs][i::num_lists]\n",
                "        \n",
                "#         input_ids.append(input_id)\n",
                "#         attention_masks.append(attention_mask)\n",
                "\n",
                "#     inputs = {\n",
                "#         'input_ids': input_ids,\n",
                "#         'attention_mask': attention_masks,\n",
                "#         'labels': torch.tensor([label for label in examples[\"label\"]], dtype=torch.long)\n",
                "#     }\n",
                "\n",
                "#     return inputs\n"
            ]
        },
        {
            "cell_type": "code",
            "execution_count": 176,
            "id": "b464ca6b",
            "metadata": {},
            "outputs": [],
            "source": [
                "import torch\n",
                "\n",
                "ending_names = ['ending0', 'ending1', 'ending2', 'ending3']\n",
                "\n",
                "def preprocess_function(examples):\n",
                "    # Repeat each first sentence four times\n",
                "    first_sentences = [examples['sent1'] for _ in range(4)]\n",
                "\n",
                "    # Generate question headers\n",
                "    question_headers = [\n",
                "        [f\"{first_option} [SEP]\" for first_option in first_sentence]\n",
                "        for first_sentence in first_sentences\n",
                "    ]\n",
                "\n",
                "    # Generate second sentences by combining each ending with it\n",
                "    second_sentences = [\n",
                "        [start + \" \" + ending for ending, start in zip(examples[ending_name], examples[\"sent2\"])]\n",
                "        for ending_name in ending_names\n",
                "    ]\n",
                "\n",
                "    # Flatten the lists\n",
                "    flat_first_sentences = [item for sublist in first_sentences for item in sublist]\n",
                "    flat_second_sentences = [item for sublist in second_sentences for item in sublist]\n",
                "\n",
                "    # Tokenize\n",
                "    inputs = [\n",
                "        tokenizer(flat_first, flat_second, return_tensors='pt', truncation=True)\n",
                "        for flat_first, flat_second in zip(flat_first_sentences, flat_second_sentences)\n",
                "    ]\n",
                "\n",
                "    # Extract input_ids and attention_masks\n",
                "    input_ids = [input[\"input_ids\"][0] for input in inputs]\n",
                "    attention_masks = [input[\"attention_mask\"][0] for input in inputs]\n",
                "\n",
                "    # Un-flatten the lists\n",
                "    num_lists = len(examples[\"sent1\"])\n",
                "    input_ids = [input_ids[i::num_lists] for i in range(num_lists)]\n",
                "    attention_masks = [attention_masks[i::num_lists] for i in range(num_lists)]\n",
                "\n",
                "    # Return the processed inputs\n",
                "    return {\n",
                "        'input_ids': input_ids,\n",
                "        'attention_mask': attention_masks,\n",
                "        'label': torch.tensor([label for label in examples[\"label\"]], dtype=torch.long)\n",
                "    }\n"
            ]
        },
        {
            "cell_type": "code",
            "execution_count": 177,
            "id": "9Q25z-jQ-rMu",
            "metadata": {
                "id": "9Q25z-jQ-rMu"
            },
            "outputs": [
                {
                    "name": "stdout",
                    "output_type": "stream",
                    "text": [
                        "2 4 [30, 25, 30, 28]\n"
                    ]
                }
            ],
            "source": [
                "examples = datasets[\"train\"][:2]\n",
                "features = preprocess_function(examples)\n",
                "print(len(features[\"input_ids\"]), len(features[\"input_ids\"][0]), [len(x) for x in features[\"input_ids\"][0]])# output should be 2 4 [30, 25, 30, 28]"
            ]
        },
        {
            "cell_type": "markdown",
            "id": "hKizHUiGXgj-",
            "metadata": {
                "id": "hKizHUiGXgj-"
            },
            "source": [
                "We can now apply our function to all the examples in the dataset. We use the `map` method to apply the function on all the elements of all the splits in the dataset (training, validation, and testing).\n",
                "Note that we passed `batched=True` to leverage the fast tokenizer and use multi-threading to process the texts in batches concurrently."
            ]
        },
        {
            "cell_type": "code",
            "execution_count": 178,
            "id": "9Wau4GZsXcvE",
            "metadata": {
                "id": "9Wau4GZsXcvE"
            },
            "outputs": [
                {
                    "name": "stderr",
                    "output_type": "stream",
                    "text": [
                        "Map:   0%|          | 0/73546 [00:00<?, ? examples/s]                                                                  \r"
                    ]
                }
            ],
            "source": [
                "encoded_datasets = datasets.map(preprocess_function, batched=True)"
            ]
        },
        {
            "cell_type": "markdown",
            "id": "G69L2vtPR8uV",
            "metadata": {
                "id": "G69L2vtPR8uV"
            },
            "source": [
                "Our dataset is still not converted to tensors and not padded. This is the job of the `data collator`. A data collator takes a list of examples and converts them to a batch.\n",
                "There is no data collator in the Hugging Face default library that works on our specific problem. We thus need to write our own one. In this collator:\n",
                "\n",
                "*  All the inputs/attention masks are flattened.\n",
                "* A flattened list is passed to the `tokenizer.pad ` method to apply dynamic padding to pad inputs to the maximum length in the batch. Output will be the size of `(batch_size * 4) x seq_length`.\n",
                "* Everything needs to be unflattened for the output of the data collator.\n",
                "* `input_ids` and `labels` should be returned as tensors.\n",
                "* The output is a dictionary called `batch` that contains features needed for training (`input_ids`, `attention_mask`, `label`).\n",
                "\n"
            ]
        },
        {
            "cell_type": "code",
            "execution_count": 279,
            "id": "r_3SvkBOSgZx",
            "metadata": {
                "id": "r_3SvkBOSgZx"
            },
            "outputs": [],
            "source": [
                "from dataclasses import dataclass\n",
                "from transformers.tokenization_utils_base import PreTrainedTokenizerBase, PaddingStrategy\n",
                "from typing import Optional, Union\n",
                "import torch\n",
                "\n",
                "@dataclass\n",
                "class MultipleChoiceDataCollator:\n",
                "    tokenizer: PreTrainedTokenizerBase\n",
                "    padding: Union[bool, str, PaddingStrategy] = True\n",
                "    max_length: Optional[int] = None\n",
                "    pad_to_multiple_of: Optional[int] = None\n",
                "\n",
                "    def __call__(self, features):\n",
                "        accepted_keys = [\"input_ids\", \"attention_mask\", \"label\"]\n",
                "        if len(features[0]) > len(accepted_keys):\n",
                "            features = [{k: v for k, v in i.items() if k in accepted_keys} for i in features]\n",
                "\n",
                "        labels = [feature[\"label\"] for feature in features]\n",
                "\n",
                "        # flatten\n",
                "        flattened_features = {k: [item for sublist in [f[k] for f in features] for item in sublist] for k in [\"input_ids\"]}\n",
                "        print(flattened_features)\n",
                "\n",
                "        # Use the tokenizer and attributes from the class to pad the input\n",
                "        batch = self.tokenizer.pad(\n",
                "            flattened_features,\n",
                "            padding=self.padding,\n",
                "            max_length=self.max_length,\n",
                "            pad_to_multiple_of=self.pad_to_multiple_of,\n",
                "            return_tensors=\"pt\",\n",
                "        )\n",
                "\n",
                "        # Un-flatten\n",
                "        batch = {k: batch[k].view(len(features), *batch[k].shape[1:]) for k in batch}\n",
                "\n",
                "        return batch"
            ]
        },
        {
            "cell_type": "code",
            "execution_count": 280,
            "id": "-oKeJUr_UBUV",
            "metadata": {
                "id": "-oKeJUr_UBUV"
            },
            "outputs": [
                {
                    "name": "stdout",
                    "output_type": "stream",
                    "text": [
                        "{'input_ids': [[101, 2372, 1997, 1996, 14385, 3328, 2091, 1996, 2395, 3173, 2235, 7109, 8782, 5693, 1012, 102, 1037, 6943, 2240, 5235, 2011, 3788, 2091, 1996, 2395, 2652, 2037, 5693, 1012, 102], [101, 2372, 1997, 1996, 14385, 3328, 2091, 1996, 2395, 3173, 2235, 7109, 8782, 5693, 1012, 102, 1037, 6943, 2240, 2038, 2657, 8455, 2068, 1012, 102], [101, 2372, 1997, 1996, 14385, 3328, 2091, 1996, 2395, 3173, 2235, 7109, 8782, 5693, 1012, 102, 1037, 6943, 2240, 8480, 1998, 2027, 1005, 2128, 2648, 5613, 1998, 6680, 1012, 102], [101, 2372, 1997, 1996, 14385, 3328, 2091, 1996, 2395, 3173, 2235, 7109, 8782, 5693, 1012, 102, 1037, 6943, 2240, 4332, 1996, 2599, 3220, 12197, 1996, 2836, 1012, 102], [101, 1037, 6943, 2240, 5235, 2011, 3788, 2091, 1996, 2395, 2652, 2037, 5693, 1012, 102, 2372, 1997, 1996, 14385, 2024, 2652, 17852, 13433, 3070, 1998, 12964, 2028, 2187, 2169, 1999, 4248, 1012, 102], [101, 1037, 6943, 2240, 5235, 2011, 3788, 2091, 1996, 2395, 2652, 2037, 5693, 1012, 102, 2372, 1997, 1996, 14385, 3524, 3254, 2875, 1996, 15724, 1012, 102], [101, 1037, 6943, 2240, 5235, 2011, 3788, 2091, 1996, 2395, 2652, 2037, 5693, 1012, 102, 2372, 1997, 1996, 14385, 4247, 2000, 2377, 2004, 2092, 2247, 1996, 4306, 2247, 2007, 1996, 2316, 2108, 10263, 1012, 102], [101, 1037, 6943, 2240, 5235, 2011, 3788, 2091, 1996, 2395, 2652, 2037, 5693, 1012, 102, 2372, 1997, 1996, 14385, 3613, 2000, 2377, 10998, 1010, 25338, 1012, 102]]}\n"
                    ]
                },
                {
                    "ename": "RuntimeError",
                    "evalue": "shape '[2, 35]' is invalid for input of size 280",
                    "output_type": "error",
                    "traceback": [
                        "\u001b[0;31m---------------------------------------------------------------------------\u001b[0m",
                        "\u001b[0;31mRuntimeError\u001b[0m                              Traceback (most recent call last)",
                        "Cell \u001b[0;32mIn[280], line 4\u001b[0m\n\u001b[1;32m      1\u001b[0m accepted_keys \u001b[38;5;241m=\u001b[39m [\u001b[38;5;124m\"\u001b[39m\u001b[38;5;124minput_ids\u001b[39m\u001b[38;5;124m\"\u001b[39m, \u001b[38;5;124m\"\u001b[39m\u001b[38;5;124mattention_mask\u001b[39m\u001b[38;5;124m\"\u001b[39m, \u001b[38;5;124m\"\u001b[39m\u001b[38;5;124mlabel\u001b[39m\u001b[38;5;124m\"\u001b[39m]\n\u001b[1;32m      2\u001b[0m features \u001b[38;5;241m=\u001b[39m [{k: v \u001b[38;5;28;01mfor\u001b[39;00m k, v \u001b[38;5;129;01min\u001b[39;00m encoded_datasets[\u001b[38;5;124m\"\u001b[39m\u001b[38;5;124mtrain\u001b[39m\u001b[38;5;124m\"\u001b[39m][i]\u001b[38;5;241m.\u001b[39mitems() \u001b[38;5;28;01mif\u001b[39;00m k \u001b[38;5;129;01min\u001b[39;00m accepted_keys} \u001b[38;5;28;01mfor\u001b[39;00m i \u001b[38;5;129;01min\u001b[39;00m \u001b[38;5;28mrange\u001b[39m(\u001b[38;5;241m2\u001b[39m)]\n\u001b[0;32m----> 4\u001b[0m batch\u001b[38;5;241m=\u001b[39m\u001b[43mMultipleChoiceDataCollator\u001b[49m\u001b[43m(\u001b[49m\u001b[43mtokenizer\u001b[49m\u001b[43m)\u001b[49m\u001b[43m(\u001b[49m\u001b[43mfeatures\u001b[49m\u001b[43m)\u001b[49m\n\u001b[1;32m      5\u001b[0m \u001b[38;5;28mprint\u001b[39m(batch[\u001b[38;5;124m\"\u001b[39m\u001b[38;5;124minput_ids\u001b[39m\u001b[38;5;124m\"\u001b[39m]\u001b[38;5;241m.\u001b[39mshape)\n\u001b[1;32m      6\u001b[0m \u001b[38;5;28mprint\u001b[39m(batch[\u001b[38;5;124m\"\u001b[39m\u001b[38;5;124mattention_mask\u001b[39m\u001b[38;5;124m\"\u001b[39m]\u001b[38;5;241m.\u001b[39mshape)\n",
                        "Cell \u001b[0;32mIn[279], line 34\u001b[0m, in \u001b[0;36mMultipleChoiceDataCollator.__call__\u001b[0;34m(self, features)\u001b[0m\n\u001b[1;32m     25\u001b[0m batch \u001b[38;5;241m=\u001b[39m \u001b[38;5;28mself\u001b[39m\u001b[38;5;241m.\u001b[39mtokenizer\u001b[38;5;241m.\u001b[39mpad(\n\u001b[1;32m     26\u001b[0m     flattened_features,\n\u001b[1;32m     27\u001b[0m     padding\u001b[38;5;241m=\u001b[39m\u001b[38;5;28mself\u001b[39m\u001b[38;5;241m.\u001b[39mpadding,\n\u001b[0;32m   (...)\u001b[0m\n\u001b[1;32m     30\u001b[0m     return_tensors\u001b[38;5;241m=\u001b[39m\u001b[38;5;124m\"\u001b[39m\u001b[38;5;124mpt\u001b[39m\u001b[38;5;124m\"\u001b[39m,\n\u001b[1;32m     31\u001b[0m )\n\u001b[1;32m     33\u001b[0m \u001b[38;5;66;03m# Un-flatten\u001b[39;00m\n\u001b[0;32m---> 34\u001b[0m batch \u001b[38;5;241m=\u001b[39m {k: batch[k]\u001b[38;5;241m.\u001b[39mview(\u001b[38;5;28mlen\u001b[39m(features), \u001b[38;5;241m*\u001b[39mbatch[k]\u001b[38;5;241m.\u001b[39mshape[\u001b[38;5;241m1\u001b[39m:]) \u001b[38;5;28;01mfor\u001b[39;00m k \u001b[38;5;129;01min\u001b[39;00m batch}\n\u001b[1;32m     36\u001b[0m \u001b[38;5;28;01mreturn\u001b[39;00m batch\n",
                        "Cell \u001b[0;32mIn[279], line 34\u001b[0m, in \u001b[0;36m<dictcomp>\u001b[0;34m(.0)\u001b[0m\n\u001b[1;32m     25\u001b[0m batch \u001b[38;5;241m=\u001b[39m \u001b[38;5;28mself\u001b[39m\u001b[38;5;241m.\u001b[39mtokenizer\u001b[38;5;241m.\u001b[39mpad(\n\u001b[1;32m     26\u001b[0m     flattened_features,\n\u001b[1;32m     27\u001b[0m     padding\u001b[38;5;241m=\u001b[39m\u001b[38;5;28mself\u001b[39m\u001b[38;5;241m.\u001b[39mpadding,\n\u001b[0;32m   (...)\u001b[0m\n\u001b[1;32m     30\u001b[0m     return_tensors\u001b[38;5;241m=\u001b[39m\u001b[38;5;124m\"\u001b[39m\u001b[38;5;124mpt\u001b[39m\u001b[38;5;124m\"\u001b[39m,\n\u001b[1;32m     31\u001b[0m )\n\u001b[1;32m     33\u001b[0m \u001b[38;5;66;03m# Un-flatten\u001b[39;00m\n\u001b[0;32m---> 34\u001b[0m batch \u001b[38;5;241m=\u001b[39m {k: \u001b[43mbatch\u001b[49m\u001b[43m[\u001b[49m\u001b[43mk\u001b[49m\u001b[43m]\u001b[49m\u001b[38;5;241;43m.\u001b[39;49m\u001b[43mview\u001b[49m\u001b[43m(\u001b[49m\u001b[38;5;28;43mlen\u001b[39;49m\u001b[43m(\u001b[49m\u001b[43mfeatures\u001b[49m\u001b[43m)\u001b[49m\u001b[43m,\u001b[49m\u001b[43m \u001b[49m\u001b[38;5;241;43m*\u001b[39;49m\u001b[43mbatch\u001b[49m\u001b[43m[\u001b[49m\u001b[43mk\u001b[49m\u001b[43m]\u001b[49m\u001b[38;5;241;43m.\u001b[39;49m\u001b[43mshape\u001b[49m\u001b[43m[\u001b[49m\u001b[38;5;241;43m1\u001b[39;49m\u001b[43m:\u001b[49m\u001b[43m]\u001b[49m\u001b[43m)\u001b[49m \u001b[38;5;28;01mfor\u001b[39;00m k \u001b[38;5;129;01min\u001b[39;00m batch}\n\u001b[1;32m     36\u001b[0m \u001b[38;5;28;01mreturn\u001b[39;00m batch\n",
                        "\u001b[0;31mRuntimeError\u001b[0m: shape '[2, 35]' is invalid for input of size 280"
                    ]
                }
            ],
            "source": [
                "accepted_keys = [\"input_ids\", \"attention_mask\", \"label\"]\n",
                "features = [{k: v for k, v in encoded_datasets[\"train\"][i].items() if k in accepted_keys} for i in range(2)]\n",
                "\n",
                "batch=MultipleChoiceDataCollator(tokenizer)(features)\n",
                "print(batch[\"input_ids\"].shape)\n",
                "print(batch[\"attention_mask\"].shape)\n",
                "print(batch[\"labels\"].shape)"
            ]
        },
        {
            "cell_type": "code",
            "execution_count": null,
            "id": "glDO1KfaVXoX",
            "metadata": {
                "id": "glDO1KfaVXoX"
            },
            "outputs": [],
            "source": [
                "for i in range(4):\n",
                "  print(batch[\"input_ids\"][0][i])\n",
                "  print(tokenizer.decode(batch[\"input_ids\"][0][i]))"
            ]
        },
        {
            "cell_type": "markdown",
            "id": "WD4IjgtLYCLa",
            "metadata": {
                "id": "WD4IjgtLYCLa"
            },
            "source": [
                "#### ${\\color{red}{Comments\\ 2.1}}$\n",
                "\n",
                "${\\color{red}{⚠️Comments\\ begin⚠️}}$\n",
                "\n",
                "\n",
                "```\n",
                "cross-feedback comment section\n",
                "```\n",
                "\n",
                "\n",
                "${\\color{red}{⚠️Comments\\ end⚠️}}$"
            ]
        },
        {
            "cell_type": "markdown",
            "id": "b3b209ff",
            "metadata": {},
            "source": [
                "### Subtask 2: Fine-tuning a Hugging Face Model"
            ]
        },
        {
            "cell_type": "markdown",
            "id": "3b2290d8",
            "metadata": {},
            "source": [
                "To fine-tune our model, we first need to download the correct architecture from Hugging Face. Import the correct class for this task and download the pre-trained checkpoint for the base class from `distilbert-base-uncased`. Note that the weights in the classification head are initialized at random."
            ]
        },
        {
            "cell_type": "code",
            "execution_count": null,
            "id": "a130f71d",
            "metadata": {},
            "outputs": [],
            "source": [
                "from transformers import AutoTokenizer, AutoModel\n",
                "\n",
                "tokenizer = AutoTokenizer.from_pretrained('distilbert-base-uncased')\n",
                "model_hf = AutoModel.from_pretrained(\"distilbert-base-uncased\", torch_dtype=torch.float16)\n"
            ]
        },
        {
            "cell_type": "markdown",
            "id": "7680e8a4",
            "metadata": {},
            "source": [
                "Next, we need to define our `Trainer` and pass in the correct `TrainingArguments` (a class that contains all the attributes to customize the training). Define a `TrainingArguments` that\n",
                "\n",
                "\n",
                "* creates an output directory `distilbert-base-uncased-swag` to save the checkpoints and logs.\n",
                "*   evaluates the model on the validation set after the `300` steps.\n",
                "* a checkpoint should be saved after each `600` step and no more than 2 checkpoints should be saved in total.\n",
                "* the random seed for training is `77`.\n",
                "* batch size for training and evaluation: `48` (if you are running out of memory, feel free to change this setting but indicate it as a comment in your notebook, on a T4 GPU from google colab this takes about `13.2GB` of `15.0GB`).\n",
                "* train for `1800` steps with a learning rate of `5e-5`, and add weight decay of `0.01` to the optimizer.\n",
                "* the trainer should remove the columns from the data that are not used by the model.\n",
                "* The final checkpoint should be the checkpoint that had the best overall validation metric not necessarily the last checkpoint.\n",
                "\n",
                "**Note:** Please use GPU for to train your model. If on colab, you can use T4 GPU for free."
            ]
        },
        {
            "cell_type": "code",
            "execution_count": null,
            "id": "224f27ef",
            "metadata": {},
            "outputs": [],
            "source": [
                "from transformers import TrainingArguments, Trainer\n",
                "\n",
                "output_directory = \"distilbert-base-uncased-swag\"\n",
                "\n",
                "training_args = TrainingArguments(\n",
                "    output_dir=output_directory,\n",
                "    evaluation_strategy=\"steps\",\n",
                "    eval_steps=300,\n",
                "    save_total_limit=2,\n",
                "    save_steps=600,\n",
                "    seed=77,\n",
                "    per_device_train_batch_size=48,\n",
                "    per_device_eval_batch_size=48,\n",
                "    max_steps=1800,\n",
                "    learning_rate=5e-5,\n",
                "    weight_decay=0.01,\n",
                "    remove_unused_columns=True,\n",
                "    logging_dir=output_directory,\n",
                ")\n"
            ]
        },
        {
            "cell_type": "markdown",
            "id": "29330eed",
            "metadata": {},
            "source": [
                "Before we initialize the `Trainer`, we create a function that tells the trainer how to compute the metrics from the predictions. Fill the `compute_metrics` function to compute the accuracy based on the `predictions`. This object contains the prediction of the model, as well as the ground truth labels.\n",
                "\n",
                "**Hint 1:** Keep in mind that the output of this function should be a dictionary containing the metric name and value.\n",
                "\n",
                "**Hint 2:** Consider the shape of the example input. This is similar to the logits produced by the model."
            ]
        },
        {
            "cell_type": "code",
            "execution_count": null,
            "id": "514aafd2",
            "metadata": {},
            "outputs": [],
            "source": [
                "import numpy as np\n",
                "\n",
                "def compute_metrics(predictions):\n",
                "    logits, labels = predictions[0], predictions[1]\n",
                "\n",
                "    preds = np.argmax(logits, axis=-1)\n",
                "    accuracy = (preds == labels).mean()\n",
                "\n",
                "    return {\"accuracy\": accuracy}"
            ]
        },
        {
            "cell_type": "code",
            "execution_count": null,
            "id": "569cbea5",
            "metadata": {},
            "outputs": [
                {
                    "data": {
                        "text/plain": [
                            "{'accuracy': 0.8}"
                        ]
                    },
                    "metadata": {},
                    "output_type": "display_data"
                }
            ],
            "source": [
                "preds=np.array([[0.9,0.2,0,0],\n",
                "                [0.2,0.2,0.9,0.1],\n",
                "                [0.2,0.9,0,0],\n",
                "                [0.2,0.1,0.8,0],\n",
                "                [0.9,0.1,0.8,0],\n",
                "                [0.2,1,0.4,0],\n",
                "                [0.2,1,0.4,0.9],\n",
                "                [1,0.1,0.4,0.3],\n",
                "                [0.1,0.1,0.9,0.3],\n",
                "                [0.1,0.1,0.2,1]])\n",
                "label_ids=np.array([0,3,1,2,0,1,3,0,2,3])\n",
                "compute_metrics((preds,label_ids))"
            ]
        },
        {
            "cell_type": "markdown",
            "id": "51b585b5",
            "metadata": {},
            "source": [
                "Now it's time to pass everything to a `Trainer` object to start the training process. Initialize a `Trainer` object and pass all the necessary information, keep in mind that we also have the optional metric computation and that we tend to run an evaluation on the validation set during training. The training should take around 30 min on Google Colab T4 GPU."
            ]
        },
        {
            "cell_type": "code",
            "execution_count": null,
            "id": "2ac85ce8",
            "metadata": {},
            "outputs": [
                {
                    "data": {
                        "text/plain": [
                            "device(type='cpu')"
                        ]
                    },
                    "metadata": {},
                    "output_type": "display_data"
                }
            ],
            "source": [
                "device = torch.device(\"cuda\") if torch.cuda.is_available() else torch.device(\"cpu\")\n",
                "device"
            ]
        },
        {
            "cell_type": "code",
            "execution_count": null,
            "id": "9de28371",
            "metadata": {},
            "outputs": [],
            "source": [
                "trainer = Trainer(\n",
                "    model=model_hf.to(device),\n",
                "    args=training_args,\n",
                "    train_dataset=datasets[\"train\"],  # must be replaced with processed data from 2.1\n",
                "    eval_dataset=datasets[\"validation\"],    # must be replace with processed data from 2.1\n",
                ")"
            ]
        },
        {
            "cell_type": "code",
            "execution_count": null,
            "id": "53a7fc29",
            "metadata": {},
            "outputs": [
                {
                    "name": "stderr",
                    "output_type": "stream",
                    "text": [
                        "/Users/simon/opt/anaconda3/envs/INLPT/lib/python3.9/site-packages/transformers/optimization.py:411: FutureWarning: This implementation of AdamW is deprecated and will be removed in a future version. Use the PyTorch implementation torch.optim.AdamW instead, or set `no_deprecation_warning=True` to disable this warning\n",
                        "  warnings.warn(\n",
                        "  0%|          | 0/1800 [00:00<?, ?it/s]"
                    ]
                },
                {
                    "ename": "TypeError",
                    "evalue": "forward() got an unexpected keyword argument 'labels'",
                    "output_type": "error",
                    "traceback": [
                        "\u001b[0;31m---------------------------------------------------------------------------\u001b[0m\n",
                        "\u001b[0;31mTypeError\u001b[0m                                 Traceback (most recent call last)\n",
                        "Cell \u001b[0;32mIn[65], line 1\u001b[0m\n",
                        "\u001b[0;32m----> 1\u001b[0m \u001b[43mtrainer\u001b[49m\u001b[38;5;241;43m.\u001b[39;49m\u001b[43mtrain\u001b[49m\u001b[43m(\u001b[49m\u001b[43m)\u001b[49m\n",
                        "\n",
                        "File \u001b[0;32m~/opt/anaconda3/envs/INLPT/lib/python3.9/site-packages/transformers/trainer.py:1539\u001b[0m, in \u001b[0;36mTrainer.train\u001b[0;34m(self, resume_from_checkpoint, trial, ignore_keys_for_eval, **kwargs)\u001b[0m\n",
                        "\u001b[1;32m   1534\u001b[0m     \u001b[38;5;28mself\u001b[39m\u001b[38;5;241m.\u001b[39mmodel_wrapped \u001b[38;5;241m=\u001b[39m \u001b[38;5;28mself\u001b[39m\u001b[38;5;241m.\u001b[39mmodel\n",
                        "\u001b[1;32m   1536\u001b[0m inner_training_loop \u001b[38;5;241m=\u001b[39m find_executable_batch_size(\n",
                        "\u001b[1;32m   1537\u001b[0m     \u001b[38;5;28mself\u001b[39m\u001b[38;5;241m.\u001b[39m_inner_training_loop, \u001b[38;5;28mself\u001b[39m\u001b[38;5;241m.\u001b[39m_train_batch_size, args\u001b[38;5;241m.\u001b[39mauto_find_batch_size\n",
                        "\u001b[1;32m   1538\u001b[0m )\n",
                        "\u001b[0;32m-> 1539\u001b[0m \u001b[38;5;28;01mreturn\u001b[39;00m \u001b[43minner_training_loop\u001b[49m\u001b[43m(\u001b[49m\n",
                        "\u001b[1;32m   1540\u001b[0m \u001b[43m    \u001b[49m\u001b[43margs\u001b[49m\u001b[38;5;241;43m=\u001b[39;49m\u001b[43margs\u001b[49m\u001b[43m,\u001b[49m\n",
                        "\u001b[1;32m   1541\u001b[0m \u001b[43m    \u001b[49m\u001b[43mresume_from_checkpoint\u001b[49m\u001b[38;5;241;43m=\u001b[39;49m\u001b[43mresume_from_checkpoint\u001b[49m\u001b[43m,\u001b[49m\n",
                        "\u001b[1;32m   1542\u001b[0m \u001b[43m    \u001b[49m\u001b[43mtrial\u001b[49m\u001b[38;5;241;43m=\u001b[39;49m\u001b[43mtrial\u001b[49m\u001b[43m,\u001b[49m\n",
                        "\u001b[1;32m   1543\u001b[0m \u001b[43m    \u001b[49m\u001b[43mignore_keys_for_eval\u001b[49m\u001b[38;5;241;43m=\u001b[39;49m\u001b[43mignore_keys_for_eval\u001b[49m\u001b[43m,\u001b[49m\n",
                        "\u001b[1;32m   1544\u001b[0m \u001b[43m\u001b[49m\u001b[43m)\u001b[49m\n",
                        "\n",
                        "File \u001b[0;32m~/opt/anaconda3/envs/INLPT/lib/python3.9/site-packages/transformers/trainer.py:1809\u001b[0m, in \u001b[0;36mTrainer._inner_training_loop\u001b[0;34m(self, batch_size, args, resume_from_checkpoint, trial, ignore_keys_for_eval)\u001b[0m\n",
                        "\u001b[1;32m   1806\u001b[0m     \u001b[38;5;28mself\u001b[39m\u001b[38;5;241m.\u001b[39mcontrol \u001b[38;5;241m=\u001b[39m \u001b[38;5;28mself\u001b[39m\u001b[38;5;241m.\u001b[39mcallback_handler\u001b[38;5;241m.\u001b[39mon_step_begin(args, \u001b[38;5;28mself\u001b[39m\u001b[38;5;241m.\u001b[39mstate, \u001b[38;5;28mself\u001b[39m\u001b[38;5;241m.\u001b[39mcontrol)\n",
                        "\u001b[1;32m   1808\u001b[0m \u001b[38;5;28;01mwith\u001b[39;00m \u001b[38;5;28mself\u001b[39m\u001b[38;5;241m.\u001b[39maccelerator\u001b[38;5;241m.\u001b[39maccumulate(model):\n",
                        "\u001b[0;32m-> 1809\u001b[0m     tr_loss_step \u001b[38;5;241m=\u001b[39m \u001b[38;5;28;43mself\u001b[39;49m\u001b[38;5;241;43m.\u001b[39;49m\u001b[43mtraining_step\u001b[49m\u001b[43m(\u001b[49m\u001b[43mmodel\u001b[49m\u001b[43m,\u001b[49m\u001b[43m \u001b[49m\u001b[43minputs\u001b[49m\u001b[43m)\u001b[49m\n",
                        "\u001b[1;32m   1811\u001b[0m \u001b[38;5;28;01mif\u001b[39;00m (\n",
                        "\u001b[1;32m   1812\u001b[0m     args\u001b[38;5;241m.\u001b[39mlogging_nan_inf_filter\n",
                        "\u001b[1;32m   1813\u001b[0m     \u001b[38;5;129;01mand\u001b[39;00m \u001b[38;5;129;01mnot\u001b[39;00m is_torch_tpu_available()\n",
                        "\u001b[1;32m   1814\u001b[0m     \u001b[38;5;129;01mand\u001b[39;00m (torch\u001b[38;5;241m.\u001b[39misnan(tr_loss_step) \u001b[38;5;129;01mor\u001b[39;00m torch\u001b[38;5;241m.\u001b[39misinf(tr_loss_step))\n",
                        "\u001b[1;32m   1815\u001b[0m ):\n",
                        "\u001b[1;32m   1816\u001b[0m     \u001b[38;5;66;03m# if loss is nan or inf simply add the average of previous logged losses\u001b[39;00m\n",
                        "\u001b[1;32m   1817\u001b[0m     tr_loss \u001b[38;5;241m+\u001b[39m\u001b[38;5;241m=\u001b[39m tr_loss \u001b[38;5;241m/\u001b[39m (\u001b[38;5;241m1\u001b[39m \u001b[38;5;241m+\u001b[39m \u001b[38;5;28mself\u001b[39m\u001b[38;5;241m.\u001b[39mstate\u001b[38;5;241m.\u001b[39mglobal_step \u001b[38;5;241m-\u001b[39m \u001b[38;5;28mself\u001b[39m\u001b[38;5;241m.\u001b[39m_globalstep_last_logged)\n",
                        "\n",
                        "File \u001b[0;32m~/opt/anaconda3/envs/INLPT/lib/python3.9/site-packages/transformers/trainer.py:2654\u001b[0m, in \u001b[0;36mTrainer.training_step\u001b[0;34m(self, model, inputs)\u001b[0m\n",
                        "\u001b[1;32m   2651\u001b[0m     \u001b[38;5;28;01mreturn\u001b[39;00m loss_mb\u001b[38;5;241m.\u001b[39mreduce_mean()\u001b[38;5;241m.\u001b[39mdetach()\u001b[38;5;241m.\u001b[39mto(\u001b[38;5;28mself\u001b[39m\u001b[38;5;241m.\u001b[39margs\u001b[38;5;241m.\u001b[39mdevice)\n",
                        "\u001b[1;32m   2653\u001b[0m \u001b[38;5;28;01mwith\u001b[39;00m \u001b[38;5;28mself\u001b[39m\u001b[38;5;241m.\u001b[39mcompute_loss_context_manager():\n",
                        "\u001b[0;32m-> 2654\u001b[0m     loss \u001b[38;5;241m=\u001b[39m \u001b[38;5;28;43mself\u001b[39;49m\u001b[38;5;241;43m.\u001b[39;49m\u001b[43mcompute_loss\u001b[49m\u001b[43m(\u001b[49m\u001b[43mmodel\u001b[49m\u001b[43m,\u001b[49m\u001b[43m \u001b[49m\u001b[43minputs\u001b[49m\u001b[43m)\u001b[49m\n",
                        "\u001b[1;32m   2656\u001b[0m \u001b[38;5;28;01mif\u001b[39;00m \u001b[38;5;28mself\u001b[39m\u001b[38;5;241m.\u001b[39margs\u001b[38;5;241m.\u001b[39mn_gpu \u001b[38;5;241m>\u001b[39m \u001b[38;5;241m1\u001b[39m:\n",
                        "\u001b[1;32m   2657\u001b[0m     loss \u001b[38;5;241m=\u001b[39m loss\u001b[38;5;241m.\u001b[39mmean()  \u001b[38;5;66;03m# mean() to average on multi-gpu parallel training\u001b[39;00m\n",
                        "\n",
                        "File \u001b[0;32m~/opt/anaconda3/envs/INLPT/lib/python3.9/site-packages/transformers/trainer.py:2679\u001b[0m, in \u001b[0;36mTrainer.compute_loss\u001b[0;34m(self, model, inputs, return_outputs)\u001b[0m\n",
                        "\u001b[1;32m   2677\u001b[0m \u001b[38;5;28;01melse\u001b[39;00m:\n",
                        "\u001b[1;32m   2678\u001b[0m     labels \u001b[38;5;241m=\u001b[39m \u001b[38;5;28;01mNone\u001b[39;00m\n",
                        "\u001b[0;32m-> 2679\u001b[0m outputs \u001b[38;5;241m=\u001b[39m \u001b[43mmodel\u001b[49m\u001b[43m(\u001b[49m\u001b[38;5;241;43m*\u001b[39;49m\u001b[38;5;241;43m*\u001b[39;49m\u001b[43minputs\u001b[49m\u001b[43m)\u001b[49m\n",
                        "\u001b[1;32m   2680\u001b[0m \u001b[38;5;66;03m# Save past state if it exists\u001b[39;00m\n",
                        "\u001b[1;32m   2681\u001b[0m \u001b[38;5;66;03m# TODO: this needs to be fixed and made cleaner later.\u001b[39;00m\n",
                        "\u001b[1;32m   2682\u001b[0m \u001b[38;5;28;01mif\u001b[39;00m \u001b[38;5;28mself\u001b[39m\u001b[38;5;241m.\u001b[39margs\u001b[38;5;241m.\u001b[39mpast_index \u001b[38;5;241m>\u001b[39m\u001b[38;5;241m=\u001b[39m \u001b[38;5;241m0\u001b[39m:\n",
                        "\n",
                        "File \u001b[0;32m~/opt/anaconda3/envs/INLPT/lib/python3.9/site-packages/torch/nn/modules/module.py:1518\u001b[0m, in \u001b[0;36mModule._wrapped_call_impl\u001b[0;34m(self, *args, **kwargs)\u001b[0m\n",
                        "\u001b[1;32m   1516\u001b[0m     \u001b[38;5;28;01mreturn\u001b[39;00m \u001b[38;5;28mself\u001b[39m\u001b[38;5;241m.\u001b[39m_compiled_call_impl(\u001b[38;5;241m*\u001b[39margs, \u001b[38;5;241m*\u001b[39m\u001b[38;5;241m*\u001b[39mkwargs)  \u001b[38;5;66;03m# type: ignore[misc]\u001b[39;00m\n",
                        "\u001b[1;32m   1517\u001b[0m \u001b[38;5;28;01melse\u001b[39;00m:\n",
                        "\u001b[0;32m-> 1518\u001b[0m     \u001b[38;5;28;01mreturn\u001b[39;00m \u001b[38;5;28;43mself\u001b[39;49m\u001b[38;5;241;43m.\u001b[39;49m\u001b[43m_call_impl\u001b[49m\u001b[43m(\u001b[49m\u001b[38;5;241;43m*\u001b[39;49m\u001b[43margs\u001b[49m\u001b[43m,\u001b[49m\u001b[43m \u001b[49m\u001b[38;5;241;43m*\u001b[39;49m\u001b[38;5;241;43m*\u001b[39;49m\u001b[43mkwargs\u001b[49m\u001b[43m)\u001b[49m\n",
                        "\n",
                        "File \u001b[0;32m~/opt/anaconda3/envs/INLPT/lib/python3.9/site-packages/torch/nn/modules/module.py:1527\u001b[0m, in \u001b[0;36mModule._call_impl\u001b[0;34m(self, *args, **kwargs)\u001b[0m\n",
                        "\u001b[1;32m   1522\u001b[0m \u001b[38;5;66;03m# If we don't have any hooks, we want to skip the rest of the logic in\u001b[39;00m\n",
                        "\u001b[1;32m   1523\u001b[0m \u001b[38;5;66;03m# this function, and just call forward.\u001b[39;00m\n",
                        "\u001b[1;32m   1524\u001b[0m \u001b[38;5;28;01mif\u001b[39;00m \u001b[38;5;129;01mnot\u001b[39;00m (\u001b[38;5;28mself\u001b[39m\u001b[38;5;241m.\u001b[39m_backward_hooks \u001b[38;5;129;01mor\u001b[39;00m \u001b[38;5;28mself\u001b[39m\u001b[38;5;241m.\u001b[39m_backward_pre_hooks \u001b[38;5;129;01mor\u001b[39;00m \u001b[38;5;28mself\u001b[39m\u001b[38;5;241m.\u001b[39m_forward_hooks \u001b[38;5;129;01mor\u001b[39;00m \u001b[38;5;28mself\u001b[39m\u001b[38;5;241m.\u001b[39m_forward_pre_hooks\n",
                        "\u001b[1;32m   1525\u001b[0m         \u001b[38;5;129;01mor\u001b[39;00m _global_backward_pre_hooks \u001b[38;5;129;01mor\u001b[39;00m _global_backward_hooks\n",
                        "\u001b[1;32m   1526\u001b[0m         \u001b[38;5;129;01mor\u001b[39;00m _global_forward_hooks \u001b[38;5;129;01mor\u001b[39;00m _global_forward_pre_hooks):\n",
                        "\u001b[0;32m-> 1527\u001b[0m     \u001b[38;5;28;01mreturn\u001b[39;00m \u001b[43mforward_call\u001b[49m\u001b[43m(\u001b[49m\u001b[38;5;241;43m*\u001b[39;49m\u001b[43margs\u001b[49m\u001b[43m,\u001b[49m\u001b[43m \u001b[49m\u001b[38;5;241;43m*\u001b[39;49m\u001b[38;5;241;43m*\u001b[39;49m\u001b[43mkwargs\u001b[49m\u001b[43m)\u001b[49m\n",
                        "\u001b[1;32m   1529\u001b[0m \u001b[38;5;28;01mtry\u001b[39;00m:\n",
                        "\u001b[1;32m   1530\u001b[0m     result \u001b[38;5;241m=\u001b[39m \u001b[38;5;28;01mNone\u001b[39;00m\n",
                        "\n",
                        "\u001b[0;31mTypeError\u001b[0m: forward() got an unexpected keyword argument 'labels'"
                    ]
                }
            ],
            "source": [
                "trainer.train()# should take around 30 min on Google Colab T4 GPU"
            ]
        },
        {
            "cell_type": "markdown",
            "id": "625340cc",
            "metadata": {},
            "source": [
                "Save the model in `distilbert-base-uncased-swag/final_model`."
            ]
        },
        {
            "cell_type": "code",
            "execution_count": null,
            "id": "1abf674f",
            "metadata": {},
            "outputs": [],
            "source": [
                "trainer.save_model(output_directory)"
            ]
        },
        {
            "cell_type": "markdown",
            "id": "c6df3043",
            "metadata": {},
            "source": [
                "Look at the saved files and answer the following questions (it is possible to answer these questions by writing some code, but we want you to explore the saved files):\n",
                "\n",
                "**Question:**\n",
                "\n",
                "\n",
                "1.   What is the vocabulary id for the `[CLS]` and `[MASK]` tokens?\n",
                "2.   What is the dropout probability for the attention layer?\n",
                "\n",
                "**Dropout:** With dropout, certain nodes are set to the value zero in a training run, i.e. removed from the network. Thus, they have no influence on the prediction and also in the backpropagation. Thus, a new, slightly modified network architecture is built in each run and the network learns to produce good predictions without certain inputs. Read more [here](https://databasecamp.de/en/ml/dropout-layer-en).\n",
                "\n"
            ]
        },
        {
            "cell_type": "markdown",
            "id": "8c9412e7",
            "metadata": {},
            "source": [
                "**Answer**\n",
                "\n",
                "`\n",
                "Enter your answer here\n",
                "`"
            ]
        },
        {
            "cell_type": "markdown",
            "id": "b017d569",
            "metadata": {},
            "source": [
                "#### ${\\color{red}{Comments\\ 2.2}}$\n",
                "\n",
                "${\\color{red}{⚠️Comments\\ begin⚠️}}$\n",
                "\n",
                "\n",
                "```\n",
                "cross-feedback comment section\n",
                "```\n",
                "\n",
                "\n",
                "${\\color{red}{⚠️Comments\\ end⚠️}}$"
            ]
        },
        {
            "cell_type": "markdown",
            "id": "d43e3684",
            "metadata": {},
            "source": [
                "### Subtask 3: Fine-tune a Custom Model\n"
            ]
        },
        {
            "cell_type": "markdown",
            "id": "cc3362ae",
            "metadata": {},
            "source": [
                "In this case, we were lucky that Hugging Face had a pre-implemented architecture available for us to use. However, that is not always the case. Moreover, we might want to experiment beyond the default architectures to find a suitable one for a task. Therefore, it is important to learn to extend the Hugging Face models and train a custom model. The good news is that except for the model architecture the rest of the code can remain as it is."
            ]
        },
        {
            "cell_type": "markdown",
            "id": "67ef8266",
            "metadata": {},
            "source": [
                "Design a model for multiple choice model as follows:\n",
                "\n",
                "\n",
                "1.   the config file for a feature extractor (must be a distilbert type) is  passed during initialization. The config file determines which model is used for feature extraction.\n",
                "2.   From the `last_hidden_state` of the feature extractor, choose the `[CLS]` embedding (first one). This embedding is used as the compressed representation of first and second sentences. During pre-training it is used  for classifying whether these two sentences follow one another, making it a good candidate for our task.\n",
                "3. `[CLS]` embedding is passed through a linear layer **that does not change the size of the embedding** and is passed through a tanh nonlinearity.\n",
                "4. The output of tanh is passed through a dropout layer, where the dropout probability is the same as the dropout probability used for the `distilbert` model used as feature extractor.\n",
                "5. The output of the previous stage is fed into another linear layer that shrinks the size of the embedding dimension to a quarter of the original size, e.g., if the embedding size is 12, the new embedding dimension is 3.\n",
                "6. The output is followed by another dropout layer (you can use the one from stage 4).\n",
                "7. Finally, a binary classifier is applied to determine the probability of sentence 1 being followed by sentence 2.\n",
                "8. the cross-entropy loss is used to compute the loss.\n",
                "\n",
                "**Hint:** Keep in mind that for a 4 choice system, you classify each of the four solutions independently. However, the final output should group the four logits together. For example, if input ids have the shape `[2, 4, 35]` (batch size=2, num choices=4, seq len=35), then the logits have the `[2, 4]` and labels have the dimension `[2, 1]`.\n",
                "\n"
            ]
        },
        {
            "cell_type": "code",
            "execution_count": null,
            "id": "1c24cc53",
            "metadata": {},
            "outputs": [],
            "source": [
                "from transformers import DistilBertModel,BertConfig,DistilBertConfig,PretrainedConfig,PreTrainedModel,DistilBertPreTrainedModel\n",
                "from torch import nn\n",
                "\n",
                "class CustomMultipleChoice(DistilBertPreTrainedModel):\n",
                "    def __init__(self, config: PretrainedConfig):\n",
                "        super().__init__(config)\n",
                "        ###your code ###\n",
                "        self.distilbert =\n",
                "        self.dense =\n",
                "        self.activation =\n",
                "        self.dropout =\n",
                "        self.dense2 =\n",
                "        self.classifier =\n",
                "        ###your code ###\n",
                "\n",
                "\n",
                "    def forward(\n",
                "        self,\n",
                "        input_ids: Optional[torch.Tensor] = None,\n",
                "        attention_mask: Optional[torch.Tensor] = None,\n",
                "        labels: Optional[torch.Tensor] = None,\n",
                "    ):\n",
                "        \"\"\"\n",
                "        input_ids: input sentences converted to ids\n",
                "        attention_mask: the attention mask\n",
                "        labels:  Labels for computing the multiple choice classification loss. Indices should be in `[0, ...,num_choices-1]` where `num_choices` is the size of the second dimension of the input tensors.\n",
                "        \"\"\"\n",
                "\n",
                "        num_choices = input_ids.shape[1]\n",
                "\n",
                "        ###your code ###\n",
                "        input_ids =\n",
                "        attention_mask =\n",
                "\n",
                "\n",
                "\n",
                "        loss = None\n",
                "        if labels is not None:\n",
                "\n",
                "        ###your code ###\n",
                "        return {\"loss\":loss,\"logits\":reshaped_logits}\n"
            ]
        },
        {
            "cell_type": "markdown",
            "id": "a41e6738",
            "metadata": {},
            "source": [
                "Initialize the feature extractor with `distilbert-base-uncased` and create your custome model."
            ]
        },
        {
            "cell_type": "code",
            "execution_count": null,
            "id": "edc8fa54",
            "metadata": {},
            "outputs": [],
            "source": [
                "from transformers import AutoConfig\n",
                "###your code ###\n",
                "config=\n",
                "model_custom =\n",
                "###your code ###"
            ]
        },
        {
            "cell_type": "code",
            "execution_count": null,
            "id": "1db1d240",
            "metadata": {},
            "outputs": [],
            "source": [
                "for name, param in model_custom.named_parameters():\n",
                "    if param.requires_grad and not name.startswith(\"distilbert.\"):\n",
                "        print(name, param.data.shape)"
            ]
        },
        {
            "cell_type": "markdown",
            "id": "4e4d3cc7",
            "metadata": {},
            "source": [
                "We keep the same training arguments but change the directory in which we save the model logs, the directory in which we save the model output and the name of the run, to `custom_model`.\n",
                "\n"
            ]
        },
        {
            "cell_type": "code",
            "execution_count": null,
            "id": "e877c15e",
            "metadata": {},
            "outputs": [],
            "source": [
                "###your code ###\n",
                "\n",
                "\n",
                "###your code ###"
            ]
        },
        {
            "cell_type": "markdown",
            "id": "eebaf44e",
            "metadata": {},
            "source": [
                "Initialize the trainer for training the custom model.The training should take around 30 min on Google Colab T4 GPU.\n"
            ]
        },
        {
            "cell_type": "code",
            "execution_count": null,
            "id": "6aed7df7",
            "metadata": {},
            "outputs": [],
            "source": [
                "trainer =\n",
                "###your code ###\n",
                "\n",
                "###your code ###\n"
            ]
        },
        {
            "cell_type": "markdown",
            "id": "nLXcPADKi73j",
            "metadata": {
                "id": "nLXcPADKi73j"
            },
            "source": [
                "Save the model in `distilbert-base-uncased-swag/final_model`."
            ]
        },
        {
            "cell_type": "code",
            "execution_count": null,
            "id": "tlHd67J2qBdA",
            "metadata": {
                "id": "tlHd67J2qBdA"
            },
            "outputs": [],
            "source": [
                "### your code ###\n",
                "\n",
                "### your code ###"
            ]
        },
        {
            "cell_type": "markdown",
            "id": "of7b-SkFne_J",
            "metadata": {
                "id": "of7b-SkFne_J"
            },
            "source": [
                "Look at the saved files and answer the following questions (it is possible to answer these questions by writing some code, but we want you to explore the saved files):\n",
                "\n",
                "**Question:**\n",
                "\n",
                "\n",
                "1.   What is the vocabulary id for the `[CLS]` and `[MASK]` tokens?\n",
                "2.   What is the dropout probability for the attention layer?\n",
                "\n",
                "**Dropout:** With dropout, certain nodes are set to the value zero in a training run, i.e. removed from the network. Thus, they have no influence on the prediction and also in the backpropagation. Thus, a new, slightly modified network architecture is built in each run and the network learns to produce good predictions without certain inputs. Read more [here](https://databasecamp.de/en/ml/dropout-layer-en).\n",
                "\n"
            ]
        },
        {
            "cell_type": "markdown",
            "id": "eZ74Uaouno6L",
            "metadata": {
                "id": "eZ74Uaouno6L"
            },
            "source": [
                "**Answer**\n",
                "\n",
                "`\n",
                "Enter your answer here\n",
                "`"
            ]
        },
        {
            "cell_type": "markdown",
            "id": "Auvva-EkGcRR",
            "metadata": {
                "id": "Auvva-EkGcRR"
            },
            "source": [
                "#### ${\\color{red}{Comments\\ 2.2}}$\n",
                "\n",
                "${\\color{red}{⚠️Comments\\ begin⚠️}}$\n",
                "\n",
                "\n",
                "```\n",
                "cross-feedback comment section\n",
                "```\n",
                "\n",
                "\n",
                "${\\color{red}{⚠️Comments\\ end⚠️}}$"
            ]
        },
        {
            "cell_type": "markdown",
            "id": "vAcJQfpHAvbR",
            "metadata": {
                "id": "vAcJQfpHAvbR"
            },
            "source": [
                "### Subtask 3: Fine-tune a Custom Model\n"
            ]
        },
        {
            "cell_type": "markdown",
            "id": "QT3cbQO-wnio",
            "metadata": {
                "id": "QT3cbQO-wnio"
            },
            "source": [
                "In this case, we were lucky that Hugging Face had a pre-implemented architecture available for us to use. However, that is not always the case. Moreover, we might want to experiment beyond the default architectures to find a suitable one for a task. Therefore, it is important to learn to extend the Hugging Face models and train a custom model. The good news is that except for the model architecture the rest of the code can remain as it is."
            ]
        },
        {
            "cell_type": "markdown",
            "id": "G2RtNQewxG2O",
            "metadata": {
                "id": "G2RtNQewxG2O"
            },
            "source": [
                "Design a model for multiple choice model as follows:\n",
                "\n",
                "\n",
                "1.   the config file for a feature extractor (must be a distilbert type) is  passed during initialization. The config file determines which model is used for feature extraction.\n",
                "2.   From the `last_hidden_state` of the feature extractor, choose the `[CLS]` embedding (first one). This embedding is used as the compressed representation of first and second sentences. During pre-training it is used  for classifying whether these two sentences follow one another, making it a good candidate for our task.\n",
                "3. `[CLS]` embedding is passed through a linear layer **that does not change the size of the embedding** and is passed through a tanh nonlinearity.\n",
                "4. The output of tanh is passed through a dropout layer, where the dropout probability is the same as the dropout probability used for the `distilbert` model used as feature extractor.\n",
                "5. The output of the previous stage is fed into another linear layer that shrinks the size of the embedding dimension to a quarter of the original size, e.g., if the embedding size is 12, the new embedding dimension is 3.\n",
                "6. The output is followed by another dropout layer (you can use the one from stage 4).\n",
                "7. Finally, a binary classifier is applied to determine the probability of sentence 1 being followed by sentence 2.\n",
                "8. the cross-entropy loss is used to compute the loss.\n",
                "\n",
                "**Hint:** Keep in mind that for a 4 choice system, you classify each of the four solutions independently. However, the final output should group the four logits together. For example, if input ids have the shape `[2, 4, 35]` (batch size=2, num choices=4, seq len=35), then the logits have the `[2, 4]` and labels have the dimension `[2, 1]`.\n",
                "\n"
            ]
        },
        {
            "cell_type": "code",
            "execution_count": null,
            "id": "KUZOp8o1Pb9X",
            "metadata": {
                "id": "KUZOp8o1Pb9X"
            },
            "outputs": [],
            "source": [
                "from transformers import DistilBertModel,BertConfig,DistilBertConfig,PretrainedConfig,PreTrainedModel,DistilBertPreTrainedModel\n",
                "from torch import nn\n",
                "\n",
                "class CustomMultipleChoice(DistilBertPreTrainedModel):\n",
                "    def __init__(self, config: PretrainedConfig):\n",
                "        super().__init__(config)\n",
                "        ###your code ###\n",
                "        self.distilbert =\n",
                "        self.dense =\n",
                "        self.activation =\n",
                "        self.dropout =\n",
                "        self.dense2 =\n",
                "        self.classifier =\n",
                "        ###your code ###\n",
                "\n",
                "\n",
                "    def forward(\n",
                "        self,\n",
                "        input_ids: Optional[torch.Tensor] = None,\n",
                "        attention_mask: Optional[torch.Tensor] = None,\n",
                "        labels: Optional[torch.Tensor] = None,\n",
                "    ):\n",
                "        \"\"\"\n",
                "        input_ids: input sentences converted to ids\n",
                "        attention_mask: the attention mask\n",
                "        labels:  Labels for computing the multiple choice classification loss. Indices should be in `[0, ...,num_choices-1]` where `num_choices` is the size of the second dimension of the input tensors.\n",
                "        \"\"\"\n",
                "\n",
                "        num_choices = input_ids.shape[1]\n",
                "\n",
                "        ###your code ###\n",
                "        input_ids =\n",
                "        attention_mask =\n",
                "\n",
                "\n",
                "\n",
                "        loss = None\n",
                "        if labels is not None:\n",
                "\n",
                "        ###your code ###\n",
                "        return {\"loss\":loss,\"logits\":reshaped_logits}\n"
            ]
        },
        {
            "cell_type": "markdown",
            "id": "IXFcGJQPgjil",
            "metadata": {
                "id": "IXFcGJQPgjil"
            },
            "source": [
                "Initialize the feature extractor with `distilbert-base-uncased` and create your custome model."
            ]
        },
        {
            "cell_type": "code",
            "execution_count": null,
            "id": "GHCT0HdYKk5p",
            "metadata": {
                "id": "GHCT0HdYKk5p"
            },
            "outputs": [],
            "source": [
                "from transformers import AutoConfig\n",
                "###your code ###\n",
                "config=\n",
                "model_custom =\n",
                "###your code ###"
            ]
        },
        {
            "cell_type": "code",
            "execution_count": null,
            "id": "_genDEZbgsJd",
            "metadata": {
                "id": "_genDEZbgsJd"
            },
            "outputs": [],
            "source": [
                "for name, param in model_custom.named_parameters():\n",
                "    if param.requires_grad and not name.startswith(\"distilbert.\"):\n",
                "        print(name, param.data.shape)"
            ]
        },
        {
            "cell_type": "markdown",
            "id": "yyD-ivMzh5P7",
            "metadata": {
                "id": "yyD-ivMzh5P7"
            },
            "source": [
                "We keep the same training arguments but change the directory in which we save the model logs, the directory in which we save the model output and the name of the run, to `custom_model`.\n",
                "\n"
            ]
        },
        {
            "cell_type": "code",
            "execution_count": null,
            "id": "aX5Jw-Eubo56",
            "metadata": {
                "id": "aX5Jw-Eubo56"
            },
            "outputs": [],
            "source": [
                "###your code ###\n",
                "\n",
                "\n",
                "###your code ###"
            ]
        },
        {
            "cell_type": "markdown",
            "id": "0sCoDrINiO0j",
            "metadata": {
                "id": "0sCoDrINiO0j"
            },
            "source": [
                "Initialize the trainer for training the custom model.The training should take around 30 min on Google Colab T4 GPU.\n"
            ]
        },
        {
            "cell_type": "code",
            "execution_count": null,
            "id": "s1_2hwKabo8p",
            "metadata": {
                "id": "s1_2hwKabo8p"
            },
            "outputs": [],
            "source": [
                "trainer =\n",
                "###your code ###\n",
                "\n",
                "###your code ###\n"
            ]
        },
        {
            "cell_type": "code",
            "execution_count": null,
            "id": "btobBRSZbo_O",
            "metadata": {
                "id": "btobBRSZbo_O"
            },
            "outputs": [],
            "source": [
                "trainer.train()# should take around 30 min on Colab T4 GPU"
            ]
        },
        {
            "cell_type": "markdown",
            "id": "B9Fi0ZZYjIdJ",
            "metadata": {
                "id": "B9Fi0ZZYjIdJ"
            },
            "source": [
                "Save the model in `custom_model/final_model`. Note that with the custom model, you need to save it without the help of the trainer. The trainer would save the configuration but since this model is not a registered Hugging Face model only the base model would be saved. Loading the model weights is also effected by this."
            ]
        },
        {
            "cell_type": "code",
            "execution_count": null,
            "id": "rvb3xo-ibpB9",
            "metadata": {
                "id": "rvb3xo-ibpB9"
            },
            "outputs": [],
            "source": [
                "###your code ###\n",
                "\n",
                "###your code ###"
            ]
        },
        {
            "cell_type": "markdown",
            "id": "UxU3fivlihOX",
            "metadata": {
                "id": "UxU3fivlihOX"
            },
            "source": [
                "#### ${\\color{red}{Comments\\ 2.3}}$\n",
                "\n",
                "${\\color{red}{⚠️Comments\\ begin⚠️}}$\n",
                "\n",
                "\n",
                "```\n",
                "cross-feedback comment section\n",
                "```\n",
                "\n",
                "\n",
                "${\\color{red}{⚠️Comments\\ end⚠️}}$"
            ]
        },
        {
            "cell_type": "markdown",
            "id": "A_M4MSb0kcBP",
            "metadata": {
                "id": "A_M4MSb0kcBP"
            },
            "source": [
                "### Subtask 4: Evaluation and Model Comparison"
            ]
        },
        {
            "cell_type": "markdown",
            "id": "4oO0XKbbmzzW",
            "metadata": {
                "id": "4oO0XKbbmzzW"
            },
            "source": [
                "Many times you do not perform the final evaluation right after training, but load the checkpoints and evaluate them on the fly. To this end, load the two models from  disk."
            ]
        },
        {
            "cell_type": "code",
            "execution_count": null,
            "id": "ptE1gxKwa843",
            "metadata": {
                "id": "ptE1gxKwa843"
            },
            "outputs": [],
            "source": [
                "from transformers import AutoModelForMultipleChoice,AutoConfig\n",
                "### your code ###\n",
                "model_hf =\n",
                "model_custom =\n",
                "### your code ###"
            ]
        },
        {
            "cell_type": "markdown",
            "id": "Am9mUOXHbwC9",
            "metadata": {
                "id": "Am9mUOXHbwC9"
            },
            "source": [
                "To evaluate the data we load the validation split using a data loader and our previously defined data collator. Note that although we had a test split we cannot use it, since there are no labels available for this split (you can check the data to confirm this)."
            ]
        },
        {
            "cell_type": "code",
            "execution_count": null,
            "id": "jhBq38xadGvA",
            "metadata": {
                "id": "jhBq38xadGvA"
            },
            "outputs": [],
            "source": [
                "from torch.utils.data import DataLoader\n",
                "import evaluate\n",
                "\n",
                "eval_dataloader = DataLoader(encoded_datasets[\"validation\"], batch_size=64, collate_fn=MultipleChoiceDataCollator(tokenizer))"
            ]
        },
        {
            "cell_type": "markdown",
            "id": "ctcpVXXrl8Wd",
            "metadata": {
                "id": "ctcpVXXrl8Wd"
            },
            "source": [
                "To make things easier, let's use the `evaluate` library from Hugging Face to compute the accuracy metric. Here we load `accuracy` from the `evaluate` library two times, one for the custom model and one for the Hugging Face model. Further, we put the models on eval mode. Complete the code for evaluation using the capabilities of the `evaluate` library to simultaneously compute the metric for both models.\n"
            ]
        },
        {
            "cell_type": "code",
            "execution_count": null,
            "id": "1AZcv5RQbfwq",
            "metadata": {
                "id": "1AZcv5RQbfwq"
            },
            "outputs": [],
            "source": [
                "from tqdm import tqdm\n",
                "device = torch.device(\"cuda\") if torch.cuda.is_available() else torch.device(\"cpu\")\n",
                "metric_dict={\"custom\":evaluate.load(\"accuracy\"),\"hf\":evaluate.load(\"accuracy\")} #use to compute accuracy\n",
                "models_dict= {\"custom\":model_custom,\"hf\":model_hf}# use to access models\n",
                "\n",
                "for name, model in models_dict.items():\n",
                "  model.to(device)\n",
                "  model.eval()\n",
                "\n",
                "for i,batch in tqdm(enumerate(eval_dataloader), total=len(eval_dataloader)):\n",
                "  ### your code ###\n",
                "  #evaluate on both model on each batch\n",
                "\n",
                "acc_hf=\n",
                "acc_custom\n",
                "  ### your code ###\n",
                "print(\"Hugging Face Model :\",acc_hf)\n",
                "print(\"Custom Model :\",acc_custom)"
            ]
        },
        {
            "cell_type": "markdown",
            "id": "HQC6grKnuSgZ",
            "metadata": {
                "id": "HQC6grKnuSgZ"
            },
            "source": [
                "#### ${\\color{red}{Comments\\ 2.4}}$\n",
                "\n",
                "${\\color{red}{⚠️Comments\\ begin⚠️}}$\n",
                "\n",
                "\n",
                "```\n",
                "cross-feedback comment section\n",
                "```\n",
                "\n",
                "\n",
                "${\\color{red}{⚠️Comments\\ end⚠️}}$"
            ]
        },
        {
            "cell_type": "markdown",
            "id": "_sO-H1PVMSsp",
            "metadata": {
                "id": "_sO-H1PVMSsp"
            },
            "source": [
                "## **Task 3: Encoder-Decoder Architecture** (5 + 2 + 2 + 5 = 14 points)"
            ]
        },
        {
            "cell_type": "markdown",
            "id": "W42O89DrMZNj",
            "metadata": {
                "id": "W42O89DrMZNj"
            },
            "source": [
                "We explored an encoder-based model (BERT) in the previous exercise. In this task, we look at another family of transformer architectures, the encoder-decoder. We use the [T5](https://arxiv.org/pdf/1910.10683.pdf) model, presented by Raffel et al.  T5 is an encoder-decoder architecture pre-trained on a multi-task mixture of unsupervised and supervised tasks. In this task, we set up a fine-tuning example for question answering using the [SQUAD](https://huggingface.co/datasets/squad) dataset. Since the actual fine-tuning is time-consuming and computational intensive for inference, we use an already pre-trained model. The main goal is to introduce you to the structure of the fine-tuning and its simplicity with the Hugging Face framework."
            ]
        },
        {
            "cell_type": "markdown",
            "id": "c-oSCvS6wwef",
            "metadata": {
                "id": "c-oSCvS6wwef"
            },
            "source": [
                "To fine-tune the BERT-based models, we usually add a task-specific head. On the other hand, T5 converts all NLP problems into a text-to-text format.  \n",
                "It is trained using teacher forcing, meaning that we require an input sequence and a corresponding target sequence.\n",
                "\n",
                "\n",
                "1.   The input sequence is fed to the model using `input_ids` from the tokenizer.\n",
                "2.   The target sequence is shifted to the right, i.e., prepended by a start-sequence token and fed to the decoder using the `decoder_input_ids` (input_ids of the encoded target sequence). The target sequence is appended by EOS (end of the sentence) to denote the end of a generation and corresponds to the `labels`.\n",
                "3. The task prefix defines what task is expected of T5. For example, we prepend the input sequence with `translate English to German: ` before encoding the input to tell the model to translate. T5 already has a set of pre-defined task prefixes, and it is best to stick to those since they were used during pre-training. With enough training data, you can also introduce your own custom task.\n"
            ]
        },
        {
            "cell_type": "markdown",
            "id": "sg6jO_SeznX3",
            "metadata": {
                "id": "sg6jO_SeznX3"
            },
            "source": [
                "In contrast to the encoder model, where only a single `max_length` is required, for encoder-decoder architectures, one typically defines a `max_source_length` and `max_target_length`, which determine the maximum length of the input and output sequences, respectively. We must also ensure that the padding ID of the `labels` is not taken into account by the loss function. This can be done by replacing them with `-100`, which is the `ignore_index` of the `CrossEntropyLoss`."
            ]
        },
        {
            "cell_type": "markdown",
            "id": "0zLQjAxlNzJ_",
            "metadata": {
                "id": "0zLQjAxlNzJ_"
            },
            "source": [
                "### Subtask 1: Data Processing"
            ]
        },
        {
            "cell_type": "markdown",
            "id": "7hx8LCNjBlvi",
            "metadata": {
                "id": "7hx8LCNjBlvi"
            },
            "source": [
                "We first start by loading the dataset from Hugging Face hub:"
            ]
        },
        {
            "cell_type": "code",
            "execution_count": null,
            "id": "FjujP1xsuQGX",
            "metadata": {
                "id": "FjujP1xsuQGX"
            },
            "outputs": [],
            "source": [
                "from datasets import load_dataset\n",
                "\n",
                "datasets_squad = load_dataset(\"squad\")\n",
                "datasets_squad"
            ]
        },
        {
            "cell_type": "code",
            "execution_count": null,
            "id": "x7VEY66uEEeY",
            "metadata": {
                "id": "x7VEY66uEEeY"
            },
            "outputs": [],
            "source": [
                "print(\"context ---->\" ,datasets_squad[\"train\"][0][\"context\"])\n",
                "print(\"question ---->\",datasets_squad[\"train\"][0][\"question\"])\n",
                "print(\"answers ---->\",datasets_squad[\"train\"][0][\"answers\"])"
            ]
        },
        {
            "cell_type": "markdown",
            "id": "5OrYB9xBByvj",
            "metadata": {
                "id": "5OrYB9xBByvj"
            },
            "source": [
                "Now let's load the needed pre-trained tokenizer for `t5-small`, which is the smallest T5 model. Set the maximum sequence length to `512`."
            ]
        },
        {
            "cell_type": "code",
            "execution_count": null,
            "id": "WwYjYXASMg_z",
            "metadata": {
                "id": "WwYjYXASMg_z"
            },
            "outputs": [],
            "source": [
                "import torch\n",
                "### your code ###\n",
                "from transformers import ...\n",
                "t5_tokenizer =\n",
                "### your code ###"
            ]
        },
        {
            "cell_type": "markdown",
            "id": "FvN50codiJXR",
            "metadata": {
                "id": "FvN50codiJXR"
            },
            "source": [
                "The next step is to pre-process the dataset using the tokenizer to convert the sequences to IDs and add the special tokens.\n",
                "T5 is based on the SentencePiece tokenizer, and the end of sentence token is denoted by `</s>`.\n",
                "Complete the function `add_eos_to_examples` to format the input and target sequence. Your input as `input_text` should have the format `question:{question_text} context:{context_text} <EOS_Token>` and your target as `target_text` should have the format `{answer_text} <EOS_Token>`."
            ]
        },
        {
            "cell_type": "code",
            "execution_count": null,
            "id": "xbisNi2-MYC2",
            "metadata": {
                "id": "xbisNi2-MYC2"
            },
            "outputs": [],
            "source": [
                "def add_eos_to_examples(example):\n",
                "    ### your code ###\n",
                "    example['input_text'] =\n",
                "    example['target_text'] =\n",
                "    ### your code ###\n",
                "    return example"
            ]
        },
        {
            "cell_type": "markdown",
            "id": "l1cI8qcCIcXM",
            "metadata": {
                "id": "l1cI8qcCIcXM"
            },
            "source": [
                "Use the `map` function to process the data, and do not set the `batched` argument."
            ]
        },
        {
            "cell_type": "code",
            "execution_count": null,
            "id": "Z7Q2TH_AIJDp",
            "metadata": {
                "id": "Z7Q2TH_AIJDp"
            },
            "outputs": [],
            "source": [
                "### your code ###\n",
                "encoded_squad =\n",
                "### your code ###"
            ]
        },
        {
            "cell_type": "code",
            "execution_count": null,
            "id": "FgqckdGNDWNp",
            "metadata": {
                "id": "FgqckdGNDWNp"
            },
            "outputs": [],
            "source": [
                "print(encoded_squad[\"train\"][0][\"input_text\"])\n",
                "print(encoded_squad[\"train\"][0][\"target_text\"])"
            ]
        },
        {
            "cell_type": "markdown",
            "id": "UqK9_TtLFZrU",
            "metadata": {
                "id": "UqK9_TtLFZrU"
            },
            "source": [
                "Complete the function `convert_to_features` that takes in the examples from the dataset and tokenizes them using the T5 tokenizer. However, our answers in this dataset are relatively short and do not require `512` tokens, in contrast to the input sequence which is a combination of question and context paragraphs and is usually long. To this end, we want to truncate the input sequence at `512` and the target sequence at `16`. If any input or target is smaller than the specified length, make sure you pad them. Finally, convert everything to PyTorch tensors to be easily used by the data collator and place them in the dictionary `encodings`."
            ]
        },
        {
            "cell_type": "code",
            "execution_count": null,
            "id": "4yPglRvTEg_p",
            "metadata": {
                "id": "4yPglRvTEg_p"
            },
            "outputs": [],
            "source": [
                "def convert_to_features(examples):\n",
                "    ### your code ###\n",
                "\n",
                "\n",
                "    encodings = {\n",
                "        'input_ids': ....\n",
                "    }\n",
                "    ### your code ###\n",
                "    return encodings"
            ]
        },
        {
            "cell_type": "markdown",
            "id": "UI_tQfeNIgi7",
            "metadata": {
                "id": "UI_tQfeNIgi7"
            },
            "source": [
                "Use the `map` function to process the data."
            ]
        },
        {
            "cell_type": "code",
            "execution_count": null,
            "id": "gYm6RZGF19xY",
            "metadata": {
                "id": "gYm6RZGF19xY"
            },
            "outputs": [],
            "source": [
                "### your code ###\n",
                "encoded_squad =\n",
                "### your code ###"
            ]
        },
        {
            "cell_type": "code",
            "execution_count": null,
            "id": "gaIppB0A2sxX",
            "metadata": {
                "id": "gaIppB0A2sxX"
            },
            "outputs": [],
            "source": [
                "encoded_squad #new columns are added"
            ]
        },
        {
            "cell_type": "markdown",
            "id": "iMhQ6_vpIlUC",
            "metadata": {
                "id": "iMhQ6_vpIlUC"
            },
            "source": [
                "Interestingly, although we specified PyTorch tensors as output, the type of the `input_ids` is still a list. To remedy this problem, you need to explicitly set the type of the column that contains PyTorch tensors."
            ]
        },
        {
            "cell_type": "code",
            "execution_count": null,
            "id": "gaU31GYeIlsH",
            "metadata": {
                "id": "gaU31GYeIlsH"
            },
            "outputs": [],
            "source": [
                "type(encoded_squad[\"train\"][0][\"input_ids\"])"
            ]
        },
        {
            "cell_type": "code",
            "execution_count": null,
            "id": "depIPwgSIntY",
            "metadata": {
                "id": "depIPwgSIntY"
            },
            "outputs": [],
            "source": [
                "### your code ###\n",
                "\n",
                "### your code ###\n",
                "type(encoded_squad[\"train\"][0][\"input_ids\"])"
            ]
        },
        {
            "cell_type": "code",
            "execution_count": null,
            "id": "kcZ1Jg8kI9UN",
            "metadata": {
                "id": "kcZ1Jg8kI9UN"
            },
            "outputs": [],
            "source": [
                "print(\"Shape of the input_ids:\",encoded_squad[\"train\"][0][\"input_ids\"].shape)\n",
                "print(\"Shape of the target_ids:\",encoded_squad[\"train\"][0][\"target_ids\"].shape)"
            ]
        },
        {
            "cell_type": "markdown",
            "id": "XpYHaNlpOCMd",
            "metadata": {
                "id": "XpYHaNlpOCMd"
            },
            "source": [
                "The final step in the data processing is the creation of the data collator to\n",
                "prepare `labels` from `target_ids` and return examples with keys as expected by the forward method of T5.\n",
                "This is necessary because the trainer directly passes this dict as argument to the model so you need to check the input of T5 and rename the column based on that.\n",
                "`input_ids`, `target_ids`, `attention_mask`, and `target_attention_mask` need to be stacked in a batch and the pad tokens in the target need to be set to `-100` to avoid loss computation."
            ]
        },
        {
            "cell_type": "code",
            "execution_count": null,
            "id": "RQzQ50R326cL",
            "metadata": {
                "id": "RQzQ50R326cL"
            },
            "outputs": [],
            "source": [
                "from dataclasses import dataclass\n",
                "from transformers import DataCollator\n",
                "from transformers.tokenization_utils_base import PreTrainedTokenizerBase, PaddingStrategy\n",
                "from typing import Optional, Union\n",
                "@dataclass\n",
                "class T2TDataCollator:\n",
                "    tokenizer: PreTrainedTokenizerBase\n",
                "    padding: Union[bool, str, PaddingStrategy] = True\n",
                "    max_length: Optional[int] = None\n",
                "    pad_to_multiple_of: Optional[int] = None\n",
                "    def __call__(self, batch):\n",
                "\n",
                "      ### your code ###\n",
                "\n",
                "\n",
                "        feature_dict=\n",
                "        return feature_dict\n",
                "      ### your code ###\n"
            ]
        },
        {
            "cell_type": "code",
            "execution_count": null,
            "id": "zXOwBe1bPCRJ",
            "metadata": {
                "id": "zXOwBe1bPCRJ"
            },
            "outputs": [],
            "source": [
                "accepted_keys = ['input_text', 'target_text', 'input_ids', 'attention_mask', 'target_ids', 'target_attention_mask']\n",
                "features = [{k: v for k, v in encoded_squad[\"train\"][i].items() if k in accepted_keys} for i in range(2)]\n",
                "batch=T2TDataCollator(t5_tokenizer)(features)\n",
                "print(batch[\"input_ids\"].shape)\n",
                "print(batch[\"attention_mask\"].shape)\n",
                "print(batch[\"labels\"].shape)"
            ]
        },
        {
            "cell_type": "markdown",
            "id": "gb9KZjhsu_5N",
            "metadata": {
                "id": "gb9KZjhsu_5N"
            },
            "source": [
                "#### ${\\color{red}{Comments\\ 3.1}}$\n",
                "\n",
                "${\\color{red}{⚠️Comments\\ begin⚠️}}$\n",
                "\n",
                "\n",
                "```\n",
                "cross-feedback comment section\n",
                "```\n",
                "\n",
                "\n",
                "${\\color{red}{⚠️Comments\\ end⚠️}}$"
            ]
        },
        {
            "cell_type": "markdown",
            "id": "ktvtcVh1N6l0",
            "metadata": {
                "id": "ktvtcVh1N6l0"
            },
            "source": [
                "### Subtask 2: Training"
            ]
        },
        {
            "cell_type": "markdown",
            "id": "mnMvSwtbV2GC",
            "metadata": {
                "id": "mnMvSwtbV2GC"
            },
            "source": [
                "For training and inference, we can use `T5ForConditionalGeneration`, which includes the language modeling head on top of the decoder. Load the `t5-small` model."
            ]
        },
        {
            "cell_type": "code",
            "execution_count": null,
            "id": "aO4NNyEFKXap",
            "metadata": {
                "id": "aO4NNyEFKXap"
            },
            "outputs": [],
            "source": [
                "### your code ###\n",
                "from transformers import ...\n",
                "t5 =\n",
                "### your code ###"
            ]
        },
        {
            "cell_type": "markdown",
            "id": "rE9j5o_iBLOL",
            "metadata": {
                "id": "rE9j5o_iBLOL"
            },
            "source": [
                "Next, similar to the previous task we initiate training arguments. Note that this time we are using a `Seq2SeqTrainingArguments` for a `Seq2SeqTrainer`. Set the parameters for training as follows:\n",
                "\n",
                "\n",
                "*   T5 doesn't support GPU and TPU evaluation for now, so we only focus on training. You do not need to pass any parameters for evaluation setup.\n",
                "*   The output directory should be named `t5-squad`.\n",
                "* The T5 models need a slightly higher learning rate than the default one set in the `Trainer` when using the `AdamW` optimizer. Set the learning rate to `1e-4` and the regularization parameter to `0.01`.\n",
                "* Random seed should be `77`, and we train for a maximum of `200` steps and save a checkpoint every `100` steps. A complete training of the T5 model requires far more than `200` steps, however, that is beyond the scope of this assignment.\n",
                "* T5 models require a large batch size. The default model was trained with a batch size of `128`. However, we cannot fit that into a single GPU, therefore we use gradient accumulation. Set the batch size to `32` and choose the gradient accumulation step to reach the effective batch size of `128`.\n",
                "* Make sure that your trainer does not remove unused columns during training, as this will cause a runtime error later on.\n",
                "\n",
                "\n",
                "**Gradient accumulation:** is a technique that simulates a larger batch size by accumulating gradients from multiple small batches before performing a weight update.\n",
                "\n"
            ]
        },
        {
            "cell_type": "code",
            "execution_count": null,
            "id": "UiWbhXjk5Mr0",
            "metadata": {
                "id": "UiWbhXjk5Mr0"
            },
            "outputs": [],
            "source": [
                "from transformers import ...\n",
                "\n",
                "training_args = ### your code ###\n",
                "\n",
                "\n",
                "    ### your code ###\n"
            ]
        },
        {
            "cell_type": "markdown",
            "id": "AEOvujcduYjG",
            "metadata": {
                "id": "AEOvujcduYjG"
            },
            "source": [
                "Once again make sure that you are using GPU before running the cell below.\n",
                "Initilize your `Seq2SeqTrainer` with inputs necessary for training. The training should take around 15 min on Google Colab T4 GPU.\n"
            ]
        },
        {
            "cell_type": "code",
            "execution_count": null,
            "id": "J_Vb3za_4kBo",
            "metadata": {
                "id": "J_Vb3za_4kBo"
            },
            "outputs": [],
            "source": [
                "# Initialize our Trainer\n",
                "from transformers import ...\n",
                "trainer =\n",
                "    ### your code ###\n",
                "\n",
                "    ### your code ###\n"
            ]
        },
        {
            "cell_type": "code",
            "execution_count": null,
            "id": "8GDPeyPiBIEX",
            "metadata": {
                "id": "8GDPeyPiBIEX"
            },
            "outputs": [],
            "source": [
                "trainer.train()"
            ]
        },
        {
            "cell_type": "markdown",
            "id": "1-gKhqSpu7Uz",
            "metadata": {
                "id": "1-gKhqSpu7Uz"
            },
            "source": [
                "#### ${\\color{red}{Comments\\ 3.2}}$\n",
                "\n",
                "${\\color{red}{⚠️Comments\\ begin⚠️}}$\n",
                "\n",
                "\n",
                "```\n",
                "cross-feedback comment section\n",
                "```\n",
                "\n",
                "\n",
                "${\\color{red}{⚠️Comments\\ end⚠️}}$"
            ]
        },
        {
            "cell_type": "markdown",
            "id": "AQ9jj65UvER1",
            "metadata": {
                "id": "AQ9jj65UvER1"
            },
            "source": [
                "### Subtask 3: Inference"
            ]
        },
        {
            "cell_type": "markdown",
            "id": "bkDgQponWOs4",
            "metadata": {
                "id": "bkDgQponWOs4"
            },
            "source": [
                "Our trained model has seen far too few instances to make a coherent prediction. To this end, we load an already trained checkpoint from Hugging Face and perform inference. Load this [model](https://huggingface.co/mrm8488/t5-base-finetuned-squadv2) and the respective tokenizer. Note that we are loading a `base` model that is slightly larger than `t5-small`."
            ]
        },
        {
            "cell_type": "code",
            "execution_count": null,
            "id": "lW8Wss36vV20",
            "metadata": {
                "id": "lW8Wss36vV20"
            },
            "outputs": [],
            "source": [
                "from transformers import AutoModelForSeq2SeqLM, AutoTokenizer\n",
                "### your code ###\n",
                "t5_tokenizer =\n",
                "t5_model =\n",
                "### your code ###"
            ]
        },
        {
            "cell_type": "markdown",
            "id": "azC95xxzxj84",
            "metadata": {
                "id": "azC95xxzxj84"
            },
            "source": [
                "At inference time for T5, it is recommended to use the `generate()` function. This auto-regressively generates the decoder output. Complete the code for the `get_answer` function, which gives a model, a tokenizer, and a question and context pair, and generates the answer from the context given. The output should be the answer to the given question in natural text (without the special tokens).\n",
                "\n",
                "**Hint:** Many of the steps are similar to how you prepared your input data for the model."
            ]
        },
        {
            "cell_type": "code",
            "execution_count": null,
            "id": "_Run50fvWPcv",
            "metadata": {
                "id": "_Run50fvWPcv"
            },
            "outputs": [],
            "source": [
                "def get_answer(tokenizer,model, question, context):\n",
                "  ### your code ###\n",
                "  input_text =\n",
                "  features =\n",
                "\n",
                "\n",
                "  answer=\n",
                "  ### your code ###\n",
                "  return answer"
            ]
        },
        {
            "cell_type": "markdown",
            "id": "F6Fq37I3yMeQ",
            "metadata": {
                "id": "F6Fq37I3yMeQ"
            },
            "source": [
                "Let's try it with an example."
            ]
        },
        {
            "cell_type": "code",
            "execution_count": null,
            "id": "09znSykkdkk0",
            "metadata": {
                "id": "09znSykkdkk0"
            },
            "outputs": [],
            "source": [
                "context = \"Sarah has joined NLP for transformers class and is working on her research project with the support of Harry.\"\n",
                "question = \"Who is supporting Sarah?\"\n",
                "\n",
                "get_answer(t5_tokenizer,t5_model,question, context)###your answer should be \"Harry\""
            ]
        },
        {
            "cell_type": "code",
            "execution_count": null,
            "id": "LQNpgTyazjge",
            "metadata": {
                "id": "LQNpgTyazjge"
            },
            "outputs": [],
            "source": [
                "context = \"TPUs are more power efficient in comparison to GPUs making them a better choice for machine learning projects.\"\n",
                "question = \"What is better for machine learning projects?\"\n",
                "\n",
                "get_answer(t5_tokenizer,t5_model,question, context)###your answer should be \"TPUs\""
            ]
        },
        {
            "cell_type": "markdown",
            "id": "sIz0JuwzGEFN",
            "metadata": {
                "id": "sIz0JuwzGEFN"
            },
            "source": [
                "#### ${\\color{red}{Comments\\ 3.3}}$\n",
                "\n",
                "${\\color{red}{⚠️Comments\\ begin⚠️}}$\n",
                "\n",
                "\n",
                "```\n",
                "cross-feedback comment section\n",
                "```\n",
                "\n",
                "\n",
                "${\\color{red}{⚠️Comments\\ end⚠️}}$"
            ]
        },
        {
            "cell_type": "markdown",
            "id": "i9LfBp2eKqYc",
            "metadata": {
                "id": "i9LfBp2eKqYc"
            },
            "source": [
                "### Subtask 4: T5 Paper"
            ]
        },
        {
            "cell_type": "markdown",
            "id": "NRVp_0KaKvN4",
            "metadata": {
                "id": "NRVp_0KaKvN4"
            },
            "source": [
                "To answer questions of the final subtask you need to have a general overview of the [T5 paper](https://arxiv.org/pdf/1910.10683.pdf)."
            ]
        },
        {
            "cell_type": "markdown",
            "id": "EwoEHJ1eMSVr",
            "metadata": {
                "id": "EwoEHJ1eMSVr"
            },
            "source": [
                "\n",
                "\n",
                "1.   Describe what a “text-to-text format\" is and how T5 processes input and output for text classification tasks? What are the possible complications with a predefined set of classes?\n",
                "2.   Describe the \"masked language modeling\" and \"word dropout\" unsupervised objective with sentinel tokens. Give an example of how this would look in a single sentence.\n",
                "3. Explain \"fully-visible\", \"causal\" and \"causal masking with prefix\" masking.\n",
                "4. Briefly describe \"adapter layers\" and \"gradual unfreezing\" as methods for fine-tuning on fewer parameters.\n",
                "\n"
            ]
        },
        {
            "cell_type": "markdown",
            "id": "gIi_WZuvMWUb",
            "metadata": {
                "id": "gIi_WZuvMWUb"
            },
            "source": [
                "**Answer**\n",
                "\n",
                "`\n",
                "Enter your answer here\n",
                "`"
            ]
        },
        {
            "cell_type": "markdown",
            "id": "rIf7G01tkc4u",
            "metadata": {
                "id": "rIf7G01tkc4u"
            },
            "source": [
                "**Answer**\n",
                "\n",
                "`\n",
                "Enter your answer here\n",
                "`"
            ]
        },
        {
            "cell_type": "markdown",
            "id": "iC-WBUKQkf6r",
            "metadata": {
                "id": "iC-WBUKQkf6r"
            },
            "source": [
                "**Answer**\n",
                "\n",
                "`\n",
                "Enter your answer here\n",
                "`"
            ]
        },
        {
            "cell_type": "markdown",
            "id": "L2Mo5YElkhtI",
            "metadata": {
                "id": "L2Mo5YElkhtI"
            },
            "source": [
                "**Answer**\n",
                "\n",
                "`\n",
                "Enter your answer here\n",
                "`"
            ]
        },
        {
            "cell_type": "markdown",
            "id": "WiYns91wr2P5",
            "metadata": {
                "id": "WiYns91wr2P5"
            },
            "source": [
                "#### ${\\color{red}{Comments\\ 3.4}}$\n",
                "\n",
                "${\\color{red}{⚠️Comments\\ begin⚠️}}$\n",
                "\n",
                "\n",
                "```\n",
                "cross-feedback comment section\n",
                "```\n",
                "\n",
                "\n",
                "${\\color{red}{⚠️Comments\\ end⚠️}}$"
            ]
        }
    ],
    "metadata": {
        "accelerator": "GPU",
        "colab": {
            "gpuType": "T4",
            "provenance": []
        },
        "kernelspec": {
            "display_name": "Python 3 (ipykernel)",
            "language": "python",
            "name": "python3"
        },
        "language_info": {
            "codemirror_mode": {
                "name": "ipython",
                "version": 3
            },
            "file_extension": ".py",
            "mimetype": "text/x-python",
            "name": "python",
            "nbconvert_exporter": "python",
            "pygments_lexer": "ipython3",
            "version": "3.9.18"
        }
    },
    "nbformat": 4,
    "nbformat_minor": 5
}
