{
  "cells": [
    {
      "cell_type": "markdown",
      "id": "be9f7653",
      "metadata": {
        "id": "be9f7653"
      },
      "source": [
        "**Heidelberg University**\n",
        "\n",
        "**Data Science  Group**\n",
        "    \n",
        "Prof. Dr. Michael Gertz  \n",
        "\n",
        "Ashish Chouhan, Satya Almasian, John Ziegler, Jayson Salazar, Nicolas Reuter\n",
        "    \n",
        "December 4, 2023\n",
        "    \n",
        "Natural Language Processing with Transformers\n",
        "\n",
        "Winter Semster 2023/2024     \n",
        "***"
      ]
    },
    {
      "cell_type": "markdown",
      "id": "258e9648",
      "metadata": {
        "id": "258e9648"
      },
      "source": [
        "# **Assignment 3: “Transformers”**\n",
        "**Due**: Monday, January 8, 2024, 2pm, via [Moodle](https://moodle.uni-heidelberg.de/course/view.php?id=19251)\n",
        "\n"
      ]
    },
    {
      "cell_type": "markdown",
      "id": "fc27ad9e",
      "metadata": {
        "id": "fc27ad9e"
      },
      "source": [
        "### **Submission Guidelines**\n",
        "\n",
        "- Solutions need to be uploaded as a **single** Jupyter notebook. You will find several pre-filled code segments in the notebook, your task is to fill in the missing cells.\n",
        "- For the written solution, use LaTeX in markdown inside the same notebook. Do **not** hand in a separate file for it.\n",
        "- Download the .zip file containing the dataset but do **not** upload it with your solution.\n",
        "- It is sufficient if one person per group uploads the solution to Moodle, but make sure that the full names of all team members are given in the notebook.\n",
        "\n",
        "***"
      ]
    },
    {
      "cell_type": "markdown",
      "id": "HETm7VsBkmLq",
      "metadata": {
        "id": "HETm7VsBkmLq"
      },
      "source": [
        "## **Task 1: Diving into Attention** (3 + 4 + 4 + 1 = 12 points)"
      ]
    },
    {
      "cell_type": "markdown",
      "id": "0ODkKBIRkrfe",
      "metadata": {
        "id": "0ODkKBIRkrfe"
      },
      "source": [
        "In this task, you work with self-attention equations and find out why multi-head attention is preferable to single-head attention.\n",
        "\n",
        "Recall the equation of attention on slide 5-9 to compute self-attention on a series of input tokens. We simplify the formula by focusing on a single query vector $q \\in R^d$, value vectors ($\\{ v_1,v_2,...,v_i \\},v_i \\in R^d$), and key vectors ($\\{ k_1,k_2,...,k_i \\},k_i \\in R^d$). We then have\n",
        "\n",
        "$$\n",
        "a_i=\\frac{exp(q^Tk_i)}{\\Sigma^n_{j=1}exp(q^Tk_j)}\n",
        "$$\n",
        "\n",
        "$$\n",
        " o= \\Sigma^n_{i=1} a_i v_i\n",
        "$$\n",
        "\n",
        "with $a_i$ being the attention weight for query $q$ with respect to key $k_i$. Then the output $o$ is the new representation for the query token as a weighted average of value vectors with weights $a=\\{ a_1,a_2,...,a_i \\},a_i \\in R^d$.\n",
        "Answer the following questions with the help of the equations and the intuition behind attention that you learned in the class:\n",
        "\n"
      ]
    },
    {
      "cell_type": "markdown",
      "id": "MRwxqsMVodDt",
      "metadata": {
        "id": "MRwxqsMVodDt"
      },
      "source": [
        "### Subtask 1: Copying  \n",
        "\n",
        "1.   Explain why $a$ can be interpreted as a categorical distribution.\n",
        "2.   This distribution is typically diffuse, where the mass is spread out between different values of $a_i$. Describe a scenario in which the categorical distribution puts all the weight on a single element, e.g., $a_j \\gg \\Sigma_{j\\neq i}a_i$. What are the conditions on key and/or query for this to happen?\n",
        "3. In this case of a single large $a$, what would the output $c$ look like and what it means intuitively?\n",
        "\n",
        "In attention, it is easy to **copy** a value vector $v_i$ to the output $o$.\n",
        "\n",
        "\n",
        "\n"
      ]
    },
    {
      "cell_type": "markdown",
      "id": "Km0X1VPoqgrt",
      "metadata": {
        "id": "Km0X1VPoqgrt"
      },
      "source": [
        "**Answer**"
      ]
    },
    {
      "cell_type": "markdown",
      "id": "98980192",
      "metadata": {
        "id": "98980192"
      },
      "source": [
        "1. The vector $a = (a_1, ..., a_d)$ is the outcome of a softmax function applied to the input vector $(q \\cdot k_1, ..., q \\cdot k_d)$. Thus, $a$ has the properties of a categorical distribution, namely:\n",
        "- $a_i \\in [0,1]$ for each $i \\in \\{1, ..., d\\}$.\n",
        "- $\\Sigma_{i=1}^da_i=1$.\n",
        "Each component $a_i$ weights the importance of the corresponding value $v_i$ to the outcome $o$.\n",
        "\n",
        "2. Consider the following scenario where the input sequence to the self-attention mechanism would be an enumeration like \"Chestnut, pine, willow, oak, papaya\" and one would like to compute the attention weight for \"papaya\". Note that all words except \"papaya\" represent types of trees, whereas \"papaya\" is only mistakenly considered a tree, so it does not fit the enumeration. Thus, the query associated with \"papaya\" would most probably only match the key associated with \"papaya\". This corresponds to the described case where $a_j \\gg \\Sigma_{j\\neq i}a_i$, the index $j$ being the one associated with \"papaya\".\n",
        "\n",
        "    The categorical distribution puts all the weight on one element typically when the input sequence contains a token (in the above case a word) which is unrelated to any other token from the input sequence. Thus, the query corresponding to this singular token matches the key associated to the same token and does not match the keys associated to the other tokens.\n",
        "\n",
        "3. The output $c$ would be mainly influenced by the value associated to this large a, so it would almost be a copy of this value.\n"
      ]
    },
    {
      "cell_type": "markdown",
      "id": "NK-2Scv8qqYV",
      "metadata": {
        "id": "NK-2Scv8qqYV"
      },
      "source": [
        "#### ${\\color{red}{Comments\\ 1.1}}$\n",
        "\n",
        "${\\color{red}{⚠️Comments\\ begin⚠️}}$\n",
        "\n",
        "\n",
        "```\n",
        "- The first answer is identical with the sample solution, by refering to the properties of softmax, which is categorical itself. (1 Point)\n",
        "- The example is less mathematical than the sample solution but the example still should be correct and includes the correct properties for the key/query to focus only on one key (1 Point)\n",
        "- Same answer as in the sample solution but in other words (1 Point)\n",
        "\n",
        "✅ Point distribution ✅\n",
        "3/3 Points\n",
        "```\n",
        "\n",
        "\n",
        "${\\color{red}{⚠️Comments\\ end⚠️}}$"
      ]
    },
    {
      "cell_type": "markdown",
      "id": "YmWxycPF15kM",
      "metadata": {
        "id": "YmWxycPF15kM"
      },
      "source": [
        "### Subtask 2: Averaging\n"
      ]
    },
    {
      "cell_type": "markdown",
      "id": "WFKra56Q15mq",
      "metadata": {
        "id": "WFKra56Q15mq"
      },
      "source": [
        "Instead of focusing on just one value vector $v_j$, the Transformer model can incorporate information from multiple inputs. Consider the situation where we want to incorporate information from two value vectors $v_b$ and $v_c$ with keys $k_b$ and $k_c$. In machine learning one of the ways to combine this information is through averaging of vectors $o= \\frac{1}{2}(v_b+v_c)$.  It might seem hard to extract information about the original vectors $v_b$ and $v_c$ from the resulting average. But under certain conditions, one can do so. In this subtask, we look at the following cases:\n",
        "\n",
        "1. Suppose we know the following:\n",
        "\n",
        "\n",
        "* $v_b$ lies in a subspace $B$ formed by the $m$ basis vectors $\\{b_1, b_2, .. , b_m\\}$, while $v_c$ lies in a subspace $C$ formed by the $p$ basis vectors $\\{c_1, c_2, . . . , c_p\\}$ (This means that any $v_b$ and $v_c$ can be expressed as a linear combination of their basis vectors).\n",
        "*   All basis vectors have the norm 1 and are orthogonal to each other.\n",
        "*   The two subspaces $B$ and $C$ are orthogonal, meaning $b_j^Tc_k=0$ for all $j$ and $k$.\n",
        "* Given that $\\{b_1, b_2, .. , b_m\\}$ are both orthogonal and form a basis for $v_b$, we know that there exists some $d_1, ..., d_m$ such that $v_b=d_1 b_1+d_2 b_2+...+d_m b_m$. Use these $d\\text{s}$ to solve this task.\n",
        "\n",
        "Using the basis vectors $\\{b_1, b_2, .. , b_m\\}$, construct a matrix $M$ such that for arbitrary vectors $v_b$ and $v_c$ with the given conditions, we can use $M$ to extract $v_b$ from the sum of the vector $s = v_b + v_c$. In other words, construct an $M$ such that  $ Ms = v_b$ holds.\n",
        "\n",
        "\n",
        "2. If we assume that\n",
        "* all key vectors are orthogonal, i.e., $k_i^Tk_j=0$ for all $i \\neq j$, and\n",
        "* all key vectors have the norm 1.\n",
        "\n",
        "Find an expression for the query vector $q$ such that $o \\approx \\frac{1}{2}(v_b+v_c)$. Justify your answer.\n",
        "\n",
        "**Hint:** Use your finding in subtask 1 to solve part 2.\n",
        "\n",
        "**Hint:** If the norm of a vector $x$ is 1, then $x^Tx=1$\n",
        "\n",
        "**Hint:** Start with writing $v_b$ and $v_c$ as the linear combination of the bases.\n"
      ]
    },
    {
      "cell_type": "markdown",
      "id": "UdPaWhCzTxKT",
      "metadata": {
        "id": "UdPaWhCzTxKT"
      },
      "source": [
        "**Answer**"
      ]
    },
    {
      "cell_type": "markdown",
      "id": "uDB4aKn0Us4H",
      "metadata": {
        "id": "uDB4aKn0Us4H"
      },
      "source": [
        "1. Let $M := A \\cdot A^T$ where $A$ is a matrix with column $i$ equal to the vector $b_i$ for every $i \\in \\{1, ..., m\\}$.\n",
        "\n",
        "    $A =\n",
        "\\begin{bmatrix}\n",
        "    | & | & ... & | \\\\\n",
        "    b_1 & b_2 & ... & b_m\\\\\n",
        "    | & | & ... & | \\\\\n",
        "\\end{bmatrix}\n",
        "$\n",
        "and\n",
        "$M =\n",
        "\\begin{bmatrix}\n",
        "    | & | & ... & | \\\\\n",
        "    b_1 & b_2 & ... & b_m\\\\\n",
        "    | & | & ... & | \\\\\n",
        "\\end{bmatrix}\n",
        "\\cdot\n",
        "\\begin{bmatrix}\n",
        "    – & b_1^T & – \\\\\n",
        "    – & b_2^T & – \\\\\n",
        "    \\vdots & \\vdots & \\vdots \\\\\n",
        "    – & b_m^T & – \\\\\n",
        "\\end{bmatrix}\n",
        "$\n",
        "\n",
        "We will now show that $Ms=v_b$.\n",
        "\n",
        "First, $Mv_c=AA^Tv_c$ and we know that $v_c = g_1c_1 + ... + g_pc_p$ for some scalars $g_1, ..., g_p$. Consider only:\n",
        "\n",
        "$\n",
        "A^Tv_c =\n",
        "\\begin{bmatrix}\n",
        "    – & b_1^T & – \\\\\n",
        "    – & b_2^T & – \\\\\n",
        "    \\vdots & \\vdots & \\vdots \\\\\n",
        "    – & b_m^T & – \\\\\n",
        "\\end{bmatrix}\n",
        "\\cdot\n",
        "\\Sigma_{i=1}^pg_ic_i =\n",
        "\\Sigma_{i=1}^pg_i\n",
        "\\begin{bmatrix}\n",
        "    – & b_1^T & – \\\\\n",
        "    – & b_2^T & – \\\\\n",
        "    \\vdots & \\vdots & \\vdots \\\\\n",
        "    – & b_m^T & – \\\\\n",
        "\\end{bmatrix}\n",
        "c_i =\n",
        "\\Sigma_{i=1}^pg_i\n",
        "\\begin{bmatrix}\n",
        "    b_1^T \\cdot c_i\\\\\n",
        "    b_2^T \\cdot c_i\\\\\n",
        "    \\vdots \\\\\n",
        "    b_m^T \\cdot c_i\\\\\n",
        "\\end{bmatrix} = 0\n",
        "$\n",
        "\n",
        "Hence $Mv_c=0$. We show that $Mv_b=v_b$. One can easily see that:\n",
        "$\n",
        "A^Tv_b =\n",
        "\\begin{bmatrix}\n",
        "    – & b_1^T & – \\\\\n",
        "    – & b_2^T & – \\\\\n",
        "    \\vdots & \\vdots & \\vdots \\\\\n",
        "    – & b_m^T & – \\\\\n",
        "\\end{bmatrix}\n",
        "\\cdot\n",
        "\\Sigma_{i=1}^md_ib_i =\n",
        "\\begin{bmatrix}\n",
        "    d_1 \\\\\n",
        "    d_2 \\\\\n",
        "    \\vdots \\\\\n",
        "    d_m\n",
        "\\end{bmatrix}\n",
        "$\n",
        "\n",
        "Then:\n",
        "$\n",
        "Mv_b = AA^Tv_b =\n",
        "\\begin{bmatrix}\n",
        "    | & | & ... & | \\\\\n",
        "    b_1 & b_2 & ... & b_m\\\\\n",
        "    | & | & ... & | \\\\\n",
        "\\end{bmatrix}\n",
        "\\cdot\n",
        "\\begin{bmatrix}\n",
        "    d_1 \\\\\n",
        "    d_2 \\\\\n",
        "    \\vdots \\\\\n",
        "    d_m\n",
        "\\end{bmatrix} =\n",
        "\\Sigma_{i=1}^md_ib_i = v_b\n",
        "$\n",
        "\n",
        "2. $o \\approx \\frac{1}{2}(v_b+v_c)$ means that $a_b \\approx \\frac{1}{2}$ and  $a_c \\approx \\frac{1}{2}$. This would be the case if the following holds for the chosen query: $k_b^Tq \\approx k_c^Tq >> k_i^Tq$ for all $i \\neq b$ and $i \\neq c$.\n",
        "\n",
        "    To maximize the two dot products, let $\\alpha >> 0$ and let $q = \\alpha(k_b + k_c)$.\n",
        "\n",
        "    Due to the orthogonality of the keys, note that: $k_b^Tq=k_c^Tq=\\alpha, k_i^Tq=0$ for all $i \\neq b$ and $i \\neq c$.\n",
        "\n",
        "    Hence, $a_b=a_c=\\frac{exp(\\alpha)}{n-2+2exp(\\alpha)} \\approx \\frac{exp(\\alpha)}{2exp(\\alpha)} \\approx \\frac{1}{2}$.\n"
      ]
    },
    {
      "cell_type": "markdown",
      "id": "5poTWvSxUoc3",
      "metadata": {
        "id": "5poTWvSxUoc3"
      },
      "source": [
        "#### ${\\color{red}{Comments\\ 1.2}}$\n",
        "\n",
        "${\\color{red}{⚠️Comments\\ begin⚠️}}$\n",
        "\n",
        "\n",
        "```\n",
        "1. The checks and general computation/proof ideas are correct, but the endresult (value for M) is incorrect since:\n",
        "```\n",
        "$M=B^T$ and not $M=B \\cdot B^T$\n",
        "```\n",
        "(1.5 / 2 Points)\n",
        "\n",
        "2.  The general idea and the computations align with the sample solution. The result is also identical, juts with other variable names. \n",
        "\n",
        "(2 / 2 Points)\n",
        "\n",
        "✅ Point distribution ✅\n",
        "3.5 / 4 Points\n",
        "\n",
        "\n",
        "```\n",
        "\n",
        "${\\color{red}{⚠️Comments\\ end⚠️}}$"
      ]
    },
    {
      "cell_type": "markdown",
      "id": "imqOTai0bxuA",
      "metadata": {
        "id": "imqOTai0bxuA"
      },
      "source": [
        "### Subtask 3: Drawbacks of Single-head Attention"
      ]
    },
    {
      "cell_type": "markdown",
      "id": "0lObCVx7bx3q",
      "metadata": {
        "id": "0lObCVx7bx3q"
      },
      "source": [
        "You might have wondered why we need multi-heads for attention. In this subtask, we look at some of the drawbacks of having a single head attention. As shown in the previous subtask, it is possible for single head attention to focus equally on two values. The same can apply to any subset of values, which therefor can become problematic.\n",
        "\n",
        "Consider a set of key vectors $\\{ k_1,k_2,...,k_n \\}$, randomly sampled from a normal distribution with a known mean value of $\\mu_i \\in R^d$ and unknown covariance $Σ_i, i \\in \\{1, \\ldots, n\\}$, where\n",
        "\n",
        "\n",
        "*   $\\mu_i\\text{s}$ are all orthogonal $\\mu_i^T\\mu_j=0$ if $i \\neq j$.\n",
        "*   $\\mu_i\\text{s}$ all have unit norm $||\\mu_i||=1$.\n",
        "\n",
        "1. For a vanishingly small $\\alpha$ (not to be confused with attention weights), the covariance matrices are  $Σ_i=\\alpha I, \\forall i  \\in \\{1,2,..,n\\}$, design a query $q$ in terms of the $\\mu_i$ such that as before, $o= \\frac{1}{2}(v_b+v_c)$ and describe why it works.\n",
        "\n",
        "2.  Large perturbations in key value might cause problems for single head attention.  Specifically, in some cases, one key vector $k_b$ may be larger or smaller in norm than the others, while still pointing in the same direction as $\\mu_b$. As an example of such a case,\n",
        "consider a covariance matrix for item $b$ for vanishingly small $\\alpha$ as $Σ_b=\\alpha I + \\frac{1}{2}(\\mu_b^T\\mu_b)$. This causes $k_a$ to point to roughly the same direction as $\\mu_b$ but with large differences in magnitude, while for other items. Further, let $Σ_i=\\alpha I\\  \\forall_i i \\neq b$. When you sample multiple keys from the distribution $\\{ k_1,k_2,...,k_n \\}$ and use the $q$ vector from the pervious part, what do you expect vector $o$ to look like? Explain why this shows the drawback of single-head attention.\n",
        "\n",
        "**Hint:**\n",
        "Think about how it differs from pervious part and how $o$'s variance would be affected by the change in $Σ_b$.\n",
        "\n",
        "**Hint:** Considering that $\\mu_b^T\\mu_b=1$, think of what are the ranges $Σ_b$ can take and how does that effect a sampled $k_b$ value.\n",
        "\n",
        "**Hint:** $\\frac{exp(b)}{exp(b)+exp(c)}=\\frac{exp(b)}{exp(b)+exp(c)}\\frac{exp(-b)}{exp(-b)}= \\frac{1}{1+exp(c-b)}$"
      ]
    },
    {
      "cell_type": "markdown",
      "id": "PFkzZv9NcCpZ",
      "metadata": {
        "id": "PFkzZv9NcCpZ"
      },
      "source": [
        "**Answer:**"
      ]
    },
    {
      "cell_type": "markdown",
      "id": "1yhrRv0rTww2",
      "metadata": {
        "id": "1yhrRv0rTww2"
      },
      "source": [
        "1. Because $\\alpha$ is vanishingly small (and thus also the variances for all $i \\in \\{1, ..., n\\}$), we can assume $k_i \\approx \\mu_i$. Hence, similar to the solution in subtask 2 part 2 we can choose $q = \\beta(\\mu_b + \\mu_c)$ for some $\\beta >> 0$ large enough.\n",
        "\n",
        "2. $k_b$ varies between $(\\alpha + 0.5)\\mu_b$ and $(\\alpha + 1.5)\\mu_b$ because $\\mu_b^T\\mu_b=1$. Thus: $k_b \\approx \\lambda\\mu_b$ where $\\lambda \\in [0.5, 1.5]$.\n",
        "\n",
        "    Due to $\\alpha$ being vanishingly small, we can again assume that $k_i \\approx \\mu_i$ for all $i \\neq b$. Since $\\mu_i^T\\mu_j=0$ for all $i \\neq j$, we can assume that the dot product between $q$ and any key vector except $k_b$ and $k_c$ is $0$. For $k_b$ and $k_c$ the following happens:\n",
        "\n",
        "    $k_b^Tq = \\lambda\\mu_b^T\\beta(\\mu_b + \\mu_c)= \\lambda \\beta$\n",
        "\n",
        "    $k_c^Tq = \\mu_c^T\\beta(\\mu_b + \\mu_c)= \\beta$\n",
        "    \n",
        "    We can now compute the attention weights $a_b$ and $a_c$:\n",
        "\n",
        "    $a_b = \\frac{exp(\\lambda\\beta)}{n-2+exp(\\lambda\\beta)+exp(\\beta)} \\approx \\frac{exp(\\lambda\\beta)}{exp(\\lambda\\beta)+exp(\\beta)} \\approx \\frac{1}{1+exp(\\beta(1-\\lambda))}$\n",
        "\n",
        "    $a_c = \\frac{exp(\\beta)}{n-2+exp(\\lambda\\beta)+exp(\\beta)} \\approx \\frac{exp(\\beta)}{exp(\\lambda\\beta)+exp(\\beta)} \\approx \\frac{1}{1+exp(\\beta(\\lambda - 1))}$\n",
        "\n",
        "    All other attention weights are close to zero, so we can ignore their influence on the output.\n",
        "\n",
        "    When $\\lambda = 0.5$, then $a_b \\approx 0$ and $a_c \\approx 1$. In this case, the output $o \\approx v_c$.\n",
        "    \n",
        "    When $\\lambda = 1.5$, then $a_b \\approx 1$ and $a_c \\approx 0$. Here the output is $o \\approx v_b$.\n",
        "\n",
        "    To sum up, $o$ oscillates between $v_b$ and $v_c$.\n"
      ]
    },
    {
      "cell_type": "markdown",
      "id": "j0r37mi5cC1B",
      "metadata": {
        "id": "j0r37mi5cC1B"
      },
      "source": [
        "#### ${\\color{red}{Comments\\ 1.3}}$\n",
        "\n",
        "${\\color{red}{⚠️Comments\\ begin⚠️}}$\n",
        "\n",
        "\n",
        "```\n",
        "1. The first subtask is identical to the sample solutions explanation (1 / 1 Points)\n",
        "2. The computation, the explanation and the results are the same, except some intermediate steps were omitted or not as deeply explained as in the sample solution. But in general the answer aligns with the sample solution. (3 / 3 Points)\n",
        "\n",
        "✅ Point distribution ✅\n",
        "4/ 4 Points\n",
        "```\n",
        "\n",
        "\n",
        "${\\color{red}{⚠️Comments\\ end⚠️}}$"
      ]
    },
    {
      "cell_type": "markdown",
      "id": "_qxdcrolx48r",
      "metadata": {
        "id": "_qxdcrolx48r"
      },
      "source": [
        "### Subtask 4: Model Size  \n",
        "1. Imagine you have an input sequence of  $l$ tokens, how much memory is required and what time complexity do we have for a single self-attention layer? (give your answer in terms of $l$)\n",
        "2. If you have $N$ layers of self-attention, how  would the memory requirements and the time complexity change? (give your answer in terms of $l$ and $N$)\n",
        "3. If you have $l=10,000$ and $10$ layers, with the ability to perform $10M$ operations per second, how long would it take to compute the attention output?\n"
      ]
    },
    {
      "cell_type": "markdown",
      "id": "s35qnPU4yoYD",
      "metadata": {
        "id": "s35qnPU4yoYD"
      },
      "source": [
        "**Answer**"
      ]
    },
    {
      "cell_type": "markdown",
      "id": "LzlVLskKzBXq",
      "metadata": {
        "id": "LzlVLskKzBXq"
      },
      "source": [
        "1. Given $l$ input tokens, one would first have to store $l$ query, $l$ key and $l$ value vectors. Next, $l^2$ attention weights and $l$ outputs are computed. If one stores all attention weights, then a single self-attention layer requires $O(l^2)$ memory. If one first computes all attention weigjts corresponding to one query and subsequently calculates the output, $O(l)$ memory would suffice for one self-attention layer.\n",
        "\n",
        "    To determine the time complexity, we consider the number of necessary operations:\n",
        "- $l^2$ dot products of the form $q^Tk$;\n",
        "- $l^2$ exponentiations;\n",
        "- $l$ sums of $l$ elements for the denominators in the formula for attention weights;\n",
        "- $l^2$ divisions;\n",
        "- $l^2$ scalar-vector multiplications;\n",
        "- $l$ sums of $l$ elements to compute all outputs.\n",
        "In total, $O(l^2)$ time is required.\n",
        "\n",
        "\n",
        "2. The time complexity of $N$ layers of self-attention is: $O(N \\cdot l^2)$ (each layer uses $O(l^2)$ many operations).\n",
        "\n",
        "    If it is necessary to store the attention weights of all layers, then $O(N \\cdot l^2)$ memory would be necessary.\n",
        "If one does not need to keep the attention weights of all layers, then only $O(l^2)$ memory would suffice (or even $O(l)$ considering the answer at 1.).\n",
        "\n",
        "3. If we sum up the number of operations enumerated in 1., we obtain $6l^2-2l$ many operations. By substituting l with the numerical value, we get: $599,98 \\cdot 10^7$ operations. Since we can perform $10^7$ operations per second, it would take almost 600 seconds (which is 10 minutes) to compute the output."
      ]
    },
    {
      "cell_type": "markdown",
      "id": "n2UFNSuozvNd",
      "metadata": {
        "id": "n2UFNSuozvNd"
      },
      "source": [
        "#### ${\\color{red}{Comments\\ 1.4}}$\n",
        "\n",
        "${\\color{red}{⚠️Comments\\ begin⚠️}}$\n",
        "\n",
        "\n",
        "```\n",
        "1. An even deeper explanation than the sample solution was provided with the correct result at the end (0.25 / 0.25 Points)\n",
        "2. Also here the explanation is deeper that the sample solution and the result is also correct\n",
        "(0.25 / 0.25 Points)\n",
        "3. The calculation and the result is wrong (As the sample solution states it would have been sufficent to just use the result of 1, inserting the given values and multiplying it as in solution 2 by N ) (0 / 0.5 Points)\n",
        "\n",
        "✅ Point distribution ✅\n",
        "0.5 / 1 Point\n",
        "\n",
        "\n",
        "Point distribution for Task 1: \n",
        "\n",
        "✅ Point distribution ✅\n",
        "1. 3 / 3\n",
        "2. 3.5 / 4\n",
        "3. 4 / 4\n",
        "4. 0.5 / 1\n",
        "Total: 11 / 12 Points\n",
        "```\n",
        "\n",
        "\n",
        "${\\color{red}{⚠️Comments\\ end⚠️}}$"
      ]
    },
    {
      "cell_type": "markdown",
      "id": "Av_GjYokHmGo",
      "metadata": {
        "id": "Av_GjYokHmGo"
      },
      "source": [
        "## **Task 2: Multiple Choice Question Answering** (4 + 3 + 5 + 2 = 14 points)"
      ]
    },
    {
      "cell_type": "markdown",
      "id": "hypnmNp2yeNz",
      "metadata": {
        "id": "hypnmNp2yeNz"
      },
      "source": [
        "In this task, you will fine-tune a transformer model on a multiple-choice task, which is the task of selecting the most plausible inputs in a given selection. The dataset used here is [SWAG](https://www.aclweb.org/anthology/D18-1009/), which is available via the Hugging Face [hub](https://huggingface.co/datasets/swag). Check the link for an overview of the dataset. SWAG is a dataset about commonsense reasoning, where each example describes a situation and then proposes four options that could apply for it.\n",
        "Let's start by installing the necessary packages."
      ]
    },
    {
      "cell_type": "code",
      "execution_count": 1,
      "id": "RYb57u4CHnZ7",
      "metadata": {
        "colab": {
          "base_uri": "https://localhost:8080/"
        },
        "id": "RYb57u4CHnZ7",
        "outputId": "e6747ba2-1153-404d-d304-38e8aa21589a"
      },
      "outputs": [
        {
          "name": "stdout",
          "output_type": "stream",
          "text": [
            "Requirement already satisfied: transformers in /usr/local/lib/python3.10/dist-packages (4.35.2)\n",
            "Requirement already satisfied: filelock in /usr/local/lib/python3.10/dist-packages (from transformers) (3.13.1)\n",
            "Requirement already satisfied: huggingface-hub<1.0,>=0.16.4 in /usr/local/lib/python3.10/dist-packages (from transformers) (0.20.1)\n",
            "Requirement already satisfied: numpy>=1.17 in /usr/local/lib/python3.10/dist-packages (from transformers) (1.23.5)\n",
            "Requirement already satisfied: packaging>=20.0 in /usr/local/lib/python3.10/dist-packages (from transformers) (23.2)\n",
            "Requirement already satisfied: pyyaml>=5.1 in /usr/local/lib/python3.10/dist-packages (from transformers) (6.0.1)\n",
            "Requirement already satisfied: regex!=2019.12.17 in /usr/local/lib/python3.10/dist-packages (from transformers) (2023.6.3)\n",
            "Requirement already satisfied: requests in /usr/local/lib/python3.10/dist-packages (from transformers) (2.31.0)\n",
            "Requirement already satisfied: tokenizers<0.19,>=0.14 in /usr/local/lib/python3.10/dist-packages (from transformers) (0.15.0)\n",
            "Requirement already satisfied: safetensors>=0.3.1 in /usr/local/lib/python3.10/dist-packages (from transformers) (0.4.1)\n",
            "Requirement already satisfied: tqdm>=4.27 in /usr/local/lib/python3.10/dist-packages (from transformers) (4.66.1)\n",
            "Requirement already satisfied: fsspec>=2023.5.0 in /usr/local/lib/python3.10/dist-packages (from huggingface-hub<1.0,>=0.16.4->transformers) (2023.6.0)\n",
            "Requirement already satisfied: typing-extensions>=3.7.4.3 in /usr/local/lib/python3.10/dist-packages (from huggingface-hub<1.0,>=0.16.4->transformers) (4.5.0)\n",
            "Requirement already satisfied: charset-normalizer<4,>=2 in /usr/local/lib/python3.10/dist-packages (from requests->transformers) (3.3.2)\n",
            "Requirement already satisfied: idna<4,>=2.5 in /usr/local/lib/python3.10/dist-packages (from requests->transformers) (3.6)\n",
            "Requirement already satisfied: urllib3<3,>=1.21.1 in /usr/local/lib/python3.10/dist-packages (from requests->transformers) (2.0.7)\n",
            "Requirement already satisfied: certifi>=2017.4.17 in /usr/local/lib/python3.10/dist-packages (from requests->transformers) (2023.11.17)\n",
            "Requirement already satisfied: datasets in /usr/local/lib/python3.10/dist-packages (2.16.1)\n",
            "Requirement already satisfied: filelock in /usr/local/lib/python3.10/dist-packages (from datasets) (3.13.1)\n",
            "Requirement already satisfied: numpy>=1.17 in /usr/local/lib/python3.10/dist-packages (from datasets) (1.23.5)\n",
            "Requirement already satisfied: pyarrow>=8.0.0 in /usr/local/lib/python3.10/dist-packages (from datasets) (10.0.1)\n",
            "Requirement already satisfied: pyarrow-hotfix in /usr/local/lib/python3.10/dist-packages (from datasets) (0.6)\n",
            "Requirement already satisfied: dill<0.3.8,>=0.3.0 in /usr/local/lib/python3.10/dist-packages (from datasets) (0.3.7)\n",
            "Requirement already satisfied: pandas in /usr/local/lib/python3.10/dist-packages (from datasets) (1.5.3)\n",
            "Requirement already satisfied: requests>=2.19.0 in /usr/local/lib/python3.10/dist-packages (from datasets) (2.31.0)\n",
            "Requirement already satisfied: tqdm>=4.62.1 in /usr/local/lib/python3.10/dist-packages (from datasets) (4.66.1)\n",
            "Requirement already satisfied: xxhash in /usr/local/lib/python3.10/dist-packages (from datasets) (3.4.1)\n",
            "Requirement already satisfied: multiprocess in /usr/local/lib/python3.10/dist-packages (from datasets) (0.70.15)\n",
            "Requirement already satisfied: fsspec[http]<=2023.10.0,>=2023.1.0 in /usr/local/lib/python3.10/dist-packages (from datasets) (2023.6.0)\n",
            "Requirement already satisfied: aiohttp in /usr/local/lib/python3.10/dist-packages (from datasets) (3.9.1)\n",
            "Requirement already satisfied: huggingface-hub>=0.19.4 in /usr/local/lib/python3.10/dist-packages (from datasets) (0.20.1)\n",
            "Requirement already satisfied: packaging in /usr/local/lib/python3.10/dist-packages (from datasets) (23.2)\n",
            "Requirement already satisfied: pyyaml>=5.1 in /usr/local/lib/python3.10/dist-packages (from datasets) (6.0.1)\n",
            "Requirement already satisfied: attrs>=17.3.0 in /usr/local/lib/python3.10/dist-packages (from aiohttp->datasets) (23.1.0)\n",
            "Requirement already satisfied: multidict<7.0,>=4.5 in /usr/local/lib/python3.10/dist-packages (from aiohttp->datasets) (6.0.4)\n",
            "Requirement already satisfied: yarl<2.0,>=1.0 in /usr/local/lib/python3.10/dist-packages (from aiohttp->datasets) (1.9.4)\n",
            "Requirement already satisfied: frozenlist>=1.1.1 in /usr/local/lib/python3.10/dist-packages (from aiohttp->datasets) (1.4.1)\n",
            "Requirement already satisfied: aiosignal>=1.1.2 in /usr/local/lib/python3.10/dist-packages (from aiohttp->datasets) (1.3.1)\n",
            "Requirement already satisfied: async-timeout<5.0,>=4.0 in /usr/local/lib/python3.10/dist-packages (from aiohttp->datasets) (4.0.3)\n",
            "Requirement already satisfied: typing-extensions>=3.7.4.3 in /usr/local/lib/python3.10/dist-packages (from huggingface-hub>=0.19.4->datasets) (4.5.0)\n",
            "Requirement already satisfied: charset-normalizer<4,>=2 in /usr/local/lib/python3.10/dist-packages (from requests>=2.19.0->datasets) (3.3.2)\n",
            "Requirement already satisfied: idna<4,>=2.5 in /usr/local/lib/python3.10/dist-packages (from requests>=2.19.0->datasets) (3.6)\n",
            "Requirement already satisfied: urllib3<3,>=1.21.1 in /usr/local/lib/python3.10/dist-packages (from requests>=2.19.0->datasets) (2.0.7)\n",
            "Requirement already satisfied: certifi>=2017.4.17 in /usr/local/lib/python3.10/dist-packages (from requests>=2.19.0->datasets) (2023.11.17)\n",
            "Requirement already satisfied: python-dateutil>=2.8.1 in /usr/local/lib/python3.10/dist-packages (from pandas->datasets) (2.8.2)\n",
            "Requirement already satisfied: pytz>=2020.1 in /usr/local/lib/python3.10/dist-packages (from pandas->datasets) (2023.3.post1)\n",
            "Requirement already satisfied: six>=1.5 in /usr/local/lib/python3.10/dist-packages (from python-dateutil>=2.8.1->pandas->datasets) (1.16.0)\n",
            "Requirement already satisfied: evaluate in /usr/local/lib/python3.10/dist-packages (0.4.1)\n",
            "Requirement already satisfied: datasets>=2.0.0 in /usr/local/lib/python3.10/dist-packages (from evaluate) (2.16.1)\n",
            "Requirement already satisfied: numpy>=1.17 in /usr/local/lib/python3.10/dist-packages (from evaluate) (1.23.5)\n",
            "Requirement already satisfied: dill in /usr/local/lib/python3.10/dist-packages (from evaluate) (0.3.7)\n",
            "Requirement already satisfied: pandas in /usr/local/lib/python3.10/dist-packages (from evaluate) (1.5.3)\n",
            "Requirement already satisfied: requests>=2.19.0 in /usr/local/lib/python3.10/dist-packages (from evaluate) (2.31.0)\n",
            "Requirement already satisfied: tqdm>=4.62.1 in /usr/local/lib/python3.10/dist-packages (from evaluate) (4.66.1)\n",
            "Requirement already satisfied: xxhash in /usr/local/lib/python3.10/dist-packages (from evaluate) (3.4.1)\n",
            "Requirement already satisfied: multiprocess in /usr/local/lib/python3.10/dist-packages (from evaluate) (0.70.15)\n",
            "Requirement already satisfied: fsspec[http]>=2021.05.0 in /usr/local/lib/python3.10/dist-packages (from evaluate) (2023.6.0)\n",
            "Requirement already satisfied: huggingface-hub>=0.7.0 in /usr/local/lib/python3.10/dist-packages (from evaluate) (0.20.1)\n",
            "Requirement already satisfied: packaging in /usr/local/lib/python3.10/dist-packages (from evaluate) (23.2)\n",
            "Requirement already satisfied: responses<0.19 in /usr/local/lib/python3.10/dist-packages (from evaluate) (0.18.0)\n",
            "Requirement already satisfied: filelock in /usr/local/lib/python3.10/dist-packages (from datasets>=2.0.0->evaluate) (3.13.1)\n",
            "Requirement already satisfied: pyarrow>=8.0.0 in /usr/local/lib/python3.10/dist-packages (from datasets>=2.0.0->evaluate) (10.0.1)\n",
            "Requirement already satisfied: pyarrow-hotfix in /usr/local/lib/python3.10/dist-packages (from datasets>=2.0.0->evaluate) (0.6)\n",
            "Requirement already satisfied: aiohttp in /usr/local/lib/python3.10/dist-packages (from datasets>=2.0.0->evaluate) (3.9.1)\n",
            "Requirement already satisfied: pyyaml>=5.1 in /usr/local/lib/python3.10/dist-packages (from datasets>=2.0.0->evaluate) (6.0.1)\n",
            "Requirement already satisfied: typing-extensions>=3.7.4.3 in /usr/local/lib/python3.10/dist-packages (from huggingface-hub>=0.7.0->evaluate) (4.5.0)\n",
            "Requirement already satisfied: charset-normalizer<4,>=2 in /usr/local/lib/python3.10/dist-packages (from requests>=2.19.0->evaluate) (3.3.2)\n",
            "Requirement already satisfied: idna<4,>=2.5 in /usr/local/lib/python3.10/dist-packages (from requests>=2.19.0->evaluate) (3.6)\n",
            "Requirement already satisfied: urllib3<3,>=1.21.1 in /usr/local/lib/python3.10/dist-packages (from requests>=2.19.0->evaluate) (2.0.7)\n",
            "Requirement already satisfied: certifi>=2017.4.17 in /usr/local/lib/python3.10/dist-packages (from requests>=2.19.0->evaluate) (2023.11.17)\n",
            "Requirement already satisfied: python-dateutil>=2.8.1 in /usr/local/lib/python3.10/dist-packages (from pandas->evaluate) (2.8.2)\n",
            "Requirement already satisfied: pytz>=2020.1 in /usr/local/lib/python3.10/dist-packages (from pandas->evaluate) (2023.3.post1)\n",
            "Requirement already satisfied: attrs>=17.3.0 in /usr/local/lib/python3.10/dist-packages (from aiohttp->datasets>=2.0.0->evaluate) (23.1.0)\n",
            "Requirement already satisfied: multidict<7.0,>=4.5 in /usr/local/lib/python3.10/dist-packages (from aiohttp->datasets>=2.0.0->evaluate) (6.0.4)\n",
            "Requirement already satisfied: yarl<2.0,>=1.0 in /usr/local/lib/python3.10/dist-packages (from aiohttp->datasets>=2.0.0->evaluate) (1.9.4)\n",
            "Requirement already satisfied: frozenlist>=1.1.1 in /usr/local/lib/python3.10/dist-packages (from aiohttp->datasets>=2.0.0->evaluate) (1.4.1)\n",
            "Requirement already satisfied: aiosignal>=1.1.2 in /usr/local/lib/python3.10/dist-packages (from aiohttp->datasets>=2.0.0->evaluate) (1.3.1)\n",
            "Requirement already satisfied: async-timeout<5.0,>=4.0 in /usr/local/lib/python3.10/dist-packages (from aiohttp->datasets>=2.0.0->evaluate) (4.0.3)\n",
            "Requirement already satisfied: six>=1.5 in /usr/local/lib/python3.10/dist-packages (from python-dateutil>=2.8.1->pandas->evaluate) (1.16.0)\n",
            "Requirement already satisfied: accelerate in /usr/local/lib/python3.10/dist-packages (0.25.0)\n",
            "Requirement already satisfied: numpy>=1.17 in /usr/local/lib/python3.10/dist-packages (from accelerate) (1.23.5)\n",
            "Requirement already satisfied: packaging>=20.0 in /usr/local/lib/python3.10/dist-packages (from accelerate) (23.2)\n",
            "Requirement already satisfied: psutil in /usr/local/lib/python3.10/dist-packages (from accelerate) (5.9.5)\n",
            "Requirement already satisfied: pyyaml in /usr/local/lib/python3.10/dist-packages (from accelerate) (6.0.1)\n",
            "Requirement already satisfied: torch>=1.10.0 in /usr/local/lib/python3.10/dist-packages (from accelerate) (2.1.0+cu121)\n",
            "Requirement already satisfied: huggingface-hub in /usr/local/lib/python3.10/dist-packages (from accelerate) (0.20.1)\n",
            "Requirement already satisfied: safetensors>=0.3.1 in /usr/local/lib/python3.10/dist-packages (from accelerate) (0.4.1)\n",
            "Requirement already satisfied: filelock in /usr/local/lib/python3.10/dist-packages (from torch>=1.10.0->accelerate) (3.13.1)\n",
            "Requirement already satisfied: typing-extensions in /usr/local/lib/python3.10/dist-packages (from torch>=1.10.0->accelerate) (4.5.0)\n",
            "Requirement already satisfied: sympy in /usr/local/lib/python3.10/dist-packages (from torch>=1.10.0->accelerate) (1.12)\n",
            "Requirement already satisfied: networkx in /usr/local/lib/python3.10/dist-packages (from torch>=1.10.0->accelerate) (3.2.1)\n",
            "Requirement already satisfied: jinja2 in /usr/local/lib/python3.10/dist-packages (from torch>=1.10.0->accelerate) (3.1.2)\n",
            "Requirement already satisfied: fsspec in /usr/local/lib/python3.10/dist-packages (from torch>=1.10.0->accelerate) (2023.6.0)\n",
            "Requirement already satisfied: triton==2.1.0 in /usr/local/lib/python3.10/dist-packages (from torch>=1.10.0->accelerate) (2.1.0)\n",
            "Requirement already satisfied: requests in /usr/local/lib/python3.10/dist-packages (from huggingface-hub->accelerate) (2.31.0)\n",
            "Requirement already satisfied: tqdm>=4.42.1 in /usr/local/lib/python3.10/dist-packages (from huggingface-hub->accelerate) (4.66.1)\n",
            "Requirement already satisfied: MarkupSafe>=2.0 in /usr/local/lib/python3.10/dist-packages (from jinja2->torch>=1.10.0->accelerate) (2.1.3)\n",
            "Requirement already satisfied: charset-normalizer<4,>=2 in /usr/local/lib/python3.10/dist-packages (from requests->huggingface-hub->accelerate) (3.3.2)\n",
            "Requirement already satisfied: idna<4,>=2.5 in /usr/local/lib/python3.10/dist-packages (from requests->huggingface-hub->accelerate) (3.6)\n",
            "Requirement already satisfied: urllib3<3,>=1.21.1 in /usr/local/lib/python3.10/dist-packages (from requests->huggingface-hub->accelerate) (2.0.7)\n",
            "Requirement already satisfied: certifi>=2017.4.17 in /usr/local/lib/python3.10/dist-packages (from requests->huggingface-hub->accelerate) (2023.11.17)\n",
            "Requirement already satisfied: mpmath>=0.19 in /usr/local/lib/python3.10/dist-packages (from sympy->torch>=1.10.0->accelerate) (1.3.0)\n",
            "Requirement already satisfied: sentencepiece in /usr/local/lib/python3.10/dist-packages (0.1.99)\n"
          ]
        }
      ],
      "source": [
        "%pip install transformers\n",
        "%pip install datasets\n",
        "%pip install evaluate\n",
        "%pip install accelerate -U\n",
        "%pip install sentencepiece"
      ]
    },
    {
      "cell_type": "markdown",
      "id": "oLwC5naF8KzV",
      "metadata": {
        "id": "oLwC5naF8KzV"
      },
      "source": [
        "In this task, you will use a BERT model with a `MultipleChoice` head from the Hugging Face library and then create your custom model.   Recall from the class that the BERT model has an auxiliary next sentence prediction task, in which two sentences are given to BERT separated by a `[SEP]` token and a classifier head decides if the second sentence logically follows the first one. Hugging Face has\n",
        " a `*ForMultipleChoice` architecture that uses the representation of the `[CLS]` token and a linear layer to classify if one sentence follows the other. We first start with this default architecture and then build a more complicated one in a later subtask."
      ]
    },
    {
      "cell_type": "markdown",
      "id": "FJ7H6SSk1DqI",
      "metadata": {
        "id": "FJ7H6SSk1DqI"
      },
      "source": [
        "### Subtask 1: Loading and Processing the Data"
      ]
    },
    {
      "cell_type": "markdown",
      "id": "KvvYhCtW1kI3",
      "metadata": {
        "id": "KvvYhCtW1kI3"
      },
      "source": [
        "We use the `dataset` library to download the SWAG dataset, which already contains train, validation, and test splits."
      ]
    },
    {
      "cell_type": "code",
      "execution_count": 2,
      "id": "-cLxQBhq0Rmo",
      "metadata": {
        "colab": {
          "base_uri": "https://localhost:8080/"
        },
        "id": "-cLxQBhq0Rmo",
        "outputId": "db5077e5-512f-47a8-e584-a42e5865ab4a"
      },
      "outputs": [
        {
          "name": "stderr",
          "output_type": "stream",
          "text": [
            "/usr/local/lib/python3.10/dist-packages/huggingface_hub/utils/_token.py:72: UserWarning: \n",
            "The secret `HF_TOKEN` does not exist in your Colab secrets.\n",
            "To authenticate with the Hugging Face Hub, create a token in your settings tab (https://huggingface.co/settings/tokens), set it as secret in your Google Colab and restart your session.\n",
            "You will be able to reuse this secret in all of your notebooks.\n",
            "Please note that authentication is recommended but still optional to access public models or datasets.\n",
            "  warnings.warn(\n",
            "/usr/local/lib/python3.10/dist-packages/datasets/load.py:1429: FutureWarning: The repository for swag contains custom code which must be executed to correctly load the dataset. You can inspect the repository content at https://hf.co/datasets/swag\n",
            "You can avoid this message in future by passing the argument `trust_remote_code=True`.\n",
            "Passing `trust_remote_code=True` will be mandatory to load this dataset from the next major release of `datasets`.\n",
            "  warnings.warn(\n"
          ]
        },
        {
          "data": {
            "text/plain": [
              "DatasetDict({\n",
              "    train: Dataset({\n",
              "        features: ['video-id', 'fold-ind', 'startphrase', 'sent1', 'sent2', 'gold-source', 'ending0', 'ending1', 'ending2', 'ending3', 'label'],\n",
              "        num_rows: 73546\n",
              "    })\n",
              "    validation: Dataset({\n",
              "        features: ['video-id', 'fold-ind', 'startphrase', 'sent1', 'sent2', 'gold-source', 'ending0', 'ending1', 'ending2', 'ending3', 'label'],\n",
              "        num_rows: 20006\n",
              "    })\n",
              "    test: Dataset({\n",
              "        features: ['video-id', 'fold-ind', 'startphrase', 'sent1', 'sent2', 'gold-source', 'ending0', 'ending1', 'ending2', 'ending3', 'label'],\n",
              "        num_rows: 20005\n",
              "    })\n",
              "})"
            ]
          },
          "execution_count": 2,
          "metadata": {},
          "output_type": "execute_result"
        }
      ],
      "source": [
        "import os\n",
        "os.environ['CUDA_LAUNCH_BLOCKING'] = \"1\"\n",
        "from datasets import load_dataset, load_metric\n",
        "datasets = load_dataset(\"swag\", \"regular\")\n",
        "datasets"
      ]
    },
    {
      "cell_type": "markdown",
      "id": "DHkkMD3v4bs3",
      "metadata": {
        "id": "DHkkMD3v4bs3"
      },
      "source": [
        "Lets look at the first item to see how the data looks like:"
      ]
    },
    {
      "cell_type": "code",
      "execution_count": 3,
      "id": "vN6p1Mt84ZW_",
      "metadata": {
        "colab": {
          "base_uri": "https://localhost:8080/"
        },
        "id": "vN6p1Mt84ZW_",
        "outputId": "113c7ae4-9018-4d31-e163-f94e5eff0f11"
      },
      "outputs": [
        {
          "data": {
            "text/plain": [
              "{'video-id': 'anetv_jkn6uvmqwh4',\n",
              " 'fold-ind': '3416',\n",
              " 'startphrase': 'Members of the procession walk down the street holding small horn brass instruments. A drum line',\n",
              " 'sent1': 'Members of the procession walk down the street holding small horn brass instruments.',\n",
              " 'sent2': 'A drum line',\n",
              " 'gold-source': 'gold',\n",
              " 'ending0': 'passes by walking down the street playing their instruments.',\n",
              " 'ending1': 'has heard approaching them.',\n",
              " 'ending2': \"arrives and they're outside dancing and asleep.\",\n",
              " 'ending3': 'turns the lead singer watches the performance.',\n",
              " 'label': 0}"
            ]
          },
          "execution_count": 3,
          "metadata": {},
          "output_type": "execute_result"
        }
      ],
      "source": [
        "datasets[\"train\"][0]"
      ]
    },
    {
      "cell_type": "markdown",
      "id": "xOxxXEdbTF8l",
      "metadata": {
        "id": "xOxxXEdbTF8l"
      },
      "source": [
        "**Question:**\n",
        "Look at the dataset card on the Hugging Face hub and define what each of these fields means, with respect to the task:\n",
        "\n",
        "*   `sent1`:\n",
        "*   `sent2`:\n",
        "*    `ending0`, `ending1`, `ending2` and `ending3`:\n",
        "*   `label`:\n",
        "\n",
        "\n"
      ]
    },
    {
      "cell_type": "markdown",
      "id": "2FfOTODlURAY",
      "metadata": {
        "id": "2FfOTODlURAY"
      },
      "source": [
        "**Answer**\n",
        "\n",
        "*   `sent1`: is the first sentence\n",
        "*   `sent2`: is the beginning of the second sentence\n",
        "*    `ending0`, `ending1`, `ending2` and `ending3`: candidates of the endings of the second sentence, one of them is meant to be selected\n",
        "*   `label`: ground truth\n"
      ]
    },
    {
      "cell_type": "markdown",
      "id": "D9TcSWfiU2m-",
      "metadata": {
        "id": "D9TcSWfiU2m-"
      },
      "source": [
        "Write a function that displays the context and each of the four choices, following the format\n",
        "\n",
        "\n",
        "```\n",
        "Context:...\n",
        "A-\n",
        "B-\n",
        "C-\n",
        "D-\n",
        "Ground truth: option ...\n",
        "```\n",
        "\n",
        "How you display the results is not important. You should be able to extract different parts of the data correctly and know what each field represents."
      ]
    },
    {
      "cell_type": "code",
      "execution_count": 4,
      "id": "jVOf4b2r4gDq",
      "metadata": {
        "id": "jVOf4b2r4gDq"
      },
      "outputs": [],
      "source": [
        "def explain_example(example):\n",
        "\n",
        "  ### your code ###\n",
        "  ground_truth = f\"ending{example['label']}\"\n",
        "  log = f\"\"\"\n",
        "  Context: {example['startphrase']}\n",
        "  A- {example['ending0']}\n",
        "  B- {example['ending1']}\n",
        "  C- {example['ending2']}\n",
        "  D- {example['ending3']}\n",
        "  Ground truth: {ground_truth}\n",
        "  \"\"\"\n",
        "  print(log)\n",
        "  ### your code ###"
      ]
    },
    {
      "cell_type": "code",
      "execution_count": 5,
      "id": "BlTFSjmR5QrP",
      "metadata": {
        "colab": {
          "base_uri": "https://localhost:8080/"
        },
        "id": "BlTFSjmR5QrP",
        "outputId": "8ec08090-790a-4ba7-ec02-b0ab11abb15e"
      },
      "outputs": [
        {
          "name": "stdout",
          "output_type": "stream",
          "text": [
            "\n",
            "  Context: Members of the procession walk down the street holding small horn brass instruments. A drum line\n",
            "  A- passes by walking down the street playing their instruments.\n",
            "  B- has heard approaching them.\n",
            "  C- arrives and they're outside dancing and asleep.\n",
            "  D- turns the lead singer watches the performance.\n",
            "  Ground truth: ending0\n",
            "  \n"
          ]
        }
      ],
      "source": [
        "explain_example(datasets[\"train\"][0])"
      ]
    },
    {
      "cell_type": "markdown",
      "id": "lXnX0E915qbb",
      "metadata": {
        "id": "lXnX0E915qbb"
      },
      "source": [
        "Before feeding the data into the model, we need to preprocess the text using `Tokenizer` to tokenize the inputs into tokens and put it in a format that the model expects. The tokenizer specific to the model we want to use for this task is `distilbert-base-uncased`. Complete the code below to load a fast tokenizer for this model. DistilBERT is similar to the BERT model, and we only use this particular architecture for faster training.\n"
      ]
    },
    {
      "cell_type": "code",
      "execution_count": 6,
      "id": "fd4BkVDc5RdO",
      "metadata": {
        "colab": {
          "base_uri": "https://localhost:8080/"
        },
        "id": "fd4BkVDc5RdO",
        "outputId": "c6b533c1-38ec-46e2-bc8f-84a1dfaa0eba"
      },
      "outputs": [
        {
          "name": "stderr",
          "output_type": "stream",
          "text": [
            "/usr/local/lib/python3.10/dist-packages/huggingface_hub/utils/_token.py:72: UserWarning: \n",
            "The secret `HF_TOKEN` does not exist in your Colab secrets.\n",
            "To authenticate with the Hugging Face Hub, create a token in your settings tab (https://huggingface.co/settings/tokens), set it as secret in your Google Colab and restart your session.\n",
            "You will be able to reuse this secret in all of your notebooks.\n",
            "Please note that authentication is recommended but still optional to access public models or datasets.\n",
            "  warnings.warn(\n"
          ]
        }
      ],
      "source": [
        "from transformers import AutoTokenizer\n",
        "\n",
        "###your code###\n",
        "tokenizer = AutoTokenizer.from_pretrained(\"distilbert-base-uncased\")\n",
        "###your code###"
      ]
    },
    {
      "cell_type": "code",
      "execution_count": 7,
      "id": "BbtOfQ4T7AQV",
      "metadata": {
        "colab": {
          "base_uri": "https://localhost:8080/"
        },
        "id": "BbtOfQ4T7AQV",
        "outputId": "643eb465-fd55-4990-9cef-429c4472afd0"
      },
      "outputs": [
        {
          "data": {
            "text/plain": [
              "{'input_ids': [101, 2023, 2003, 1996, 2034, 6251, 999, 102, 1998, 2023, 2003, 1996, 2117, 2028, 1012, 102], 'attention_mask': [1, 1, 1, 1, 1, 1, 1, 1, 1, 1, 1, 1, 1, 1, 1, 1]}"
            ]
          },
          "execution_count": 7,
          "metadata": {},
          "output_type": "execute_result"
        }
      ],
      "source": [
        "tokenizer(\"This is the first sentence!\", \"And this is the second one.\")"
      ]
    },
    {
      "cell_type": "markdown",
      "id": "4LMdG45b7Yop",
      "metadata": {
        "id": "4LMdG45b7Yop"
      },
      "source": [
        "Write a function that preprocesses the samples.\n",
        "The tricky part is to put all the possible pairs of sentences in two big lists before passing them to the tokenizer.\n",
        "Each **first** sentence has to be repeated 4 times to go with different ending options.\n",
        "There should be a separator token between the first and second sentence, to follow the BERT input logic.\n",
        "The final output is a list of 4 elements, one for each choice, where the input is transformed by the tokenizer.\n",
        "For example, with a list of 2 training examples, the output includes 2 lists, where each contains 4 elements. Each of those elements is the converted input ID of the first sentence followed by the second sentence with different endings.\n",
        "When calling the `tokenizer`, we use the argument `truncation=True`. This will ensure that an input longer than what the model selected can handle will be truncated to the maximum length accepted by the model.\n",
        "\n",
        "**Hint:** Flatten the lists (all choices are flattened into a single list) before feeding them into the tokenizer and unflatten them once again for the final output."
      ]
    },
    {
      "cell_type": "code",
      "execution_count": 8,
      "id": "uEBvuUSm7FD_",
      "metadata": {
        "id": "uEBvuUSm7FD_"
      },
      "outputs": [],
      "source": [
        "### your code ###\n",
        "ending_names = [\"ending0\", \"ending1\", \"ending2\", \"ending3\"]\n",
        "### your code ###\n",
        "def preprocess_function(examples):\n",
        "  ### your code ###\n",
        "    # LOG print(examples)\n",
        "    # repeat each first sentence four times\n",
        "    first_sentences = list(map(lambda sample: [sample for i in range(4)], examples[\"sent1\"]))\n",
        "    # second sentences possible are combination of header and ending\n",
        "    question_headers = list(map(lambda sample: [sample for i in range(4)], examples[\"sent2\"]))\n",
        "    def map1(tup):\n",
        "      i, sentence_list = tup\n",
        "      def map2(tup2):\n",
        "         j, sentence = tup2\n",
        "         return sentence + \" \" + examples[ending_names[j]][i]\n",
        "      return list(map(map2, enumerate(sentence_list)))\n",
        "    second_sentences = list(map(map1, enumerate(question_headers)))\n",
        "\n",
        "    first_sentences = [item for row in first_sentences for item in row]\n",
        "    second_sentences = [item for row in second_sentences for item in row]\n",
        "    SENTENCE_BREAK = \" [SEP] \"\n",
        "    flatten = [m + SENTENCE_BREAK + n for m,n in zip(first_sentences, second_sentences)]\n",
        "\n",
        "    tokenized = tokenizer(flatten, truncation=True)\n",
        "    tokenized_dict = {k: [tokenized[\"input_ids\"][i:i+4] for i in range(0, len(tokenized[k]), 4)] for k, v in tokenized.items()}\n",
        "    # tokenized[\"input_ids\"] = [tokenized[\"input_ids\"][i:i+4] for i in range(0, len(tokenized[\"input_ids\"]), 4)]\n",
        "    # tokenized[\"attention_mask\"] = [tokenized[\"attention_mask\"][i:i+4] for i in range(0, len(tokenized[\"attention_mask\"]), 4)]\n",
        "\n",
        "    # LOG print(tokenized)\n",
        "    # un-flatten\n",
        "\n",
        "\n",
        "    return tokenized_dict\n",
        "    ### your code ###"
      ]
    },
    {
      "cell_type": "code",
      "execution_count": 9,
      "id": "9Q25z-jQ-rMu",
      "metadata": {
        "colab": {
          "base_uri": "https://localhost:8080/"
        },
        "id": "9Q25z-jQ-rMu",
        "outputId": "00d3c275-e261-45a1-c43c-d8f3921ed7b3"
      },
      "outputs": [
        {
          "name": "stdout",
          "output_type": "stream",
          "text": [
            "2 4 [30, 25, 30, 28]\n"
          ]
        }
      ],
      "source": [
        "examples = datasets[\"train\"][:2]\n",
        "features = preprocess_function(examples)\n",
        "print(len(features[\"input_ids\"]), len(features[\"input_ids\"][0]), [len(x) for x in features[\"input_ids\"][0]])# output should be 2 4 [30, 25, 30, 28]"
      ]
    },
    {
      "cell_type": "markdown",
      "id": "hKizHUiGXgj-",
      "metadata": {
        "id": "hKizHUiGXgj-"
      },
      "source": [
        "We can now apply our function to all the examples in the dataset. We use the `map` method to apply the function on all the elements of all the splits in the dataset (training, validation, and testing).\n",
        "Note that we passed `batched=True` to leverage the fast tokenizer and use multi-threading to process the texts in batches concurrently."
      ]
    },
    {
      "cell_type": "code",
      "execution_count": 10,
      "id": "9Wau4GZsXcvE",
      "metadata": {
        "id": "9Wau4GZsXcvE"
      },
      "outputs": [],
      "source": [
        "encoded_datasets = datasets.map(preprocess_function, batched=True)"
      ]
    },
    {
      "cell_type": "markdown",
      "id": "G69L2vtPR8uV",
      "metadata": {
        "id": "G69L2vtPR8uV"
      },
      "source": [
        "Our dataset is still not converted to tensors and not padded. This is the job of the `data collator`. A data collator takes a list of examples and converts them to a batch.\n",
        "There is no data collator in the Hugging Face default library that works on our specific problem. We thus need to write our own one. In this collator:\n",
        "\n",
        "*  All the inputs/attention masks are flattened.\n",
        "* A flattened list is passed to the `tokenizer.pad ` method to apply dynamic padding to pad inputs to the maximum length in the batch. Output will be the size of `(batch_size * 4) x seq_length`.\n",
        "* Everything needs to be unflattened for the output of the data collator.\n",
        "* `input_ids` and `labels` should be returned as tensors.\n",
        "* The output is a dictionary called `batch` that contains features needed for training (`input_ids`, `attention_mask`, `label`).\n",
        "\n"
      ]
    },
    {
      "cell_type": "code",
      "execution_count": 11,
      "id": "r_3SvkBOSgZx",
      "metadata": {
        "id": "r_3SvkBOSgZx"
      },
      "outputs": [],
      "source": [
        "from dataclasses import dataclass\n",
        "from transformers.tokenization_utils_base import PreTrainedTokenizerBase, PaddingStrategy\n",
        "from typing import Optional, Union\n",
        "import torch\n",
        "\n",
        "@dataclass\n",
        "class MultipleChoiceDataCollator:\n",
        "    tokenizer: PreTrainedTokenizerBase\n",
        "    padding: Union[bool, str, PaddingStrategy] = True\n",
        "    max_length: Optional[int] = None\n",
        "    pad_to_multiple_of: Optional[int] = None\n",
        "\n",
        "    def __call__(self, features):\n",
        "        accepted_keys = [\"input_ids\", \"attention_mask\", \"label\"]\n",
        "        if len(features[0])>len(accepted_keys):\n",
        "          features=[{k: v for k, v in i.items() if k in accepted_keys} for i in features]\n",
        "        ### your code ###\n",
        "        #print(\"features\")\n",
        "        #print(features)\n",
        "        labels = list(map(lambda sample: sample[\"label\"], features))\n",
        "        #print(labels)\n",
        "        # flatten\n",
        "        batch = {}\n",
        "        for key in accepted_keys:\n",
        "          if key == \"label\":\n",
        "             continue\n",
        "          flattened_features = list(map(lambda sample: sample[key], features))\n",
        "          flattened_features = [item for row in flattened_features for item in row]\n",
        "          batch[key] = flattened_features\n",
        "\n",
        "        batch = self.tokenizer.pad(batch, padding=self.padding, max_length=self.max_length, pad_to_multiple_of=self.pad_to_multiple_of, return_tensors=\"pt\")\n",
        "\n",
        "        #print(batch[\"input_ids\"].shape)\n",
        "        # un-flatten\n",
        "        # batch[\"input_ids\"] = torch.tensor(batch[\"input_ids\"]).reshape((len(features), 4, -1))\n",
        "        # batch[\"attention_mask\"] = torch.tensor(batch[\"attention_mask\"]).reshape((len(features), 4, -1))\n",
        "        batch = {k: v.reshape(len(features), len(features[0][\"input_ids\"]) , -1) for k, v in batch.items()}\n",
        "        batch[\"labels\"] = torch.tensor(labels, dtype=torch.long)\n",
        "\n",
        "        ### your code ###\n",
        "        return batch"
      ]
    },
    {
      "cell_type": "code",
      "execution_count": 12,
      "id": "-oKeJUr_UBUV",
      "metadata": {
        "colab": {
          "base_uri": "https://localhost:8080/"
        },
        "id": "-oKeJUr_UBUV",
        "outputId": "006ba375-69bf-4337-f568-de9927b059cd"
      },
      "outputs": [
        {
          "name": "stderr",
          "output_type": "stream",
          "text": [
            "You're using a DistilBertTokenizerFast tokenizer. Please note that with a fast tokenizer, using the `__call__` method is faster than using a method to encode the text followed by a call to the `pad` method to get a padded encoding.\n"
          ]
        },
        {
          "name": "stdout",
          "output_type": "stream",
          "text": [
            "torch.Size([2, 4, 35])\n",
            "torch.Size([2, 4, 35])\n",
            "torch.Size([2])\n"
          ]
        }
      ],
      "source": [
        "accepted_keys = [\"input_ids\", \"attention_mask\", \"label\"]\n",
        "features = [{k: v for k, v in encoded_datasets[\"train\"][i].items() if k in accepted_keys} for i in range(2)]\n",
        "batch=MultipleChoiceDataCollator(tokenizer)(features)\n",
        "print(batch[\"input_ids\"].shape)\n",
        "print(batch[\"attention_mask\"].shape)\n",
        "print(batch[\"labels\"].shape)"
      ]
    },
    {
      "cell_type": "code",
      "execution_count": 13,
      "id": "glDO1KfaVXoX",
      "metadata": {
        "colab": {
          "base_uri": "https://localhost:8080/"
        },
        "id": "glDO1KfaVXoX",
        "outputId": "f8e1495e-e18c-4cbd-d80d-a4834a1cdf42"
      },
      "outputs": [
        {
          "name": "stdout",
          "output_type": "stream",
          "text": [
            "tensor([  101,  2372,  1997,  1996, 14385,  3328,  2091,  1996,  2395,  3173,\n",
            "         2235,  7109,  8782,  5693,  1012,   102,  1037,  6943,  2240,  5235,\n",
            "         2011,  3788,  2091,  1996,  2395,  2652,  2037,  5693,  1012,   102,\n",
            "            0,     0,     0,     0,     0])\n",
            "[CLS] members of the procession walk down the street holding small horn brass instruments. [SEP] a drum line passes by walking down the street playing their instruments. [SEP] [PAD] [PAD] [PAD] [PAD] [PAD]\n",
            "tensor([  101,  2372,  1997,  1996, 14385,  3328,  2091,  1996,  2395,  3173,\n",
            "         2235,  7109,  8782,  5693,  1012,   102,  1037,  6943,  2240,  2038,\n",
            "         2657,  8455,  2068,  1012,   102,     0,     0,     0,     0,     0,\n",
            "            0,     0,     0,     0,     0])\n",
            "[CLS] members of the procession walk down the street holding small horn brass instruments. [SEP] a drum line has heard approaching them. [SEP] [PAD] [PAD] [PAD] [PAD] [PAD] [PAD] [PAD] [PAD] [PAD] [PAD]\n",
            "tensor([  101,  2372,  1997,  1996, 14385,  3328,  2091,  1996,  2395,  3173,\n",
            "         2235,  7109,  8782,  5693,  1012,   102,  1037,  6943,  2240,  8480,\n",
            "         1998,  2027,  1005,  2128,  2648,  5613,  1998,  6680,  1012,   102,\n",
            "            0,     0,     0,     0,     0])\n",
            "[CLS] members of the procession walk down the street holding small horn brass instruments. [SEP] a drum line arrives and they're outside dancing and asleep. [SEP] [PAD] [PAD] [PAD] [PAD] [PAD]\n",
            "tensor([  101,  2372,  1997,  1996, 14385,  3328,  2091,  1996,  2395,  3173,\n",
            "         2235,  7109,  8782,  5693,  1012,   102,  1037,  6943,  2240,  4332,\n",
            "         1996,  2599,  3220, 12197,  1996,  2836,  1012,   102,     0,     0,\n",
            "            0,     0,     0,     0,     0])\n",
            "[CLS] members of the procession walk down the street holding small horn brass instruments. [SEP] a drum line turns the lead singer watches the performance. [SEP] [PAD] [PAD] [PAD] [PAD] [PAD] [PAD] [PAD]\n"
          ]
        }
      ],
      "source": [
        "for i in range(4):\n",
        "  print(batch[\"input_ids\"][0][i])\n",
        "  print(tokenizer.decode(batch[\"input_ids\"][0][i]))"
      ]
    },
    {
      "cell_type": "markdown",
      "id": "WD4IjgtLYCLa",
      "metadata": {
        "id": "WD4IjgtLYCLa"
      },
      "source": [
        "#### ${\\color{red}{Comments\\ 2.1}}$\n",
        "\n",
        "${\\color{red}{⚠️Comments\\ begin⚠️}}$\n",
        "\n",
        "\n",
        "```\n",
        "cross-feedback comment section\n",
        "```\n",
        "\n",
        "\n",
        "${\\color{red}{⚠️Comments\\ end⚠️}}$"
      ]
    },
    {
      "cell_type": "markdown",
      "id": "mZZDaB9LXSB4",
      "metadata": {
        "id": "mZZDaB9LXSB4"
      },
      "source": [
        "### Subtask 2: Fine-tuning a Hugging Face Model"
      ]
    },
    {
      "cell_type": "markdown",
      "id": "toXHZtX7XSEs",
      "metadata": {
        "id": "toXHZtX7XSEs"
      },
      "source": [
        "To fine-tune our model, we first need to download the correct architecture from Hugging Face. Import the correct class for this task and download the pre-trained checkpoint for the base class from `distilbert-base-uncased`. Note that the weights in the classification head are initialized at random."
      ]
    },
    {
      "cell_type": "code",
      "execution_count": 14,
      "id": "NONtYIrE-w6p",
      "metadata": {
        "colab": {
          "base_uri": "https://localhost:8080/"
        },
        "id": "NONtYIrE-w6p",
        "outputId": "f5c3f5a6-c2a5-4568-b610-822fca856056"
      },
      "outputs": [
        {
          "name": "stderr",
          "output_type": "stream",
          "text": [
            "Some weights of DistilBertForMultipleChoice were not initialized from the model checkpoint at distilbert-base-uncased and are newly initialized: ['classifier.bias', 'classifier.weight', 'pre_classifier.weight', 'pre_classifier.bias']\n",
            "You should probably TRAIN this model on a down-stream task to be able to use it for predictions and inference.\n"
          ]
        }
      ],
      "source": [
        "### your code ###\n",
        "from transformers import AutoModelForMultipleChoice\n",
        "model_hf = AutoModelForMultipleChoice.from_pretrained(\"distilbert-base-uncased\")\n",
        "### your code ###"
      ]
    },
    {
      "cell_type": "markdown",
      "id": "f4C8rBosXSVi",
      "metadata": {
        "id": "f4C8rBosXSVi"
      },
      "source": [
        "Next, we need to define our `Trainer` and pass in the correct `TrainingArguments` (a class that contains all the attributes to customize the training). Define a `TrainingArguments` that\n",
        "\n",
        "\n",
        "* creates an output directory `distilbert-base-uncased-swag` to save the checkpoints and logs.\n",
        "*   evaluates the model on the validation set after the `300` steps.\n",
        "* a checkpoint should be saved after each `600` step and no more than 2 checkpoints should be saved in total.\n",
        "* the random seed for training is `77`.\n",
        "* batch size for training and evaluation: `48` (if you are running out of memory, feel free to change this setting but indicate it as a comment in your notebook, on a T4 GPU from google colab this takes about `13.2GB` of `15.0GB`).\n",
        "* train for `1800` steps with a learning rate of `5e-5`, and add weight decay of `0.01` to the optimizer.\n",
        "* the trainer should remove the columns from the data that are not used by the model.\n",
        "* The final checkpoint should be the checkpoint that had the best overall validation metric not necessarily the last checkpoint.\n",
        "\n",
        "**Note:** Please use GPU for to train your model. If on colab, you can use T4 GPU for free."
      ]
    },
    {
      "cell_type": "code",
      "execution_count": 15,
      "id": "DXLTm2Ed-1CI",
      "metadata": {
        "id": "DXLTm2Ed-1CI"
      },
      "outputs": [],
      "source": [
        "from transformers import TrainingArguments, Trainer\n",
        "training_args = TrainingArguments(output_dir=\"distilbert-base-uncased-swag\",\n",
        "                                  evaluation_strategy=\"steps\",\n",
        "                                  eval_steps=300,\n",
        "                                  save_strategy=\"steps\",\n",
        "                                  save_steps=600,\n",
        "                                  save_total_limit=2,\n",
        "                                  seed=77,\n",
        "                                  per_device_train_batch_size=48,\n",
        "                                  per_device_eval_batch_size=48,\n",
        "                                  learning_rate=5e-5,\n",
        "                                  max_steps= 1800,\n",
        "                                  weight_decay=0.01,\n",
        "                                  remove_unused_columns=True,\n",
        "                                  load_best_model_at_end= True)"
      ]
    },
    {
      "cell_type": "markdown",
      "id": "8w1tE975ZGS9",
      "metadata": {
        "id": "8w1tE975ZGS9"
      },
      "source": [
        "Before we initialize the `Trainer`, we create a function that tells the trainer how to compute the metrics from the predictions. Fill the `compute_metrics` function to compute the accuracy based on the `predictions`. This object contains the prediction of the model, as well as the ground truth labels.\n",
        "\n",
        "**Hint 1:** Keep in mind that the output of this function should be a dictionary containing the metric name and value.\n",
        "\n",
        "**Hint 2:** Consider the shape of the example input. This is similar to the logits produced by the model."
      ]
    },
    {
      "cell_type": "code",
      "execution_count": 16,
      "id": "gilWMRNJXsBq",
      "metadata": {
        "id": "gilWMRNJXsBq"
      },
      "outputs": [],
      "source": [
        "import numpy as np\n",
        "def compute_metrics(predictions):\n",
        "  ### your code ###\n",
        "   preds, label_ids = predictions\n",
        "   preds = np.argmax(preds, axis=1)\n",
        "   #print(preds == label_ids)\n",
        "   return_dict = {}\n",
        "   return_dict[\"accuracy\"] = np.sum(preds == label_ids) / len(preds == label_ids)\n",
        "  ### your code ###\n",
        "   return return_dict"
      ]
    },
    {
      "cell_type": "code",
      "execution_count": 17,
      "id": "SAC4DktAAt8y",
      "metadata": {
        "colab": {
          "base_uri": "https://localhost:8080/"
        },
        "id": "SAC4DktAAt8y",
        "outputId": "5033fcd3-4388-47bd-fc6a-3f31441fce0c"
      },
      "outputs": [
        {
          "data": {
            "text/plain": [
              "{'accuracy': 0.8}"
            ]
          },
          "execution_count": 17,
          "metadata": {},
          "output_type": "execute_result"
        }
      ],
      "source": [
        "preds=np.array([[0.9,0.2,0,0],\n",
        "                [0.2,0.2,0.9,0.1],\n",
        "                [0.2,0.9,0,0],\n",
        "                [0.2,0.1,0.8,0],\n",
        "                [0.9,0.1,0.8,0],\n",
        "                [0.2,1,0.4,0],\n",
        "                [0.2,1,0.4,0.9],\n",
        "                [1,0.1,0.4,0.3],\n",
        "                [0.1,0.1,0.9,0.3],\n",
        "                [0.1,0.1,0.2,1]])\n",
        "label_ids=np.array([0,3,1,2,0,1,3,0,2,3])\n",
        "compute_metrics((preds,label_ids))"
      ]
    },
    {
      "cell_type": "markdown",
      "id": "koPEX6UmAvTp",
      "metadata": {
        "id": "koPEX6UmAvTp"
      },
      "source": [
        "Now it's time to pass everything to a `Trainer` object to start the training process. Initialize a `Trainer` object and pass all the necessary information, keep in mind that we also have the optional metric computation and that we tend to run an evaluation on the validation set during training. The training should take around 30 min on Google Colab T4 GPU."
      ]
    },
    {
      "cell_type": "code",
      "execution_count": 18,
      "id": "38Xrwx4OSUIe",
      "metadata": {
        "colab": {
          "base_uri": "https://localhost:8080/"
        },
        "id": "38Xrwx4OSUIe",
        "outputId": "de7c00fb-2961-4a1b-9bec-615624498793"
      },
      "outputs": [
        {
          "data": {
            "text/plain": [
              "device(type='cuda')"
            ]
          },
          "execution_count": 18,
          "metadata": {},
          "output_type": "execute_result"
        }
      ],
      "source": [
        "device = torch.device(\"cuda\") if torch.cuda.is_available() else torch.device(\"cpu\")\n",
        "device"
      ]
    },
    {
      "cell_type": "code",
      "execution_count": 19,
      "id": "ybmjWr1gFoR9",
      "metadata": {
        "id": "ybmjWr1gFoR9"
      },
      "outputs": [],
      "source": [
        "### your code ###\n",
        "trainer = Trainer(model=model_hf.to(device),\n",
        "                  args=training_args,\n",
        "                  tokenizer = tokenizer,\n",
        "                  data_collator=MultipleChoiceDataCollator(tokenizer),\n",
        "                  train_dataset=encoded_datasets[\"train\"],\n",
        "                  eval_dataset=encoded_datasets[\"validation\"],\n",
        "                  compute_metrics=compute_metrics)\n",
        "### your code ###"
      ]
    },
    {
      "cell_type": "code",
      "execution_count": 20,
      "id": "UFcB9_hCF8Kx",
      "metadata": {
        "colab": {
          "base_uri": "https://localhost:8080/",
          "height": 317
        },
        "id": "UFcB9_hCF8Kx",
        "outputId": "8aa668e0-ca3f-4ac3-8a90-35ff3a592367"
      },
      "outputs": [
        {
          "data": {
            "text/html": [
              "\n",
              "    <div>\n",
              "      \n",
              "      <progress value='1800' max='1800' style='width:300px; height:20px; vertical-align: middle;'></progress>\n",
              "      [1800/1800 42:29, Epoch 1/2]\n",
              "    </div>\n",
              "    <table border=\"1\" class=\"dataframe\">\n",
              "  <thead>\n",
              " <tr style=\"text-align: left;\">\n",
              "      <th>Step</th>\n",
              "      <th>Training Loss</th>\n",
              "      <th>Validation Loss</th>\n",
              "      <th>Accuracy</th>\n",
              "    </tr>\n",
              "  </thead>\n",
              "  <tbody>\n",
              "    <tr>\n",
              "      <td>300</td>\n",
              "      <td>No log</td>\n",
              "      <td>0.906011</td>\n",
              "      <td>0.628262</td>\n",
              "    </tr>\n",
              "    <tr>\n",
              "      <td>600</td>\n",
              "      <td>1.054500</td>\n",
              "      <td>0.859721</td>\n",
              "      <td>0.648655</td>\n",
              "    </tr>\n",
              "    <tr>\n",
              "      <td>900</td>\n",
              "      <td>1.054500</td>\n",
              "      <td>0.796303</td>\n",
              "      <td>0.674198</td>\n",
              "    </tr>\n",
              "    <tr>\n",
              "      <td>1200</td>\n",
              "      <td>0.929400</td>\n",
              "      <td>0.768799</td>\n",
              "      <td>0.690343</td>\n",
              "    </tr>\n",
              "    <tr>\n",
              "      <td>1500</td>\n",
              "      <td>0.883300</td>\n",
              "      <td>0.735419</td>\n",
              "      <td>0.705688</td>\n",
              "    </tr>\n",
              "    <tr>\n",
              "      <td>1800</td>\n",
              "      <td>0.883300</td>\n",
              "      <td>0.732871</td>\n",
              "      <td>0.711187</td>\n",
              "    </tr>\n",
              "  </tbody>\n",
              "</table><p>"
            ],
            "text/plain": [
              "<IPython.core.display.HTML object>"
            ]
          },
          "metadata": {},
          "output_type": "display_data"
        },
        {
          "data": {
            "text/plain": [
              "TrainOutput(global_step=1800, training_loss=0.9083089023166233, metrics={'train_runtime': 2551.0056, 'train_samples_per_second': 33.869, 'train_steps_per_second': 0.706, 'total_flos': 5678117920017504.0, 'train_loss': 0.9083089023166233, 'epoch': 1.17})"
            ]
          },
          "execution_count": 20,
          "metadata": {},
          "output_type": "execute_result"
        }
      ],
      "source": [
        "trainer.train()# should take around 30 min on Google Colab T4 GPU"
      ]
    },
    {
      "cell_type": "markdown",
      "id": "nLXcPADKi73j",
      "metadata": {
        "id": "nLXcPADKi73j"
      },
      "source": [
        "Save the model in `distilbert-base-uncased-swag/final_model`."
      ]
    },
    {
      "cell_type": "code",
      "execution_count": 21,
      "id": "tlHd67J2qBdA",
      "metadata": {
        "id": "tlHd67J2qBdA"
      },
      "outputs": [],
      "source": [
        "### your code ###\n",
        "trainer.save_model(\"./distilbert-base-uncased-swag/final_model\")\n",
        "### your code ###"
      ]
    },
    {
      "cell_type": "markdown",
      "id": "of7b-SkFne_J",
      "metadata": {
        "id": "of7b-SkFne_J"
      },
      "source": [
        "Look at the saved files and answer the following questions (it is possible to answer these questions by writing some code, but we want you to explore the saved files):\n",
        "\n",
        "**Question:**\n",
        "\n",
        "\n",
        "1.   What is the vocabulary id for the `[CLS]` and `[MASK]` tokens?\n",
        "2.   What is the dropout probability for the attention layer?\n",
        "\n",
        "**Dropout:** With dropout, certain nodes are set to the value zero in a training run, i.e. removed from the network. Thus, they have no influence on the prediction and also in the backpropagation. Thus, a new, slightly modified network architecture is built in each run and the network learns to produce good predictions without certain inputs. Read more [here](https://databasecamp.de/en/ml/dropout-layer-en).\n",
        "\n"
      ]
    },
    {
      "cell_type": "markdown",
      "id": "eZ74Uaouno6L",
      "metadata": {
        "id": "eZ74Uaouno6L"
      },
      "source": [
        "**Answer**\n",
        "\n",
        "1. [CLS] should be 102, [MASK] should be 104 (I analyzed according to instructions here https://huggingface.co/docs/safetensors/index)\n",
        "2. Attention_dropout is 0.1 accourding to config dictionary\n"
      ]
    },
    {
      "cell_type": "markdown",
      "id": "Auvva-EkGcRR",
      "metadata": {
        "id": "Auvva-EkGcRR"
      },
      "source": [
        "#### ${\\color{red}{Comments\\ 2.2}}$\n",
        "\n",
        "${\\color{red}{⚠️Comments\\ begin⚠️}}$\n",
        "\n",
        "\n",
        "```\n",
        "cross-feedback comment section\n",
        "```\n",
        "\n",
        "\n",
        "${\\color{red}{⚠️Comments\\ end⚠️}}$"
      ]
    },
    {
      "cell_type": "markdown",
      "id": "vAcJQfpHAvbR",
      "metadata": {
        "id": "vAcJQfpHAvbR"
      },
      "source": [
        "### Subtask 3: Fine-tune a Custom Model\n"
      ]
    },
    {
      "cell_type": "markdown",
      "id": "QT3cbQO-wnio",
      "metadata": {
        "id": "QT3cbQO-wnio"
      },
      "source": [
        "In this case, we were lucky that Hugging Face had a pre-implemented architecture available for us to use. However, that is not always the case. Moreover, we might want to experiment beyond the default architectures to find a suitable one for a task. Therefore, it is important to learn to extend the Hugging Face models and train a custom model. The good news is that except for the model architecture the rest of the code can remain as it is."
      ]
    },
    {
      "cell_type": "markdown",
      "id": "G2RtNQewxG2O",
      "metadata": {
        "id": "G2RtNQewxG2O"
      },
      "source": [
        "Design a model for multiple choice model as follows:\n",
        "\n",
        "\n",
        "1.   the config file for a feature extractor (must be a distilbert type) is  passed during initialization. The config file determines which model is used for feature extraction.\n",
        "2.   From the `last_hidden_state` of the feature extractor, choose the `[CLS]` embedding (first one). This embedding is used as the compressed representation of first and second sentences. During pre-training it is used  for classifying whether these two sentences follow one another, making it a good candidate for our task.\n",
        "3. `[CLS]` embedding is passed through a linear layer **that does not change the size of the embedding** and is passed through a tanh nonlinearity.\n",
        "4. The output of tanh is passed through a dropout layer, where the dropout probability is the same as the dropout probability used for the `distilbert` model used as feature extractor.\n",
        "5. The output of the previous stage is fed into another linear layer that shrinks the size of the embedding dimension to a quarter of the original size, e.g., if the embedding size is 12, the new embedding dimension is 3.\n",
        "6. The output is followed by another dropout layer (you can use the one from stage 4).\n",
        "7. Finally, a binary classifier is applied to determine the probability of sentence 1 being followed by sentence 2.\n",
        "8. the cross-entropy loss is used to compute the loss.\n",
        "\n",
        "**Hint:** Keep in mind that for a 4 choice system, you classify each of the four solutions independently. However, the final output should group the four logits together. For example, if input ids have the shape `[2, 4, 35]` (batch size=2, num choices=4, seq len=35), then the logits have the `[2, 4]` and labels have the dimension `[2, 1]`.\n",
        "\n"
      ]
    },
    {
      "cell_type": "code",
      "execution_count": 22,
      "id": "KUZOp8o1Pb9X",
      "metadata": {
        "id": "KUZOp8o1Pb9X"
      },
      "outputs": [],
      "source": [
        "from transformers import DistilBertModel,BertConfig,DistilBertConfig,PretrainedConfig,PreTrainedModel,DistilBertPreTrainedModel\n",
        "from torch import nn\n",
        "\n",
        "class CustomMultipleChoice(DistilBertPreTrainedModel):\n",
        "    def __init__(self, config: PretrainedConfig):\n",
        "        super().__init__(config)\n",
        "        ###your code ###\n",
        "        self.distilbert = DistilBertModel.from_pretrained(config._name_or_path)\n",
        "        self.dense = nn.Linear(config.hidden_size, config.hidden_size)\n",
        "        self.activation = nn.Tanh()\n",
        "        self.dropout = nn.Dropout(config.seq_classif_dropout)\n",
        "        self.dense2 = nn.Linear(config.hidden_size, config.hidden_size // 4)\n",
        "        self.classifier = nn.Linear(config.hidden_size // 4, 1)\n",
        "        ###your code ###\n",
        "\n",
        "\n",
        "    def forward(\n",
        "        self,\n",
        "        input_ids: Optional[torch.Tensor] = None,\n",
        "        attention_mask: Optional[torch.Tensor] = None,\n",
        "        labels: Optional[torch.Tensor] = None,\n",
        "    ):\n",
        "        \"\"\"\n",
        "        input_ids: input sentences converted to ids\n",
        "        attention_mask: the attention mask\n",
        "        labels:  Labels for computing the multiple choice classification loss. Indices should be in `[0, ...,num_choices-1]` where `num_choices` is the size of the second dimension of the input tensors.\n",
        "        \"\"\"\n",
        "\n",
        "        num_choices = input_ids.shape[1]\n",
        "\n",
        "        input_ids = input_ids.reshape(-1, input_ids.size(-1))\n",
        "        attention_mask = attention_mask.reshape(-1, attention_mask.size(-1))\n",
        "        distilbert_out = self.distilbert(input_ids = input_ids, attention_mask = attention_mask)\n",
        "        last_hidden_state = distilbert_out.last_hidden_state\n",
        "        cls_emb = last_hidden_state[:, 0, :]\n",
        "\n",
        "        out = self.dropout(self.activation(self.dense(cls_emb)))\n",
        "        out = self.dropout(self.dense2(out))\n",
        "\n",
        "        # classifier and reshape\n",
        "        reshaped_logits = self.classifier(out).reshape(-1, num_choices)\n",
        "\n",
        "        loss = None\n",
        "        if labels is not None:\n",
        "          loss_actual = nn.CrossEntropyLoss()\n",
        "          loss = loss_actual(reshaped_logits, labels.view(-1))\n",
        "\n",
        "        ###your code ###\n",
        "        return {\"loss\":loss,\"logits\":reshaped_logits}\n"
      ]
    },
    {
      "cell_type": "markdown",
      "id": "IXFcGJQPgjil",
      "metadata": {
        "id": "IXFcGJQPgjil"
      },
      "source": [
        "Initialize the feature extractor with `distilbert-base-uncased` and create your custome model."
      ]
    },
    {
      "cell_type": "code",
      "execution_count": 23,
      "id": "GHCT0HdYKk5p",
      "metadata": {
        "colab": {
          "base_uri": "https://localhost:8080/"
        },
        "id": "GHCT0HdYKk5p",
        "outputId": "eaffc4ed-f5c5-45c9-c27b-6581a181131b"
      },
      "outputs": [
        {
          "name": "stderr",
          "output_type": "stream",
          "text": [
            "/usr/local/lib/python3.10/dist-packages/huggingface_hub/utils/_token.py:72: UserWarning: \n",
            "The secret `HF_TOKEN` does not exist in your Colab secrets.\n",
            "To authenticate with the Hugging Face Hub, create a token in your settings tab (https://huggingface.co/settings/tokens), set it as secret in your Google Colab and restart your session.\n",
            "You will be able to reuse this secret in all of your notebooks.\n",
            "Please note that authentication is recommended but still optional to access public models or datasets.\n",
            "  warnings.warn(\n"
          ]
        }
      ],
      "source": [
        "from transformers import AutoConfig\n",
        "###your code ###\n",
        "config = AutoConfig.from_pretrained(\"distilbert-base-uncased\")\n",
        "model_custom = CustomMultipleChoice(config)\n",
        "###your code ###"
      ]
    },
    {
      "cell_type": "code",
      "execution_count": 24,
      "id": "_genDEZbgsJd",
      "metadata": {
        "colab": {
          "base_uri": "https://localhost:8080/"
        },
        "id": "_genDEZbgsJd",
        "outputId": "2c721754-e493-4ba4-db6b-c9d74fe8808f"
      },
      "outputs": [
        {
          "name": "stdout",
          "output_type": "stream",
          "text": [
            "dense.weight torch.Size([768, 768])\n",
            "dense.bias torch.Size([768])\n",
            "dense2.weight torch.Size([192, 768])\n",
            "dense2.bias torch.Size([192])\n",
            "classifier.weight torch.Size([1, 192])\n",
            "classifier.bias torch.Size([1])\n"
          ]
        }
      ],
      "source": [
        "for name, param in model_custom.named_parameters():\n",
        "    if param.requires_grad and not name.startswith(\"distilbert.\"):\n",
        "        print(name, param.data.shape)"
      ]
    },
    {
      "cell_type": "markdown",
      "id": "yyD-ivMzh5P7",
      "metadata": {
        "id": "yyD-ivMzh5P7"
      },
      "source": [
        "We keep the same training arguments but change the directory in which we save the model logs, the directory in which we save the model output and the name of the run, to `custom_model`.\n",
        "\n"
      ]
    },
    {
      "cell_type": "code",
      "execution_count": 25,
      "id": "aX5Jw-Eubo56",
      "metadata": {
        "id": "aX5Jw-Eubo56"
      },
      "outputs": [],
      "source": [
        "###your code ###\n",
        "\n",
        "training_args_custom = TrainingArguments(output_dir=\"custom_model\",\n",
        "                                  evaluation_strategy=\"steps\",\n",
        "                                  eval_steps=300,\n",
        "                                  save_strategy=\"steps\",\n",
        "                                  save_steps=600,\n",
        "                                  save_total_limit=2,\n",
        "                                  seed=77,\n",
        "                                  per_device_train_batch_size=48,\n",
        "                                  per_device_eval_batch_size=48,\n",
        "                                  learning_rate=5e-5,\n",
        "                                  max_steps= 1800,\n",
        "                                  weight_decay=0.01,\n",
        "                                  remove_unused_columns=True,\n",
        "                                  load_best_model_at_end= True)\n",
        "\n",
        "###your code ###"
      ]
    },
    {
      "cell_type": "markdown",
      "id": "0sCoDrINiO0j",
      "metadata": {
        "id": "0sCoDrINiO0j"
      },
      "source": [
        "Initialize the trainer for training the custom model.The training should take around 30 min on Google Colab T4 GPU.\n"
      ]
    },
    {
      "cell_type": "code",
      "execution_count": 26,
      "id": "s1_2hwKabo8p",
      "metadata": {
        "id": "s1_2hwKabo8p"
      },
      "outputs": [],
      "source": [
        "### your code ###\n",
        "trainer = Trainer(model=model_custom.to(device),\n",
        "                  args=training_args_custom,\n",
        "                  data_collator=MultipleChoiceDataCollator(tokenizer),\n",
        "                  tokenizer = tokenizer,\n",
        "                  train_dataset=encoded_datasets[\"train\"],\n",
        "                  eval_dataset=encoded_datasets[\"validation\"],\n",
        "                  compute_metrics=compute_metrics)\n",
        "### your code ###\n",
        "###your code ###\n"
      ]
    },
    {
      "cell_type": "code",
      "execution_count": 27,
      "id": "btobBRSZbo_O",
      "metadata": {
        "colab": {
          "base_uri": "https://localhost:8080/",
          "height": 317
        },
        "id": "btobBRSZbo_O",
        "outputId": "8ef5283a-fc4b-4728-ff9a-95865daa36d3"
      },
      "outputs": [
        {
          "data": {
            "text/html": [
              "\n",
              "    <div>\n",
              "      \n",
              "      <progress value='1800' max='1800' style='width:300px; height:20px; vertical-align: middle;'></progress>\n",
              "      [1800/1800 42:37, Epoch 1/2]\n",
              "    </div>\n",
              "    <table border=\"1\" class=\"dataframe\">\n",
              "  <thead>\n",
              " <tr style=\"text-align: left;\">\n",
              "      <th>Step</th>\n",
              "      <th>Training Loss</th>\n",
              "      <th>Validation Loss</th>\n",
              "      <th>Accuracy</th>\n",
              "    </tr>\n",
              "  </thead>\n",
              "  <tbody>\n",
              "    <tr>\n",
              "      <td>300</td>\n",
              "      <td>No log</td>\n",
              "      <td>0.898943</td>\n",
              "      <td>0.630011</td>\n",
              "    </tr>\n",
              "    <tr>\n",
              "      <td>600</td>\n",
              "      <td>1.058800</td>\n",
              "      <td>0.852425</td>\n",
              "      <td>0.651655</td>\n",
              "    </tr>\n",
              "    <tr>\n",
              "      <td>900</td>\n",
              "      <td>1.058800</td>\n",
              "      <td>0.793844</td>\n",
              "      <td>0.677647</td>\n",
              "    </tr>\n",
              "    <tr>\n",
              "      <td>1200</td>\n",
              "      <td>0.927000</td>\n",
              "      <td>0.770358</td>\n",
              "      <td>0.690893</td>\n",
              "    </tr>\n",
              "    <tr>\n",
              "      <td>1500</td>\n",
              "      <td>0.878800</td>\n",
              "      <td>0.729500</td>\n",
              "      <td>0.709637</td>\n",
              "    </tr>\n",
              "    <tr>\n",
              "      <td>1800</td>\n",
              "      <td>0.878800</td>\n",
              "      <td>0.731600</td>\n",
              "      <td>0.711686</td>\n",
              "    </tr>\n",
              "  </tbody>\n",
              "</table><p>"
            ],
            "text/plain": [
              "<IPython.core.display.HTML object>"
            ]
          },
          "metadata": {},
          "output_type": "display_data"
        },
        {
          "data": {
            "text/plain": [
              "TrainOutput(global_step=1800, training_loss=0.9070977952745226, metrics={'train_runtime': 2558.6785, 'train_samples_per_second': 33.767, 'train_steps_per_second': 0.703, 'total_flos': 5697484563348576.0, 'train_loss': 0.9070977952745226, 'epoch': 1.17})"
            ]
          },
          "execution_count": 27,
          "metadata": {},
          "output_type": "execute_result"
        }
      ],
      "source": [
        "trainer.train()# should take around 30 min on Colab T4 GPU"
      ]
    },
    {
      "cell_type": "markdown",
      "id": "B9Fi0ZZYjIdJ",
      "metadata": {
        "id": "B9Fi0ZZYjIdJ"
      },
      "source": [
        "Save the model in `custom_model/final_model`. Note that with the custom model, you need to save it without the help of the trainer. The trainer would save the configuration but since this model is not a registered Hugging Face model only the base model would be saved. Loading the model weights is also effected by this."
      ]
    },
    {
      "cell_type": "code",
      "execution_count": 28,
      "id": "rvb3xo-ibpB9",
      "metadata": {
        "id": "rvb3xo-ibpB9"
      },
      "outputs": [],
      "source": [
        "###your code ###\n",
        "model_custom.save_pretrained(\"./custom_model/final_model\")\n",
        "###your code ###"
      ]
    },
    {
      "cell_type": "markdown",
      "id": "UxU3fivlihOX",
      "metadata": {
        "id": "UxU3fivlihOX"
      },
      "source": [
        "#### ${\\color{red}{Comments\\ 2.3}}$\n",
        "\n",
        "${\\color{red}{⚠️Comments\\ begin⚠️}}$\n",
        "\n",
        "\n",
        "```\n",
        "cross-feedback comment section\n",
        "```\n",
        "\n",
        "\n",
        "${\\color{red}{⚠️Comments\\ end⚠️}}$"
      ]
    },
    {
      "cell_type": "markdown",
      "id": "A_M4MSb0kcBP",
      "metadata": {
        "id": "A_M4MSb0kcBP"
      },
      "source": [
        "### Subtask 4: Evaluation and Model Comparison"
      ]
    },
    {
      "cell_type": "markdown",
      "id": "4oO0XKbbmzzW",
      "metadata": {
        "id": "4oO0XKbbmzzW"
      },
      "source": [
        "Many times you do not perform the final evaluation right after training, but load the checkpoints and evaluate them on the fly. To this end, load the two models from  disk."
      ]
    },
    {
      "cell_type": "code",
      "execution_count": 29,
      "id": "ptE1gxKwa843",
      "metadata": {
        "id": "ptE1gxKwa843"
      },
      "outputs": [],
      "source": [
        "from transformers import AutoModelForMultipleChoice,AutoConfig\n",
        "### your code ###\n",
        "model_hf = AutoModelForMultipleChoice.from_pretrained(\"./distilbert-base-uncased-swag/final_model\")\n",
        "model_custom = CustomMultipleChoice.from_pretrained(\"./custom_model/final_model\")\n",
        "### your code ###"
      ]
    },
    {
      "cell_type": "markdown",
      "id": "Am9mUOXHbwC9",
      "metadata": {
        "id": "Am9mUOXHbwC9"
      },
      "source": [
        "To evaluate the data we load the validation split using a data loader and our previously defined data collator. Note that although we had a test split we cannot use it, since there are no labels available for this split (you can check the data to confirm this)."
      ]
    },
    {
      "cell_type": "code",
      "execution_count": 30,
      "id": "jhBq38xadGvA",
      "metadata": {
        "id": "jhBq38xadGvA"
      },
      "outputs": [],
      "source": [
        "from torch.utils.data import DataLoader\n",
        "import evaluate\n",
        "\n",
        "eval_dataloader = DataLoader(encoded_datasets[\"validation\"], batch_size=64, collate_fn=MultipleChoiceDataCollator(tokenizer))"
      ]
    },
    {
      "cell_type": "markdown",
      "id": "ctcpVXXrl8Wd",
      "metadata": {
        "id": "ctcpVXXrl8Wd"
      },
      "source": [
        "To make things easier, let's use the `evaluate` library from Hugging Face to compute the accuracy metric. Here we load `accuracy` from the `evaluate` library two times, one for the custom model and one for the Hugging Face model. Further, we put the models on eval mode. Complete the code for evaluation using the capabilities of the `evaluate` library to simultaneously compute the metric for both models.\n"
      ]
    },
    {
      "cell_type": "code",
      "execution_count": 31,
      "id": "1AZcv5RQbfwq",
      "metadata": {
        "colab": {
          "base_uri": "https://localhost:8080/",
          "height": 103,
          "referenced_widgets": [
            "fb98e2b5fcfb4974b9f3871295412508",
            "a781a630c4d24595829d2d5e15214221",
            "a77a74e6ceff4a4f90113244585ed15c",
            "af30cdf6e0c34e98b78970298a7f6eaf",
            "b70f102f96b24a7b8445ab8c31dc6522",
            "4abd760e66f74f039871e99f36c16a73",
            "e2b599939c8245679baea8f78c9c637b",
            "24637a209ee54532952f0ead88722a08",
            "fc6c44a6ccd84f2cbafd1d58991e570a",
            "e0fa551b768348f7a4e0f374e0449073",
            "4ec3753920304fa4a48943d72ec95768"
          ]
        },
        "id": "1AZcv5RQbfwq",
        "outputId": "e9a52a74-0159-4b12-d7ef-77ae21860ca2"
      },
      "outputs": [
        {
          "data": {
            "application/vnd.jupyter.widget-view+json": {
              "model_id": "fb98e2b5fcfb4974b9f3871295412508",
              "version_major": 2,
              "version_minor": 0
            },
            "text/plain": [
              "Downloading builder script:   0%|          | 0.00/4.20k [00:00<?, ?B/s]"
            ]
          },
          "metadata": {},
          "output_type": "display_data"
        },
        {
          "name": "stderr",
          "output_type": "stream",
          "text": [
            "100%|██████████| 313/313 [04:48<00:00,  1.08it/s]"
          ]
        },
        {
          "name": "stdout",
          "output_type": "stream",
          "text": [
            "Hugging Face Model : {'accuracy': 0.711186644006798}\n",
            "Custom Model : {'accuracy': 0.7116864940517844}\n"
          ]
        },
        {
          "name": "stderr",
          "output_type": "stream",
          "text": [
            "\n"
          ]
        }
      ],
      "source": [
        "from tqdm import tqdm\n",
        "device = torch.device(\"cuda\") if torch.cuda.is_available() else torch.device(\"cpu\")\n",
        "metric_dict={\"custom\":evaluate.load(\"accuracy\"),\"hf\":evaluate.load(\"accuracy\")} #use to compute accuracy\n",
        "models_dict= {\"custom\":model_custom,\"hf\":model_hf}# use to access models\n",
        "\n",
        "for name, model in models_dict.items():\n",
        "  model.to(device)\n",
        "  model.eval()\n",
        "\n",
        "for i,batch in tqdm(enumerate(eval_dataloader), total=len(eval_dataloader)):\n",
        "  ### your code ###\n",
        "  #evaluate on both model on each batch\n",
        "  input_ids = batch[\"input_ids\"].to(device)\n",
        "  attention_mask = batch[\"attention_mask\"].to(device)\n",
        "  labels = batch[\"labels\"].to(device)\n",
        "\n",
        "  #evaluate first model - Hugging Face\n",
        "  with torch.no_grad():\n",
        "    output_hf = model_hf(input_ids, attention_mask = attention_mask, labels = labels)\n",
        "    logits_hf = output_hf.logits\n",
        "  predictions_hf = torch.argmax(logits_hf, dim=1)\n",
        "\n",
        "  #evaluate second model - custom\n",
        "  with torch.no_grad():\n",
        "    output_custom = model_custom(input_ids, attention_mask = attention_mask, labels = labels)\n",
        "    logits_custom = output_custom[\"logits\"]\n",
        "  predictions_custom = torch.argmax(logits_custom, dim=1)\n",
        "\n",
        "  #update metrics\n",
        "  metric_dict[\"custom\"].add_batch(predictions=predictions_custom, references = labels)\n",
        "  metric_dict[\"hf\"].add_batch(predictions=predictions_hf, references = labels)\n",
        "\n",
        "acc_hf = metric_dict[\"hf\"].compute()\n",
        "acc_custom = metric_dict[\"custom\"].compute()\n",
        "  ### your code ###\n",
        "print(\"Hugging Face Model :\",acc_hf)\n",
        "print(\"Custom Model :\",acc_custom)"
      ]
    },
    {
      "cell_type": "markdown",
      "id": "HQC6grKnuSgZ",
      "metadata": {
        "id": "HQC6grKnuSgZ"
      },
      "source": [
        "#### ${\\color{red}{Comments\\ 2.4}}$\n",
        "\n",
        "${\\color{red}{⚠️Comments\\ begin⚠️}}$\n",
        "\n",
        "\n",
        "```\n",
        "cross-feedback comment section\n",
        "```\n",
        "\n",
        "\n",
        "${\\color{red}{⚠️Comments\\ end⚠️}}$"
      ]
    },
    {
      "cell_type": "markdown",
      "id": "_sO-H1PVMSsp",
      "metadata": {
        "id": "_sO-H1PVMSsp"
      },
      "source": [
        "## **Task 3: Encoder-Decoder Architecture** (5 + 2 + 2 + 5 = 14 points)"
      ]
    },
    {
      "cell_type": "markdown",
      "id": "W42O89DrMZNj",
      "metadata": {
        "id": "W42O89DrMZNj"
      },
      "source": [
        "We explored an encoder-based model (BERT) in the previous exercise. In this task, we look at another family of transformer architectures, the encoder-decoder. We use the [T5](https://arxiv.org/pdf/1910.10683.pdf) model, presented by Raffel et al.  T5 is an encoder-decoder architecture pre-trained on a multi-task mixture of unsupervised and supervised tasks. In this task, we set up a fine-tuning example for question answering using the [SQUAD](https://huggingface.co/datasets/squad) dataset. Since the actual fine-tuning is time-consuming and computational intensive for inference, we use an already pre-trained model. The main goal is to introduce you to the structure of the fine-tuning and its simplicity with the Hugging Face framework."
      ]
    },
    {
      "cell_type": "markdown",
      "id": "c-oSCvS6wwef",
      "metadata": {
        "id": "c-oSCvS6wwef"
      },
      "source": [
        "To fine-tune the BERT-based models, we usually add a task-specific head. On the other hand, T5 converts all NLP problems into a text-to-text format.  \n",
        "It is trained using teacher forcing, meaning that we require an input sequence and a corresponding target sequence.\n",
        "\n",
        "\n",
        "1.   The input sequence is fed to the model using `input_ids` from the tokenizer.\n",
        "2.   The target sequence is shifted to the right, i.e., prepended by a start-sequence token and fed to the decoder using the `decoder_input_ids` (input_ids of the encoded target sequence). The target sequence is appended by EOS (end of the sentence) to denote the end of a generation and corresponds to the `labels`.\n",
        "3. The task prefix defines what task is expected of T5. For example, we prepend the input sequence with `translate English to German: ` before encoding the input to tell the model to translate. T5 already has a set of pre-defined task prefixes, and it is best to stick to those since they were used during pre-training. With enough training data, you can also introduce your own custom task.\n"
      ]
    },
    {
      "cell_type": "markdown",
      "id": "sg6jO_SeznX3",
      "metadata": {
        "id": "sg6jO_SeznX3"
      },
      "source": [
        "In contrast to the encoder model, where only a single `max_length` is required, for encoder-decoder architectures, one typically defines a `max_source_length` and `max_target_length`, which determine the maximum length of the input and output sequences, respectively. We must also ensure that the padding ID of the `labels` is not taken into account by the loss function. This can be done by replacing them with `-100`, which is the `ignore_index` of the `CrossEntropyLoss`."
      ]
    },
    {
      "cell_type": "markdown",
      "id": "0zLQjAxlNzJ_",
      "metadata": {
        "id": "0zLQjAxlNzJ_"
      },
      "source": [
        "### Subtask 1: Data Processing"
      ]
    },
    {
      "cell_type": "markdown",
      "id": "7hx8LCNjBlvi",
      "metadata": {
        "id": "7hx8LCNjBlvi"
      },
      "source": [
        "We first start by loading the dataset from Hugging Face hub:"
      ]
    },
    {
      "cell_type": "code",
      "execution_count": null,
      "id": "FjujP1xsuQGX",
      "metadata": {
        "id": "FjujP1xsuQGX",
        "outputId": "724bcdc4-4f8c-4007-a432-c29bc93064c1"
      },
      "outputs": [
        {
          "data": {
            "text/plain": [
              "DatasetDict({\n",
              "    train: Dataset({\n",
              "        features: ['id', 'title', 'context', 'question', 'answers'],\n",
              "        num_rows: 87599\n",
              "    })\n",
              "    validation: Dataset({\n",
              "        features: ['id', 'title', 'context', 'question', 'answers'],\n",
              "        num_rows: 10570\n",
              "    })\n",
              "})"
            ]
          },
          "execution_count": 1,
          "metadata": {},
          "output_type": "execute_result"
        }
      ],
      "source": [
        "from datasets import load_dataset\n",
        "\n",
        "datasets_squad = load_dataset(\"squad\")\n",
        "datasets_squad"
      ]
    },
    {
      "cell_type": "code",
      "execution_count": null,
      "id": "x7VEY66uEEeY",
      "metadata": {
        "id": "x7VEY66uEEeY",
        "outputId": "597fe087-0e6e-4191-9f2a-0498163b89a7"
      },
      "outputs": [
        {
          "name": "stdout",
          "output_type": "stream",
          "text": [
            "context ----> Architecturally, the school has a Catholic character. Atop the Main Building's gold dome is a golden statue of the Virgin Mary. Immediately in front of the Main Building and facing it, is a copper statue of Christ with arms upraised with the legend \"Venite Ad Me Omnes\". Next to the Main Building is the Basilica of the Sacred Heart. Immediately behind the basilica is the Grotto, a Marian place of prayer and reflection. It is a replica of the grotto at Lourdes, France where the Virgin Mary reputedly appeared to Saint Bernadette Soubirous in 1858. At the end of the main drive (and in a direct line that connects through 3 statues and the Gold Dome), is a simple, modern stone statue of Mary.\n",
            "question ----> To whom did the Virgin Mary allegedly appear in 1858 in Lourdes France?\n",
            "answers ----> {'text': ['Saint Bernadette Soubirous'], 'answer_start': [515]}\n"
          ]
        }
      ],
      "source": [
        "print(\"context ---->\" ,datasets_squad[\"train\"][0][\"context\"])\n",
        "print(\"question ---->\",datasets_squad[\"train\"][0][\"question\"])\n",
        "print(\"answers ---->\",datasets_squad[\"train\"][0][\"answers\"])"
      ]
    },
    {
      "cell_type": "markdown",
      "id": "5OrYB9xBByvj",
      "metadata": {
        "id": "5OrYB9xBByvj"
      },
      "source": [
        "Now let's load the needed pre-trained tokenizer for `t5-small`, which is the smallest T5 model. Set the maximum sequence length to `512`."
      ]
    },
    {
      "cell_type": "code",
      "execution_count": null,
      "id": "WwYjYXASMg_z",
      "metadata": {
        "id": "WwYjYXASMg_z",
        "outputId": "1822ea21-9a12-4f90-c95f-11a7f8b99584"
      },
      "outputs": [
        {
          "name": "stderr",
          "output_type": "stream",
          "text": [
            "You are using the default legacy behaviour of the <class 'transformers.models.t5.tokenization_t5.T5Tokenizer'>. This is expected, and simply means that the `legacy` (previous) behavior will be used so nothing changes for you. If you want to use the new behaviour, set `legacy=False`. This should only be set if you understand what it means, and thouroughly read the reason why this was added as explained in https://github.com/huggingface/transformers/pull/24565\n",
            "Special tokens have been added in the vocabulary, make sure the associated word embeddings are fine-tuned or trained.\n"
          ]
        }
      ],
      "source": [
        "import torch\n",
        "### your code ###\n",
        "from transformers import AutoTokenizer, T5ForConditionalGeneration, T5Tokenizer\n",
        "model_name = \"t5-small\"\n",
        "t5_tokenizer = T5Tokenizer.from_pretrained(model_name)\n",
        "# model = T5ForConditionalGeneration.from_pretrained(model_name)\n",
        "### your code ###"
      ]
    },
    {
      "cell_type": "markdown",
      "id": "FvN50codiJXR",
      "metadata": {
        "id": "FvN50codiJXR"
      },
      "source": [
        "The next step is to pre-process the dataset using the tokenizer to convert the sequences to IDs and add the special tokens.\n",
        "T5 is based on the SentencePiece tokenizer, and the end of sentence token is denoted by `</s>`.\n",
        "Complete the function `add_eos_to_examples` to format the input and target sequence. Your input as `input_text` should have the format `question:{question_text} context:{context_text} <EOS_Token>` and your target as `target_text` should have the format `{answer_text} <EOS_Token>`."
      ]
    },
    {
      "cell_type": "code",
      "execution_count": null,
      "id": "xbisNi2-MYC2",
      "metadata": {
        "id": "xbisNi2-MYC2"
      },
      "outputs": [],
      "source": [
        "def add_eos_to_examples(example):\n",
        "    ### your code ###\n",
        "    eos_token = \"</s>\"\n",
        "    example['input_text'] = f\"question:{example['question']} context:{example['context']} {eos_token}\"\n",
        "    example['target_text'] = f\"{example['answers']} {eos_token}\"\n",
        "    ### your code ###\n",
        "    return example"
      ]
    },
    {
      "cell_type": "markdown",
      "id": "l1cI8qcCIcXM",
      "metadata": {
        "id": "l1cI8qcCIcXM"
      },
      "source": [
        "Use the `map` function to process the data, and do not set the `batched` argument."
      ]
    },
    {
      "cell_type": "code",
      "execution_count": null,
      "id": "Z7Q2TH_AIJDp",
      "metadata": {
        "id": "Z7Q2TH_AIJDp"
      },
      "outputs": [],
      "source": [
        "### your code ###\n",
        "encoded_squad = datasets_squad.map(add_eos_to_examples)\n",
        "### your code ###"
      ]
    },
    {
      "cell_type": "code",
      "execution_count": null,
      "id": "2647a725",
      "metadata": {
        "id": "2647a725",
        "outputId": "b2094d98-7579-4f5a-84b7-bf2a6736ace0"
      },
      "outputs": [
        {
          "name": "stdout",
          "output_type": "stream",
          "text": [
            "Dataset columns: dict_keys(['id', 'title', 'context', 'question', 'answers'])\n",
            "Encoded columns: ['id', 'title', 'context', 'question', 'answers', 'input_text', 'target_text']\n",
            "Individual row columns: dict_keys(['id', 'title', 'context', 'question', 'answers', 'input_text', 'target_text'])\n"
          ]
        }
      ],
      "source": [
        "print(\"Dataset columns:\",datasets_squad[\"train\"][0].keys())\n",
        "print(\"Encoded columns:\",encoded_squad[\"train\"].column_names)\n",
        "print(\"Individual row columns:\",encoded_squad[\"train\"][0].keys())"
      ]
    },
    {
      "cell_type": "code",
      "execution_count": null,
      "id": "FgqckdGNDWNp",
      "metadata": {
        "id": "FgqckdGNDWNp",
        "outputId": "f7379335-b489-4a63-b338-aaf510505cd2"
      },
      "outputs": [
        {
          "name": "stdout",
          "output_type": "stream",
          "text": [
            "question:To whom did the Virgin Mary allegedly appear in 1858 in Lourdes France? context:Architecturally, the school has a Catholic character. Atop the Main Building's gold dome is a golden statue of the Virgin Mary. Immediately in front of the Main Building and facing it, is a copper statue of Christ with arms upraised with the legend \"Venite Ad Me Omnes\". Next to the Main Building is the Basilica of the Sacred Heart. Immediately behind the basilica is the Grotto, a Marian place of prayer and reflection. It is a replica of the grotto at Lourdes, France where the Virgin Mary reputedly appeared to Saint Bernadette Soubirous in 1858. At the end of the main drive (and in a direct line that connects through 3 statues and the Gold Dome), is a simple, modern stone statue of Mary. </s>\n",
            "{'text': ['Saint Bernadette Soubirous'], 'answer_start': [515]} </s>\n"
          ]
        }
      ],
      "source": [
        "print(encoded_squad[\"train\"][0][\"input_text\"])\n",
        "print(encoded_squad[\"train\"][0][\"target_text\"])"
      ]
    },
    {
      "cell_type": "markdown",
      "id": "UqK9_TtLFZrU",
      "metadata": {
        "id": "UqK9_TtLFZrU"
      },
      "source": [
        "Complete the function `convert_to_features` that takes in the examples from the dataset and tokenizes them using the T5 tokenizer. However, our answers in this dataset are relatively short and do not require `512` tokens, in contrast to the input sequence which is a combination of question and context paragraphs and is usually long. To this end, we want to truncate the input sequence at `512` and the target sequence at `16`. If any input or target is smaller than the specified length, make sure you pad them. Finally, convert everything to PyTorch tensors to be easily used by the data collator and place them in the dictionary `encodings`."
      ]
    },
    {
      "cell_type": "code",
      "execution_count": null,
      "id": "4yPglRvTEg_p",
      "metadata": {
        "id": "4yPglRvTEg_p"
      },
      "outputs": [],
      "source": [
        "def convert_to_features(examples):\n",
        "    ### your code ###\n",
        "\n",
        "    encodings_input_text = t5_tokenizer(\n",
        "        examples[\"input_text\"],\n",
        "        max_length=512,\n",
        "        padding=\"max_length\",\n",
        "        truncation=True,\n",
        "        return_tensors=\"pt\"\n",
        "    )\n",
        "\n",
        "    encodings_target_text = t5_tokenizer(\n",
        "        examples[\"target_text\"],\n",
        "        max_length=16,\n",
        "        padding=\"max_length\",\n",
        "        truncation=True,\n",
        "        return_tensors=\"pt\"\n",
        "    )\n",
        "\n",
        "    encodings = {\n",
        "        'input_ids': encodings_input_text['input_ids'],\n",
        "        'target_ids': encodings_target_text['input_ids'],\n",
        "        'attention_mask': encodings_input_text['attention_mask'],\n",
        "        'target_attention_mask': encodings_target_text['attention_mask']\n",
        "    }\n",
        "    ### your code ###\n",
        "    return encodings"
      ]
    },
    {
      "cell_type": "markdown",
      "id": "UI_tQfeNIgi7",
      "metadata": {
        "id": "UI_tQfeNIgi7"
      },
      "source": [
        "Use the `map` function to process the data."
      ]
    },
    {
      "cell_type": "code",
      "execution_count": null,
      "id": "gYm6RZGF19xY",
      "metadata": {
        "id": "gYm6RZGF19xY"
      },
      "outputs": [],
      "source": [
        "### your code ###\n",
        "# encoded_squad = encoded_squad.map(convert_to_features,batched=True,batch_size=32,num_proc=2)\n",
        "encoded_squad = encoded_squad.map(convert_to_features,batched=True,batch_size=32)\n",
        "### your code ###"
      ]
    },
    {
      "cell_type": "code",
      "execution_count": null,
      "id": "72d699dc",
      "metadata": {
        "id": "72d699dc",
        "outputId": "76ccbae4-effe-45d9-9e63-44a12dffaf6f"
      },
      "outputs": [
        {
          "name": "stdout",
          "output_type": "stream",
          "text": [
            "Encoded keys: dict_keys(['id', 'title', 'context', 'question', 'answers', 'input_text', 'target_text', 'input_ids', 'target_ids', 'attention_mask', 'target_attention_mask'])\n"
          ]
        }
      ],
      "source": [
        "print(\"Encoded keys:\",encoded_squad[\"train\"][0].keys())"
      ]
    },
    {
      "cell_type": "code",
      "execution_count": null,
      "id": "gaIppB0A2sxX",
      "metadata": {
        "id": "gaIppB0A2sxX",
        "outputId": "5553b219-432f-438d-f0e9-9fb85cbbe206"
      },
      "outputs": [
        {
          "data": {
            "text/plain": [
              "DatasetDict({\n",
              "    train: Dataset({\n",
              "        features: ['id', 'title', 'context', 'question', 'answers', 'input_text', 'target_text', 'input_ids', 'target_ids', 'attention_mask', 'target_attention_mask'],\n",
              "        num_rows: 87599\n",
              "    })\n",
              "    validation: Dataset({\n",
              "        features: ['id', 'title', 'context', 'question', 'answers', 'input_text', 'target_text', 'input_ids', 'target_ids', 'attention_mask', 'target_attention_mask'],\n",
              "        num_rows: 10570\n",
              "    })\n",
              "})"
            ]
          },
          "execution_count": 11,
          "metadata": {},
          "output_type": "execute_result"
        }
      ],
      "source": [
        "encoded_squad #new columns are added"
      ]
    },
    {
      "cell_type": "markdown",
      "id": "iMhQ6_vpIlUC",
      "metadata": {
        "id": "iMhQ6_vpIlUC"
      },
      "source": [
        "Interestingly, although we specified PyTorch tensors as output, the type of the `input_ids` is still a list. To remedy this problem, you need to explicitly set the type of the column that contains PyTorch tensors."
      ]
    },
    {
      "cell_type": "code",
      "execution_count": null,
      "id": "3ab7a9d5",
      "metadata": {
        "id": "3ab7a9d5",
        "outputId": "faf65307-e3b5-4673-e82a-a99f6793a60a"
      },
      "outputs": [
        {
          "data": {
            "text/plain": [
              "dict_keys(['id', 'title', 'context', 'question', 'answers', 'input_text', 'target_text', 'input_ids', 'target_ids', 'attention_mask', 'target_attention_mask'])"
            ]
          },
          "execution_count": 12,
          "metadata": {},
          "output_type": "execute_result"
        }
      ],
      "source": [
        "encoded_squad['train'][123].keys()"
      ]
    },
    {
      "cell_type": "code",
      "execution_count": null,
      "id": "depIPwgSIntY",
      "metadata": {
        "id": "depIPwgSIntY",
        "outputId": "a93954e4-5d07-4b28-c1e5-fd3f676c2810"
      },
      "outputs": [
        {
          "name": "stdout",
          "output_type": "stream",
          "text": [
            "[822, 10, 3696, 4068, 410, 8, 16823, 3790, 3, 18280, 2385, 16, 507, 3449, 16, 301, 1211, 1395, 1410, 58, 2625, 10, 16768, 450, 1427, 6, 8, 496, 65, 3, 9, 6502, 1848, 5, 71, 2916, 8, 5140, 5450, 31, 7, 2045, 22161, 19, 3, 9, 7069, 12647, 13, 8, 16823, 3790, 5, 3, 29167, 16, 851, 13, 8, 5140, 5450, 11, 5008, 34, 6, 19, 3, 9, 8658, 12647, 13, 2144, 28, 6026, 3, 76, 24266, 28, 8, 9503, 96, 553, 15, 7980, 1980, 1212, 13285, 1496, 1280, 3021, 12, 8, 5140, 5450, 19, 8, 23711, 2617, 13, 8, 3, 24756, 6219, 5, 3, 29167, 1187, 8, 20605, 2617, 19, 8, 8554, 17, 235, 6, 3, 9, 17535, 286, 13, 7029, 11, 9619, 5, 94, 19, 3, 9, 16455, 13, 8, 3, 3844, 17, 235, 44, 301, 1211, 1395, 6, 1410, 213, 8, 16823, 3790, 3, 28285, 26, 120, 4283, 12, 2788, 8942, 9, 26, 1954, 264, 8371, 8283, 16, 507, 3449, 5, 486, 8, 414, 13, 8, 711, 1262, 41, 232, 16, 3, 9, 1223, 689, 24, 1979, 7, 190, 220, 12647, 7, 11, 8, 2540, 10576, 15, 201, 19, 3, 9, 650, 6, 941, 3372, 12647, 13, 3790, 5, 1, 0, 0, 0, 0, 0, 0, 0, 0, 0, 0, 0, 0, 0, 0, 0, 0, 0, 0, 0, 0, 0, 0, 0, 0, 0, 0, 0, 0, 0, 0, 0, 0, 0, 0, 0, 0, 0, 0, 0, 0, 0, 0, 0, 0, 0, 0, 0, 0, 0, 0, 0, 0, 0, 0, 0, 0, 0, 0, 0, 0, 0, 0, 0, 0, 0, 0, 0, 0, 0, 0, 0, 0, 0, 0, 0, 0, 0, 0, 0, 0, 0, 0, 0, 0, 0, 0, 0, 0, 0, 0, 0, 0, 0, 0, 0, 0, 0, 0, 0, 0, 0, 0, 0, 0, 0, 0, 0, 0, 0, 0, 0, 0, 0, 0, 0, 0, 0, 0, 0, 0, 0, 0, 0, 0, 0, 0, 0, 0, 0, 0, 0, 0, 0, 0, 0, 0, 0, 0, 0, 0, 0, 0, 0, 0, 0, 0, 0, 0, 0, 0, 0, 0, 0, 0, 0, 0, 0, 0, 0, 0, 0, 0, 0, 0, 0, 0, 0, 0, 0, 0, 0, 0, 0, 0, 0, 0, 0, 0, 0, 0, 0, 0, 0, 0, 0, 0, 0, 0, 0, 0, 0, 0, 0, 0, 0, 0, 0, 0, 0, 0, 0, 0, 0, 0, 0, 0, 0, 0, 0, 0, 0, 0, 0, 0, 0, 0, 0, 0, 0, 0, 0, 0, 0, 0, 0, 0, 0, 0, 0, 0, 0, 0, 0, 0, 0, 0, 0, 0, 0, 0, 0, 0, 0, 0, 0, 0, 0, 0, 0, 0, 0, 0, 0, 0, 0, 0, 0, 0, 0, 0, 0, 0, 0, 0, 0, 0, 0, 0, 0, 0, 0, 0, 0, 0, 0, 0, 0, 0, 0, 0, 0, 0, 0, 0, 0, 0, 0, 0, 0, 0, 0, 0, 0, 0, 0, 0, 0, 0, 0, 0, 0, 0, 0, 0, 0, 0, 0, 0, 0]\n",
            "[3, 2, 31, 6327, 31, 10, 784, 31, 26667, 8942, 9, 26, 1954, 264, 8371, 1]\n",
            "[1, 1, 1, 1, 1, 1, 1, 1, 1, 1, 1, 1, 1, 1, 1, 1, 1, 1, 1, 1, 1, 1, 1, 1, 1, 1, 1, 1, 1, 1, 1, 1, 1, 1, 1, 1, 1, 1, 1, 1, 1, 1, 1, 1, 1, 1, 1, 1, 1, 1, 1, 1, 1, 1, 1, 1, 1, 1, 1, 1, 1, 1, 1, 1, 1, 1, 1, 1, 1, 1, 1, 1, 1, 1, 1, 1, 1, 1, 1, 1, 1, 1, 1, 1, 1, 1, 1, 1, 1, 1, 1, 1, 1, 1, 1, 1, 1, 1, 1, 1, 1, 1, 1, 1, 1, 1, 1, 1, 1, 1, 1, 1, 1, 1, 1, 1, 1, 1, 1, 1, 1, 1, 1, 1, 1, 1, 1, 1, 1, 1, 1, 1, 1, 1, 1, 1, 1, 1, 1, 1, 1, 1, 1, 1, 1, 1, 1, 1, 1, 1, 1, 1, 1, 1, 1, 1, 1, 1, 1, 1, 1, 1, 1, 1, 1, 1, 1, 1, 1, 1, 1, 1, 1, 1, 1, 1, 1, 1, 1, 1, 1, 1, 1, 1, 1, 1, 1, 1, 1, 1, 1, 1, 1, 1, 1, 1, 1, 1, 1, 1, 1, 1, 1, 0, 0, 0, 0, 0, 0, 0, 0, 0, 0, 0, 0, 0, 0, 0, 0, 0, 0, 0, 0, 0, 0, 0, 0, 0, 0, 0, 0, 0, 0, 0, 0, 0, 0, 0, 0, 0, 0, 0, 0, 0, 0, 0, 0, 0, 0, 0, 0, 0, 0, 0, 0, 0, 0, 0, 0, 0, 0, 0, 0, 0, 0, 0, 0, 0, 0, 0, 0, 0, 0, 0, 0, 0, 0, 0, 0, 0, 0, 0, 0, 0, 0, 0, 0, 0, 0, 0, 0, 0, 0, 0, 0, 0, 0, 0, 0, 0, 0, 0, 0, 0, 0, 0, 0, 0, 0, 0, 0, 0, 0, 0, 0, 0, 0, 0, 0, 0, 0, 0, 0, 0, 0, 0, 0, 0, 0, 0, 0, 0, 0, 0, 0, 0, 0, 0, 0, 0, 0, 0, 0, 0, 0, 0, 0, 0, 0, 0, 0, 0, 0, 0, 0, 0, 0, 0, 0, 0, 0, 0, 0, 0, 0, 0, 0, 0, 0, 0, 0, 0, 0, 0, 0, 0, 0, 0, 0, 0, 0, 0, 0, 0, 0, 0, 0, 0, 0, 0, 0, 0, 0, 0, 0, 0, 0, 0, 0, 0, 0, 0, 0, 0, 0, 0, 0, 0, 0, 0, 0, 0, 0, 0, 0, 0, 0, 0, 0, 0, 0, 0, 0, 0, 0, 0, 0, 0, 0, 0, 0, 0, 0, 0, 0, 0, 0, 0, 0, 0, 0, 0, 0, 0, 0, 0, 0, 0, 0, 0, 0, 0, 0, 0, 0, 0, 0, 0, 0, 0, 0, 0, 0, 0, 0, 0, 0, 0, 0, 0, 0, 0, 0, 0, 0, 0, 0, 0, 0, 0, 0, 0, 0, 0, 0, 0, 0, 0, 0, 0, 0, 0, 0, 0, 0, 0, 0, 0, 0, 0, 0, 0, 0, 0, 0, 0, 0, 0, 0, 0, 0, 0]\n"
          ]
        },
        {
          "data": {
            "text/plain": [
              "list"
            ]
          },
          "execution_count": 13,
          "metadata": {},
          "output_type": "execute_result"
        }
      ],
      "source": [
        "### your code ###\n",
        "print(encoded_squad[\"train\"][0][\"input_ids\"])\n",
        "print(encoded_squad[\"train\"][0][\"target_ids\"])\n",
        "print(encoded_squad[\"train\"][0][\"attention_mask\"])\n",
        "type(encoded_squad[\"train\"][0][\"input_ids\"])"
      ]
    },
    {
      "cell_type": "code",
      "execution_count": null,
      "id": "6c458872",
      "metadata": {
        "id": "6c458872"
      },
      "outputs": [],
      "source": [
        "encoded_squad.set_format(type='torch', columns=['input_ids', 'target_ids', 'attention_mask', 'target_attention_mask'])"
      ]
    },
    {
      "cell_type": "code",
      "execution_count": null,
      "id": "kcZ1Jg8kI9UN",
      "metadata": {
        "id": "kcZ1Jg8kI9UN",
        "outputId": "7d50d51d-f8b4-4c47-d900-50edcb9888e6"
      },
      "outputs": [
        {
          "name": "stdout",
          "output_type": "stream",
          "text": [
            "Shape of the input_ids: torch.Size([512])\n",
            "Shape of the target_ids: torch.Size([16])\n"
          ]
        }
      ],
      "source": [
        "print(\"Shape of the input_ids:\",encoded_squad[\"train\"][\"input_ids\"][0].shape)\n",
        "print(\"Shape of the target_ids:\",encoded_squad[\"train\"][\"target_ids\"][0].shape)"
      ]
    },
    {
      "cell_type": "markdown",
      "id": "XpYHaNlpOCMd",
      "metadata": {
        "id": "XpYHaNlpOCMd"
      },
      "source": [
        "The final step in the data processing is the creation of the data collator to\n",
        "prepare `labels` from `target_ids` and return examples with keys as expected by the forward method of T5.\n",
        "This is necessary because the trainer directly passes this dict as argument to the model so you need to check the input of T5 and rename the column based on that.\n",
        "`input_ids`, `target_ids`, `attention_mask`, and `target_attention_mask` need to be stacked in a batch and the pad tokens in the target need to be set to `-100` to avoid loss computation."
      ]
    },
    {
      "cell_type": "code",
      "execution_count": null,
      "id": "RQzQ50R326cL",
      "metadata": {
        "id": "RQzQ50R326cL"
      },
      "outputs": [],
      "source": [
        "from dataclasses import dataclass\n",
        "from transformers import DataCollator\n",
        "from transformers.tokenization_utils_base import PreTrainedTokenizerBase, PaddingStrategy\n",
        "from typing import Optional, Union\n",
        "from torch.nn.utils.rnn import pad_sequence\n",
        "@dataclass\n",
        "class T2TDataCollator:\n",
        "    tokenizer: PreTrainedTokenizerBase\n",
        "    padding: Union[bool, str, PaddingStrategy] = True\n",
        "    max_length: Optional[int] = None\n",
        "    pad_to_multiple_of: Optional[int] = None\n",
        "    def __call__(self, batch):\n",
        "\n",
        "      ### your code ###\n",
        "        ## TODO: check for the right columns here\n",
        "\n",
        "        feature_dict= {\n",
        "          'input_ids': torch.stack([x['input_ids'] for x in batch]),\n",
        "          'attention_mask': torch.stack([x['attention_mask'] for x in batch]),\n",
        "          'labels': torch.stack([x['target_ids'] for x in batch]),\n",
        "          # 'target_attention_mask': torch.stack([x['target_attention_mask'] for x in batch])\n",
        "        }\n",
        "\n",
        "        # Assuming feature_dict is already defined\n",
        "        # Replace 0 elements in each tensor with -100\n",
        "        feature_dict['input_ids'][feature_dict['input_ids'] == 0] = -100\n",
        "        feature_dict['attention_mask'][feature_dict['attention_mask'] == 0] = -100\n",
        "        feature_dict['labels'][feature_dict['labels'] == 0] = -100\n",
        "        # feature_dict['target_attention_mask'][feature_dict['target_attention_mask'] == 0] = -100\n",
        "\n",
        "\n",
        "\n",
        "        return feature_dict\n",
        "      ### your code ###\n"
      ]
    },
    {
      "cell_type": "code",
      "execution_count": null,
      "id": "0c59452b",
      "metadata": {
        "id": "0c59452b",
        "outputId": "e34872ec-9ce2-4d76-9e93-a0a2cc589cfa"
      },
      "outputs": [
        {
          "data": {
            "text/plain": [
              "dict_keys(['input_ids', 'target_ids', 'attention_mask', 'target_attention_mask'])"
            ]
          },
          "execution_count": 17,
          "metadata": {},
          "output_type": "execute_result"
        }
      ],
      "source": [
        "\n",
        "encoded_squad[\"train\"][0].keys()"
      ]
    },
    {
      "cell_type": "code",
      "execution_count": null,
      "id": "zXOwBe1bPCRJ",
      "metadata": {
        "id": "zXOwBe1bPCRJ",
        "outputId": "0c33193b-abe1-4adc-ec26-9a56ba9946e0"
      },
      "outputs": [
        {
          "name": "stdout",
          "output_type": "stream",
          "text": [
            "{'input_ids': tensor([[ 822,   10, 3696,  ..., -100, -100, -100],\n",
            "        [ 822,   10, 5680,  ..., -100, -100, -100]]), 'attention_mask': tensor([[   1,    1,    1,  ..., -100, -100, -100],\n",
            "        [   1,    1,    1,  ..., -100, -100, -100]]), 'labels': tensor([[    3,     2,    31,  6327,    31,    10,   784,    31, 26667,  8942,\n",
            "             9,    26,  1954,   264,  8371,     1],\n",
            "        [    3,     2,    31,  6327,    31,    10,   784,    31,     9,  8658,\n",
            "         12647,    13,  2144,    31, 13679,     1]])}\n",
            "torch.Size([2, 512])\n",
            "torch.Size([2, 512])\n",
            "torch.Size([2, 16])\n"
          ]
        }
      ],
      "source": [
        "accepted_keys = ['input_text', 'target_text', 'input_ids', 'attention_mask', 'target_ids', 'target_attention_mask']\n",
        "# features = [{k: v for k, v in encoded_squad[\"train\"][i].items() if k in accepted_keys} for i in range(2)]\n",
        "features = [{key: encoded_squad['train'][key][i] for key in accepted_keys} for i in range(2)]\n",
        "batch=T2TDataCollator(t5_tokenizer)(features)\n",
        "print(batch)\n",
        "print(batch[\"input_ids\"].shape)\n",
        "print(batch[\"attention_mask\"].shape)\n",
        "print(batch[\"labels\"].shape)"
      ]
    },
    {
      "cell_type": "markdown",
      "id": "gb9KZjhsu_5N",
      "metadata": {
        "id": "gb9KZjhsu_5N"
      },
      "source": [
        "#### ${\\color{red}{Comments\\ 3.1}}$\n",
        "\n",
        "${\\color{red}{⚠️Comments\\ begin⚠️}}$\n",
        "\n",
        "\n",
        "```\n",
        "cross-feedback comment section\n",
        "```\n",
        "\n",
        "\n",
        "${\\color{red}{⚠️Comments\\ end⚠️}}$"
      ]
    },
    {
      "cell_type": "markdown",
      "id": "ktvtcVh1N6l0",
      "metadata": {
        "id": "ktvtcVh1N6l0"
      },
      "source": [
        "### Subtask 2: Training"
      ]
    },
    {
      "cell_type": "markdown",
      "id": "mnMvSwtbV2GC",
      "metadata": {
        "id": "mnMvSwtbV2GC"
      },
      "source": [
        "For training and inference, we can use `T5ForConditionalGeneration`, which includes the language modeling head on top of the decoder. Load the `t5-small` model."
      ]
    },
    {
      "cell_type": "code",
      "execution_count": null,
      "id": "aO4NNyEFKXap",
      "metadata": {
        "id": "aO4NNyEFKXap"
      },
      "outputs": [],
      "source": [
        "### your code ###\n",
        "from transformers import T5ForConditionalGeneration\n",
        "t5 = T5ForConditionalGeneration.from_pretrained(model_name)\n",
        "### your code ###"
      ]
    },
    {
      "cell_type": "markdown",
      "id": "rE9j5o_iBLOL",
      "metadata": {
        "id": "rE9j5o_iBLOL"
      },
      "source": [
        "Next, similar to the previous task we initiate training arguments. Note that this time we are using a `Seq2SeqTrainingArguments` for a `Seq2SeqTrainer`. Set the parameters for training as follows:\n",
        "\n",
        "\n",
        "*   T5 doesn't support GPU and TPU evaluation for now, so we only focus on training. You do not need to pass any parameters for evaluation setup.\n",
        "*   The output directory should be named `t5-squad`.\n",
        "* The T5 models need a slightly higher learning rate than the default one set in the `Trainer` when using the `AdamW` optimizer. Set the learning rate to `1e-4` and the regularization parameter to `0.01`.\n",
        "* Random seed should be `77`, and we train for a maximum of `200` steps and save a checkpoint every `100` steps. A complete training of the T5 model requires far more than `200` steps, however, that is beyond the scope of this assignment.\n",
        "* T5 models require a large batch size. The default model was trained with a batch size of `128`. However, we cannot fit that into a single GPU, therefore we use gradient accumulation. Set the batch size to `32` and choose the gradient accumulation step to reach the effective batch size of `128`.\n",
        "* Make sure that your trainer does not remove unused columns during training, as this will cause a runtime error later on.\n",
        "\n",
        "\n",
        "**Gradient accumulation:** is a technique that simulates a larger batch size by accumulating gradients from multiple small batches before performing a weight update.\n",
        "\n"
      ]
    },
    {
      "cell_type": "code",
      "execution_count": null,
      "id": "UiWbhXjk5Mr0",
      "metadata": {
        "id": "UiWbhXjk5Mr0"
      },
      "outputs": [],
      "source": [
        "from transformers import Seq2SeqTrainingArguments\n",
        "\n",
        "training_args = Seq2SeqTrainingArguments(\n",
        "    output_dir=\"t5-squad\",\n",
        "    per_device_train_batch_size=32,\n",
        "    gradient_accumulation_steps=4,  # Effective batch size = 32 * 4 = 128\n",
        "    evaluation_strategy=\"steps\",  # No evaluation during training\n",
        "    save_total_limit=2,  # Only keep the last 2 checkpoints\n",
        "    learning_rate=1e-4,\n",
        "    weight_decay=0.01,\n",
        "    num_train_epochs=2,  # Adjust the number of epochs as needed\n",
        "    save_steps=100,  # Save a checkpoint every 100 steps\n",
        "    logging_dir=\"logs\",\n",
        "    logging_steps=10,\n",
        "    seed=77,\n",
        "    remove_unused_columns=False,  # Do not remove unused columns\n",
        ")"
      ]
    },
    {
      "cell_type": "markdown",
      "id": "AEOvujcduYjG",
      "metadata": {
        "id": "AEOvujcduYjG"
      },
      "source": [
        "Once again make sure that you are using GPU before running the cell below.\n",
        "Initilize your `Seq2SeqTrainer` with inputs necessary for training. The training should take around 15 min on Google Colab T4 GPU.\n"
      ]
    },
    {
      "cell_type": "markdown",
      "id": "e76eb377",
      "metadata": {
        "id": "e76eb377"
      },
      "source": [
        "##### NOTE: Because of some importing and exporting issues, I did not upload this to Google Colab for training, but feel free to try to see that it works."
      ]
    },
    {
      "cell_type": "code",
      "execution_count": null,
      "id": "J_Vb3za_4kBo",
      "metadata": {
        "colab": {
          "referenced_widgets": [
            "8809968cadcc4b41bc6f4fe4e2617c66"
          ]
        },
        "id": "J_Vb3za_4kBo",
        "outputId": "4094b22f-a082-4e0a-b26d-8ddfcfa012a7"
      },
      "outputs": [
        {
          "data": {
            "application/vnd.jupyter.widget-view+json": {
              "model_id": "8809968cadcc4b41bc6f4fe4e2617c66",
              "version_major": 2,
              "version_minor": 0
            },
            "text/plain": [
              "  0%|          | 0/1368 [00:00<?, ?it/s]"
            ]
          },
          "metadata": {},
          "output_type": "display_data"
        },
        {
          "ename": "RuntimeError",
          "evalue": "CUDA error: CUBLAS_STATUS_NOT_INITIALIZED when calling `cublasCreate(handle)`",
          "output_type": "error",
          "traceback": [
            "\u001b[1;31m---------------------------------------------------------------------------\u001b[0m",
            "\u001b[1;31mRuntimeError\u001b[0m                              Traceback (most recent call last)",
            "Cell \u001b[1;32mIn[21], line 16\u001b[0m\n\u001b[0;32m      8\u001b[0m trainer \u001b[38;5;241m=\u001b[39m Seq2SeqTrainer(\n\u001b[0;32m      9\u001b[0m     model\u001b[38;5;241m=\u001b[39mt5,\n\u001b[0;32m     10\u001b[0m     args\u001b[38;5;241m=\u001b[39mtraining_args,\n\u001b[0;32m     11\u001b[0m     data_collator\u001b[38;5;241m=\u001b[39mdata_collator,\n\u001b[0;32m     12\u001b[0m     train_dataset\u001b[38;5;241m=\u001b[39mencoded_squad[\u001b[38;5;124m\"\u001b[39m\u001b[38;5;124mtrain\u001b[39m\u001b[38;5;124m\"\u001b[39m]\n\u001b[0;32m     13\u001b[0m )\n\u001b[0;32m     15\u001b[0m \u001b[38;5;66;03m# Start training\u001b[39;00m\n\u001b[1;32m---> 16\u001b[0m \u001b[43mtrainer\u001b[49m\u001b[38;5;241;43m.\u001b[39;49m\u001b[43mtrain\u001b[49m\u001b[43m(\u001b[49m\u001b[43m)\u001b[49m\n",
            "File \u001b[1;32mc:\\Users\\priot\\anaconda3\\envs\\computing\\Lib\\site-packages\\transformers\\trainer.py:1555\u001b[0m, in \u001b[0;36mTrainer.train\u001b[1;34m(self, resume_from_checkpoint, trial, ignore_keys_for_eval, **kwargs)\u001b[0m\n\u001b[0;32m   1553\u001b[0m         hf_hub_utils\u001b[38;5;241m.\u001b[39menable_progress_bars()\n\u001b[0;32m   1554\u001b[0m \u001b[38;5;28;01melse\u001b[39;00m:\n\u001b[1;32m-> 1555\u001b[0m     \u001b[38;5;28;01mreturn\u001b[39;00m \u001b[43minner_training_loop\u001b[49m\u001b[43m(\u001b[49m\n\u001b[0;32m   1556\u001b[0m \u001b[43m        \u001b[49m\u001b[43margs\u001b[49m\u001b[38;5;241;43m=\u001b[39;49m\u001b[43margs\u001b[49m\u001b[43m,\u001b[49m\n\u001b[0;32m   1557\u001b[0m \u001b[43m        \u001b[49m\u001b[43mresume_from_checkpoint\u001b[49m\u001b[38;5;241;43m=\u001b[39;49m\u001b[43mresume_from_checkpoint\u001b[49m\u001b[43m,\u001b[49m\n\u001b[0;32m   1558\u001b[0m \u001b[43m        \u001b[49m\u001b[43mtrial\u001b[49m\u001b[38;5;241;43m=\u001b[39;49m\u001b[43mtrial\u001b[49m\u001b[43m,\u001b[49m\n\u001b[0;32m   1559\u001b[0m \u001b[43m        \u001b[49m\u001b[43mignore_keys_for_eval\u001b[49m\u001b[38;5;241;43m=\u001b[39;49m\u001b[43mignore_keys_for_eval\u001b[49m\u001b[43m,\u001b[49m\n\u001b[0;32m   1560\u001b[0m \u001b[43m    \u001b[49m\u001b[43m)\u001b[49m\n",
            "File \u001b[1;32mc:\\Users\\priot\\anaconda3\\envs\\computing\\Lib\\site-packages\\transformers\\trainer.py:1860\u001b[0m, in \u001b[0;36mTrainer._inner_training_loop\u001b[1;34m(self, batch_size, args, resume_from_checkpoint, trial, ignore_keys_for_eval)\u001b[0m\n\u001b[0;32m   1857\u001b[0m     \u001b[38;5;28mself\u001b[39m\u001b[38;5;241m.\u001b[39mcontrol \u001b[38;5;241m=\u001b[39m \u001b[38;5;28mself\u001b[39m\u001b[38;5;241m.\u001b[39mcallback_handler\u001b[38;5;241m.\u001b[39mon_step_begin(args, \u001b[38;5;28mself\u001b[39m\u001b[38;5;241m.\u001b[39mstate, \u001b[38;5;28mself\u001b[39m\u001b[38;5;241m.\u001b[39mcontrol)\n\u001b[0;32m   1859\u001b[0m \u001b[38;5;28;01mwith\u001b[39;00m \u001b[38;5;28mself\u001b[39m\u001b[38;5;241m.\u001b[39maccelerator\u001b[38;5;241m.\u001b[39maccumulate(model):\n\u001b[1;32m-> 1860\u001b[0m     tr_loss_step \u001b[38;5;241m=\u001b[39m \u001b[38;5;28;43mself\u001b[39;49m\u001b[38;5;241;43m.\u001b[39;49m\u001b[43mtraining_step\u001b[49m\u001b[43m(\u001b[49m\u001b[43mmodel\u001b[49m\u001b[43m,\u001b[49m\u001b[43m \u001b[49m\u001b[43minputs\u001b[49m\u001b[43m)\u001b[49m\n\u001b[0;32m   1862\u001b[0m \u001b[38;5;28;01mif\u001b[39;00m (\n\u001b[0;32m   1863\u001b[0m     args\u001b[38;5;241m.\u001b[39mlogging_nan_inf_filter\n\u001b[0;32m   1864\u001b[0m     \u001b[38;5;129;01mand\u001b[39;00m \u001b[38;5;129;01mnot\u001b[39;00m is_torch_tpu_available()\n\u001b[0;32m   1865\u001b[0m     \u001b[38;5;129;01mand\u001b[39;00m (torch\u001b[38;5;241m.\u001b[39misnan(tr_loss_step) \u001b[38;5;129;01mor\u001b[39;00m torch\u001b[38;5;241m.\u001b[39misinf(tr_loss_step))\n\u001b[0;32m   1866\u001b[0m ):\n\u001b[0;32m   1867\u001b[0m     \u001b[38;5;66;03m# if loss is nan or inf simply add the average of previous logged losses\u001b[39;00m\n\u001b[0;32m   1868\u001b[0m     tr_loss \u001b[38;5;241m+\u001b[39m\u001b[38;5;241m=\u001b[39m tr_loss \u001b[38;5;241m/\u001b[39m (\u001b[38;5;241m1\u001b[39m \u001b[38;5;241m+\u001b[39m \u001b[38;5;28mself\u001b[39m\u001b[38;5;241m.\u001b[39mstate\u001b[38;5;241m.\u001b[39mglobal_step \u001b[38;5;241m-\u001b[39m \u001b[38;5;28mself\u001b[39m\u001b[38;5;241m.\u001b[39m_globalstep_last_logged)\n",
            "File \u001b[1;32mc:\\Users\\priot\\anaconda3\\envs\\computing\\Lib\\site-packages\\transformers\\trainer.py:2725\u001b[0m, in \u001b[0;36mTrainer.training_step\u001b[1;34m(self, model, inputs)\u001b[0m\n\u001b[0;32m   2722\u001b[0m     \u001b[38;5;28;01mreturn\u001b[39;00m loss_mb\u001b[38;5;241m.\u001b[39mreduce_mean()\u001b[38;5;241m.\u001b[39mdetach()\u001b[38;5;241m.\u001b[39mto(\u001b[38;5;28mself\u001b[39m\u001b[38;5;241m.\u001b[39margs\u001b[38;5;241m.\u001b[39mdevice)\n\u001b[0;32m   2724\u001b[0m \u001b[38;5;28;01mwith\u001b[39;00m \u001b[38;5;28mself\u001b[39m\u001b[38;5;241m.\u001b[39mcompute_loss_context_manager():\n\u001b[1;32m-> 2725\u001b[0m     loss \u001b[38;5;241m=\u001b[39m \u001b[38;5;28;43mself\u001b[39;49m\u001b[38;5;241;43m.\u001b[39;49m\u001b[43mcompute_loss\u001b[49m\u001b[43m(\u001b[49m\u001b[43mmodel\u001b[49m\u001b[43m,\u001b[49m\u001b[43m \u001b[49m\u001b[43minputs\u001b[49m\u001b[43m)\u001b[49m\n\u001b[0;32m   2727\u001b[0m \u001b[38;5;28;01mif\u001b[39;00m \u001b[38;5;28mself\u001b[39m\u001b[38;5;241m.\u001b[39margs\u001b[38;5;241m.\u001b[39mn_gpu \u001b[38;5;241m>\u001b[39m \u001b[38;5;241m1\u001b[39m:\n\u001b[0;32m   2728\u001b[0m     loss \u001b[38;5;241m=\u001b[39m loss\u001b[38;5;241m.\u001b[39mmean()  \u001b[38;5;66;03m# mean() to average on multi-gpu parallel training\u001b[39;00m\n",
            "File \u001b[1;32mc:\\Users\\priot\\anaconda3\\envs\\computing\\Lib\\site-packages\\transformers\\trainer.py:2748\u001b[0m, in \u001b[0;36mTrainer.compute_loss\u001b[1;34m(self, model, inputs, return_outputs)\u001b[0m\n\u001b[0;32m   2746\u001b[0m \u001b[38;5;28;01melse\u001b[39;00m:\n\u001b[0;32m   2747\u001b[0m     labels \u001b[38;5;241m=\u001b[39m \u001b[38;5;28;01mNone\u001b[39;00m\n\u001b[1;32m-> 2748\u001b[0m outputs \u001b[38;5;241m=\u001b[39m \u001b[43mmodel\u001b[49m\u001b[43m(\u001b[49m\u001b[38;5;241;43m*\u001b[39;49m\u001b[38;5;241;43m*\u001b[39;49m\u001b[43minputs\u001b[49m\u001b[43m)\u001b[49m\n\u001b[0;32m   2749\u001b[0m \u001b[38;5;66;03m# Save past state if it exists\u001b[39;00m\n\u001b[0;32m   2750\u001b[0m \u001b[38;5;66;03m# TODO: this needs to be fixed and made cleaner later.\u001b[39;00m\n\u001b[0;32m   2751\u001b[0m \u001b[38;5;28;01mif\u001b[39;00m \u001b[38;5;28mself\u001b[39m\u001b[38;5;241m.\u001b[39margs\u001b[38;5;241m.\u001b[39mpast_index \u001b[38;5;241m>\u001b[39m\u001b[38;5;241m=\u001b[39m \u001b[38;5;241m0\u001b[39m:\n",
            "File \u001b[1;32mc:\\Users\\priot\\anaconda3\\envs\\computing\\Lib\\site-packages\\torch\\nn\\modules\\module.py:1518\u001b[0m, in \u001b[0;36mModule._wrapped_call_impl\u001b[1;34m(self, *args, **kwargs)\u001b[0m\n\u001b[0;32m   1516\u001b[0m     \u001b[38;5;28;01mreturn\u001b[39;00m \u001b[38;5;28mself\u001b[39m\u001b[38;5;241m.\u001b[39m_compiled_call_impl(\u001b[38;5;241m*\u001b[39margs, \u001b[38;5;241m*\u001b[39m\u001b[38;5;241m*\u001b[39mkwargs)  \u001b[38;5;66;03m# type: ignore[misc]\u001b[39;00m\n\u001b[0;32m   1517\u001b[0m \u001b[38;5;28;01melse\u001b[39;00m:\n\u001b[1;32m-> 1518\u001b[0m     \u001b[38;5;28;01mreturn\u001b[39;00m \u001b[38;5;28;43mself\u001b[39;49m\u001b[38;5;241;43m.\u001b[39;49m\u001b[43m_call_impl\u001b[49m\u001b[43m(\u001b[49m\u001b[38;5;241;43m*\u001b[39;49m\u001b[43margs\u001b[49m\u001b[43m,\u001b[49m\u001b[43m \u001b[49m\u001b[38;5;241;43m*\u001b[39;49m\u001b[38;5;241;43m*\u001b[39;49m\u001b[43mkwargs\u001b[49m\u001b[43m)\u001b[49m\n",
            "File \u001b[1;32mc:\\Users\\priot\\anaconda3\\envs\\computing\\Lib\\site-packages\\torch\\nn\\modules\\module.py:1527\u001b[0m, in \u001b[0;36mModule._call_impl\u001b[1;34m(self, *args, **kwargs)\u001b[0m\n\u001b[0;32m   1522\u001b[0m \u001b[38;5;66;03m# If we don't have any hooks, we want to skip the rest of the logic in\u001b[39;00m\n\u001b[0;32m   1523\u001b[0m \u001b[38;5;66;03m# this function, and just call forward.\u001b[39;00m\n\u001b[0;32m   1524\u001b[0m \u001b[38;5;28;01mif\u001b[39;00m \u001b[38;5;129;01mnot\u001b[39;00m (\u001b[38;5;28mself\u001b[39m\u001b[38;5;241m.\u001b[39m_backward_hooks \u001b[38;5;129;01mor\u001b[39;00m \u001b[38;5;28mself\u001b[39m\u001b[38;5;241m.\u001b[39m_backward_pre_hooks \u001b[38;5;129;01mor\u001b[39;00m \u001b[38;5;28mself\u001b[39m\u001b[38;5;241m.\u001b[39m_forward_hooks \u001b[38;5;129;01mor\u001b[39;00m \u001b[38;5;28mself\u001b[39m\u001b[38;5;241m.\u001b[39m_forward_pre_hooks\n\u001b[0;32m   1525\u001b[0m         \u001b[38;5;129;01mor\u001b[39;00m _global_backward_pre_hooks \u001b[38;5;129;01mor\u001b[39;00m _global_backward_hooks\n\u001b[0;32m   1526\u001b[0m         \u001b[38;5;129;01mor\u001b[39;00m _global_forward_hooks \u001b[38;5;129;01mor\u001b[39;00m _global_forward_pre_hooks):\n\u001b[1;32m-> 1527\u001b[0m     \u001b[38;5;28;01mreturn\u001b[39;00m \u001b[43mforward_call\u001b[49m\u001b[43m(\u001b[49m\u001b[38;5;241;43m*\u001b[39;49m\u001b[43margs\u001b[49m\u001b[43m,\u001b[49m\u001b[43m \u001b[49m\u001b[38;5;241;43m*\u001b[39;49m\u001b[38;5;241;43m*\u001b[39;49m\u001b[43mkwargs\u001b[49m\u001b[43m)\u001b[49m\n\u001b[0;32m   1529\u001b[0m \u001b[38;5;28;01mtry\u001b[39;00m:\n\u001b[0;32m   1530\u001b[0m     result \u001b[38;5;241m=\u001b[39m \u001b[38;5;28;01mNone\u001b[39;00m\n",
            "File \u001b[1;32mc:\\Users\\priot\\anaconda3\\envs\\computing\\Lib\\site-packages\\transformers\\models\\t5\\modeling_t5.py:1709\u001b[0m, in \u001b[0;36mT5ForConditionalGeneration.forward\u001b[1;34m(self, input_ids, attention_mask, decoder_input_ids, decoder_attention_mask, head_mask, decoder_head_mask, cross_attn_head_mask, encoder_outputs, past_key_values, inputs_embeds, decoder_inputs_embeds, labels, use_cache, output_attentions, output_hidden_states, return_dict)\u001b[0m\n\u001b[0;32m   1706\u001b[0m \u001b[38;5;66;03m# Encode if needed (training, first prediction pass)\u001b[39;00m\n\u001b[0;32m   1707\u001b[0m \u001b[38;5;28;01mif\u001b[39;00m encoder_outputs \u001b[38;5;129;01mis\u001b[39;00m \u001b[38;5;28;01mNone\u001b[39;00m:\n\u001b[0;32m   1708\u001b[0m     \u001b[38;5;66;03m# Convert encoder inputs in embeddings if needed\u001b[39;00m\n\u001b[1;32m-> 1709\u001b[0m     encoder_outputs \u001b[38;5;241m=\u001b[39m \u001b[38;5;28;43mself\u001b[39;49m\u001b[38;5;241;43m.\u001b[39;49m\u001b[43mencoder\u001b[49m\u001b[43m(\u001b[49m\n\u001b[0;32m   1710\u001b[0m \u001b[43m        \u001b[49m\u001b[43minput_ids\u001b[49m\u001b[38;5;241;43m=\u001b[39;49m\u001b[43minput_ids\u001b[49m\u001b[43m,\u001b[49m\n\u001b[0;32m   1711\u001b[0m \u001b[43m        \u001b[49m\u001b[43mattention_mask\u001b[49m\u001b[38;5;241;43m=\u001b[39;49m\u001b[43mattention_mask\u001b[49m\u001b[43m,\u001b[49m\n\u001b[0;32m   1712\u001b[0m \u001b[43m        \u001b[49m\u001b[43minputs_embeds\u001b[49m\u001b[38;5;241;43m=\u001b[39;49m\u001b[43minputs_embeds\u001b[49m\u001b[43m,\u001b[49m\n\u001b[0;32m   1713\u001b[0m \u001b[43m        \u001b[49m\u001b[43mhead_mask\u001b[49m\u001b[38;5;241;43m=\u001b[39;49m\u001b[43mhead_mask\u001b[49m\u001b[43m,\u001b[49m\n\u001b[0;32m   1714\u001b[0m \u001b[43m        \u001b[49m\u001b[43moutput_attentions\u001b[49m\u001b[38;5;241;43m=\u001b[39;49m\u001b[43moutput_attentions\u001b[49m\u001b[43m,\u001b[49m\n\u001b[0;32m   1715\u001b[0m \u001b[43m        \u001b[49m\u001b[43moutput_hidden_states\u001b[49m\u001b[38;5;241;43m=\u001b[39;49m\u001b[43moutput_hidden_states\u001b[49m\u001b[43m,\u001b[49m\n\u001b[0;32m   1716\u001b[0m \u001b[43m        \u001b[49m\u001b[43mreturn_dict\u001b[49m\u001b[38;5;241;43m=\u001b[39;49m\u001b[43mreturn_dict\u001b[49m\u001b[43m,\u001b[49m\n\u001b[0;32m   1717\u001b[0m \u001b[43m    \u001b[49m\u001b[43m)\u001b[49m\n\u001b[0;32m   1718\u001b[0m \u001b[38;5;28;01melif\u001b[39;00m return_dict \u001b[38;5;129;01mand\u001b[39;00m \u001b[38;5;129;01mnot\u001b[39;00m \u001b[38;5;28misinstance\u001b[39m(encoder_outputs, BaseModelOutput):\n\u001b[0;32m   1719\u001b[0m     encoder_outputs \u001b[38;5;241m=\u001b[39m BaseModelOutput(\n\u001b[0;32m   1720\u001b[0m         last_hidden_state\u001b[38;5;241m=\u001b[39mencoder_outputs[\u001b[38;5;241m0\u001b[39m],\n\u001b[0;32m   1721\u001b[0m         hidden_states\u001b[38;5;241m=\u001b[39mencoder_outputs[\u001b[38;5;241m1\u001b[39m] \u001b[38;5;28;01mif\u001b[39;00m \u001b[38;5;28mlen\u001b[39m(encoder_outputs) \u001b[38;5;241m>\u001b[39m \u001b[38;5;241m1\u001b[39m \u001b[38;5;28;01melse\u001b[39;00m \u001b[38;5;28;01mNone\u001b[39;00m,\n\u001b[0;32m   1722\u001b[0m         attentions\u001b[38;5;241m=\u001b[39mencoder_outputs[\u001b[38;5;241m2\u001b[39m] \u001b[38;5;28;01mif\u001b[39;00m \u001b[38;5;28mlen\u001b[39m(encoder_outputs) \u001b[38;5;241m>\u001b[39m \u001b[38;5;241m2\u001b[39m \u001b[38;5;28;01melse\u001b[39;00m \u001b[38;5;28;01mNone\u001b[39;00m,\n\u001b[0;32m   1723\u001b[0m     )\n",
            "File \u001b[1;32mc:\\Users\\priot\\anaconda3\\envs\\computing\\Lib\\site-packages\\torch\\nn\\modules\\module.py:1518\u001b[0m, in \u001b[0;36mModule._wrapped_call_impl\u001b[1;34m(self, *args, **kwargs)\u001b[0m\n\u001b[0;32m   1516\u001b[0m     \u001b[38;5;28;01mreturn\u001b[39;00m \u001b[38;5;28mself\u001b[39m\u001b[38;5;241m.\u001b[39m_compiled_call_impl(\u001b[38;5;241m*\u001b[39margs, \u001b[38;5;241m*\u001b[39m\u001b[38;5;241m*\u001b[39mkwargs)  \u001b[38;5;66;03m# type: ignore[misc]\u001b[39;00m\n\u001b[0;32m   1517\u001b[0m \u001b[38;5;28;01melse\u001b[39;00m:\n\u001b[1;32m-> 1518\u001b[0m     \u001b[38;5;28;01mreturn\u001b[39;00m \u001b[38;5;28;43mself\u001b[39;49m\u001b[38;5;241;43m.\u001b[39;49m\u001b[43m_call_impl\u001b[49m\u001b[43m(\u001b[49m\u001b[38;5;241;43m*\u001b[39;49m\u001b[43margs\u001b[49m\u001b[43m,\u001b[49m\u001b[43m \u001b[49m\u001b[38;5;241;43m*\u001b[39;49m\u001b[38;5;241;43m*\u001b[39;49m\u001b[43mkwargs\u001b[49m\u001b[43m)\u001b[49m\n",
            "File \u001b[1;32mc:\\Users\\priot\\anaconda3\\envs\\computing\\Lib\\site-packages\\torch\\nn\\modules\\module.py:1527\u001b[0m, in \u001b[0;36mModule._call_impl\u001b[1;34m(self, *args, **kwargs)\u001b[0m\n\u001b[0;32m   1522\u001b[0m \u001b[38;5;66;03m# If we don't have any hooks, we want to skip the rest of the logic in\u001b[39;00m\n\u001b[0;32m   1523\u001b[0m \u001b[38;5;66;03m# this function, and just call forward.\u001b[39;00m\n\u001b[0;32m   1524\u001b[0m \u001b[38;5;28;01mif\u001b[39;00m \u001b[38;5;129;01mnot\u001b[39;00m (\u001b[38;5;28mself\u001b[39m\u001b[38;5;241m.\u001b[39m_backward_hooks \u001b[38;5;129;01mor\u001b[39;00m \u001b[38;5;28mself\u001b[39m\u001b[38;5;241m.\u001b[39m_backward_pre_hooks \u001b[38;5;129;01mor\u001b[39;00m \u001b[38;5;28mself\u001b[39m\u001b[38;5;241m.\u001b[39m_forward_hooks \u001b[38;5;129;01mor\u001b[39;00m \u001b[38;5;28mself\u001b[39m\u001b[38;5;241m.\u001b[39m_forward_pre_hooks\n\u001b[0;32m   1525\u001b[0m         \u001b[38;5;129;01mor\u001b[39;00m _global_backward_pre_hooks \u001b[38;5;129;01mor\u001b[39;00m _global_backward_hooks\n\u001b[0;32m   1526\u001b[0m         \u001b[38;5;129;01mor\u001b[39;00m _global_forward_hooks \u001b[38;5;129;01mor\u001b[39;00m _global_forward_pre_hooks):\n\u001b[1;32m-> 1527\u001b[0m     \u001b[38;5;28;01mreturn\u001b[39;00m \u001b[43mforward_call\u001b[49m\u001b[43m(\u001b[49m\u001b[38;5;241;43m*\u001b[39;49m\u001b[43margs\u001b[49m\u001b[43m,\u001b[49m\u001b[43m \u001b[49m\u001b[38;5;241;43m*\u001b[39;49m\u001b[38;5;241;43m*\u001b[39;49m\u001b[43mkwargs\u001b[49m\u001b[43m)\u001b[49m\n\u001b[0;32m   1529\u001b[0m \u001b[38;5;28;01mtry\u001b[39;00m:\n\u001b[0;32m   1530\u001b[0m     result \u001b[38;5;241m=\u001b[39m \u001b[38;5;28;01mNone\u001b[39;00m\n",
            "File \u001b[1;32mc:\\Users\\priot\\anaconda3\\envs\\computing\\Lib\\site-packages\\transformers\\models\\t5\\modeling_t5.py:1113\u001b[0m, in \u001b[0;36mT5Stack.forward\u001b[1;34m(self, input_ids, attention_mask, encoder_hidden_states, encoder_attention_mask, inputs_embeds, head_mask, cross_attn_head_mask, past_key_values, use_cache, output_attentions, output_hidden_states, return_dict)\u001b[0m\n\u001b[0;32m   1098\u001b[0m     layer_outputs \u001b[38;5;241m=\u001b[39m \u001b[38;5;28mself\u001b[39m\u001b[38;5;241m.\u001b[39m_gradient_checkpointing_func(\n\u001b[0;32m   1099\u001b[0m         layer_module\u001b[38;5;241m.\u001b[39mforward,\n\u001b[0;32m   1100\u001b[0m         hidden_states,\n\u001b[1;32m   (...)\u001b[0m\n\u001b[0;32m   1110\u001b[0m         output_attentions,\n\u001b[0;32m   1111\u001b[0m     )\n\u001b[0;32m   1112\u001b[0m \u001b[38;5;28;01melse\u001b[39;00m:\n\u001b[1;32m-> 1113\u001b[0m     layer_outputs \u001b[38;5;241m=\u001b[39m \u001b[43mlayer_module\u001b[49m\u001b[43m(\u001b[49m\n\u001b[0;32m   1114\u001b[0m \u001b[43m        \u001b[49m\u001b[43mhidden_states\u001b[49m\u001b[43m,\u001b[49m\n\u001b[0;32m   1115\u001b[0m \u001b[43m        \u001b[49m\u001b[43mattention_mask\u001b[49m\u001b[38;5;241;43m=\u001b[39;49m\u001b[43mextended_attention_mask\u001b[49m\u001b[43m,\u001b[49m\n\u001b[0;32m   1116\u001b[0m \u001b[43m        \u001b[49m\u001b[43mposition_bias\u001b[49m\u001b[38;5;241;43m=\u001b[39;49m\u001b[43mposition_bias\u001b[49m\u001b[43m,\u001b[49m\n\u001b[0;32m   1117\u001b[0m \u001b[43m        \u001b[49m\u001b[43mencoder_hidden_states\u001b[49m\u001b[38;5;241;43m=\u001b[39;49m\u001b[43mencoder_hidden_states\u001b[49m\u001b[43m,\u001b[49m\n\u001b[0;32m   1118\u001b[0m \u001b[43m        \u001b[49m\u001b[43mencoder_attention_mask\u001b[49m\u001b[38;5;241;43m=\u001b[39;49m\u001b[43mencoder_extended_attention_mask\u001b[49m\u001b[43m,\u001b[49m\n\u001b[0;32m   1119\u001b[0m \u001b[43m        \u001b[49m\u001b[43mencoder_decoder_position_bias\u001b[49m\u001b[38;5;241;43m=\u001b[39;49m\u001b[43mencoder_decoder_position_bias\u001b[49m\u001b[43m,\u001b[49m\n\u001b[0;32m   1120\u001b[0m \u001b[43m        \u001b[49m\u001b[43mlayer_head_mask\u001b[49m\u001b[38;5;241;43m=\u001b[39;49m\u001b[43mlayer_head_mask\u001b[49m\u001b[43m,\u001b[49m\n\u001b[0;32m   1121\u001b[0m \u001b[43m        \u001b[49m\u001b[43mcross_attn_layer_head_mask\u001b[49m\u001b[38;5;241;43m=\u001b[39;49m\u001b[43mcross_attn_layer_head_mask\u001b[49m\u001b[43m,\u001b[49m\n\u001b[0;32m   1122\u001b[0m \u001b[43m        \u001b[49m\u001b[43mpast_key_value\u001b[49m\u001b[38;5;241;43m=\u001b[39;49m\u001b[43mpast_key_value\u001b[49m\u001b[43m,\u001b[49m\n\u001b[0;32m   1123\u001b[0m \u001b[43m        \u001b[49m\u001b[43muse_cache\u001b[49m\u001b[38;5;241;43m=\u001b[39;49m\u001b[43muse_cache\u001b[49m\u001b[43m,\u001b[49m\n\u001b[0;32m   1124\u001b[0m \u001b[43m        \u001b[49m\u001b[43moutput_attentions\u001b[49m\u001b[38;5;241;43m=\u001b[39;49m\u001b[43moutput_attentions\u001b[49m\u001b[43m,\u001b[49m\n\u001b[0;32m   1125\u001b[0m \u001b[43m    \u001b[49m\u001b[43m)\u001b[49m\n\u001b[0;32m   1127\u001b[0m \u001b[38;5;66;03m# layer_outputs is a tuple with:\u001b[39;00m\n\u001b[0;32m   1128\u001b[0m \u001b[38;5;66;03m# hidden-states, key-value-states, (self-attention position bias), (self-attention weights), (cross-attention position bias), (cross-attention weights)\u001b[39;00m\n\u001b[0;32m   1129\u001b[0m \u001b[38;5;28;01mif\u001b[39;00m use_cache \u001b[38;5;129;01mis\u001b[39;00m \u001b[38;5;28;01mFalse\u001b[39;00m:\n",
            "File \u001b[1;32mc:\\Users\\priot\\anaconda3\\envs\\computing\\Lib\\site-packages\\torch\\nn\\modules\\module.py:1518\u001b[0m, in \u001b[0;36mModule._wrapped_call_impl\u001b[1;34m(self, *args, **kwargs)\u001b[0m\n\u001b[0;32m   1516\u001b[0m     \u001b[38;5;28;01mreturn\u001b[39;00m \u001b[38;5;28mself\u001b[39m\u001b[38;5;241m.\u001b[39m_compiled_call_impl(\u001b[38;5;241m*\u001b[39margs, \u001b[38;5;241m*\u001b[39m\u001b[38;5;241m*\u001b[39mkwargs)  \u001b[38;5;66;03m# type: ignore[misc]\u001b[39;00m\n\u001b[0;32m   1517\u001b[0m \u001b[38;5;28;01melse\u001b[39;00m:\n\u001b[1;32m-> 1518\u001b[0m     \u001b[38;5;28;01mreturn\u001b[39;00m \u001b[38;5;28;43mself\u001b[39;49m\u001b[38;5;241;43m.\u001b[39;49m\u001b[43m_call_impl\u001b[49m\u001b[43m(\u001b[49m\u001b[38;5;241;43m*\u001b[39;49m\u001b[43margs\u001b[49m\u001b[43m,\u001b[49m\u001b[43m \u001b[49m\u001b[38;5;241;43m*\u001b[39;49m\u001b[38;5;241;43m*\u001b[39;49m\u001b[43mkwargs\u001b[49m\u001b[43m)\u001b[49m\n",
            "File \u001b[1;32mc:\\Users\\priot\\anaconda3\\envs\\computing\\Lib\\site-packages\\torch\\nn\\modules\\module.py:1527\u001b[0m, in \u001b[0;36mModule._call_impl\u001b[1;34m(self, *args, **kwargs)\u001b[0m\n\u001b[0;32m   1522\u001b[0m \u001b[38;5;66;03m# If we don't have any hooks, we want to skip the rest of the logic in\u001b[39;00m\n\u001b[0;32m   1523\u001b[0m \u001b[38;5;66;03m# this function, and just call forward.\u001b[39;00m\n\u001b[0;32m   1524\u001b[0m \u001b[38;5;28;01mif\u001b[39;00m \u001b[38;5;129;01mnot\u001b[39;00m (\u001b[38;5;28mself\u001b[39m\u001b[38;5;241m.\u001b[39m_backward_hooks \u001b[38;5;129;01mor\u001b[39;00m \u001b[38;5;28mself\u001b[39m\u001b[38;5;241m.\u001b[39m_backward_pre_hooks \u001b[38;5;129;01mor\u001b[39;00m \u001b[38;5;28mself\u001b[39m\u001b[38;5;241m.\u001b[39m_forward_hooks \u001b[38;5;129;01mor\u001b[39;00m \u001b[38;5;28mself\u001b[39m\u001b[38;5;241m.\u001b[39m_forward_pre_hooks\n\u001b[0;32m   1525\u001b[0m         \u001b[38;5;129;01mor\u001b[39;00m _global_backward_pre_hooks \u001b[38;5;129;01mor\u001b[39;00m _global_backward_hooks\n\u001b[0;32m   1526\u001b[0m         \u001b[38;5;129;01mor\u001b[39;00m _global_forward_hooks \u001b[38;5;129;01mor\u001b[39;00m _global_forward_pre_hooks):\n\u001b[1;32m-> 1527\u001b[0m     \u001b[38;5;28;01mreturn\u001b[39;00m \u001b[43mforward_call\u001b[49m\u001b[43m(\u001b[49m\u001b[38;5;241;43m*\u001b[39;49m\u001b[43margs\u001b[49m\u001b[43m,\u001b[49m\u001b[43m \u001b[49m\u001b[38;5;241;43m*\u001b[39;49m\u001b[38;5;241;43m*\u001b[39;49m\u001b[43mkwargs\u001b[49m\u001b[43m)\u001b[49m\n\u001b[0;32m   1529\u001b[0m \u001b[38;5;28;01mtry\u001b[39;00m:\n\u001b[0;32m   1530\u001b[0m     result \u001b[38;5;241m=\u001b[39m \u001b[38;5;28;01mNone\u001b[39;00m\n",
            "File \u001b[1;32mc:\\Users\\priot\\anaconda3\\envs\\computing\\Lib\\site-packages\\transformers\\models\\t5\\modeling_t5.py:694\u001b[0m, in \u001b[0;36mT5Block.forward\u001b[1;34m(self, hidden_states, attention_mask, position_bias, encoder_hidden_states, encoder_attention_mask, encoder_decoder_position_bias, layer_head_mask, cross_attn_layer_head_mask, past_key_value, use_cache, output_attentions, return_dict)\u001b[0m\n\u001b[0;32m    691\u001b[0m \u001b[38;5;28;01melse\u001b[39;00m:\n\u001b[0;32m    692\u001b[0m     self_attn_past_key_value, cross_attn_past_key_value \u001b[38;5;241m=\u001b[39m \u001b[38;5;28;01mNone\u001b[39;00m, \u001b[38;5;28;01mNone\u001b[39;00m\n\u001b[1;32m--> 694\u001b[0m self_attention_outputs \u001b[38;5;241m=\u001b[39m \u001b[38;5;28;43mself\u001b[39;49m\u001b[38;5;241;43m.\u001b[39;49m\u001b[43mlayer\u001b[49m\u001b[43m[\u001b[49m\u001b[38;5;241;43m0\u001b[39;49m\u001b[43m]\u001b[49m\u001b[43m(\u001b[49m\n\u001b[0;32m    695\u001b[0m \u001b[43m    \u001b[49m\u001b[43mhidden_states\u001b[49m\u001b[43m,\u001b[49m\n\u001b[0;32m    696\u001b[0m \u001b[43m    \u001b[49m\u001b[43mattention_mask\u001b[49m\u001b[38;5;241;43m=\u001b[39;49m\u001b[43mattention_mask\u001b[49m\u001b[43m,\u001b[49m\n\u001b[0;32m    697\u001b[0m \u001b[43m    \u001b[49m\u001b[43mposition_bias\u001b[49m\u001b[38;5;241;43m=\u001b[39;49m\u001b[43mposition_bias\u001b[49m\u001b[43m,\u001b[49m\n\u001b[0;32m    698\u001b[0m \u001b[43m    \u001b[49m\u001b[43mlayer_head_mask\u001b[49m\u001b[38;5;241;43m=\u001b[39;49m\u001b[43mlayer_head_mask\u001b[49m\u001b[43m,\u001b[49m\n\u001b[0;32m    699\u001b[0m \u001b[43m    \u001b[49m\u001b[43mpast_key_value\u001b[49m\u001b[38;5;241;43m=\u001b[39;49m\u001b[43mself_attn_past_key_value\u001b[49m\u001b[43m,\u001b[49m\n\u001b[0;32m    700\u001b[0m \u001b[43m    \u001b[49m\u001b[43muse_cache\u001b[49m\u001b[38;5;241;43m=\u001b[39;49m\u001b[43muse_cache\u001b[49m\u001b[43m,\u001b[49m\n\u001b[0;32m    701\u001b[0m \u001b[43m    \u001b[49m\u001b[43moutput_attentions\u001b[49m\u001b[38;5;241;43m=\u001b[39;49m\u001b[43moutput_attentions\u001b[49m\u001b[43m,\u001b[49m\n\u001b[0;32m    702\u001b[0m \u001b[43m\u001b[49m\u001b[43m)\u001b[49m\n\u001b[0;32m    703\u001b[0m hidden_states, present_key_value_state \u001b[38;5;241m=\u001b[39m self_attention_outputs[:\u001b[38;5;241m2\u001b[39m]\n\u001b[0;32m    704\u001b[0m attention_outputs \u001b[38;5;241m=\u001b[39m self_attention_outputs[\u001b[38;5;241m2\u001b[39m:]  \u001b[38;5;66;03m# Keep self-attention outputs and relative position weights\u001b[39;00m\n",
            "File \u001b[1;32mc:\\Users\\priot\\anaconda3\\envs\\computing\\Lib\\site-packages\\torch\\nn\\modules\\module.py:1518\u001b[0m, in \u001b[0;36mModule._wrapped_call_impl\u001b[1;34m(self, *args, **kwargs)\u001b[0m\n\u001b[0;32m   1516\u001b[0m     \u001b[38;5;28;01mreturn\u001b[39;00m \u001b[38;5;28mself\u001b[39m\u001b[38;5;241m.\u001b[39m_compiled_call_impl(\u001b[38;5;241m*\u001b[39margs, \u001b[38;5;241m*\u001b[39m\u001b[38;5;241m*\u001b[39mkwargs)  \u001b[38;5;66;03m# type: ignore[misc]\u001b[39;00m\n\u001b[0;32m   1517\u001b[0m \u001b[38;5;28;01melse\u001b[39;00m:\n\u001b[1;32m-> 1518\u001b[0m     \u001b[38;5;28;01mreturn\u001b[39;00m \u001b[38;5;28;43mself\u001b[39;49m\u001b[38;5;241;43m.\u001b[39;49m\u001b[43m_call_impl\u001b[49m\u001b[43m(\u001b[49m\u001b[38;5;241;43m*\u001b[39;49m\u001b[43margs\u001b[49m\u001b[43m,\u001b[49m\u001b[43m \u001b[49m\u001b[38;5;241;43m*\u001b[39;49m\u001b[38;5;241;43m*\u001b[39;49m\u001b[43mkwargs\u001b[49m\u001b[43m)\u001b[49m\n",
            "File \u001b[1;32mc:\\Users\\priot\\anaconda3\\envs\\computing\\Lib\\site-packages\\torch\\nn\\modules\\module.py:1527\u001b[0m, in \u001b[0;36mModule._call_impl\u001b[1;34m(self, *args, **kwargs)\u001b[0m\n\u001b[0;32m   1522\u001b[0m \u001b[38;5;66;03m# If we don't have any hooks, we want to skip the rest of the logic in\u001b[39;00m\n\u001b[0;32m   1523\u001b[0m \u001b[38;5;66;03m# this function, and just call forward.\u001b[39;00m\n\u001b[0;32m   1524\u001b[0m \u001b[38;5;28;01mif\u001b[39;00m \u001b[38;5;129;01mnot\u001b[39;00m (\u001b[38;5;28mself\u001b[39m\u001b[38;5;241m.\u001b[39m_backward_hooks \u001b[38;5;129;01mor\u001b[39;00m \u001b[38;5;28mself\u001b[39m\u001b[38;5;241m.\u001b[39m_backward_pre_hooks \u001b[38;5;129;01mor\u001b[39;00m \u001b[38;5;28mself\u001b[39m\u001b[38;5;241m.\u001b[39m_forward_hooks \u001b[38;5;129;01mor\u001b[39;00m \u001b[38;5;28mself\u001b[39m\u001b[38;5;241m.\u001b[39m_forward_pre_hooks\n\u001b[0;32m   1525\u001b[0m         \u001b[38;5;129;01mor\u001b[39;00m _global_backward_pre_hooks \u001b[38;5;129;01mor\u001b[39;00m _global_backward_hooks\n\u001b[0;32m   1526\u001b[0m         \u001b[38;5;129;01mor\u001b[39;00m _global_forward_hooks \u001b[38;5;129;01mor\u001b[39;00m _global_forward_pre_hooks):\n\u001b[1;32m-> 1527\u001b[0m     \u001b[38;5;28;01mreturn\u001b[39;00m \u001b[43mforward_call\u001b[49m\u001b[43m(\u001b[49m\u001b[38;5;241;43m*\u001b[39;49m\u001b[43margs\u001b[49m\u001b[43m,\u001b[49m\u001b[43m \u001b[49m\u001b[38;5;241;43m*\u001b[39;49m\u001b[38;5;241;43m*\u001b[39;49m\u001b[43mkwargs\u001b[49m\u001b[43m)\u001b[49m\n\u001b[0;32m   1529\u001b[0m \u001b[38;5;28;01mtry\u001b[39;00m:\n\u001b[0;32m   1530\u001b[0m     result \u001b[38;5;241m=\u001b[39m \u001b[38;5;28;01mNone\u001b[39;00m\n",
            "File \u001b[1;32mc:\\Users\\priot\\anaconda3\\envs\\computing\\Lib\\site-packages\\transformers\\models\\t5\\modeling_t5.py:601\u001b[0m, in \u001b[0;36mT5LayerSelfAttention.forward\u001b[1;34m(self, hidden_states, attention_mask, position_bias, layer_head_mask, past_key_value, use_cache, output_attentions)\u001b[0m\n\u001b[0;32m    590\u001b[0m \u001b[38;5;28;01mdef\u001b[39;00m \u001b[38;5;21mforward\u001b[39m(\n\u001b[0;32m    591\u001b[0m     \u001b[38;5;28mself\u001b[39m,\n\u001b[0;32m    592\u001b[0m     hidden_states,\n\u001b[1;32m   (...)\u001b[0m\n\u001b[0;32m    598\u001b[0m     output_attentions\u001b[38;5;241m=\u001b[39m\u001b[38;5;28;01mFalse\u001b[39;00m,\n\u001b[0;32m    599\u001b[0m ):\n\u001b[0;32m    600\u001b[0m     normed_hidden_states \u001b[38;5;241m=\u001b[39m \u001b[38;5;28mself\u001b[39m\u001b[38;5;241m.\u001b[39mlayer_norm(hidden_states)\n\u001b[1;32m--> 601\u001b[0m     attention_output \u001b[38;5;241m=\u001b[39m \u001b[38;5;28;43mself\u001b[39;49m\u001b[38;5;241;43m.\u001b[39;49m\u001b[43mSelfAttention\u001b[49m\u001b[43m(\u001b[49m\n\u001b[0;32m    602\u001b[0m \u001b[43m        \u001b[49m\u001b[43mnormed_hidden_states\u001b[49m\u001b[43m,\u001b[49m\n\u001b[0;32m    603\u001b[0m \u001b[43m        \u001b[49m\u001b[43mmask\u001b[49m\u001b[38;5;241;43m=\u001b[39;49m\u001b[43mattention_mask\u001b[49m\u001b[43m,\u001b[49m\n\u001b[0;32m    604\u001b[0m \u001b[43m        \u001b[49m\u001b[43mposition_bias\u001b[49m\u001b[38;5;241;43m=\u001b[39;49m\u001b[43mposition_bias\u001b[49m\u001b[43m,\u001b[49m\n\u001b[0;32m    605\u001b[0m \u001b[43m        \u001b[49m\u001b[43mlayer_head_mask\u001b[49m\u001b[38;5;241;43m=\u001b[39;49m\u001b[43mlayer_head_mask\u001b[49m\u001b[43m,\u001b[49m\n\u001b[0;32m    606\u001b[0m \u001b[43m        \u001b[49m\u001b[43mpast_key_value\u001b[49m\u001b[38;5;241;43m=\u001b[39;49m\u001b[43mpast_key_value\u001b[49m\u001b[43m,\u001b[49m\n\u001b[0;32m    607\u001b[0m \u001b[43m        \u001b[49m\u001b[43muse_cache\u001b[49m\u001b[38;5;241;43m=\u001b[39;49m\u001b[43muse_cache\u001b[49m\u001b[43m,\u001b[49m\n\u001b[0;32m    608\u001b[0m \u001b[43m        \u001b[49m\u001b[43moutput_attentions\u001b[49m\u001b[38;5;241;43m=\u001b[39;49m\u001b[43moutput_attentions\u001b[49m\u001b[43m,\u001b[49m\n\u001b[0;32m    609\u001b[0m \u001b[43m    \u001b[49m\u001b[43m)\u001b[49m\n\u001b[0;32m    610\u001b[0m     hidden_states \u001b[38;5;241m=\u001b[39m hidden_states \u001b[38;5;241m+\u001b[39m \u001b[38;5;28mself\u001b[39m\u001b[38;5;241m.\u001b[39mdropout(attention_output[\u001b[38;5;241m0\u001b[39m])\n\u001b[0;32m    611\u001b[0m     outputs \u001b[38;5;241m=\u001b[39m (hidden_states,) \u001b[38;5;241m+\u001b[39m attention_output[\u001b[38;5;241m1\u001b[39m:]  \u001b[38;5;66;03m# add attentions if we output them\u001b[39;00m\n",
            "File \u001b[1;32mc:\\Users\\priot\\anaconda3\\envs\\computing\\Lib\\site-packages\\torch\\nn\\modules\\module.py:1518\u001b[0m, in \u001b[0;36mModule._wrapped_call_impl\u001b[1;34m(self, *args, **kwargs)\u001b[0m\n\u001b[0;32m   1516\u001b[0m     \u001b[38;5;28;01mreturn\u001b[39;00m \u001b[38;5;28mself\u001b[39m\u001b[38;5;241m.\u001b[39m_compiled_call_impl(\u001b[38;5;241m*\u001b[39margs, \u001b[38;5;241m*\u001b[39m\u001b[38;5;241m*\u001b[39mkwargs)  \u001b[38;5;66;03m# type: ignore[misc]\u001b[39;00m\n\u001b[0;32m   1517\u001b[0m \u001b[38;5;28;01melse\u001b[39;00m:\n\u001b[1;32m-> 1518\u001b[0m     \u001b[38;5;28;01mreturn\u001b[39;00m \u001b[38;5;28;43mself\u001b[39;49m\u001b[38;5;241;43m.\u001b[39;49m\u001b[43m_call_impl\u001b[49m\u001b[43m(\u001b[49m\u001b[38;5;241;43m*\u001b[39;49m\u001b[43margs\u001b[49m\u001b[43m,\u001b[49m\u001b[43m \u001b[49m\u001b[38;5;241;43m*\u001b[39;49m\u001b[38;5;241;43m*\u001b[39;49m\u001b[43mkwargs\u001b[49m\u001b[43m)\u001b[49m\n",
            "File \u001b[1;32mc:\\Users\\priot\\anaconda3\\envs\\computing\\Lib\\site-packages\\torch\\nn\\modules\\module.py:1527\u001b[0m, in \u001b[0;36mModule._call_impl\u001b[1;34m(self, *args, **kwargs)\u001b[0m\n\u001b[0;32m   1522\u001b[0m \u001b[38;5;66;03m# If we don't have any hooks, we want to skip the rest of the logic in\u001b[39;00m\n\u001b[0;32m   1523\u001b[0m \u001b[38;5;66;03m# this function, and just call forward.\u001b[39;00m\n\u001b[0;32m   1524\u001b[0m \u001b[38;5;28;01mif\u001b[39;00m \u001b[38;5;129;01mnot\u001b[39;00m (\u001b[38;5;28mself\u001b[39m\u001b[38;5;241m.\u001b[39m_backward_hooks \u001b[38;5;129;01mor\u001b[39;00m \u001b[38;5;28mself\u001b[39m\u001b[38;5;241m.\u001b[39m_backward_pre_hooks \u001b[38;5;129;01mor\u001b[39;00m \u001b[38;5;28mself\u001b[39m\u001b[38;5;241m.\u001b[39m_forward_hooks \u001b[38;5;129;01mor\u001b[39;00m \u001b[38;5;28mself\u001b[39m\u001b[38;5;241m.\u001b[39m_forward_pre_hooks\n\u001b[0;32m   1525\u001b[0m         \u001b[38;5;129;01mor\u001b[39;00m _global_backward_pre_hooks \u001b[38;5;129;01mor\u001b[39;00m _global_backward_hooks\n\u001b[0;32m   1526\u001b[0m         \u001b[38;5;129;01mor\u001b[39;00m _global_forward_hooks \u001b[38;5;129;01mor\u001b[39;00m _global_forward_pre_hooks):\n\u001b[1;32m-> 1527\u001b[0m     \u001b[38;5;28;01mreturn\u001b[39;00m \u001b[43mforward_call\u001b[49m\u001b[43m(\u001b[49m\u001b[38;5;241;43m*\u001b[39;49m\u001b[43margs\u001b[49m\u001b[43m,\u001b[49m\u001b[43m \u001b[49m\u001b[38;5;241;43m*\u001b[39;49m\u001b[38;5;241;43m*\u001b[39;49m\u001b[43mkwargs\u001b[49m\u001b[43m)\u001b[49m\n\u001b[0;32m   1529\u001b[0m \u001b[38;5;28;01mtry\u001b[39;00m:\n\u001b[0;32m   1530\u001b[0m     result \u001b[38;5;241m=\u001b[39m \u001b[38;5;28;01mNone\u001b[39;00m\n",
            "File \u001b[1;32mc:\\Users\\priot\\anaconda3\\envs\\computing\\Lib\\site-packages\\transformers\\models\\t5\\modeling_t5.py:520\u001b[0m, in \u001b[0;36mT5Attention.forward\u001b[1;34m(self, hidden_states, mask, key_value_states, position_bias, past_key_value, layer_head_mask, query_length, use_cache, output_attentions)\u001b[0m\n\u001b[0;32m    517\u001b[0m     \u001b[38;5;28;01mreturn\u001b[39;00m hidden_states\n\u001b[0;32m    519\u001b[0m \u001b[38;5;66;03m# get query states\u001b[39;00m\n\u001b[1;32m--> 520\u001b[0m query_states \u001b[38;5;241m=\u001b[39m shape(\u001b[38;5;28;43mself\u001b[39;49m\u001b[38;5;241;43m.\u001b[39;49m\u001b[43mq\u001b[49m\u001b[43m(\u001b[49m\u001b[43mhidden_states\u001b[49m\u001b[43m)\u001b[49m)  \u001b[38;5;66;03m# (batch_size, n_heads, seq_length, dim_per_head)\u001b[39;00m\n\u001b[0;32m    522\u001b[0m \u001b[38;5;66;03m# get key/value states\u001b[39;00m\n\u001b[0;32m    523\u001b[0m key_states \u001b[38;5;241m=\u001b[39m project(\n\u001b[0;32m    524\u001b[0m     hidden_states, \u001b[38;5;28mself\u001b[39m\u001b[38;5;241m.\u001b[39mk, key_value_states, past_key_value[\u001b[38;5;241m0\u001b[39m] \u001b[38;5;28;01mif\u001b[39;00m past_key_value \u001b[38;5;129;01mis\u001b[39;00m \u001b[38;5;129;01mnot\u001b[39;00m \u001b[38;5;28;01mNone\u001b[39;00m \u001b[38;5;28;01melse\u001b[39;00m \u001b[38;5;28;01mNone\u001b[39;00m\n\u001b[0;32m    525\u001b[0m )\n",
            "File \u001b[1;32mc:\\Users\\priot\\anaconda3\\envs\\computing\\Lib\\site-packages\\torch\\nn\\modules\\module.py:1518\u001b[0m, in \u001b[0;36mModule._wrapped_call_impl\u001b[1;34m(self, *args, **kwargs)\u001b[0m\n\u001b[0;32m   1516\u001b[0m     \u001b[38;5;28;01mreturn\u001b[39;00m \u001b[38;5;28mself\u001b[39m\u001b[38;5;241m.\u001b[39m_compiled_call_impl(\u001b[38;5;241m*\u001b[39margs, \u001b[38;5;241m*\u001b[39m\u001b[38;5;241m*\u001b[39mkwargs)  \u001b[38;5;66;03m# type: ignore[misc]\u001b[39;00m\n\u001b[0;32m   1517\u001b[0m \u001b[38;5;28;01melse\u001b[39;00m:\n\u001b[1;32m-> 1518\u001b[0m     \u001b[38;5;28;01mreturn\u001b[39;00m \u001b[38;5;28;43mself\u001b[39;49m\u001b[38;5;241;43m.\u001b[39;49m\u001b[43m_call_impl\u001b[49m\u001b[43m(\u001b[49m\u001b[38;5;241;43m*\u001b[39;49m\u001b[43margs\u001b[49m\u001b[43m,\u001b[49m\u001b[43m \u001b[49m\u001b[38;5;241;43m*\u001b[39;49m\u001b[38;5;241;43m*\u001b[39;49m\u001b[43mkwargs\u001b[49m\u001b[43m)\u001b[49m\n",
            "File \u001b[1;32mc:\\Users\\priot\\anaconda3\\envs\\computing\\Lib\\site-packages\\torch\\nn\\modules\\module.py:1527\u001b[0m, in \u001b[0;36mModule._call_impl\u001b[1;34m(self, *args, **kwargs)\u001b[0m\n\u001b[0;32m   1522\u001b[0m \u001b[38;5;66;03m# If we don't have any hooks, we want to skip the rest of the logic in\u001b[39;00m\n\u001b[0;32m   1523\u001b[0m \u001b[38;5;66;03m# this function, and just call forward.\u001b[39;00m\n\u001b[0;32m   1524\u001b[0m \u001b[38;5;28;01mif\u001b[39;00m \u001b[38;5;129;01mnot\u001b[39;00m (\u001b[38;5;28mself\u001b[39m\u001b[38;5;241m.\u001b[39m_backward_hooks \u001b[38;5;129;01mor\u001b[39;00m \u001b[38;5;28mself\u001b[39m\u001b[38;5;241m.\u001b[39m_backward_pre_hooks \u001b[38;5;129;01mor\u001b[39;00m \u001b[38;5;28mself\u001b[39m\u001b[38;5;241m.\u001b[39m_forward_hooks \u001b[38;5;129;01mor\u001b[39;00m \u001b[38;5;28mself\u001b[39m\u001b[38;5;241m.\u001b[39m_forward_pre_hooks\n\u001b[0;32m   1525\u001b[0m         \u001b[38;5;129;01mor\u001b[39;00m _global_backward_pre_hooks \u001b[38;5;129;01mor\u001b[39;00m _global_backward_hooks\n\u001b[0;32m   1526\u001b[0m         \u001b[38;5;129;01mor\u001b[39;00m _global_forward_hooks \u001b[38;5;129;01mor\u001b[39;00m _global_forward_pre_hooks):\n\u001b[1;32m-> 1527\u001b[0m     \u001b[38;5;28;01mreturn\u001b[39;00m \u001b[43mforward_call\u001b[49m\u001b[43m(\u001b[49m\u001b[38;5;241;43m*\u001b[39;49m\u001b[43margs\u001b[49m\u001b[43m,\u001b[49m\u001b[43m \u001b[49m\u001b[38;5;241;43m*\u001b[39;49m\u001b[38;5;241;43m*\u001b[39;49m\u001b[43mkwargs\u001b[49m\u001b[43m)\u001b[49m\n\u001b[0;32m   1529\u001b[0m \u001b[38;5;28;01mtry\u001b[39;00m:\n\u001b[0;32m   1530\u001b[0m     result \u001b[38;5;241m=\u001b[39m \u001b[38;5;28;01mNone\u001b[39;00m\n",
            "File \u001b[1;32mc:\\Users\\priot\\anaconda3\\envs\\computing\\Lib\\site-packages\\torch\\nn\\modules\\linear.py:114\u001b[0m, in \u001b[0;36mLinear.forward\u001b[1;34m(self, input)\u001b[0m\n\u001b[0;32m    113\u001b[0m \u001b[38;5;28;01mdef\u001b[39;00m \u001b[38;5;21mforward\u001b[39m(\u001b[38;5;28mself\u001b[39m, \u001b[38;5;28minput\u001b[39m: Tensor) \u001b[38;5;241m-\u001b[39m\u001b[38;5;241m>\u001b[39m Tensor:\n\u001b[1;32m--> 114\u001b[0m     \u001b[38;5;28;01mreturn\u001b[39;00m \u001b[43mF\u001b[49m\u001b[38;5;241;43m.\u001b[39;49m\u001b[43mlinear\u001b[49m\u001b[43m(\u001b[49m\u001b[38;5;28;43minput\u001b[39;49m\u001b[43m,\u001b[49m\u001b[43m \u001b[49m\u001b[38;5;28;43mself\u001b[39;49m\u001b[38;5;241;43m.\u001b[39;49m\u001b[43mweight\u001b[49m\u001b[43m,\u001b[49m\u001b[43m \u001b[49m\u001b[38;5;28;43mself\u001b[39;49m\u001b[38;5;241;43m.\u001b[39;49m\u001b[43mbias\u001b[49m\u001b[43m)\u001b[49m\n",
            "\u001b[1;31mRuntimeError\u001b[0m: CUDA error: CUBLAS_STATUS_NOT_INITIALIZED when calling `cublasCreate(handle)`"
          ]
        }
      ],
      "source": [
        "# Initialize our Trainer\n",
        "from transformers import Seq2SeqTrainer\n",
        "# Initialize the trainer\n",
        "\n",
        "data_collator = T2TDataCollator(t5_tokenizer)\n",
        "\n",
        "\n",
        "trainer = Seq2SeqTrainer(\n",
        "    model=t5,\n",
        "    args=training_args,\n",
        "    data_collator=data_collator,\n",
        "    train_dataset=encoded_squad[\"train\"]\n",
        ")\n",
        "\n",
        "# Start training\n",
        "trainer.train()"
      ]
    },
    {
      "cell_type": "code",
      "execution_count": null,
      "id": "8GDPeyPiBIEX",
      "metadata": {
        "id": "8GDPeyPiBIEX"
      },
      "outputs": [],
      "source": [
        "# trainer.train()"
      ]
    },
    {
      "cell_type": "markdown",
      "id": "1-gKhqSpu7Uz",
      "metadata": {
        "id": "1-gKhqSpu7Uz"
      },
      "source": [
        "#### ${\\color{red}{Comments\\ 3.2}}$\n",
        "\n",
        "${\\color{red}{⚠️Comments\\ begin⚠️}}$\n",
        "\n",
        "\n",
        "```\n",
        "cross-feedback comment section\n",
        "```\n",
        "\n",
        "\n",
        "${\\color{red}{⚠️Comments\\ end⚠️}}$"
      ]
    },
    {
      "cell_type": "markdown",
      "id": "AQ9jj65UvER1",
      "metadata": {
        "id": "AQ9jj65UvER1"
      },
      "source": [
        "### Subtask 3: Inference"
      ]
    },
    {
      "cell_type": "markdown",
      "id": "bkDgQponWOs4",
      "metadata": {
        "id": "bkDgQponWOs4"
      },
      "source": [
        "Our trained model has seen far too few instances to make a coherent prediction. To this end, we load an already trained checkpoint from Hugging Face and perform inference. Load this [model](https://huggingface.co/mrm8488/t5-base-finetuned-squadv2) and the respective tokenizer. Note that we are loading a `base` model that is slightly larger than `t5-small`."
      ]
    },
    {
      "cell_type": "code",
      "execution_count": null,
      "id": "lW8Wss36vV20",
      "metadata": {
        "colab": {
          "referenced_widgets": [
            "1e7647ae7eaa48d6bcb4bfc0961446a4"
          ]
        },
        "id": "lW8Wss36vV20",
        "outputId": "1e3a37c4-e23b-4bd9-8961-82c17594ecfa"
      },
      "outputs": [
        {
          "name": "stderr",
          "output_type": "stream",
          "text": [
            "The `xla_device` argument has been deprecated in v4.4.0 of Transformers. It is ignored and you can safely remove it from your `config.json` file.\n",
            "The `xla_device` argument has been deprecated in v4.4.0 of Transformers. It is ignored and you can safely remove it from your `config.json` file.\n",
            "You are using the default legacy behaviour of the <class 'transformers.models.t5.tokenization_t5.T5Tokenizer'>. This is expected, and simply means that the `legacy` (previous) behavior will be used so nothing changes for you. If you want to use the new behaviour, set `legacy=False`. This should only be set if you understand what it means, and thouroughly read the reason why this was added as explained in https://github.com/huggingface/transformers/pull/24565\n",
            "The `xla_device` argument has been deprecated in v4.4.0 of Transformers. It is ignored and you can safely remove it from your `config.json` file.\n",
            "The `xla_device` argument has been deprecated in v4.4.0 of Transformers. It is ignored and you can safely remove it from your `config.json` file.\n"
          ]
        },
        {
          "data": {
            "application/vnd.jupyter.widget-view+json": {
              "model_id": "1e7647ae7eaa48d6bcb4bfc0961446a4",
              "version_major": 2,
              "version_minor": 0
            },
            "text/plain": [
              "model.safetensors:   0%|          | 0.00/1.19G [00:00<?, ?B/s]"
            ]
          },
          "metadata": {},
          "output_type": "display_data"
        },
        {
          "name": "stderr",
          "output_type": "stream",
          "text": [
            "c:\\Users\\priot\\anaconda3\\envs\\computing\\Lib\\site-packages\\huggingface_hub\\file_download.py:147: UserWarning: `huggingface_hub` cache-system uses symlinks by default to efficiently store duplicated files but your machine does not support them in C:\\Users\\priot\\.cache\\huggingface\\hub. Caching files will still work but in a degraded version that might require more space on your disk. This warning can be disabled by setting the `HF_HUB_DISABLE_SYMLINKS_WARNING` environment variable. For more details, see https://huggingface.co/docs/huggingface_hub/how-to-cache#limitations.\n",
            "To support symlinks on Windows, you either need to activate Developer Mode or to run Python as an administrator. In order to see activate developer mode, see this article: https://docs.microsoft.com/en-us/windows/apps/get-started/enable-your-device-for-development\n",
            "  warnings.warn(message)\n"
          ]
        }
      ],
      "source": [
        "from transformers import AutoModelForSeq2SeqLM, AutoTokenizer\n",
        "### your code ###\n",
        "t5_tokenizer = AutoTokenizer.from_pretrained(\"mrm8488/t5-base-finetuned-squadv2\")\n",
        "t5_model = AutoModelForSeq2SeqLM.from_pretrained(\"mrm8488/t5-base-finetuned-squadv2\")\n",
        "### your code ###"
      ]
    },
    {
      "cell_type": "markdown",
      "id": "azC95xxzxj84",
      "metadata": {
        "id": "azC95xxzxj84"
      },
      "source": [
        "At inference time for T5, it is recommended to use the `generate()` function. This auto-regressively generates the decoder output. Complete the code for the `get_answer` function, which gives a model, a tokenizer, and a question and context pair, and generates the answer from the context given. The output should be the answer to the given question in natural text (without the special tokens).\n",
        "\n",
        "**Hint:** Many of the steps are similar to how you prepared your input data for the model."
      ]
    },
    {
      "cell_type": "code",
      "execution_count": null,
      "id": "_Run50fvWPcv",
      "metadata": {
        "id": "_Run50fvWPcv"
      },
      "outputs": [],
      "source": [
        "def get_answer(tokenizer,model, question, context):\n",
        "  ### your code ###\n",
        "  eos_token = \"</s>\"\n",
        "  input_text =f\"question:{question} context:{context} {eos_token}\"\n",
        "\n",
        "  print(input_text)\n",
        "\n",
        "  features = tokenizer(\n",
        "        input_text,\n",
        "        max_length=512,\n",
        "        padding=\"max_length\",\n",
        "        truncation=True,\n",
        "        return_tensors=\"pt\"\n",
        "    )\n",
        "\n",
        "\n",
        "  answer= model.generate(input_ids=features['input_ids'],\n",
        "               attention_mask=features['attention_mask'])\n",
        "\n",
        "  answer_text = tokenizer.decode(answer[0], skip_special_tokens=True)\n",
        "\n",
        "  ### your code ###\n",
        "  return answer_text"
      ]
    },
    {
      "cell_type": "markdown",
      "id": "F6Fq37I3yMeQ",
      "metadata": {
        "id": "F6Fq37I3yMeQ"
      },
      "source": [
        "Let's try it with an example."
      ]
    },
    {
      "cell_type": "code",
      "execution_count": null,
      "id": "09znSykkdkk0",
      "metadata": {
        "id": "09znSykkdkk0",
        "outputId": "5ad907fd-8730-4ef9-f73a-50204bbbc3ec"
      },
      "outputs": [
        {
          "name": "stdout",
          "output_type": "stream",
          "text": [
            "question:Who is supporting Sarah? context:Sarah has joined NLP for transformers class and is working on her research project with the support of Harry. </s>\n"
          ]
        },
        {
          "name": "stderr",
          "output_type": "stream",
          "text": [
            "c:\\Users\\priot\\anaconda3\\envs\\computing\\Lib\\site-packages\\transformers\\generation\\utils.py:1273: UserWarning: Using the model-agnostic default `max_length` (=20) to control the generation length. We recommend setting `max_new_tokens` to control the maximum length of the generation.\n",
            "  warnings.warn(\n"
          ]
        },
        {
          "data": {
            "text/plain": [
              "'Harry'"
            ]
          },
          "execution_count": 15,
          "metadata": {},
          "output_type": "execute_result"
        }
      ],
      "source": [
        "context = \"Sarah has joined NLP for transformers class and is working on her research project with the support of Harry.\"\n",
        "question = \"Who is supporting Sarah?\"\n",
        "\n",
        "get_answer(t5_tokenizer,t5_model,question, context)###your answer should be \"Harry\""
      ]
    },
    {
      "cell_type": "code",
      "execution_count": null,
      "id": "LQNpgTyazjge",
      "metadata": {
        "id": "LQNpgTyazjge",
        "outputId": "f083f2ac-b84d-4fd5-8ac9-80e6f7035652"
      },
      "outputs": [
        {
          "name": "stdout",
          "output_type": "stream",
          "text": [
            "question:What is better for machine learning projects? context:TPUs are more power efficient in comparison to GPUs making them a better choice for machine learning projects. </s>\n"
          ]
        },
        {
          "data": {
            "text/plain": [
              "'GPUs'"
            ]
          },
          "execution_count": 16,
          "metadata": {},
          "output_type": "execute_result"
        }
      ],
      "source": [
        "context = \"TPUs are more power efficient in comparison to GPUs making them a better choice for machine learning projects.\"\n",
        "question = \"What is better for machine learning projects?\"\n",
        "\n",
        "get_answer(t5_tokenizer,t5_model,question, context)###your answer should be \"TPUs\""
      ]
    },
    {
      "cell_type": "markdown",
      "id": "sIz0JuwzGEFN",
      "metadata": {
        "id": "sIz0JuwzGEFN"
      },
      "source": [
        "#### ${\\color{red}{Comments\\ 3.3}}$\n",
        "\n",
        "${\\color{red}{⚠️Comments\\ begin⚠️}}$\n",
        "\n",
        "\n",
        "```\n",
        "cross-feedback comment section\n",
        "```\n",
        "\n",
        "\n",
        "${\\color{red}{⚠️Comments\\ end⚠️}}$"
      ]
    },
    {
      "cell_type": "markdown",
      "id": "i9LfBp2eKqYc",
      "metadata": {
        "id": "i9LfBp2eKqYc"
      },
      "source": [
        "### Subtask 4: T5 Paper"
      ]
    },
    {
      "cell_type": "markdown",
      "id": "NRVp_0KaKvN4",
      "metadata": {
        "id": "NRVp_0KaKvN4"
      },
      "source": [
        "To answer questions of the final subtask you need to have a general overview of the [T5 paper](https://arxiv.org/pdf/1910.10683.pdf)."
      ]
    },
    {
      "cell_type": "markdown",
      "id": "EwoEHJ1eMSVr",
      "metadata": {
        "id": "EwoEHJ1eMSVr"
      },
      "source": [
        "\n",
        "\n",
        "1.   Describe what a “text-to-text format\" is and how T5 processes input and output for text classification tasks? What are the possible complications with a predefined set of classes?\n",
        "2.   Describe the \"masked language modeling\" and \"word dropout\" unsupervised objective with sentinel tokens. Give an example of how this would look in a single sentence.\n",
        "3. Explain \"fully-visible\", \"causal\" and \"causal masking with prefix\" masking.\n",
        "4. Briefly describe \"adapter layers\" and \"gradual unfreezing\" as methods for fine-tuning on fewer parameters.\n",
        "\n"
      ]
    },
    {
      "cell_type": "markdown",
      "id": "gIi_WZuvMWUb",
      "metadata": {
        "id": "gIi_WZuvMWUb"
      },
      "source": [
        "**Answer**\n",
        "\n",
        "\n",
        "1. Special tags are added to the input text (such as translate, cola, stsb, summarize) and the output is expected to contain the corresponding outcome after training. Complications may arise when trying to expand the capabilities of the model (i.e. addding more classes) or when classes overlap or there is a class imbalance in the training set.\n",
        "\n",
        "2. The masked language modeling, inspired by BERT, consists in masking certain tokens from the input sequence with a sentinel token (consecutive tokens are masked with a single sentinel token; this is done only as a way to reduce the computational cost of the pre-training) and then predicting them as outputs. The \"word dropout\" objective (Bowman et al., 2015) consists in randomly sampling and dropping 15% of the tokens in the input sequence.\n",
        "\n",
        "    Example (from paper):\n",
        "\n",
        "    Original Text:\n",
        "    Thank you for inviting me to your party last week.\n",
        "\n",
        "    Inputs (masking):\n",
        "    Thank you <X> me to your party <Y> week.\n",
        "\n",
        "    Targests:\n",
        "    <X> for inviting <Y> last <Z>\n",
        "\n",
        "\n",
        "3. Fully-visible masking: used for the encoder; self-attention attends to any entry of the input when producing its output.\n",
        "   Causal masking: used for the decoder; this type of masking prevents the model from \"seeing into the future\" i.e for producing the ith output, the model does not look at the jth input where j > i.\n",
        "   Causal masking with prefix: allows the self-attention mechanism to use fully-visible masking on a portoin of the input sequence (soft combination between fully visible and causal)\n",
        "\n",
        "\n",
        "4. Adaptive layers: after the preexisting feed-forward networks in the Tranformer architecture, add blocks of Linear(d,h) - Relu - Linear(h,d). Only these parameters are updated during fine-tuning.\n",
        "   \n",
        "   Gradual Unfreezing: starting from the top of the encoder and decoder (in parallel), gradually unfreeze layers during fine-tuning and move deeper in the network.\n"
      ]
    },
    {
      "cell_type": "markdown",
      "id": "WiYns91wr2P5",
      "metadata": {
        "id": "WiYns91wr2P5"
      },
      "source": [
        "#### ${\\color{red}{Comments\\ 3.4}}$\n",
        "\n",
        "${\\color{red}{⚠️Comments\\ begin⚠️}}$\n",
        "\n",
        "\n",
        "```\n",
        "cross-feedback comment section\n",
        "```\n",
        "\n",
        "\n",
        "${\\color{red}{⚠️Comments\\ end⚠️}}$"
      ]
    }
  ],
  "metadata": {
    "accelerator": "GPU",
    "colab": {
      "gpuType": "T4",
      "provenance": []
    },
    "kernelspec": {
      "display_name": "Python 3",
      "name": "python3"
    },
    "language_info": {
      "codemirror_mode": {
        "name": "ipython",
        "version": 3
      },
      "file_extension": ".py",
      "mimetype": "text/x-python",
      "name": "python",
      "nbconvert_exporter": "python",
      "pygments_lexer": "ipython3",
      "version": "3.11.5"
    },
    "widgets": {
      "application/vnd.jupyter.widget-state+json": {
        "24637a209ee54532952f0ead88722a08": {
          "model_module": "@jupyter-widgets/base",
          "model_module_version": "1.2.0",
          "model_name": "LayoutModel",
          "state": {
            "_model_module": "@jupyter-widgets/base",
            "_model_module_version": "1.2.0",
            "_model_name": "LayoutModel",
            "_view_count": null,
            "_view_module": "@jupyter-widgets/base",
            "_view_module_version": "1.2.0",
            "_view_name": "LayoutView",
            "align_content": null,
            "align_items": null,
            "align_self": null,
            "border": null,
            "bottom": null,
            "display": null,
            "flex": null,
            "flex_flow": null,
            "grid_area": null,
            "grid_auto_columns": null,
            "grid_auto_flow": null,
            "grid_auto_rows": null,
            "grid_column": null,
            "grid_gap": null,
            "grid_row": null,
            "grid_template_areas": null,
            "grid_template_columns": null,
            "grid_template_rows": null,
            "height": null,
            "justify_content": null,
            "justify_items": null,
            "left": null,
            "margin": null,
            "max_height": null,
            "max_width": null,
            "min_height": null,
            "min_width": null,
            "object_fit": null,
            "object_position": null,
            "order": null,
            "overflow": null,
            "overflow_x": null,
            "overflow_y": null,
            "padding": null,
            "right": null,
            "top": null,
            "visibility": null,
            "width": null
          }
        },
        "4abd760e66f74f039871e99f36c16a73": {
          "model_module": "@jupyter-widgets/base",
          "model_module_version": "1.2.0",
          "model_name": "LayoutModel",
          "state": {
            "_model_module": "@jupyter-widgets/base",
            "_model_module_version": "1.2.0",
            "_model_name": "LayoutModel",
            "_view_count": null,
            "_view_module": "@jupyter-widgets/base",
            "_view_module_version": "1.2.0",
            "_view_name": "LayoutView",
            "align_content": null,
            "align_items": null,
            "align_self": null,
            "border": null,
            "bottom": null,
            "display": null,
            "flex": null,
            "flex_flow": null,
            "grid_area": null,
            "grid_auto_columns": null,
            "grid_auto_flow": null,
            "grid_auto_rows": null,
            "grid_column": null,
            "grid_gap": null,
            "grid_row": null,
            "grid_template_areas": null,
            "grid_template_columns": null,
            "grid_template_rows": null,
            "height": null,
            "justify_content": null,
            "justify_items": null,
            "left": null,
            "margin": null,
            "max_height": null,
            "max_width": null,
            "min_height": null,
            "min_width": null,
            "object_fit": null,
            "object_position": null,
            "order": null,
            "overflow": null,
            "overflow_x": null,
            "overflow_y": null,
            "padding": null,
            "right": null,
            "top": null,
            "visibility": null,
            "width": null
          }
        },
        "4ec3753920304fa4a48943d72ec95768": {
          "model_module": "@jupyter-widgets/controls",
          "model_module_version": "1.5.0",
          "model_name": "DescriptionStyleModel",
          "state": {
            "_model_module": "@jupyter-widgets/controls",
            "_model_module_version": "1.5.0",
            "_model_name": "DescriptionStyleModel",
            "_view_count": null,
            "_view_module": "@jupyter-widgets/base",
            "_view_module_version": "1.2.0",
            "_view_name": "StyleView",
            "description_width": ""
          }
        },
        "a77a74e6ceff4a4f90113244585ed15c": {
          "model_module": "@jupyter-widgets/controls",
          "model_module_version": "1.5.0",
          "model_name": "FloatProgressModel",
          "state": {
            "_dom_classes": [],
            "_model_module": "@jupyter-widgets/controls",
            "_model_module_version": "1.5.0",
            "_model_name": "FloatProgressModel",
            "_view_count": null,
            "_view_module": "@jupyter-widgets/controls",
            "_view_module_version": "1.5.0",
            "_view_name": "ProgressView",
            "bar_style": "success",
            "description": "",
            "description_tooltip": null,
            "layout": "IPY_MODEL_24637a209ee54532952f0ead88722a08",
            "max": 4203,
            "min": 0,
            "orientation": "horizontal",
            "style": "IPY_MODEL_fc6c44a6ccd84f2cbafd1d58991e570a",
            "value": 4203
          }
        },
        "a781a630c4d24595829d2d5e15214221": {
          "model_module": "@jupyter-widgets/controls",
          "model_module_version": "1.5.0",
          "model_name": "HTMLModel",
          "state": {
            "_dom_classes": [],
            "_model_module": "@jupyter-widgets/controls",
            "_model_module_version": "1.5.0",
            "_model_name": "HTMLModel",
            "_view_count": null,
            "_view_module": "@jupyter-widgets/controls",
            "_view_module_version": "1.5.0",
            "_view_name": "HTMLView",
            "description": "",
            "description_tooltip": null,
            "layout": "IPY_MODEL_4abd760e66f74f039871e99f36c16a73",
            "placeholder": "​",
            "style": "IPY_MODEL_e2b599939c8245679baea8f78c9c637b",
            "value": "Downloading builder script: 100%"
          }
        },
        "af30cdf6e0c34e98b78970298a7f6eaf": {
          "model_module": "@jupyter-widgets/controls",
          "model_module_version": "1.5.0",
          "model_name": "HTMLModel",
          "state": {
            "_dom_classes": [],
            "_model_module": "@jupyter-widgets/controls",
            "_model_module_version": "1.5.0",
            "_model_name": "HTMLModel",
            "_view_count": null,
            "_view_module": "@jupyter-widgets/controls",
            "_view_module_version": "1.5.0",
            "_view_name": "HTMLView",
            "description": "",
            "description_tooltip": null,
            "layout": "IPY_MODEL_e0fa551b768348f7a4e0f374e0449073",
            "placeholder": "​",
            "style": "IPY_MODEL_4ec3753920304fa4a48943d72ec95768",
            "value": " 4.20k/4.20k [00:00&lt;00:00, 167kB/s]"
          }
        },
        "b70f102f96b24a7b8445ab8c31dc6522": {
          "model_module": "@jupyter-widgets/base",
          "model_module_version": "1.2.0",
          "model_name": "LayoutModel",
          "state": {
            "_model_module": "@jupyter-widgets/base",
            "_model_module_version": "1.2.0",
            "_model_name": "LayoutModel",
            "_view_count": null,
            "_view_module": "@jupyter-widgets/base",
            "_view_module_version": "1.2.0",
            "_view_name": "LayoutView",
            "align_content": null,
            "align_items": null,
            "align_self": null,
            "border": null,
            "bottom": null,
            "display": null,
            "flex": null,
            "flex_flow": null,
            "grid_area": null,
            "grid_auto_columns": null,
            "grid_auto_flow": null,
            "grid_auto_rows": null,
            "grid_column": null,
            "grid_gap": null,
            "grid_row": null,
            "grid_template_areas": null,
            "grid_template_columns": null,
            "grid_template_rows": null,
            "height": null,
            "justify_content": null,
            "justify_items": null,
            "left": null,
            "margin": null,
            "max_height": null,
            "max_width": null,
            "min_height": null,
            "min_width": null,
            "object_fit": null,
            "object_position": null,
            "order": null,
            "overflow": null,
            "overflow_x": null,
            "overflow_y": null,
            "padding": null,
            "right": null,
            "top": null,
            "visibility": null,
            "width": null
          }
        },
        "e0fa551b768348f7a4e0f374e0449073": {
          "model_module": "@jupyter-widgets/base",
          "model_module_version": "1.2.0",
          "model_name": "LayoutModel",
          "state": {
            "_model_module": "@jupyter-widgets/base",
            "_model_module_version": "1.2.0",
            "_model_name": "LayoutModel",
            "_view_count": null,
            "_view_module": "@jupyter-widgets/base",
            "_view_module_version": "1.2.0",
            "_view_name": "LayoutView",
            "align_content": null,
            "align_items": null,
            "align_self": null,
            "border": null,
            "bottom": null,
            "display": null,
            "flex": null,
            "flex_flow": null,
            "grid_area": null,
            "grid_auto_columns": null,
            "grid_auto_flow": null,
            "grid_auto_rows": null,
            "grid_column": null,
            "grid_gap": null,
            "grid_row": null,
            "grid_template_areas": null,
            "grid_template_columns": null,
            "grid_template_rows": null,
            "height": null,
            "justify_content": null,
            "justify_items": null,
            "left": null,
            "margin": null,
            "max_height": null,
            "max_width": null,
            "min_height": null,
            "min_width": null,
            "object_fit": null,
            "object_position": null,
            "order": null,
            "overflow": null,
            "overflow_x": null,
            "overflow_y": null,
            "padding": null,
            "right": null,
            "top": null,
            "visibility": null,
            "width": null
          }
        },
        "e2b599939c8245679baea8f78c9c637b": {
          "model_module": "@jupyter-widgets/controls",
          "model_module_version": "1.5.0",
          "model_name": "DescriptionStyleModel",
          "state": {
            "_model_module": "@jupyter-widgets/controls",
            "_model_module_version": "1.5.0",
            "_model_name": "DescriptionStyleModel",
            "_view_count": null,
            "_view_module": "@jupyter-widgets/base",
            "_view_module_version": "1.2.0",
            "_view_name": "StyleView",
            "description_width": ""
          }
        },
        "fb98e2b5fcfb4974b9f3871295412508": {
          "model_module": "@jupyter-widgets/controls",
          "model_module_version": "1.5.0",
          "model_name": "HBoxModel",
          "state": {
            "_dom_classes": [],
            "_model_module": "@jupyter-widgets/controls",
            "_model_module_version": "1.5.0",
            "_model_name": "HBoxModel",
            "_view_count": null,
            "_view_module": "@jupyter-widgets/controls",
            "_view_module_version": "1.5.0",
            "_view_name": "HBoxView",
            "box_style": "",
            "children": [
              "IPY_MODEL_a781a630c4d24595829d2d5e15214221",
              "IPY_MODEL_a77a74e6ceff4a4f90113244585ed15c",
              "IPY_MODEL_af30cdf6e0c34e98b78970298a7f6eaf"
            ],
            "layout": "IPY_MODEL_b70f102f96b24a7b8445ab8c31dc6522"
          }
        },
        "fc6c44a6ccd84f2cbafd1d58991e570a": {
          "model_module": "@jupyter-widgets/controls",
          "model_module_version": "1.5.0",
          "model_name": "ProgressStyleModel",
          "state": {
            "_model_module": "@jupyter-widgets/controls",
            "_model_module_version": "1.5.0",
            "_model_name": "ProgressStyleModel",
            "_view_count": null,
            "_view_module": "@jupyter-widgets/base",
            "_view_module_version": "1.2.0",
            "_view_name": "StyleView",
            "bar_color": null,
            "description_width": ""
          }
        }
      }
    }
  },
  "nbformat": 4,
  "nbformat_minor": 5
}
